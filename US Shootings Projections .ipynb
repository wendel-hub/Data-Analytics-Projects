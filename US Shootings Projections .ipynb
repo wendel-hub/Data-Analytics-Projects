{
 "cells": [
  {
   "cell_type": "code",
   "execution_count": 26,
   "metadata": {},
   "outputs": [],
   "source": [
    "import numpy as np # linear algebra\n",
    "import pandas as pd \n",
    "import matplotlib.pyplot as plt\n",
    "from statsmodels.tsa.arima_model import ARIMA\n",
    "import plotly.graph_objs as go\n",
    "import plotly.figure_factory as ff\n",
    "import plotly.express as px\n",
    "#import matplotlib.pyplot as plt\n",
    "import plotly.graph_objects as go\n",
    "from statsmodels.tsa.arima_model import ARIMA"
   ]
  },
  {
   "cell_type": "code",
   "execution_count": 27,
   "metadata": {},
   "outputs": [
    {
     "data": {
      "text/html": [
       "<div>\n",
       "<style scoped>\n",
       "    .dataframe tbody tr th:only-of-type {\n",
       "        vertical-align: middle;\n",
       "    }\n",
       "\n",
       "    .dataframe tbody tr th {\n",
       "        vertical-align: top;\n",
       "    }\n",
       "\n",
       "    .dataframe thead th {\n",
       "        text-align: right;\n",
       "    }\n",
       "</style>\n",
       "<table border=\"1\" class=\"dataframe\">\n",
       "  <thead>\n",
       "    <tr style=\"text-align: right;\">\n",
       "      <th></th>\n",
       "      <th>id</th>\n",
       "      <th>name</th>\n",
       "      <th>date</th>\n",
       "      <th>manner_of_death</th>\n",
       "      <th>armed</th>\n",
       "      <th>age</th>\n",
       "      <th>gender</th>\n",
       "      <th>race</th>\n",
       "      <th>city</th>\n",
       "      <th>state</th>\n",
       "      <th>signs_of_mental_illness</th>\n",
       "      <th>threat_level</th>\n",
       "      <th>flee</th>\n",
       "      <th>body_camera</th>\n",
       "      <th>arms_category</th>\n",
       "    </tr>\n",
       "  </thead>\n",
       "  <tbody>\n",
       "    <tr>\n",
       "      <th>0</th>\n",
       "      <td>3</td>\n",
       "      <td>Tim Elliot</td>\n",
       "      <td>2015-01-02</td>\n",
       "      <td>shot</td>\n",
       "      <td>gun</td>\n",
       "      <td>53.0</td>\n",
       "      <td>M</td>\n",
       "      <td>Asian</td>\n",
       "      <td>Shelton</td>\n",
       "      <td>WA</td>\n",
       "      <td>True</td>\n",
       "      <td>attack</td>\n",
       "      <td>Not fleeing</td>\n",
       "      <td>False</td>\n",
       "      <td>Guns</td>\n",
       "    </tr>\n",
       "    <tr>\n",
       "      <th>1</th>\n",
       "      <td>4</td>\n",
       "      <td>Lewis Lee Lembke</td>\n",
       "      <td>2015-01-02</td>\n",
       "      <td>shot</td>\n",
       "      <td>gun</td>\n",
       "      <td>47.0</td>\n",
       "      <td>M</td>\n",
       "      <td>White</td>\n",
       "      <td>Aloha</td>\n",
       "      <td>OR</td>\n",
       "      <td>False</td>\n",
       "      <td>attack</td>\n",
       "      <td>Not fleeing</td>\n",
       "      <td>False</td>\n",
       "      <td>Guns</td>\n",
       "    </tr>\n",
       "    <tr>\n",
       "      <th>2</th>\n",
       "      <td>5</td>\n",
       "      <td>John Paul Quintero</td>\n",
       "      <td>2015-01-03</td>\n",
       "      <td>shot and Tasered</td>\n",
       "      <td>unarmed</td>\n",
       "      <td>23.0</td>\n",
       "      <td>M</td>\n",
       "      <td>Hispanic</td>\n",
       "      <td>Wichita</td>\n",
       "      <td>KS</td>\n",
       "      <td>False</td>\n",
       "      <td>other</td>\n",
       "      <td>Not fleeing</td>\n",
       "      <td>False</td>\n",
       "      <td>Unarmed</td>\n",
       "    </tr>\n",
       "    <tr>\n",
       "      <th>3</th>\n",
       "      <td>8</td>\n",
       "      <td>Matthew Hoffman</td>\n",
       "      <td>2015-01-04</td>\n",
       "      <td>shot</td>\n",
       "      <td>toy weapon</td>\n",
       "      <td>32.0</td>\n",
       "      <td>M</td>\n",
       "      <td>White</td>\n",
       "      <td>San Francisco</td>\n",
       "      <td>CA</td>\n",
       "      <td>True</td>\n",
       "      <td>attack</td>\n",
       "      <td>Not fleeing</td>\n",
       "      <td>False</td>\n",
       "      <td>Other unusual objects</td>\n",
       "    </tr>\n",
       "    <tr>\n",
       "      <th>4</th>\n",
       "      <td>9</td>\n",
       "      <td>Michael Rodriguez</td>\n",
       "      <td>2015-01-04</td>\n",
       "      <td>shot</td>\n",
       "      <td>nail gun</td>\n",
       "      <td>39.0</td>\n",
       "      <td>M</td>\n",
       "      <td>Hispanic</td>\n",
       "      <td>Evans</td>\n",
       "      <td>CO</td>\n",
       "      <td>False</td>\n",
       "      <td>attack</td>\n",
       "      <td>Not fleeing</td>\n",
       "      <td>False</td>\n",
       "      <td>Piercing objects</td>\n",
       "    </tr>\n",
       "    <tr>\n",
       "      <th>5</th>\n",
       "      <td>11</td>\n",
       "      <td>Kenneth Joe Brown</td>\n",
       "      <td>2015-01-04</td>\n",
       "      <td>shot</td>\n",
       "      <td>gun</td>\n",
       "      <td>18.0</td>\n",
       "      <td>M</td>\n",
       "      <td>White</td>\n",
       "      <td>Guthrie</td>\n",
       "      <td>OK</td>\n",
       "      <td>False</td>\n",
       "      <td>attack</td>\n",
       "      <td>Not fleeing</td>\n",
       "      <td>False</td>\n",
       "      <td>Guns</td>\n",
       "    </tr>\n",
       "    <tr>\n",
       "      <th>6</th>\n",
       "      <td>13</td>\n",
       "      <td>Kenneth Arnold Buck</td>\n",
       "      <td>2015-01-05</td>\n",
       "      <td>shot</td>\n",
       "      <td>gun</td>\n",
       "      <td>22.0</td>\n",
       "      <td>M</td>\n",
       "      <td>Hispanic</td>\n",
       "      <td>Chandler</td>\n",
       "      <td>AZ</td>\n",
       "      <td>False</td>\n",
       "      <td>attack</td>\n",
       "      <td>Car</td>\n",
       "      <td>False</td>\n",
       "      <td>Guns</td>\n",
       "    </tr>\n",
       "    <tr>\n",
       "      <th>7</th>\n",
       "      <td>15</td>\n",
       "      <td>Brock Nichols</td>\n",
       "      <td>2015-01-06</td>\n",
       "      <td>shot</td>\n",
       "      <td>gun</td>\n",
       "      <td>35.0</td>\n",
       "      <td>M</td>\n",
       "      <td>White</td>\n",
       "      <td>Assaria</td>\n",
       "      <td>KS</td>\n",
       "      <td>False</td>\n",
       "      <td>attack</td>\n",
       "      <td>Not fleeing</td>\n",
       "      <td>False</td>\n",
       "      <td>Guns</td>\n",
       "    </tr>\n",
       "    <tr>\n",
       "      <th>8</th>\n",
       "      <td>16</td>\n",
       "      <td>Autumn Steele</td>\n",
       "      <td>2015-01-06</td>\n",
       "      <td>shot</td>\n",
       "      <td>unarmed</td>\n",
       "      <td>34.0</td>\n",
       "      <td>F</td>\n",
       "      <td>White</td>\n",
       "      <td>Burlington</td>\n",
       "      <td>IA</td>\n",
       "      <td>False</td>\n",
       "      <td>other</td>\n",
       "      <td>Not fleeing</td>\n",
       "      <td>True</td>\n",
       "      <td>Unarmed</td>\n",
       "    </tr>\n",
       "    <tr>\n",
       "      <th>9</th>\n",
       "      <td>17</td>\n",
       "      <td>Leslie Sapp III</td>\n",
       "      <td>2015-01-06</td>\n",
       "      <td>shot</td>\n",
       "      <td>toy weapon</td>\n",
       "      <td>47.0</td>\n",
       "      <td>M</td>\n",
       "      <td>Black</td>\n",
       "      <td>Knoxville</td>\n",
       "      <td>PA</td>\n",
       "      <td>False</td>\n",
       "      <td>attack</td>\n",
       "      <td>Not fleeing</td>\n",
       "      <td>False</td>\n",
       "      <td>Other unusual objects</td>\n",
       "    </tr>\n",
       "  </tbody>\n",
       "</table>\n",
       "</div>"
      ],
      "text/plain": [
       "   id                 name        date   manner_of_death       armed   age  \\\n",
       "0   3           Tim Elliot  2015-01-02              shot         gun  53.0   \n",
       "1   4     Lewis Lee Lembke  2015-01-02              shot         gun  47.0   \n",
       "2   5   John Paul Quintero  2015-01-03  shot and Tasered     unarmed  23.0   \n",
       "3   8      Matthew Hoffman  2015-01-04              shot  toy weapon  32.0   \n",
       "4   9    Michael Rodriguez  2015-01-04              shot    nail gun  39.0   \n",
       "5  11    Kenneth Joe Brown  2015-01-04              shot         gun  18.0   \n",
       "6  13  Kenneth Arnold Buck  2015-01-05              shot         gun  22.0   \n",
       "7  15        Brock Nichols  2015-01-06              shot         gun  35.0   \n",
       "8  16        Autumn Steele  2015-01-06              shot     unarmed  34.0   \n",
       "9  17      Leslie Sapp III  2015-01-06              shot  toy weapon  47.0   \n",
       "\n",
       "  gender      race           city state  signs_of_mental_illness threat_level  \\\n",
       "0      M     Asian        Shelton    WA                     True       attack   \n",
       "1      M     White          Aloha    OR                    False       attack   \n",
       "2      M  Hispanic        Wichita    KS                    False        other   \n",
       "3      M     White  San Francisco    CA                     True       attack   \n",
       "4      M  Hispanic          Evans    CO                    False       attack   \n",
       "5      M     White        Guthrie    OK                    False       attack   \n",
       "6      M  Hispanic       Chandler    AZ                    False       attack   \n",
       "7      M     White        Assaria    KS                    False       attack   \n",
       "8      F     White     Burlington    IA                    False        other   \n",
       "9      M     Black      Knoxville    PA                    False       attack   \n",
       "\n",
       "          flee  body_camera          arms_category  \n",
       "0  Not fleeing        False                   Guns  \n",
       "1  Not fleeing        False                   Guns  \n",
       "2  Not fleeing        False                Unarmed  \n",
       "3  Not fleeing        False  Other unusual objects  \n",
       "4  Not fleeing        False       Piercing objects  \n",
       "5  Not fleeing        False                   Guns  \n",
       "6          Car        False                   Guns  \n",
       "7  Not fleeing        False                   Guns  \n",
       "8  Not fleeing         True                Unarmed  \n",
       "9  Not fleeing        False  Other unusual objects  "
      ]
     },
     "execution_count": 27,
     "metadata": {},
     "output_type": "execute_result"
    }
   ],
   "source": [
    "\n",
    "df = pd.read_csv(r'C:\\Users\\SOLOMON\\Desktop\\wendel\\Kaggle\\US_Shootings.csv')\n",
    "df.head(10)\n"
   ]
  },
  {
   "cell_type": "code",
   "execution_count": 28,
   "metadata": {},
   "outputs": [
    {
     "name": "stdout",
     "output_type": "stream",
     "text": [
      "id 0.0%\n",
      "name 0.0%\n",
      "date 0.0%\n",
      "manner_of_death 0.0%\n",
      "armed 0.0%\n",
      "age 0.0%\n",
      "gender 0.0%\n",
      "race 0.0%\n",
      "city 0.0%\n",
      "state 0.0%\n",
      "signs_of_mental_illness 0.0%\n",
      "threat_level 0.0%\n",
      "flee 0.0%\n",
      "body_camera 0.0%\n",
      "arms_category 0.0%\n"
     ]
    }
   ],
   "source": [
    "\n",
    "#Check for nulls\n",
    "for col in df.columns:\n",
    "    print(col, str(round(100* df[col].isnull().sum() / len(df), 2)) + '%')"
   ]
  },
  {
   "cell_type": "code",
   "execution_count": 29,
   "metadata": {},
   "outputs": [],
   "source": [
    "#Feature Engineering\n",
    "df[\"date\"] = pd.to_datetime(df[\"date\"])\n",
    "df[\"weekday\"] = df[\"date\"].dt.weekday\n",
    "df['month'] = df['date'].dt.month\n",
    "df['month_day'] = df['date'].dt.day\n",
    "df['year'] = df['date'].dt.year"
   ]
  },
  {
   "cell_type": "code",
   "execution_count": 30,
   "metadata": {},
   "outputs": [
    {
     "data": {
      "text/html": [
       "<div>\n",
       "<style scoped>\n",
       "    .dataframe tbody tr th:only-of-type {\n",
       "        vertical-align: middle;\n",
       "    }\n",
       "\n",
       "    .dataframe tbody tr th {\n",
       "        vertical-align: top;\n",
       "    }\n",
       "\n",
       "    .dataframe thead th {\n",
       "        text-align: right;\n",
       "    }\n",
       "</style>\n",
       "<table border=\"1\" class=\"dataframe\">\n",
       "  <thead>\n",
       "    <tr style=\"text-align: right;\">\n",
       "      <th></th>\n",
       "      <th>id</th>\n",
       "      <th>name</th>\n",
       "      <th>date</th>\n",
       "      <th>manner_of_death</th>\n",
       "      <th>armed</th>\n",
       "      <th>age</th>\n",
       "      <th>gender</th>\n",
       "      <th>race</th>\n",
       "      <th>city</th>\n",
       "      <th>state</th>\n",
       "      <th>signs_of_mental_illness</th>\n",
       "      <th>threat_level</th>\n",
       "      <th>flee</th>\n",
       "      <th>body_camera</th>\n",
       "      <th>arms_category</th>\n",
       "      <th>weekday</th>\n",
       "      <th>month</th>\n",
       "      <th>month_day</th>\n",
       "      <th>year</th>\n",
       "    </tr>\n",
       "  </thead>\n",
       "  <tbody>\n",
       "    <tr>\n",
       "      <th>0</th>\n",
       "      <td>3</td>\n",
       "      <td>Tim Elliot</td>\n",
       "      <td>2015-01-02</td>\n",
       "      <td>shot</td>\n",
       "      <td>gun</td>\n",
       "      <td>53.0</td>\n",
       "      <td>M</td>\n",
       "      <td>Asian</td>\n",
       "      <td>Shelton</td>\n",
       "      <td>WA</td>\n",
       "      <td>True</td>\n",
       "      <td>attack</td>\n",
       "      <td>Not fleeing</td>\n",
       "      <td>False</td>\n",
       "      <td>Guns</td>\n",
       "      <td>4</td>\n",
       "      <td>1</td>\n",
       "      <td>2</td>\n",
       "      <td>2015</td>\n",
       "    </tr>\n",
       "    <tr>\n",
       "      <th>1</th>\n",
       "      <td>4</td>\n",
       "      <td>Lewis Lee Lembke</td>\n",
       "      <td>2015-01-02</td>\n",
       "      <td>shot</td>\n",
       "      <td>gun</td>\n",
       "      <td>47.0</td>\n",
       "      <td>M</td>\n",
       "      <td>White</td>\n",
       "      <td>Aloha</td>\n",
       "      <td>OR</td>\n",
       "      <td>False</td>\n",
       "      <td>attack</td>\n",
       "      <td>Not fleeing</td>\n",
       "      <td>False</td>\n",
       "      <td>Guns</td>\n",
       "      <td>4</td>\n",
       "      <td>1</td>\n",
       "      <td>2</td>\n",
       "      <td>2015</td>\n",
       "    </tr>\n",
       "    <tr>\n",
       "      <th>2</th>\n",
       "      <td>5</td>\n",
       "      <td>John Paul Quintero</td>\n",
       "      <td>2015-01-03</td>\n",
       "      <td>shot and Tasered</td>\n",
       "      <td>unarmed</td>\n",
       "      <td>23.0</td>\n",
       "      <td>M</td>\n",
       "      <td>Hispanic</td>\n",
       "      <td>Wichita</td>\n",
       "      <td>KS</td>\n",
       "      <td>False</td>\n",
       "      <td>other</td>\n",
       "      <td>Not fleeing</td>\n",
       "      <td>False</td>\n",
       "      <td>Unarmed</td>\n",
       "      <td>5</td>\n",
       "      <td>1</td>\n",
       "      <td>3</td>\n",
       "      <td>2015</td>\n",
       "    </tr>\n",
       "    <tr>\n",
       "      <th>3</th>\n",
       "      <td>8</td>\n",
       "      <td>Matthew Hoffman</td>\n",
       "      <td>2015-01-04</td>\n",
       "      <td>shot</td>\n",
       "      <td>toy weapon</td>\n",
       "      <td>32.0</td>\n",
       "      <td>M</td>\n",
       "      <td>White</td>\n",
       "      <td>San Francisco</td>\n",
       "      <td>CA</td>\n",
       "      <td>True</td>\n",
       "      <td>attack</td>\n",
       "      <td>Not fleeing</td>\n",
       "      <td>False</td>\n",
       "      <td>Other unusual objects</td>\n",
       "      <td>6</td>\n",
       "      <td>1</td>\n",
       "      <td>4</td>\n",
       "      <td>2015</td>\n",
       "    </tr>\n",
       "    <tr>\n",
       "      <th>4</th>\n",
       "      <td>9</td>\n",
       "      <td>Michael Rodriguez</td>\n",
       "      <td>2015-01-04</td>\n",
       "      <td>shot</td>\n",
       "      <td>nail gun</td>\n",
       "      <td>39.0</td>\n",
       "      <td>M</td>\n",
       "      <td>Hispanic</td>\n",
       "      <td>Evans</td>\n",
       "      <td>CO</td>\n",
       "      <td>False</td>\n",
       "      <td>attack</td>\n",
       "      <td>Not fleeing</td>\n",
       "      <td>False</td>\n",
       "      <td>Piercing objects</td>\n",
       "      <td>6</td>\n",
       "      <td>1</td>\n",
       "      <td>4</td>\n",
       "      <td>2015</td>\n",
       "    </tr>\n",
       "  </tbody>\n",
       "</table>\n",
       "</div>"
      ],
      "text/plain": [
       "   id                name       date   manner_of_death       armed   age  \\\n",
       "0   3          Tim Elliot 2015-01-02              shot         gun  53.0   \n",
       "1   4    Lewis Lee Lembke 2015-01-02              shot         gun  47.0   \n",
       "2   5  John Paul Quintero 2015-01-03  shot and Tasered     unarmed  23.0   \n",
       "3   8     Matthew Hoffman 2015-01-04              shot  toy weapon  32.0   \n",
       "4   9   Michael Rodriguez 2015-01-04              shot    nail gun  39.0   \n",
       "\n",
       "  gender      race           city state  signs_of_mental_illness threat_level  \\\n",
       "0      M     Asian        Shelton    WA                     True       attack   \n",
       "1      M     White          Aloha    OR                    False       attack   \n",
       "2      M  Hispanic        Wichita    KS                    False        other   \n",
       "3      M     White  San Francisco    CA                     True       attack   \n",
       "4      M  Hispanic          Evans    CO                    False       attack   \n",
       "\n",
       "          flee  body_camera          arms_category  weekday  month  month_day  \\\n",
       "0  Not fleeing        False                   Guns        4      1          2   \n",
       "1  Not fleeing        False                   Guns        4      1          2   \n",
       "2  Not fleeing        False                Unarmed        5      1          3   \n",
       "3  Not fleeing        False  Other unusual objects        6      1          4   \n",
       "4  Not fleeing        False       Piercing objects        6      1          4   \n",
       "\n",
       "   year  \n",
       "0  2015  \n",
       "1  2015  \n",
       "2  2015  \n",
       "3  2015  \n",
       "4  2015  "
      ]
     },
     "execution_count": 30,
     "metadata": {},
     "output_type": "execute_result"
    }
   ],
   "source": [
    "df.head()"
   ]
  },
  {
   "cell_type": "code",
   "execution_count": 45,
   "metadata": {},
   "outputs": [
    {
     "data": {
      "application/vnd.plotly.v1+json": {
       "config": {
        "plotlyServerURL": "https://plot.ly"
       },
       "data": [
        {
         "customdata": [
          [
           "blue"
          ],
          [
           "red"
          ]
         ],
         "domain": {
          "x": [
           0,
           1
          ],
          "y": [
           0,
           1
          ]
         },
         "hole": 0.2,
         "hovertemplate": "manner_of_death=%{label}<br>count=%{value}<br>color=%{customdata[0]}<extra></extra>",
         "labels": [
          "shot",
          "shot and Tasered"
         ],
         "legendgroup": "",
         "marker": {
          "colors": [
           "#636efa",
           "#EF553B"
          ]
         },
         "name": "",
         "showlegend": true,
         "type": "pie",
         "values": [
          4647,
          248
         ]
        }
       ],
       "layout": {
        "height": 400,
        "legend": {
         "tracegroupgap": 0
        },
        "template": {
         "data": {
          "bar": [
           {
            "error_x": {
             "color": "#2a3f5f"
            },
            "error_y": {
             "color": "#2a3f5f"
            },
            "marker": {
             "line": {
              "color": "#E5ECF6",
              "width": 0.5
             }
            },
            "type": "bar"
           }
          ],
          "barpolar": [
           {
            "marker": {
             "line": {
              "color": "#E5ECF6",
              "width": 0.5
             }
            },
            "type": "barpolar"
           }
          ],
          "carpet": [
           {
            "aaxis": {
             "endlinecolor": "#2a3f5f",
             "gridcolor": "white",
             "linecolor": "white",
             "minorgridcolor": "white",
             "startlinecolor": "#2a3f5f"
            },
            "baxis": {
             "endlinecolor": "#2a3f5f",
             "gridcolor": "white",
             "linecolor": "white",
             "minorgridcolor": "white",
             "startlinecolor": "#2a3f5f"
            },
            "type": "carpet"
           }
          ],
          "choropleth": [
           {
            "colorbar": {
             "outlinewidth": 0,
             "ticks": ""
            },
            "type": "choropleth"
           }
          ],
          "contour": [
           {
            "colorbar": {
             "outlinewidth": 0,
             "ticks": ""
            },
            "colorscale": [
             [
              0,
              "#0d0887"
             ],
             [
              0.1111111111111111,
              "#46039f"
             ],
             [
              0.2222222222222222,
              "#7201a8"
             ],
             [
              0.3333333333333333,
              "#9c179e"
             ],
             [
              0.4444444444444444,
              "#bd3786"
             ],
             [
              0.5555555555555556,
              "#d8576b"
             ],
             [
              0.6666666666666666,
              "#ed7953"
             ],
             [
              0.7777777777777778,
              "#fb9f3a"
             ],
             [
              0.8888888888888888,
              "#fdca26"
             ],
             [
              1,
              "#f0f921"
             ]
            ],
            "type": "contour"
           }
          ],
          "contourcarpet": [
           {
            "colorbar": {
             "outlinewidth": 0,
             "ticks": ""
            },
            "type": "contourcarpet"
           }
          ],
          "heatmap": [
           {
            "colorbar": {
             "outlinewidth": 0,
             "ticks": ""
            },
            "colorscale": [
             [
              0,
              "#0d0887"
             ],
             [
              0.1111111111111111,
              "#46039f"
             ],
             [
              0.2222222222222222,
              "#7201a8"
             ],
             [
              0.3333333333333333,
              "#9c179e"
             ],
             [
              0.4444444444444444,
              "#bd3786"
             ],
             [
              0.5555555555555556,
              "#d8576b"
             ],
             [
              0.6666666666666666,
              "#ed7953"
             ],
             [
              0.7777777777777778,
              "#fb9f3a"
             ],
             [
              0.8888888888888888,
              "#fdca26"
             ],
             [
              1,
              "#f0f921"
             ]
            ],
            "type": "heatmap"
           }
          ],
          "heatmapgl": [
           {
            "colorbar": {
             "outlinewidth": 0,
             "ticks": ""
            },
            "colorscale": [
             [
              0,
              "#0d0887"
             ],
             [
              0.1111111111111111,
              "#46039f"
             ],
             [
              0.2222222222222222,
              "#7201a8"
             ],
             [
              0.3333333333333333,
              "#9c179e"
             ],
             [
              0.4444444444444444,
              "#bd3786"
             ],
             [
              0.5555555555555556,
              "#d8576b"
             ],
             [
              0.6666666666666666,
              "#ed7953"
             ],
             [
              0.7777777777777778,
              "#fb9f3a"
             ],
             [
              0.8888888888888888,
              "#fdca26"
             ],
             [
              1,
              "#f0f921"
             ]
            ],
            "type": "heatmapgl"
           }
          ],
          "histogram": [
           {
            "marker": {
             "colorbar": {
              "outlinewidth": 0,
              "ticks": ""
             }
            },
            "type": "histogram"
           }
          ],
          "histogram2d": [
           {
            "colorbar": {
             "outlinewidth": 0,
             "ticks": ""
            },
            "colorscale": [
             [
              0,
              "#0d0887"
             ],
             [
              0.1111111111111111,
              "#46039f"
             ],
             [
              0.2222222222222222,
              "#7201a8"
             ],
             [
              0.3333333333333333,
              "#9c179e"
             ],
             [
              0.4444444444444444,
              "#bd3786"
             ],
             [
              0.5555555555555556,
              "#d8576b"
             ],
             [
              0.6666666666666666,
              "#ed7953"
             ],
             [
              0.7777777777777778,
              "#fb9f3a"
             ],
             [
              0.8888888888888888,
              "#fdca26"
             ],
             [
              1,
              "#f0f921"
             ]
            ],
            "type": "histogram2d"
           }
          ],
          "histogram2dcontour": [
           {
            "colorbar": {
             "outlinewidth": 0,
             "ticks": ""
            },
            "colorscale": [
             [
              0,
              "#0d0887"
             ],
             [
              0.1111111111111111,
              "#46039f"
             ],
             [
              0.2222222222222222,
              "#7201a8"
             ],
             [
              0.3333333333333333,
              "#9c179e"
             ],
             [
              0.4444444444444444,
              "#bd3786"
             ],
             [
              0.5555555555555556,
              "#d8576b"
             ],
             [
              0.6666666666666666,
              "#ed7953"
             ],
             [
              0.7777777777777778,
              "#fb9f3a"
             ],
             [
              0.8888888888888888,
              "#fdca26"
             ],
             [
              1,
              "#f0f921"
             ]
            ],
            "type": "histogram2dcontour"
           }
          ],
          "mesh3d": [
           {
            "colorbar": {
             "outlinewidth": 0,
             "ticks": ""
            },
            "type": "mesh3d"
           }
          ],
          "parcoords": [
           {
            "line": {
             "colorbar": {
              "outlinewidth": 0,
              "ticks": ""
             }
            },
            "type": "parcoords"
           }
          ],
          "pie": [
           {
            "automargin": true,
            "type": "pie"
           }
          ],
          "scatter": [
           {
            "marker": {
             "colorbar": {
              "outlinewidth": 0,
              "ticks": ""
             }
            },
            "type": "scatter"
           }
          ],
          "scatter3d": [
           {
            "line": {
             "colorbar": {
              "outlinewidth": 0,
              "ticks": ""
             }
            },
            "marker": {
             "colorbar": {
              "outlinewidth": 0,
              "ticks": ""
             }
            },
            "type": "scatter3d"
           }
          ],
          "scattercarpet": [
           {
            "marker": {
             "colorbar": {
              "outlinewidth": 0,
              "ticks": ""
             }
            },
            "type": "scattercarpet"
           }
          ],
          "scattergeo": [
           {
            "marker": {
             "colorbar": {
              "outlinewidth": 0,
              "ticks": ""
             }
            },
            "type": "scattergeo"
           }
          ],
          "scattergl": [
           {
            "marker": {
             "colorbar": {
              "outlinewidth": 0,
              "ticks": ""
             }
            },
            "type": "scattergl"
           }
          ],
          "scattermapbox": [
           {
            "marker": {
             "colorbar": {
              "outlinewidth": 0,
              "ticks": ""
             }
            },
            "type": "scattermapbox"
           }
          ],
          "scatterpolar": [
           {
            "marker": {
             "colorbar": {
              "outlinewidth": 0,
              "ticks": ""
             }
            },
            "type": "scatterpolar"
           }
          ],
          "scatterpolargl": [
           {
            "marker": {
             "colorbar": {
              "outlinewidth": 0,
              "ticks": ""
             }
            },
            "type": "scatterpolargl"
           }
          ],
          "scatterternary": [
           {
            "marker": {
             "colorbar": {
              "outlinewidth": 0,
              "ticks": ""
             }
            },
            "type": "scatterternary"
           }
          ],
          "surface": [
           {
            "colorbar": {
             "outlinewidth": 0,
             "ticks": ""
            },
            "colorscale": [
             [
              0,
              "#0d0887"
             ],
             [
              0.1111111111111111,
              "#46039f"
             ],
             [
              0.2222222222222222,
              "#7201a8"
             ],
             [
              0.3333333333333333,
              "#9c179e"
             ],
             [
              0.4444444444444444,
              "#bd3786"
             ],
             [
              0.5555555555555556,
              "#d8576b"
             ],
             [
              0.6666666666666666,
              "#ed7953"
             ],
             [
              0.7777777777777778,
              "#fb9f3a"
             ],
             [
              0.8888888888888888,
              "#fdca26"
             ],
             [
              1,
              "#f0f921"
             ]
            ],
            "type": "surface"
           }
          ],
          "table": [
           {
            "cells": {
             "fill": {
              "color": "#EBF0F8"
             },
             "line": {
              "color": "white"
             }
            },
            "header": {
             "fill": {
              "color": "#C8D4E3"
             },
             "line": {
              "color": "white"
             }
            },
            "type": "table"
           }
          ]
         },
         "layout": {
          "annotationdefaults": {
           "arrowcolor": "#2a3f5f",
           "arrowhead": 0,
           "arrowwidth": 1
          },
          "coloraxis": {
           "colorbar": {
            "outlinewidth": 0,
            "ticks": ""
           }
          },
          "colorscale": {
           "diverging": [
            [
             0,
             "#8e0152"
            ],
            [
             0.1,
             "#c51b7d"
            ],
            [
             0.2,
             "#de77ae"
            ],
            [
             0.3,
             "#f1b6da"
            ],
            [
             0.4,
             "#fde0ef"
            ],
            [
             0.5,
             "#f7f7f7"
            ],
            [
             0.6,
             "#e6f5d0"
            ],
            [
             0.7,
             "#b8e186"
            ],
            [
             0.8,
             "#7fbc41"
            ],
            [
             0.9,
             "#4d9221"
            ],
            [
             1,
             "#276419"
            ]
           ],
           "sequential": [
            [
             0,
             "#0d0887"
            ],
            [
             0.1111111111111111,
             "#46039f"
            ],
            [
             0.2222222222222222,
             "#7201a8"
            ],
            [
             0.3333333333333333,
             "#9c179e"
            ],
            [
             0.4444444444444444,
             "#bd3786"
            ],
            [
             0.5555555555555556,
             "#d8576b"
            ],
            [
             0.6666666666666666,
             "#ed7953"
            ],
            [
             0.7777777777777778,
             "#fb9f3a"
            ],
            [
             0.8888888888888888,
             "#fdca26"
            ],
            [
             1,
             "#f0f921"
            ]
           ],
           "sequentialminus": [
            [
             0,
             "#0d0887"
            ],
            [
             0.1111111111111111,
             "#46039f"
            ],
            [
             0.2222222222222222,
             "#7201a8"
            ],
            [
             0.3333333333333333,
             "#9c179e"
            ],
            [
             0.4444444444444444,
             "#bd3786"
            ],
            [
             0.5555555555555556,
             "#d8576b"
            ],
            [
             0.6666666666666666,
             "#ed7953"
            ],
            [
             0.7777777777777778,
             "#fb9f3a"
            ],
            [
             0.8888888888888888,
             "#fdca26"
            ],
            [
             1,
             "#f0f921"
            ]
           ]
          },
          "colorway": [
           "#636efa",
           "#EF553B",
           "#00cc96",
           "#ab63fa",
           "#FFA15A",
           "#19d3f3",
           "#FF6692",
           "#B6E880",
           "#FF97FF",
           "#FECB52"
          ],
          "font": {
           "color": "#2a3f5f"
          },
          "geo": {
           "bgcolor": "white",
           "lakecolor": "white",
           "landcolor": "#E5ECF6",
           "showlakes": true,
           "showland": true,
           "subunitcolor": "white"
          },
          "hoverlabel": {
           "align": "left"
          },
          "hovermode": "closest",
          "mapbox": {
           "style": "light"
          },
          "paper_bgcolor": "white",
          "plot_bgcolor": "#E5ECF6",
          "polar": {
           "angularaxis": {
            "gridcolor": "white",
            "linecolor": "white",
            "ticks": ""
           },
           "bgcolor": "#E5ECF6",
           "radialaxis": {
            "gridcolor": "white",
            "linecolor": "white",
            "ticks": ""
           }
          },
          "scene": {
           "xaxis": {
            "backgroundcolor": "#E5ECF6",
            "gridcolor": "white",
            "gridwidth": 2,
            "linecolor": "white",
            "showbackground": true,
            "ticks": "",
            "zerolinecolor": "white"
           },
           "yaxis": {
            "backgroundcolor": "#E5ECF6",
            "gridcolor": "white",
            "gridwidth": 2,
            "linecolor": "white",
            "showbackground": true,
            "ticks": "",
            "zerolinecolor": "white"
           },
           "zaxis": {
            "backgroundcolor": "#E5ECF6",
            "gridcolor": "white",
            "gridwidth": 2,
            "linecolor": "white",
            "showbackground": true,
            "ticks": "",
            "zerolinecolor": "white"
           }
          },
          "shapedefaults": {
           "line": {
            "color": "#2a3f5f"
           }
          },
          "ternary": {
           "aaxis": {
            "gridcolor": "white",
            "linecolor": "white",
            "ticks": ""
           },
           "baxis": {
            "gridcolor": "white",
            "linecolor": "white",
            "ticks": ""
           },
           "bgcolor": "#E5ECF6",
           "caxis": {
            "gridcolor": "white",
            "linecolor": "white",
            "ticks": ""
           }
          },
          "title": {
           "x": 0.05
          },
          "xaxis": {
           "automargin": true,
           "gridcolor": "white",
           "linecolor": "white",
           "ticks": "",
           "title": {
            "standoff": 15
           },
           "zerolinecolor": "white",
           "zerolinewidth": 2
          },
          "yaxis": {
           "automargin": true,
           "gridcolor": "white",
           "linecolor": "white",
           "ticks": "",
           "title": {
            "standoff": 15
           },
           "zerolinecolor": "white",
           "zerolinewidth": 2
          }
         }
        },
        "title": {
         "text": "Manner of death"
        },
        "width": 500
       }
      },
      "text/html": [
       "<div>\n",
       "        \n",
       "        \n",
       "            <div id=\"e0f01e87-725f-460f-bd72-731aa4b2f6a7\" class=\"plotly-graph-div\" style=\"height:400px; width:500px;\"></div>\n",
       "            <script type=\"text/javascript\">\n",
       "                require([\"plotly\"], function(Plotly) {\n",
       "                    window.PLOTLYENV=window.PLOTLYENV || {};\n",
       "                    \n",
       "                if (document.getElementById(\"e0f01e87-725f-460f-bd72-731aa4b2f6a7\")) {\n",
       "                    Plotly.newPlot(\n",
       "                        'e0f01e87-725f-460f-bd72-731aa4b2f6a7',\n",
       "                        [{\"customdata\": [[\"blue\"], [\"red\"]], \"domain\": {\"x\": [0.0, 1.0], \"y\": [0.0, 1.0]}, \"hole\": 0.2, \"hovertemplate\": \"manner_of_death=%{label}<br>count=%{value}<br>color=%{customdata[0]}<extra></extra>\", \"labels\": [\"shot\", \"shot and Tasered\"], \"legendgroup\": \"\", \"marker\": {\"colors\": [\"#636efa\", \"#EF553B\"]}, \"name\": \"\", \"showlegend\": true, \"type\": \"pie\", \"values\": [4647, 248]}],\n",
       "                        {\"height\": 400, \"legend\": {\"tracegroupgap\": 0}, \"template\": {\"data\": {\"bar\": [{\"error_x\": {\"color\": \"#2a3f5f\"}, \"error_y\": {\"color\": \"#2a3f5f\"}, \"marker\": {\"line\": {\"color\": \"#E5ECF6\", \"width\": 0.5}}, \"type\": \"bar\"}], \"barpolar\": [{\"marker\": {\"line\": {\"color\": \"#E5ECF6\", \"width\": 0.5}}, \"type\": \"barpolar\"}], \"carpet\": [{\"aaxis\": {\"endlinecolor\": \"#2a3f5f\", \"gridcolor\": \"white\", \"linecolor\": \"white\", \"minorgridcolor\": \"white\", \"startlinecolor\": \"#2a3f5f\"}, \"baxis\": {\"endlinecolor\": \"#2a3f5f\", \"gridcolor\": \"white\", \"linecolor\": \"white\", \"minorgridcolor\": \"white\", \"startlinecolor\": \"#2a3f5f\"}, \"type\": \"carpet\"}], \"choropleth\": [{\"colorbar\": {\"outlinewidth\": 0, \"ticks\": \"\"}, \"type\": \"choropleth\"}], \"contour\": [{\"colorbar\": {\"outlinewidth\": 0, \"ticks\": \"\"}, \"colorscale\": [[0.0, \"#0d0887\"], [0.1111111111111111, \"#46039f\"], [0.2222222222222222, \"#7201a8\"], [0.3333333333333333, \"#9c179e\"], [0.4444444444444444, \"#bd3786\"], [0.5555555555555556, \"#d8576b\"], [0.6666666666666666, \"#ed7953\"], [0.7777777777777778, \"#fb9f3a\"], [0.8888888888888888, \"#fdca26\"], [1.0, \"#f0f921\"]], \"type\": \"contour\"}], \"contourcarpet\": [{\"colorbar\": {\"outlinewidth\": 0, \"ticks\": \"\"}, \"type\": \"contourcarpet\"}], \"heatmap\": [{\"colorbar\": {\"outlinewidth\": 0, \"ticks\": \"\"}, \"colorscale\": [[0.0, \"#0d0887\"], [0.1111111111111111, \"#46039f\"], [0.2222222222222222, \"#7201a8\"], [0.3333333333333333, \"#9c179e\"], [0.4444444444444444, \"#bd3786\"], [0.5555555555555556, \"#d8576b\"], [0.6666666666666666, \"#ed7953\"], [0.7777777777777778, \"#fb9f3a\"], [0.8888888888888888, \"#fdca26\"], [1.0, \"#f0f921\"]], \"type\": \"heatmap\"}], \"heatmapgl\": [{\"colorbar\": {\"outlinewidth\": 0, \"ticks\": \"\"}, \"colorscale\": [[0.0, \"#0d0887\"], [0.1111111111111111, \"#46039f\"], [0.2222222222222222, \"#7201a8\"], [0.3333333333333333, \"#9c179e\"], [0.4444444444444444, \"#bd3786\"], [0.5555555555555556, \"#d8576b\"], [0.6666666666666666, \"#ed7953\"], [0.7777777777777778, \"#fb9f3a\"], [0.8888888888888888, \"#fdca26\"], [1.0, \"#f0f921\"]], \"type\": \"heatmapgl\"}], \"histogram\": [{\"marker\": {\"colorbar\": {\"outlinewidth\": 0, \"ticks\": \"\"}}, \"type\": \"histogram\"}], \"histogram2d\": [{\"colorbar\": {\"outlinewidth\": 0, \"ticks\": \"\"}, \"colorscale\": [[0.0, \"#0d0887\"], [0.1111111111111111, \"#46039f\"], [0.2222222222222222, \"#7201a8\"], [0.3333333333333333, \"#9c179e\"], [0.4444444444444444, \"#bd3786\"], [0.5555555555555556, \"#d8576b\"], [0.6666666666666666, \"#ed7953\"], [0.7777777777777778, \"#fb9f3a\"], [0.8888888888888888, \"#fdca26\"], [1.0, \"#f0f921\"]], \"type\": \"histogram2d\"}], \"histogram2dcontour\": [{\"colorbar\": {\"outlinewidth\": 0, \"ticks\": \"\"}, \"colorscale\": [[0.0, \"#0d0887\"], [0.1111111111111111, \"#46039f\"], [0.2222222222222222, \"#7201a8\"], [0.3333333333333333, \"#9c179e\"], [0.4444444444444444, \"#bd3786\"], [0.5555555555555556, \"#d8576b\"], [0.6666666666666666, \"#ed7953\"], [0.7777777777777778, \"#fb9f3a\"], [0.8888888888888888, \"#fdca26\"], [1.0, \"#f0f921\"]], \"type\": \"histogram2dcontour\"}], \"mesh3d\": [{\"colorbar\": {\"outlinewidth\": 0, \"ticks\": \"\"}, \"type\": \"mesh3d\"}], \"parcoords\": [{\"line\": {\"colorbar\": {\"outlinewidth\": 0, \"ticks\": \"\"}}, \"type\": \"parcoords\"}], \"pie\": [{\"automargin\": true, \"type\": \"pie\"}], \"scatter\": [{\"marker\": {\"colorbar\": {\"outlinewidth\": 0, \"ticks\": \"\"}}, \"type\": \"scatter\"}], \"scatter3d\": [{\"line\": {\"colorbar\": {\"outlinewidth\": 0, \"ticks\": \"\"}}, \"marker\": {\"colorbar\": {\"outlinewidth\": 0, \"ticks\": \"\"}}, \"type\": \"scatter3d\"}], \"scattercarpet\": [{\"marker\": {\"colorbar\": {\"outlinewidth\": 0, \"ticks\": \"\"}}, \"type\": \"scattercarpet\"}], \"scattergeo\": [{\"marker\": {\"colorbar\": {\"outlinewidth\": 0, \"ticks\": \"\"}}, \"type\": \"scattergeo\"}], \"scattergl\": [{\"marker\": {\"colorbar\": {\"outlinewidth\": 0, \"ticks\": \"\"}}, \"type\": \"scattergl\"}], \"scattermapbox\": [{\"marker\": {\"colorbar\": {\"outlinewidth\": 0, \"ticks\": \"\"}}, \"type\": \"scattermapbox\"}], \"scatterpolar\": [{\"marker\": {\"colorbar\": {\"outlinewidth\": 0, \"ticks\": \"\"}}, \"type\": \"scatterpolar\"}], \"scatterpolargl\": [{\"marker\": {\"colorbar\": {\"outlinewidth\": 0, \"ticks\": \"\"}}, \"type\": \"scatterpolargl\"}], \"scatterternary\": [{\"marker\": {\"colorbar\": {\"outlinewidth\": 0, \"ticks\": \"\"}}, \"type\": \"scatterternary\"}], \"surface\": [{\"colorbar\": {\"outlinewidth\": 0, \"ticks\": \"\"}, \"colorscale\": [[0.0, \"#0d0887\"], [0.1111111111111111, \"#46039f\"], [0.2222222222222222, \"#7201a8\"], [0.3333333333333333, \"#9c179e\"], [0.4444444444444444, \"#bd3786\"], [0.5555555555555556, \"#d8576b\"], [0.6666666666666666, \"#ed7953\"], [0.7777777777777778, \"#fb9f3a\"], [0.8888888888888888, \"#fdca26\"], [1.0, \"#f0f921\"]], \"type\": \"surface\"}], \"table\": [{\"cells\": {\"fill\": {\"color\": \"#EBF0F8\"}, \"line\": {\"color\": \"white\"}}, \"header\": {\"fill\": {\"color\": \"#C8D4E3\"}, \"line\": {\"color\": \"white\"}}, \"type\": \"table\"}]}, \"layout\": {\"annotationdefaults\": {\"arrowcolor\": \"#2a3f5f\", \"arrowhead\": 0, \"arrowwidth\": 1}, \"coloraxis\": {\"colorbar\": {\"outlinewidth\": 0, \"ticks\": \"\"}}, \"colorscale\": {\"diverging\": [[0, \"#8e0152\"], [0.1, \"#c51b7d\"], [0.2, \"#de77ae\"], [0.3, \"#f1b6da\"], [0.4, \"#fde0ef\"], [0.5, \"#f7f7f7\"], [0.6, \"#e6f5d0\"], [0.7, \"#b8e186\"], [0.8, \"#7fbc41\"], [0.9, \"#4d9221\"], [1, \"#276419\"]], \"sequential\": [[0.0, \"#0d0887\"], [0.1111111111111111, \"#46039f\"], [0.2222222222222222, \"#7201a8\"], [0.3333333333333333, \"#9c179e\"], [0.4444444444444444, \"#bd3786\"], [0.5555555555555556, \"#d8576b\"], [0.6666666666666666, \"#ed7953\"], [0.7777777777777778, \"#fb9f3a\"], [0.8888888888888888, \"#fdca26\"], [1.0, \"#f0f921\"]], \"sequentialminus\": [[0.0, \"#0d0887\"], [0.1111111111111111, \"#46039f\"], [0.2222222222222222, \"#7201a8\"], [0.3333333333333333, \"#9c179e\"], [0.4444444444444444, \"#bd3786\"], [0.5555555555555556, \"#d8576b\"], [0.6666666666666666, \"#ed7953\"], [0.7777777777777778, \"#fb9f3a\"], [0.8888888888888888, \"#fdca26\"], [1.0, \"#f0f921\"]]}, \"colorway\": [\"#636efa\", \"#EF553B\", \"#00cc96\", \"#ab63fa\", \"#FFA15A\", \"#19d3f3\", \"#FF6692\", \"#B6E880\", \"#FF97FF\", \"#FECB52\"], \"font\": {\"color\": \"#2a3f5f\"}, \"geo\": {\"bgcolor\": \"white\", \"lakecolor\": \"white\", \"landcolor\": \"#E5ECF6\", \"showlakes\": true, \"showland\": true, \"subunitcolor\": \"white\"}, \"hoverlabel\": {\"align\": \"left\"}, \"hovermode\": \"closest\", \"mapbox\": {\"style\": \"light\"}, \"paper_bgcolor\": \"white\", \"plot_bgcolor\": \"#E5ECF6\", \"polar\": {\"angularaxis\": {\"gridcolor\": \"white\", \"linecolor\": \"white\", \"ticks\": \"\"}, \"bgcolor\": \"#E5ECF6\", \"radialaxis\": {\"gridcolor\": \"white\", \"linecolor\": \"white\", \"ticks\": \"\"}}, \"scene\": {\"xaxis\": {\"backgroundcolor\": \"#E5ECF6\", \"gridcolor\": \"white\", \"gridwidth\": 2, \"linecolor\": \"white\", \"showbackground\": true, \"ticks\": \"\", \"zerolinecolor\": \"white\"}, \"yaxis\": {\"backgroundcolor\": \"#E5ECF6\", \"gridcolor\": \"white\", \"gridwidth\": 2, \"linecolor\": \"white\", \"showbackground\": true, \"ticks\": \"\", \"zerolinecolor\": \"white\"}, \"zaxis\": {\"backgroundcolor\": \"#E5ECF6\", \"gridcolor\": \"white\", \"gridwidth\": 2, \"linecolor\": \"white\", \"showbackground\": true, \"ticks\": \"\", \"zerolinecolor\": \"white\"}}, \"shapedefaults\": {\"line\": {\"color\": \"#2a3f5f\"}}, \"ternary\": {\"aaxis\": {\"gridcolor\": \"white\", \"linecolor\": \"white\", \"ticks\": \"\"}, \"baxis\": {\"gridcolor\": \"white\", \"linecolor\": \"white\", \"ticks\": \"\"}, \"bgcolor\": \"#E5ECF6\", \"caxis\": {\"gridcolor\": \"white\", \"linecolor\": \"white\", \"ticks\": \"\"}}, \"title\": {\"x\": 0.05}, \"xaxis\": {\"automargin\": true, \"gridcolor\": \"white\", \"linecolor\": \"white\", \"ticks\": \"\", \"title\": {\"standoff\": 15}, \"zerolinecolor\": \"white\", \"zerolinewidth\": 2}, \"yaxis\": {\"automargin\": true, \"gridcolor\": \"white\", \"linecolor\": \"white\", \"ticks\": \"\", \"title\": {\"standoff\": 15}, \"zerolinecolor\": \"white\", \"zerolinewidth\": 2}}}, \"title\": {\"text\": \"Manner of death\"}, \"width\": 500},\n",
       "                        {\"responsive\": true}\n",
       "                    ).then(function(){\n",
       "                            \n",
       "var gd = document.getElementById('e0f01e87-725f-460f-bd72-731aa4b2f6a7');\n",
       "var x = new MutationObserver(function (mutations, observer) {{\n",
       "        var display = window.getComputedStyle(gd).display;\n",
       "        if (!display || display === 'none') {{\n",
       "            console.log([gd, 'removed!']);\n",
       "            Plotly.purge(gd);\n",
       "            observer.disconnect();\n",
       "        }}\n",
       "}});\n",
       "\n",
       "// Listen for the removal of the full notebook cells\n",
       "var notebookContainer = gd.closest('#notebook-container');\n",
       "if (notebookContainer) {{\n",
       "    x.observe(notebookContainer, {childList: true});\n",
       "}}\n",
       "\n",
       "// Listen for the clearing of the current output cell\n",
       "var outputEl = gd.closest('.output');\n",
       "if (outputEl) {{\n",
       "    x.observe(outputEl, {childList: true});\n",
       "}}\n",
       "\n",
       "                        })\n",
       "                };\n",
       "                });\n",
       "            </script>\n",
       "        </div>"
      ]
     },
     "metadata": {},
     "output_type": "display_data"
    }
   ],
   "source": [
    "#Visualization of Manner of Death\n",
    "labels = ['Shot','shot and Tasered']\n",
    "colors = ('blue','red')\n",
    "#Visualization of Manner of Death\n",
    "data = df['manner_of_death'].value_counts().reset_index()\n",
    "data.columns = ['manner_of_death', 'count']\n",
    "fig = px.pie(data, values='count', names='manner_of_death', title='Manner of death', width=500, height=400,hole = 0.2,color = colors)\n",
    "fig.show()"
   ]
  },
  {
   "cell_type": "code",
   "execution_count": 48,
   "metadata": {},
   "outputs": [
    {
     "data": {
      "application/vnd.plotly.v1+json": {
       "config": {
        "plotlyServerURL": "https://plot.ly"
       },
       "data": [
        {
         "alignmentgroup": "True",
         "hovertemplate": "count=%{marker.color}<br>Weapon=%{y}<extra></extra>",
         "legendgroup": "",
         "marker": {
          "color": [
           9,
           10,
           11,
           11,
           11,
           12,
           12,
           14,
           15,
           16,
           21,
           22,
           24,
           39,
           120,
           171,
           348,
           418,
           708,
           2755
          ],
          "coloraxis": "coloraxis"
         },
         "name": "",
         "offsetgroup": "",
         "orientation": "h",
         "showlegend": false,
         "textposition": "auto",
         "type": "bar",
         "x": [
          9,
          10,
          11,
          11,
          11,
          12,
          12,
          14,
          15,
          16,
          21,
          22,
          24,
          39,
          120,
          171,
          348,
          418,
          708,
          2755
         ],
         "xaxis": "x",
         "y": [
          "gun and car",
          "gun and vehicle",
          "hatchet",
          "sharp object",
          "box cutter",
          "screwdriver",
          "metal pipe",
          "hammer",
          "gun and knife",
          "baseball bat",
          "ax",
          "sword",
          "Taser",
          "machete",
          "vehicle",
          "toy weapon",
          "unarmed",
          "unknown",
          "knife",
          "gun"
         ],
         "yaxis": "y"
        }
       ],
       "layout": {
        "barmode": "relative",
        "coloraxis": {
         "colorbar": {
          "title": {
           "text": "count"
          }
         },
         "colorscale": [
          [
           0,
           "#0d0887"
          ],
          [
           0.1111111111111111,
           "#46039f"
          ],
          [
           0.2222222222222222,
           "#7201a8"
          ],
          [
           0.3333333333333333,
           "#9c179e"
          ],
          [
           0.4444444444444444,
           "#bd3786"
          ],
          [
           0.5555555555555556,
           "#d8576b"
          ],
          [
           0.6666666666666666,
           "#ed7953"
          ],
          [
           0.7777777777777778,
           "#fb9f3a"
          ],
          [
           0.8888888888888888,
           "#fdca26"
          ],
          [
           1,
           "#f0f921"
          ]
         ]
        },
        "height": 600,
        "legend": {
         "tracegroupgap": 0
        },
        "template": {
         "data": {
          "bar": [
           {
            "error_x": {
             "color": "#2a3f5f"
            },
            "error_y": {
             "color": "#2a3f5f"
            },
            "marker": {
             "line": {
              "color": "#E5ECF6",
              "width": 0.5
             }
            },
            "type": "bar"
           }
          ],
          "barpolar": [
           {
            "marker": {
             "line": {
              "color": "#E5ECF6",
              "width": 0.5
             }
            },
            "type": "barpolar"
           }
          ],
          "carpet": [
           {
            "aaxis": {
             "endlinecolor": "#2a3f5f",
             "gridcolor": "white",
             "linecolor": "white",
             "minorgridcolor": "white",
             "startlinecolor": "#2a3f5f"
            },
            "baxis": {
             "endlinecolor": "#2a3f5f",
             "gridcolor": "white",
             "linecolor": "white",
             "minorgridcolor": "white",
             "startlinecolor": "#2a3f5f"
            },
            "type": "carpet"
           }
          ],
          "choropleth": [
           {
            "colorbar": {
             "outlinewidth": 0,
             "ticks": ""
            },
            "type": "choropleth"
           }
          ],
          "contour": [
           {
            "colorbar": {
             "outlinewidth": 0,
             "ticks": ""
            },
            "colorscale": [
             [
              0,
              "#0d0887"
             ],
             [
              0.1111111111111111,
              "#46039f"
             ],
             [
              0.2222222222222222,
              "#7201a8"
             ],
             [
              0.3333333333333333,
              "#9c179e"
             ],
             [
              0.4444444444444444,
              "#bd3786"
             ],
             [
              0.5555555555555556,
              "#d8576b"
             ],
             [
              0.6666666666666666,
              "#ed7953"
             ],
             [
              0.7777777777777778,
              "#fb9f3a"
             ],
             [
              0.8888888888888888,
              "#fdca26"
             ],
             [
              1,
              "#f0f921"
             ]
            ],
            "type": "contour"
           }
          ],
          "contourcarpet": [
           {
            "colorbar": {
             "outlinewidth": 0,
             "ticks": ""
            },
            "type": "contourcarpet"
           }
          ],
          "heatmap": [
           {
            "colorbar": {
             "outlinewidth": 0,
             "ticks": ""
            },
            "colorscale": [
             [
              0,
              "#0d0887"
             ],
             [
              0.1111111111111111,
              "#46039f"
             ],
             [
              0.2222222222222222,
              "#7201a8"
             ],
             [
              0.3333333333333333,
              "#9c179e"
             ],
             [
              0.4444444444444444,
              "#bd3786"
             ],
             [
              0.5555555555555556,
              "#d8576b"
             ],
             [
              0.6666666666666666,
              "#ed7953"
             ],
             [
              0.7777777777777778,
              "#fb9f3a"
             ],
             [
              0.8888888888888888,
              "#fdca26"
             ],
             [
              1,
              "#f0f921"
             ]
            ],
            "type": "heatmap"
           }
          ],
          "heatmapgl": [
           {
            "colorbar": {
             "outlinewidth": 0,
             "ticks": ""
            },
            "colorscale": [
             [
              0,
              "#0d0887"
             ],
             [
              0.1111111111111111,
              "#46039f"
             ],
             [
              0.2222222222222222,
              "#7201a8"
             ],
             [
              0.3333333333333333,
              "#9c179e"
             ],
             [
              0.4444444444444444,
              "#bd3786"
             ],
             [
              0.5555555555555556,
              "#d8576b"
             ],
             [
              0.6666666666666666,
              "#ed7953"
             ],
             [
              0.7777777777777778,
              "#fb9f3a"
             ],
             [
              0.8888888888888888,
              "#fdca26"
             ],
             [
              1,
              "#f0f921"
             ]
            ],
            "type": "heatmapgl"
           }
          ],
          "histogram": [
           {
            "marker": {
             "colorbar": {
              "outlinewidth": 0,
              "ticks": ""
             }
            },
            "type": "histogram"
           }
          ],
          "histogram2d": [
           {
            "colorbar": {
             "outlinewidth": 0,
             "ticks": ""
            },
            "colorscale": [
             [
              0,
              "#0d0887"
             ],
             [
              0.1111111111111111,
              "#46039f"
             ],
             [
              0.2222222222222222,
              "#7201a8"
             ],
             [
              0.3333333333333333,
              "#9c179e"
             ],
             [
              0.4444444444444444,
              "#bd3786"
             ],
             [
              0.5555555555555556,
              "#d8576b"
             ],
             [
              0.6666666666666666,
              "#ed7953"
             ],
             [
              0.7777777777777778,
              "#fb9f3a"
             ],
             [
              0.8888888888888888,
              "#fdca26"
             ],
             [
              1,
              "#f0f921"
             ]
            ],
            "type": "histogram2d"
           }
          ],
          "histogram2dcontour": [
           {
            "colorbar": {
             "outlinewidth": 0,
             "ticks": ""
            },
            "colorscale": [
             [
              0,
              "#0d0887"
             ],
             [
              0.1111111111111111,
              "#46039f"
             ],
             [
              0.2222222222222222,
              "#7201a8"
             ],
             [
              0.3333333333333333,
              "#9c179e"
             ],
             [
              0.4444444444444444,
              "#bd3786"
             ],
             [
              0.5555555555555556,
              "#d8576b"
             ],
             [
              0.6666666666666666,
              "#ed7953"
             ],
             [
              0.7777777777777778,
              "#fb9f3a"
             ],
             [
              0.8888888888888888,
              "#fdca26"
             ],
             [
              1,
              "#f0f921"
             ]
            ],
            "type": "histogram2dcontour"
           }
          ],
          "mesh3d": [
           {
            "colorbar": {
             "outlinewidth": 0,
             "ticks": ""
            },
            "type": "mesh3d"
           }
          ],
          "parcoords": [
           {
            "line": {
             "colorbar": {
              "outlinewidth": 0,
              "ticks": ""
             }
            },
            "type": "parcoords"
           }
          ],
          "pie": [
           {
            "automargin": true,
            "type": "pie"
           }
          ],
          "scatter": [
           {
            "marker": {
             "colorbar": {
              "outlinewidth": 0,
              "ticks": ""
             }
            },
            "type": "scatter"
           }
          ],
          "scatter3d": [
           {
            "line": {
             "colorbar": {
              "outlinewidth": 0,
              "ticks": ""
             }
            },
            "marker": {
             "colorbar": {
              "outlinewidth": 0,
              "ticks": ""
             }
            },
            "type": "scatter3d"
           }
          ],
          "scattercarpet": [
           {
            "marker": {
             "colorbar": {
              "outlinewidth": 0,
              "ticks": ""
             }
            },
            "type": "scattercarpet"
           }
          ],
          "scattergeo": [
           {
            "marker": {
             "colorbar": {
              "outlinewidth": 0,
              "ticks": ""
             }
            },
            "type": "scattergeo"
           }
          ],
          "scattergl": [
           {
            "marker": {
             "colorbar": {
              "outlinewidth": 0,
              "ticks": ""
             }
            },
            "type": "scattergl"
           }
          ],
          "scattermapbox": [
           {
            "marker": {
             "colorbar": {
              "outlinewidth": 0,
              "ticks": ""
             }
            },
            "type": "scattermapbox"
           }
          ],
          "scatterpolar": [
           {
            "marker": {
             "colorbar": {
              "outlinewidth": 0,
              "ticks": ""
             }
            },
            "type": "scatterpolar"
           }
          ],
          "scatterpolargl": [
           {
            "marker": {
             "colorbar": {
              "outlinewidth": 0,
              "ticks": ""
             }
            },
            "type": "scatterpolargl"
           }
          ],
          "scatterternary": [
           {
            "marker": {
             "colorbar": {
              "outlinewidth": 0,
              "ticks": ""
             }
            },
            "type": "scatterternary"
           }
          ],
          "surface": [
           {
            "colorbar": {
             "outlinewidth": 0,
             "ticks": ""
            },
            "colorscale": [
             [
              0,
              "#0d0887"
             ],
             [
              0.1111111111111111,
              "#46039f"
             ],
             [
              0.2222222222222222,
              "#7201a8"
             ],
             [
              0.3333333333333333,
              "#9c179e"
             ],
             [
              0.4444444444444444,
              "#bd3786"
             ],
             [
              0.5555555555555556,
              "#d8576b"
             ],
             [
              0.6666666666666666,
              "#ed7953"
             ],
             [
              0.7777777777777778,
              "#fb9f3a"
             ],
             [
              0.8888888888888888,
              "#fdca26"
             ],
             [
              1,
              "#f0f921"
             ]
            ],
            "type": "surface"
           }
          ],
          "table": [
           {
            "cells": {
             "fill": {
              "color": "#EBF0F8"
             },
             "line": {
              "color": "white"
             }
            },
            "header": {
             "fill": {
              "color": "#C8D4E3"
             },
             "line": {
              "color": "white"
             }
            },
            "type": "table"
           }
          ]
         },
         "layout": {
          "annotationdefaults": {
           "arrowcolor": "#2a3f5f",
           "arrowhead": 0,
           "arrowwidth": 1
          },
          "coloraxis": {
           "colorbar": {
            "outlinewidth": 0,
            "ticks": ""
           }
          },
          "colorscale": {
           "diverging": [
            [
             0,
             "#8e0152"
            ],
            [
             0.1,
             "#c51b7d"
            ],
            [
             0.2,
             "#de77ae"
            ],
            [
             0.3,
             "#f1b6da"
            ],
            [
             0.4,
             "#fde0ef"
            ],
            [
             0.5,
             "#f7f7f7"
            ],
            [
             0.6,
             "#e6f5d0"
            ],
            [
             0.7,
             "#b8e186"
            ],
            [
             0.8,
             "#7fbc41"
            ],
            [
             0.9,
             "#4d9221"
            ],
            [
             1,
             "#276419"
            ]
           ],
           "sequential": [
            [
             0,
             "#0d0887"
            ],
            [
             0.1111111111111111,
             "#46039f"
            ],
            [
             0.2222222222222222,
             "#7201a8"
            ],
            [
             0.3333333333333333,
             "#9c179e"
            ],
            [
             0.4444444444444444,
             "#bd3786"
            ],
            [
             0.5555555555555556,
             "#d8576b"
            ],
            [
             0.6666666666666666,
             "#ed7953"
            ],
            [
             0.7777777777777778,
             "#fb9f3a"
            ],
            [
             0.8888888888888888,
             "#fdca26"
            ],
            [
             1,
             "#f0f921"
            ]
           ],
           "sequentialminus": [
            [
             0,
             "#0d0887"
            ],
            [
             0.1111111111111111,
             "#46039f"
            ],
            [
             0.2222222222222222,
             "#7201a8"
            ],
            [
             0.3333333333333333,
             "#9c179e"
            ],
            [
             0.4444444444444444,
             "#bd3786"
            ],
            [
             0.5555555555555556,
             "#d8576b"
            ],
            [
             0.6666666666666666,
             "#ed7953"
            ],
            [
             0.7777777777777778,
             "#fb9f3a"
            ],
            [
             0.8888888888888888,
             "#fdca26"
            ],
            [
             1,
             "#f0f921"
            ]
           ]
          },
          "colorway": [
           "#636efa",
           "#EF553B",
           "#00cc96",
           "#ab63fa",
           "#FFA15A",
           "#19d3f3",
           "#FF6692",
           "#B6E880",
           "#FF97FF",
           "#FECB52"
          ],
          "font": {
           "color": "#2a3f5f"
          },
          "geo": {
           "bgcolor": "white",
           "lakecolor": "white",
           "landcolor": "#E5ECF6",
           "showlakes": true,
           "showland": true,
           "subunitcolor": "white"
          },
          "hoverlabel": {
           "align": "left"
          },
          "hovermode": "closest",
          "mapbox": {
           "style": "light"
          },
          "paper_bgcolor": "white",
          "plot_bgcolor": "#E5ECF6",
          "polar": {
           "angularaxis": {
            "gridcolor": "white",
            "linecolor": "white",
            "ticks": ""
           },
           "bgcolor": "#E5ECF6",
           "radialaxis": {
            "gridcolor": "white",
            "linecolor": "white",
            "ticks": ""
           }
          },
          "scene": {
           "xaxis": {
            "backgroundcolor": "#E5ECF6",
            "gridcolor": "white",
            "gridwidth": 2,
            "linecolor": "white",
            "showbackground": true,
            "ticks": "",
            "zerolinecolor": "white"
           },
           "yaxis": {
            "backgroundcolor": "#E5ECF6",
            "gridcolor": "white",
            "gridwidth": 2,
            "linecolor": "white",
            "showbackground": true,
            "ticks": "",
            "zerolinecolor": "white"
           },
           "zaxis": {
            "backgroundcolor": "#E5ECF6",
            "gridcolor": "white",
            "gridwidth": 2,
            "linecolor": "white",
            "showbackground": true,
            "ticks": "",
            "zerolinecolor": "white"
           }
          },
          "shapedefaults": {
           "line": {
            "color": "#2a3f5f"
           }
          },
          "ternary": {
           "aaxis": {
            "gridcolor": "white",
            "linecolor": "white",
            "ticks": ""
           },
           "baxis": {
            "gridcolor": "white",
            "linecolor": "white",
            "ticks": ""
           },
           "bgcolor": "#E5ECF6",
           "caxis": {
            "gridcolor": "white",
            "linecolor": "white",
            "ticks": ""
           }
          },
          "title": {
           "x": 0.05
          },
          "xaxis": {
           "automargin": true,
           "gridcolor": "white",
           "linecolor": "white",
           "ticks": "",
           "title": {
            "standoff": 15
           },
           "zerolinecolor": "white",
           "zerolinewidth": 2
          },
          "yaxis": {
           "automargin": true,
           "gridcolor": "white",
           "linecolor": "white",
           "ticks": "",
           "title": {
            "standoff": 15
           },
           "zerolinecolor": "white",
           "zerolinewidth": 2
          }
         }
        },
        "title": {
         "text": "Weapons Used"
        },
        "width": 500,
        "xaxis": {
         "anchor": "y",
         "domain": [
          0,
          1
         ],
         "title": {
          "text": "count"
         }
        },
        "yaxis": {
         "anchor": "x",
         "domain": [
          0,
          1
         ],
         "title": {
          "text": "Weapon"
         }
        }
       }
      },
      "text/html": [
       "<div>\n",
       "        \n",
       "        \n",
       "            <div id=\"7b165d66-92a9-4cc2-ba8f-20001ccb557d\" class=\"plotly-graph-div\" style=\"height:600px; width:500px;\"></div>\n",
       "            <script type=\"text/javascript\">\n",
       "                require([\"plotly\"], function(Plotly) {\n",
       "                    window.PLOTLYENV=window.PLOTLYENV || {};\n",
       "                    \n",
       "                if (document.getElementById(\"7b165d66-92a9-4cc2-ba8f-20001ccb557d\")) {\n",
       "                    Plotly.newPlot(\n",
       "                        '7b165d66-92a9-4cc2-ba8f-20001ccb557d',\n",
       "                        [{\"alignmentgroup\": \"True\", \"hovertemplate\": \"count=%{marker.color}<br>Weapon=%{y}<extra></extra>\", \"legendgroup\": \"\", \"marker\": {\"color\": [9, 10, 11, 11, 11, 12, 12, 14, 15, 16, 21, 22, 24, 39, 120, 171, 348, 418, 708, 2755], \"coloraxis\": \"coloraxis\"}, \"name\": \"\", \"offsetgroup\": \"\", \"orientation\": \"h\", \"showlegend\": false, \"textposition\": \"auto\", \"type\": \"bar\", \"x\": [9, 10, 11, 11, 11, 12, 12, 14, 15, 16, 21, 22, 24, 39, 120, 171, 348, 418, 708, 2755], \"xaxis\": \"x\", \"y\": [\"gun and car\", \"gun and vehicle\", \"hatchet\", \"sharp object\", \"box cutter\", \"screwdriver\", \"metal pipe\", \"hammer\", \"gun and knife\", \"baseball bat\", \"ax\", \"sword\", \"Taser\", \"machete\", \"vehicle\", \"toy weapon\", \"unarmed\", \"unknown\", \"knife\", \"gun\"], \"yaxis\": \"y\"}],\n",
       "                        {\"barmode\": \"relative\", \"coloraxis\": {\"colorbar\": {\"title\": {\"text\": \"count\"}}, \"colorscale\": [[0.0, \"#0d0887\"], [0.1111111111111111, \"#46039f\"], [0.2222222222222222, \"#7201a8\"], [0.3333333333333333, \"#9c179e\"], [0.4444444444444444, \"#bd3786\"], [0.5555555555555556, \"#d8576b\"], [0.6666666666666666, \"#ed7953\"], [0.7777777777777778, \"#fb9f3a\"], [0.8888888888888888, \"#fdca26\"], [1.0, \"#f0f921\"]]}, \"height\": 600, \"legend\": {\"tracegroupgap\": 0}, \"template\": {\"data\": {\"bar\": [{\"error_x\": {\"color\": \"#2a3f5f\"}, \"error_y\": {\"color\": \"#2a3f5f\"}, \"marker\": {\"line\": {\"color\": \"#E5ECF6\", \"width\": 0.5}}, \"type\": \"bar\"}], \"barpolar\": [{\"marker\": {\"line\": {\"color\": \"#E5ECF6\", \"width\": 0.5}}, \"type\": \"barpolar\"}], \"carpet\": [{\"aaxis\": {\"endlinecolor\": \"#2a3f5f\", \"gridcolor\": \"white\", \"linecolor\": \"white\", \"minorgridcolor\": \"white\", \"startlinecolor\": \"#2a3f5f\"}, \"baxis\": {\"endlinecolor\": \"#2a3f5f\", \"gridcolor\": \"white\", \"linecolor\": \"white\", \"minorgridcolor\": \"white\", \"startlinecolor\": \"#2a3f5f\"}, \"type\": \"carpet\"}], \"choropleth\": [{\"colorbar\": {\"outlinewidth\": 0, \"ticks\": \"\"}, \"type\": \"choropleth\"}], \"contour\": [{\"colorbar\": {\"outlinewidth\": 0, \"ticks\": \"\"}, \"colorscale\": [[0.0, \"#0d0887\"], [0.1111111111111111, \"#46039f\"], [0.2222222222222222, \"#7201a8\"], [0.3333333333333333, \"#9c179e\"], [0.4444444444444444, \"#bd3786\"], [0.5555555555555556, \"#d8576b\"], [0.6666666666666666, \"#ed7953\"], [0.7777777777777778, \"#fb9f3a\"], [0.8888888888888888, \"#fdca26\"], [1.0, \"#f0f921\"]], \"type\": \"contour\"}], \"contourcarpet\": [{\"colorbar\": {\"outlinewidth\": 0, \"ticks\": \"\"}, \"type\": \"contourcarpet\"}], \"heatmap\": [{\"colorbar\": {\"outlinewidth\": 0, \"ticks\": \"\"}, \"colorscale\": [[0.0, \"#0d0887\"], [0.1111111111111111, \"#46039f\"], [0.2222222222222222, \"#7201a8\"], [0.3333333333333333, \"#9c179e\"], [0.4444444444444444, \"#bd3786\"], [0.5555555555555556, \"#d8576b\"], [0.6666666666666666, \"#ed7953\"], [0.7777777777777778, \"#fb9f3a\"], [0.8888888888888888, \"#fdca26\"], [1.0, \"#f0f921\"]], \"type\": \"heatmap\"}], \"heatmapgl\": [{\"colorbar\": {\"outlinewidth\": 0, \"ticks\": \"\"}, \"colorscale\": [[0.0, \"#0d0887\"], [0.1111111111111111, \"#46039f\"], [0.2222222222222222, \"#7201a8\"], [0.3333333333333333, \"#9c179e\"], [0.4444444444444444, \"#bd3786\"], [0.5555555555555556, \"#d8576b\"], [0.6666666666666666, \"#ed7953\"], [0.7777777777777778, \"#fb9f3a\"], [0.8888888888888888, \"#fdca26\"], [1.0, \"#f0f921\"]], \"type\": \"heatmapgl\"}], \"histogram\": [{\"marker\": {\"colorbar\": {\"outlinewidth\": 0, \"ticks\": \"\"}}, \"type\": \"histogram\"}], \"histogram2d\": [{\"colorbar\": {\"outlinewidth\": 0, \"ticks\": \"\"}, \"colorscale\": [[0.0, \"#0d0887\"], [0.1111111111111111, \"#46039f\"], [0.2222222222222222, \"#7201a8\"], [0.3333333333333333, \"#9c179e\"], [0.4444444444444444, \"#bd3786\"], [0.5555555555555556, \"#d8576b\"], [0.6666666666666666, \"#ed7953\"], [0.7777777777777778, \"#fb9f3a\"], [0.8888888888888888, \"#fdca26\"], [1.0, \"#f0f921\"]], \"type\": \"histogram2d\"}], \"histogram2dcontour\": [{\"colorbar\": {\"outlinewidth\": 0, \"ticks\": \"\"}, \"colorscale\": [[0.0, \"#0d0887\"], [0.1111111111111111, \"#46039f\"], [0.2222222222222222, \"#7201a8\"], [0.3333333333333333, \"#9c179e\"], [0.4444444444444444, \"#bd3786\"], [0.5555555555555556, \"#d8576b\"], [0.6666666666666666, \"#ed7953\"], [0.7777777777777778, \"#fb9f3a\"], [0.8888888888888888, \"#fdca26\"], [1.0, \"#f0f921\"]], \"type\": \"histogram2dcontour\"}], \"mesh3d\": [{\"colorbar\": {\"outlinewidth\": 0, \"ticks\": \"\"}, \"type\": \"mesh3d\"}], \"parcoords\": [{\"line\": {\"colorbar\": {\"outlinewidth\": 0, \"ticks\": \"\"}}, \"type\": \"parcoords\"}], \"pie\": [{\"automargin\": true, \"type\": \"pie\"}], \"scatter\": [{\"marker\": {\"colorbar\": {\"outlinewidth\": 0, \"ticks\": \"\"}}, \"type\": \"scatter\"}], \"scatter3d\": [{\"line\": {\"colorbar\": {\"outlinewidth\": 0, \"ticks\": \"\"}}, \"marker\": {\"colorbar\": {\"outlinewidth\": 0, \"ticks\": \"\"}}, \"type\": \"scatter3d\"}], \"scattercarpet\": [{\"marker\": {\"colorbar\": {\"outlinewidth\": 0, \"ticks\": \"\"}}, \"type\": \"scattercarpet\"}], \"scattergeo\": [{\"marker\": {\"colorbar\": {\"outlinewidth\": 0, \"ticks\": \"\"}}, \"type\": \"scattergeo\"}], \"scattergl\": [{\"marker\": {\"colorbar\": {\"outlinewidth\": 0, \"ticks\": \"\"}}, \"type\": \"scattergl\"}], \"scattermapbox\": [{\"marker\": {\"colorbar\": {\"outlinewidth\": 0, \"ticks\": \"\"}}, \"type\": \"scattermapbox\"}], \"scatterpolar\": [{\"marker\": {\"colorbar\": {\"outlinewidth\": 0, \"ticks\": \"\"}}, \"type\": \"scatterpolar\"}], \"scatterpolargl\": [{\"marker\": {\"colorbar\": {\"outlinewidth\": 0, \"ticks\": \"\"}}, \"type\": \"scatterpolargl\"}], \"scatterternary\": [{\"marker\": {\"colorbar\": {\"outlinewidth\": 0, \"ticks\": \"\"}}, \"type\": \"scatterternary\"}], \"surface\": [{\"colorbar\": {\"outlinewidth\": 0, \"ticks\": \"\"}, \"colorscale\": [[0.0, \"#0d0887\"], [0.1111111111111111, \"#46039f\"], [0.2222222222222222, \"#7201a8\"], [0.3333333333333333, \"#9c179e\"], [0.4444444444444444, \"#bd3786\"], [0.5555555555555556, \"#d8576b\"], [0.6666666666666666, \"#ed7953\"], [0.7777777777777778, \"#fb9f3a\"], [0.8888888888888888, \"#fdca26\"], [1.0, \"#f0f921\"]], \"type\": \"surface\"}], \"table\": [{\"cells\": {\"fill\": {\"color\": \"#EBF0F8\"}, \"line\": {\"color\": \"white\"}}, \"header\": {\"fill\": {\"color\": \"#C8D4E3\"}, \"line\": {\"color\": \"white\"}}, \"type\": \"table\"}]}, \"layout\": {\"annotationdefaults\": {\"arrowcolor\": \"#2a3f5f\", \"arrowhead\": 0, \"arrowwidth\": 1}, \"coloraxis\": {\"colorbar\": {\"outlinewidth\": 0, \"ticks\": \"\"}}, \"colorscale\": {\"diverging\": [[0, \"#8e0152\"], [0.1, \"#c51b7d\"], [0.2, \"#de77ae\"], [0.3, \"#f1b6da\"], [0.4, \"#fde0ef\"], [0.5, \"#f7f7f7\"], [0.6, \"#e6f5d0\"], [0.7, \"#b8e186\"], [0.8, \"#7fbc41\"], [0.9, \"#4d9221\"], [1, \"#276419\"]], \"sequential\": [[0.0, \"#0d0887\"], [0.1111111111111111, \"#46039f\"], [0.2222222222222222, \"#7201a8\"], [0.3333333333333333, \"#9c179e\"], [0.4444444444444444, \"#bd3786\"], [0.5555555555555556, \"#d8576b\"], [0.6666666666666666, \"#ed7953\"], [0.7777777777777778, \"#fb9f3a\"], [0.8888888888888888, \"#fdca26\"], [1.0, \"#f0f921\"]], \"sequentialminus\": [[0.0, \"#0d0887\"], [0.1111111111111111, \"#46039f\"], [0.2222222222222222, \"#7201a8\"], [0.3333333333333333, \"#9c179e\"], [0.4444444444444444, \"#bd3786\"], [0.5555555555555556, \"#d8576b\"], [0.6666666666666666, \"#ed7953\"], [0.7777777777777778, \"#fb9f3a\"], [0.8888888888888888, \"#fdca26\"], [1.0, \"#f0f921\"]]}, \"colorway\": [\"#636efa\", \"#EF553B\", \"#00cc96\", \"#ab63fa\", \"#FFA15A\", \"#19d3f3\", \"#FF6692\", \"#B6E880\", \"#FF97FF\", \"#FECB52\"], \"font\": {\"color\": \"#2a3f5f\"}, \"geo\": {\"bgcolor\": \"white\", \"lakecolor\": \"white\", \"landcolor\": \"#E5ECF6\", \"showlakes\": true, \"showland\": true, \"subunitcolor\": \"white\"}, \"hoverlabel\": {\"align\": \"left\"}, \"hovermode\": \"closest\", \"mapbox\": {\"style\": \"light\"}, \"paper_bgcolor\": \"white\", \"plot_bgcolor\": \"#E5ECF6\", \"polar\": {\"angularaxis\": {\"gridcolor\": \"white\", \"linecolor\": \"white\", \"ticks\": \"\"}, \"bgcolor\": \"#E5ECF6\", \"radialaxis\": {\"gridcolor\": \"white\", \"linecolor\": \"white\", \"ticks\": \"\"}}, \"scene\": {\"xaxis\": {\"backgroundcolor\": \"#E5ECF6\", \"gridcolor\": \"white\", \"gridwidth\": 2, \"linecolor\": \"white\", \"showbackground\": true, \"ticks\": \"\", \"zerolinecolor\": \"white\"}, \"yaxis\": {\"backgroundcolor\": \"#E5ECF6\", \"gridcolor\": \"white\", \"gridwidth\": 2, \"linecolor\": \"white\", \"showbackground\": true, \"ticks\": \"\", \"zerolinecolor\": \"white\"}, \"zaxis\": {\"backgroundcolor\": \"#E5ECF6\", \"gridcolor\": \"white\", \"gridwidth\": 2, \"linecolor\": \"white\", \"showbackground\": true, \"ticks\": \"\", \"zerolinecolor\": \"white\"}}, \"shapedefaults\": {\"line\": {\"color\": \"#2a3f5f\"}}, \"ternary\": {\"aaxis\": {\"gridcolor\": \"white\", \"linecolor\": \"white\", \"ticks\": \"\"}, \"baxis\": {\"gridcolor\": \"white\", \"linecolor\": \"white\", \"ticks\": \"\"}, \"bgcolor\": \"#E5ECF6\", \"caxis\": {\"gridcolor\": \"white\", \"linecolor\": \"white\", \"ticks\": \"\"}}, \"title\": {\"x\": 0.05}, \"xaxis\": {\"automargin\": true, \"gridcolor\": \"white\", \"linecolor\": \"white\", \"ticks\": \"\", \"title\": {\"standoff\": 15}, \"zerolinecolor\": \"white\", \"zerolinewidth\": 2}, \"yaxis\": {\"automargin\": true, \"gridcolor\": \"white\", \"linecolor\": \"white\", \"ticks\": \"\", \"title\": {\"standoff\": 15}, \"zerolinecolor\": \"white\", \"zerolinewidth\": 2}}}, \"title\": {\"text\": \"Weapons Used\"}, \"width\": 500, \"xaxis\": {\"anchor\": \"y\", \"domain\": [0.0, 1.0], \"title\": {\"text\": \"count\"}}, \"yaxis\": {\"anchor\": \"x\", \"domain\": [0.0, 1.0], \"title\": {\"text\": \"Weapon\"}}},\n",
       "                        {\"responsive\": true}\n",
       "                    ).then(function(){\n",
       "                            \n",
       "var gd = document.getElementById('7b165d66-92a9-4cc2-ba8f-20001ccb557d');\n",
       "var x = new MutationObserver(function (mutations, observer) {{\n",
       "        var display = window.getComputedStyle(gd).display;\n",
       "        if (!display || display === 'none') {{\n",
       "            console.log([gd, 'removed!']);\n",
       "            Plotly.purge(gd);\n",
       "            observer.disconnect();\n",
       "        }}\n",
       "}});\n",
       "\n",
       "// Listen for the removal of the full notebook cells\n",
       "var notebookContainer = gd.closest('#notebook-container');\n",
       "if (notebookContainer) {{\n",
       "    x.observe(notebookContainer, {childList: true});\n",
       "}}\n",
       "\n",
       "// Listen for the clearing of the current output cell\n",
       "var outputEl = gd.closest('.output');\n",
       "if (outputEl) {{\n",
       "    x.observe(outputEl, {childList: true});\n",
       "}}\n",
       "\n",
       "                        })\n",
       "                };\n",
       "                });\n",
       "            </script>\n",
       "        </div>"
      ]
     },
     "metadata": {},
     "output_type": "display_data"
    }
   ],
   "source": [
    "#Visualization of Weapons Used\n",
    "data = df['armed'].value_counts().reset_index()\n",
    "data.columns = ['Weapon', 'count']\n",
    "data = data.sort_values('count')\n",
    "fig = px.bar(data.tail(20), x='count', y='Weapon', orientation='h', title='Weapons Used', width=500, height=600,color = 'count')\n",
    "fig.show()"
   ]
  },
  {
   "cell_type": "code",
   "execution_count": 54,
   "metadata": {},
   "outputs": [
    {
     "data": {
      "application/vnd.plotly.v1+json": {
       "config": {
        "plotlyServerURL": "https://plot.ly"
       },
       "data": [
        {
         "alignmentgroup": "True",
         "bingroup": "x",
         "hovertemplate": "gender=M<br>age=%{x}<br>count=%{y}<extra></extra>",
         "legendgroup": "M",
         "marker": {
          "color": "#636efa"
         },
         "name": "M",
         "nbinsx": 20,
         "offsetgroup": "M",
         "orientation": "v",
         "showlegend": true,
         "type": "histogram",
         "x": [
          53,
          47,
          23,
          32,
          39,
          18,
          22,
          35,
          47,
          25,
          31,
          41,
          30,
          37,
          28,
          42,
          36,
          49,
          71,
          33,
          39,
          23,
          29,
          34,
          43,
          24,
          29,
          34,
          75,
          68,
          34,
          27,
          39,
          24,
          36,
          33,
          41,
          48,
          21,
          24,
          27,
          32,
          67,
          49,
          42,
          36,
          36,
          19,
          54,
          25,
          29,
          56,
          61,
          45,
          26,
          40,
          26,
          68,
          24,
          34,
          26,
          29,
          33,
          45,
          26,
          35,
          31,
          42,
          48,
          31,
          54,
          59,
          42,
          17,
          23,
          29,
          45,
          28,
          37,
          28,
          28,
          51,
          36,
          59,
          25,
          26,
          74,
          33,
          27,
          57,
          46,
          41,
          61,
          45,
          49,
          45,
          35,
          23,
          46,
          23,
          21,
          35,
          27,
          37,
          16,
          51,
          34,
          34,
          25,
          56,
          26,
          24,
          31,
          32,
          30,
          50,
          31,
          38,
          77,
          37.11793090137039,
          41,
          51,
          50,
          47,
          37,
          41,
          16,
          42,
          39,
          30,
          27,
          43,
          42,
          21,
          49,
          31,
          27,
          24,
          34,
          28,
          40,
          17,
          35,
          49,
          43,
          20,
          25,
          25,
          26,
          28,
          45,
          36,
          34,
          19,
          37,
          48,
          29,
          40,
          35,
          27,
          58,
          46,
          30,
          64,
          31,
          23,
          37,
          37,
          31,
          39,
          31,
          54,
          53,
          25,
          35,
          41,
          59,
          36,
          32,
          53,
          26,
          29,
          27,
          28,
          52,
          49,
          24,
          20,
          22,
          64,
          47,
          39,
          18,
          31,
          16,
          20,
          36,
          63,
          34,
          24,
          21,
          44,
          60,
          42,
          37,
          36,
          21,
          24,
          29,
          57,
          38,
          23,
          27,
          28,
          63,
          35,
          42,
          41,
          56,
          39,
          23,
          40,
          29,
          26,
          49,
          36,
          21,
          37,
          36,
          32,
          44,
          27,
          63,
          38,
          17,
          31,
          34,
          50,
          51,
          56,
          23,
          25,
          31,
          32,
          60,
          42,
          39,
          28,
          22,
          29,
          31,
          28,
          21,
          38,
          66,
          36,
          83,
          32,
          27,
          26,
          31,
          22,
          41,
          41,
          51,
          72,
          52,
          47,
          18,
          29,
          23,
          43,
          45,
          40,
          44,
          25,
          37,
          59,
          35,
          35,
          18,
          51,
          30,
          31,
          39,
          26,
          51,
          19,
          49,
          63,
          20,
          25,
          24,
          58,
          29,
          76,
          45,
          20,
          58,
          21,
          27,
          26,
          33,
          27,
          53,
          53,
          42,
          22,
          52,
          36,
          30,
          34,
          44,
          53,
          36,
          29,
          32,
          46,
          18,
          38,
          21,
          35,
          58,
          48,
          31,
          47,
          34,
          30,
          28,
          28,
          40,
          46,
          37,
          53,
          41,
          42,
          45,
          34,
          18,
          27,
          54,
          35,
          17,
          29,
          38,
          26,
          52,
          22,
          29,
          43,
          24,
          32,
          40,
          47,
          40,
          25,
          36,
          51,
          24,
          62,
          39,
          24,
          57,
          20,
          33,
          60,
          32,
          40,
          18,
          36,
          35,
          55,
          19,
          39,
          47,
          23,
          26,
          26,
          18,
          33,
          56,
          46,
          36,
          50,
          53,
          45,
          42,
          27,
          30,
          36,
          58,
          30,
          69,
          30,
          45,
          22,
          28,
          19,
          40,
          46,
          28,
          22,
          46,
          35,
          35,
          28,
          15,
          22,
          28,
          31,
          48,
          58,
          44,
          21,
          50,
          23,
          24,
          49,
          60,
          35,
          29,
          20,
          34,
          22,
          49,
          32,
          26,
          41,
          61,
          49,
          28,
          35,
          29,
          51,
          52,
          24,
          32,
          45,
          60,
          23,
          46,
          33,
          40,
          27,
          42,
          37,
          23,
          36,
          19,
          35,
          43,
          25,
          20,
          42,
          29,
          42,
          31,
          18,
          33,
          59,
          47,
          39,
          37,
          35,
          28,
          59,
          62,
          50,
          68,
          27,
          17,
          21,
          38,
          54,
          20,
          25,
          31,
          35,
          60,
          24,
          27,
          36,
          20,
          24,
          23,
          41,
          20,
          43,
          29,
          35,
          30,
          24,
          23,
          29,
          25,
          27,
          50,
          19,
          24,
          23,
          22,
          46,
          65,
          43,
          35,
          47,
          24,
          35,
          25,
          27,
          26,
          34,
          32,
          47,
          31,
          44,
          30,
          60,
          50,
          36,
          59,
          33,
          19,
          56,
          45,
          22,
          34,
          53,
          48,
          25,
          30,
          47,
          33,
          34,
          29,
          63,
          49,
          18,
          71,
          35,
          55,
          31,
          18,
          51,
          39,
          20,
          29,
          40,
          42,
          22,
          19,
          24,
          30,
          53,
          25,
          28,
          24,
          59,
          46,
          15,
          41,
          22,
          24,
          34,
          48,
          24,
          27,
          27,
          27,
          49,
          38,
          26,
          30,
          53,
          23,
          34,
          30,
          43,
          29,
          47,
          35,
          40,
          18,
          24,
          29,
          44,
          17,
          19,
          50,
          57,
          30,
          38,
          31,
          29,
          26,
          64,
          39,
          57,
          36,
          36,
          21,
          53,
          30,
          34,
          53,
          45,
          22,
          22,
          46,
          27,
          30,
          54,
          29,
          42,
          41,
          28,
          61,
          23,
          25,
          37.11793090137039,
          29,
          20,
          40,
          45,
          33,
          76,
          47,
          45,
          40,
          37,
          27,
          36,
          23,
          49,
          21,
          32,
          35,
          59,
          28,
          45,
          45,
          19,
          25,
          37,
          33,
          59,
          31,
          29,
          32,
          41,
          31,
          44,
          23,
          45,
          39,
          67,
          29,
          25,
          28,
          21,
          32,
          51,
          39,
          27,
          31,
          50,
          37.11793090137039,
          32,
          47,
          46,
          57,
          23,
          56,
          24,
          27,
          26,
          34,
          21,
          32,
          33,
          55,
          48,
          35,
          19,
          45,
          28,
          42,
          17,
          30,
          21,
          45,
          33,
          46,
          23,
          43,
          40,
          59,
          31,
          46,
          37,
          28,
          28,
          29,
          26,
          27,
          31,
          51,
          50,
          27,
          18,
          46,
          19,
          49,
          31,
          38,
          40,
          35,
          34,
          44,
          23,
          43,
          37.11793090137039,
          31,
          27,
          18,
          57,
          15,
          25,
          31,
          35,
          27,
          20,
          27,
          33,
          27,
          22,
          28,
          31,
          28,
          53,
          30,
          39,
          40,
          30,
          21,
          35,
          21,
          47,
          38,
          36,
          53,
          34,
          34,
          30,
          28,
          47,
          49,
          36,
          45,
          18,
          25,
          29,
          57,
          34,
          35,
          37.11793090137039,
          18,
          62,
          29,
          25,
          30,
          24,
          52,
          33,
          56,
          49,
          20,
          62,
          62,
          6,
          30,
          57,
          18,
          47,
          48,
          20,
          30,
          51,
          55,
          48,
          20,
          25,
          26,
          45,
          35,
          34,
          36,
          22,
          63,
          31,
          25,
          57,
          32,
          42,
          52,
          25,
          25,
          31,
          39,
          16,
          24,
          32,
          25,
          28,
          28,
          21,
          30,
          58,
          47,
          41,
          25,
          44,
          34,
          27,
          34,
          29,
          39,
          24,
          47,
          45,
          28,
          50,
          49,
          45,
          24,
          32,
          23,
          52,
          26,
          58,
          50,
          22,
          53,
          69,
          23,
          29,
          25,
          18,
          31,
          23,
          18,
          35,
          28,
          26,
          32,
          36,
          66,
          21,
          47,
          24,
          60,
          38,
          51,
          35,
          46,
          48,
          36,
          33,
          66,
          34,
          55,
          54,
          36,
          25,
          24,
          28,
          36,
          20,
          49,
          21,
          30,
          32,
          33,
          56,
          39,
          19,
          45,
          33,
          52,
          51,
          37.11793090137039,
          25,
          24,
          32,
          58,
          24,
          26,
          30,
          31,
          34,
          48,
          37.11793090137039,
          21,
          39,
          25,
          30,
          56,
          29,
          19,
          35,
          36,
          24,
          23,
          31,
          41,
          19,
          38,
          36,
          34,
          52,
          28,
          37.11793090137039,
          55,
          23,
          30,
          54,
          37,
          37,
          30,
          27,
          22,
          29,
          39,
          33,
          52,
          28,
          54,
          38,
          32,
          34,
          26,
          50,
          37,
          56,
          45,
          32,
          49,
          58,
          29,
          60,
          40,
          39,
          26,
          24,
          34,
          27,
          44,
          55,
          19,
          52,
          31,
          26,
          24,
          38,
          33,
          28,
          27,
          39,
          29,
          36,
          55,
          28,
          40,
          33,
          37,
          39,
          43,
          38,
          55,
          52,
          32,
          31,
          27,
          40,
          30,
          26,
          33,
          19,
          33,
          29,
          29,
          38,
          64,
          42,
          46,
          42,
          37,
          25,
          36,
          21,
          30,
          53,
          31,
          22,
          24,
          36,
          47,
          54,
          43,
          38,
          30,
          51,
          55,
          16,
          23,
          36,
          33,
          17,
          22,
          22,
          29,
          41,
          67,
          36,
          52,
          56,
          35,
          45,
          30,
          29,
          53,
          22,
          24,
          19,
          29,
          50,
          29,
          26,
          39,
          52,
          51,
          48,
          30,
          37,
          30,
          35,
          32,
          25,
          35,
          31,
          30,
          23,
          41,
          45,
          46,
          32,
          33,
          45,
          38,
          22,
          48,
          36,
          26,
          39,
          16,
          58,
          27,
          26,
          21,
          37,
          56,
          19,
          38,
          18,
          35,
          23,
          41,
          44,
          24,
          39,
          22,
          37,
          36,
          41,
          27,
          30,
          34,
          22,
          51,
          42,
          41,
          49,
          45,
          45,
          42,
          41,
          27,
          37,
          22,
          21,
          50,
          23,
          25,
          51,
          46,
          23,
          43,
          37,
          20,
          45,
          16,
          30,
          26,
          24,
          28,
          29,
          34,
          38,
          43,
          23,
          33,
          40,
          38,
          53,
          29,
          30,
          60,
          24,
          21,
          23,
          61,
          54,
          62,
          16,
          25,
          28,
          76,
          25,
          33,
          51,
          34,
          30,
          44,
          24,
          29,
          48,
          19,
          22,
          39,
          36,
          55,
          46,
          34,
          33,
          18,
          33,
          51,
          46,
          33,
          25,
          52,
          18,
          43,
          34,
          31,
          65,
          37,
          30,
          25,
          69,
          48,
          50,
          52,
          44,
          60,
          20,
          45,
          44,
          40,
          43,
          27,
          19,
          39,
          30,
          28,
          22,
          16,
          40,
          38,
          20,
          35,
          52,
          26,
          54,
          38,
          52,
          26,
          53,
          22,
          31,
          32,
          37,
          28,
          18,
          41,
          15,
          38,
          41,
          52,
          48,
          29,
          51,
          21,
          24,
          18,
          30,
          33,
          28,
          26,
          44,
          34,
          21,
          36,
          37,
          53,
          24,
          45,
          48,
          42,
          33,
          55,
          28,
          25,
          28,
          52,
          59,
          52,
          39,
          40,
          36,
          38,
          37.11793090137039,
          29,
          37,
          29,
          21,
          33,
          23,
          26,
          29,
          33,
          28,
          35,
          33,
          24,
          37.11793090137039,
          28,
          19,
          43,
          59,
          34,
          35,
          23,
          36,
          46,
          44,
          20,
          30,
          35,
          36,
          22,
          31,
          63,
          38,
          31,
          27,
          35,
          22,
          28,
          26,
          22,
          31,
          43,
          24,
          29,
          43,
          21,
          19,
          25,
          59,
          50,
          58,
          25,
          32,
          53,
          38,
          70,
          33,
          36,
          21,
          51,
          43,
          18,
          33,
          34,
          31,
          35,
          31,
          31,
          23,
          25,
          25,
          21,
          49,
          63,
          43,
          34,
          38,
          52,
          68,
          29,
          32,
          50,
          31,
          27,
          31,
          29,
          23,
          61,
          33,
          18,
          80,
          43,
          50,
          47,
          54,
          22,
          43,
          38,
          36,
          30,
          59,
          21,
          34,
          17,
          37,
          25,
          23,
          20,
          19,
          50,
          24,
          25,
          20,
          37,
          44,
          22,
          31,
          25,
          37.11793090137039,
          36,
          50,
          42,
          26,
          19,
          59,
          36,
          51,
          27,
          22,
          30,
          28,
          63,
          32,
          26,
          25,
          27,
          61,
          30,
          37.11793090137039,
          37,
          41,
          25,
          24,
          44,
          63,
          58,
          30,
          35,
          50,
          40,
          37.11793090137039,
          19,
          34,
          18,
          21,
          29,
          49,
          37,
          32,
          65,
          37,
          33,
          63,
          30,
          40,
          38,
          50,
          41,
          41,
          39,
          44,
          23,
          32,
          56,
          33,
          63,
          31,
          57,
          26,
          39,
          42,
          29,
          43,
          56,
          31,
          50,
          36,
          50,
          49,
          31,
          34,
          36,
          29,
          32,
          18,
          50,
          36,
          17,
          19,
          24,
          24,
          20,
          33,
          41,
          47,
          18,
          31,
          27,
          36,
          59,
          32,
          38,
          18,
          43,
          67,
          32,
          22,
          31,
          43,
          34,
          51,
          31,
          54,
          69,
          58,
          26,
          59,
          25,
          20,
          57,
          56,
          64,
          34,
          69,
          45,
          14,
          44,
          59,
          33,
          54,
          22,
          49,
          23,
          38,
          53,
          36,
          29,
          42,
          36,
          32,
          53,
          30,
          25,
          18,
          55,
          27,
          37,
          29,
          40,
          36,
          38,
          29,
          59,
          47,
          22,
          31,
          29,
          54,
          71,
          36,
          34,
          49,
          36,
          43,
          53,
          31,
          32,
          41,
          26,
          82,
          37,
          24,
          56,
          22,
          59,
          36,
          21,
          38,
          60,
          18,
          23,
          37.11793090137039,
          38,
          22,
          38,
          25,
          25,
          36,
          37.11793090137039,
          44,
          36,
          35,
          25,
          31,
          70,
          25,
          55,
          35,
          25,
          32,
          38,
          32,
          64,
          55,
          69,
          37,
          31,
          25,
          25,
          13,
          32,
          69,
          34,
          29,
          29,
          40,
          42,
          25,
          45,
          55,
          22,
          61,
          30,
          56,
          35,
          22,
          23,
          43,
          43,
          49,
          23,
          41,
          33,
          30,
          25,
          52,
          32,
          46,
          48,
          38,
          26,
          32,
          28,
          53,
          38,
          18,
          32,
          37,
          18,
          20,
          28,
          18,
          16,
          36,
          57,
          49,
          31,
          26,
          51,
          28,
          35,
          57,
          36,
          42,
          37.11793090137039,
          49,
          21,
          62,
          41,
          40,
          27,
          19,
          26,
          44,
          30,
          31,
          33,
          22,
          38,
          46,
          23,
          24,
          26,
          32,
          50,
          17,
          39,
          28,
          42,
          34,
          38,
          28,
          29,
          58,
          21,
          45,
          38,
          40,
          19,
          46,
          25,
          37,
          25,
          36,
          32,
          33,
          24,
          37,
          38,
          45,
          31,
          34,
          23,
          55,
          76,
          59,
          40,
          23,
          26,
          35,
          49,
          36,
          56,
          34,
          43,
          31,
          17,
          32,
          33,
          43,
          31,
          23,
          26,
          45,
          19,
          36,
          41,
          53,
          24,
          37.11793090137039,
          37.11793090137039,
          40,
          29,
          22,
          21,
          25,
          37,
          37,
          56,
          25,
          26,
          35,
          25,
          29,
          21,
          15,
          24,
          18,
          19,
          27,
          45,
          36,
          34,
          23,
          43,
          19,
          37,
          23,
          26,
          20,
          59,
          33,
          48,
          50,
          18,
          23,
          41,
          41,
          55,
          29,
          31,
          25,
          38,
          37.11793090137039,
          83,
          22,
          33,
          36,
          26,
          29,
          55,
          47,
          52,
          49,
          37,
          37,
          36,
          31,
          30,
          37.11793090137039,
          35,
          35,
          36,
          39,
          30,
          24,
          53,
          73,
          31,
          28,
          18,
          32,
          60,
          48,
          33,
          44,
          20,
          37,
          72,
          52,
          46,
          25,
          38,
          27,
          24,
          19,
          31,
          18,
          48,
          29,
          30,
          61,
          41,
          36,
          28,
          21,
          46,
          32,
          33,
          42,
          17,
          35,
          23,
          21,
          44,
          53,
          63,
          18,
          51,
          64,
          45,
          20,
          41,
          23,
          32,
          25,
          42,
          41,
          31,
          50,
          38,
          44,
          38,
          21,
          32,
          23,
          41,
          41,
          38,
          54,
          20,
          26,
          29,
          47,
          28,
          48,
          34,
          33,
          36,
          43,
          32,
          29,
          39,
          40,
          50,
          19,
          28,
          16,
          49,
          44,
          25,
          39,
          44,
          50,
          57,
          57,
          33,
          21,
          52,
          27,
          60,
          25,
          34,
          22,
          26,
          27,
          29,
          30,
          32,
          18,
          37,
          54,
          50,
          28,
          59,
          24,
          34,
          25,
          25,
          17,
          48,
          45,
          18,
          50,
          36,
          45,
          42,
          37.11793090137039,
          23,
          31,
          26,
          57,
          18,
          27,
          41,
          33,
          22,
          38,
          26,
          45,
          68,
          56,
          23,
          45,
          41,
          33,
          22,
          50,
          52,
          35,
          18,
          34,
          51,
          18,
          29,
          34,
          25,
          17,
          26,
          33,
          25,
          31,
          25,
          45,
          25,
          23,
          37,
          33,
          27,
          32,
          31,
          26,
          32,
          53,
          19,
          53,
          35,
          64,
          24,
          33,
          55,
          17,
          48,
          21,
          22,
          30,
          34,
          35,
          32,
          22,
          46,
          27,
          18,
          33,
          26,
          27,
          26,
          51,
          63,
          38,
          25,
          39,
          41,
          26,
          33,
          38,
          24,
          47,
          62,
          30,
          23,
          39,
          41,
          36,
          66,
          27,
          40,
          25,
          20,
          43,
          40,
          33,
          34,
          27,
          25,
          37,
          32,
          25,
          38,
          50,
          26,
          70,
          38,
          41,
          91,
          25,
          29,
          24,
          40,
          51,
          30,
          28,
          33,
          23,
          23,
          20,
          56,
          36,
          18,
          43,
          29,
          25,
          34,
          32,
          58,
          36,
          32,
          25,
          25,
          25,
          42,
          36,
          59,
          19,
          45,
          42,
          27,
          45,
          51,
          42,
          24,
          39,
          18,
          26,
          35,
          53,
          54,
          36,
          56,
          51,
          45,
          28,
          36,
          73,
          26,
          41,
          59,
          28,
          45,
          27,
          46,
          34,
          30,
          46,
          47,
          32,
          65,
          19,
          22,
          39,
          38,
          68,
          49,
          37,
          33,
          25,
          36,
          30,
          39,
          28,
          28,
          25,
          57,
          33,
          24,
          33,
          56,
          56,
          16,
          47,
          33,
          32,
          21,
          64,
          19,
          26,
          25,
          55,
          25,
          43,
          39,
          24,
          70,
          79,
          16,
          35,
          15,
          23,
          53,
          20,
          27,
          53,
          32,
          57,
          26,
          53,
          32,
          25,
          15,
          59,
          35,
          33,
          32,
          49,
          46,
          25,
          20,
          48,
          24,
          18,
          67,
          26,
          15,
          27,
          26,
          62,
          24,
          32,
          29,
          16,
          25,
          40,
          39,
          34,
          36,
          24,
          50,
          37.11793090137039,
          30,
          35,
          46,
          51,
          37,
          41,
          41,
          48,
          29,
          47,
          34,
          48,
          25,
          24,
          38,
          28,
          47,
          65,
          58,
          33,
          43,
          24,
          37,
          31,
          65,
          59,
          74,
          21,
          24,
          37.11793090137039,
          23,
          59,
          33,
          34,
          30,
          22,
          37,
          20,
          18,
          24,
          17,
          27,
          51,
          29,
          34,
          18,
          17,
          55,
          44,
          27,
          66,
          45,
          47,
          34,
          37,
          54,
          21,
          21,
          35,
          75,
          45,
          48,
          58,
          30,
          44,
          82,
          29,
          25,
          53,
          60,
          19,
          63,
          50,
          35,
          45,
          24,
          36,
          35,
          33,
          66,
          54,
          20,
          40,
          41,
          30,
          32,
          37,
          48,
          64,
          21,
          28,
          36,
          40,
          32,
          50,
          28,
          33,
          37,
          17,
          20,
          34,
          37,
          24,
          47,
          20,
          56,
          24,
          47,
          36,
          35,
          37,
          45,
          41,
          23,
          37,
          23,
          33,
          23,
          37,
          19,
          39,
          53,
          51,
          25,
          45,
          28,
          36,
          32,
          39,
          46,
          53,
          42,
          34,
          53,
          45,
          24,
          51,
          35,
          27,
          33,
          16,
          30,
          22,
          23,
          28,
          34,
          24,
          54,
          26,
          39,
          34,
          27,
          48,
          47,
          54,
          33,
          40,
          58,
          55,
          47,
          42,
          29,
          23,
          23,
          52,
          43,
          37,
          32,
          70,
          24,
          24,
          38,
          52,
          27,
          22,
          42,
          49,
          59,
          41,
          34,
          31,
          23,
          28,
          33,
          16,
          35,
          26,
          25,
          25,
          31,
          35,
          46,
          39,
          26,
          37,
          32,
          31,
          48,
          29,
          32,
          28,
          43,
          39,
          37,
          39,
          42,
          33,
          25,
          29,
          45,
          27,
          28,
          57,
          15,
          33,
          35,
          47,
          31,
          54,
          24,
          35,
          32,
          28,
          45,
          29,
          36,
          23,
          17,
          20,
          33,
          49,
          31,
          35,
          24,
          54,
          41,
          50,
          46,
          45,
          20,
          37,
          34,
          54,
          65,
          28,
          26,
          25,
          32,
          44,
          32,
          42,
          66,
          22,
          51,
          64,
          71,
          30,
          48,
          56,
          28,
          19,
          24,
          44,
          47,
          18,
          26,
          33,
          34,
          62,
          24,
          55,
          22,
          27,
          32,
          22,
          32,
          45,
          36,
          37,
          47,
          30,
          31,
          44,
          52,
          16,
          29,
          42,
          31,
          41,
          45,
          50,
          26,
          22,
          76,
          58,
          32,
          19,
          25,
          48,
          39,
          31,
          50,
          15,
          48,
          32,
          21,
          37,
          21,
          40,
          33,
          25,
          55,
          53,
          27,
          35,
          25,
          31,
          70,
          40,
          25,
          38,
          26,
          27,
          37.11793090137039,
          28,
          40,
          44,
          39,
          24,
          32,
          31,
          50,
          31,
          50,
          45,
          44,
          48,
          39,
          30,
          44,
          28,
          24,
          27,
          34,
          41,
          26,
          38,
          33,
          22,
          40,
          34,
          37,
          67,
          35,
          29,
          28,
          40,
          31,
          51,
          47,
          52,
          28,
          35,
          25,
          37.11793090137039,
          58,
          24,
          46,
          61,
          43,
          44,
          35,
          29,
          57,
          42,
          44,
          20,
          32,
          34,
          18,
          31,
          24,
          35,
          34,
          26,
          55,
          38,
          23,
          30,
          44,
          37,
          27,
          43,
          30,
          35,
          35,
          37,
          25,
          34,
          33,
          33,
          32,
          34,
          46,
          40,
          27,
          17,
          46,
          50,
          41,
          23,
          33,
          25,
          27,
          39,
          22,
          27,
          28,
          56,
          71,
          53,
          39,
          56,
          24,
          35,
          30,
          31,
          20,
          35,
          49,
          48,
          35,
          30,
          32,
          31,
          14,
          25,
          32,
          35,
          27,
          55,
          43,
          62,
          25,
          37.11793090137039,
          50,
          19,
          41,
          55,
          19,
          67,
          24,
          44,
          29,
          48,
          22,
          37.11793090137039,
          59,
          68,
          25,
          23,
          46,
          25,
          30,
          56,
          24,
          18,
          27,
          26,
          15,
          26,
          32,
          17,
          32,
          43,
          26,
          51,
          39,
          43,
          31,
          22,
          40,
          64,
          30,
          59,
          24,
          32,
          37,
          33,
          42,
          37,
          33,
          62,
          46,
          69,
          24,
          42,
          49,
          35,
          19,
          40,
          34,
          22,
          16,
          69,
          24,
          28,
          51,
          20,
          34,
          27,
          48,
          33,
          6,
          26,
          40,
          46,
          20,
          28,
          30,
          36,
          25,
          28,
          38,
          30,
          31,
          36,
          65,
          42,
          65,
          49,
          66,
          28,
          27,
          31,
          46,
          28,
          35,
          24,
          17,
          39,
          21,
          21,
          57,
          27,
          62,
          40,
          38,
          27,
          54,
          27,
          51,
          25,
          46,
          20,
          32,
          27,
          21,
          60,
          44,
          23,
          31,
          43,
          39,
          54,
          22,
          37,
          42,
          22,
          42,
          32,
          30,
          27,
          29,
          34,
          26,
          22,
          16,
          31,
          58,
          23,
          44,
          46,
          61,
          17,
          46,
          35,
          36,
          28,
          37,
          47,
          35,
          40,
          24,
          18,
          38,
          54,
          27,
          62,
          66,
          47,
          19,
          27,
          23,
          42,
          43,
          42,
          45,
          45,
          33,
          38,
          33,
          46,
          52,
          46,
          40,
          20,
          39,
          35,
          31,
          32,
          56,
          37,
          32,
          28,
          26,
          27,
          37.11793090137039,
          43,
          49,
          16,
          35,
          19,
          59,
          29,
          37,
          22,
          40,
          35,
          39,
          36,
          78,
          25,
          41,
          63,
          48,
          42,
          39,
          84,
          33,
          52,
          30,
          29,
          27,
          41,
          57,
          27,
          58,
          59,
          39,
          28,
          28,
          23,
          55,
          33,
          23,
          45,
          37,
          21,
          27,
          39,
          37,
          22,
          26,
          27,
          37,
          58,
          62,
          25,
          36,
          37.11793090137039,
          27,
          37,
          25,
          40,
          22,
          29,
          20,
          33,
          48,
          47,
          40,
          29,
          29,
          44,
          36,
          48,
          49,
          41,
          37.11793090137039,
          28,
          33,
          44,
          65,
          35,
          25,
          40,
          36,
          55,
          19,
          70,
          37,
          53,
          46,
          29,
          27,
          27,
          38,
          20,
          45,
          32,
          48,
          57,
          16,
          47,
          61,
          32,
          31,
          46,
          27,
          31,
          26,
          31,
          27,
          49,
          26,
          28,
          62,
          50,
          23,
          40,
          50,
          50,
          27,
          35,
          32,
          56,
          20,
          56,
          39,
          47,
          25,
          21,
          18,
          36,
          35,
          29,
          20,
          30,
          40,
          48,
          23,
          42,
          20,
          28,
          34,
          41,
          24,
          29,
          44,
          31,
          26,
          51,
          64,
          29,
          61,
          44,
          39,
          35,
          39,
          60,
          42,
          27,
          21,
          33,
          60,
          24,
          41,
          41,
          34,
          23,
          38,
          58,
          49,
          27,
          34,
          34,
          30,
          81,
          40,
          27,
          26,
          18,
          59,
          56,
          22,
          34,
          23,
          36,
          48,
          33,
          24,
          25,
          20,
          45,
          29,
          34,
          23,
          29,
          44,
          30,
          28,
          25,
          61,
          39,
          50,
          37.11793090137039,
          23,
          39,
          45,
          34,
          31,
          55,
          39,
          32,
          44,
          24,
          36,
          41,
          25,
          39,
          40,
          32,
          45,
          31,
          32,
          48,
          49,
          48,
          18,
          48,
          25,
          27,
          37,
          44,
          27,
          41,
          42,
          36,
          37,
          46,
          26,
          41,
          38,
          42,
          47,
          26,
          64,
          49,
          44,
          48,
          27,
          67,
          24,
          26,
          28,
          21,
          24,
          73,
          39,
          32,
          38,
          32,
          26,
          50,
          48,
          65,
          37,
          45,
          33,
          46,
          33,
          33,
          51,
          52,
          24,
          55,
          28,
          36,
          24,
          20,
          54,
          53,
          36,
          24,
          34,
          59,
          34,
          29,
          24,
          77,
          30,
          36,
          36,
          58,
          47,
          49,
          25,
          30,
          33,
          29,
          31,
          51,
          42,
          67,
          23,
          34,
          51,
          19,
          29,
          23,
          42,
          21,
          55,
          37.11793090137039,
          43,
          32,
          34,
          40,
          55,
          20,
          24,
          43,
          56,
          47,
          33,
          28,
          50,
          36,
          47,
          49,
          34,
          41,
          29,
          34,
          34,
          22,
          26,
          32,
          44,
          21,
          29,
          18,
          33,
          37.11793090137039,
          40,
          40,
          37,
          47,
          33,
          44,
          65,
          20,
          17,
          55,
          33,
          44,
          37,
          32,
          31,
          20,
          30,
          25,
          47,
          48,
          32,
          18,
          29,
          30,
          39,
          36,
          36,
          54,
          27,
          45,
          19,
          36,
          33,
          56,
          33,
          60,
          26,
          52,
          40,
          33,
          41,
          32,
          34,
          26,
          62,
          55,
          38,
          43,
          38,
          27,
          52,
          37,
          34,
          41,
          40,
          53,
          21,
          34,
          22,
          25,
          16,
          37,
          68,
          25,
          34,
          23,
          25,
          57,
          27,
          51,
          30,
          33,
          37.11793090137039,
          19,
          22,
          37,
          19,
          33,
          38,
          45,
          39,
          21,
          56,
          50,
          16,
          18,
          38,
          32,
          33,
          71,
          30,
          19,
          44,
          54,
          29,
          37.11793090137039,
          56,
          64,
          25,
          18,
          36,
          24,
          30,
          53,
          32,
          25,
          44,
          32,
          33,
          37.11793090137039,
          35,
          23,
          27,
          53,
          35,
          41,
          18,
          34,
          49,
          31,
          29,
          33,
          38,
          43,
          29,
          68,
          62,
          39,
          59,
          24,
          70,
          42,
          26,
          24,
          48,
          54,
          48,
          37,
          40,
          28,
          43,
          35,
          21,
          40,
          32,
          48,
          31,
          37.11793090137039,
          58,
          30,
          21,
          15,
          30,
          28,
          21,
          33,
          37.11793090137039,
          36,
          38,
          44,
          20,
          41,
          18,
          29,
          25,
          20,
          34,
          37,
          18,
          72,
          17,
          64,
          36,
          61,
          24,
          70,
          40,
          21,
          27,
          23,
          33,
          45,
          19,
          28,
          63,
          37.11793090137039,
          57,
          32,
          38,
          46,
          31,
          40,
          31,
          50,
          29,
          25,
          31,
          23,
          44,
          43,
          37,
          55,
          40,
          26,
          29,
          29,
          42,
          20,
          34,
          41,
          29,
          19,
          32,
          23,
          41,
          37,
          24,
          54,
          58,
          40,
          27,
          40,
          23,
          33,
          26,
          38,
          25,
          31,
          48,
          43,
          36,
          39,
          22,
          24,
          36,
          25,
          30,
          76,
          39,
          21,
          31,
          22,
          27,
          84,
          17,
          17,
          22,
          41,
          58,
          29,
          19,
          18,
          61,
          18,
          23,
          38,
          19,
          63,
          21,
          25,
          35,
          50,
          37.11793090137039,
          26,
          61,
          18,
          37,
          27,
          24,
          37,
          28,
          44,
          30,
          30,
          34,
          27,
          28,
          32,
          24,
          17,
          26,
          35,
          25,
          33,
          25,
          29,
          18,
          19,
          39,
          61,
          36,
          72,
          48,
          34,
          36,
          33,
          30,
          61,
          41,
          52,
          26,
          37.11793090137039,
          39,
          36,
          47,
          37.11793090137039,
          25,
          63,
          24,
          38,
          22,
          59,
          29,
          18,
          29,
          25,
          48,
          60,
          27,
          65,
          41,
          33,
          33,
          22,
          52,
          42,
          48,
          24,
          21,
          20,
          59,
          46,
          23,
          32,
          19,
          64,
          35,
          41,
          42,
          35,
          33,
          32,
          37,
          37,
          65,
          30,
          43,
          18,
          27,
          41,
          41,
          33,
          53,
          42,
          46,
          51,
          16,
          41,
          24,
          23,
          50,
          41,
          23,
          33,
          58,
          47,
          22,
          29,
          43,
          18,
          19,
          37,
          42,
          35,
          50,
          60,
          35,
          37.11793090137039,
          24,
          27,
          27,
          23,
          57,
          56,
          36,
          37.11793090137039,
          37.11793090137039,
          34,
          17,
          21,
          35,
          34,
          56,
          35,
          46,
          42,
          49,
          44,
          45,
          36,
          45,
          34,
          26,
          28,
          35,
          20,
          33,
          39,
          63,
          27,
          33,
          27,
          31,
          33,
          39,
          27,
          32,
          29,
          28,
          50,
          55,
          42,
          36,
          38,
          38,
          35,
          42,
          70,
          29,
          26,
          20,
          30,
          19,
          48,
          58,
          38,
          28,
          34,
          45,
          18,
          25,
          38,
          33,
          39,
          58,
          48,
          14,
          18,
          22,
          46,
          37.11793090137039,
          57,
          32,
          31,
          64,
          35,
          42,
          30,
          26,
          37,
          21,
          20,
          46,
          37.11793090137039,
          20,
          46,
          26,
          60,
          25,
          29,
          59,
          46,
          55,
          27,
          30,
          45,
          51,
          27,
          47,
          52,
          45,
          47,
          68,
          40,
          18,
          35,
          80,
          44,
          31,
          20,
          43,
          25,
          38,
          34,
          58,
          38,
          29,
          40,
          49,
          25,
          21,
          57,
          28,
          25,
          58,
          34,
          34,
          24,
          32,
          58,
          20,
          19,
          46,
          28,
          47,
          47,
          34,
          37.11793090137039,
          45,
          17,
          34,
          48,
          32,
          20,
          31,
          16,
          24,
          39,
          26,
          30,
          36,
          28,
          21,
          36,
          28,
          24,
          29,
          44,
          41,
          38,
          40,
          27,
          51,
          48,
          40,
          29,
          34,
          47,
          29,
          33,
          46,
          36,
          63,
          27,
          17,
          22,
          31,
          56,
          32,
          25,
          47,
          37.11793090137039,
          23,
          34,
          35,
          46,
          59,
          30,
          34,
          44,
          31,
          51,
          34,
          45,
          31,
          41,
          29,
          30,
          27,
          38,
          33,
          25,
          47,
          49,
          33,
          36,
          22,
          29,
          52,
          61,
          29,
          37,
          19,
          45,
          22,
          57,
          46,
          27,
          26,
          30,
          18,
          25,
          51,
          40,
          47,
          38,
          39,
          30,
          42,
          25,
          22,
          30,
          24,
          31,
          25,
          19,
          31,
          48,
          53,
          50,
          55,
          37.11793090137039,
          37,
          30,
          36,
          24,
          35,
          42,
          37,
          28,
          32,
          33,
          27,
          21,
          47,
          57,
          34,
          34,
          30,
          28,
          39,
          54,
          27,
          32,
          32,
          47,
          33,
          42,
          37.11793090137039,
          24,
          42,
          34,
          46,
          40,
          30,
          42,
          30,
          63,
          18,
          29,
          42,
          32,
          50,
          29,
          29,
          51,
          23,
          47,
          45,
          42,
          26,
          29,
          17,
          37.11793090137039,
          51,
          37,
          28,
          52,
          37,
          37,
          25,
          35,
          35,
          61,
          33,
          34,
          59,
          32,
          49,
          31,
          29,
          25,
          26,
          37.11793090137039,
          39,
          26,
          36,
          45,
          54,
          43,
          37.11793090137039,
          30,
          37.11793090137039,
          39,
          40,
          36,
          27,
          20,
          17,
          59,
          45,
          46,
          26,
          21,
          29,
          33,
          47,
          22,
          41,
          28,
          56,
          41,
          35,
          59,
          30,
          49,
          41,
          21,
          62,
          22,
          58,
          32,
          26,
          35,
          27,
          35,
          23,
          59,
          23,
          43,
          41,
          56,
          45,
          28,
          37.11793090137039,
          54,
          39,
          37.11793090137039,
          41,
          27,
          70,
          37.11793090137039,
          35,
          26,
          58,
          46,
          39,
          20,
          38,
          41,
          32,
          37.11793090137039,
          24,
          19,
          27,
          40,
          61,
          20,
          35,
          17,
          22,
          45,
          20,
          18,
          28,
          38,
          53,
          31,
          48,
          20,
          35,
          22,
          18,
          74,
          33,
          38,
          26,
          41,
          29,
          19,
          61,
          34,
          35,
          43,
          50,
          32,
          50,
          54,
          35,
          33,
          18,
          50,
          41,
          37,
          76,
          19,
          40,
          61,
          61,
          22,
          52,
          23,
          67,
          44,
          23,
          39,
          53,
          39,
          26,
          49,
          34,
          47,
          34,
          58,
          21,
          37,
          43,
          61,
          28,
          41,
          23,
          36,
          23,
          26,
          32,
          62,
          33,
          32,
          69,
          35,
          46,
          46,
          22,
          20,
          30,
          49,
          43,
          52,
          56,
          36,
          52,
          35,
          35,
          53,
          23,
          19,
          41,
          39,
          28,
          37.11793090137039,
          53,
          27,
          31,
          38,
          38,
          41,
          49,
          56,
          62,
          31,
          37,
          37.11793090137039,
          28,
          46,
          21,
          36,
          48,
          34,
          45,
          19,
          32,
          32,
          24,
          65,
          29,
          49,
          19,
          56,
          39,
          43,
          57,
          49,
          18,
          27,
          52,
          37,
          45,
          49,
          38,
          31,
          51,
          37.11793090137039,
          51,
          20,
          26,
          25,
          37.11793090137039,
          62,
          27,
          33,
          39,
          18,
          27,
          50,
          57,
          29,
          39,
          31,
          34,
          52,
          33,
          37,
          52,
          62,
          30,
          28,
          51,
          23,
          36,
          37,
          49,
          49,
          35,
          17,
          30,
          34,
          46,
          29,
          28,
          43,
          42,
          30,
          24,
          27,
          41,
          47,
          26,
          20,
          18,
          37.11793090137039,
          29,
          35,
          77,
          31,
          54,
          33,
          76,
          28,
          31,
          53,
          33,
          37,
          36,
          39,
          43,
          44,
          33,
          49,
          18,
          21,
          57,
          29,
          58,
          74,
          63,
          28,
          67,
          64,
          32,
          49,
          28,
          31,
          20,
          27,
          37,
          36,
          35,
          50,
          75,
          32,
          34,
          24,
          37,
          33,
          37,
          55,
          31,
          54,
          37,
          48,
          28,
          31,
          48,
          58,
          19,
          21,
          57,
          17,
          22,
          26,
          31,
          61,
          28,
          30,
          30,
          28,
          26,
          28,
          21,
          31,
          27,
          34,
          22,
          29,
          38,
          51,
          34,
          30,
          21,
          39,
          34,
          47,
          29,
          29,
          44,
          53,
          19,
          40,
          33,
          45,
          40,
          27,
          63,
          50,
          25,
          39,
          42,
          25,
          24,
          37.11793090137039,
          37.11793090137039,
          62,
          34,
          33,
          56,
          22,
          46,
          41,
          38,
          22,
          42,
          29,
          56,
          32,
          31,
          21,
          31,
          48,
          58,
          32,
          45,
          37,
          20,
          34,
          31,
          26,
          32,
          66,
          37,
          38,
          44,
          28,
          22,
          39,
          30,
          27,
          37.11793090137039,
          37,
          52,
          35,
          33,
          27,
          27,
          41,
          28,
          26,
          37.11793090137039,
          34,
          34,
          38,
          32,
          50,
          55,
          51,
          18,
          36,
          37,
          28,
          24,
          34,
          22,
          42,
          48,
          51,
          40,
          34,
          30,
          31,
          54,
          60,
          40,
          37.11793090137039,
          40,
          68,
          68,
          60,
          16,
          25,
          20,
          21,
          38,
          28,
          18,
          37.11793090137039,
          26,
          31,
          58,
          31,
          41,
          41,
          41,
          23,
          17,
          35,
          65,
          51,
          47,
          42,
          42,
          31,
          23,
          47,
          66,
          55,
          68,
          31,
          24,
          30,
          34,
          23,
          43,
          22,
          22,
          42,
          65,
          18,
          23,
          52,
          40,
          27,
          34,
          25,
          28,
          37.11793090137039,
          27,
          41,
          27,
          38,
          29,
          47,
          28,
          38,
          21,
          44,
          61,
          25,
          40,
          26,
          57,
          57,
          24,
          46,
          38,
          24,
          34,
          65,
          60,
          23,
          35,
          35,
          16,
          37.11793090137039,
          42,
          43,
          52,
          31,
          27,
          31,
          34,
          29,
          34,
          37.11793090137039,
          18,
          25,
          28,
          37,
          37.11793090137039,
          23,
          57,
          49,
          24,
          20,
          25,
          26,
          26,
          41,
          31,
          30,
          25,
          57,
          17,
          27,
          30,
          18,
          50,
          21,
          28,
          28,
          33,
          59,
          34,
          37,
          30,
          47,
          34,
          24,
          25,
          37.11793090137039,
          47,
          49,
          31,
          47,
          52,
          29,
          45,
          51,
          55,
          35,
          50,
          31,
          47,
          35,
          66,
          19,
          19,
          43,
          57,
          31,
          41,
          39,
          24,
          20,
          32,
          31,
          22,
          60,
          40,
          37,
          34,
          22,
          30,
          26,
          29,
          32,
          32,
          27,
          31,
          19,
          34,
          32,
          43,
          22,
          43,
          27,
          39,
          37,
          20,
          34,
          32,
          15,
          52,
          53,
          24,
          41,
          17,
          44,
          56,
          23,
          32,
          26,
          41,
          56,
          33,
          37,
          41,
          38,
          67,
          45,
          48,
          31,
          47,
          40,
          40,
          34,
          51,
          33,
          25,
          41,
          19,
          21,
          58,
          63,
          37.11793090137039,
          58,
          16,
          31,
          33,
          40,
          34,
          29,
          27,
          23,
          38,
          17,
          75,
          40,
          36,
          27,
          28,
          20,
          38,
          16,
          30,
          30,
          30,
          36,
          33,
          39,
          22,
          49,
          45,
          45,
          30,
          30,
          31,
          73,
          39,
          37,
          37.11793090137039,
          31,
          25,
          24,
          27,
          37.11793090137039,
          32,
          43,
          84,
          31,
          57,
          37,
          47,
          44,
          38,
          21,
          47,
          30,
          62,
          41,
          50,
          37.11793090137039,
          31,
          30,
          32,
          20,
          38,
          47,
          19,
          35,
          58,
          18,
          39,
          61,
          51,
          28,
          33,
          47,
          39,
          31,
          18,
          23,
          46,
          50,
          34,
          45,
          31,
          19,
          53,
          32,
          46,
          26,
          46,
          22,
          38,
          44,
          37,
          52,
          29,
          19,
          66,
          40,
          30,
          69,
          27,
          62,
          37.11793090137039,
          39,
          67,
          54,
          29,
          33,
          31,
          38,
          28,
          45,
          59,
          17,
          19,
          36,
          39,
          37.11793090137039,
          33,
          31,
          51,
          35,
          36,
          31,
          39,
          58,
          39,
          24,
          48,
          31,
          37.11793090137039,
          43,
          33,
          24,
          40,
          28,
          24,
          27,
          40,
          35,
          42,
          42,
          24,
          59,
          61,
          26,
          32,
          50,
          38,
          29,
          27,
          43,
          21,
          36,
          24,
          32,
          26,
          54,
          44,
          69,
          45,
          26,
          43,
          38,
          21,
          23,
          33,
          40,
          21,
          20,
          21,
          47,
          38,
          31,
          51,
          19,
          21,
          48,
          42,
          30,
          47,
          57,
          27,
          50,
          37,
          24,
          24,
          30,
          49,
          47,
          31,
          33,
          29,
          42,
          38,
          25,
          39,
          64,
          28,
          32,
          69,
          29,
          45,
          40,
          60,
          22,
          28,
          38,
          28,
          37,
          22,
          18,
          38,
          58,
          50,
          31,
          35,
          53,
          31,
          35,
          37.11793090137039,
          32,
          39,
          44,
          46,
          49,
          32,
          53,
          25,
          36,
          22,
          33,
          44,
          25,
          36,
          42,
          24,
          22,
          35,
          38,
          28,
          26,
          62,
          27,
          23,
          22,
          31
         ],
         "xaxis": "x",
         "yaxis": "y"
        },
        {
         "alignmentgroup": "True",
         "bingroup": "x",
         "hovertemplate": "gender=F<br>age=%{x}<br>count=%{y}<extra></extra>",
         "legendgroup": "F",
         "marker": {
          "color": "#EF553B"
         },
         "name": "F",
         "nbinsx": 20,
         "offsetgroup": "F",
         "orientation": "v",
         "showlegend": true,
         "type": "histogram",
         "x": [
          34,
          17,
          17,
          39,
          38,
          43,
          20,
          34,
          28,
          37,
          43,
          24,
          49,
          53,
          26,
          27,
          46,
          25,
          39,
          31,
          45,
          17,
          40,
          44,
          30,
          28,
          23,
          37,
          55,
          46,
          50,
          21,
          36,
          37,
          27,
          61,
          51,
          48,
          22,
          55,
          50,
          45,
          12,
          25,
          31,
          32,
          41,
          32,
          36,
          31,
          38,
          38,
          25,
          27,
          50,
          36,
          40,
          25,
          35,
          60,
          24,
          26,
          29,
          42,
          24,
          40,
          23,
          35,
          46,
          53,
          26,
          66,
          23,
          25,
          39,
          31,
          44,
          53,
          71,
          37,
          21,
          18,
          55,
          30,
          33,
          46,
          16,
          59,
          21,
          17,
          54,
          50,
          27,
          41,
          33,
          24,
          28,
          30,
          29,
          50,
          40,
          25,
          62,
          36,
          30,
          26,
          28,
          46,
          54,
          48,
          34,
          22,
          25,
          31,
          37,
          31,
          54,
          32,
          23,
          30,
          53,
          72,
          21,
          43,
          48,
          38,
          84,
          32,
          34,
          25,
          33,
          44,
          71,
          56,
          36,
          21,
          55,
          49,
          31,
          37.11793090137039,
          46,
          20,
          36,
          28,
          33,
          27,
          39,
          60,
          34,
          23,
          37,
          41,
          45,
          49,
          39,
          54,
          36,
          49,
          26,
          34,
          42,
          25,
          30,
          27,
          47,
          31,
          24,
          37.11793090137039,
          24,
          58,
          20,
          20,
          35,
          21,
          51,
          32,
          47,
          26,
          33,
          28,
          29,
          49,
          45,
          45,
          58,
          47,
          34,
          32,
          33,
          38,
          17,
          40,
          28,
          30,
          57,
          38,
          28,
          54,
          33,
          37,
          45,
          59,
          20,
          42,
          50,
          59,
          51,
          35,
          29,
          29,
          32,
          26,
          25,
          42,
          32,
          55,
          29,
          56,
          42,
          22,
          39,
          25
         ],
         "xaxis": "x",
         "yaxis": "y"
        }
       ],
       "layout": {
        "barmode": "relative",
        "legend": {
         "title": {
          "text": "gender"
         },
         "tracegroupgap": 0
        },
        "template": {
         "data": {
          "bar": [
           {
            "error_x": {
             "color": "#2a3f5f"
            },
            "error_y": {
             "color": "#2a3f5f"
            },
            "marker": {
             "line": {
              "color": "#E5ECF6",
              "width": 0.5
             }
            },
            "type": "bar"
           }
          ],
          "barpolar": [
           {
            "marker": {
             "line": {
              "color": "#E5ECF6",
              "width": 0.5
             }
            },
            "type": "barpolar"
           }
          ],
          "carpet": [
           {
            "aaxis": {
             "endlinecolor": "#2a3f5f",
             "gridcolor": "white",
             "linecolor": "white",
             "minorgridcolor": "white",
             "startlinecolor": "#2a3f5f"
            },
            "baxis": {
             "endlinecolor": "#2a3f5f",
             "gridcolor": "white",
             "linecolor": "white",
             "minorgridcolor": "white",
             "startlinecolor": "#2a3f5f"
            },
            "type": "carpet"
           }
          ],
          "choropleth": [
           {
            "colorbar": {
             "outlinewidth": 0,
             "ticks": ""
            },
            "type": "choropleth"
           }
          ],
          "contour": [
           {
            "colorbar": {
             "outlinewidth": 0,
             "ticks": ""
            },
            "colorscale": [
             [
              0,
              "#0d0887"
             ],
             [
              0.1111111111111111,
              "#46039f"
             ],
             [
              0.2222222222222222,
              "#7201a8"
             ],
             [
              0.3333333333333333,
              "#9c179e"
             ],
             [
              0.4444444444444444,
              "#bd3786"
             ],
             [
              0.5555555555555556,
              "#d8576b"
             ],
             [
              0.6666666666666666,
              "#ed7953"
             ],
             [
              0.7777777777777778,
              "#fb9f3a"
             ],
             [
              0.8888888888888888,
              "#fdca26"
             ],
             [
              1,
              "#f0f921"
             ]
            ],
            "type": "contour"
           }
          ],
          "contourcarpet": [
           {
            "colorbar": {
             "outlinewidth": 0,
             "ticks": ""
            },
            "type": "contourcarpet"
           }
          ],
          "heatmap": [
           {
            "colorbar": {
             "outlinewidth": 0,
             "ticks": ""
            },
            "colorscale": [
             [
              0,
              "#0d0887"
             ],
             [
              0.1111111111111111,
              "#46039f"
             ],
             [
              0.2222222222222222,
              "#7201a8"
             ],
             [
              0.3333333333333333,
              "#9c179e"
             ],
             [
              0.4444444444444444,
              "#bd3786"
             ],
             [
              0.5555555555555556,
              "#d8576b"
             ],
             [
              0.6666666666666666,
              "#ed7953"
             ],
             [
              0.7777777777777778,
              "#fb9f3a"
             ],
             [
              0.8888888888888888,
              "#fdca26"
             ],
             [
              1,
              "#f0f921"
             ]
            ],
            "type": "heatmap"
           }
          ],
          "heatmapgl": [
           {
            "colorbar": {
             "outlinewidth": 0,
             "ticks": ""
            },
            "colorscale": [
             [
              0,
              "#0d0887"
             ],
             [
              0.1111111111111111,
              "#46039f"
             ],
             [
              0.2222222222222222,
              "#7201a8"
             ],
             [
              0.3333333333333333,
              "#9c179e"
             ],
             [
              0.4444444444444444,
              "#bd3786"
             ],
             [
              0.5555555555555556,
              "#d8576b"
             ],
             [
              0.6666666666666666,
              "#ed7953"
             ],
             [
              0.7777777777777778,
              "#fb9f3a"
             ],
             [
              0.8888888888888888,
              "#fdca26"
             ],
             [
              1,
              "#f0f921"
             ]
            ],
            "type": "heatmapgl"
           }
          ],
          "histogram": [
           {
            "marker": {
             "colorbar": {
              "outlinewidth": 0,
              "ticks": ""
             }
            },
            "type": "histogram"
           }
          ],
          "histogram2d": [
           {
            "colorbar": {
             "outlinewidth": 0,
             "ticks": ""
            },
            "colorscale": [
             [
              0,
              "#0d0887"
             ],
             [
              0.1111111111111111,
              "#46039f"
             ],
             [
              0.2222222222222222,
              "#7201a8"
             ],
             [
              0.3333333333333333,
              "#9c179e"
             ],
             [
              0.4444444444444444,
              "#bd3786"
             ],
             [
              0.5555555555555556,
              "#d8576b"
             ],
             [
              0.6666666666666666,
              "#ed7953"
             ],
             [
              0.7777777777777778,
              "#fb9f3a"
             ],
             [
              0.8888888888888888,
              "#fdca26"
             ],
             [
              1,
              "#f0f921"
             ]
            ],
            "type": "histogram2d"
           }
          ],
          "histogram2dcontour": [
           {
            "colorbar": {
             "outlinewidth": 0,
             "ticks": ""
            },
            "colorscale": [
             [
              0,
              "#0d0887"
             ],
             [
              0.1111111111111111,
              "#46039f"
             ],
             [
              0.2222222222222222,
              "#7201a8"
             ],
             [
              0.3333333333333333,
              "#9c179e"
             ],
             [
              0.4444444444444444,
              "#bd3786"
             ],
             [
              0.5555555555555556,
              "#d8576b"
             ],
             [
              0.6666666666666666,
              "#ed7953"
             ],
             [
              0.7777777777777778,
              "#fb9f3a"
             ],
             [
              0.8888888888888888,
              "#fdca26"
             ],
             [
              1,
              "#f0f921"
             ]
            ],
            "type": "histogram2dcontour"
           }
          ],
          "mesh3d": [
           {
            "colorbar": {
             "outlinewidth": 0,
             "ticks": ""
            },
            "type": "mesh3d"
           }
          ],
          "parcoords": [
           {
            "line": {
             "colorbar": {
              "outlinewidth": 0,
              "ticks": ""
             }
            },
            "type": "parcoords"
           }
          ],
          "pie": [
           {
            "automargin": true,
            "type": "pie"
           }
          ],
          "scatter": [
           {
            "marker": {
             "colorbar": {
              "outlinewidth": 0,
              "ticks": ""
             }
            },
            "type": "scatter"
           }
          ],
          "scatter3d": [
           {
            "line": {
             "colorbar": {
              "outlinewidth": 0,
              "ticks": ""
             }
            },
            "marker": {
             "colorbar": {
              "outlinewidth": 0,
              "ticks": ""
             }
            },
            "type": "scatter3d"
           }
          ],
          "scattercarpet": [
           {
            "marker": {
             "colorbar": {
              "outlinewidth": 0,
              "ticks": ""
             }
            },
            "type": "scattercarpet"
           }
          ],
          "scattergeo": [
           {
            "marker": {
             "colorbar": {
              "outlinewidth": 0,
              "ticks": ""
             }
            },
            "type": "scattergeo"
           }
          ],
          "scattergl": [
           {
            "marker": {
             "colorbar": {
              "outlinewidth": 0,
              "ticks": ""
             }
            },
            "type": "scattergl"
           }
          ],
          "scattermapbox": [
           {
            "marker": {
             "colorbar": {
              "outlinewidth": 0,
              "ticks": ""
             }
            },
            "type": "scattermapbox"
           }
          ],
          "scatterpolar": [
           {
            "marker": {
             "colorbar": {
              "outlinewidth": 0,
              "ticks": ""
             }
            },
            "type": "scatterpolar"
           }
          ],
          "scatterpolargl": [
           {
            "marker": {
             "colorbar": {
              "outlinewidth": 0,
              "ticks": ""
             }
            },
            "type": "scatterpolargl"
           }
          ],
          "scatterternary": [
           {
            "marker": {
             "colorbar": {
              "outlinewidth": 0,
              "ticks": ""
             }
            },
            "type": "scatterternary"
           }
          ],
          "surface": [
           {
            "colorbar": {
             "outlinewidth": 0,
             "ticks": ""
            },
            "colorscale": [
             [
              0,
              "#0d0887"
             ],
             [
              0.1111111111111111,
              "#46039f"
             ],
             [
              0.2222222222222222,
              "#7201a8"
             ],
             [
              0.3333333333333333,
              "#9c179e"
             ],
             [
              0.4444444444444444,
              "#bd3786"
             ],
             [
              0.5555555555555556,
              "#d8576b"
             ],
             [
              0.6666666666666666,
              "#ed7953"
             ],
             [
              0.7777777777777778,
              "#fb9f3a"
             ],
             [
              0.8888888888888888,
              "#fdca26"
             ],
             [
              1,
              "#f0f921"
             ]
            ],
            "type": "surface"
           }
          ],
          "table": [
           {
            "cells": {
             "fill": {
              "color": "#EBF0F8"
             },
             "line": {
              "color": "white"
             }
            },
            "header": {
             "fill": {
              "color": "#C8D4E3"
             },
             "line": {
              "color": "white"
             }
            },
            "type": "table"
           }
          ]
         },
         "layout": {
          "annotationdefaults": {
           "arrowcolor": "#2a3f5f",
           "arrowhead": 0,
           "arrowwidth": 1
          },
          "coloraxis": {
           "colorbar": {
            "outlinewidth": 0,
            "ticks": ""
           }
          },
          "colorscale": {
           "diverging": [
            [
             0,
             "#8e0152"
            ],
            [
             0.1,
             "#c51b7d"
            ],
            [
             0.2,
             "#de77ae"
            ],
            [
             0.3,
             "#f1b6da"
            ],
            [
             0.4,
             "#fde0ef"
            ],
            [
             0.5,
             "#f7f7f7"
            ],
            [
             0.6,
             "#e6f5d0"
            ],
            [
             0.7,
             "#b8e186"
            ],
            [
             0.8,
             "#7fbc41"
            ],
            [
             0.9,
             "#4d9221"
            ],
            [
             1,
             "#276419"
            ]
           ],
           "sequential": [
            [
             0,
             "#0d0887"
            ],
            [
             0.1111111111111111,
             "#46039f"
            ],
            [
             0.2222222222222222,
             "#7201a8"
            ],
            [
             0.3333333333333333,
             "#9c179e"
            ],
            [
             0.4444444444444444,
             "#bd3786"
            ],
            [
             0.5555555555555556,
             "#d8576b"
            ],
            [
             0.6666666666666666,
             "#ed7953"
            ],
            [
             0.7777777777777778,
             "#fb9f3a"
            ],
            [
             0.8888888888888888,
             "#fdca26"
            ],
            [
             1,
             "#f0f921"
            ]
           ],
           "sequentialminus": [
            [
             0,
             "#0d0887"
            ],
            [
             0.1111111111111111,
             "#46039f"
            ],
            [
             0.2222222222222222,
             "#7201a8"
            ],
            [
             0.3333333333333333,
             "#9c179e"
            ],
            [
             0.4444444444444444,
             "#bd3786"
            ],
            [
             0.5555555555555556,
             "#d8576b"
            ],
            [
             0.6666666666666666,
             "#ed7953"
            ],
            [
             0.7777777777777778,
             "#fb9f3a"
            ],
            [
             0.8888888888888888,
             "#fdca26"
            ],
            [
             1,
             "#f0f921"
            ]
           ]
          },
          "colorway": [
           "#636efa",
           "#EF553B",
           "#00cc96",
           "#ab63fa",
           "#FFA15A",
           "#19d3f3",
           "#FF6692",
           "#B6E880",
           "#FF97FF",
           "#FECB52"
          ],
          "font": {
           "color": "#2a3f5f"
          },
          "geo": {
           "bgcolor": "white",
           "lakecolor": "white",
           "landcolor": "#E5ECF6",
           "showlakes": true,
           "showland": true,
           "subunitcolor": "white"
          },
          "hoverlabel": {
           "align": "left"
          },
          "hovermode": "closest",
          "mapbox": {
           "style": "light"
          },
          "paper_bgcolor": "white",
          "plot_bgcolor": "#E5ECF6",
          "polar": {
           "angularaxis": {
            "gridcolor": "white",
            "linecolor": "white",
            "ticks": ""
           },
           "bgcolor": "#E5ECF6",
           "radialaxis": {
            "gridcolor": "white",
            "linecolor": "white",
            "ticks": ""
           }
          },
          "scene": {
           "xaxis": {
            "backgroundcolor": "#E5ECF6",
            "gridcolor": "white",
            "gridwidth": 2,
            "linecolor": "white",
            "showbackground": true,
            "ticks": "",
            "zerolinecolor": "white"
           },
           "yaxis": {
            "backgroundcolor": "#E5ECF6",
            "gridcolor": "white",
            "gridwidth": 2,
            "linecolor": "white",
            "showbackground": true,
            "ticks": "",
            "zerolinecolor": "white"
           },
           "zaxis": {
            "backgroundcolor": "#E5ECF6",
            "gridcolor": "white",
            "gridwidth": 2,
            "linecolor": "white",
            "showbackground": true,
            "ticks": "",
            "zerolinecolor": "white"
           }
          },
          "shapedefaults": {
           "line": {
            "color": "#2a3f5f"
           }
          },
          "ternary": {
           "aaxis": {
            "gridcolor": "white",
            "linecolor": "white",
            "ticks": ""
           },
           "baxis": {
            "gridcolor": "white",
            "linecolor": "white",
            "ticks": ""
           },
           "bgcolor": "#E5ECF6",
           "caxis": {
            "gridcolor": "white",
            "linecolor": "white",
            "ticks": ""
           }
          },
          "title": {
           "x": 0.05
          },
          "xaxis": {
           "automargin": true,
           "gridcolor": "white",
           "linecolor": "white",
           "ticks": "",
           "title": {
            "standoff": 15
           },
           "zerolinecolor": "white",
           "zerolinewidth": 2
          },
          "yaxis": {
           "automargin": true,
           "gridcolor": "white",
           "linecolor": "white",
           "ticks": "",
           "title": {
            "standoff": 15
           },
           "zerolinecolor": "white",
           "zerolinewidth": 2
          }
         }
        },
        "title": {
         "text": "Shootings by Age distribution"
        },
        "width": 800,
        "xaxis": {
         "anchor": "y",
         "domain": [
          0,
          1
         ],
         "title": {
          "text": "age"
         }
        },
        "yaxis": {
         "anchor": "x",
         "domain": [
          0,
          1
         ],
         "title": {
          "text": "count"
         }
        }
       }
      },
      "text/html": [
       "<div>\n",
       "        \n",
       "        \n",
       "            <div id=\"a19f5123-ae41-41bc-910d-c194f788eb6d\" class=\"plotly-graph-div\" style=\"height:525px; width:800px;\"></div>\n",
       "            <script type=\"text/javascript\">\n",
       "                require([\"plotly\"], function(Plotly) {\n",
       "                    window.PLOTLYENV=window.PLOTLYENV || {};\n",
       "                    \n",
       "                if (document.getElementById(\"a19f5123-ae41-41bc-910d-c194f788eb6d\")) {\n",
       "                    Plotly.newPlot(\n",
       "                        'a19f5123-ae41-41bc-910d-c194f788eb6d',\n",
       "                        [{\"alignmentgroup\": \"True\", \"bingroup\": \"x\", \"hovertemplate\": \"gender=M<br>age=%{x}<br>count=%{y}<extra></extra>\", \"legendgroup\": \"M\", \"marker\": {\"color\": \"#636efa\"}, \"name\": \"M\", \"nbinsx\": 20, \"offsetgroup\": \"M\", \"orientation\": \"v\", \"showlegend\": true, \"type\": \"histogram\", \"x\": [53.0, 47.0, 23.0, 32.0, 39.0, 18.0, 22.0, 35.0, 47.0, 25.0, 31.0, 41.0, 30.0, 37.0, 28.0, 42.0, 36.0, 49.0, 71.0, 33.0, 39.0, 23.0, 29.0, 34.0, 43.0, 24.0, 29.0, 34.0, 75.0, 68.0, 34.0, 27.0, 39.0, 24.0, 36.0, 33.0, 41.0, 48.0, 21.0, 24.0, 27.0, 32.0, 67.0, 49.0, 42.0, 36.0, 36.0, 19.0, 54.0, 25.0, 29.0, 56.0, 61.0, 45.0, 26.0, 40.0, 26.0, 68.0, 24.0, 34.0, 26.0, 29.0, 33.0, 45.0, 26.0, 35.0, 31.0, 42.0, 48.0, 31.0, 54.0, 59.0, 42.0, 17.0, 23.0, 29.0, 45.0, 28.0, 37.0, 28.0, 28.0, 51.0, 36.0, 59.0, 25.0, 26.0, 74.0, 33.0, 27.0, 57.0, 46.0, 41.0, 61.0, 45.0, 49.0, 45.0, 35.0, 23.0, 46.0, 23.0, 21.0, 35.0, 27.0, 37.0, 16.0, 51.0, 34.0, 34.0, 25.0, 56.0, 26.0, 24.0, 31.0, 32.0, 30.0, 50.0, 31.0, 38.0, 77.0, 37.11793090137039, 41.0, 51.0, 50.0, 47.0, 37.0, 41.0, 16.0, 42.0, 39.0, 30.0, 27.0, 43.0, 42.0, 21.0, 49.0, 31.0, 27.0, 24.0, 34.0, 28.0, 40.0, 17.0, 35.0, 49.0, 43.0, 20.0, 25.0, 25.0, 26.0, 28.0, 45.0, 36.0, 34.0, 19.0, 37.0, 48.0, 29.0, 40.0, 35.0, 27.0, 58.0, 46.0, 30.0, 64.0, 31.0, 23.0, 37.0, 37.0, 31.0, 39.0, 31.0, 54.0, 53.0, 25.0, 35.0, 41.0, 59.0, 36.0, 32.0, 53.0, 26.0, 29.0, 27.0, 28.0, 52.0, 49.0, 24.0, 20.0, 22.0, 64.0, 47.0, 39.0, 18.0, 31.0, 16.0, 20.0, 36.0, 63.0, 34.0, 24.0, 21.0, 44.0, 60.0, 42.0, 37.0, 36.0, 21.0, 24.0, 29.0, 57.0, 38.0, 23.0, 27.0, 28.0, 63.0, 35.0, 42.0, 41.0, 56.0, 39.0, 23.0, 40.0, 29.0, 26.0, 49.0, 36.0, 21.0, 37.0, 36.0, 32.0, 44.0, 27.0, 63.0, 38.0, 17.0, 31.0, 34.0, 50.0, 51.0, 56.0, 23.0, 25.0, 31.0, 32.0, 60.0, 42.0, 39.0, 28.0, 22.0, 29.0, 31.0, 28.0, 21.0, 38.0, 66.0, 36.0, 83.0, 32.0, 27.0, 26.0, 31.0, 22.0, 41.0, 41.0, 51.0, 72.0, 52.0, 47.0, 18.0, 29.0, 23.0, 43.0, 45.0, 40.0, 44.0, 25.0, 37.0, 59.0, 35.0, 35.0, 18.0, 51.0, 30.0, 31.0, 39.0, 26.0, 51.0, 19.0, 49.0, 63.0, 20.0, 25.0, 24.0, 58.0, 29.0, 76.0, 45.0, 20.0, 58.0, 21.0, 27.0, 26.0, 33.0, 27.0, 53.0, 53.0, 42.0, 22.0, 52.0, 36.0, 30.0, 34.0, 44.0, 53.0, 36.0, 29.0, 32.0, 46.0, 18.0, 38.0, 21.0, 35.0, 58.0, 48.0, 31.0, 47.0, 34.0, 30.0, 28.0, 28.0, 40.0, 46.0, 37.0, 53.0, 41.0, 42.0, 45.0, 34.0, 18.0, 27.0, 54.0, 35.0, 17.0, 29.0, 38.0, 26.0, 52.0, 22.0, 29.0, 43.0, 24.0, 32.0, 40.0, 47.0, 40.0, 25.0, 36.0, 51.0, 24.0, 62.0, 39.0, 24.0, 57.0, 20.0, 33.0, 60.0, 32.0, 40.0, 18.0, 36.0, 35.0, 55.0, 19.0, 39.0, 47.0, 23.0, 26.0, 26.0, 18.0, 33.0, 56.0, 46.0, 36.0, 50.0, 53.0, 45.0, 42.0, 27.0, 30.0, 36.0, 58.0, 30.0, 69.0, 30.0, 45.0, 22.0, 28.0, 19.0, 40.0, 46.0, 28.0, 22.0, 46.0, 35.0, 35.0, 28.0, 15.0, 22.0, 28.0, 31.0, 48.0, 58.0, 44.0, 21.0, 50.0, 23.0, 24.0, 49.0, 60.0, 35.0, 29.0, 20.0, 34.0, 22.0, 49.0, 32.0, 26.0, 41.0, 61.0, 49.0, 28.0, 35.0, 29.0, 51.0, 52.0, 24.0, 32.0, 45.0, 60.0, 23.0, 46.0, 33.0, 40.0, 27.0, 42.0, 37.0, 23.0, 36.0, 19.0, 35.0, 43.0, 25.0, 20.0, 42.0, 29.0, 42.0, 31.0, 18.0, 33.0, 59.0, 47.0, 39.0, 37.0, 35.0, 28.0, 59.0, 62.0, 50.0, 68.0, 27.0, 17.0, 21.0, 38.0, 54.0, 20.0, 25.0, 31.0, 35.0, 60.0, 24.0, 27.0, 36.0, 20.0, 24.0, 23.0, 41.0, 20.0, 43.0, 29.0, 35.0, 30.0, 24.0, 23.0, 29.0, 25.0, 27.0, 50.0, 19.0, 24.0, 23.0, 22.0, 46.0, 65.0, 43.0, 35.0, 47.0, 24.0, 35.0, 25.0, 27.0, 26.0, 34.0, 32.0, 47.0, 31.0, 44.0, 30.0, 60.0, 50.0, 36.0, 59.0, 33.0, 19.0, 56.0, 45.0, 22.0, 34.0, 53.0, 48.0, 25.0, 30.0, 47.0, 33.0, 34.0, 29.0, 63.0, 49.0, 18.0, 71.0, 35.0, 55.0, 31.0, 18.0, 51.0, 39.0, 20.0, 29.0, 40.0, 42.0, 22.0, 19.0, 24.0, 30.0, 53.0, 25.0, 28.0, 24.0, 59.0, 46.0, 15.0, 41.0, 22.0, 24.0, 34.0, 48.0, 24.0, 27.0, 27.0, 27.0, 49.0, 38.0, 26.0, 30.0, 53.0, 23.0, 34.0, 30.0, 43.0, 29.0, 47.0, 35.0, 40.0, 18.0, 24.0, 29.0, 44.0, 17.0, 19.0, 50.0, 57.0, 30.0, 38.0, 31.0, 29.0, 26.0, 64.0, 39.0, 57.0, 36.0, 36.0, 21.0, 53.0, 30.0, 34.0, 53.0, 45.0, 22.0, 22.0, 46.0, 27.0, 30.0, 54.0, 29.0, 42.0, 41.0, 28.0, 61.0, 23.0, 25.0, 37.11793090137039, 29.0, 20.0, 40.0, 45.0, 33.0, 76.0, 47.0, 45.0, 40.0, 37.0, 27.0, 36.0, 23.0, 49.0, 21.0, 32.0, 35.0, 59.0, 28.0, 45.0, 45.0, 19.0, 25.0, 37.0, 33.0, 59.0, 31.0, 29.0, 32.0, 41.0, 31.0, 44.0, 23.0, 45.0, 39.0, 67.0, 29.0, 25.0, 28.0, 21.0, 32.0, 51.0, 39.0, 27.0, 31.0, 50.0, 37.11793090137039, 32.0, 47.0, 46.0, 57.0, 23.0, 56.0, 24.0, 27.0, 26.0, 34.0, 21.0, 32.0, 33.0, 55.0, 48.0, 35.0, 19.0, 45.0, 28.0, 42.0, 17.0, 30.0, 21.0, 45.0, 33.0, 46.0, 23.0, 43.0, 40.0, 59.0, 31.0, 46.0, 37.0, 28.0, 28.0, 29.0, 26.0, 27.0, 31.0, 51.0, 50.0, 27.0, 18.0, 46.0, 19.0, 49.0, 31.0, 38.0, 40.0, 35.0, 34.0, 44.0, 23.0, 43.0, 37.11793090137039, 31.0, 27.0, 18.0, 57.0, 15.0, 25.0, 31.0, 35.0, 27.0, 20.0, 27.0, 33.0, 27.0, 22.0, 28.0, 31.0, 28.0, 53.0, 30.0, 39.0, 40.0, 30.0, 21.0, 35.0, 21.0, 47.0, 38.0, 36.0, 53.0, 34.0, 34.0, 30.0, 28.0, 47.0, 49.0, 36.0, 45.0, 18.0, 25.0, 29.0, 57.0, 34.0, 35.0, 37.11793090137039, 18.0, 62.0, 29.0, 25.0, 30.0, 24.0, 52.0, 33.0, 56.0, 49.0, 20.0, 62.0, 62.0, 6.0, 30.0, 57.0, 18.0, 47.0, 48.0, 20.0, 30.0, 51.0, 55.0, 48.0, 20.0, 25.0, 26.0, 45.0, 35.0, 34.0, 36.0, 22.0, 63.0, 31.0, 25.0, 57.0, 32.0, 42.0, 52.0, 25.0, 25.0, 31.0, 39.0, 16.0, 24.0, 32.0, 25.0, 28.0, 28.0, 21.0, 30.0, 58.0, 47.0, 41.0, 25.0, 44.0, 34.0, 27.0, 34.0, 29.0, 39.0, 24.0, 47.0, 45.0, 28.0, 50.0, 49.0, 45.0, 24.0, 32.0, 23.0, 52.0, 26.0, 58.0, 50.0, 22.0, 53.0, 69.0, 23.0, 29.0, 25.0, 18.0, 31.0, 23.0, 18.0, 35.0, 28.0, 26.0, 32.0, 36.0, 66.0, 21.0, 47.0, 24.0, 60.0, 38.0, 51.0, 35.0, 46.0, 48.0, 36.0, 33.0, 66.0, 34.0, 55.0, 54.0, 36.0, 25.0, 24.0, 28.0, 36.0, 20.0, 49.0, 21.0, 30.0, 32.0, 33.0, 56.0, 39.0, 19.0, 45.0, 33.0, 52.0, 51.0, 37.11793090137039, 25.0, 24.0, 32.0, 58.0, 24.0, 26.0, 30.0, 31.0, 34.0, 48.0, 37.11793090137039, 21.0, 39.0, 25.0, 30.0, 56.0, 29.0, 19.0, 35.0, 36.0, 24.0, 23.0, 31.0, 41.0, 19.0, 38.0, 36.0, 34.0, 52.0, 28.0, 37.11793090137039, 55.0, 23.0, 30.0, 54.0, 37.0, 37.0, 30.0, 27.0, 22.0, 29.0, 39.0, 33.0, 52.0, 28.0, 54.0, 38.0, 32.0, 34.0, 26.0, 50.0, 37.0, 56.0, 45.0, 32.0, 49.0, 58.0, 29.0, 60.0, 40.0, 39.0, 26.0, 24.0, 34.0, 27.0, 44.0, 55.0, 19.0, 52.0, 31.0, 26.0, 24.0, 38.0, 33.0, 28.0, 27.0, 39.0, 29.0, 36.0, 55.0, 28.0, 40.0, 33.0, 37.0, 39.0, 43.0, 38.0, 55.0, 52.0, 32.0, 31.0, 27.0, 40.0, 30.0, 26.0, 33.0, 19.0, 33.0, 29.0, 29.0, 38.0, 64.0, 42.0, 46.0, 42.0, 37.0, 25.0, 36.0, 21.0, 30.0, 53.0, 31.0, 22.0, 24.0, 36.0, 47.0, 54.0, 43.0, 38.0, 30.0, 51.0, 55.0, 16.0, 23.0, 36.0, 33.0, 17.0, 22.0, 22.0, 29.0, 41.0, 67.0, 36.0, 52.0, 56.0, 35.0, 45.0, 30.0, 29.0, 53.0, 22.0, 24.0, 19.0, 29.0, 50.0, 29.0, 26.0, 39.0, 52.0, 51.0, 48.0, 30.0, 37.0, 30.0, 35.0, 32.0, 25.0, 35.0, 31.0, 30.0, 23.0, 41.0, 45.0, 46.0, 32.0, 33.0, 45.0, 38.0, 22.0, 48.0, 36.0, 26.0, 39.0, 16.0, 58.0, 27.0, 26.0, 21.0, 37.0, 56.0, 19.0, 38.0, 18.0, 35.0, 23.0, 41.0, 44.0, 24.0, 39.0, 22.0, 37.0, 36.0, 41.0, 27.0, 30.0, 34.0, 22.0, 51.0, 42.0, 41.0, 49.0, 45.0, 45.0, 42.0, 41.0, 27.0, 37.0, 22.0, 21.0, 50.0, 23.0, 25.0, 51.0, 46.0, 23.0, 43.0, 37.0, 20.0, 45.0, 16.0, 30.0, 26.0, 24.0, 28.0, 29.0, 34.0, 38.0, 43.0, 23.0, 33.0, 40.0, 38.0, 53.0, 29.0, 30.0, 60.0, 24.0, 21.0, 23.0, 61.0, 54.0, 62.0, 16.0, 25.0, 28.0, 76.0, 25.0, 33.0, 51.0, 34.0, 30.0, 44.0, 24.0, 29.0, 48.0, 19.0, 22.0, 39.0, 36.0, 55.0, 46.0, 34.0, 33.0, 18.0, 33.0, 51.0, 46.0, 33.0, 25.0, 52.0, 18.0, 43.0, 34.0, 31.0, 65.0, 37.0, 30.0, 25.0, 69.0, 48.0, 50.0, 52.0, 44.0, 60.0, 20.0, 45.0, 44.0, 40.0, 43.0, 27.0, 19.0, 39.0, 30.0, 28.0, 22.0, 16.0, 40.0, 38.0, 20.0, 35.0, 52.0, 26.0, 54.0, 38.0, 52.0, 26.0, 53.0, 22.0, 31.0, 32.0, 37.0, 28.0, 18.0, 41.0, 15.0, 38.0, 41.0, 52.0, 48.0, 29.0, 51.0, 21.0, 24.0, 18.0, 30.0, 33.0, 28.0, 26.0, 44.0, 34.0, 21.0, 36.0, 37.0, 53.0, 24.0, 45.0, 48.0, 42.0, 33.0, 55.0, 28.0, 25.0, 28.0, 52.0, 59.0, 52.0, 39.0, 40.0, 36.0, 38.0, 37.11793090137039, 29.0, 37.0, 29.0, 21.0, 33.0, 23.0, 26.0, 29.0, 33.0, 28.0, 35.0, 33.0, 24.0, 37.11793090137039, 28.0, 19.0, 43.0, 59.0, 34.0, 35.0, 23.0, 36.0, 46.0, 44.0, 20.0, 30.0, 35.0, 36.0, 22.0, 31.0, 63.0, 38.0, 31.0, 27.0, 35.0, 22.0, 28.0, 26.0, 22.0, 31.0, 43.0, 24.0, 29.0, 43.0, 21.0, 19.0, 25.0, 59.0, 50.0, 58.0, 25.0, 32.0, 53.0, 38.0, 70.0, 33.0, 36.0, 21.0, 51.0, 43.0, 18.0, 33.0, 34.0, 31.0, 35.0, 31.0, 31.0, 23.0, 25.0, 25.0, 21.0, 49.0, 63.0, 43.0, 34.0, 38.0, 52.0, 68.0, 29.0, 32.0, 50.0, 31.0, 27.0, 31.0, 29.0, 23.0, 61.0, 33.0, 18.0, 80.0, 43.0, 50.0, 47.0, 54.0, 22.0, 43.0, 38.0, 36.0, 30.0, 59.0, 21.0, 34.0, 17.0, 37.0, 25.0, 23.0, 20.0, 19.0, 50.0, 24.0, 25.0, 20.0, 37.0, 44.0, 22.0, 31.0, 25.0, 37.11793090137039, 36.0, 50.0, 42.0, 26.0, 19.0, 59.0, 36.0, 51.0, 27.0, 22.0, 30.0, 28.0, 63.0, 32.0, 26.0, 25.0, 27.0, 61.0, 30.0, 37.11793090137039, 37.0, 41.0, 25.0, 24.0, 44.0, 63.0, 58.0, 30.0, 35.0, 50.0, 40.0, 37.11793090137039, 19.0, 34.0, 18.0, 21.0, 29.0, 49.0, 37.0, 32.0, 65.0, 37.0, 33.0, 63.0, 30.0, 40.0, 38.0, 50.0, 41.0, 41.0, 39.0, 44.0, 23.0, 32.0, 56.0, 33.0, 63.0, 31.0, 57.0, 26.0, 39.0, 42.0, 29.0, 43.0, 56.0, 31.0, 50.0, 36.0, 50.0, 49.0, 31.0, 34.0, 36.0, 29.0, 32.0, 18.0, 50.0, 36.0, 17.0, 19.0, 24.0, 24.0, 20.0, 33.0, 41.0, 47.0, 18.0, 31.0, 27.0, 36.0, 59.0, 32.0, 38.0, 18.0, 43.0, 67.0, 32.0, 22.0, 31.0, 43.0, 34.0, 51.0, 31.0, 54.0, 69.0, 58.0, 26.0, 59.0, 25.0, 20.0, 57.0, 56.0, 64.0, 34.0, 69.0, 45.0, 14.0, 44.0, 59.0, 33.0, 54.0, 22.0, 49.0, 23.0, 38.0, 53.0, 36.0, 29.0, 42.0, 36.0, 32.0, 53.0, 30.0, 25.0, 18.0, 55.0, 27.0, 37.0, 29.0, 40.0, 36.0, 38.0, 29.0, 59.0, 47.0, 22.0, 31.0, 29.0, 54.0, 71.0, 36.0, 34.0, 49.0, 36.0, 43.0, 53.0, 31.0, 32.0, 41.0, 26.0, 82.0, 37.0, 24.0, 56.0, 22.0, 59.0, 36.0, 21.0, 38.0, 60.0, 18.0, 23.0, 37.11793090137039, 38.0, 22.0, 38.0, 25.0, 25.0, 36.0, 37.11793090137039, 44.0, 36.0, 35.0, 25.0, 31.0, 70.0, 25.0, 55.0, 35.0, 25.0, 32.0, 38.0, 32.0, 64.0, 55.0, 69.0, 37.0, 31.0, 25.0, 25.0, 13.0, 32.0, 69.0, 34.0, 29.0, 29.0, 40.0, 42.0, 25.0, 45.0, 55.0, 22.0, 61.0, 30.0, 56.0, 35.0, 22.0, 23.0, 43.0, 43.0, 49.0, 23.0, 41.0, 33.0, 30.0, 25.0, 52.0, 32.0, 46.0, 48.0, 38.0, 26.0, 32.0, 28.0, 53.0, 38.0, 18.0, 32.0, 37.0, 18.0, 20.0, 28.0, 18.0, 16.0, 36.0, 57.0, 49.0, 31.0, 26.0, 51.0, 28.0, 35.0, 57.0, 36.0, 42.0, 37.11793090137039, 49.0, 21.0, 62.0, 41.0, 40.0, 27.0, 19.0, 26.0, 44.0, 30.0, 31.0, 33.0, 22.0, 38.0, 46.0, 23.0, 24.0, 26.0, 32.0, 50.0, 17.0, 39.0, 28.0, 42.0, 34.0, 38.0, 28.0, 29.0, 58.0, 21.0, 45.0, 38.0, 40.0, 19.0, 46.0, 25.0, 37.0, 25.0, 36.0, 32.0, 33.0, 24.0, 37.0, 38.0, 45.0, 31.0, 34.0, 23.0, 55.0, 76.0, 59.0, 40.0, 23.0, 26.0, 35.0, 49.0, 36.0, 56.0, 34.0, 43.0, 31.0, 17.0, 32.0, 33.0, 43.0, 31.0, 23.0, 26.0, 45.0, 19.0, 36.0, 41.0, 53.0, 24.0, 37.11793090137039, 37.11793090137039, 40.0, 29.0, 22.0, 21.0, 25.0, 37.0, 37.0, 56.0, 25.0, 26.0, 35.0, 25.0, 29.0, 21.0, 15.0, 24.0, 18.0, 19.0, 27.0, 45.0, 36.0, 34.0, 23.0, 43.0, 19.0, 37.0, 23.0, 26.0, 20.0, 59.0, 33.0, 48.0, 50.0, 18.0, 23.0, 41.0, 41.0, 55.0, 29.0, 31.0, 25.0, 38.0, 37.11793090137039, 83.0, 22.0, 33.0, 36.0, 26.0, 29.0, 55.0, 47.0, 52.0, 49.0, 37.0, 37.0, 36.0, 31.0, 30.0, 37.11793090137039, 35.0, 35.0, 36.0, 39.0, 30.0, 24.0, 53.0, 73.0, 31.0, 28.0, 18.0, 32.0, 60.0, 48.0, 33.0, 44.0, 20.0, 37.0, 72.0, 52.0, 46.0, 25.0, 38.0, 27.0, 24.0, 19.0, 31.0, 18.0, 48.0, 29.0, 30.0, 61.0, 41.0, 36.0, 28.0, 21.0, 46.0, 32.0, 33.0, 42.0, 17.0, 35.0, 23.0, 21.0, 44.0, 53.0, 63.0, 18.0, 51.0, 64.0, 45.0, 20.0, 41.0, 23.0, 32.0, 25.0, 42.0, 41.0, 31.0, 50.0, 38.0, 44.0, 38.0, 21.0, 32.0, 23.0, 41.0, 41.0, 38.0, 54.0, 20.0, 26.0, 29.0, 47.0, 28.0, 48.0, 34.0, 33.0, 36.0, 43.0, 32.0, 29.0, 39.0, 40.0, 50.0, 19.0, 28.0, 16.0, 49.0, 44.0, 25.0, 39.0, 44.0, 50.0, 57.0, 57.0, 33.0, 21.0, 52.0, 27.0, 60.0, 25.0, 34.0, 22.0, 26.0, 27.0, 29.0, 30.0, 32.0, 18.0, 37.0, 54.0, 50.0, 28.0, 59.0, 24.0, 34.0, 25.0, 25.0, 17.0, 48.0, 45.0, 18.0, 50.0, 36.0, 45.0, 42.0, 37.11793090137039, 23.0, 31.0, 26.0, 57.0, 18.0, 27.0, 41.0, 33.0, 22.0, 38.0, 26.0, 45.0, 68.0, 56.0, 23.0, 45.0, 41.0, 33.0, 22.0, 50.0, 52.0, 35.0, 18.0, 34.0, 51.0, 18.0, 29.0, 34.0, 25.0, 17.0, 26.0, 33.0, 25.0, 31.0, 25.0, 45.0, 25.0, 23.0, 37.0, 33.0, 27.0, 32.0, 31.0, 26.0, 32.0, 53.0, 19.0, 53.0, 35.0, 64.0, 24.0, 33.0, 55.0, 17.0, 48.0, 21.0, 22.0, 30.0, 34.0, 35.0, 32.0, 22.0, 46.0, 27.0, 18.0, 33.0, 26.0, 27.0, 26.0, 51.0, 63.0, 38.0, 25.0, 39.0, 41.0, 26.0, 33.0, 38.0, 24.0, 47.0, 62.0, 30.0, 23.0, 39.0, 41.0, 36.0, 66.0, 27.0, 40.0, 25.0, 20.0, 43.0, 40.0, 33.0, 34.0, 27.0, 25.0, 37.0, 32.0, 25.0, 38.0, 50.0, 26.0, 70.0, 38.0, 41.0, 91.0, 25.0, 29.0, 24.0, 40.0, 51.0, 30.0, 28.0, 33.0, 23.0, 23.0, 20.0, 56.0, 36.0, 18.0, 43.0, 29.0, 25.0, 34.0, 32.0, 58.0, 36.0, 32.0, 25.0, 25.0, 25.0, 42.0, 36.0, 59.0, 19.0, 45.0, 42.0, 27.0, 45.0, 51.0, 42.0, 24.0, 39.0, 18.0, 26.0, 35.0, 53.0, 54.0, 36.0, 56.0, 51.0, 45.0, 28.0, 36.0, 73.0, 26.0, 41.0, 59.0, 28.0, 45.0, 27.0, 46.0, 34.0, 30.0, 46.0, 47.0, 32.0, 65.0, 19.0, 22.0, 39.0, 38.0, 68.0, 49.0, 37.0, 33.0, 25.0, 36.0, 30.0, 39.0, 28.0, 28.0, 25.0, 57.0, 33.0, 24.0, 33.0, 56.0, 56.0, 16.0, 47.0, 33.0, 32.0, 21.0, 64.0, 19.0, 26.0, 25.0, 55.0, 25.0, 43.0, 39.0, 24.0, 70.0, 79.0, 16.0, 35.0, 15.0, 23.0, 53.0, 20.0, 27.0, 53.0, 32.0, 57.0, 26.0, 53.0, 32.0, 25.0, 15.0, 59.0, 35.0, 33.0, 32.0, 49.0, 46.0, 25.0, 20.0, 48.0, 24.0, 18.0, 67.0, 26.0, 15.0, 27.0, 26.0, 62.0, 24.0, 32.0, 29.0, 16.0, 25.0, 40.0, 39.0, 34.0, 36.0, 24.0, 50.0, 37.11793090137039, 30.0, 35.0, 46.0, 51.0, 37.0, 41.0, 41.0, 48.0, 29.0, 47.0, 34.0, 48.0, 25.0, 24.0, 38.0, 28.0, 47.0, 65.0, 58.0, 33.0, 43.0, 24.0, 37.0, 31.0, 65.0, 59.0, 74.0, 21.0, 24.0, 37.11793090137039, 23.0, 59.0, 33.0, 34.0, 30.0, 22.0, 37.0, 20.0, 18.0, 24.0, 17.0, 27.0, 51.0, 29.0, 34.0, 18.0, 17.0, 55.0, 44.0, 27.0, 66.0, 45.0, 47.0, 34.0, 37.0, 54.0, 21.0, 21.0, 35.0, 75.0, 45.0, 48.0, 58.0, 30.0, 44.0, 82.0, 29.0, 25.0, 53.0, 60.0, 19.0, 63.0, 50.0, 35.0, 45.0, 24.0, 36.0, 35.0, 33.0, 66.0, 54.0, 20.0, 40.0, 41.0, 30.0, 32.0, 37.0, 48.0, 64.0, 21.0, 28.0, 36.0, 40.0, 32.0, 50.0, 28.0, 33.0, 37.0, 17.0, 20.0, 34.0, 37.0, 24.0, 47.0, 20.0, 56.0, 24.0, 47.0, 36.0, 35.0, 37.0, 45.0, 41.0, 23.0, 37.0, 23.0, 33.0, 23.0, 37.0, 19.0, 39.0, 53.0, 51.0, 25.0, 45.0, 28.0, 36.0, 32.0, 39.0, 46.0, 53.0, 42.0, 34.0, 53.0, 45.0, 24.0, 51.0, 35.0, 27.0, 33.0, 16.0, 30.0, 22.0, 23.0, 28.0, 34.0, 24.0, 54.0, 26.0, 39.0, 34.0, 27.0, 48.0, 47.0, 54.0, 33.0, 40.0, 58.0, 55.0, 47.0, 42.0, 29.0, 23.0, 23.0, 52.0, 43.0, 37.0, 32.0, 70.0, 24.0, 24.0, 38.0, 52.0, 27.0, 22.0, 42.0, 49.0, 59.0, 41.0, 34.0, 31.0, 23.0, 28.0, 33.0, 16.0, 35.0, 26.0, 25.0, 25.0, 31.0, 35.0, 46.0, 39.0, 26.0, 37.0, 32.0, 31.0, 48.0, 29.0, 32.0, 28.0, 43.0, 39.0, 37.0, 39.0, 42.0, 33.0, 25.0, 29.0, 45.0, 27.0, 28.0, 57.0, 15.0, 33.0, 35.0, 47.0, 31.0, 54.0, 24.0, 35.0, 32.0, 28.0, 45.0, 29.0, 36.0, 23.0, 17.0, 20.0, 33.0, 49.0, 31.0, 35.0, 24.0, 54.0, 41.0, 50.0, 46.0, 45.0, 20.0, 37.0, 34.0, 54.0, 65.0, 28.0, 26.0, 25.0, 32.0, 44.0, 32.0, 42.0, 66.0, 22.0, 51.0, 64.0, 71.0, 30.0, 48.0, 56.0, 28.0, 19.0, 24.0, 44.0, 47.0, 18.0, 26.0, 33.0, 34.0, 62.0, 24.0, 55.0, 22.0, 27.0, 32.0, 22.0, 32.0, 45.0, 36.0, 37.0, 47.0, 30.0, 31.0, 44.0, 52.0, 16.0, 29.0, 42.0, 31.0, 41.0, 45.0, 50.0, 26.0, 22.0, 76.0, 58.0, 32.0, 19.0, 25.0, 48.0, 39.0, 31.0, 50.0, 15.0, 48.0, 32.0, 21.0, 37.0, 21.0, 40.0, 33.0, 25.0, 55.0, 53.0, 27.0, 35.0, 25.0, 31.0, 70.0, 40.0, 25.0, 38.0, 26.0, 27.0, 37.11793090137039, 28.0, 40.0, 44.0, 39.0, 24.0, 32.0, 31.0, 50.0, 31.0, 50.0, 45.0, 44.0, 48.0, 39.0, 30.0, 44.0, 28.0, 24.0, 27.0, 34.0, 41.0, 26.0, 38.0, 33.0, 22.0, 40.0, 34.0, 37.0, 67.0, 35.0, 29.0, 28.0, 40.0, 31.0, 51.0, 47.0, 52.0, 28.0, 35.0, 25.0, 37.11793090137039, 58.0, 24.0, 46.0, 61.0, 43.0, 44.0, 35.0, 29.0, 57.0, 42.0, 44.0, 20.0, 32.0, 34.0, 18.0, 31.0, 24.0, 35.0, 34.0, 26.0, 55.0, 38.0, 23.0, 30.0, 44.0, 37.0, 27.0, 43.0, 30.0, 35.0, 35.0, 37.0, 25.0, 34.0, 33.0, 33.0, 32.0, 34.0, 46.0, 40.0, 27.0, 17.0, 46.0, 50.0, 41.0, 23.0, 33.0, 25.0, 27.0, 39.0, 22.0, 27.0, 28.0, 56.0, 71.0, 53.0, 39.0, 56.0, 24.0, 35.0, 30.0, 31.0, 20.0, 35.0, 49.0, 48.0, 35.0, 30.0, 32.0, 31.0, 14.0, 25.0, 32.0, 35.0, 27.0, 55.0, 43.0, 62.0, 25.0, 37.11793090137039, 50.0, 19.0, 41.0, 55.0, 19.0, 67.0, 24.0, 44.0, 29.0, 48.0, 22.0, 37.11793090137039, 59.0, 68.0, 25.0, 23.0, 46.0, 25.0, 30.0, 56.0, 24.0, 18.0, 27.0, 26.0, 15.0, 26.0, 32.0, 17.0, 32.0, 43.0, 26.0, 51.0, 39.0, 43.0, 31.0, 22.0, 40.0, 64.0, 30.0, 59.0, 24.0, 32.0, 37.0, 33.0, 42.0, 37.0, 33.0, 62.0, 46.0, 69.0, 24.0, 42.0, 49.0, 35.0, 19.0, 40.0, 34.0, 22.0, 16.0, 69.0, 24.0, 28.0, 51.0, 20.0, 34.0, 27.0, 48.0, 33.0, 6.0, 26.0, 40.0, 46.0, 20.0, 28.0, 30.0, 36.0, 25.0, 28.0, 38.0, 30.0, 31.0, 36.0, 65.0, 42.0, 65.0, 49.0, 66.0, 28.0, 27.0, 31.0, 46.0, 28.0, 35.0, 24.0, 17.0, 39.0, 21.0, 21.0, 57.0, 27.0, 62.0, 40.0, 38.0, 27.0, 54.0, 27.0, 51.0, 25.0, 46.0, 20.0, 32.0, 27.0, 21.0, 60.0, 44.0, 23.0, 31.0, 43.0, 39.0, 54.0, 22.0, 37.0, 42.0, 22.0, 42.0, 32.0, 30.0, 27.0, 29.0, 34.0, 26.0, 22.0, 16.0, 31.0, 58.0, 23.0, 44.0, 46.0, 61.0, 17.0, 46.0, 35.0, 36.0, 28.0, 37.0, 47.0, 35.0, 40.0, 24.0, 18.0, 38.0, 54.0, 27.0, 62.0, 66.0, 47.0, 19.0, 27.0, 23.0, 42.0, 43.0, 42.0, 45.0, 45.0, 33.0, 38.0, 33.0, 46.0, 52.0, 46.0, 40.0, 20.0, 39.0, 35.0, 31.0, 32.0, 56.0, 37.0, 32.0, 28.0, 26.0, 27.0, 37.11793090137039, 43.0, 49.0, 16.0, 35.0, 19.0, 59.0, 29.0, 37.0, 22.0, 40.0, 35.0, 39.0, 36.0, 78.0, 25.0, 41.0, 63.0, 48.0, 42.0, 39.0, 84.0, 33.0, 52.0, 30.0, 29.0, 27.0, 41.0, 57.0, 27.0, 58.0, 59.0, 39.0, 28.0, 28.0, 23.0, 55.0, 33.0, 23.0, 45.0, 37.0, 21.0, 27.0, 39.0, 37.0, 22.0, 26.0, 27.0, 37.0, 58.0, 62.0, 25.0, 36.0, 37.11793090137039, 27.0, 37.0, 25.0, 40.0, 22.0, 29.0, 20.0, 33.0, 48.0, 47.0, 40.0, 29.0, 29.0, 44.0, 36.0, 48.0, 49.0, 41.0, 37.11793090137039, 28.0, 33.0, 44.0, 65.0, 35.0, 25.0, 40.0, 36.0, 55.0, 19.0, 70.0, 37.0, 53.0, 46.0, 29.0, 27.0, 27.0, 38.0, 20.0, 45.0, 32.0, 48.0, 57.0, 16.0, 47.0, 61.0, 32.0, 31.0, 46.0, 27.0, 31.0, 26.0, 31.0, 27.0, 49.0, 26.0, 28.0, 62.0, 50.0, 23.0, 40.0, 50.0, 50.0, 27.0, 35.0, 32.0, 56.0, 20.0, 56.0, 39.0, 47.0, 25.0, 21.0, 18.0, 36.0, 35.0, 29.0, 20.0, 30.0, 40.0, 48.0, 23.0, 42.0, 20.0, 28.0, 34.0, 41.0, 24.0, 29.0, 44.0, 31.0, 26.0, 51.0, 64.0, 29.0, 61.0, 44.0, 39.0, 35.0, 39.0, 60.0, 42.0, 27.0, 21.0, 33.0, 60.0, 24.0, 41.0, 41.0, 34.0, 23.0, 38.0, 58.0, 49.0, 27.0, 34.0, 34.0, 30.0, 81.0, 40.0, 27.0, 26.0, 18.0, 59.0, 56.0, 22.0, 34.0, 23.0, 36.0, 48.0, 33.0, 24.0, 25.0, 20.0, 45.0, 29.0, 34.0, 23.0, 29.0, 44.0, 30.0, 28.0, 25.0, 61.0, 39.0, 50.0, 37.11793090137039, 23.0, 39.0, 45.0, 34.0, 31.0, 55.0, 39.0, 32.0, 44.0, 24.0, 36.0, 41.0, 25.0, 39.0, 40.0, 32.0, 45.0, 31.0, 32.0, 48.0, 49.0, 48.0, 18.0, 48.0, 25.0, 27.0, 37.0, 44.0, 27.0, 41.0, 42.0, 36.0, 37.0, 46.0, 26.0, 41.0, 38.0, 42.0, 47.0, 26.0, 64.0, 49.0, 44.0, 48.0, 27.0, 67.0, 24.0, 26.0, 28.0, 21.0, 24.0, 73.0, 39.0, 32.0, 38.0, 32.0, 26.0, 50.0, 48.0, 65.0, 37.0, 45.0, 33.0, 46.0, 33.0, 33.0, 51.0, 52.0, 24.0, 55.0, 28.0, 36.0, 24.0, 20.0, 54.0, 53.0, 36.0, 24.0, 34.0, 59.0, 34.0, 29.0, 24.0, 77.0, 30.0, 36.0, 36.0, 58.0, 47.0, 49.0, 25.0, 30.0, 33.0, 29.0, 31.0, 51.0, 42.0, 67.0, 23.0, 34.0, 51.0, 19.0, 29.0, 23.0, 42.0, 21.0, 55.0, 37.11793090137039, 43.0, 32.0, 34.0, 40.0, 55.0, 20.0, 24.0, 43.0, 56.0, 47.0, 33.0, 28.0, 50.0, 36.0, 47.0, 49.0, 34.0, 41.0, 29.0, 34.0, 34.0, 22.0, 26.0, 32.0, 44.0, 21.0, 29.0, 18.0, 33.0, 37.11793090137039, 40.0, 40.0, 37.0, 47.0, 33.0, 44.0, 65.0, 20.0, 17.0, 55.0, 33.0, 44.0, 37.0, 32.0, 31.0, 20.0, 30.0, 25.0, 47.0, 48.0, 32.0, 18.0, 29.0, 30.0, 39.0, 36.0, 36.0, 54.0, 27.0, 45.0, 19.0, 36.0, 33.0, 56.0, 33.0, 60.0, 26.0, 52.0, 40.0, 33.0, 41.0, 32.0, 34.0, 26.0, 62.0, 55.0, 38.0, 43.0, 38.0, 27.0, 52.0, 37.0, 34.0, 41.0, 40.0, 53.0, 21.0, 34.0, 22.0, 25.0, 16.0, 37.0, 68.0, 25.0, 34.0, 23.0, 25.0, 57.0, 27.0, 51.0, 30.0, 33.0, 37.11793090137039, 19.0, 22.0, 37.0, 19.0, 33.0, 38.0, 45.0, 39.0, 21.0, 56.0, 50.0, 16.0, 18.0, 38.0, 32.0, 33.0, 71.0, 30.0, 19.0, 44.0, 54.0, 29.0, 37.11793090137039, 56.0, 64.0, 25.0, 18.0, 36.0, 24.0, 30.0, 53.0, 32.0, 25.0, 44.0, 32.0, 33.0, 37.11793090137039, 35.0, 23.0, 27.0, 53.0, 35.0, 41.0, 18.0, 34.0, 49.0, 31.0, 29.0, 33.0, 38.0, 43.0, 29.0, 68.0, 62.0, 39.0, 59.0, 24.0, 70.0, 42.0, 26.0, 24.0, 48.0, 54.0, 48.0, 37.0, 40.0, 28.0, 43.0, 35.0, 21.0, 40.0, 32.0, 48.0, 31.0, 37.11793090137039, 58.0, 30.0, 21.0, 15.0, 30.0, 28.0, 21.0, 33.0, 37.11793090137039, 36.0, 38.0, 44.0, 20.0, 41.0, 18.0, 29.0, 25.0, 20.0, 34.0, 37.0, 18.0, 72.0, 17.0, 64.0, 36.0, 61.0, 24.0, 70.0, 40.0, 21.0, 27.0, 23.0, 33.0, 45.0, 19.0, 28.0, 63.0, 37.11793090137039, 57.0, 32.0, 38.0, 46.0, 31.0, 40.0, 31.0, 50.0, 29.0, 25.0, 31.0, 23.0, 44.0, 43.0, 37.0, 55.0, 40.0, 26.0, 29.0, 29.0, 42.0, 20.0, 34.0, 41.0, 29.0, 19.0, 32.0, 23.0, 41.0, 37.0, 24.0, 54.0, 58.0, 40.0, 27.0, 40.0, 23.0, 33.0, 26.0, 38.0, 25.0, 31.0, 48.0, 43.0, 36.0, 39.0, 22.0, 24.0, 36.0, 25.0, 30.0, 76.0, 39.0, 21.0, 31.0, 22.0, 27.0, 84.0, 17.0, 17.0, 22.0, 41.0, 58.0, 29.0, 19.0, 18.0, 61.0, 18.0, 23.0, 38.0, 19.0, 63.0, 21.0, 25.0, 35.0, 50.0, 37.11793090137039, 26.0, 61.0, 18.0, 37.0, 27.0, 24.0, 37.0, 28.0, 44.0, 30.0, 30.0, 34.0, 27.0, 28.0, 32.0, 24.0, 17.0, 26.0, 35.0, 25.0, 33.0, 25.0, 29.0, 18.0, 19.0, 39.0, 61.0, 36.0, 72.0, 48.0, 34.0, 36.0, 33.0, 30.0, 61.0, 41.0, 52.0, 26.0, 37.11793090137039, 39.0, 36.0, 47.0, 37.11793090137039, 25.0, 63.0, 24.0, 38.0, 22.0, 59.0, 29.0, 18.0, 29.0, 25.0, 48.0, 60.0, 27.0, 65.0, 41.0, 33.0, 33.0, 22.0, 52.0, 42.0, 48.0, 24.0, 21.0, 20.0, 59.0, 46.0, 23.0, 32.0, 19.0, 64.0, 35.0, 41.0, 42.0, 35.0, 33.0, 32.0, 37.0, 37.0, 65.0, 30.0, 43.0, 18.0, 27.0, 41.0, 41.0, 33.0, 53.0, 42.0, 46.0, 51.0, 16.0, 41.0, 24.0, 23.0, 50.0, 41.0, 23.0, 33.0, 58.0, 47.0, 22.0, 29.0, 43.0, 18.0, 19.0, 37.0, 42.0, 35.0, 50.0, 60.0, 35.0, 37.11793090137039, 24.0, 27.0, 27.0, 23.0, 57.0, 56.0, 36.0, 37.11793090137039, 37.11793090137039, 34.0, 17.0, 21.0, 35.0, 34.0, 56.0, 35.0, 46.0, 42.0, 49.0, 44.0, 45.0, 36.0, 45.0, 34.0, 26.0, 28.0, 35.0, 20.0, 33.0, 39.0, 63.0, 27.0, 33.0, 27.0, 31.0, 33.0, 39.0, 27.0, 32.0, 29.0, 28.0, 50.0, 55.0, 42.0, 36.0, 38.0, 38.0, 35.0, 42.0, 70.0, 29.0, 26.0, 20.0, 30.0, 19.0, 48.0, 58.0, 38.0, 28.0, 34.0, 45.0, 18.0, 25.0, 38.0, 33.0, 39.0, 58.0, 48.0, 14.0, 18.0, 22.0, 46.0, 37.11793090137039, 57.0, 32.0, 31.0, 64.0, 35.0, 42.0, 30.0, 26.0, 37.0, 21.0, 20.0, 46.0, 37.11793090137039, 20.0, 46.0, 26.0, 60.0, 25.0, 29.0, 59.0, 46.0, 55.0, 27.0, 30.0, 45.0, 51.0, 27.0, 47.0, 52.0, 45.0, 47.0, 68.0, 40.0, 18.0, 35.0, 80.0, 44.0, 31.0, 20.0, 43.0, 25.0, 38.0, 34.0, 58.0, 38.0, 29.0, 40.0, 49.0, 25.0, 21.0, 57.0, 28.0, 25.0, 58.0, 34.0, 34.0, 24.0, 32.0, 58.0, 20.0, 19.0, 46.0, 28.0, 47.0, 47.0, 34.0, 37.11793090137039, 45.0, 17.0, 34.0, 48.0, 32.0, 20.0, 31.0, 16.0, 24.0, 39.0, 26.0, 30.0, 36.0, 28.0, 21.0, 36.0, 28.0, 24.0, 29.0, 44.0, 41.0, 38.0, 40.0, 27.0, 51.0, 48.0, 40.0, 29.0, 34.0, 47.0, 29.0, 33.0, 46.0, 36.0, 63.0, 27.0, 17.0, 22.0, 31.0, 56.0, 32.0, 25.0, 47.0, 37.11793090137039, 23.0, 34.0, 35.0, 46.0, 59.0, 30.0, 34.0, 44.0, 31.0, 51.0, 34.0, 45.0, 31.0, 41.0, 29.0, 30.0, 27.0, 38.0, 33.0, 25.0, 47.0, 49.0, 33.0, 36.0, 22.0, 29.0, 52.0, 61.0, 29.0, 37.0, 19.0, 45.0, 22.0, 57.0, 46.0, 27.0, 26.0, 30.0, 18.0, 25.0, 51.0, 40.0, 47.0, 38.0, 39.0, 30.0, 42.0, 25.0, 22.0, 30.0, 24.0, 31.0, 25.0, 19.0, 31.0, 48.0, 53.0, 50.0, 55.0, 37.11793090137039, 37.0, 30.0, 36.0, 24.0, 35.0, 42.0, 37.0, 28.0, 32.0, 33.0, 27.0, 21.0, 47.0, 57.0, 34.0, 34.0, 30.0, 28.0, 39.0, 54.0, 27.0, 32.0, 32.0, 47.0, 33.0, 42.0, 37.11793090137039, 24.0, 42.0, 34.0, 46.0, 40.0, 30.0, 42.0, 30.0, 63.0, 18.0, 29.0, 42.0, 32.0, 50.0, 29.0, 29.0, 51.0, 23.0, 47.0, 45.0, 42.0, 26.0, 29.0, 17.0, 37.11793090137039, 51.0, 37.0, 28.0, 52.0, 37.0, 37.0, 25.0, 35.0, 35.0, 61.0, 33.0, 34.0, 59.0, 32.0, 49.0, 31.0, 29.0, 25.0, 26.0, 37.11793090137039, 39.0, 26.0, 36.0, 45.0, 54.0, 43.0, 37.11793090137039, 30.0, 37.11793090137039, 39.0, 40.0, 36.0, 27.0, 20.0, 17.0, 59.0, 45.0, 46.0, 26.0, 21.0, 29.0, 33.0, 47.0, 22.0, 41.0, 28.0, 56.0, 41.0, 35.0, 59.0, 30.0, 49.0, 41.0, 21.0, 62.0, 22.0, 58.0, 32.0, 26.0, 35.0, 27.0, 35.0, 23.0, 59.0, 23.0, 43.0, 41.0, 56.0, 45.0, 28.0, 37.11793090137039, 54.0, 39.0, 37.11793090137039, 41.0, 27.0, 70.0, 37.11793090137039, 35.0, 26.0, 58.0, 46.0, 39.0, 20.0, 38.0, 41.0, 32.0, 37.11793090137039, 24.0, 19.0, 27.0, 40.0, 61.0, 20.0, 35.0, 17.0, 22.0, 45.0, 20.0, 18.0, 28.0, 38.0, 53.0, 31.0, 48.0, 20.0, 35.0, 22.0, 18.0, 74.0, 33.0, 38.0, 26.0, 41.0, 29.0, 19.0, 61.0, 34.0, 35.0, 43.0, 50.0, 32.0, 50.0, 54.0, 35.0, 33.0, 18.0, 50.0, 41.0, 37.0, 76.0, 19.0, 40.0, 61.0, 61.0, 22.0, 52.0, 23.0, 67.0, 44.0, 23.0, 39.0, 53.0, 39.0, 26.0, 49.0, 34.0, 47.0, 34.0, 58.0, 21.0, 37.0, 43.0, 61.0, 28.0, 41.0, 23.0, 36.0, 23.0, 26.0, 32.0, 62.0, 33.0, 32.0, 69.0, 35.0, 46.0, 46.0, 22.0, 20.0, 30.0, 49.0, 43.0, 52.0, 56.0, 36.0, 52.0, 35.0, 35.0, 53.0, 23.0, 19.0, 41.0, 39.0, 28.0, 37.11793090137039, 53.0, 27.0, 31.0, 38.0, 38.0, 41.0, 49.0, 56.0, 62.0, 31.0, 37.0, 37.11793090137039, 28.0, 46.0, 21.0, 36.0, 48.0, 34.0, 45.0, 19.0, 32.0, 32.0, 24.0, 65.0, 29.0, 49.0, 19.0, 56.0, 39.0, 43.0, 57.0, 49.0, 18.0, 27.0, 52.0, 37.0, 45.0, 49.0, 38.0, 31.0, 51.0, 37.11793090137039, 51.0, 20.0, 26.0, 25.0, 37.11793090137039, 62.0, 27.0, 33.0, 39.0, 18.0, 27.0, 50.0, 57.0, 29.0, 39.0, 31.0, 34.0, 52.0, 33.0, 37.0, 52.0, 62.0, 30.0, 28.0, 51.0, 23.0, 36.0, 37.0, 49.0, 49.0, 35.0, 17.0, 30.0, 34.0, 46.0, 29.0, 28.0, 43.0, 42.0, 30.0, 24.0, 27.0, 41.0, 47.0, 26.0, 20.0, 18.0, 37.11793090137039, 29.0, 35.0, 77.0, 31.0, 54.0, 33.0, 76.0, 28.0, 31.0, 53.0, 33.0, 37.0, 36.0, 39.0, 43.0, 44.0, 33.0, 49.0, 18.0, 21.0, 57.0, 29.0, 58.0, 74.0, 63.0, 28.0, 67.0, 64.0, 32.0, 49.0, 28.0, 31.0, 20.0, 27.0, 37.0, 36.0, 35.0, 50.0, 75.0, 32.0, 34.0, 24.0, 37.0, 33.0, 37.0, 55.0, 31.0, 54.0, 37.0, 48.0, 28.0, 31.0, 48.0, 58.0, 19.0, 21.0, 57.0, 17.0, 22.0, 26.0, 31.0, 61.0, 28.0, 30.0, 30.0, 28.0, 26.0, 28.0, 21.0, 31.0, 27.0, 34.0, 22.0, 29.0, 38.0, 51.0, 34.0, 30.0, 21.0, 39.0, 34.0, 47.0, 29.0, 29.0, 44.0, 53.0, 19.0, 40.0, 33.0, 45.0, 40.0, 27.0, 63.0, 50.0, 25.0, 39.0, 42.0, 25.0, 24.0, 37.11793090137039, 37.11793090137039, 62.0, 34.0, 33.0, 56.0, 22.0, 46.0, 41.0, 38.0, 22.0, 42.0, 29.0, 56.0, 32.0, 31.0, 21.0, 31.0, 48.0, 58.0, 32.0, 45.0, 37.0, 20.0, 34.0, 31.0, 26.0, 32.0, 66.0, 37.0, 38.0, 44.0, 28.0, 22.0, 39.0, 30.0, 27.0, 37.11793090137039, 37.0, 52.0, 35.0, 33.0, 27.0, 27.0, 41.0, 28.0, 26.0, 37.11793090137039, 34.0, 34.0, 38.0, 32.0, 50.0, 55.0, 51.0, 18.0, 36.0, 37.0, 28.0, 24.0, 34.0, 22.0, 42.0, 48.0, 51.0, 40.0, 34.0, 30.0, 31.0, 54.0, 60.0, 40.0, 37.11793090137039, 40.0, 68.0, 68.0, 60.0, 16.0, 25.0, 20.0, 21.0, 38.0, 28.0, 18.0, 37.11793090137039, 26.0, 31.0, 58.0, 31.0, 41.0, 41.0, 41.0, 23.0, 17.0, 35.0, 65.0, 51.0, 47.0, 42.0, 42.0, 31.0, 23.0, 47.0, 66.0, 55.0, 68.0, 31.0, 24.0, 30.0, 34.0, 23.0, 43.0, 22.0, 22.0, 42.0, 65.0, 18.0, 23.0, 52.0, 40.0, 27.0, 34.0, 25.0, 28.0, 37.11793090137039, 27.0, 41.0, 27.0, 38.0, 29.0, 47.0, 28.0, 38.0, 21.0, 44.0, 61.0, 25.0, 40.0, 26.0, 57.0, 57.0, 24.0, 46.0, 38.0, 24.0, 34.0, 65.0, 60.0, 23.0, 35.0, 35.0, 16.0, 37.11793090137039, 42.0, 43.0, 52.0, 31.0, 27.0, 31.0, 34.0, 29.0, 34.0, 37.11793090137039, 18.0, 25.0, 28.0, 37.0, 37.11793090137039, 23.0, 57.0, 49.0, 24.0, 20.0, 25.0, 26.0, 26.0, 41.0, 31.0, 30.0, 25.0, 57.0, 17.0, 27.0, 30.0, 18.0, 50.0, 21.0, 28.0, 28.0, 33.0, 59.0, 34.0, 37.0, 30.0, 47.0, 34.0, 24.0, 25.0, 37.11793090137039, 47.0, 49.0, 31.0, 47.0, 52.0, 29.0, 45.0, 51.0, 55.0, 35.0, 50.0, 31.0, 47.0, 35.0, 66.0, 19.0, 19.0, 43.0, 57.0, 31.0, 41.0, 39.0, 24.0, 20.0, 32.0, 31.0, 22.0, 60.0, 40.0, 37.0, 34.0, 22.0, 30.0, 26.0, 29.0, 32.0, 32.0, 27.0, 31.0, 19.0, 34.0, 32.0, 43.0, 22.0, 43.0, 27.0, 39.0, 37.0, 20.0, 34.0, 32.0, 15.0, 52.0, 53.0, 24.0, 41.0, 17.0, 44.0, 56.0, 23.0, 32.0, 26.0, 41.0, 56.0, 33.0, 37.0, 41.0, 38.0, 67.0, 45.0, 48.0, 31.0, 47.0, 40.0, 40.0, 34.0, 51.0, 33.0, 25.0, 41.0, 19.0, 21.0, 58.0, 63.0, 37.11793090137039, 58.0, 16.0, 31.0, 33.0, 40.0, 34.0, 29.0, 27.0, 23.0, 38.0, 17.0, 75.0, 40.0, 36.0, 27.0, 28.0, 20.0, 38.0, 16.0, 30.0, 30.0, 30.0, 36.0, 33.0, 39.0, 22.0, 49.0, 45.0, 45.0, 30.0, 30.0, 31.0, 73.0, 39.0, 37.0, 37.11793090137039, 31.0, 25.0, 24.0, 27.0, 37.11793090137039, 32.0, 43.0, 84.0, 31.0, 57.0, 37.0, 47.0, 44.0, 38.0, 21.0, 47.0, 30.0, 62.0, 41.0, 50.0, 37.11793090137039, 31.0, 30.0, 32.0, 20.0, 38.0, 47.0, 19.0, 35.0, 58.0, 18.0, 39.0, 61.0, 51.0, 28.0, 33.0, 47.0, 39.0, 31.0, 18.0, 23.0, 46.0, 50.0, 34.0, 45.0, 31.0, 19.0, 53.0, 32.0, 46.0, 26.0, 46.0, 22.0, 38.0, 44.0, 37.0, 52.0, 29.0, 19.0, 66.0, 40.0, 30.0, 69.0, 27.0, 62.0, 37.11793090137039, 39.0, 67.0, 54.0, 29.0, 33.0, 31.0, 38.0, 28.0, 45.0, 59.0, 17.0, 19.0, 36.0, 39.0, 37.11793090137039, 33.0, 31.0, 51.0, 35.0, 36.0, 31.0, 39.0, 58.0, 39.0, 24.0, 48.0, 31.0, 37.11793090137039, 43.0, 33.0, 24.0, 40.0, 28.0, 24.0, 27.0, 40.0, 35.0, 42.0, 42.0, 24.0, 59.0, 61.0, 26.0, 32.0, 50.0, 38.0, 29.0, 27.0, 43.0, 21.0, 36.0, 24.0, 32.0, 26.0, 54.0, 44.0, 69.0, 45.0, 26.0, 43.0, 38.0, 21.0, 23.0, 33.0, 40.0, 21.0, 20.0, 21.0, 47.0, 38.0, 31.0, 51.0, 19.0, 21.0, 48.0, 42.0, 30.0, 47.0, 57.0, 27.0, 50.0, 37.0, 24.0, 24.0, 30.0, 49.0, 47.0, 31.0, 33.0, 29.0, 42.0, 38.0, 25.0, 39.0, 64.0, 28.0, 32.0, 69.0, 29.0, 45.0, 40.0, 60.0, 22.0, 28.0, 38.0, 28.0, 37.0, 22.0, 18.0, 38.0, 58.0, 50.0, 31.0, 35.0, 53.0, 31.0, 35.0, 37.11793090137039, 32.0, 39.0, 44.0, 46.0, 49.0, 32.0, 53.0, 25.0, 36.0, 22.0, 33.0, 44.0, 25.0, 36.0, 42.0, 24.0, 22.0, 35.0, 38.0, 28.0, 26.0, 62.0, 27.0, 23.0, 22.0, 31.0], \"xaxis\": \"x\", \"yaxis\": \"y\"}, {\"alignmentgroup\": \"True\", \"bingroup\": \"x\", \"hovertemplate\": \"gender=F<br>age=%{x}<br>count=%{y}<extra></extra>\", \"legendgroup\": \"F\", \"marker\": {\"color\": \"#EF553B\"}, \"name\": \"F\", \"nbinsx\": 20, \"offsetgroup\": \"F\", \"orientation\": \"v\", \"showlegend\": true, \"type\": \"histogram\", \"x\": [34.0, 17.0, 17.0, 39.0, 38.0, 43.0, 20.0, 34.0, 28.0, 37.0, 43.0, 24.0, 49.0, 53.0, 26.0, 27.0, 46.0, 25.0, 39.0, 31.0, 45.0, 17.0, 40.0, 44.0, 30.0, 28.0, 23.0, 37.0, 55.0, 46.0, 50.0, 21.0, 36.0, 37.0, 27.0, 61.0, 51.0, 48.0, 22.0, 55.0, 50.0, 45.0, 12.0, 25.0, 31.0, 32.0, 41.0, 32.0, 36.0, 31.0, 38.0, 38.0, 25.0, 27.0, 50.0, 36.0, 40.0, 25.0, 35.0, 60.0, 24.0, 26.0, 29.0, 42.0, 24.0, 40.0, 23.0, 35.0, 46.0, 53.0, 26.0, 66.0, 23.0, 25.0, 39.0, 31.0, 44.0, 53.0, 71.0, 37.0, 21.0, 18.0, 55.0, 30.0, 33.0, 46.0, 16.0, 59.0, 21.0, 17.0, 54.0, 50.0, 27.0, 41.0, 33.0, 24.0, 28.0, 30.0, 29.0, 50.0, 40.0, 25.0, 62.0, 36.0, 30.0, 26.0, 28.0, 46.0, 54.0, 48.0, 34.0, 22.0, 25.0, 31.0, 37.0, 31.0, 54.0, 32.0, 23.0, 30.0, 53.0, 72.0, 21.0, 43.0, 48.0, 38.0, 84.0, 32.0, 34.0, 25.0, 33.0, 44.0, 71.0, 56.0, 36.0, 21.0, 55.0, 49.0, 31.0, 37.11793090137039, 46.0, 20.0, 36.0, 28.0, 33.0, 27.0, 39.0, 60.0, 34.0, 23.0, 37.0, 41.0, 45.0, 49.0, 39.0, 54.0, 36.0, 49.0, 26.0, 34.0, 42.0, 25.0, 30.0, 27.0, 47.0, 31.0, 24.0, 37.11793090137039, 24.0, 58.0, 20.0, 20.0, 35.0, 21.0, 51.0, 32.0, 47.0, 26.0, 33.0, 28.0, 29.0, 49.0, 45.0, 45.0, 58.0, 47.0, 34.0, 32.0, 33.0, 38.0, 17.0, 40.0, 28.0, 30.0, 57.0, 38.0, 28.0, 54.0, 33.0, 37.0, 45.0, 59.0, 20.0, 42.0, 50.0, 59.0, 51.0, 35.0, 29.0, 29.0, 32.0, 26.0, 25.0, 42.0, 32.0, 55.0, 29.0, 56.0, 42.0, 22.0, 39.0, 25.0], \"xaxis\": \"x\", \"yaxis\": \"y\"}],\n",
       "                        {\"barmode\": \"relative\", \"legend\": {\"title\": {\"text\": \"gender\"}, \"tracegroupgap\": 0}, \"template\": {\"data\": {\"bar\": [{\"error_x\": {\"color\": \"#2a3f5f\"}, \"error_y\": {\"color\": \"#2a3f5f\"}, \"marker\": {\"line\": {\"color\": \"#E5ECF6\", \"width\": 0.5}}, \"type\": \"bar\"}], \"barpolar\": [{\"marker\": {\"line\": {\"color\": \"#E5ECF6\", \"width\": 0.5}}, \"type\": \"barpolar\"}], \"carpet\": [{\"aaxis\": {\"endlinecolor\": \"#2a3f5f\", \"gridcolor\": \"white\", \"linecolor\": \"white\", \"minorgridcolor\": \"white\", \"startlinecolor\": \"#2a3f5f\"}, \"baxis\": {\"endlinecolor\": \"#2a3f5f\", \"gridcolor\": \"white\", \"linecolor\": \"white\", \"minorgridcolor\": \"white\", \"startlinecolor\": \"#2a3f5f\"}, \"type\": \"carpet\"}], \"choropleth\": [{\"colorbar\": {\"outlinewidth\": 0, \"ticks\": \"\"}, \"type\": \"choropleth\"}], \"contour\": [{\"colorbar\": {\"outlinewidth\": 0, \"ticks\": \"\"}, \"colorscale\": [[0.0, \"#0d0887\"], [0.1111111111111111, \"#46039f\"], [0.2222222222222222, \"#7201a8\"], [0.3333333333333333, \"#9c179e\"], [0.4444444444444444, \"#bd3786\"], [0.5555555555555556, \"#d8576b\"], [0.6666666666666666, \"#ed7953\"], [0.7777777777777778, \"#fb9f3a\"], [0.8888888888888888, \"#fdca26\"], [1.0, \"#f0f921\"]], \"type\": \"contour\"}], \"contourcarpet\": [{\"colorbar\": {\"outlinewidth\": 0, \"ticks\": \"\"}, \"type\": \"contourcarpet\"}], \"heatmap\": [{\"colorbar\": {\"outlinewidth\": 0, \"ticks\": \"\"}, \"colorscale\": [[0.0, \"#0d0887\"], [0.1111111111111111, \"#46039f\"], [0.2222222222222222, \"#7201a8\"], [0.3333333333333333, \"#9c179e\"], [0.4444444444444444, \"#bd3786\"], [0.5555555555555556, \"#d8576b\"], [0.6666666666666666, \"#ed7953\"], [0.7777777777777778, \"#fb9f3a\"], [0.8888888888888888, \"#fdca26\"], [1.0, \"#f0f921\"]], \"type\": \"heatmap\"}], \"heatmapgl\": [{\"colorbar\": {\"outlinewidth\": 0, \"ticks\": \"\"}, \"colorscale\": [[0.0, \"#0d0887\"], [0.1111111111111111, \"#46039f\"], [0.2222222222222222, \"#7201a8\"], [0.3333333333333333, \"#9c179e\"], [0.4444444444444444, \"#bd3786\"], [0.5555555555555556, \"#d8576b\"], [0.6666666666666666, \"#ed7953\"], [0.7777777777777778, \"#fb9f3a\"], [0.8888888888888888, \"#fdca26\"], [1.0, \"#f0f921\"]], \"type\": \"heatmapgl\"}], \"histogram\": [{\"marker\": {\"colorbar\": {\"outlinewidth\": 0, \"ticks\": \"\"}}, \"type\": \"histogram\"}], \"histogram2d\": [{\"colorbar\": {\"outlinewidth\": 0, \"ticks\": \"\"}, \"colorscale\": [[0.0, \"#0d0887\"], [0.1111111111111111, \"#46039f\"], [0.2222222222222222, \"#7201a8\"], [0.3333333333333333, \"#9c179e\"], [0.4444444444444444, \"#bd3786\"], [0.5555555555555556, \"#d8576b\"], [0.6666666666666666, \"#ed7953\"], [0.7777777777777778, \"#fb9f3a\"], [0.8888888888888888, \"#fdca26\"], [1.0, \"#f0f921\"]], \"type\": \"histogram2d\"}], \"histogram2dcontour\": [{\"colorbar\": {\"outlinewidth\": 0, \"ticks\": \"\"}, \"colorscale\": [[0.0, \"#0d0887\"], [0.1111111111111111, \"#46039f\"], [0.2222222222222222, \"#7201a8\"], [0.3333333333333333, \"#9c179e\"], [0.4444444444444444, \"#bd3786\"], [0.5555555555555556, \"#d8576b\"], [0.6666666666666666, \"#ed7953\"], [0.7777777777777778, \"#fb9f3a\"], [0.8888888888888888, \"#fdca26\"], [1.0, \"#f0f921\"]], \"type\": \"histogram2dcontour\"}], \"mesh3d\": [{\"colorbar\": {\"outlinewidth\": 0, \"ticks\": \"\"}, \"type\": \"mesh3d\"}], \"parcoords\": [{\"line\": {\"colorbar\": {\"outlinewidth\": 0, \"ticks\": \"\"}}, \"type\": \"parcoords\"}], \"pie\": [{\"automargin\": true, \"type\": \"pie\"}], \"scatter\": [{\"marker\": {\"colorbar\": {\"outlinewidth\": 0, \"ticks\": \"\"}}, \"type\": \"scatter\"}], \"scatter3d\": [{\"line\": {\"colorbar\": {\"outlinewidth\": 0, \"ticks\": \"\"}}, \"marker\": {\"colorbar\": {\"outlinewidth\": 0, \"ticks\": \"\"}}, \"type\": \"scatter3d\"}], \"scattercarpet\": [{\"marker\": {\"colorbar\": {\"outlinewidth\": 0, \"ticks\": \"\"}}, \"type\": \"scattercarpet\"}], \"scattergeo\": [{\"marker\": {\"colorbar\": {\"outlinewidth\": 0, \"ticks\": \"\"}}, \"type\": \"scattergeo\"}], \"scattergl\": [{\"marker\": {\"colorbar\": {\"outlinewidth\": 0, \"ticks\": \"\"}}, \"type\": \"scattergl\"}], \"scattermapbox\": [{\"marker\": {\"colorbar\": {\"outlinewidth\": 0, \"ticks\": \"\"}}, \"type\": \"scattermapbox\"}], \"scatterpolar\": [{\"marker\": {\"colorbar\": {\"outlinewidth\": 0, \"ticks\": \"\"}}, \"type\": \"scatterpolar\"}], \"scatterpolargl\": [{\"marker\": {\"colorbar\": {\"outlinewidth\": 0, \"ticks\": \"\"}}, \"type\": \"scatterpolargl\"}], \"scatterternary\": [{\"marker\": {\"colorbar\": {\"outlinewidth\": 0, \"ticks\": \"\"}}, \"type\": \"scatterternary\"}], \"surface\": [{\"colorbar\": {\"outlinewidth\": 0, \"ticks\": \"\"}, \"colorscale\": [[0.0, \"#0d0887\"], [0.1111111111111111, \"#46039f\"], [0.2222222222222222, \"#7201a8\"], [0.3333333333333333, \"#9c179e\"], [0.4444444444444444, \"#bd3786\"], [0.5555555555555556, \"#d8576b\"], [0.6666666666666666, \"#ed7953\"], [0.7777777777777778, \"#fb9f3a\"], [0.8888888888888888, \"#fdca26\"], [1.0, \"#f0f921\"]], \"type\": \"surface\"}], \"table\": [{\"cells\": {\"fill\": {\"color\": \"#EBF0F8\"}, \"line\": {\"color\": \"white\"}}, \"header\": {\"fill\": {\"color\": \"#C8D4E3\"}, \"line\": {\"color\": \"white\"}}, \"type\": \"table\"}]}, \"layout\": {\"annotationdefaults\": {\"arrowcolor\": \"#2a3f5f\", \"arrowhead\": 0, \"arrowwidth\": 1}, \"coloraxis\": {\"colorbar\": {\"outlinewidth\": 0, \"ticks\": \"\"}}, \"colorscale\": {\"diverging\": [[0, \"#8e0152\"], [0.1, \"#c51b7d\"], [0.2, \"#de77ae\"], [0.3, \"#f1b6da\"], [0.4, \"#fde0ef\"], [0.5, \"#f7f7f7\"], [0.6, \"#e6f5d0\"], [0.7, \"#b8e186\"], [0.8, \"#7fbc41\"], [0.9, \"#4d9221\"], [1, \"#276419\"]], \"sequential\": [[0.0, \"#0d0887\"], [0.1111111111111111, \"#46039f\"], [0.2222222222222222, \"#7201a8\"], [0.3333333333333333, \"#9c179e\"], [0.4444444444444444, \"#bd3786\"], [0.5555555555555556, \"#d8576b\"], [0.6666666666666666, \"#ed7953\"], [0.7777777777777778, \"#fb9f3a\"], [0.8888888888888888, \"#fdca26\"], [1.0, \"#f0f921\"]], \"sequentialminus\": [[0.0, \"#0d0887\"], [0.1111111111111111, \"#46039f\"], [0.2222222222222222, \"#7201a8\"], [0.3333333333333333, \"#9c179e\"], [0.4444444444444444, \"#bd3786\"], [0.5555555555555556, \"#d8576b\"], [0.6666666666666666, \"#ed7953\"], [0.7777777777777778, \"#fb9f3a\"], [0.8888888888888888, \"#fdca26\"], [1.0, \"#f0f921\"]]}, \"colorway\": [\"#636efa\", \"#EF553B\", \"#00cc96\", \"#ab63fa\", \"#FFA15A\", \"#19d3f3\", \"#FF6692\", \"#B6E880\", \"#FF97FF\", \"#FECB52\"], \"font\": {\"color\": \"#2a3f5f\"}, \"geo\": {\"bgcolor\": \"white\", \"lakecolor\": \"white\", \"landcolor\": \"#E5ECF6\", \"showlakes\": true, \"showland\": true, \"subunitcolor\": \"white\"}, \"hoverlabel\": {\"align\": \"left\"}, \"hovermode\": \"closest\", \"mapbox\": {\"style\": \"light\"}, \"paper_bgcolor\": \"white\", \"plot_bgcolor\": \"#E5ECF6\", \"polar\": {\"angularaxis\": {\"gridcolor\": \"white\", \"linecolor\": \"white\", \"ticks\": \"\"}, \"bgcolor\": \"#E5ECF6\", \"radialaxis\": {\"gridcolor\": \"white\", \"linecolor\": \"white\", \"ticks\": \"\"}}, \"scene\": {\"xaxis\": {\"backgroundcolor\": \"#E5ECF6\", \"gridcolor\": \"white\", \"gridwidth\": 2, \"linecolor\": \"white\", \"showbackground\": true, \"ticks\": \"\", \"zerolinecolor\": \"white\"}, \"yaxis\": {\"backgroundcolor\": \"#E5ECF6\", \"gridcolor\": \"white\", \"gridwidth\": 2, \"linecolor\": \"white\", \"showbackground\": true, \"ticks\": \"\", \"zerolinecolor\": \"white\"}, \"zaxis\": {\"backgroundcolor\": \"#E5ECF6\", \"gridcolor\": \"white\", \"gridwidth\": 2, \"linecolor\": \"white\", \"showbackground\": true, \"ticks\": \"\", \"zerolinecolor\": \"white\"}}, \"shapedefaults\": {\"line\": {\"color\": \"#2a3f5f\"}}, \"ternary\": {\"aaxis\": {\"gridcolor\": \"white\", \"linecolor\": \"white\", \"ticks\": \"\"}, \"baxis\": {\"gridcolor\": \"white\", \"linecolor\": \"white\", \"ticks\": \"\"}, \"bgcolor\": \"#E5ECF6\", \"caxis\": {\"gridcolor\": \"white\", \"linecolor\": \"white\", \"ticks\": \"\"}}, \"title\": {\"x\": 0.05}, \"xaxis\": {\"automargin\": true, \"gridcolor\": \"white\", \"linecolor\": \"white\", \"ticks\": \"\", \"title\": {\"standoff\": 15}, \"zerolinecolor\": \"white\", \"zerolinewidth\": 2}, \"yaxis\": {\"automargin\": true, \"gridcolor\": \"white\", \"linecolor\": \"white\", \"ticks\": \"\", \"title\": {\"standoff\": 15}, \"zerolinecolor\": \"white\", \"zerolinewidth\": 2}}}, \"title\": {\"text\": \"Shootings by Age distribution\"}, \"width\": 800, \"xaxis\": {\"anchor\": \"y\", \"domain\": [0.0, 1.0], \"title\": {\"text\": \"age\"}}, \"yaxis\": {\"anchor\": \"x\", \"domain\": [0.0, 1.0], \"title\": {\"text\": \"count\"}}},\n",
       "                        {\"responsive\": true}\n",
       "                    ).then(function(){\n",
       "                            \n",
       "var gd = document.getElementById('a19f5123-ae41-41bc-910d-c194f788eb6d');\n",
       "var x = new MutationObserver(function (mutations, observer) {{\n",
       "        var display = window.getComputedStyle(gd).display;\n",
       "        if (!display || display === 'none') {{\n",
       "            console.log([gd, 'removed!']);\n",
       "            Plotly.purge(gd);\n",
       "            observer.disconnect();\n",
       "        }}\n",
       "}});\n",
       "\n",
       "// Listen for the removal of the full notebook cells\n",
       "var notebookContainer = gd.closest('#notebook-container');\n",
       "if (notebookContainer) {{\n",
       "    x.observe(notebookContainer, {childList: true});\n",
       "}}\n",
       "\n",
       "// Listen for the clearing of the current output cell\n",
       "var outputEl = gd.closest('.output');\n",
       "if (outputEl) {{\n",
       "    x.observe(outputEl, {childList: true});\n",
       "}}\n",
       "\n",
       "                        })\n",
       "                };\n",
       "                });\n",
       "            </script>\n",
       "        </div>"
      ]
     },
     "metadata": {},
     "output_type": "display_data"
    }
   ],
   "source": [
    "\n",
    "#Visualization of Age distribution\n",
    "fig = px.histogram(df, \"age\", nbins=20, title = 'Shootings by Age distribution', width=800,color = 'gender')\n",
    "fig.show()"
   ]
  },
  {
   "cell_type": "code",
   "execution_count": 58,
   "metadata": {},
   "outputs": [
    {
     "data": {
      "application/vnd.plotly.v1+json": {
       "config": {
        "plotlyServerURL": "https://plot.ly"
       },
       "data": [
        {
         "fillcolor": "yellowgreen",
         "type": "violin",
         "x0": "Age",
         "y": [
          53,
          47,
          23,
          32,
          39,
          18,
          22,
          35,
          34,
          47,
          25,
          31,
          41,
          30,
          37,
          28,
          42,
          36,
          49,
          71,
          33,
          39,
          23,
          29,
          34,
          43,
          24,
          29,
          34,
          75,
          68,
          34,
          27,
          39,
          24,
          36,
          33,
          41,
          48,
          21,
          24,
          27,
          32,
          67,
          49,
          42,
          36,
          36,
          19,
          54,
          25,
          17,
          29,
          56,
          61,
          45,
          26,
          40,
          26,
          17,
          68,
          24,
          34,
          39,
          26,
          29,
          33,
          45,
          26,
          35,
          31,
          42,
          48,
          31,
          54,
          59,
          42,
          17,
          23,
          38,
          29,
          45,
          28,
          37,
          28,
          28,
          51,
          36,
          59,
          25,
          26,
          74,
          33,
          27,
          57,
          46,
          41,
          61,
          45,
          49,
          45,
          35,
          23,
          46,
          23,
          21,
          35,
          27,
          37,
          16,
          51,
          34,
          34,
          25,
          56,
          26,
          24,
          43,
          31,
          32,
          30,
          50,
          20,
          31,
          38,
          77,
          37.11793090137039,
          41,
          51,
          50,
          47,
          37,
          41,
          16,
          42,
          39,
          30,
          27,
          43,
          42,
          21,
          49,
          34,
          31,
          27,
          24,
          34,
          28,
          28,
          40,
          37,
          17,
          35,
          49,
          43,
          20,
          25,
          25,
          26,
          28,
          45,
          36,
          34,
          19,
          37,
          48,
          29,
          43,
          40,
          35,
          27,
          58,
          46,
          30,
          64,
          31,
          23,
          37,
          37,
          31,
          39,
          31,
          54,
          53,
          25,
          35,
          41,
          59,
          36,
          32,
          53,
          26,
          29,
          27,
          28,
          52,
          49,
          24,
          24,
          20,
          22,
          49,
          64,
          47,
          39,
          18,
          31,
          16,
          20,
          36,
          63,
          34,
          24,
          21,
          44,
          60,
          42,
          37,
          36,
          21,
          24,
          29,
          57,
          38,
          23,
          27,
          28,
          63,
          53,
          35,
          26,
          42,
          41,
          56,
          39,
          23,
          40,
          29,
          26,
          49,
          36,
          21,
          27,
          37,
          36,
          32,
          44,
          27,
          63,
          38,
          17,
          31,
          34,
          50,
          51,
          56,
          23,
          25,
          31,
          32,
          60,
          42,
          39,
          28,
          22,
          29,
          31,
          28,
          21,
          38,
          66,
          36,
          83,
          32,
          27,
          26,
          31,
          22,
          41,
          41,
          51,
          72,
          52,
          47,
          18,
          29,
          23,
          43,
          45,
          40,
          44,
          25,
          37,
          59,
          35,
          35,
          18,
          51,
          30,
          31,
          39,
          26,
          51,
          19,
          46,
          49,
          63,
          20,
          25,
          24,
          58,
          29,
          76,
          45,
          20,
          58,
          21,
          27,
          26,
          33,
          27,
          25,
          53,
          53,
          42,
          22,
          52,
          36,
          30,
          34,
          44,
          53,
          36,
          29,
          32,
          46,
          18,
          38,
          21,
          35,
          58,
          48,
          31,
          47,
          34,
          30,
          28,
          28,
          40,
          46,
          37,
          53,
          41,
          42,
          45,
          34,
          18,
          27,
          54,
          35,
          17,
          29,
          38,
          26,
          52,
          39,
          22,
          29,
          43,
          24,
          32,
          40,
          47,
          40,
          25,
          31,
          36,
          51,
          24,
          62,
          39,
          24,
          57,
          20,
          33,
          60,
          32,
          40,
          18,
          36,
          35,
          55,
          19,
          39,
          47,
          23,
          26,
          26,
          18,
          33,
          56,
          46,
          36,
          50,
          45,
          53,
          45,
          42,
          27,
          30,
          36,
          58,
          30,
          69,
          30,
          45,
          22,
          28,
          19,
          40,
          46,
          28,
          22,
          17,
          46,
          35,
          35,
          28,
          15,
          22,
          28,
          31,
          40,
          48,
          58,
          44,
          21,
          50,
          23,
          24,
          49,
          60,
          35,
          29,
          20,
          34,
          22,
          49,
          32,
          26,
          41,
          61,
          49,
          28,
          35,
          29,
          51,
          52,
          24,
          32,
          45,
          60,
          23,
          46,
          33,
          40,
          27,
          42,
          37,
          23,
          36,
          19,
          35,
          43,
          25,
          20,
          42,
          29,
          42,
          31,
          18,
          33,
          59,
          47,
          39,
          37,
          35,
          28,
          59,
          62,
          50,
          68,
          27,
          17,
          21,
          38,
          54,
          20,
          25,
          31,
          35,
          60,
          24,
          27,
          36,
          20,
          24,
          23,
          41,
          20,
          43,
          29,
          35,
          30,
          24,
          23,
          29,
          25,
          27,
          50,
          19,
          24,
          23,
          22,
          46,
          65,
          43,
          35,
          47,
          24,
          35,
          25,
          27,
          26,
          34,
          32,
          47,
          44,
          31,
          44,
          30,
          60,
          50,
          36,
          59,
          33,
          19,
          56,
          45,
          22,
          34,
          53,
          48,
          25,
          30,
          47,
          33,
          34,
          29,
          63,
          49,
          18,
          71,
          35,
          55,
          31,
          18,
          51,
          39,
          20,
          29,
          40,
          42,
          22,
          19,
          24,
          30,
          53,
          25,
          28,
          24,
          59,
          46,
          15,
          41,
          22,
          24,
          34,
          48,
          24,
          27,
          27,
          27,
          49,
          30,
          38,
          26,
          30,
          53,
          23,
          34,
          30,
          43,
          29,
          47,
          35,
          40,
          18,
          24,
          29,
          44,
          17,
          19,
          50,
          57,
          30,
          38,
          31,
          29,
          26,
          64,
          39,
          57,
          36,
          36,
          21,
          53,
          30,
          34,
          53,
          45,
          22,
          22,
          46,
          27,
          30,
          54,
          29,
          42,
          41,
          28,
          61,
          23,
          25,
          37.11793090137039,
          29,
          20,
          40,
          45,
          33,
          76,
          47,
          45,
          40,
          37,
          27,
          36,
          23,
          49,
          21,
          32,
          35,
          28,
          59,
          28,
          45,
          45,
          19,
          25,
          37,
          33,
          59,
          31,
          29,
          32,
          41,
          31,
          44,
          23,
          45,
          39,
          67,
          29,
          25,
          28,
          21,
          32,
          51,
          39,
          27,
          31,
          50,
          37.11793090137039,
          32,
          47,
          46,
          57,
          23,
          56,
          24,
          27,
          23,
          26,
          34,
          21,
          32,
          33,
          55,
          48,
          35,
          19,
          45,
          28,
          42,
          17,
          30,
          21,
          45,
          33,
          46,
          23,
          37,
          43,
          40,
          59,
          31,
          46,
          37,
          28,
          28,
          55,
          29,
          26,
          27,
          31,
          51,
          50,
          27,
          18,
          46,
          19,
          49,
          31,
          38,
          40,
          35,
          34,
          44,
          23,
          43,
          37.11793090137039,
          31,
          27,
          46,
          18,
          57,
          15,
          25,
          50,
          31,
          35,
          27,
          20,
          27,
          33,
          27,
          22,
          28,
          31,
          28,
          53,
          30,
          39,
          40,
          30,
          21,
          35,
          21,
          47,
          38,
          36,
          53,
          34,
          34,
          30,
          28,
          47,
          49,
          36,
          45,
          21,
          18,
          25,
          29,
          57,
          34,
          35,
          37.11793090137039,
          18,
          62,
          29,
          25,
          30,
          24,
          52,
          33,
          56,
          49,
          20,
          62,
          62,
          6,
          30,
          57,
          18,
          47,
          48,
          20,
          30,
          36,
          51,
          55,
          48,
          20,
          25,
          26,
          45,
          35,
          34,
          36,
          22,
          63,
          31,
          25,
          57,
          32,
          42,
          52,
          25,
          25,
          31,
          39,
          16,
          24,
          32,
          25,
          28,
          28,
          21,
          30,
          58,
          47,
          41,
          25,
          44,
          34,
          27,
          34,
          29,
          39,
          24,
          47,
          45,
          28,
          50,
          49,
          45,
          24,
          32,
          23,
          52,
          37,
          26,
          58,
          50,
          22,
          53,
          69,
          23,
          29,
          25,
          18,
          31,
          23,
          18,
          35,
          27,
          28,
          26,
          32,
          36,
          66,
          21,
          47,
          24,
          60,
          61,
          38,
          51,
          35,
          46,
          48,
          36,
          33,
          66,
          34,
          55,
          54,
          36,
          25,
          24,
          28,
          36,
          20,
          49,
          51,
          21,
          30,
          32,
          33,
          56,
          48,
          39,
          19,
          45,
          33,
          52,
          51,
          37.11793090137039,
          25,
          24,
          22,
          32,
          58,
          24,
          26,
          30,
          31,
          34,
          48,
          37.11793090137039,
          21,
          39,
          25,
          30,
          56,
          29,
          19,
          35,
          36,
          24,
          23,
          31,
          41,
          55,
          19,
          38,
          36,
          34,
          52,
          28,
          50,
          37.11793090137039,
          55,
          23,
          30,
          54,
          37,
          37,
          30,
          27,
          22,
          29,
          39,
          33,
          52,
          28,
          54,
          38,
          32,
          34,
          26,
          50,
          37,
          45,
          56,
          45,
          32,
          12,
          49,
          58,
          29,
          60,
          40,
          39,
          26,
          24,
          34,
          27,
          44,
          25,
          55,
          19,
          52,
          31,
          26,
          24,
          38,
          33,
          28,
          27,
          39,
          29,
          36,
          55,
          28,
          40,
          33,
          37,
          39,
          43,
          38,
          55,
          52,
          32,
          31,
          27,
          40,
          31,
          30,
          26,
          32,
          33,
          19,
          33,
          29,
          41,
          29,
          38,
          64,
          42,
          46,
          42,
          37,
          25,
          36,
          21,
          30,
          53,
          31,
          22,
          24,
          36,
          47,
          54,
          43,
          38,
          30,
          51,
          55,
          16,
          23,
          36,
          33,
          17,
          22,
          22,
          29,
          41,
          67,
          36,
          52,
          56,
          35,
          45,
          30,
          29,
          53,
          32,
          22,
          24,
          19,
          29,
          50,
          29,
          26,
          39,
          52,
          51,
          48,
          30,
          37,
          30,
          35,
          32,
          25,
          35,
          31,
          30,
          23,
          41,
          45,
          46,
          36,
          31,
          32,
          38,
          33,
          45,
          38,
          22,
          48,
          36,
          26,
          39,
          16,
          58,
          27,
          26,
          21,
          37,
          56,
          19,
          38,
          18,
          35,
          23,
          41,
          44,
          24,
          39,
          22,
          37,
          36,
          41,
          27,
          30,
          34,
          22,
          51,
          42,
          41,
          49,
          45,
          45,
          42,
          41,
          27,
          37,
          22,
          21,
          50,
          23,
          25,
          51,
          46,
          23,
          43,
          37,
          20,
          45,
          16,
          30,
          26,
          24,
          38,
          28,
          29,
          34,
          38,
          43,
          23,
          33,
          40,
          38,
          53,
          29,
          30,
          60,
          25,
          24,
          21,
          23,
          61,
          54,
          62,
          16,
          25,
          28,
          76,
          25,
          33,
          51,
          34,
          30,
          44,
          24,
          29,
          48,
          19,
          22,
          39,
          36,
          55,
          46,
          34,
          27,
          33,
          18,
          33,
          51,
          50,
          46,
          33,
          25,
          52,
          18,
          43,
          34,
          31,
          65,
          37,
          30,
          36,
          25,
          69,
          48,
          50,
          52,
          44,
          60,
          40,
          20,
          45,
          44,
          40,
          25,
          43,
          27,
          19,
          39,
          30,
          28,
          22,
          16,
          40,
          38,
          20,
          35,
          52,
          26,
          54,
          38,
          52,
          26,
          53,
          35,
          22,
          31,
          32,
          37,
          28,
          18,
          41,
          15,
          38,
          41,
          52,
          48,
          29,
          51,
          21,
          24,
          18,
          30,
          33,
          60,
          28,
          26,
          24,
          44,
          34,
          21,
          36,
          37,
          53,
          24,
          45,
          48,
          42,
          33,
          55,
          28,
          25,
          28,
          52,
          59,
          52,
          39,
          40,
          36,
          38,
          26,
          37.11793090137039,
          29,
          37,
          29,
          21,
          33,
          23,
          26,
          29,
          33,
          28,
          35,
          33,
          24,
          37.11793090137039,
          28,
          19,
          43,
          59,
          34,
          35,
          23,
          36,
          46,
          44,
          20,
          30,
          29,
          35,
          36,
          22,
          31,
          63,
          38,
          31,
          27,
          35,
          22,
          28,
          26,
          22,
          31,
          43,
          24,
          29,
          43,
          21,
          19,
          25,
          59,
          50,
          58,
          25,
          32,
          53,
          38,
          70,
          33,
          36,
          21,
          51,
          43,
          18,
          33,
          34,
          31,
          35,
          31,
          31,
          23,
          25,
          25,
          21,
          49,
          63,
          43,
          34,
          38,
          52,
          68,
          29,
          32,
          50,
          31,
          27,
          31,
          29,
          23,
          61,
          33,
          18,
          80,
          43,
          50,
          47,
          54,
          22,
          43,
          38,
          36,
          30,
          59,
          21,
          34,
          17,
          37,
          25,
          23,
          20,
          19,
          50,
          24,
          25,
          20,
          37,
          44,
          22,
          31,
          25,
          37.11793090137039,
          36,
          50,
          42,
          42,
          26,
          19,
          59,
          36,
          51,
          27,
          22,
          30,
          28,
          63,
          32,
          26,
          25,
          27,
          61,
          30,
          37.11793090137039,
          37,
          41,
          25,
          24,
          44,
          63,
          58,
          30,
          35,
          50,
          40,
          37.11793090137039,
          19,
          34,
          18,
          21,
          29,
          49,
          24,
          37,
          32,
          65,
          37,
          33,
          63,
          30,
          40,
          38,
          50,
          41,
          41,
          39,
          44,
          23,
          32,
          56,
          33,
          63,
          31,
          57,
          26,
          39,
          42,
          29,
          43,
          56,
          31,
          50,
          36,
          50,
          49,
          31,
          34,
          36,
          29,
          32,
          18,
          50,
          36,
          17,
          19,
          24,
          24,
          20,
          33,
          41,
          47,
          18,
          31,
          27,
          36,
          40,
          59,
          32,
          38,
          18,
          23,
          43,
          67,
          32,
          22,
          31,
          43,
          34,
          51,
          31,
          54,
          69,
          58,
          26,
          59,
          25,
          20,
          57,
          56,
          64,
          34,
          69,
          45,
          14,
          44,
          59,
          33,
          54,
          22,
          49,
          23,
          38,
          53,
          36,
          29,
          42,
          36,
          32,
          53,
          30,
          25,
          18,
          55,
          27,
          37,
          29,
          40,
          36,
          38,
          29,
          59,
          47,
          22,
          31,
          29,
          54,
          71,
          36,
          34,
          49,
          36,
          43,
          53,
          31,
          32,
          41,
          26,
          82,
          37,
          24,
          35,
          56,
          22,
          59,
          36,
          21,
          38,
          60,
          18,
          23,
          37.11793090137039,
          38,
          22,
          38,
          25,
          25,
          36,
          37.11793090137039,
          44,
          36,
          35,
          25,
          31,
          70,
          25,
          55,
          35,
          25,
          32,
          38,
          32,
          64,
          55,
          69,
          37,
          31,
          25,
          25,
          13,
          32,
          69,
          34,
          29,
          29,
          40,
          42,
          25,
          45,
          55,
          22,
          61,
          46,
          30,
          56,
          35,
          22,
          23,
          43,
          43,
          49,
          23,
          41,
          33,
          30,
          25,
          52,
          32,
          46,
          48,
          38,
          26,
          32,
          28,
          53,
          38,
          18,
          32,
          37,
          18,
          20,
          28,
          18,
          16,
          36,
          57,
          49,
          31,
          26,
          51,
          28,
          35,
          57,
          36,
          42,
          37.11793090137039,
          49,
          21,
          53,
          62,
          41,
          40,
          27,
          19,
          26,
          44,
          30,
          31,
          33,
          22,
          38,
          46,
          23,
          24,
          26,
          26,
          32,
          50,
          17,
          39,
          28,
          66,
          42,
          34,
          38,
          28,
          29,
          23,
          58,
          21,
          45,
          38,
          40,
          19,
          46,
          25,
          25,
          37,
          25,
          36,
          32,
          33,
          24,
          37,
          38,
          45,
          31,
          34,
          23,
          39,
          55,
          31,
          76,
          59,
          40,
          23,
          26,
          35,
          49,
          36,
          56,
          34,
          43,
          31,
          17,
          32,
          33,
          43,
          31,
          23,
          26,
          45,
          19,
          36,
          41,
          53,
          24,
          37.11793090137039,
          37.11793090137039,
          40,
          29,
          22,
          21,
          25,
          37,
          37,
          56,
          25,
          26,
          35,
          25,
          29,
          21,
          15,
          24,
          18,
          19,
          27,
          45,
          36,
          34,
          23,
          43,
          19,
          37,
          23,
          26,
          20,
          59,
          33,
          48,
          50,
          18,
          23,
          41,
          41,
          55,
          29,
          31,
          25,
          38,
          37.11793090137039,
          83,
          22,
          33,
          36,
          26,
          29,
          55,
          47,
          52,
          49,
          37,
          37,
          36,
          31,
          30,
          37.11793090137039,
          35,
          35,
          36,
          39,
          30,
          44,
          24,
          53,
          73,
          31,
          28,
          18,
          32,
          60,
          48,
          33,
          44,
          20,
          37,
          72,
          52,
          46,
          25,
          38,
          27,
          24,
          19,
          31,
          18,
          53,
          48,
          29,
          30,
          61,
          71,
          41,
          36,
          28,
          21,
          46,
          32,
          33,
          42,
          17,
          35,
          23,
          21,
          44,
          53,
          63,
          18,
          51,
          64,
          45,
          20,
          41,
          23,
          32,
          25,
          42,
          41,
          31,
          50,
          38,
          44,
          38,
          21,
          32,
          23,
          41,
          41,
          38,
          54,
          20,
          26,
          29,
          47,
          28,
          48,
          34,
          37,
          33,
          36,
          43,
          32,
          29,
          39,
          40,
          21,
          50,
          19,
          28,
          16,
          49,
          44,
          25,
          39,
          44,
          50,
          57,
          57,
          33,
          21,
          52,
          27,
          60,
          25,
          34,
          22,
          26,
          27,
          29,
          30,
          32,
          18,
          37,
          54,
          50,
          28,
          59,
          24,
          34,
          25,
          25,
          17,
          48,
          45,
          18,
          50,
          36,
          45,
          42,
          37.11793090137039,
          23,
          31,
          26,
          57,
          18,
          27,
          41,
          33,
          22,
          38,
          26,
          45,
          68,
          56,
          23,
          45,
          41,
          33,
          22,
          50,
          52,
          35,
          18,
          34,
          51,
          18,
          29,
          34,
          25,
          17,
          26,
          33,
          25,
          31,
          25,
          18,
          45,
          25,
          23,
          55,
          37,
          33,
          27,
          32,
          31,
          26,
          32,
          53,
          19,
          53,
          35,
          64,
          24,
          33,
          55,
          17,
          48,
          21,
          22,
          30,
          34,
          35,
          32,
          22,
          46,
          27,
          18,
          33,
          26,
          27,
          26,
          51,
          63,
          38,
          25,
          39,
          41,
          26,
          30,
          33,
          38,
          24,
          47,
          62,
          30,
          33,
          23,
          39,
          41,
          46,
          36,
          66,
          27,
          40,
          25,
          20,
          43,
          40,
          33,
          34,
          27,
          25,
          37,
          32,
          25,
          38,
          50,
          26,
          70,
          38,
          41,
          91,
          25,
          29,
          24,
          40,
          51,
          30,
          28,
          33,
          23,
          23,
          20,
          56,
          36,
          18,
          43,
          16,
          29,
          25,
          34,
          32,
          58,
          36,
          32,
          25,
          59,
          25,
          25,
          42,
          36,
          59,
          21,
          19,
          45,
          42,
          27,
          45,
          51,
          42,
          24,
          39,
          18,
          26,
          35,
          53,
          54,
          36,
          56,
          51,
          45,
          28,
          36,
          73,
          26,
          41,
          59,
          28,
          45,
          27,
          46,
          34,
          30,
          46,
          47,
          32,
          65,
          19,
          22,
          39,
          38,
          68,
          49,
          37,
          33,
          25,
          36,
          30,
          39,
          28,
          28,
          25,
          57,
          33,
          24,
          33,
          56,
          56,
          16,
          47,
          33,
          32,
          21,
          64,
          19,
          26,
          25,
          17,
          55,
          25,
          43,
          39,
          24,
          70,
          79,
          16,
          35,
          15,
          23,
          53,
          20,
          27,
          53,
          32,
          57,
          26,
          53,
          32,
          25,
          15,
          59,
          35,
          33,
          32,
          49,
          46,
          25,
          20,
          48,
          24,
          18,
          67,
          26,
          54,
          15,
          27,
          26,
          62,
          24,
          32,
          29,
          16,
          25,
          40,
          39,
          34,
          36,
          24,
          50,
          50,
          37.11793090137039,
          30,
          35,
          46,
          51,
          37,
          41,
          41,
          48,
          27,
          29,
          47,
          34,
          48,
          41,
          25,
          24,
          38,
          28,
          47,
          65,
          58,
          33,
          43,
          24,
          37,
          31,
          65,
          59,
          74,
          21,
          24,
          37.11793090137039,
          23,
          59,
          33,
          34,
          30,
          22,
          37,
          20,
          18,
          24,
          17,
          27,
          51,
          29,
          34,
          18,
          17,
          55,
          44,
          27,
          66,
          45,
          47,
          34,
          37,
          54,
          21,
          21,
          35,
          75,
          33,
          45,
          48,
          58,
          30,
          44,
          82,
          29,
          25,
          53,
          60,
          19,
          63,
          50,
          35,
          45,
          24,
          36,
          35,
          33,
          66,
          54,
          20,
          40,
          41,
          30,
          32,
          24,
          37,
          28,
          48,
          30,
          64,
          21,
          28,
          36,
          40,
          32,
          50,
          28,
          33,
          37,
          17,
          20,
          34,
          37,
          24,
          47,
          20,
          56,
          24,
          47,
          36,
          35,
          37,
          45,
          41,
          23,
          37,
          23,
          33,
          23,
          37,
          19,
          39,
          53,
          51,
          25,
          45,
          28,
          36,
          32,
          39,
          46,
          53,
          42,
          34,
          29,
          53,
          45,
          24,
          51,
          35,
          27,
          33,
          16,
          30,
          22,
          23,
          50,
          28,
          34,
          24,
          54,
          26,
          39,
          34,
          27,
          48,
          47,
          54,
          33,
          40,
          58,
          55,
          47,
          42,
          29,
          40,
          23,
          23,
          25,
          52,
          43,
          37,
          32,
          70,
          24,
          24,
          38,
          52,
          27,
          22,
          42,
          49,
          59,
          41,
          34,
          31,
          23,
          28,
          33,
          16,
          35,
          26,
          62,
          25,
          25,
          31,
          35,
          46,
          39,
          26,
          37,
          32,
          31,
          48,
          29,
          32,
          28,
          43,
          39,
          37,
          39,
          42,
          33,
          25,
          29,
          45,
          27,
          28,
          57,
          15,
          33,
          35,
          47,
          31,
          36,
          54,
          24,
          35,
          32,
          28,
          45,
          29,
          36,
          23,
          17,
          20,
          33,
          49,
          31,
          35,
          24,
          54,
          41,
          50,
          46,
          45,
          20,
          37,
          34,
          54,
          65,
          28,
          26,
          25,
          32,
          44,
          32,
          42,
          66,
          22,
          51,
          64,
          30,
          71,
          30,
          48,
          56,
          26,
          28,
          19,
          24,
          44,
          28,
          47,
          18,
          26,
          33,
          34,
          62,
          24,
          55,
          22,
          46,
          27,
          32,
          22,
          54,
          32,
          45,
          36,
          37,
          47,
          30,
          31,
          44,
          52,
          16,
          29,
          42,
          31,
          41,
          45,
          50,
          26,
          22,
          76,
          58,
          32,
          19,
          25,
          48,
          39,
          31,
          50,
          15,
          48,
          32,
          21,
          37,
          21,
          40,
          33,
          25,
          55,
          53,
          27,
          35,
          25,
          31,
          70,
          40,
          25,
          38,
          26,
          27,
          37.11793090137039,
          28,
          40,
          44,
          39,
          24,
          32,
          31,
          50,
          31,
          50,
          45,
          44,
          48,
          39,
          30,
          44,
          28,
          24,
          27,
          34,
          41,
          26,
          38,
          33,
          22,
          40,
          34,
          48,
          37,
          67,
          35,
          29,
          28,
          40,
          31,
          51,
          47,
          52,
          28,
          35,
          25,
          37.11793090137039,
          34,
          58,
          24,
          22,
          46,
          61,
          43,
          44,
          35,
          29,
          57,
          42,
          44,
          20,
          32,
          34,
          18,
          31,
          24,
          35,
          34,
          26,
          55,
          38,
          23,
          30,
          44,
          37,
          27,
          43,
          25,
          30,
          35,
          31,
          35,
          37,
          25,
          34,
          33,
          33,
          32,
          34,
          46,
          40,
          27,
          17,
          46,
          50,
          41,
          23,
          33,
          25,
          27,
          39,
          22,
          37,
          27,
          28,
          56,
          71,
          53,
          39,
          56,
          24,
          35,
          30,
          31,
          20,
          35,
          31,
          49,
          54,
          48,
          32,
          35,
          30,
          32,
          31,
          14,
          25,
          32,
          35,
          27,
          23,
          55,
          43,
          62,
          25,
          37.11793090137039,
          50,
          19,
          41,
          55,
          19,
          67,
          24,
          44,
          29,
          48,
          22,
          37.11793090137039,
          59,
          68,
          25,
          23,
          46,
          25,
          30,
          56,
          24,
          18,
          27,
          26,
          15,
          26,
          32,
          17,
          32,
          43,
          26,
          51,
          39,
          43,
          31,
          22,
          40,
          64,
          30,
          59,
          24,
          32,
          37,
          33,
          42,
          37,
          33,
          62,
          46,
          69,
          24,
          42,
          49,
          35,
          19,
          40,
          34,
          22,
          16,
          69,
          24,
          28,
          51,
          20,
          34,
          27,
          48,
          33,
          6,
          26,
          40,
          46,
          20,
          28,
          30,
          36,
          25,
          28,
          38,
          30,
          31,
          36,
          65,
          42,
          65,
          30,
          49,
          66,
          28,
          27,
          31,
          46,
          28,
          35,
          24,
          17,
          39,
          21,
          21,
          57,
          27,
          62,
          40,
          38,
          27,
          54,
          27,
          51,
          25,
          46,
          20,
          32,
          27,
          21,
          60,
          44,
          23,
          31,
          43,
          39,
          54,
          22,
          37,
          42,
          22,
          42,
          32,
          30,
          53,
          27,
          72,
          29,
          34,
          26,
          22,
          16,
          31,
          58,
          23,
          44,
          46,
          61,
          17,
          46,
          35,
          36,
          28,
          37,
          47,
          35,
          40,
          24,
          18,
          38,
          54,
          27,
          62,
          66,
          47,
          19,
          27,
          23,
          42,
          43,
          42,
          45,
          21,
          43,
          45,
          33,
          38,
          33,
          46,
          52,
          46,
          40,
          20,
          39,
          35,
          31,
          32,
          56,
          37,
          32,
          28,
          26,
          27,
          37.11793090137039,
          43,
          49,
          16,
          35,
          19,
          59,
          29,
          37,
          22,
          40,
          35,
          39,
          36,
          78,
          25,
          41,
          63,
          48,
          42,
          39,
          84,
          33,
          52,
          48,
          30,
          29,
          27,
          41,
          57,
          27,
          58,
          59,
          39,
          28,
          28,
          23,
          55,
          33,
          23,
          45,
          37,
          21,
          27,
          39,
          37,
          22,
          26,
          27,
          37,
          58,
          62,
          25,
          36,
          37.11793090137039,
          27,
          37,
          25,
          40,
          22,
          29,
          20,
          33,
          48,
          47,
          40,
          29,
          29,
          44,
          36,
          48,
          49,
          38,
          41,
          37.11793090137039,
          28,
          33,
          44,
          65,
          35,
          25,
          40,
          36,
          55,
          19,
          70,
          37,
          53,
          84,
          46,
          29,
          27,
          32,
          27,
          38,
          20,
          45,
          32,
          48,
          57,
          34,
          16,
          47,
          61,
          32,
          31,
          46,
          27,
          31,
          26,
          31,
          27,
          49,
          26,
          28,
          62,
          50,
          23,
          40,
          50,
          50,
          27,
          35,
          32,
          56,
          20,
          56,
          39,
          47,
          25,
          21,
          18,
          36,
          35,
          29,
          20,
          30,
          40,
          48,
          23,
          42,
          20,
          25,
          28,
          34,
          41,
          24,
          29,
          33,
          44,
          31,
          26,
          51,
          64,
          29,
          61,
          44,
          39,
          35,
          39,
          60,
          42,
          27,
          21,
          33,
          60,
          24,
          41,
          41,
          34,
          23,
          38,
          58,
          49,
          27,
          34,
          34,
          44,
          30,
          81,
          40,
          27,
          26,
          18,
          59,
          56,
          22,
          34,
          23,
          36,
          48,
          33,
          24,
          25,
          20,
          45,
          29,
          34,
          23,
          29,
          44,
          30,
          28,
          71,
          25,
          61,
          39,
          50,
          37.11793090137039,
          23,
          39,
          45,
          34,
          31,
          55,
          39,
          32,
          44,
          24,
          36,
          41,
          25,
          39,
          40,
          32,
          45,
          31,
          32,
          48,
          49,
          48,
          18,
          48,
          25,
          27,
          37,
          44,
          27,
          41,
          42,
          36,
          37,
          56,
          36,
          46,
          26,
          41,
          38,
          42,
          47,
          26,
          64,
          49,
          44,
          48,
          27,
          67,
          24,
          26,
          28,
          21,
          24,
          21,
          73,
          39,
          32,
          38,
          32,
          26,
          55,
          50,
          49,
          48,
          65,
          37,
          45,
          33,
          46,
          33,
          33,
          51,
          52,
          24,
          55,
          28,
          36,
          24,
          20,
          54,
          53,
          36,
          24,
          34,
          59,
          34,
          29,
          24,
          77,
          30,
          36,
          36,
          58,
          47,
          49,
          31,
          25,
          37.11793090137039,
          30,
          33,
          29,
          31,
          51,
          42,
          67,
          23,
          34,
          51,
          19,
          29,
          23,
          46,
          42,
          21,
          55,
          37.11793090137039,
          43,
          32,
          34,
          40,
          55,
          20,
          24,
          43,
          56,
          47,
          33,
          20,
          28,
          50,
          36,
          47,
          36,
          49,
          34,
          41,
          29,
          34,
          34,
          22,
          26,
          32,
          44,
          21,
          29,
          18,
          33,
          28,
          37.11793090137039,
          40,
          40,
          37,
          47,
          33,
          44,
          65,
          20,
          17,
          55,
          33,
          44,
          37,
          32,
          31,
          20,
          30,
          25,
          47,
          48,
          32,
          18,
          29,
          30,
          39,
          36,
          36,
          54,
          27,
          45,
          19,
          36,
          33,
          56,
          33,
          60,
          26,
          52,
          40,
          33,
          41,
          32,
          34,
          26,
          62,
          33,
          55,
          38,
          43,
          38,
          27,
          52,
          37,
          34,
          41,
          40,
          53,
          21,
          34,
          22,
          25,
          16,
          37,
          68,
          25,
          34,
          23,
          25,
          57,
          27,
          51,
          30,
          33,
          37.11793090137039,
          19,
          22,
          37,
          19,
          33,
          38,
          45,
          39,
          21,
          56,
          27,
          50,
          16,
          18,
          38,
          32,
          33,
          71,
          30,
          39,
          19,
          44,
          54,
          29,
          37.11793090137039,
          56,
          64,
          25,
          18,
          36,
          24,
          30,
          53,
          60,
          32,
          25,
          44,
          32,
          33,
          37.11793090137039,
          35,
          23,
          27,
          53,
          35,
          41,
          18,
          34,
          49,
          31,
          29,
          33,
          38,
          43,
          29,
          68,
          62,
          39,
          59,
          24,
          70,
          42,
          26,
          24,
          48,
          54,
          48,
          37,
          40,
          28,
          43,
          35,
          21,
          40,
          32,
          48,
          31,
          37.11793090137039,
          58,
          30,
          21,
          15,
          30,
          28,
          21,
          33,
          37.11793090137039,
          36,
          38,
          34,
          23,
          44,
          20,
          41,
          18,
          29,
          37,
          41,
          25,
          20,
          34,
          37,
          18,
          72,
          17,
          45,
          49,
          64,
          36,
          61,
          24,
          70,
          40,
          21,
          27,
          23,
          33,
          45,
          19,
          28,
          63,
          37.11793090137039,
          39,
          57,
          32,
          38,
          46,
          31,
          40,
          31,
          50,
          29,
          25,
          31,
          23,
          54,
          44,
          43,
          37,
          55,
          40,
          26,
          29,
          29,
          42,
          20,
          34,
          41,
          29,
          19,
          32,
          23,
          41,
          37,
          24,
          54,
          58,
          40,
          27,
          40,
          23,
          33,
          26,
          36,
          38,
          25,
          31,
          48,
          43,
          36,
          39,
          22,
          24,
          36,
          25,
          30,
          76,
          39,
          49,
          21,
          31,
          22,
          27,
          26,
          84,
          17,
          17,
          22,
          41,
          58,
          29,
          19,
          18,
          61,
          18,
          23,
          38,
          19,
          63,
          21,
          25,
          35,
          50,
          34,
          37.11793090137039,
          26,
          61,
          18,
          37,
          27,
          24,
          37,
          28,
          44,
          30,
          30,
          34,
          27,
          28,
          42,
          32,
          24,
          17,
          26,
          35,
          25,
          33,
          25,
          29,
          18,
          19,
          39,
          61,
          36,
          72,
          48,
          34,
          36,
          33,
          30,
          61,
          41,
          52,
          26,
          37.11793090137039,
          39,
          36,
          47,
          37.11793090137039,
          25,
          63,
          24,
          38,
          22,
          59,
          29,
          18,
          29,
          25,
          48,
          60,
          27,
          65,
          41,
          33,
          33,
          22,
          52,
          42,
          48,
          24,
          21,
          20,
          59,
          46,
          23,
          32,
          19,
          64,
          35,
          41,
          42,
          35,
          33,
          32,
          37,
          37,
          65,
          30,
          43,
          18,
          27,
          41,
          41,
          33,
          53,
          42,
          46,
          51,
          16,
          41,
          24,
          23,
          50,
          41,
          23,
          33,
          25,
          30,
          58,
          47,
          22,
          27,
          29,
          43,
          18,
          19,
          37,
          42,
          35,
          50,
          60,
          35,
          47,
          37.11793090137039,
          31,
          24,
          27,
          27,
          23,
          57,
          56,
          36,
          37.11793090137039,
          37.11793090137039,
          24,
          34,
          17,
          21,
          35,
          34,
          56,
          35,
          46,
          42,
          49,
          44,
          45,
          36,
          45,
          34,
          26,
          28,
          35,
          20,
          33,
          39,
          63,
          27,
          33,
          27,
          31,
          33,
          39,
          27,
          32,
          29,
          28,
          50,
          55,
          42,
          36,
          38,
          38,
          35,
          42,
          70,
          29,
          26,
          20,
          30,
          19,
          48,
          58,
          38,
          28,
          34,
          45,
          18,
          25,
          38,
          33,
          39,
          58,
          48,
          14,
          18,
          22,
          46,
          37.11793090137039,
          37.11793090137039,
          57,
          32,
          31,
          64,
          35,
          42,
          30,
          26,
          37,
          21,
          20,
          46,
          37.11793090137039,
          20,
          46,
          24,
          26,
          60,
          25,
          29,
          58,
          59,
          46,
          55,
          27,
          30,
          45,
          51,
          27,
          47,
          52,
          45,
          47,
          68,
          40,
          18,
          35,
          80,
          44,
          31,
          20,
          43,
          25,
          38,
          34,
          58,
          38,
          29,
          40,
          49,
          25,
          21,
          57,
          28,
          25,
          58,
          34,
          34,
          24,
          32,
          58,
          20,
          19,
          46,
          28,
          47,
          47,
          34,
          37.11793090137039,
          45,
          17,
          34,
          48,
          32,
          20,
          31,
          16,
          24,
          39,
          26,
          30,
          36,
          28,
          21,
          36,
          28,
          24,
          29,
          44,
          41,
          38,
          40,
          20,
          27,
          51,
          48,
          40,
          29,
          34,
          20,
          47,
          29,
          33,
          46,
          35,
          36,
          63,
          27,
          17,
          22,
          21,
          31,
          56,
          32,
          25,
          47,
          37.11793090137039,
          23,
          34,
          51,
          35,
          46,
          59,
          30,
          34,
          44,
          31,
          51,
          34,
          45,
          32,
          31,
          41,
          29,
          47,
          30,
          27,
          38,
          33,
          25,
          47,
          49,
          33,
          36,
          22,
          29,
          52,
          61,
          29,
          37,
          26,
          19,
          45,
          22,
          57,
          46,
          27,
          26,
          30,
          18,
          25,
          51,
          40,
          47,
          38,
          39,
          30,
          42,
          25,
          22,
          30,
          33,
          24,
          31,
          25,
          28,
          19,
          31,
          48,
          53,
          50,
          55,
          37.11793090137039,
          37,
          30,
          36,
          24,
          35,
          42,
          37,
          28,
          32,
          33,
          27,
          21,
          47,
          57,
          34,
          34,
          30,
          29,
          28,
          39,
          54,
          27,
          32,
          32,
          47,
          33,
          42,
          37.11793090137039,
          24,
          42,
          34,
          46,
          40,
          30,
          42,
          30,
          63,
          18,
          29,
          42,
          32,
          50,
          29,
          29,
          51,
          23,
          47,
          45,
          42,
          26,
          29,
          49,
          17,
          37.11793090137039,
          45,
          51,
          37,
          28,
          52,
          37,
          37,
          25,
          35,
          35,
          61,
          33,
          34,
          59,
          32,
          49,
          31,
          29,
          25,
          26,
          37.11793090137039,
          39,
          26,
          36,
          45,
          45,
          54,
          43,
          37.11793090137039,
          30,
          37.11793090137039,
          58,
          39,
          40,
          36,
          27,
          20,
          17,
          59,
          47,
          45,
          34,
          46,
          26,
          21,
          29,
          33,
          47,
          22,
          41,
          28,
          56,
          41,
          35,
          59,
          30,
          49,
          41,
          21,
          62,
          32,
          22,
          58,
          32,
          26,
          35,
          27,
          35,
          23,
          59,
          23,
          43,
          41,
          56,
          45,
          28,
          37.11793090137039,
          54,
          39,
          37.11793090137039,
          41,
          27,
          70,
          37.11793090137039,
          35,
          26,
          58,
          46,
          39,
          33,
          20,
          38,
          41,
          32,
          37.11793090137039,
          24,
          19,
          27,
          40,
          61,
          20,
          35,
          17,
          22,
          45,
          20,
          18,
          28,
          38,
          53,
          31,
          48,
          20,
          35,
          22,
          18,
          74,
          33,
          38,
          26,
          41,
          29,
          19,
          61,
          34,
          35,
          43,
          50,
          32,
          50,
          54,
          35,
          33,
          18,
          50,
          41,
          37,
          76,
          19,
          40,
          61,
          61,
          22,
          52,
          23,
          67,
          44,
          23,
          39,
          53,
          39,
          26,
          38,
          49,
          34,
          47,
          34,
          58,
          17,
          21,
          37,
          43,
          61,
          28,
          41,
          23,
          36,
          23,
          26,
          32,
          62,
          33,
          32,
          69,
          35,
          46,
          46,
          22,
          20,
          30,
          49,
          43,
          52,
          56,
          36,
          40,
          52,
          35,
          35,
          53,
          23,
          19,
          41,
          39,
          28,
          28,
          37.11793090137039,
          53,
          27,
          31,
          38,
          38,
          41,
          49,
          56,
          62,
          31,
          37,
          37.11793090137039,
          28,
          46,
          21,
          30,
          36,
          48,
          34,
          45,
          19,
          32,
          32,
          24,
          65,
          29,
          49,
          19,
          56,
          39,
          43,
          57,
          49,
          18,
          27,
          52,
          37,
          45,
          49,
          38,
          31,
          51,
          37.11793090137039,
          51,
          20,
          26,
          25,
          37.11793090137039,
          62,
          27,
          33,
          39,
          18,
          27,
          50,
          57,
          29,
          39,
          31,
          34,
          52,
          33,
          37,
          52,
          62,
          30,
          28,
          51,
          23,
          36,
          37,
          49,
          49,
          35,
          17,
          30,
          34,
          46,
          29,
          28,
          43,
          42,
          30,
          24,
          27,
          41,
          47,
          26,
          20,
          18,
          37.11793090137039,
          29,
          35,
          77,
          31,
          54,
          33,
          76,
          28,
          31,
          53,
          33,
          37,
          57,
          36,
          39,
          43,
          44,
          33,
          49,
          18,
          21,
          57,
          29,
          58,
          74,
          63,
          28,
          67,
          64,
          32,
          49,
          28,
          31,
          20,
          27,
          38,
          37,
          36,
          35,
          50,
          75,
          32,
          34,
          24,
          37,
          33,
          37,
          55,
          31,
          54,
          37,
          48,
          28,
          31,
          48,
          58,
          19,
          28,
          21,
          57,
          17,
          22,
          26,
          31,
          61,
          54,
          28,
          30,
          30,
          28,
          26,
          28,
          21,
          31,
          27,
          34,
          22,
          29,
          38,
          51,
          34,
          30,
          33,
          21,
          39,
          37,
          34,
          47,
          29,
          29,
          44,
          53,
          45,
          19,
          40,
          33,
          45,
          40,
          27,
          63,
          50,
          25,
          39,
          42,
          25,
          24,
          37.11793090137039,
          37.11793090137039,
          62,
          34,
          33,
          56,
          22,
          46,
          41,
          38,
          22,
          42,
          29,
          56,
          32,
          31,
          21,
          31,
          48,
          58,
          32,
          45,
          37,
          20,
          34,
          31,
          26,
          32,
          66,
          37,
          38,
          44,
          28,
          22,
          59,
          20,
          39,
          30,
          27,
          37.11793090137039,
          37,
          52,
          35,
          33,
          27,
          27,
          41,
          28,
          26,
          37.11793090137039,
          34,
          34,
          38,
          32,
          50,
          55,
          51,
          18,
          42,
          36,
          37,
          28,
          24,
          34,
          22,
          42,
          48,
          51,
          40,
          34,
          30,
          31,
          54,
          60,
          40,
          37.11793090137039,
          40,
          68,
          68,
          60,
          16,
          25,
          20,
          21,
          38,
          28,
          18,
          37.11793090137039,
          26,
          31,
          58,
          31,
          41,
          41,
          41,
          23,
          17,
          35,
          65,
          51,
          47,
          42,
          42,
          31,
          23,
          50,
          47,
          66,
          55,
          68,
          31,
          24,
          30,
          34,
          23,
          43,
          22,
          22,
          42,
          65,
          18,
          23,
          52,
          40,
          27,
          34,
          25,
          28,
          37.11793090137039,
          27,
          41,
          27,
          38,
          29,
          47,
          28,
          38,
          21,
          44,
          61,
          25,
          40,
          26,
          57,
          57,
          24,
          46,
          38,
          24,
          34,
          65,
          60,
          59,
          23,
          35,
          35,
          16,
          37.11793090137039,
          42,
          43,
          52,
          31,
          27,
          31,
          34,
          29,
          34,
          37.11793090137039,
          18,
          51,
          25,
          28,
          37,
          37.11793090137039,
          23,
          57,
          49,
          24,
          20,
          25,
          26,
          26,
          41,
          31,
          30,
          25,
          57,
          17,
          27,
          30,
          18,
          50,
          21,
          28,
          28,
          33,
          59,
          34,
          37,
          30,
          47,
          34,
          24,
          25,
          37.11793090137039,
          47,
          49,
          31,
          47,
          52,
          29,
          45,
          51,
          55,
          35,
          50,
          31,
          47,
          35,
          66,
          19,
          19,
          43,
          57,
          31,
          41,
          39,
          24,
          20,
          32,
          31,
          22,
          60,
          40,
          37,
          34,
          22,
          30,
          26,
          29,
          32,
          32,
          27,
          31,
          35,
          19,
          34,
          32,
          43,
          22,
          43,
          27,
          39,
          37,
          20,
          34,
          32,
          15,
          52,
          53,
          24,
          41,
          17,
          44,
          56,
          23,
          32,
          26,
          41,
          56,
          33,
          37,
          41,
          38,
          67,
          45,
          48,
          31,
          47,
          40,
          40,
          34,
          51,
          33,
          25,
          41,
          19,
          21,
          58,
          63,
          37.11793090137039,
          58,
          16,
          31,
          33,
          40,
          34,
          29,
          27,
          23,
          38,
          17,
          75,
          40,
          36,
          27,
          28,
          20,
          38,
          16,
          30,
          30,
          30,
          36,
          33,
          39,
          22,
          49,
          45,
          45,
          30,
          30,
          31,
          73,
          39,
          37,
          37.11793090137039,
          31,
          25,
          24,
          27,
          37.11793090137039,
          32,
          43,
          84,
          29,
          31,
          57,
          37,
          29,
          47,
          44,
          38,
          32,
          26,
          21,
          47,
          30,
          62,
          41,
          50,
          37.11793090137039,
          31,
          30,
          32,
          20,
          38,
          25,
          47,
          19,
          35,
          58,
          18,
          42,
          39,
          61,
          51,
          28,
          33,
          47,
          39,
          31,
          18,
          23,
          46,
          50,
          34,
          32,
          45,
          31,
          19,
          53,
          55,
          32,
          46,
          26,
          46,
          22,
          38,
          44,
          37,
          52,
          29,
          19,
          66,
          40,
          30,
          69,
          27,
          62,
          37.11793090137039,
          39,
          67,
          54,
          29,
          33,
          31,
          38,
          28,
          45,
          59,
          17,
          19,
          36,
          39,
          37.11793090137039,
          33,
          31,
          29,
          51,
          35,
          36,
          31,
          39,
          58,
          39,
          24,
          48,
          31,
          37.11793090137039,
          43,
          33,
          24,
          40,
          28,
          24,
          27,
          40,
          35,
          42,
          42,
          24,
          59,
          61,
          26,
          32,
          50,
          38,
          29,
          27,
          43,
          21,
          36,
          24,
          32,
          26,
          54,
          44,
          69,
          45,
          26,
          43,
          38,
          21,
          23,
          56,
          33,
          40,
          21,
          20,
          21,
          47,
          38,
          31,
          51,
          19,
          21,
          48,
          42,
          30,
          47,
          57,
          27,
          50,
          37,
          24,
          24,
          30,
          49,
          47,
          31,
          33,
          29,
          42,
          38,
          25,
          39,
          64,
          28,
          32,
          69,
          29,
          45,
          40,
          60,
          22,
          28,
          38,
          28,
          37,
          22,
          42,
          18,
          38,
          58,
          50,
          31,
          35,
          53,
          31,
          35,
          22,
          37.11793090137039,
          32,
          39,
          44,
          46,
          49,
          32,
          53,
          25,
          36,
          22,
          33,
          39,
          44,
          25,
          36,
          42,
          24,
          22,
          35,
          38,
          28,
          26,
          62,
          27,
          23,
          25,
          22,
          31
         ]
        }
       ],
       "layout": {
        "template": {
         "data": {
          "bar": [
           {
            "error_x": {
             "color": "#2a3f5f"
            },
            "error_y": {
             "color": "#2a3f5f"
            },
            "marker": {
             "line": {
              "color": "#E5ECF6",
              "width": 0.5
             }
            },
            "type": "bar"
           }
          ],
          "barpolar": [
           {
            "marker": {
             "line": {
              "color": "#E5ECF6",
              "width": 0.5
             }
            },
            "type": "barpolar"
           }
          ],
          "carpet": [
           {
            "aaxis": {
             "endlinecolor": "#2a3f5f",
             "gridcolor": "white",
             "linecolor": "white",
             "minorgridcolor": "white",
             "startlinecolor": "#2a3f5f"
            },
            "baxis": {
             "endlinecolor": "#2a3f5f",
             "gridcolor": "white",
             "linecolor": "white",
             "minorgridcolor": "white",
             "startlinecolor": "#2a3f5f"
            },
            "type": "carpet"
           }
          ],
          "choropleth": [
           {
            "colorbar": {
             "outlinewidth": 0,
             "ticks": ""
            },
            "type": "choropleth"
           }
          ],
          "contour": [
           {
            "colorbar": {
             "outlinewidth": 0,
             "ticks": ""
            },
            "colorscale": [
             [
              0,
              "#0d0887"
             ],
             [
              0.1111111111111111,
              "#46039f"
             ],
             [
              0.2222222222222222,
              "#7201a8"
             ],
             [
              0.3333333333333333,
              "#9c179e"
             ],
             [
              0.4444444444444444,
              "#bd3786"
             ],
             [
              0.5555555555555556,
              "#d8576b"
             ],
             [
              0.6666666666666666,
              "#ed7953"
             ],
             [
              0.7777777777777778,
              "#fb9f3a"
             ],
             [
              0.8888888888888888,
              "#fdca26"
             ],
             [
              1,
              "#f0f921"
             ]
            ],
            "type": "contour"
           }
          ],
          "contourcarpet": [
           {
            "colorbar": {
             "outlinewidth": 0,
             "ticks": ""
            },
            "type": "contourcarpet"
           }
          ],
          "heatmap": [
           {
            "colorbar": {
             "outlinewidth": 0,
             "ticks": ""
            },
            "colorscale": [
             [
              0,
              "#0d0887"
             ],
             [
              0.1111111111111111,
              "#46039f"
             ],
             [
              0.2222222222222222,
              "#7201a8"
             ],
             [
              0.3333333333333333,
              "#9c179e"
             ],
             [
              0.4444444444444444,
              "#bd3786"
             ],
             [
              0.5555555555555556,
              "#d8576b"
             ],
             [
              0.6666666666666666,
              "#ed7953"
             ],
             [
              0.7777777777777778,
              "#fb9f3a"
             ],
             [
              0.8888888888888888,
              "#fdca26"
             ],
             [
              1,
              "#f0f921"
             ]
            ],
            "type": "heatmap"
           }
          ],
          "heatmapgl": [
           {
            "colorbar": {
             "outlinewidth": 0,
             "ticks": ""
            },
            "colorscale": [
             [
              0,
              "#0d0887"
             ],
             [
              0.1111111111111111,
              "#46039f"
             ],
             [
              0.2222222222222222,
              "#7201a8"
             ],
             [
              0.3333333333333333,
              "#9c179e"
             ],
             [
              0.4444444444444444,
              "#bd3786"
             ],
             [
              0.5555555555555556,
              "#d8576b"
             ],
             [
              0.6666666666666666,
              "#ed7953"
             ],
             [
              0.7777777777777778,
              "#fb9f3a"
             ],
             [
              0.8888888888888888,
              "#fdca26"
             ],
             [
              1,
              "#f0f921"
             ]
            ],
            "type": "heatmapgl"
           }
          ],
          "histogram": [
           {
            "marker": {
             "colorbar": {
              "outlinewidth": 0,
              "ticks": ""
             }
            },
            "type": "histogram"
           }
          ],
          "histogram2d": [
           {
            "colorbar": {
             "outlinewidth": 0,
             "ticks": ""
            },
            "colorscale": [
             [
              0,
              "#0d0887"
             ],
             [
              0.1111111111111111,
              "#46039f"
             ],
             [
              0.2222222222222222,
              "#7201a8"
             ],
             [
              0.3333333333333333,
              "#9c179e"
             ],
             [
              0.4444444444444444,
              "#bd3786"
             ],
             [
              0.5555555555555556,
              "#d8576b"
             ],
             [
              0.6666666666666666,
              "#ed7953"
             ],
             [
              0.7777777777777778,
              "#fb9f3a"
             ],
             [
              0.8888888888888888,
              "#fdca26"
             ],
             [
              1,
              "#f0f921"
             ]
            ],
            "type": "histogram2d"
           }
          ],
          "histogram2dcontour": [
           {
            "colorbar": {
             "outlinewidth": 0,
             "ticks": ""
            },
            "colorscale": [
             [
              0,
              "#0d0887"
             ],
             [
              0.1111111111111111,
              "#46039f"
             ],
             [
              0.2222222222222222,
              "#7201a8"
             ],
             [
              0.3333333333333333,
              "#9c179e"
             ],
             [
              0.4444444444444444,
              "#bd3786"
             ],
             [
              0.5555555555555556,
              "#d8576b"
             ],
             [
              0.6666666666666666,
              "#ed7953"
             ],
             [
              0.7777777777777778,
              "#fb9f3a"
             ],
             [
              0.8888888888888888,
              "#fdca26"
             ],
             [
              1,
              "#f0f921"
             ]
            ],
            "type": "histogram2dcontour"
           }
          ],
          "mesh3d": [
           {
            "colorbar": {
             "outlinewidth": 0,
             "ticks": ""
            },
            "type": "mesh3d"
           }
          ],
          "parcoords": [
           {
            "line": {
             "colorbar": {
              "outlinewidth": 0,
              "ticks": ""
             }
            },
            "type": "parcoords"
           }
          ],
          "pie": [
           {
            "automargin": true,
            "type": "pie"
           }
          ],
          "scatter": [
           {
            "marker": {
             "colorbar": {
              "outlinewidth": 0,
              "ticks": ""
             }
            },
            "type": "scatter"
           }
          ],
          "scatter3d": [
           {
            "line": {
             "colorbar": {
              "outlinewidth": 0,
              "ticks": ""
             }
            },
            "marker": {
             "colorbar": {
              "outlinewidth": 0,
              "ticks": ""
             }
            },
            "type": "scatter3d"
           }
          ],
          "scattercarpet": [
           {
            "marker": {
             "colorbar": {
              "outlinewidth": 0,
              "ticks": ""
             }
            },
            "type": "scattercarpet"
           }
          ],
          "scattergeo": [
           {
            "marker": {
             "colorbar": {
              "outlinewidth": 0,
              "ticks": ""
             }
            },
            "type": "scattergeo"
           }
          ],
          "scattergl": [
           {
            "marker": {
             "colorbar": {
              "outlinewidth": 0,
              "ticks": ""
             }
            },
            "type": "scattergl"
           }
          ],
          "scattermapbox": [
           {
            "marker": {
             "colorbar": {
              "outlinewidth": 0,
              "ticks": ""
             }
            },
            "type": "scattermapbox"
           }
          ],
          "scatterpolar": [
           {
            "marker": {
             "colorbar": {
              "outlinewidth": 0,
              "ticks": ""
             }
            },
            "type": "scatterpolar"
           }
          ],
          "scatterpolargl": [
           {
            "marker": {
             "colorbar": {
              "outlinewidth": 0,
              "ticks": ""
             }
            },
            "type": "scatterpolargl"
           }
          ],
          "scatterternary": [
           {
            "marker": {
             "colorbar": {
              "outlinewidth": 0,
              "ticks": ""
             }
            },
            "type": "scatterternary"
           }
          ],
          "surface": [
           {
            "colorbar": {
             "outlinewidth": 0,
             "ticks": ""
            },
            "colorscale": [
             [
              0,
              "#0d0887"
             ],
             [
              0.1111111111111111,
              "#46039f"
             ],
             [
              0.2222222222222222,
              "#7201a8"
             ],
             [
              0.3333333333333333,
              "#9c179e"
             ],
             [
              0.4444444444444444,
              "#bd3786"
             ],
             [
              0.5555555555555556,
              "#d8576b"
             ],
             [
              0.6666666666666666,
              "#ed7953"
             ],
             [
              0.7777777777777778,
              "#fb9f3a"
             ],
             [
              0.8888888888888888,
              "#fdca26"
             ],
             [
              1,
              "#f0f921"
             ]
            ],
            "type": "surface"
           }
          ],
          "table": [
           {
            "cells": {
             "fill": {
              "color": "#EBF0F8"
             },
             "line": {
              "color": "white"
             }
            },
            "header": {
             "fill": {
              "color": "#C8D4E3"
             },
             "line": {
              "color": "white"
             }
            },
            "type": "table"
           }
          ]
         },
         "layout": {
          "annotationdefaults": {
           "arrowcolor": "#2a3f5f",
           "arrowhead": 0,
           "arrowwidth": 1
          },
          "coloraxis": {
           "colorbar": {
            "outlinewidth": 0,
            "ticks": ""
           }
          },
          "colorscale": {
           "diverging": [
            [
             0,
             "#8e0152"
            ],
            [
             0.1,
             "#c51b7d"
            ],
            [
             0.2,
             "#de77ae"
            ],
            [
             0.3,
             "#f1b6da"
            ],
            [
             0.4,
             "#fde0ef"
            ],
            [
             0.5,
             "#f7f7f7"
            ],
            [
             0.6,
             "#e6f5d0"
            ],
            [
             0.7,
             "#b8e186"
            ],
            [
             0.8,
             "#7fbc41"
            ],
            [
             0.9,
             "#4d9221"
            ],
            [
             1,
             "#276419"
            ]
           ],
           "sequential": [
            [
             0,
             "#0d0887"
            ],
            [
             0.1111111111111111,
             "#46039f"
            ],
            [
             0.2222222222222222,
             "#7201a8"
            ],
            [
             0.3333333333333333,
             "#9c179e"
            ],
            [
             0.4444444444444444,
             "#bd3786"
            ],
            [
             0.5555555555555556,
             "#d8576b"
            ],
            [
             0.6666666666666666,
             "#ed7953"
            ],
            [
             0.7777777777777778,
             "#fb9f3a"
            ],
            [
             0.8888888888888888,
             "#fdca26"
            ],
            [
             1,
             "#f0f921"
            ]
           ],
           "sequentialminus": [
            [
             0,
             "#0d0887"
            ],
            [
             0.1111111111111111,
             "#46039f"
            ],
            [
             0.2222222222222222,
             "#7201a8"
            ],
            [
             0.3333333333333333,
             "#9c179e"
            ],
            [
             0.4444444444444444,
             "#bd3786"
            ],
            [
             0.5555555555555556,
             "#d8576b"
            ],
            [
             0.6666666666666666,
             "#ed7953"
            ],
            [
             0.7777777777777778,
             "#fb9f3a"
            ],
            [
             0.8888888888888888,
             "#fdca26"
            ],
            [
             1,
             "#f0f921"
            ]
           ]
          },
          "colorway": [
           "#636efa",
           "#EF553B",
           "#00cc96",
           "#ab63fa",
           "#FFA15A",
           "#19d3f3",
           "#FF6692",
           "#B6E880",
           "#FF97FF",
           "#FECB52"
          ],
          "font": {
           "color": "#2a3f5f"
          },
          "geo": {
           "bgcolor": "white",
           "lakecolor": "white",
           "landcolor": "#E5ECF6",
           "showlakes": true,
           "showland": true,
           "subunitcolor": "white"
          },
          "hoverlabel": {
           "align": "left"
          },
          "hovermode": "closest",
          "mapbox": {
           "style": "light"
          },
          "paper_bgcolor": "white",
          "plot_bgcolor": "#E5ECF6",
          "polar": {
           "angularaxis": {
            "gridcolor": "white",
            "linecolor": "white",
            "ticks": ""
           },
           "bgcolor": "#E5ECF6",
           "radialaxis": {
            "gridcolor": "white",
            "linecolor": "white",
            "ticks": ""
           }
          },
          "scene": {
           "xaxis": {
            "backgroundcolor": "#E5ECF6",
            "gridcolor": "white",
            "gridwidth": 2,
            "linecolor": "white",
            "showbackground": true,
            "ticks": "",
            "zerolinecolor": "white"
           },
           "yaxis": {
            "backgroundcolor": "#E5ECF6",
            "gridcolor": "white",
            "gridwidth": 2,
            "linecolor": "white",
            "showbackground": true,
            "ticks": "",
            "zerolinecolor": "white"
           },
           "zaxis": {
            "backgroundcolor": "#E5ECF6",
            "gridcolor": "white",
            "gridwidth": 2,
            "linecolor": "white",
            "showbackground": true,
            "ticks": "",
            "zerolinecolor": "white"
           }
          },
          "shapedefaults": {
           "line": {
            "color": "#2a3f5f"
           }
          },
          "ternary": {
           "aaxis": {
            "gridcolor": "white",
            "linecolor": "white",
            "ticks": ""
           },
           "baxis": {
            "gridcolor": "white",
            "linecolor": "white",
            "ticks": ""
           },
           "bgcolor": "#E5ECF6",
           "caxis": {
            "gridcolor": "white",
            "linecolor": "white",
            "ticks": ""
           }
          },
          "title": {
           "x": 0.05
          },
          "xaxis": {
           "automargin": true,
           "gridcolor": "white",
           "linecolor": "white",
           "ticks": "",
           "title": {
            "standoff": 15
           },
           "zerolinecolor": "white",
           "zerolinewidth": 2
          },
          "yaxis": {
           "automargin": true,
           "gridcolor": "white",
           "linecolor": "white",
           "ticks": "",
           "title": {
            "standoff": 15
           },
           "zerolinecolor": "white",
           "zerolinewidth": 2
          }
         }
        }
       }
      },
      "text/html": [
       "<div>\n",
       "        \n",
       "        \n",
       "            <div id=\"d7b842ac-ad66-49f6-8f90-e6597232d7d6\" class=\"plotly-graph-div\" style=\"height:525px; width:100%;\"></div>\n",
       "            <script type=\"text/javascript\">\n",
       "                require([\"plotly\"], function(Plotly) {\n",
       "                    window.PLOTLYENV=window.PLOTLYENV || {};\n",
       "                    \n",
       "                if (document.getElementById(\"d7b842ac-ad66-49f6-8f90-e6597232d7d6\")) {\n",
       "                    Plotly.newPlot(\n",
       "                        'd7b842ac-ad66-49f6-8f90-e6597232d7d6',\n",
       "                        [{\"fillcolor\": \"yellowgreen\", \"type\": \"violin\", \"x0\": \"Age\", \"y\": [53.0, 47.0, 23.0, 32.0, 39.0, 18.0, 22.0, 35.0, 34.0, 47.0, 25.0, 31.0, 41.0, 30.0, 37.0, 28.0, 42.0, 36.0, 49.0, 71.0, 33.0, 39.0, 23.0, 29.0, 34.0, 43.0, 24.0, 29.0, 34.0, 75.0, 68.0, 34.0, 27.0, 39.0, 24.0, 36.0, 33.0, 41.0, 48.0, 21.0, 24.0, 27.0, 32.0, 67.0, 49.0, 42.0, 36.0, 36.0, 19.0, 54.0, 25.0, 17.0, 29.0, 56.0, 61.0, 45.0, 26.0, 40.0, 26.0, 17.0, 68.0, 24.0, 34.0, 39.0, 26.0, 29.0, 33.0, 45.0, 26.0, 35.0, 31.0, 42.0, 48.0, 31.0, 54.0, 59.0, 42.0, 17.0, 23.0, 38.0, 29.0, 45.0, 28.0, 37.0, 28.0, 28.0, 51.0, 36.0, 59.0, 25.0, 26.0, 74.0, 33.0, 27.0, 57.0, 46.0, 41.0, 61.0, 45.0, 49.0, 45.0, 35.0, 23.0, 46.0, 23.0, 21.0, 35.0, 27.0, 37.0, 16.0, 51.0, 34.0, 34.0, 25.0, 56.0, 26.0, 24.0, 43.0, 31.0, 32.0, 30.0, 50.0, 20.0, 31.0, 38.0, 77.0, 37.11793090137039, 41.0, 51.0, 50.0, 47.0, 37.0, 41.0, 16.0, 42.0, 39.0, 30.0, 27.0, 43.0, 42.0, 21.0, 49.0, 34.0, 31.0, 27.0, 24.0, 34.0, 28.0, 28.0, 40.0, 37.0, 17.0, 35.0, 49.0, 43.0, 20.0, 25.0, 25.0, 26.0, 28.0, 45.0, 36.0, 34.0, 19.0, 37.0, 48.0, 29.0, 43.0, 40.0, 35.0, 27.0, 58.0, 46.0, 30.0, 64.0, 31.0, 23.0, 37.0, 37.0, 31.0, 39.0, 31.0, 54.0, 53.0, 25.0, 35.0, 41.0, 59.0, 36.0, 32.0, 53.0, 26.0, 29.0, 27.0, 28.0, 52.0, 49.0, 24.0, 24.0, 20.0, 22.0, 49.0, 64.0, 47.0, 39.0, 18.0, 31.0, 16.0, 20.0, 36.0, 63.0, 34.0, 24.0, 21.0, 44.0, 60.0, 42.0, 37.0, 36.0, 21.0, 24.0, 29.0, 57.0, 38.0, 23.0, 27.0, 28.0, 63.0, 53.0, 35.0, 26.0, 42.0, 41.0, 56.0, 39.0, 23.0, 40.0, 29.0, 26.0, 49.0, 36.0, 21.0, 27.0, 37.0, 36.0, 32.0, 44.0, 27.0, 63.0, 38.0, 17.0, 31.0, 34.0, 50.0, 51.0, 56.0, 23.0, 25.0, 31.0, 32.0, 60.0, 42.0, 39.0, 28.0, 22.0, 29.0, 31.0, 28.0, 21.0, 38.0, 66.0, 36.0, 83.0, 32.0, 27.0, 26.0, 31.0, 22.0, 41.0, 41.0, 51.0, 72.0, 52.0, 47.0, 18.0, 29.0, 23.0, 43.0, 45.0, 40.0, 44.0, 25.0, 37.0, 59.0, 35.0, 35.0, 18.0, 51.0, 30.0, 31.0, 39.0, 26.0, 51.0, 19.0, 46.0, 49.0, 63.0, 20.0, 25.0, 24.0, 58.0, 29.0, 76.0, 45.0, 20.0, 58.0, 21.0, 27.0, 26.0, 33.0, 27.0, 25.0, 53.0, 53.0, 42.0, 22.0, 52.0, 36.0, 30.0, 34.0, 44.0, 53.0, 36.0, 29.0, 32.0, 46.0, 18.0, 38.0, 21.0, 35.0, 58.0, 48.0, 31.0, 47.0, 34.0, 30.0, 28.0, 28.0, 40.0, 46.0, 37.0, 53.0, 41.0, 42.0, 45.0, 34.0, 18.0, 27.0, 54.0, 35.0, 17.0, 29.0, 38.0, 26.0, 52.0, 39.0, 22.0, 29.0, 43.0, 24.0, 32.0, 40.0, 47.0, 40.0, 25.0, 31.0, 36.0, 51.0, 24.0, 62.0, 39.0, 24.0, 57.0, 20.0, 33.0, 60.0, 32.0, 40.0, 18.0, 36.0, 35.0, 55.0, 19.0, 39.0, 47.0, 23.0, 26.0, 26.0, 18.0, 33.0, 56.0, 46.0, 36.0, 50.0, 45.0, 53.0, 45.0, 42.0, 27.0, 30.0, 36.0, 58.0, 30.0, 69.0, 30.0, 45.0, 22.0, 28.0, 19.0, 40.0, 46.0, 28.0, 22.0, 17.0, 46.0, 35.0, 35.0, 28.0, 15.0, 22.0, 28.0, 31.0, 40.0, 48.0, 58.0, 44.0, 21.0, 50.0, 23.0, 24.0, 49.0, 60.0, 35.0, 29.0, 20.0, 34.0, 22.0, 49.0, 32.0, 26.0, 41.0, 61.0, 49.0, 28.0, 35.0, 29.0, 51.0, 52.0, 24.0, 32.0, 45.0, 60.0, 23.0, 46.0, 33.0, 40.0, 27.0, 42.0, 37.0, 23.0, 36.0, 19.0, 35.0, 43.0, 25.0, 20.0, 42.0, 29.0, 42.0, 31.0, 18.0, 33.0, 59.0, 47.0, 39.0, 37.0, 35.0, 28.0, 59.0, 62.0, 50.0, 68.0, 27.0, 17.0, 21.0, 38.0, 54.0, 20.0, 25.0, 31.0, 35.0, 60.0, 24.0, 27.0, 36.0, 20.0, 24.0, 23.0, 41.0, 20.0, 43.0, 29.0, 35.0, 30.0, 24.0, 23.0, 29.0, 25.0, 27.0, 50.0, 19.0, 24.0, 23.0, 22.0, 46.0, 65.0, 43.0, 35.0, 47.0, 24.0, 35.0, 25.0, 27.0, 26.0, 34.0, 32.0, 47.0, 44.0, 31.0, 44.0, 30.0, 60.0, 50.0, 36.0, 59.0, 33.0, 19.0, 56.0, 45.0, 22.0, 34.0, 53.0, 48.0, 25.0, 30.0, 47.0, 33.0, 34.0, 29.0, 63.0, 49.0, 18.0, 71.0, 35.0, 55.0, 31.0, 18.0, 51.0, 39.0, 20.0, 29.0, 40.0, 42.0, 22.0, 19.0, 24.0, 30.0, 53.0, 25.0, 28.0, 24.0, 59.0, 46.0, 15.0, 41.0, 22.0, 24.0, 34.0, 48.0, 24.0, 27.0, 27.0, 27.0, 49.0, 30.0, 38.0, 26.0, 30.0, 53.0, 23.0, 34.0, 30.0, 43.0, 29.0, 47.0, 35.0, 40.0, 18.0, 24.0, 29.0, 44.0, 17.0, 19.0, 50.0, 57.0, 30.0, 38.0, 31.0, 29.0, 26.0, 64.0, 39.0, 57.0, 36.0, 36.0, 21.0, 53.0, 30.0, 34.0, 53.0, 45.0, 22.0, 22.0, 46.0, 27.0, 30.0, 54.0, 29.0, 42.0, 41.0, 28.0, 61.0, 23.0, 25.0, 37.11793090137039, 29.0, 20.0, 40.0, 45.0, 33.0, 76.0, 47.0, 45.0, 40.0, 37.0, 27.0, 36.0, 23.0, 49.0, 21.0, 32.0, 35.0, 28.0, 59.0, 28.0, 45.0, 45.0, 19.0, 25.0, 37.0, 33.0, 59.0, 31.0, 29.0, 32.0, 41.0, 31.0, 44.0, 23.0, 45.0, 39.0, 67.0, 29.0, 25.0, 28.0, 21.0, 32.0, 51.0, 39.0, 27.0, 31.0, 50.0, 37.11793090137039, 32.0, 47.0, 46.0, 57.0, 23.0, 56.0, 24.0, 27.0, 23.0, 26.0, 34.0, 21.0, 32.0, 33.0, 55.0, 48.0, 35.0, 19.0, 45.0, 28.0, 42.0, 17.0, 30.0, 21.0, 45.0, 33.0, 46.0, 23.0, 37.0, 43.0, 40.0, 59.0, 31.0, 46.0, 37.0, 28.0, 28.0, 55.0, 29.0, 26.0, 27.0, 31.0, 51.0, 50.0, 27.0, 18.0, 46.0, 19.0, 49.0, 31.0, 38.0, 40.0, 35.0, 34.0, 44.0, 23.0, 43.0, 37.11793090137039, 31.0, 27.0, 46.0, 18.0, 57.0, 15.0, 25.0, 50.0, 31.0, 35.0, 27.0, 20.0, 27.0, 33.0, 27.0, 22.0, 28.0, 31.0, 28.0, 53.0, 30.0, 39.0, 40.0, 30.0, 21.0, 35.0, 21.0, 47.0, 38.0, 36.0, 53.0, 34.0, 34.0, 30.0, 28.0, 47.0, 49.0, 36.0, 45.0, 21.0, 18.0, 25.0, 29.0, 57.0, 34.0, 35.0, 37.11793090137039, 18.0, 62.0, 29.0, 25.0, 30.0, 24.0, 52.0, 33.0, 56.0, 49.0, 20.0, 62.0, 62.0, 6.0, 30.0, 57.0, 18.0, 47.0, 48.0, 20.0, 30.0, 36.0, 51.0, 55.0, 48.0, 20.0, 25.0, 26.0, 45.0, 35.0, 34.0, 36.0, 22.0, 63.0, 31.0, 25.0, 57.0, 32.0, 42.0, 52.0, 25.0, 25.0, 31.0, 39.0, 16.0, 24.0, 32.0, 25.0, 28.0, 28.0, 21.0, 30.0, 58.0, 47.0, 41.0, 25.0, 44.0, 34.0, 27.0, 34.0, 29.0, 39.0, 24.0, 47.0, 45.0, 28.0, 50.0, 49.0, 45.0, 24.0, 32.0, 23.0, 52.0, 37.0, 26.0, 58.0, 50.0, 22.0, 53.0, 69.0, 23.0, 29.0, 25.0, 18.0, 31.0, 23.0, 18.0, 35.0, 27.0, 28.0, 26.0, 32.0, 36.0, 66.0, 21.0, 47.0, 24.0, 60.0, 61.0, 38.0, 51.0, 35.0, 46.0, 48.0, 36.0, 33.0, 66.0, 34.0, 55.0, 54.0, 36.0, 25.0, 24.0, 28.0, 36.0, 20.0, 49.0, 51.0, 21.0, 30.0, 32.0, 33.0, 56.0, 48.0, 39.0, 19.0, 45.0, 33.0, 52.0, 51.0, 37.11793090137039, 25.0, 24.0, 22.0, 32.0, 58.0, 24.0, 26.0, 30.0, 31.0, 34.0, 48.0, 37.11793090137039, 21.0, 39.0, 25.0, 30.0, 56.0, 29.0, 19.0, 35.0, 36.0, 24.0, 23.0, 31.0, 41.0, 55.0, 19.0, 38.0, 36.0, 34.0, 52.0, 28.0, 50.0, 37.11793090137039, 55.0, 23.0, 30.0, 54.0, 37.0, 37.0, 30.0, 27.0, 22.0, 29.0, 39.0, 33.0, 52.0, 28.0, 54.0, 38.0, 32.0, 34.0, 26.0, 50.0, 37.0, 45.0, 56.0, 45.0, 32.0, 12.0, 49.0, 58.0, 29.0, 60.0, 40.0, 39.0, 26.0, 24.0, 34.0, 27.0, 44.0, 25.0, 55.0, 19.0, 52.0, 31.0, 26.0, 24.0, 38.0, 33.0, 28.0, 27.0, 39.0, 29.0, 36.0, 55.0, 28.0, 40.0, 33.0, 37.0, 39.0, 43.0, 38.0, 55.0, 52.0, 32.0, 31.0, 27.0, 40.0, 31.0, 30.0, 26.0, 32.0, 33.0, 19.0, 33.0, 29.0, 41.0, 29.0, 38.0, 64.0, 42.0, 46.0, 42.0, 37.0, 25.0, 36.0, 21.0, 30.0, 53.0, 31.0, 22.0, 24.0, 36.0, 47.0, 54.0, 43.0, 38.0, 30.0, 51.0, 55.0, 16.0, 23.0, 36.0, 33.0, 17.0, 22.0, 22.0, 29.0, 41.0, 67.0, 36.0, 52.0, 56.0, 35.0, 45.0, 30.0, 29.0, 53.0, 32.0, 22.0, 24.0, 19.0, 29.0, 50.0, 29.0, 26.0, 39.0, 52.0, 51.0, 48.0, 30.0, 37.0, 30.0, 35.0, 32.0, 25.0, 35.0, 31.0, 30.0, 23.0, 41.0, 45.0, 46.0, 36.0, 31.0, 32.0, 38.0, 33.0, 45.0, 38.0, 22.0, 48.0, 36.0, 26.0, 39.0, 16.0, 58.0, 27.0, 26.0, 21.0, 37.0, 56.0, 19.0, 38.0, 18.0, 35.0, 23.0, 41.0, 44.0, 24.0, 39.0, 22.0, 37.0, 36.0, 41.0, 27.0, 30.0, 34.0, 22.0, 51.0, 42.0, 41.0, 49.0, 45.0, 45.0, 42.0, 41.0, 27.0, 37.0, 22.0, 21.0, 50.0, 23.0, 25.0, 51.0, 46.0, 23.0, 43.0, 37.0, 20.0, 45.0, 16.0, 30.0, 26.0, 24.0, 38.0, 28.0, 29.0, 34.0, 38.0, 43.0, 23.0, 33.0, 40.0, 38.0, 53.0, 29.0, 30.0, 60.0, 25.0, 24.0, 21.0, 23.0, 61.0, 54.0, 62.0, 16.0, 25.0, 28.0, 76.0, 25.0, 33.0, 51.0, 34.0, 30.0, 44.0, 24.0, 29.0, 48.0, 19.0, 22.0, 39.0, 36.0, 55.0, 46.0, 34.0, 27.0, 33.0, 18.0, 33.0, 51.0, 50.0, 46.0, 33.0, 25.0, 52.0, 18.0, 43.0, 34.0, 31.0, 65.0, 37.0, 30.0, 36.0, 25.0, 69.0, 48.0, 50.0, 52.0, 44.0, 60.0, 40.0, 20.0, 45.0, 44.0, 40.0, 25.0, 43.0, 27.0, 19.0, 39.0, 30.0, 28.0, 22.0, 16.0, 40.0, 38.0, 20.0, 35.0, 52.0, 26.0, 54.0, 38.0, 52.0, 26.0, 53.0, 35.0, 22.0, 31.0, 32.0, 37.0, 28.0, 18.0, 41.0, 15.0, 38.0, 41.0, 52.0, 48.0, 29.0, 51.0, 21.0, 24.0, 18.0, 30.0, 33.0, 60.0, 28.0, 26.0, 24.0, 44.0, 34.0, 21.0, 36.0, 37.0, 53.0, 24.0, 45.0, 48.0, 42.0, 33.0, 55.0, 28.0, 25.0, 28.0, 52.0, 59.0, 52.0, 39.0, 40.0, 36.0, 38.0, 26.0, 37.11793090137039, 29.0, 37.0, 29.0, 21.0, 33.0, 23.0, 26.0, 29.0, 33.0, 28.0, 35.0, 33.0, 24.0, 37.11793090137039, 28.0, 19.0, 43.0, 59.0, 34.0, 35.0, 23.0, 36.0, 46.0, 44.0, 20.0, 30.0, 29.0, 35.0, 36.0, 22.0, 31.0, 63.0, 38.0, 31.0, 27.0, 35.0, 22.0, 28.0, 26.0, 22.0, 31.0, 43.0, 24.0, 29.0, 43.0, 21.0, 19.0, 25.0, 59.0, 50.0, 58.0, 25.0, 32.0, 53.0, 38.0, 70.0, 33.0, 36.0, 21.0, 51.0, 43.0, 18.0, 33.0, 34.0, 31.0, 35.0, 31.0, 31.0, 23.0, 25.0, 25.0, 21.0, 49.0, 63.0, 43.0, 34.0, 38.0, 52.0, 68.0, 29.0, 32.0, 50.0, 31.0, 27.0, 31.0, 29.0, 23.0, 61.0, 33.0, 18.0, 80.0, 43.0, 50.0, 47.0, 54.0, 22.0, 43.0, 38.0, 36.0, 30.0, 59.0, 21.0, 34.0, 17.0, 37.0, 25.0, 23.0, 20.0, 19.0, 50.0, 24.0, 25.0, 20.0, 37.0, 44.0, 22.0, 31.0, 25.0, 37.11793090137039, 36.0, 50.0, 42.0, 42.0, 26.0, 19.0, 59.0, 36.0, 51.0, 27.0, 22.0, 30.0, 28.0, 63.0, 32.0, 26.0, 25.0, 27.0, 61.0, 30.0, 37.11793090137039, 37.0, 41.0, 25.0, 24.0, 44.0, 63.0, 58.0, 30.0, 35.0, 50.0, 40.0, 37.11793090137039, 19.0, 34.0, 18.0, 21.0, 29.0, 49.0, 24.0, 37.0, 32.0, 65.0, 37.0, 33.0, 63.0, 30.0, 40.0, 38.0, 50.0, 41.0, 41.0, 39.0, 44.0, 23.0, 32.0, 56.0, 33.0, 63.0, 31.0, 57.0, 26.0, 39.0, 42.0, 29.0, 43.0, 56.0, 31.0, 50.0, 36.0, 50.0, 49.0, 31.0, 34.0, 36.0, 29.0, 32.0, 18.0, 50.0, 36.0, 17.0, 19.0, 24.0, 24.0, 20.0, 33.0, 41.0, 47.0, 18.0, 31.0, 27.0, 36.0, 40.0, 59.0, 32.0, 38.0, 18.0, 23.0, 43.0, 67.0, 32.0, 22.0, 31.0, 43.0, 34.0, 51.0, 31.0, 54.0, 69.0, 58.0, 26.0, 59.0, 25.0, 20.0, 57.0, 56.0, 64.0, 34.0, 69.0, 45.0, 14.0, 44.0, 59.0, 33.0, 54.0, 22.0, 49.0, 23.0, 38.0, 53.0, 36.0, 29.0, 42.0, 36.0, 32.0, 53.0, 30.0, 25.0, 18.0, 55.0, 27.0, 37.0, 29.0, 40.0, 36.0, 38.0, 29.0, 59.0, 47.0, 22.0, 31.0, 29.0, 54.0, 71.0, 36.0, 34.0, 49.0, 36.0, 43.0, 53.0, 31.0, 32.0, 41.0, 26.0, 82.0, 37.0, 24.0, 35.0, 56.0, 22.0, 59.0, 36.0, 21.0, 38.0, 60.0, 18.0, 23.0, 37.11793090137039, 38.0, 22.0, 38.0, 25.0, 25.0, 36.0, 37.11793090137039, 44.0, 36.0, 35.0, 25.0, 31.0, 70.0, 25.0, 55.0, 35.0, 25.0, 32.0, 38.0, 32.0, 64.0, 55.0, 69.0, 37.0, 31.0, 25.0, 25.0, 13.0, 32.0, 69.0, 34.0, 29.0, 29.0, 40.0, 42.0, 25.0, 45.0, 55.0, 22.0, 61.0, 46.0, 30.0, 56.0, 35.0, 22.0, 23.0, 43.0, 43.0, 49.0, 23.0, 41.0, 33.0, 30.0, 25.0, 52.0, 32.0, 46.0, 48.0, 38.0, 26.0, 32.0, 28.0, 53.0, 38.0, 18.0, 32.0, 37.0, 18.0, 20.0, 28.0, 18.0, 16.0, 36.0, 57.0, 49.0, 31.0, 26.0, 51.0, 28.0, 35.0, 57.0, 36.0, 42.0, 37.11793090137039, 49.0, 21.0, 53.0, 62.0, 41.0, 40.0, 27.0, 19.0, 26.0, 44.0, 30.0, 31.0, 33.0, 22.0, 38.0, 46.0, 23.0, 24.0, 26.0, 26.0, 32.0, 50.0, 17.0, 39.0, 28.0, 66.0, 42.0, 34.0, 38.0, 28.0, 29.0, 23.0, 58.0, 21.0, 45.0, 38.0, 40.0, 19.0, 46.0, 25.0, 25.0, 37.0, 25.0, 36.0, 32.0, 33.0, 24.0, 37.0, 38.0, 45.0, 31.0, 34.0, 23.0, 39.0, 55.0, 31.0, 76.0, 59.0, 40.0, 23.0, 26.0, 35.0, 49.0, 36.0, 56.0, 34.0, 43.0, 31.0, 17.0, 32.0, 33.0, 43.0, 31.0, 23.0, 26.0, 45.0, 19.0, 36.0, 41.0, 53.0, 24.0, 37.11793090137039, 37.11793090137039, 40.0, 29.0, 22.0, 21.0, 25.0, 37.0, 37.0, 56.0, 25.0, 26.0, 35.0, 25.0, 29.0, 21.0, 15.0, 24.0, 18.0, 19.0, 27.0, 45.0, 36.0, 34.0, 23.0, 43.0, 19.0, 37.0, 23.0, 26.0, 20.0, 59.0, 33.0, 48.0, 50.0, 18.0, 23.0, 41.0, 41.0, 55.0, 29.0, 31.0, 25.0, 38.0, 37.11793090137039, 83.0, 22.0, 33.0, 36.0, 26.0, 29.0, 55.0, 47.0, 52.0, 49.0, 37.0, 37.0, 36.0, 31.0, 30.0, 37.11793090137039, 35.0, 35.0, 36.0, 39.0, 30.0, 44.0, 24.0, 53.0, 73.0, 31.0, 28.0, 18.0, 32.0, 60.0, 48.0, 33.0, 44.0, 20.0, 37.0, 72.0, 52.0, 46.0, 25.0, 38.0, 27.0, 24.0, 19.0, 31.0, 18.0, 53.0, 48.0, 29.0, 30.0, 61.0, 71.0, 41.0, 36.0, 28.0, 21.0, 46.0, 32.0, 33.0, 42.0, 17.0, 35.0, 23.0, 21.0, 44.0, 53.0, 63.0, 18.0, 51.0, 64.0, 45.0, 20.0, 41.0, 23.0, 32.0, 25.0, 42.0, 41.0, 31.0, 50.0, 38.0, 44.0, 38.0, 21.0, 32.0, 23.0, 41.0, 41.0, 38.0, 54.0, 20.0, 26.0, 29.0, 47.0, 28.0, 48.0, 34.0, 37.0, 33.0, 36.0, 43.0, 32.0, 29.0, 39.0, 40.0, 21.0, 50.0, 19.0, 28.0, 16.0, 49.0, 44.0, 25.0, 39.0, 44.0, 50.0, 57.0, 57.0, 33.0, 21.0, 52.0, 27.0, 60.0, 25.0, 34.0, 22.0, 26.0, 27.0, 29.0, 30.0, 32.0, 18.0, 37.0, 54.0, 50.0, 28.0, 59.0, 24.0, 34.0, 25.0, 25.0, 17.0, 48.0, 45.0, 18.0, 50.0, 36.0, 45.0, 42.0, 37.11793090137039, 23.0, 31.0, 26.0, 57.0, 18.0, 27.0, 41.0, 33.0, 22.0, 38.0, 26.0, 45.0, 68.0, 56.0, 23.0, 45.0, 41.0, 33.0, 22.0, 50.0, 52.0, 35.0, 18.0, 34.0, 51.0, 18.0, 29.0, 34.0, 25.0, 17.0, 26.0, 33.0, 25.0, 31.0, 25.0, 18.0, 45.0, 25.0, 23.0, 55.0, 37.0, 33.0, 27.0, 32.0, 31.0, 26.0, 32.0, 53.0, 19.0, 53.0, 35.0, 64.0, 24.0, 33.0, 55.0, 17.0, 48.0, 21.0, 22.0, 30.0, 34.0, 35.0, 32.0, 22.0, 46.0, 27.0, 18.0, 33.0, 26.0, 27.0, 26.0, 51.0, 63.0, 38.0, 25.0, 39.0, 41.0, 26.0, 30.0, 33.0, 38.0, 24.0, 47.0, 62.0, 30.0, 33.0, 23.0, 39.0, 41.0, 46.0, 36.0, 66.0, 27.0, 40.0, 25.0, 20.0, 43.0, 40.0, 33.0, 34.0, 27.0, 25.0, 37.0, 32.0, 25.0, 38.0, 50.0, 26.0, 70.0, 38.0, 41.0, 91.0, 25.0, 29.0, 24.0, 40.0, 51.0, 30.0, 28.0, 33.0, 23.0, 23.0, 20.0, 56.0, 36.0, 18.0, 43.0, 16.0, 29.0, 25.0, 34.0, 32.0, 58.0, 36.0, 32.0, 25.0, 59.0, 25.0, 25.0, 42.0, 36.0, 59.0, 21.0, 19.0, 45.0, 42.0, 27.0, 45.0, 51.0, 42.0, 24.0, 39.0, 18.0, 26.0, 35.0, 53.0, 54.0, 36.0, 56.0, 51.0, 45.0, 28.0, 36.0, 73.0, 26.0, 41.0, 59.0, 28.0, 45.0, 27.0, 46.0, 34.0, 30.0, 46.0, 47.0, 32.0, 65.0, 19.0, 22.0, 39.0, 38.0, 68.0, 49.0, 37.0, 33.0, 25.0, 36.0, 30.0, 39.0, 28.0, 28.0, 25.0, 57.0, 33.0, 24.0, 33.0, 56.0, 56.0, 16.0, 47.0, 33.0, 32.0, 21.0, 64.0, 19.0, 26.0, 25.0, 17.0, 55.0, 25.0, 43.0, 39.0, 24.0, 70.0, 79.0, 16.0, 35.0, 15.0, 23.0, 53.0, 20.0, 27.0, 53.0, 32.0, 57.0, 26.0, 53.0, 32.0, 25.0, 15.0, 59.0, 35.0, 33.0, 32.0, 49.0, 46.0, 25.0, 20.0, 48.0, 24.0, 18.0, 67.0, 26.0, 54.0, 15.0, 27.0, 26.0, 62.0, 24.0, 32.0, 29.0, 16.0, 25.0, 40.0, 39.0, 34.0, 36.0, 24.0, 50.0, 50.0, 37.11793090137039, 30.0, 35.0, 46.0, 51.0, 37.0, 41.0, 41.0, 48.0, 27.0, 29.0, 47.0, 34.0, 48.0, 41.0, 25.0, 24.0, 38.0, 28.0, 47.0, 65.0, 58.0, 33.0, 43.0, 24.0, 37.0, 31.0, 65.0, 59.0, 74.0, 21.0, 24.0, 37.11793090137039, 23.0, 59.0, 33.0, 34.0, 30.0, 22.0, 37.0, 20.0, 18.0, 24.0, 17.0, 27.0, 51.0, 29.0, 34.0, 18.0, 17.0, 55.0, 44.0, 27.0, 66.0, 45.0, 47.0, 34.0, 37.0, 54.0, 21.0, 21.0, 35.0, 75.0, 33.0, 45.0, 48.0, 58.0, 30.0, 44.0, 82.0, 29.0, 25.0, 53.0, 60.0, 19.0, 63.0, 50.0, 35.0, 45.0, 24.0, 36.0, 35.0, 33.0, 66.0, 54.0, 20.0, 40.0, 41.0, 30.0, 32.0, 24.0, 37.0, 28.0, 48.0, 30.0, 64.0, 21.0, 28.0, 36.0, 40.0, 32.0, 50.0, 28.0, 33.0, 37.0, 17.0, 20.0, 34.0, 37.0, 24.0, 47.0, 20.0, 56.0, 24.0, 47.0, 36.0, 35.0, 37.0, 45.0, 41.0, 23.0, 37.0, 23.0, 33.0, 23.0, 37.0, 19.0, 39.0, 53.0, 51.0, 25.0, 45.0, 28.0, 36.0, 32.0, 39.0, 46.0, 53.0, 42.0, 34.0, 29.0, 53.0, 45.0, 24.0, 51.0, 35.0, 27.0, 33.0, 16.0, 30.0, 22.0, 23.0, 50.0, 28.0, 34.0, 24.0, 54.0, 26.0, 39.0, 34.0, 27.0, 48.0, 47.0, 54.0, 33.0, 40.0, 58.0, 55.0, 47.0, 42.0, 29.0, 40.0, 23.0, 23.0, 25.0, 52.0, 43.0, 37.0, 32.0, 70.0, 24.0, 24.0, 38.0, 52.0, 27.0, 22.0, 42.0, 49.0, 59.0, 41.0, 34.0, 31.0, 23.0, 28.0, 33.0, 16.0, 35.0, 26.0, 62.0, 25.0, 25.0, 31.0, 35.0, 46.0, 39.0, 26.0, 37.0, 32.0, 31.0, 48.0, 29.0, 32.0, 28.0, 43.0, 39.0, 37.0, 39.0, 42.0, 33.0, 25.0, 29.0, 45.0, 27.0, 28.0, 57.0, 15.0, 33.0, 35.0, 47.0, 31.0, 36.0, 54.0, 24.0, 35.0, 32.0, 28.0, 45.0, 29.0, 36.0, 23.0, 17.0, 20.0, 33.0, 49.0, 31.0, 35.0, 24.0, 54.0, 41.0, 50.0, 46.0, 45.0, 20.0, 37.0, 34.0, 54.0, 65.0, 28.0, 26.0, 25.0, 32.0, 44.0, 32.0, 42.0, 66.0, 22.0, 51.0, 64.0, 30.0, 71.0, 30.0, 48.0, 56.0, 26.0, 28.0, 19.0, 24.0, 44.0, 28.0, 47.0, 18.0, 26.0, 33.0, 34.0, 62.0, 24.0, 55.0, 22.0, 46.0, 27.0, 32.0, 22.0, 54.0, 32.0, 45.0, 36.0, 37.0, 47.0, 30.0, 31.0, 44.0, 52.0, 16.0, 29.0, 42.0, 31.0, 41.0, 45.0, 50.0, 26.0, 22.0, 76.0, 58.0, 32.0, 19.0, 25.0, 48.0, 39.0, 31.0, 50.0, 15.0, 48.0, 32.0, 21.0, 37.0, 21.0, 40.0, 33.0, 25.0, 55.0, 53.0, 27.0, 35.0, 25.0, 31.0, 70.0, 40.0, 25.0, 38.0, 26.0, 27.0, 37.11793090137039, 28.0, 40.0, 44.0, 39.0, 24.0, 32.0, 31.0, 50.0, 31.0, 50.0, 45.0, 44.0, 48.0, 39.0, 30.0, 44.0, 28.0, 24.0, 27.0, 34.0, 41.0, 26.0, 38.0, 33.0, 22.0, 40.0, 34.0, 48.0, 37.0, 67.0, 35.0, 29.0, 28.0, 40.0, 31.0, 51.0, 47.0, 52.0, 28.0, 35.0, 25.0, 37.11793090137039, 34.0, 58.0, 24.0, 22.0, 46.0, 61.0, 43.0, 44.0, 35.0, 29.0, 57.0, 42.0, 44.0, 20.0, 32.0, 34.0, 18.0, 31.0, 24.0, 35.0, 34.0, 26.0, 55.0, 38.0, 23.0, 30.0, 44.0, 37.0, 27.0, 43.0, 25.0, 30.0, 35.0, 31.0, 35.0, 37.0, 25.0, 34.0, 33.0, 33.0, 32.0, 34.0, 46.0, 40.0, 27.0, 17.0, 46.0, 50.0, 41.0, 23.0, 33.0, 25.0, 27.0, 39.0, 22.0, 37.0, 27.0, 28.0, 56.0, 71.0, 53.0, 39.0, 56.0, 24.0, 35.0, 30.0, 31.0, 20.0, 35.0, 31.0, 49.0, 54.0, 48.0, 32.0, 35.0, 30.0, 32.0, 31.0, 14.0, 25.0, 32.0, 35.0, 27.0, 23.0, 55.0, 43.0, 62.0, 25.0, 37.11793090137039, 50.0, 19.0, 41.0, 55.0, 19.0, 67.0, 24.0, 44.0, 29.0, 48.0, 22.0, 37.11793090137039, 59.0, 68.0, 25.0, 23.0, 46.0, 25.0, 30.0, 56.0, 24.0, 18.0, 27.0, 26.0, 15.0, 26.0, 32.0, 17.0, 32.0, 43.0, 26.0, 51.0, 39.0, 43.0, 31.0, 22.0, 40.0, 64.0, 30.0, 59.0, 24.0, 32.0, 37.0, 33.0, 42.0, 37.0, 33.0, 62.0, 46.0, 69.0, 24.0, 42.0, 49.0, 35.0, 19.0, 40.0, 34.0, 22.0, 16.0, 69.0, 24.0, 28.0, 51.0, 20.0, 34.0, 27.0, 48.0, 33.0, 6.0, 26.0, 40.0, 46.0, 20.0, 28.0, 30.0, 36.0, 25.0, 28.0, 38.0, 30.0, 31.0, 36.0, 65.0, 42.0, 65.0, 30.0, 49.0, 66.0, 28.0, 27.0, 31.0, 46.0, 28.0, 35.0, 24.0, 17.0, 39.0, 21.0, 21.0, 57.0, 27.0, 62.0, 40.0, 38.0, 27.0, 54.0, 27.0, 51.0, 25.0, 46.0, 20.0, 32.0, 27.0, 21.0, 60.0, 44.0, 23.0, 31.0, 43.0, 39.0, 54.0, 22.0, 37.0, 42.0, 22.0, 42.0, 32.0, 30.0, 53.0, 27.0, 72.0, 29.0, 34.0, 26.0, 22.0, 16.0, 31.0, 58.0, 23.0, 44.0, 46.0, 61.0, 17.0, 46.0, 35.0, 36.0, 28.0, 37.0, 47.0, 35.0, 40.0, 24.0, 18.0, 38.0, 54.0, 27.0, 62.0, 66.0, 47.0, 19.0, 27.0, 23.0, 42.0, 43.0, 42.0, 45.0, 21.0, 43.0, 45.0, 33.0, 38.0, 33.0, 46.0, 52.0, 46.0, 40.0, 20.0, 39.0, 35.0, 31.0, 32.0, 56.0, 37.0, 32.0, 28.0, 26.0, 27.0, 37.11793090137039, 43.0, 49.0, 16.0, 35.0, 19.0, 59.0, 29.0, 37.0, 22.0, 40.0, 35.0, 39.0, 36.0, 78.0, 25.0, 41.0, 63.0, 48.0, 42.0, 39.0, 84.0, 33.0, 52.0, 48.0, 30.0, 29.0, 27.0, 41.0, 57.0, 27.0, 58.0, 59.0, 39.0, 28.0, 28.0, 23.0, 55.0, 33.0, 23.0, 45.0, 37.0, 21.0, 27.0, 39.0, 37.0, 22.0, 26.0, 27.0, 37.0, 58.0, 62.0, 25.0, 36.0, 37.11793090137039, 27.0, 37.0, 25.0, 40.0, 22.0, 29.0, 20.0, 33.0, 48.0, 47.0, 40.0, 29.0, 29.0, 44.0, 36.0, 48.0, 49.0, 38.0, 41.0, 37.11793090137039, 28.0, 33.0, 44.0, 65.0, 35.0, 25.0, 40.0, 36.0, 55.0, 19.0, 70.0, 37.0, 53.0, 84.0, 46.0, 29.0, 27.0, 32.0, 27.0, 38.0, 20.0, 45.0, 32.0, 48.0, 57.0, 34.0, 16.0, 47.0, 61.0, 32.0, 31.0, 46.0, 27.0, 31.0, 26.0, 31.0, 27.0, 49.0, 26.0, 28.0, 62.0, 50.0, 23.0, 40.0, 50.0, 50.0, 27.0, 35.0, 32.0, 56.0, 20.0, 56.0, 39.0, 47.0, 25.0, 21.0, 18.0, 36.0, 35.0, 29.0, 20.0, 30.0, 40.0, 48.0, 23.0, 42.0, 20.0, 25.0, 28.0, 34.0, 41.0, 24.0, 29.0, 33.0, 44.0, 31.0, 26.0, 51.0, 64.0, 29.0, 61.0, 44.0, 39.0, 35.0, 39.0, 60.0, 42.0, 27.0, 21.0, 33.0, 60.0, 24.0, 41.0, 41.0, 34.0, 23.0, 38.0, 58.0, 49.0, 27.0, 34.0, 34.0, 44.0, 30.0, 81.0, 40.0, 27.0, 26.0, 18.0, 59.0, 56.0, 22.0, 34.0, 23.0, 36.0, 48.0, 33.0, 24.0, 25.0, 20.0, 45.0, 29.0, 34.0, 23.0, 29.0, 44.0, 30.0, 28.0, 71.0, 25.0, 61.0, 39.0, 50.0, 37.11793090137039, 23.0, 39.0, 45.0, 34.0, 31.0, 55.0, 39.0, 32.0, 44.0, 24.0, 36.0, 41.0, 25.0, 39.0, 40.0, 32.0, 45.0, 31.0, 32.0, 48.0, 49.0, 48.0, 18.0, 48.0, 25.0, 27.0, 37.0, 44.0, 27.0, 41.0, 42.0, 36.0, 37.0, 56.0, 36.0, 46.0, 26.0, 41.0, 38.0, 42.0, 47.0, 26.0, 64.0, 49.0, 44.0, 48.0, 27.0, 67.0, 24.0, 26.0, 28.0, 21.0, 24.0, 21.0, 73.0, 39.0, 32.0, 38.0, 32.0, 26.0, 55.0, 50.0, 49.0, 48.0, 65.0, 37.0, 45.0, 33.0, 46.0, 33.0, 33.0, 51.0, 52.0, 24.0, 55.0, 28.0, 36.0, 24.0, 20.0, 54.0, 53.0, 36.0, 24.0, 34.0, 59.0, 34.0, 29.0, 24.0, 77.0, 30.0, 36.0, 36.0, 58.0, 47.0, 49.0, 31.0, 25.0, 37.11793090137039, 30.0, 33.0, 29.0, 31.0, 51.0, 42.0, 67.0, 23.0, 34.0, 51.0, 19.0, 29.0, 23.0, 46.0, 42.0, 21.0, 55.0, 37.11793090137039, 43.0, 32.0, 34.0, 40.0, 55.0, 20.0, 24.0, 43.0, 56.0, 47.0, 33.0, 20.0, 28.0, 50.0, 36.0, 47.0, 36.0, 49.0, 34.0, 41.0, 29.0, 34.0, 34.0, 22.0, 26.0, 32.0, 44.0, 21.0, 29.0, 18.0, 33.0, 28.0, 37.11793090137039, 40.0, 40.0, 37.0, 47.0, 33.0, 44.0, 65.0, 20.0, 17.0, 55.0, 33.0, 44.0, 37.0, 32.0, 31.0, 20.0, 30.0, 25.0, 47.0, 48.0, 32.0, 18.0, 29.0, 30.0, 39.0, 36.0, 36.0, 54.0, 27.0, 45.0, 19.0, 36.0, 33.0, 56.0, 33.0, 60.0, 26.0, 52.0, 40.0, 33.0, 41.0, 32.0, 34.0, 26.0, 62.0, 33.0, 55.0, 38.0, 43.0, 38.0, 27.0, 52.0, 37.0, 34.0, 41.0, 40.0, 53.0, 21.0, 34.0, 22.0, 25.0, 16.0, 37.0, 68.0, 25.0, 34.0, 23.0, 25.0, 57.0, 27.0, 51.0, 30.0, 33.0, 37.11793090137039, 19.0, 22.0, 37.0, 19.0, 33.0, 38.0, 45.0, 39.0, 21.0, 56.0, 27.0, 50.0, 16.0, 18.0, 38.0, 32.0, 33.0, 71.0, 30.0, 39.0, 19.0, 44.0, 54.0, 29.0, 37.11793090137039, 56.0, 64.0, 25.0, 18.0, 36.0, 24.0, 30.0, 53.0, 60.0, 32.0, 25.0, 44.0, 32.0, 33.0, 37.11793090137039, 35.0, 23.0, 27.0, 53.0, 35.0, 41.0, 18.0, 34.0, 49.0, 31.0, 29.0, 33.0, 38.0, 43.0, 29.0, 68.0, 62.0, 39.0, 59.0, 24.0, 70.0, 42.0, 26.0, 24.0, 48.0, 54.0, 48.0, 37.0, 40.0, 28.0, 43.0, 35.0, 21.0, 40.0, 32.0, 48.0, 31.0, 37.11793090137039, 58.0, 30.0, 21.0, 15.0, 30.0, 28.0, 21.0, 33.0, 37.11793090137039, 36.0, 38.0, 34.0, 23.0, 44.0, 20.0, 41.0, 18.0, 29.0, 37.0, 41.0, 25.0, 20.0, 34.0, 37.0, 18.0, 72.0, 17.0, 45.0, 49.0, 64.0, 36.0, 61.0, 24.0, 70.0, 40.0, 21.0, 27.0, 23.0, 33.0, 45.0, 19.0, 28.0, 63.0, 37.11793090137039, 39.0, 57.0, 32.0, 38.0, 46.0, 31.0, 40.0, 31.0, 50.0, 29.0, 25.0, 31.0, 23.0, 54.0, 44.0, 43.0, 37.0, 55.0, 40.0, 26.0, 29.0, 29.0, 42.0, 20.0, 34.0, 41.0, 29.0, 19.0, 32.0, 23.0, 41.0, 37.0, 24.0, 54.0, 58.0, 40.0, 27.0, 40.0, 23.0, 33.0, 26.0, 36.0, 38.0, 25.0, 31.0, 48.0, 43.0, 36.0, 39.0, 22.0, 24.0, 36.0, 25.0, 30.0, 76.0, 39.0, 49.0, 21.0, 31.0, 22.0, 27.0, 26.0, 84.0, 17.0, 17.0, 22.0, 41.0, 58.0, 29.0, 19.0, 18.0, 61.0, 18.0, 23.0, 38.0, 19.0, 63.0, 21.0, 25.0, 35.0, 50.0, 34.0, 37.11793090137039, 26.0, 61.0, 18.0, 37.0, 27.0, 24.0, 37.0, 28.0, 44.0, 30.0, 30.0, 34.0, 27.0, 28.0, 42.0, 32.0, 24.0, 17.0, 26.0, 35.0, 25.0, 33.0, 25.0, 29.0, 18.0, 19.0, 39.0, 61.0, 36.0, 72.0, 48.0, 34.0, 36.0, 33.0, 30.0, 61.0, 41.0, 52.0, 26.0, 37.11793090137039, 39.0, 36.0, 47.0, 37.11793090137039, 25.0, 63.0, 24.0, 38.0, 22.0, 59.0, 29.0, 18.0, 29.0, 25.0, 48.0, 60.0, 27.0, 65.0, 41.0, 33.0, 33.0, 22.0, 52.0, 42.0, 48.0, 24.0, 21.0, 20.0, 59.0, 46.0, 23.0, 32.0, 19.0, 64.0, 35.0, 41.0, 42.0, 35.0, 33.0, 32.0, 37.0, 37.0, 65.0, 30.0, 43.0, 18.0, 27.0, 41.0, 41.0, 33.0, 53.0, 42.0, 46.0, 51.0, 16.0, 41.0, 24.0, 23.0, 50.0, 41.0, 23.0, 33.0, 25.0, 30.0, 58.0, 47.0, 22.0, 27.0, 29.0, 43.0, 18.0, 19.0, 37.0, 42.0, 35.0, 50.0, 60.0, 35.0, 47.0, 37.11793090137039, 31.0, 24.0, 27.0, 27.0, 23.0, 57.0, 56.0, 36.0, 37.11793090137039, 37.11793090137039, 24.0, 34.0, 17.0, 21.0, 35.0, 34.0, 56.0, 35.0, 46.0, 42.0, 49.0, 44.0, 45.0, 36.0, 45.0, 34.0, 26.0, 28.0, 35.0, 20.0, 33.0, 39.0, 63.0, 27.0, 33.0, 27.0, 31.0, 33.0, 39.0, 27.0, 32.0, 29.0, 28.0, 50.0, 55.0, 42.0, 36.0, 38.0, 38.0, 35.0, 42.0, 70.0, 29.0, 26.0, 20.0, 30.0, 19.0, 48.0, 58.0, 38.0, 28.0, 34.0, 45.0, 18.0, 25.0, 38.0, 33.0, 39.0, 58.0, 48.0, 14.0, 18.0, 22.0, 46.0, 37.11793090137039, 37.11793090137039, 57.0, 32.0, 31.0, 64.0, 35.0, 42.0, 30.0, 26.0, 37.0, 21.0, 20.0, 46.0, 37.11793090137039, 20.0, 46.0, 24.0, 26.0, 60.0, 25.0, 29.0, 58.0, 59.0, 46.0, 55.0, 27.0, 30.0, 45.0, 51.0, 27.0, 47.0, 52.0, 45.0, 47.0, 68.0, 40.0, 18.0, 35.0, 80.0, 44.0, 31.0, 20.0, 43.0, 25.0, 38.0, 34.0, 58.0, 38.0, 29.0, 40.0, 49.0, 25.0, 21.0, 57.0, 28.0, 25.0, 58.0, 34.0, 34.0, 24.0, 32.0, 58.0, 20.0, 19.0, 46.0, 28.0, 47.0, 47.0, 34.0, 37.11793090137039, 45.0, 17.0, 34.0, 48.0, 32.0, 20.0, 31.0, 16.0, 24.0, 39.0, 26.0, 30.0, 36.0, 28.0, 21.0, 36.0, 28.0, 24.0, 29.0, 44.0, 41.0, 38.0, 40.0, 20.0, 27.0, 51.0, 48.0, 40.0, 29.0, 34.0, 20.0, 47.0, 29.0, 33.0, 46.0, 35.0, 36.0, 63.0, 27.0, 17.0, 22.0, 21.0, 31.0, 56.0, 32.0, 25.0, 47.0, 37.11793090137039, 23.0, 34.0, 51.0, 35.0, 46.0, 59.0, 30.0, 34.0, 44.0, 31.0, 51.0, 34.0, 45.0, 32.0, 31.0, 41.0, 29.0, 47.0, 30.0, 27.0, 38.0, 33.0, 25.0, 47.0, 49.0, 33.0, 36.0, 22.0, 29.0, 52.0, 61.0, 29.0, 37.0, 26.0, 19.0, 45.0, 22.0, 57.0, 46.0, 27.0, 26.0, 30.0, 18.0, 25.0, 51.0, 40.0, 47.0, 38.0, 39.0, 30.0, 42.0, 25.0, 22.0, 30.0, 33.0, 24.0, 31.0, 25.0, 28.0, 19.0, 31.0, 48.0, 53.0, 50.0, 55.0, 37.11793090137039, 37.0, 30.0, 36.0, 24.0, 35.0, 42.0, 37.0, 28.0, 32.0, 33.0, 27.0, 21.0, 47.0, 57.0, 34.0, 34.0, 30.0, 29.0, 28.0, 39.0, 54.0, 27.0, 32.0, 32.0, 47.0, 33.0, 42.0, 37.11793090137039, 24.0, 42.0, 34.0, 46.0, 40.0, 30.0, 42.0, 30.0, 63.0, 18.0, 29.0, 42.0, 32.0, 50.0, 29.0, 29.0, 51.0, 23.0, 47.0, 45.0, 42.0, 26.0, 29.0, 49.0, 17.0, 37.11793090137039, 45.0, 51.0, 37.0, 28.0, 52.0, 37.0, 37.0, 25.0, 35.0, 35.0, 61.0, 33.0, 34.0, 59.0, 32.0, 49.0, 31.0, 29.0, 25.0, 26.0, 37.11793090137039, 39.0, 26.0, 36.0, 45.0, 45.0, 54.0, 43.0, 37.11793090137039, 30.0, 37.11793090137039, 58.0, 39.0, 40.0, 36.0, 27.0, 20.0, 17.0, 59.0, 47.0, 45.0, 34.0, 46.0, 26.0, 21.0, 29.0, 33.0, 47.0, 22.0, 41.0, 28.0, 56.0, 41.0, 35.0, 59.0, 30.0, 49.0, 41.0, 21.0, 62.0, 32.0, 22.0, 58.0, 32.0, 26.0, 35.0, 27.0, 35.0, 23.0, 59.0, 23.0, 43.0, 41.0, 56.0, 45.0, 28.0, 37.11793090137039, 54.0, 39.0, 37.11793090137039, 41.0, 27.0, 70.0, 37.11793090137039, 35.0, 26.0, 58.0, 46.0, 39.0, 33.0, 20.0, 38.0, 41.0, 32.0, 37.11793090137039, 24.0, 19.0, 27.0, 40.0, 61.0, 20.0, 35.0, 17.0, 22.0, 45.0, 20.0, 18.0, 28.0, 38.0, 53.0, 31.0, 48.0, 20.0, 35.0, 22.0, 18.0, 74.0, 33.0, 38.0, 26.0, 41.0, 29.0, 19.0, 61.0, 34.0, 35.0, 43.0, 50.0, 32.0, 50.0, 54.0, 35.0, 33.0, 18.0, 50.0, 41.0, 37.0, 76.0, 19.0, 40.0, 61.0, 61.0, 22.0, 52.0, 23.0, 67.0, 44.0, 23.0, 39.0, 53.0, 39.0, 26.0, 38.0, 49.0, 34.0, 47.0, 34.0, 58.0, 17.0, 21.0, 37.0, 43.0, 61.0, 28.0, 41.0, 23.0, 36.0, 23.0, 26.0, 32.0, 62.0, 33.0, 32.0, 69.0, 35.0, 46.0, 46.0, 22.0, 20.0, 30.0, 49.0, 43.0, 52.0, 56.0, 36.0, 40.0, 52.0, 35.0, 35.0, 53.0, 23.0, 19.0, 41.0, 39.0, 28.0, 28.0, 37.11793090137039, 53.0, 27.0, 31.0, 38.0, 38.0, 41.0, 49.0, 56.0, 62.0, 31.0, 37.0, 37.11793090137039, 28.0, 46.0, 21.0, 30.0, 36.0, 48.0, 34.0, 45.0, 19.0, 32.0, 32.0, 24.0, 65.0, 29.0, 49.0, 19.0, 56.0, 39.0, 43.0, 57.0, 49.0, 18.0, 27.0, 52.0, 37.0, 45.0, 49.0, 38.0, 31.0, 51.0, 37.11793090137039, 51.0, 20.0, 26.0, 25.0, 37.11793090137039, 62.0, 27.0, 33.0, 39.0, 18.0, 27.0, 50.0, 57.0, 29.0, 39.0, 31.0, 34.0, 52.0, 33.0, 37.0, 52.0, 62.0, 30.0, 28.0, 51.0, 23.0, 36.0, 37.0, 49.0, 49.0, 35.0, 17.0, 30.0, 34.0, 46.0, 29.0, 28.0, 43.0, 42.0, 30.0, 24.0, 27.0, 41.0, 47.0, 26.0, 20.0, 18.0, 37.11793090137039, 29.0, 35.0, 77.0, 31.0, 54.0, 33.0, 76.0, 28.0, 31.0, 53.0, 33.0, 37.0, 57.0, 36.0, 39.0, 43.0, 44.0, 33.0, 49.0, 18.0, 21.0, 57.0, 29.0, 58.0, 74.0, 63.0, 28.0, 67.0, 64.0, 32.0, 49.0, 28.0, 31.0, 20.0, 27.0, 38.0, 37.0, 36.0, 35.0, 50.0, 75.0, 32.0, 34.0, 24.0, 37.0, 33.0, 37.0, 55.0, 31.0, 54.0, 37.0, 48.0, 28.0, 31.0, 48.0, 58.0, 19.0, 28.0, 21.0, 57.0, 17.0, 22.0, 26.0, 31.0, 61.0, 54.0, 28.0, 30.0, 30.0, 28.0, 26.0, 28.0, 21.0, 31.0, 27.0, 34.0, 22.0, 29.0, 38.0, 51.0, 34.0, 30.0, 33.0, 21.0, 39.0, 37.0, 34.0, 47.0, 29.0, 29.0, 44.0, 53.0, 45.0, 19.0, 40.0, 33.0, 45.0, 40.0, 27.0, 63.0, 50.0, 25.0, 39.0, 42.0, 25.0, 24.0, 37.11793090137039, 37.11793090137039, 62.0, 34.0, 33.0, 56.0, 22.0, 46.0, 41.0, 38.0, 22.0, 42.0, 29.0, 56.0, 32.0, 31.0, 21.0, 31.0, 48.0, 58.0, 32.0, 45.0, 37.0, 20.0, 34.0, 31.0, 26.0, 32.0, 66.0, 37.0, 38.0, 44.0, 28.0, 22.0, 59.0, 20.0, 39.0, 30.0, 27.0, 37.11793090137039, 37.0, 52.0, 35.0, 33.0, 27.0, 27.0, 41.0, 28.0, 26.0, 37.11793090137039, 34.0, 34.0, 38.0, 32.0, 50.0, 55.0, 51.0, 18.0, 42.0, 36.0, 37.0, 28.0, 24.0, 34.0, 22.0, 42.0, 48.0, 51.0, 40.0, 34.0, 30.0, 31.0, 54.0, 60.0, 40.0, 37.11793090137039, 40.0, 68.0, 68.0, 60.0, 16.0, 25.0, 20.0, 21.0, 38.0, 28.0, 18.0, 37.11793090137039, 26.0, 31.0, 58.0, 31.0, 41.0, 41.0, 41.0, 23.0, 17.0, 35.0, 65.0, 51.0, 47.0, 42.0, 42.0, 31.0, 23.0, 50.0, 47.0, 66.0, 55.0, 68.0, 31.0, 24.0, 30.0, 34.0, 23.0, 43.0, 22.0, 22.0, 42.0, 65.0, 18.0, 23.0, 52.0, 40.0, 27.0, 34.0, 25.0, 28.0, 37.11793090137039, 27.0, 41.0, 27.0, 38.0, 29.0, 47.0, 28.0, 38.0, 21.0, 44.0, 61.0, 25.0, 40.0, 26.0, 57.0, 57.0, 24.0, 46.0, 38.0, 24.0, 34.0, 65.0, 60.0, 59.0, 23.0, 35.0, 35.0, 16.0, 37.11793090137039, 42.0, 43.0, 52.0, 31.0, 27.0, 31.0, 34.0, 29.0, 34.0, 37.11793090137039, 18.0, 51.0, 25.0, 28.0, 37.0, 37.11793090137039, 23.0, 57.0, 49.0, 24.0, 20.0, 25.0, 26.0, 26.0, 41.0, 31.0, 30.0, 25.0, 57.0, 17.0, 27.0, 30.0, 18.0, 50.0, 21.0, 28.0, 28.0, 33.0, 59.0, 34.0, 37.0, 30.0, 47.0, 34.0, 24.0, 25.0, 37.11793090137039, 47.0, 49.0, 31.0, 47.0, 52.0, 29.0, 45.0, 51.0, 55.0, 35.0, 50.0, 31.0, 47.0, 35.0, 66.0, 19.0, 19.0, 43.0, 57.0, 31.0, 41.0, 39.0, 24.0, 20.0, 32.0, 31.0, 22.0, 60.0, 40.0, 37.0, 34.0, 22.0, 30.0, 26.0, 29.0, 32.0, 32.0, 27.0, 31.0, 35.0, 19.0, 34.0, 32.0, 43.0, 22.0, 43.0, 27.0, 39.0, 37.0, 20.0, 34.0, 32.0, 15.0, 52.0, 53.0, 24.0, 41.0, 17.0, 44.0, 56.0, 23.0, 32.0, 26.0, 41.0, 56.0, 33.0, 37.0, 41.0, 38.0, 67.0, 45.0, 48.0, 31.0, 47.0, 40.0, 40.0, 34.0, 51.0, 33.0, 25.0, 41.0, 19.0, 21.0, 58.0, 63.0, 37.11793090137039, 58.0, 16.0, 31.0, 33.0, 40.0, 34.0, 29.0, 27.0, 23.0, 38.0, 17.0, 75.0, 40.0, 36.0, 27.0, 28.0, 20.0, 38.0, 16.0, 30.0, 30.0, 30.0, 36.0, 33.0, 39.0, 22.0, 49.0, 45.0, 45.0, 30.0, 30.0, 31.0, 73.0, 39.0, 37.0, 37.11793090137039, 31.0, 25.0, 24.0, 27.0, 37.11793090137039, 32.0, 43.0, 84.0, 29.0, 31.0, 57.0, 37.0, 29.0, 47.0, 44.0, 38.0, 32.0, 26.0, 21.0, 47.0, 30.0, 62.0, 41.0, 50.0, 37.11793090137039, 31.0, 30.0, 32.0, 20.0, 38.0, 25.0, 47.0, 19.0, 35.0, 58.0, 18.0, 42.0, 39.0, 61.0, 51.0, 28.0, 33.0, 47.0, 39.0, 31.0, 18.0, 23.0, 46.0, 50.0, 34.0, 32.0, 45.0, 31.0, 19.0, 53.0, 55.0, 32.0, 46.0, 26.0, 46.0, 22.0, 38.0, 44.0, 37.0, 52.0, 29.0, 19.0, 66.0, 40.0, 30.0, 69.0, 27.0, 62.0, 37.11793090137039, 39.0, 67.0, 54.0, 29.0, 33.0, 31.0, 38.0, 28.0, 45.0, 59.0, 17.0, 19.0, 36.0, 39.0, 37.11793090137039, 33.0, 31.0, 29.0, 51.0, 35.0, 36.0, 31.0, 39.0, 58.0, 39.0, 24.0, 48.0, 31.0, 37.11793090137039, 43.0, 33.0, 24.0, 40.0, 28.0, 24.0, 27.0, 40.0, 35.0, 42.0, 42.0, 24.0, 59.0, 61.0, 26.0, 32.0, 50.0, 38.0, 29.0, 27.0, 43.0, 21.0, 36.0, 24.0, 32.0, 26.0, 54.0, 44.0, 69.0, 45.0, 26.0, 43.0, 38.0, 21.0, 23.0, 56.0, 33.0, 40.0, 21.0, 20.0, 21.0, 47.0, 38.0, 31.0, 51.0, 19.0, 21.0, 48.0, 42.0, 30.0, 47.0, 57.0, 27.0, 50.0, 37.0, 24.0, 24.0, 30.0, 49.0, 47.0, 31.0, 33.0, 29.0, 42.0, 38.0, 25.0, 39.0, 64.0, 28.0, 32.0, 69.0, 29.0, 45.0, 40.0, 60.0, 22.0, 28.0, 38.0, 28.0, 37.0, 22.0, 42.0, 18.0, 38.0, 58.0, 50.0, 31.0, 35.0, 53.0, 31.0, 35.0, 22.0, 37.11793090137039, 32.0, 39.0, 44.0, 46.0, 49.0, 32.0, 53.0, 25.0, 36.0, 22.0, 33.0, 39.0, 44.0, 25.0, 36.0, 42.0, 24.0, 22.0, 35.0, 38.0, 28.0, 26.0, 62.0, 27.0, 23.0, 25.0, 22.0, 31.0]}],\n",
       "                        {\"template\": {\"data\": {\"bar\": [{\"error_x\": {\"color\": \"#2a3f5f\"}, \"error_y\": {\"color\": \"#2a3f5f\"}, \"marker\": {\"line\": {\"color\": \"#E5ECF6\", \"width\": 0.5}}, \"type\": \"bar\"}], \"barpolar\": [{\"marker\": {\"line\": {\"color\": \"#E5ECF6\", \"width\": 0.5}}, \"type\": \"barpolar\"}], \"carpet\": [{\"aaxis\": {\"endlinecolor\": \"#2a3f5f\", \"gridcolor\": \"white\", \"linecolor\": \"white\", \"minorgridcolor\": \"white\", \"startlinecolor\": \"#2a3f5f\"}, \"baxis\": {\"endlinecolor\": \"#2a3f5f\", \"gridcolor\": \"white\", \"linecolor\": \"white\", \"minorgridcolor\": \"white\", \"startlinecolor\": \"#2a3f5f\"}, \"type\": \"carpet\"}], \"choropleth\": [{\"colorbar\": {\"outlinewidth\": 0, \"ticks\": \"\"}, \"type\": \"choropleth\"}], \"contour\": [{\"colorbar\": {\"outlinewidth\": 0, \"ticks\": \"\"}, \"colorscale\": [[0.0, \"#0d0887\"], [0.1111111111111111, \"#46039f\"], [0.2222222222222222, \"#7201a8\"], [0.3333333333333333, \"#9c179e\"], [0.4444444444444444, \"#bd3786\"], [0.5555555555555556, \"#d8576b\"], [0.6666666666666666, \"#ed7953\"], [0.7777777777777778, \"#fb9f3a\"], [0.8888888888888888, \"#fdca26\"], [1.0, \"#f0f921\"]], \"type\": \"contour\"}], \"contourcarpet\": [{\"colorbar\": {\"outlinewidth\": 0, \"ticks\": \"\"}, \"type\": \"contourcarpet\"}], \"heatmap\": [{\"colorbar\": {\"outlinewidth\": 0, \"ticks\": \"\"}, \"colorscale\": [[0.0, \"#0d0887\"], [0.1111111111111111, \"#46039f\"], [0.2222222222222222, \"#7201a8\"], [0.3333333333333333, \"#9c179e\"], [0.4444444444444444, \"#bd3786\"], [0.5555555555555556, \"#d8576b\"], [0.6666666666666666, \"#ed7953\"], [0.7777777777777778, \"#fb9f3a\"], [0.8888888888888888, \"#fdca26\"], [1.0, \"#f0f921\"]], \"type\": \"heatmap\"}], \"heatmapgl\": [{\"colorbar\": {\"outlinewidth\": 0, \"ticks\": \"\"}, \"colorscale\": [[0.0, \"#0d0887\"], [0.1111111111111111, \"#46039f\"], [0.2222222222222222, \"#7201a8\"], [0.3333333333333333, \"#9c179e\"], [0.4444444444444444, \"#bd3786\"], [0.5555555555555556, \"#d8576b\"], [0.6666666666666666, \"#ed7953\"], [0.7777777777777778, \"#fb9f3a\"], [0.8888888888888888, \"#fdca26\"], [1.0, \"#f0f921\"]], \"type\": \"heatmapgl\"}], \"histogram\": [{\"marker\": {\"colorbar\": {\"outlinewidth\": 0, \"ticks\": \"\"}}, \"type\": \"histogram\"}], \"histogram2d\": [{\"colorbar\": {\"outlinewidth\": 0, \"ticks\": \"\"}, \"colorscale\": [[0.0, \"#0d0887\"], [0.1111111111111111, \"#46039f\"], [0.2222222222222222, \"#7201a8\"], [0.3333333333333333, \"#9c179e\"], [0.4444444444444444, \"#bd3786\"], [0.5555555555555556, \"#d8576b\"], [0.6666666666666666, \"#ed7953\"], [0.7777777777777778, \"#fb9f3a\"], [0.8888888888888888, \"#fdca26\"], [1.0, \"#f0f921\"]], \"type\": \"histogram2d\"}], \"histogram2dcontour\": [{\"colorbar\": {\"outlinewidth\": 0, \"ticks\": \"\"}, \"colorscale\": [[0.0, \"#0d0887\"], [0.1111111111111111, \"#46039f\"], [0.2222222222222222, \"#7201a8\"], [0.3333333333333333, \"#9c179e\"], [0.4444444444444444, \"#bd3786\"], [0.5555555555555556, \"#d8576b\"], [0.6666666666666666, \"#ed7953\"], [0.7777777777777778, \"#fb9f3a\"], [0.8888888888888888, \"#fdca26\"], [1.0, \"#f0f921\"]], \"type\": \"histogram2dcontour\"}], \"mesh3d\": [{\"colorbar\": {\"outlinewidth\": 0, \"ticks\": \"\"}, \"type\": \"mesh3d\"}], \"parcoords\": [{\"line\": {\"colorbar\": {\"outlinewidth\": 0, \"ticks\": \"\"}}, \"type\": \"parcoords\"}], \"pie\": [{\"automargin\": true, \"type\": \"pie\"}], \"scatter\": [{\"marker\": {\"colorbar\": {\"outlinewidth\": 0, \"ticks\": \"\"}}, \"type\": \"scatter\"}], \"scatter3d\": [{\"line\": {\"colorbar\": {\"outlinewidth\": 0, \"ticks\": \"\"}}, \"marker\": {\"colorbar\": {\"outlinewidth\": 0, \"ticks\": \"\"}}, \"type\": \"scatter3d\"}], \"scattercarpet\": [{\"marker\": {\"colorbar\": {\"outlinewidth\": 0, \"ticks\": \"\"}}, \"type\": \"scattercarpet\"}], \"scattergeo\": [{\"marker\": {\"colorbar\": {\"outlinewidth\": 0, \"ticks\": \"\"}}, \"type\": \"scattergeo\"}], \"scattergl\": [{\"marker\": {\"colorbar\": {\"outlinewidth\": 0, \"ticks\": \"\"}}, \"type\": \"scattergl\"}], \"scattermapbox\": [{\"marker\": {\"colorbar\": {\"outlinewidth\": 0, \"ticks\": \"\"}}, \"type\": \"scattermapbox\"}], \"scatterpolar\": [{\"marker\": {\"colorbar\": {\"outlinewidth\": 0, \"ticks\": \"\"}}, \"type\": \"scatterpolar\"}], \"scatterpolargl\": [{\"marker\": {\"colorbar\": {\"outlinewidth\": 0, \"ticks\": \"\"}}, \"type\": \"scatterpolargl\"}], \"scatterternary\": [{\"marker\": {\"colorbar\": {\"outlinewidth\": 0, \"ticks\": \"\"}}, \"type\": \"scatterternary\"}], \"surface\": [{\"colorbar\": {\"outlinewidth\": 0, \"ticks\": \"\"}, \"colorscale\": [[0.0, \"#0d0887\"], [0.1111111111111111, \"#46039f\"], [0.2222222222222222, \"#7201a8\"], [0.3333333333333333, \"#9c179e\"], [0.4444444444444444, \"#bd3786\"], [0.5555555555555556, \"#d8576b\"], [0.6666666666666666, \"#ed7953\"], [0.7777777777777778, \"#fb9f3a\"], [0.8888888888888888, \"#fdca26\"], [1.0, \"#f0f921\"]], \"type\": \"surface\"}], \"table\": [{\"cells\": {\"fill\": {\"color\": \"#EBF0F8\"}, \"line\": {\"color\": \"white\"}}, \"header\": {\"fill\": {\"color\": \"#C8D4E3\"}, \"line\": {\"color\": \"white\"}}, \"type\": \"table\"}]}, \"layout\": {\"annotationdefaults\": {\"arrowcolor\": \"#2a3f5f\", \"arrowhead\": 0, \"arrowwidth\": 1}, \"coloraxis\": {\"colorbar\": {\"outlinewidth\": 0, \"ticks\": \"\"}}, \"colorscale\": {\"diverging\": [[0, \"#8e0152\"], [0.1, \"#c51b7d\"], [0.2, \"#de77ae\"], [0.3, \"#f1b6da\"], [0.4, \"#fde0ef\"], [0.5, \"#f7f7f7\"], [0.6, \"#e6f5d0\"], [0.7, \"#b8e186\"], [0.8, \"#7fbc41\"], [0.9, \"#4d9221\"], [1, \"#276419\"]], \"sequential\": [[0.0, \"#0d0887\"], [0.1111111111111111, \"#46039f\"], [0.2222222222222222, \"#7201a8\"], [0.3333333333333333, \"#9c179e\"], [0.4444444444444444, \"#bd3786\"], [0.5555555555555556, \"#d8576b\"], [0.6666666666666666, \"#ed7953\"], [0.7777777777777778, \"#fb9f3a\"], [0.8888888888888888, \"#fdca26\"], [1.0, \"#f0f921\"]], \"sequentialminus\": [[0.0, \"#0d0887\"], [0.1111111111111111, \"#46039f\"], [0.2222222222222222, \"#7201a8\"], [0.3333333333333333, \"#9c179e\"], [0.4444444444444444, \"#bd3786\"], [0.5555555555555556, \"#d8576b\"], [0.6666666666666666, \"#ed7953\"], [0.7777777777777778, \"#fb9f3a\"], [0.8888888888888888, \"#fdca26\"], [1.0, \"#f0f921\"]]}, \"colorway\": [\"#636efa\", \"#EF553B\", \"#00cc96\", \"#ab63fa\", \"#FFA15A\", \"#19d3f3\", \"#FF6692\", \"#B6E880\", \"#FF97FF\", \"#FECB52\"], \"font\": {\"color\": \"#2a3f5f\"}, \"geo\": {\"bgcolor\": \"white\", \"lakecolor\": \"white\", \"landcolor\": \"#E5ECF6\", \"showlakes\": true, \"showland\": true, \"subunitcolor\": \"white\"}, \"hoverlabel\": {\"align\": \"left\"}, \"hovermode\": \"closest\", \"mapbox\": {\"style\": \"light\"}, \"paper_bgcolor\": \"white\", \"plot_bgcolor\": \"#E5ECF6\", \"polar\": {\"angularaxis\": {\"gridcolor\": \"white\", \"linecolor\": \"white\", \"ticks\": \"\"}, \"bgcolor\": \"#E5ECF6\", \"radialaxis\": {\"gridcolor\": \"white\", \"linecolor\": \"white\", \"ticks\": \"\"}}, \"scene\": {\"xaxis\": {\"backgroundcolor\": \"#E5ECF6\", \"gridcolor\": \"white\", \"gridwidth\": 2, \"linecolor\": \"white\", \"showbackground\": true, \"ticks\": \"\", \"zerolinecolor\": \"white\"}, \"yaxis\": {\"backgroundcolor\": \"#E5ECF6\", \"gridcolor\": \"white\", \"gridwidth\": 2, \"linecolor\": \"white\", \"showbackground\": true, \"ticks\": \"\", \"zerolinecolor\": \"white\"}, \"zaxis\": {\"backgroundcolor\": \"#E5ECF6\", \"gridcolor\": \"white\", \"gridwidth\": 2, \"linecolor\": \"white\", \"showbackground\": true, \"ticks\": \"\", \"zerolinecolor\": \"white\"}}, \"shapedefaults\": {\"line\": {\"color\": \"#2a3f5f\"}}, \"ternary\": {\"aaxis\": {\"gridcolor\": \"white\", \"linecolor\": \"white\", \"ticks\": \"\"}, \"baxis\": {\"gridcolor\": \"white\", \"linecolor\": \"white\", \"ticks\": \"\"}, \"bgcolor\": \"#E5ECF6\", \"caxis\": {\"gridcolor\": \"white\", \"linecolor\": \"white\", \"ticks\": \"\"}}, \"title\": {\"x\": 0.05}, \"xaxis\": {\"automargin\": true, \"gridcolor\": \"white\", \"linecolor\": \"white\", \"ticks\": \"\", \"title\": {\"standoff\": 15}, \"zerolinecolor\": \"white\", \"zerolinewidth\": 2}, \"yaxis\": {\"automargin\": true, \"gridcolor\": \"white\", \"linecolor\": \"white\", \"ticks\": \"\", \"title\": {\"standoff\": 15}, \"zerolinecolor\": \"white\", \"zerolinewidth\": 2}}}},\n",
       "                        {\"responsive\": true}\n",
       "                    ).then(function(){\n",
       "                            \n",
       "var gd = document.getElementById('d7b842ac-ad66-49f6-8f90-e6597232d7d6');\n",
       "var x = new MutationObserver(function (mutations, observer) {{\n",
       "        var display = window.getComputedStyle(gd).display;\n",
       "        if (!display || display === 'none') {{\n",
       "            console.log([gd, 'removed!']);\n",
       "            Plotly.purge(gd);\n",
       "            observer.disconnect();\n",
       "        }}\n",
       "}});\n",
       "\n",
       "// Listen for the removal of the full notebook cells\n",
       "var notebookContainer = gd.closest('#notebook-container');\n",
       "if (notebookContainer) {{\n",
       "    x.observe(notebookContainer, {childList: true});\n",
       "}}\n",
       "\n",
       "// Listen for the clearing of the current output cell\n",
       "var outputEl = gd.closest('.output');\n",
       "if (outputEl) {{\n",
       "    x.observe(outputEl, {childList: true});\n",
       "}}\n",
       "\n",
       "                        })\n",
       "                };\n",
       "                });\n",
       "            </script>\n",
       "        </div>"
      ]
     },
     "metadata": {},
     "output_type": "display_data"
    }
   ],
   "source": [
    "#Violin Graph of Age\n",
    "fig = go.Figure(data=go.Violin(y=df['age'], x0='Age',fillcolor = 'yellowgreen'))\n",
    "fig.show()"
   ]
  },
  {
   "cell_type": "code",
   "execution_count": 63,
   "metadata": {},
   "outputs": [
    {
     "data": {
      "application/vnd.plotly.v1+json": {
       "config": {
        "plotlyServerURL": "https://plot.ly"
       },
       "data": [
        {
         "alignmentgroup": "True",
         "hovertemplate": "count=%{marker.color}<br>gender=%{y}<extra></extra>",
         "legendgroup": "",
         "marker": {
          "color": [
           4673,
           222
          ],
          "coloraxis": "coloraxis"
         },
         "name": "",
         "offsetgroup": "",
         "orientation": "h",
         "showlegend": false,
         "textposition": "auto",
         "type": "bar",
         "x": [
          4673,
          222
         ],
         "xaxis": "x",
         "y": [
          "M",
          "F"
         ],
         "yaxis": "y"
        }
       ],
       "layout": {
        "barmode": "relative",
        "coloraxis": {
         "colorbar": {
          "title": {
           "text": "count"
          }
         },
         "colorscale": [
          [
           0,
           "#0d0887"
          ],
          [
           0.1111111111111111,
           "#46039f"
          ],
          [
           0.2222222222222222,
           "#7201a8"
          ],
          [
           0.3333333333333333,
           "#9c179e"
          ],
          [
           0.4444444444444444,
           "#bd3786"
          ],
          [
           0.5555555555555556,
           "#d8576b"
          ],
          [
           0.6666666666666666,
           "#ed7953"
          ],
          [
           0.7777777777777778,
           "#fb9f3a"
          ],
          [
           0.8888888888888888,
           "#fdca26"
          ],
          [
           1,
           "#f0f921"
          ]
         ]
        },
        "height": 400,
        "legend": {
         "tracegroupgap": 0
        },
        "template": {
         "data": {
          "bar": [
           {
            "error_x": {
             "color": "#2a3f5f"
            },
            "error_y": {
             "color": "#2a3f5f"
            },
            "marker": {
             "line": {
              "color": "#E5ECF6",
              "width": 0.5
             }
            },
            "type": "bar"
           }
          ],
          "barpolar": [
           {
            "marker": {
             "line": {
              "color": "#E5ECF6",
              "width": 0.5
             }
            },
            "type": "barpolar"
           }
          ],
          "carpet": [
           {
            "aaxis": {
             "endlinecolor": "#2a3f5f",
             "gridcolor": "white",
             "linecolor": "white",
             "minorgridcolor": "white",
             "startlinecolor": "#2a3f5f"
            },
            "baxis": {
             "endlinecolor": "#2a3f5f",
             "gridcolor": "white",
             "linecolor": "white",
             "minorgridcolor": "white",
             "startlinecolor": "#2a3f5f"
            },
            "type": "carpet"
           }
          ],
          "choropleth": [
           {
            "colorbar": {
             "outlinewidth": 0,
             "ticks": ""
            },
            "type": "choropleth"
           }
          ],
          "contour": [
           {
            "colorbar": {
             "outlinewidth": 0,
             "ticks": ""
            },
            "colorscale": [
             [
              0,
              "#0d0887"
             ],
             [
              0.1111111111111111,
              "#46039f"
             ],
             [
              0.2222222222222222,
              "#7201a8"
             ],
             [
              0.3333333333333333,
              "#9c179e"
             ],
             [
              0.4444444444444444,
              "#bd3786"
             ],
             [
              0.5555555555555556,
              "#d8576b"
             ],
             [
              0.6666666666666666,
              "#ed7953"
             ],
             [
              0.7777777777777778,
              "#fb9f3a"
             ],
             [
              0.8888888888888888,
              "#fdca26"
             ],
             [
              1,
              "#f0f921"
             ]
            ],
            "type": "contour"
           }
          ],
          "contourcarpet": [
           {
            "colorbar": {
             "outlinewidth": 0,
             "ticks": ""
            },
            "type": "contourcarpet"
           }
          ],
          "heatmap": [
           {
            "colorbar": {
             "outlinewidth": 0,
             "ticks": ""
            },
            "colorscale": [
             [
              0,
              "#0d0887"
             ],
             [
              0.1111111111111111,
              "#46039f"
             ],
             [
              0.2222222222222222,
              "#7201a8"
             ],
             [
              0.3333333333333333,
              "#9c179e"
             ],
             [
              0.4444444444444444,
              "#bd3786"
             ],
             [
              0.5555555555555556,
              "#d8576b"
             ],
             [
              0.6666666666666666,
              "#ed7953"
             ],
             [
              0.7777777777777778,
              "#fb9f3a"
             ],
             [
              0.8888888888888888,
              "#fdca26"
             ],
             [
              1,
              "#f0f921"
             ]
            ],
            "type": "heatmap"
           }
          ],
          "heatmapgl": [
           {
            "colorbar": {
             "outlinewidth": 0,
             "ticks": ""
            },
            "colorscale": [
             [
              0,
              "#0d0887"
             ],
             [
              0.1111111111111111,
              "#46039f"
             ],
             [
              0.2222222222222222,
              "#7201a8"
             ],
             [
              0.3333333333333333,
              "#9c179e"
             ],
             [
              0.4444444444444444,
              "#bd3786"
             ],
             [
              0.5555555555555556,
              "#d8576b"
             ],
             [
              0.6666666666666666,
              "#ed7953"
             ],
             [
              0.7777777777777778,
              "#fb9f3a"
             ],
             [
              0.8888888888888888,
              "#fdca26"
             ],
             [
              1,
              "#f0f921"
             ]
            ],
            "type": "heatmapgl"
           }
          ],
          "histogram": [
           {
            "marker": {
             "colorbar": {
              "outlinewidth": 0,
              "ticks": ""
             }
            },
            "type": "histogram"
           }
          ],
          "histogram2d": [
           {
            "colorbar": {
             "outlinewidth": 0,
             "ticks": ""
            },
            "colorscale": [
             [
              0,
              "#0d0887"
             ],
             [
              0.1111111111111111,
              "#46039f"
             ],
             [
              0.2222222222222222,
              "#7201a8"
             ],
             [
              0.3333333333333333,
              "#9c179e"
             ],
             [
              0.4444444444444444,
              "#bd3786"
             ],
             [
              0.5555555555555556,
              "#d8576b"
             ],
             [
              0.6666666666666666,
              "#ed7953"
             ],
             [
              0.7777777777777778,
              "#fb9f3a"
             ],
             [
              0.8888888888888888,
              "#fdca26"
             ],
             [
              1,
              "#f0f921"
             ]
            ],
            "type": "histogram2d"
           }
          ],
          "histogram2dcontour": [
           {
            "colorbar": {
             "outlinewidth": 0,
             "ticks": ""
            },
            "colorscale": [
             [
              0,
              "#0d0887"
             ],
             [
              0.1111111111111111,
              "#46039f"
             ],
             [
              0.2222222222222222,
              "#7201a8"
             ],
             [
              0.3333333333333333,
              "#9c179e"
             ],
             [
              0.4444444444444444,
              "#bd3786"
             ],
             [
              0.5555555555555556,
              "#d8576b"
             ],
             [
              0.6666666666666666,
              "#ed7953"
             ],
             [
              0.7777777777777778,
              "#fb9f3a"
             ],
             [
              0.8888888888888888,
              "#fdca26"
             ],
             [
              1,
              "#f0f921"
             ]
            ],
            "type": "histogram2dcontour"
           }
          ],
          "mesh3d": [
           {
            "colorbar": {
             "outlinewidth": 0,
             "ticks": ""
            },
            "type": "mesh3d"
           }
          ],
          "parcoords": [
           {
            "line": {
             "colorbar": {
              "outlinewidth": 0,
              "ticks": ""
             }
            },
            "type": "parcoords"
           }
          ],
          "pie": [
           {
            "automargin": true,
            "type": "pie"
           }
          ],
          "scatter": [
           {
            "marker": {
             "colorbar": {
              "outlinewidth": 0,
              "ticks": ""
             }
            },
            "type": "scatter"
           }
          ],
          "scatter3d": [
           {
            "line": {
             "colorbar": {
              "outlinewidth": 0,
              "ticks": ""
             }
            },
            "marker": {
             "colorbar": {
              "outlinewidth": 0,
              "ticks": ""
             }
            },
            "type": "scatter3d"
           }
          ],
          "scattercarpet": [
           {
            "marker": {
             "colorbar": {
              "outlinewidth": 0,
              "ticks": ""
             }
            },
            "type": "scattercarpet"
           }
          ],
          "scattergeo": [
           {
            "marker": {
             "colorbar": {
              "outlinewidth": 0,
              "ticks": ""
             }
            },
            "type": "scattergeo"
           }
          ],
          "scattergl": [
           {
            "marker": {
             "colorbar": {
              "outlinewidth": 0,
              "ticks": ""
             }
            },
            "type": "scattergl"
           }
          ],
          "scattermapbox": [
           {
            "marker": {
             "colorbar": {
              "outlinewidth": 0,
              "ticks": ""
             }
            },
            "type": "scattermapbox"
           }
          ],
          "scatterpolar": [
           {
            "marker": {
             "colorbar": {
              "outlinewidth": 0,
              "ticks": ""
             }
            },
            "type": "scatterpolar"
           }
          ],
          "scatterpolargl": [
           {
            "marker": {
             "colorbar": {
              "outlinewidth": 0,
              "ticks": ""
             }
            },
            "type": "scatterpolargl"
           }
          ],
          "scatterternary": [
           {
            "marker": {
             "colorbar": {
              "outlinewidth": 0,
              "ticks": ""
             }
            },
            "type": "scatterternary"
           }
          ],
          "surface": [
           {
            "colorbar": {
             "outlinewidth": 0,
             "ticks": ""
            },
            "colorscale": [
             [
              0,
              "#0d0887"
             ],
             [
              0.1111111111111111,
              "#46039f"
             ],
             [
              0.2222222222222222,
              "#7201a8"
             ],
             [
              0.3333333333333333,
              "#9c179e"
             ],
             [
              0.4444444444444444,
              "#bd3786"
             ],
             [
              0.5555555555555556,
              "#d8576b"
             ],
             [
              0.6666666666666666,
              "#ed7953"
             ],
             [
              0.7777777777777778,
              "#fb9f3a"
             ],
             [
              0.8888888888888888,
              "#fdca26"
             ],
             [
              1,
              "#f0f921"
             ]
            ],
            "type": "surface"
           }
          ],
          "table": [
           {
            "cells": {
             "fill": {
              "color": "#EBF0F8"
             },
             "line": {
              "color": "white"
             }
            },
            "header": {
             "fill": {
              "color": "#C8D4E3"
             },
             "line": {
              "color": "white"
             }
            },
            "type": "table"
           }
          ]
         },
         "layout": {
          "annotationdefaults": {
           "arrowcolor": "#2a3f5f",
           "arrowhead": 0,
           "arrowwidth": 1
          },
          "coloraxis": {
           "colorbar": {
            "outlinewidth": 0,
            "ticks": ""
           }
          },
          "colorscale": {
           "diverging": [
            [
             0,
             "#8e0152"
            ],
            [
             0.1,
             "#c51b7d"
            ],
            [
             0.2,
             "#de77ae"
            ],
            [
             0.3,
             "#f1b6da"
            ],
            [
             0.4,
             "#fde0ef"
            ],
            [
             0.5,
             "#f7f7f7"
            ],
            [
             0.6,
             "#e6f5d0"
            ],
            [
             0.7,
             "#b8e186"
            ],
            [
             0.8,
             "#7fbc41"
            ],
            [
             0.9,
             "#4d9221"
            ],
            [
             1,
             "#276419"
            ]
           ],
           "sequential": [
            [
             0,
             "#0d0887"
            ],
            [
             0.1111111111111111,
             "#46039f"
            ],
            [
             0.2222222222222222,
             "#7201a8"
            ],
            [
             0.3333333333333333,
             "#9c179e"
            ],
            [
             0.4444444444444444,
             "#bd3786"
            ],
            [
             0.5555555555555556,
             "#d8576b"
            ],
            [
             0.6666666666666666,
             "#ed7953"
            ],
            [
             0.7777777777777778,
             "#fb9f3a"
            ],
            [
             0.8888888888888888,
             "#fdca26"
            ],
            [
             1,
             "#f0f921"
            ]
           ],
           "sequentialminus": [
            [
             0,
             "#0d0887"
            ],
            [
             0.1111111111111111,
             "#46039f"
            ],
            [
             0.2222222222222222,
             "#7201a8"
            ],
            [
             0.3333333333333333,
             "#9c179e"
            ],
            [
             0.4444444444444444,
             "#bd3786"
            ],
            [
             0.5555555555555556,
             "#d8576b"
            ],
            [
             0.6666666666666666,
             "#ed7953"
            ],
            [
             0.7777777777777778,
             "#fb9f3a"
            ],
            [
             0.8888888888888888,
             "#fdca26"
            ],
            [
             1,
             "#f0f921"
            ]
           ]
          },
          "colorway": [
           "#636efa",
           "#EF553B",
           "#00cc96",
           "#ab63fa",
           "#FFA15A",
           "#19d3f3",
           "#FF6692",
           "#B6E880",
           "#FF97FF",
           "#FECB52"
          ],
          "font": {
           "color": "#2a3f5f"
          },
          "geo": {
           "bgcolor": "white",
           "lakecolor": "white",
           "landcolor": "#E5ECF6",
           "showlakes": true,
           "showland": true,
           "subunitcolor": "white"
          },
          "hoverlabel": {
           "align": "left"
          },
          "hovermode": "closest",
          "mapbox": {
           "style": "light"
          },
          "paper_bgcolor": "white",
          "plot_bgcolor": "#E5ECF6",
          "polar": {
           "angularaxis": {
            "gridcolor": "white",
            "linecolor": "white",
            "ticks": ""
           },
           "bgcolor": "#E5ECF6",
           "radialaxis": {
            "gridcolor": "white",
            "linecolor": "white",
            "ticks": ""
           }
          },
          "scene": {
           "xaxis": {
            "backgroundcolor": "#E5ECF6",
            "gridcolor": "white",
            "gridwidth": 2,
            "linecolor": "white",
            "showbackground": true,
            "ticks": "",
            "zerolinecolor": "white"
           },
           "yaxis": {
            "backgroundcolor": "#E5ECF6",
            "gridcolor": "white",
            "gridwidth": 2,
            "linecolor": "white",
            "showbackground": true,
            "ticks": "",
            "zerolinecolor": "white"
           },
           "zaxis": {
            "backgroundcolor": "#E5ECF6",
            "gridcolor": "white",
            "gridwidth": 2,
            "linecolor": "white",
            "showbackground": true,
            "ticks": "",
            "zerolinecolor": "white"
           }
          },
          "shapedefaults": {
           "line": {
            "color": "#2a3f5f"
           }
          },
          "ternary": {
           "aaxis": {
            "gridcolor": "white",
            "linecolor": "white",
            "ticks": ""
           },
           "baxis": {
            "gridcolor": "white",
            "linecolor": "white",
            "ticks": ""
           },
           "bgcolor": "#E5ECF6",
           "caxis": {
            "gridcolor": "white",
            "linecolor": "white",
            "ticks": ""
           }
          },
          "title": {
           "x": 0.05
          },
          "xaxis": {
           "automargin": true,
           "gridcolor": "white",
           "linecolor": "white",
           "ticks": "",
           "title": {
            "standoff": 15
           },
           "zerolinecolor": "white",
           "zerolinewidth": 2
          },
          "yaxis": {
           "automargin": true,
           "gridcolor": "white",
           "linecolor": "white",
           "ticks": "",
           "title": {
            "standoff": 15
           },
           "zerolinecolor": "white",
           "zerolinewidth": 2
          }
         }
        },
        "title": {
         "text": "Gender distribution"
        },
        "width": 700,
        "xaxis": {
         "anchor": "y",
         "domain": [
          0,
          1
         ],
         "title": {
          "text": "count"
         }
        },
        "yaxis": {
         "anchor": "x",
         "domain": [
          0,
          1
         ],
         "title": {
          "text": "gender"
         }
        }
       }
      },
      "text/html": [
       "<div>\n",
       "        \n",
       "        \n",
       "            <div id=\"5edffd33-63b4-4757-8acc-8f22dbcb55f2\" class=\"plotly-graph-div\" style=\"height:400px; width:700px;\"></div>\n",
       "            <script type=\"text/javascript\">\n",
       "                require([\"plotly\"], function(Plotly) {\n",
       "                    window.PLOTLYENV=window.PLOTLYENV || {};\n",
       "                    \n",
       "                if (document.getElementById(\"5edffd33-63b4-4757-8acc-8f22dbcb55f2\")) {\n",
       "                    Plotly.newPlot(\n",
       "                        '5edffd33-63b4-4757-8acc-8f22dbcb55f2',\n",
       "                        [{\"alignmentgroup\": \"True\", \"hovertemplate\": \"count=%{marker.color}<br>gender=%{y}<extra></extra>\", \"legendgroup\": \"\", \"marker\": {\"color\": [4673, 222], \"coloraxis\": \"coloraxis\"}, \"name\": \"\", \"offsetgroup\": \"\", \"orientation\": \"h\", \"showlegend\": false, \"textposition\": \"auto\", \"type\": \"bar\", \"x\": [4673, 222], \"xaxis\": \"x\", \"y\": [\"M\", \"F\"], \"yaxis\": \"y\"}],\n",
       "                        {\"barmode\": \"relative\", \"coloraxis\": {\"colorbar\": {\"title\": {\"text\": \"count\"}}, \"colorscale\": [[0.0, \"#0d0887\"], [0.1111111111111111, \"#46039f\"], [0.2222222222222222, \"#7201a8\"], [0.3333333333333333, \"#9c179e\"], [0.4444444444444444, \"#bd3786\"], [0.5555555555555556, \"#d8576b\"], [0.6666666666666666, \"#ed7953\"], [0.7777777777777778, \"#fb9f3a\"], [0.8888888888888888, \"#fdca26\"], [1.0, \"#f0f921\"]]}, \"height\": 400, \"legend\": {\"tracegroupgap\": 0}, \"template\": {\"data\": {\"bar\": [{\"error_x\": {\"color\": \"#2a3f5f\"}, \"error_y\": {\"color\": \"#2a3f5f\"}, \"marker\": {\"line\": {\"color\": \"#E5ECF6\", \"width\": 0.5}}, \"type\": \"bar\"}], \"barpolar\": [{\"marker\": {\"line\": {\"color\": \"#E5ECF6\", \"width\": 0.5}}, \"type\": \"barpolar\"}], \"carpet\": [{\"aaxis\": {\"endlinecolor\": \"#2a3f5f\", \"gridcolor\": \"white\", \"linecolor\": \"white\", \"minorgridcolor\": \"white\", \"startlinecolor\": \"#2a3f5f\"}, \"baxis\": {\"endlinecolor\": \"#2a3f5f\", \"gridcolor\": \"white\", \"linecolor\": \"white\", \"minorgridcolor\": \"white\", \"startlinecolor\": \"#2a3f5f\"}, \"type\": \"carpet\"}], \"choropleth\": [{\"colorbar\": {\"outlinewidth\": 0, \"ticks\": \"\"}, \"type\": \"choropleth\"}], \"contour\": [{\"colorbar\": {\"outlinewidth\": 0, \"ticks\": \"\"}, \"colorscale\": [[0.0, \"#0d0887\"], [0.1111111111111111, \"#46039f\"], [0.2222222222222222, \"#7201a8\"], [0.3333333333333333, \"#9c179e\"], [0.4444444444444444, \"#bd3786\"], [0.5555555555555556, \"#d8576b\"], [0.6666666666666666, \"#ed7953\"], [0.7777777777777778, \"#fb9f3a\"], [0.8888888888888888, \"#fdca26\"], [1.0, \"#f0f921\"]], \"type\": \"contour\"}], \"contourcarpet\": [{\"colorbar\": {\"outlinewidth\": 0, \"ticks\": \"\"}, \"type\": \"contourcarpet\"}], \"heatmap\": [{\"colorbar\": {\"outlinewidth\": 0, \"ticks\": \"\"}, \"colorscale\": [[0.0, \"#0d0887\"], [0.1111111111111111, \"#46039f\"], [0.2222222222222222, \"#7201a8\"], [0.3333333333333333, \"#9c179e\"], [0.4444444444444444, \"#bd3786\"], [0.5555555555555556, \"#d8576b\"], [0.6666666666666666, \"#ed7953\"], [0.7777777777777778, \"#fb9f3a\"], [0.8888888888888888, \"#fdca26\"], [1.0, \"#f0f921\"]], \"type\": \"heatmap\"}], \"heatmapgl\": [{\"colorbar\": {\"outlinewidth\": 0, \"ticks\": \"\"}, \"colorscale\": [[0.0, \"#0d0887\"], [0.1111111111111111, \"#46039f\"], [0.2222222222222222, \"#7201a8\"], [0.3333333333333333, \"#9c179e\"], [0.4444444444444444, \"#bd3786\"], [0.5555555555555556, \"#d8576b\"], [0.6666666666666666, \"#ed7953\"], [0.7777777777777778, \"#fb9f3a\"], [0.8888888888888888, \"#fdca26\"], [1.0, \"#f0f921\"]], \"type\": \"heatmapgl\"}], \"histogram\": [{\"marker\": {\"colorbar\": {\"outlinewidth\": 0, \"ticks\": \"\"}}, \"type\": \"histogram\"}], \"histogram2d\": [{\"colorbar\": {\"outlinewidth\": 0, \"ticks\": \"\"}, \"colorscale\": [[0.0, \"#0d0887\"], [0.1111111111111111, \"#46039f\"], [0.2222222222222222, \"#7201a8\"], [0.3333333333333333, \"#9c179e\"], [0.4444444444444444, \"#bd3786\"], [0.5555555555555556, \"#d8576b\"], [0.6666666666666666, \"#ed7953\"], [0.7777777777777778, \"#fb9f3a\"], [0.8888888888888888, \"#fdca26\"], [1.0, \"#f0f921\"]], \"type\": \"histogram2d\"}], \"histogram2dcontour\": [{\"colorbar\": {\"outlinewidth\": 0, \"ticks\": \"\"}, \"colorscale\": [[0.0, \"#0d0887\"], [0.1111111111111111, \"#46039f\"], [0.2222222222222222, \"#7201a8\"], [0.3333333333333333, \"#9c179e\"], [0.4444444444444444, \"#bd3786\"], [0.5555555555555556, \"#d8576b\"], [0.6666666666666666, \"#ed7953\"], [0.7777777777777778, \"#fb9f3a\"], [0.8888888888888888, \"#fdca26\"], [1.0, \"#f0f921\"]], \"type\": \"histogram2dcontour\"}], \"mesh3d\": [{\"colorbar\": {\"outlinewidth\": 0, \"ticks\": \"\"}, \"type\": \"mesh3d\"}], \"parcoords\": [{\"line\": {\"colorbar\": {\"outlinewidth\": 0, \"ticks\": \"\"}}, \"type\": \"parcoords\"}], \"pie\": [{\"automargin\": true, \"type\": \"pie\"}], \"scatter\": [{\"marker\": {\"colorbar\": {\"outlinewidth\": 0, \"ticks\": \"\"}}, \"type\": \"scatter\"}], \"scatter3d\": [{\"line\": {\"colorbar\": {\"outlinewidth\": 0, \"ticks\": \"\"}}, \"marker\": {\"colorbar\": {\"outlinewidth\": 0, \"ticks\": \"\"}}, \"type\": \"scatter3d\"}], \"scattercarpet\": [{\"marker\": {\"colorbar\": {\"outlinewidth\": 0, \"ticks\": \"\"}}, \"type\": \"scattercarpet\"}], \"scattergeo\": [{\"marker\": {\"colorbar\": {\"outlinewidth\": 0, \"ticks\": \"\"}}, \"type\": \"scattergeo\"}], \"scattergl\": [{\"marker\": {\"colorbar\": {\"outlinewidth\": 0, \"ticks\": \"\"}}, \"type\": \"scattergl\"}], \"scattermapbox\": [{\"marker\": {\"colorbar\": {\"outlinewidth\": 0, \"ticks\": \"\"}}, \"type\": \"scattermapbox\"}], \"scatterpolar\": [{\"marker\": {\"colorbar\": {\"outlinewidth\": 0, \"ticks\": \"\"}}, \"type\": \"scatterpolar\"}], \"scatterpolargl\": [{\"marker\": {\"colorbar\": {\"outlinewidth\": 0, \"ticks\": \"\"}}, \"type\": \"scatterpolargl\"}], \"scatterternary\": [{\"marker\": {\"colorbar\": {\"outlinewidth\": 0, \"ticks\": \"\"}}, \"type\": \"scatterternary\"}], \"surface\": [{\"colorbar\": {\"outlinewidth\": 0, \"ticks\": \"\"}, \"colorscale\": [[0.0, \"#0d0887\"], [0.1111111111111111, \"#46039f\"], [0.2222222222222222, \"#7201a8\"], [0.3333333333333333, \"#9c179e\"], [0.4444444444444444, \"#bd3786\"], [0.5555555555555556, \"#d8576b\"], [0.6666666666666666, \"#ed7953\"], [0.7777777777777778, \"#fb9f3a\"], [0.8888888888888888, \"#fdca26\"], [1.0, \"#f0f921\"]], \"type\": \"surface\"}], \"table\": [{\"cells\": {\"fill\": {\"color\": \"#EBF0F8\"}, \"line\": {\"color\": \"white\"}}, \"header\": {\"fill\": {\"color\": \"#C8D4E3\"}, \"line\": {\"color\": \"white\"}}, \"type\": \"table\"}]}, \"layout\": {\"annotationdefaults\": {\"arrowcolor\": \"#2a3f5f\", \"arrowhead\": 0, \"arrowwidth\": 1}, \"coloraxis\": {\"colorbar\": {\"outlinewidth\": 0, \"ticks\": \"\"}}, \"colorscale\": {\"diverging\": [[0, \"#8e0152\"], [0.1, \"#c51b7d\"], [0.2, \"#de77ae\"], [0.3, \"#f1b6da\"], [0.4, \"#fde0ef\"], [0.5, \"#f7f7f7\"], [0.6, \"#e6f5d0\"], [0.7, \"#b8e186\"], [0.8, \"#7fbc41\"], [0.9, \"#4d9221\"], [1, \"#276419\"]], \"sequential\": [[0.0, \"#0d0887\"], [0.1111111111111111, \"#46039f\"], [0.2222222222222222, \"#7201a8\"], [0.3333333333333333, \"#9c179e\"], [0.4444444444444444, \"#bd3786\"], [0.5555555555555556, \"#d8576b\"], [0.6666666666666666, \"#ed7953\"], [0.7777777777777778, \"#fb9f3a\"], [0.8888888888888888, \"#fdca26\"], [1.0, \"#f0f921\"]], \"sequentialminus\": [[0.0, \"#0d0887\"], [0.1111111111111111, \"#46039f\"], [0.2222222222222222, \"#7201a8\"], [0.3333333333333333, \"#9c179e\"], [0.4444444444444444, \"#bd3786\"], [0.5555555555555556, \"#d8576b\"], [0.6666666666666666, \"#ed7953\"], [0.7777777777777778, \"#fb9f3a\"], [0.8888888888888888, \"#fdca26\"], [1.0, \"#f0f921\"]]}, \"colorway\": [\"#636efa\", \"#EF553B\", \"#00cc96\", \"#ab63fa\", \"#FFA15A\", \"#19d3f3\", \"#FF6692\", \"#B6E880\", \"#FF97FF\", \"#FECB52\"], \"font\": {\"color\": \"#2a3f5f\"}, \"geo\": {\"bgcolor\": \"white\", \"lakecolor\": \"white\", \"landcolor\": \"#E5ECF6\", \"showlakes\": true, \"showland\": true, \"subunitcolor\": \"white\"}, \"hoverlabel\": {\"align\": \"left\"}, \"hovermode\": \"closest\", \"mapbox\": {\"style\": \"light\"}, \"paper_bgcolor\": \"white\", \"plot_bgcolor\": \"#E5ECF6\", \"polar\": {\"angularaxis\": {\"gridcolor\": \"white\", \"linecolor\": \"white\", \"ticks\": \"\"}, \"bgcolor\": \"#E5ECF6\", \"radialaxis\": {\"gridcolor\": \"white\", \"linecolor\": \"white\", \"ticks\": \"\"}}, \"scene\": {\"xaxis\": {\"backgroundcolor\": \"#E5ECF6\", \"gridcolor\": \"white\", \"gridwidth\": 2, \"linecolor\": \"white\", \"showbackground\": true, \"ticks\": \"\", \"zerolinecolor\": \"white\"}, \"yaxis\": {\"backgroundcolor\": \"#E5ECF6\", \"gridcolor\": \"white\", \"gridwidth\": 2, \"linecolor\": \"white\", \"showbackground\": true, \"ticks\": \"\", \"zerolinecolor\": \"white\"}, \"zaxis\": {\"backgroundcolor\": \"#E5ECF6\", \"gridcolor\": \"white\", \"gridwidth\": 2, \"linecolor\": \"white\", \"showbackground\": true, \"ticks\": \"\", \"zerolinecolor\": \"white\"}}, \"shapedefaults\": {\"line\": {\"color\": \"#2a3f5f\"}}, \"ternary\": {\"aaxis\": {\"gridcolor\": \"white\", \"linecolor\": \"white\", \"ticks\": \"\"}, \"baxis\": {\"gridcolor\": \"white\", \"linecolor\": \"white\", \"ticks\": \"\"}, \"bgcolor\": \"#E5ECF6\", \"caxis\": {\"gridcolor\": \"white\", \"linecolor\": \"white\", \"ticks\": \"\"}}, \"title\": {\"x\": 0.05}, \"xaxis\": {\"automargin\": true, \"gridcolor\": \"white\", \"linecolor\": \"white\", \"ticks\": \"\", \"title\": {\"standoff\": 15}, \"zerolinecolor\": \"white\", \"zerolinewidth\": 2}, \"yaxis\": {\"automargin\": true, \"gridcolor\": \"white\", \"linecolor\": \"white\", \"ticks\": \"\", \"title\": {\"standoff\": 15}, \"zerolinecolor\": \"white\", \"zerolinewidth\": 2}}}, \"title\": {\"text\": \"Gender distribution\"}, \"width\": 700, \"xaxis\": {\"anchor\": \"y\", \"domain\": [0.0, 1.0], \"title\": {\"text\": \"count\"}}, \"yaxis\": {\"anchor\": \"x\", \"domain\": [0.0, 1.0], \"title\": {\"text\": \"gender\"}}},\n",
       "                        {\"responsive\": true}\n",
       "                    ).then(function(){\n",
       "                            \n",
       "var gd = document.getElementById('5edffd33-63b4-4757-8acc-8f22dbcb55f2');\n",
       "var x = new MutationObserver(function (mutations, observer) {{\n",
       "        var display = window.getComputedStyle(gd).display;\n",
       "        if (!display || display === 'none') {{\n",
       "            console.log([gd, 'removed!']);\n",
       "            Plotly.purge(gd);\n",
       "            observer.disconnect();\n",
       "        }}\n",
       "}});\n",
       "\n",
       "// Listen for the removal of the full notebook cells\n",
       "var notebookContainer = gd.closest('#notebook-container');\n",
       "if (notebookContainer) {{\n",
       "    x.observe(notebookContainer, {childList: true});\n",
       "}}\n",
       "\n",
       "// Listen for the clearing of the current output cell\n",
       "var outputEl = gd.closest('.output');\n",
       "if (outputEl) {{\n",
       "    x.observe(outputEl, {childList: true});\n",
       "}}\n",
       "\n",
       "                        })\n",
       "                };\n",
       "                });\n",
       "            </script>\n",
       "        </div>"
      ]
     },
     "metadata": {},
     "output_type": "display_data"
    }
   ],
   "source": [
    "#Visualisation of gender distribution\n",
    "colors = ('deep blue','yellow')\n",
    "data = df['gender'].value_counts().reset_index()\n",
    "data.columns = ['gender', 'count']\n",
    "fig = px.bar(data, x='count', y='gender', orientation='h', title='Gender distribution', width=700, height=400,color = 'count')\n",
    "fig.show()"
   ]
  },
  {
   "cell_type": "code",
   "execution_count": 66,
   "metadata": {},
   "outputs": [
    {
     "data": {
      "application/vnd.plotly.v1+json": {
       "config": {
        "plotlyServerURL": "https://plot.ly"
       },
       "data": [
        {
         "alignmentgroup": "True",
         "hovertemplate": "count=%{x}<br>race=%{y}<extra></extra>",
         "legendgroup": "",
         "marker": {
          "color": "#636efa"
         },
         "name": "",
         "offsetgroup": "",
         "orientation": "h",
         "showlegend": false,
         "textposition": "auto",
         "type": "bar",
         "x": [
          2476,
          1298,
          902,
          93,
          78,
          48
         ],
         "xaxis": "x",
         "y": [
          "White",
          "Black",
          "Hispanic",
          "Asian",
          "Native",
          "Other"
         ],
         "yaxis": "y"
        }
       ],
       "layout": {
        "barmode": "relative",
        "legend": {
         "tracegroupgap": 0
        },
        "template": {
         "data": {
          "bar": [
           {
            "error_x": {
             "color": "#2a3f5f"
            },
            "error_y": {
             "color": "#2a3f5f"
            },
            "marker": {
             "line": {
              "color": "#E5ECF6",
              "width": 0.5
             }
            },
            "type": "bar"
           }
          ],
          "barpolar": [
           {
            "marker": {
             "line": {
              "color": "#E5ECF6",
              "width": 0.5
             }
            },
            "type": "barpolar"
           }
          ],
          "carpet": [
           {
            "aaxis": {
             "endlinecolor": "#2a3f5f",
             "gridcolor": "white",
             "linecolor": "white",
             "minorgridcolor": "white",
             "startlinecolor": "#2a3f5f"
            },
            "baxis": {
             "endlinecolor": "#2a3f5f",
             "gridcolor": "white",
             "linecolor": "white",
             "minorgridcolor": "white",
             "startlinecolor": "#2a3f5f"
            },
            "type": "carpet"
           }
          ],
          "choropleth": [
           {
            "colorbar": {
             "outlinewidth": 0,
             "ticks": ""
            },
            "type": "choropleth"
           }
          ],
          "contour": [
           {
            "colorbar": {
             "outlinewidth": 0,
             "ticks": ""
            },
            "colorscale": [
             [
              0,
              "#0d0887"
             ],
             [
              0.1111111111111111,
              "#46039f"
             ],
             [
              0.2222222222222222,
              "#7201a8"
             ],
             [
              0.3333333333333333,
              "#9c179e"
             ],
             [
              0.4444444444444444,
              "#bd3786"
             ],
             [
              0.5555555555555556,
              "#d8576b"
             ],
             [
              0.6666666666666666,
              "#ed7953"
             ],
             [
              0.7777777777777778,
              "#fb9f3a"
             ],
             [
              0.8888888888888888,
              "#fdca26"
             ],
             [
              1,
              "#f0f921"
             ]
            ],
            "type": "contour"
           }
          ],
          "contourcarpet": [
           {
            "colorbar": {
             "outlinewidth": 0,
             "ticks": ""
            },
            "type": "contourcarpet"
           }
          ],
          "heatmap": [
           {
            "colorbar": {
             "outlinewidth": 0,
             "ticks": ""
            },
            "colorscale": [
             [
              0,
              "#0d0887"
             ],
             [
              0.1111111111111111,
              "#46039f"
             ],
             [
              0.2222222222222222,
              "#7201a8"
             ],
             [
              0.3333333333333333,
              "#9c179e"
             ],
             [
              0.4444444444444444,
              "#bd3786"
             ],
             [
              0.5555555555555556,
              "#d8576b"
             ],
             [
              0.6666666666666666,
              "#ed7953"
             ],
             [
              0.7777777777777778,
              "#fb9f3a"
             ],
             [
              0.8888888888888888,
              "#fdca26"
             ],
             [
              1,
              "#f0f921"
             ]
            ],
            "type": "heatmap"
           }
          ],
          "heatmapgl": [
           {
            "colorbar": {
             "outlinewidth": 0,
             "ticks": ""
            },
            "colorscale": [
             [
              0,
              "#0d0887"
             ],
             [
              0.1111111111111111,
              "#46039f"
             ],
             [
              0.2222222222222222,
              "#7201a8"
             ],
             [
              0.3333333333333333,
              "#9c179e"
             ],
             [
              0.4444444444444444,
              "#bd3786"
             ],
             [
              0.5555555555555556,
              "#d8576b"
             ],
             [
              0.6666666666666666,
              "#ed7953"
             ],
             [
              0.7777777777777778,
              "#fb9f3a"
             ],
             [
              0.8888888888888888,
              "#fdca26"
             ],
             [
              1,
              "#f0f921"
             ]
            ],
            "type": "heatmapgl"
           }
          ],
          "histogram": [
           {
            "marker": {
             "colorbar": {
              "outlinewidth": 0,
              "ticks": ""
             }
            },
            "type": "histogram"
           }
          ],
          "histogram2d": [
           {
            "colorbar": {
             "outlinewidth": 0,
             "ticks": ""
            },
            "colorscale": [
             [
              0,
              "#0d0887"
             ],
             [
              0.1111111111111111,
              "#46039f"
             ],
             [
              0.2222222222222222,
              "#7201a8"
             ],
             [
              0.3333333333333333,
              "#9c179e"
             ],
             [
              0.4444444444444444,
              "#bd3786"
             ],
             [
              0.5555555555555556,
              "#d8576b"
             ],
             [
              0.6666666666666666,
              "#ed7953"
             ],
             [
              0.7777777777777778,
              "#fb9f3a"
             ],
             [
              0.8888888888888888,
              "#fdca26"
             ],
             [
              1,
              "#f0f921"
             ]
            ],
            "type": "histogram2d"
           }
          ],
          "histogram2dcontour": [
           {
            "colorbar": {
             "outlinewidth": 0,
             "ticks": ""
            },
            "colorscale": [
             [
              0,
              "#0d0887"
             ],
             [
              0.1111111111111111,
              "#46039f"
             ],
             [
              0.2222222222222222,
              "#7201a8"
             ],
             [
              0.3333333333333333,
              "#9c179e"
             ],
             [
              0.4444444444444444,
              "#bd3786"
             ],
             [
              0.5555555555555556,
              "#d8576b"
             ],
             [
              0.6666666666666666,
              "#ed7953"
             ],
             [
              0.7777777777777778,
              "#fb9f3a"
             ],
             [
              0.8888888888888888,
              "#fdca26"
             ],
             [
              1,
              "#f0f921"
             ]
            ],
            "type": "histogram2dcontour"
           }
          ],
          "mesh3d": [
           {
            "colorbar": {
             "outlinewidth": 0,
             "ticks": ""
            },
            "type": "mesh3d"
           }
          ],
          "parcoords": [
           {
            "line": {
             "colorbar": {
              "outlinewidth": 0,
              "ticks": ""
             }
            },
            "type": "parcoords"
           }
          ],
          "pie": [
           {
            "automargin": true,
            "type": "pie"
           }
          ],
          "scatter": [
           {
            "marker": {
             "colorbar": {
              "outlinewidth": 0,
              "ticks": ""
             }
            },
            "type": "scatter"
           }
          ],
          "scatter3d": [
           {
            "line": {
             "colorbar": {
              "outlinewidth": 0,
              "ticks": ""
             }
            },
            "marker": {
             "colorbar": {
              "outlinewidth": 0,
              "ticks": ""
             }
            },
            "type": "scatter3d"
           }
          ],
          "scattercarpet": [
           {
            "marker": {
             "colorbar": {
              "outlinewidth": 0,
              "ticks": ""
             }
            },
            "type": "scattercarpet"
           }
          ],
          "scattergeo": [
           {
            "marker": {
             "colorbar": {
              "outlinewidth": 0,
              "ticks": ""
             }
            },
            "type": "scattergeo"
           }
          ],
          "scattergl": [
           {
            "marker": {
             "colorbar": {
              "outlinewidth": 0,
              "ticks": ""
             }
            },
            "type": "scattergl"
           }
          ],
          "scattermapbox": [
           {
            "marker": {
             "colorbar": {
              "outlinewidth": 0,
              "ticks": ""
             }
            },
            "type": "scattermapbox"
           }
          ],
          "scatterpolar": [
           {
            "marker": {
             "colorbar": {
              "outlinewidth": 0,
              "ticks": ""
             }
            },
            "type": "scatterpolar"
           }
          ],
          "scatterpolargl": [
           {
            "marker": {
             "colorbar": {
              "outlinewidth": 0,
              "ticks": ""
             }
            },
            "type": "scatterpolargl"
           }
          ],
          "scatterternary": [
           {
            "marker": {
             "colorbar": {
              "outlinewidth": 0,
              "ticks": ""
             }
            },
            "type": "scatterternary"
           }
          ],
          "surface": [
           {
            "colorbar": {
             "outlinewidth": 0,
             "ticks": ""
            },
            "colorscale": [
             [
              0,
              "#0d0887"
             ],
             [
              0.1111111111111111,
              "#46039f"
             ],
             [
              0.2222222222222222,
              "#7201a8"
             ],
             [
              0.3333333333333333,
              "#9c179e"
             ],
             [
              0.4444444444444444,
              "#bd3786"
             ],
             [
              0.5555555555555556,
              "#d8576b"
             ],
             [
              0.6666666666666666,
              "#ed7953"
             ],
             [
              0.7777777777777778,
              "#fb9f3a"
             ],
             [
              0.8888888888888888,
              "#fdca26"
             ],
             [
              1,
              "#f0f921"
             ]
            ],
            "type": "surface"
           }
          ],
          "table": [
           {
            "cells": {
             "fill": {
              "color": "#EBF0F8"
             },
             "line": {
              "color": "white"
             }
            },
            "header": {
             "fill": {
              "color": "#C8D4E3"
             },
             "line": {
              "color": "white"
             }
            },
            "type": "table"
           }
          ]
         },
         "layout": {
          "annotationdefaults": {
           "arrowcolor": "#2a3f5f",
           "arrowhead": 0,
           "arrowwidth": 1
          },
          "coloraxis": {
           "colorbar": {
            "outlinewidth": 0,
            "ticks": ""
           }
          },
          "colorscale": {
           "diverging": [
            [
             0,
             "#8e0152"
            ],
            [
             0.1,
             "#c51b7d"
            ],
            [
             0.2,
             "#de77ae"
            ],
            [
             0.3,
             "#f1b6da"
            ],
            [
             0.4,
             "#fde0ef"
            ],
            [
             0.5,
             "#f7f7f7"
            ],
            [
             0.6,
             "#e6f5d0"
            ],
            [
             0.7,
             "#b8e186"
            ],
            [
             0.8,
             "#7fbc41"
            ],
            [
             0.9,
             "#4d9221"
            ],
            [
             1,
             "#276419"
            ]
           ],
           "sequential": [
            [
             0,
             "#0d0887"
            ],
            [
             0.1111111111111111,
             "#46039f"
            ],
            [
             0.2222222222222222,
             "#7201a8"
            ],
            [
             0.3333333333333333,
             "#9c179e"
            ],
            [
             0.4444444444444444,
             "#bd3786"
            ],
            [
             0.5555555555555556,
             "#d8576b"
            ],
            [
             0.6666666666666666,
             "#ed7953"
            ],
            [
             0.7777777777777778,
             "#fb9f3a"
            ],
            [
             0.8888888888888888,
             "#fdca26"
            ],
            [
             1,
             "#f0f921"
            ]
           ],
           "sequentialminus": [
            [
             0,
             "#0d0887"
            ],
            [
             0.1111111111111111,
             "#46039f"
            ],
            [
             0.2222222222222222,
             "#7201a8"
            ],
            [
             0.3333333333333333,
             "#9c179e"
            ],
            [
             0.4444444444444444,
             "#bd3786"
            ],
            [
             0.5555555555555556,
             "#d8576b"
            ],
            [
             0.6666666666666666,
             "#ed7953"
            ],
            [
             0.7777777777777778,
             "#fb9f3a"
            ],
            [
             0.8888888888888888,
             "#fdca26"
            ],
            [
             1,
             "#f0f921"
            ]
           ]
          },
          "colorway": [
           "#636efa",
           "#EF553B",
           "#00cc96",
           "#ab63fa",
           "#FFA15A",
           "#19d3f3",
           "#FF6692",
           "#B6E880",
           "#FF97FF",
           "#FECB52"
          ],
          "font": {
           "color": "#2a3f5f"
          },
          "geo": {
           "bgcolor": "white",
           "lakecolor": "white",
           "landcolor": "#E5ECF6",
           "showlakes": true,
           "showland": true,
           "subunitcolor": "white"
          },
          "hoverlabel": {
           "align": "left"
          },
          "hovermode": "closest",
          "mapbox": {
           "style": "light"
          },
          "paper_bgcolor": "white",
          "plot_bgcolor": "#E5ECF6",
          "polar": {
           "angularaxis": {
            "gridcolor": "white",
            "linecolor": "white",
            "ticks": ""
           },
           "bgcolor": "#E5ECF6",
           "radialaxis": {
            "gridcolor": "white",
            "linecolor": "white",
            "ticks": ""
           }
          },
          "scene": {
           "xaxis": {
            "backgroundcolor": "#E5ECF6",
            "gridcolor": "white",
            "gridwidth": 2,
            "linecolor": "white",
            "showbackground": true,
            "ticks": "",
            "zerolinecolor": "white"
           },
           "yaxis": {
            "backgroundcolor": "#E5ECF6",
            "gridcolor": "white",
            "gridwidth": 2,
            "linecolor": "white",
            "showbackground": true,
            "ticks": "",
            "zerolinecolor": "white"
           },
           "zaxis": {
            "backgroundcolor": "#E5ECF6",
            "gridcolor": "white",
            "gridwidth": 2,
            "linecolor": "white",
            "showbackground": true,
            "ticks": "",
            "zerolinecolor": "white"
           }
          },
          "shapedefaults": {
           "line": {
            "color": "#2a3f5f"
           }
          },
          "ternary": {
           "aaxis": {
            "gridcolor": "white",
            "linecolor": "white",
            "ticks": ""
           },
           "baxis": {
            "gridcolor": "white",
            "linecolor": "white",
            "ticks": ""
           },
           "bgcolor": "#E5ECF6",
           "caxis": {
            "gridcolor": "white",
            "linecolor": "white",
            "ticks": ""
           }
          },
          "title": {
           "x": 0.05
          },
          "xaxis": {
           "automargin": true,
           "gridcolor": "white",
           "linecolor": "white",
           "ticks": "",
           "title": {
            "standoff": 15
           },
           "zerolinecolor": "white",
           "zerolinewidth": 2
          },
          "yaxis": {
           "automargin": true,
           "gridcolor": "white",
           "linecolor": "white",
           "ticks": "",
           "title": {
            "standoff": 15
           },
           "zerolinecolor": "white",
           "zerolinewidth": 2
          }
         }
        },
        "title": {
         "text": "Race distribution"
        },
        "width": 800,
        "xaxis": {
         "anchor": "y",
         "domain": [
          0,
          1
         ],
         "title": {
          "text": "count"
         }
        },
        "yaxis": {
         "anchor": "x",
         "domain": [
          0,
          1
         ],
         "title": {
          "text": "race"
         }
        }
       }
      },
      "text/html": [
       "<div>\n",
       "        \n",
       "        \n",
       "            <div id=\"da7597ca-48dd-4b68-bf31-f74954bb9953\" class=\"plotly-graph-div\" style=\"height:525px; width:800px;\"></div>\n",
       "            <script type=\"text/javascript\">\n",
       "                require([\"plotly\"], function(Plotly) {\n",
       "                    window.PLOTLYENV=window.PLOTLYENV || {};\n",
       "                    \n",
       "                if (document.getElementById(\"da7597ca-48dd-4b68-bf31-f74954bb9953\")) {\n",
       "                    Plotly.newPlot(\n",
       "                        'da7597ca-48dd-4b68-bf31-f74954bb9953',\n",
       "                        [{\"alignmentgroup\": \"True\", \"hovertemplate\": \"count=%{x}<br>race=%{y}<extra></extra>\", \"legendgroup\": \"\", \"marker\": {\"color\": \"#636efa\"}, \"name\": \"\", \"offsetgroup\": \"\", \"orientation\": \"h\", \"showlegend\": false, \"textposition\": \"auto\", \"type\": \"bar\", \"x\": [2476, 1298, 902, 93, 78, 48], \"xaxis\": \"x\", \"y\": [\"White\", \"Black\", \"Hispanic\", \"Asian\", \"Native\", \"Other\"], \"yaxis\": \"y\"}],\n",
       "                        {\"barmode\": \"relative\", \"legend\": {\"tracegroupgap\": 0}, \"template\": {\"data\": {\"bar\": [{\"error_x\": {\"color\": \"#2a3f5f\"}, \"error_y\": {\"color\": \"#2a3f5f\"}, \"marker\": {\"line\": {\"color\": \"#E5ECF6\", \"width\": 0.5}}, \"type\": \"bar\"}], \"barpolar\": [{\"marker\": {\"line\": {\"color\": \"#E5ECF6\", \"width\": 0.5}}, \"type\": \"barpolar\"}], \"carpet\": [{\"aaxis\": {\"endlinecolor\": \"#2a3f5f\", \"gridcolor\": \"white\", \"linecolor\": \"white\", \"minorgridcolor\": \"white\", \"startlinecolor\": \"#2a3f5f\"}, \"baxis\": {\"endlinecolor\": \"#2a3f5f\", \"gridcolor\": \"white\", \"linecolor\": \"white\", \"minorgridcolor\": \"white\", \"startlinecolor\": \"#2a3f5f\"}, \"type\": \"carpet\"}], \"choropleth\": [{\"colorbar\": {\"outlinewidth\": 0, \"ticks\": \"\"}, \"type\": \"choropleth\"}], \"contour\": [{\"colorbar\": {\"outlinewidth\": 0, \"ticks\": \"\"}, \"colorscale\": [[0.0, \"#0d0887\"], [0.1111111111111111, \"#46039f\"], [0.2222222222222222, \"#7201a8\"], [0.3333333333333333, \"#9c179e\"], [0.4444444444444444, \"#bd3786\"], [0.5555555555555556, \"#d8576b\"], [0.6666666666666666, \"#ed7953\"], [0.7777777777777778, \"#fb9f3a\"], [0.8888888888888888, \"#fdca26\"], [1.0, \"#f0f921\"]], \"type\": \"contour\"}], \"contourcarpet\": [{\"colorbar\": {\"outlinewidth\": 0, \"ticks\": \"\"}, \"type\": \"contourcarpet\"}], \"heatmap\": [{\"colorbar\": {\"outlinewidth\": 0, \"ticks\": \"\"}, \"colorscale\": [[0.0, \"#0d0887\"], [0.1111111111111111, \"#46039f\"], [0.2222222222222222, \"#7201a8\"], [0.3333333333333333, \"#9c179e\"], [0.4444444444444444, \"#bd3786\"], [0.5555555555555556, \"#d8576b\"], [0.6666666666666666, \"#ed7953\"], [0.7777777777777778, \"#fb9f3a\"], [0.8888888888888888, \"#fdca26\"], [1.0, \"#f0f921\"]], \"type\": \"heatmap\"}], \"heatmapgl\": [{\"colorbar\": {\"outlinewidth\": 0, \"ticks\": \"\"}, \"colorscale\": [[0.0, \"#0d0887\"], [0.1111111111111111, \"#46039f\"], [0.2222222222222222, \"#7201a8\"], [0.3333333333333333, \"#9c179e\"], [0.4444444444444444, \"#bd3786\"], [0.5555555555555556, \"#d8576b\"], [0.6666666666666666, \"#ed7953\"], [0.7777777777777778, \"#fb9f3a\"], [0.8888888888888888, \"#fdca26\"], [1.0, \"#f0f921\"]], \"type\": \"heatmapgl\"}], \"histogram\": [{\"marker\": {\"colorbar\": {\"outlinewidth\": 0, \"ticks\": \"\"}}, \"type\": \"histogram\"}], \"histogram2d\": [{\"colorbar\": {\"outlinewidth\": 0, \"ticks\": \"\"}, \"colorscale\": [[0.0, \"#0d0887\"], [0.1111111111111111, \"#46039f\"], [0.2222222222222222, \"#7201a8\"], [0.3333333333333333, \"#9c179e\"], [0.4444444444444444, \"#bd3786\"], [0.5555555555555556, \"#d8576b\"], [0.6666666666666666, \"#ed7953\"], [0.7777777777777778, \"#fb9f3a\"], [0.8888888888888888, \"#fdca26\"], [1.0, \"#f0f921\"]], \"type\": \"histogram2d\"}], \"histogram2dcontour\": [{\"colorbar\": {\"outlinewidth\": 0, \"ticks\": \"\"}, \"colorscale\": [[0.0, \"#0d0887\"], [0.1111111111111111, \"#46039f\"], [0.2222222222222222, \"#7201a8\"], [0.3333333333333333, \"#9c179e\"], [0.4444444444444444, \"#bd3786\"], [0.5555555555555556, \"#d8576b\"], [0.6666666666666666, \"#ed7953\"], [0.7777777777777778, \"#fb9f3a\"], [0.8888888888888888, \"#fdca26\"], [1.0, \"#f0f921\"]], \"type\": \"histogram2dcontour\"}], \"mesh3d\": [{\"colorbar\": {\"outlinewidth\": 0, \"ticks\": \"\"}, \"type\": \"mesh3d\"}], \"parcoords\": [{\"line\": {\"colorbar\": {\"outlinewidth\": 0, \"ticks\": \"\"}}, \"type\": \"parcoords\"}], \"pie\": [{\"automargin\": true, \"type\": \"pie\"}], \"scatter\": [{\"marker\": {\"colorbar\": {\"outlinewidth\": 0, \"ticks\": \"\"}}, \"type\": \"scatter\"}], \"scatter3d\": [{\"line\": {\"colorbar\": {\"outlinewidth\": 0, \"ticks\": \"\"}}, \"marker\": {\"colorbar\": {\"outlinewidth\": 0, \"ticks\": \"\"}}, \"type\": \"scatter3d\"}], \"scattercarpet\": [{\"marker\": {\"colorbar\": {\"outlinewidth\": 0, \"ticks\": \"\"}}, \"type\": \"scattercarpet\"}], \"scattergeo\": [{\"marker\": {\"colorbar\": {\"outlinewidth\": 0, \"ticks\": \"\"}}, \"type\": \"scattergeo\"}], \"scattergl\": [{\"marker\": {\"colorbar\": {\"outlinewidth\": 0, \"ticks\": \"\"}}, \"type\": \"scattergl\"}], \"scattermapbox\": [{\"marker\": {\"colorbar\": {\"outlinewidth\": 0, \"ticks\": \"\"}}, \"type\": \"scattermapbox\"}], \"scatterpolar\": [{\"marker\": {\"colorbar\": {\"outlinewidth\": 0, \"ticks\": \"\"}}, \"type\": \"scatterpolar\"}], \"scatterpolargl\": [{\"marker\": {\"colorbar\": {\"outlinewidth\": 0, \"ticks\": \"\"}}, \"type\": \"scatterpolargl\"}], \"scatterternary\": [{\"marker\": {\"colorbar\": {\"outlinewidth\": 0, \"ticks\": \"\"}}, \"type\": \"scatterternary\"}], \"surface\": [{\"colorbar\": {\"outlinewidth\": 0, \"ticks\": \"\"}, \"colorscale\": [[0.0, \"#0d0887\"], [0.1111111111111111, \"#46039f\"], [0.2222222222222222, \"#7201a8\"], [0.3333333333333333, \"#9c179e\"], [0.4444444444444444, \"#bd3786\"], [0.5555555555555556, \"#d8576b\"], [0.6666666666666666, \"#ed7953\"], [0.7777777777777778, \"#fb9f3a\"], [0.8888888888888888, \"#fdca26\"], [1.0, \"#f0f921\"]], \"type\": \"surface\"}], \"table\": [{\"cells\": {\"fill\": {\"color\": \"#EBF0F8\"}, \"line\": {\"color\": \"white\"}}, \"header\": {\"fill\": {\"color\": \"#C8D4E3\"}, \"line\": {\"color\": \"white\"}}, \"type\": \"table\"}]}, \"layout\": {\"annotationdefaults\": {\"arrowcolor\": \"#2a3f5f\", \"arrowhead\": 0, \"arrowwidth\": 1}, \"coloraxis\": {\"colorbar\": {\"outlinewidth\": 0, \"ticks\": \"\"}}, \"colorscale\": {\"diverging\": [[0, \"#8e0152\"], [0.1, \"#c51b7d\"], [0.2, \"#de77ae\"], [0.3, \"#f1b6da\"], [0.4, \"#fde0ef\"], [0.5, \"#f7f7f7\"], [0.6, \"#e6f5d0\"], [0.7, \"#b8e186\"], [0.8, \"#7fbc41\"], [0.9, \"#4d9221\"], [1, \"#276419\"]], \"sequential\": [[0.0, \"#0d0887\"], [0.1111111111111111, \"#46039f\"], [0.2222222222222222, \"#7201a8\"], [0.3333333333333333, \"#9c179e\"], [0.4444444444444444, \"#bd3786\"], [0.5555555555555556, \"#d8576b\"], [0.6666666666666666, \"#ed7953\"], [0.7777777777777778, \"#fb9f3a\"], [0.8888888888888888, \"#fdca26\"], [1.0, \"#f0f921\"]], \"sequentialminus\": [[0.0, \"#0d0887\"], [0.1111111111111111, \"#46039f\"], [0.2222222222222222, \"#7201a8\"], [0.3333333333333333, \"#9c179e\"], [0.4444444444444444, \"#bd3786\"], [0.5555555555555556, \"#d8576b\"], [0.6666666666666666, \"#ed7953\"], [0.7777777777777778, \"#fb9f3a\"], [0.8888888888888888, \"#fdca26\"], [1.0, \"#f0f921\"]]}, \"colorway\": [\"#636efa\", \"#EF553B\", \"#00cc96\", \"#ab63fa\", \"#FFA15A\", \"#19d3f3\", \"#FF6692\", \"#B6E880\", \"#FF97FF\", \"#FECB52\"], \"font\": {\"color\": \"#2a3f5f\"}, \"geo\": {\"bgcolor\": \"white\", \"lakecolor\": \"white\", \"landcolor\": \"#E5ECF6\", \"showlakes\": true, \"showland\": true, \"subunitcolor\": \"white\"}, \"hoverlabel\": {\"align\": \"left\"}, \"hovermode\": \"closest\", \"mapbox\": {\"style\": \"light\"}, \"paper_bgcolor\": \"white\", \"plot_bgcolor\": \"#E5ECF6\", \"polar\": {\"angularaxis\": {\"gridcolor\": \"white\", \"linecolor\": \"white\", \"ticks\": \"\"}, \"bgcolor\": \"#E5ECF6\", \"radialaxis\": {\"gridcolor\": \"white\", \"linecolor\": \"white\", \"ticks\": \"\"}}, \"scene\": {\"xaxis\": {\"backgroundcolor\": \"#E5ECF6\", \"gridcolor\": \"white\", \"gridwidth\": 2, \"linecolor\": \"white\", \"showbackground\": true, \"ticks\": \"\", \"zerolinecolor\": \"white\"}, \"yaxis\": {\"backgroundcolor\": \"#E5ECF6\", \"gridcolor\": \"white\", \"gridwidth\": 2, \"linecolor\": \"white\", \"showbackground\": true, \"ticks\": \"\", \"zerolinecolor\": \"white\"}, \"zaxis\": {\"backgroundcolor\": \"#E5ECF6\", \"gridcolor\": \"white\", \"gridwidth\": 2, \"linecolor\": \"white\", \"showbackground\": true, \"ticks\": \"\", \"zerolinecolor\": \"white\"}}, \"shapedefaults\": {\"line\": {\"color\": \"#2a3f5f\"}}, \"ternary\": {\"aaxis\": {\"gridcolor\": \"white\", \"linecolor\": \"white\", \"ticks\": \"\"}, \"baxis\": {\"gridcolor\": \"white\", \"linecolor\": \"white\", \"ticks\": \"\"}, \"bgcolor\": \"#E5ECF6\", \"caxis\": {\"gridcolor\": \"white\", \"linecolor\": \"white\", \"ticks\": \"\"}}, \"title\": {\"x\": 0.05}, \"xaxis\": {\"automargin\": true, \"gridcolor\": \"white\", \"linecolor\": \"white\", \"ticks\": \"\", \"title\": {\"standoff\": 15}, \"zerolinecolor\": \"white\", \"zerolinewidth\": 2}, \"yaxis\": {\"automargin\": true, \"gridcolor\": \"white\", \"linecolor\": \"white\", \"ticks\": \"\", \"title\": {\"standoff\": 15}, \"zerolinecolor\": \"white\", \"zerolinewidth\": 2}}}, \"title\": {\"text\": \"Race distribution\"}, \"width\": 800, \"xaxis\": {\"anchor\": \"y\", \"domain\": [0.0, 1.0], \"title\": {\"text\": \"count\"}}, \"yaxis\": {\"anchor\": \"x\", \"domain\": [0.0, 1.0], \"title\": {\"text\": \"race\"}}},\n",
       "                        {\"responsive\": true}\n",
       "                    ).then(function(){\n",
       "                            \n",
       "var gd = document.getElementById('da7597ca-48dd-4b68-bf31-f74954bb9953');\n",
       "var x = new MutationObserver(function (mutations, observer) {{\n",
       "        var display = window.getComputedStyle(gd).display;\n",
       "        if (!display || display === 'none') {{\n",
       "            console.log([gd, 'removed!']);\n",
       "            Plotly.purge(gd);\n",
       "            observer.disconnect();\n",
       "        }}\n",
       "}});\n",
       "\n",
       "// Listen for the removal of the full notebook cells\n",
       "var notebookContainer = gd.closest('#notebook-container');\n",
       "if (notebookContainer) {{\n",
       "    x.observe(notebookContainer, {childList: true});\n",
       "}}\n",
       "\n",
       "// Listen for the clearing of the current output cell\n",
       "var outputEl = gd.closest('.output');\n",
       "if (outputEl) {{\n",
       "    x.observe(outputEl, {childList: true});\n",
       "}}\n",
       "\n",
       "                        })\n",
       "                };\n",
       "                });\n",
       "            </script>\n",
       "        </div>"
      ]
     },
     "metadata": {},
     "output_type": "display_data"
    }
   ],
   "source": [
    "#visualisation of race distribution\n",
    "data = df['race'].value_counts().reset_index()\n",
    "data.columns = ['race', 'count']\n",
    "fig = px.bar(data, x='count', y='race', orientation='h', title='Race distribution', width=800)\n",
    "fig.show()"
   ]
  },
  {
   "cell_type": "code",
   "execution_count": 70,
   "metadata": {},
   "outputs": [
    {
     "data": {
      "application/vnd.plotly.v1+json": {
       "config": {
        "plotlyServerURL": "https://plot.ly"
       },
       "data": [
        {
         "alignmentgroup": "True",
         "hovertemplate": "state=%{y}<br>name=%{x}<extra></extra>",
         "legendgroup": "NY",
         "marker": {
          "color": "#636efa"
         },
         "name": "NY",
         "offsetgroup": "NY",
         "orientation": "h",
         "showlegend": true,
         "textposition": "auto",
         "type": "bar",
         "x": [
          90
         ],
         "xaxis": "x",
         "y": [
          "NY"
         ],
         "yaxis": "y"
        },
        {
         "alignmentgroup": "True",
         "hovertemplate": "state=%{y}<br>name=%{x}<extra></extra>",
         "legendgroup": "IN",
         "marker": {
          "color": "#EF553B"
         },
         "name": "IN",
         "offsetgroup": "IN",
         "orientation": "h",
         "showlegend": true,
         "textposition": "auto",
         "type": "bar",
         "x": [
          91
         ],
         "xaxis": "x",
         "y": [
          "IN"
         ],
         "yaxis": "y"
        },
        {
         "alignmentgroup": "True",
         "hovertemplate": "state=%{y}<br>name=%{x}<extra></extra>",
         "legendgroup": "VA",
         "marker": {
          "color": "#00cc96"
         },
         "name": "VA",
         "offsetgroup": "VA",
         "orientation": "h",
         "showlegend": true,
         "textposition": "auto",
         "type": "bar",
         "x": [
          92
         ],
         "xaxis": "x",
         "y": [
          "VA"
         ],
         "yaxis": "y"
        },
        {
         "alignmentgroup": "True",
         "hovertemplate": "state=%{y}<br>name=%{x}<extra></extra>",
         "legendgroup": "NM",
         "marker": {
          "color": "#ab63fa"
         },
         "name": "NM",
         "offsetgroup": "NM",
         "orientation": "h",
         "showlegend": true,
         "textposition": "auto",
         "type": "bar",
         "x": [
          93
         ],
         "xaxis": "x",
         "y": [
          "NM"
         ],
         "yaxis": "y"
        },
        {
         "alignmentgroup": "True",
         "hovertemplate": "state=%{y}<br>name=%{x}<extra></extra>",
         "legendgroup": "PA",
         "marker": {
          "color": "#FFA15A"
         },
         "name": "PA",
         "offsetgroup": "PA",
         "orientation": "h",
         "showlegend": true,
         "textposition": "auto",
         "type": "bar",
         "x": [
          95
         ],
         "xaxis": "x",
         "y": [
          "PA"
         ],
         "yaxis": "y"
        },
        {
         "alignmentgroup": "True",
         "hovertemplate": "state=%{y}<br>name=%{x}<extra></extra>",
         "legendgroup": "AL",
         "marker": {
          "color": "#19d3f3"
         },
         "name": "AL",
         "offsetgroup": "AL",
         "orientation": "h",
         "showlegend": true,
         "textposition": "auto",
         "type": "bar",
         "x": [
          95
         ],
         "xaxis": "x",
         "y": [
          "AL"
         ],
         "yaxis": "y"
        },
        {
         "alignmentgroup": "True",
         "hovertemplate": "state=%{y}<br>name=%{x}<extra></extra>",
         "legendgroup": "IL",
         "marker": {
          "color": "#FF6692"
         },
         "name": "IL",
         "offsetgroup": "IL",
         "orientation": "h",
         "showlegend": true,
         "textposition": "auto",
         "type": "bar",
         "x": [
          99
         ],
         "xaxis": "x",
         "y": [
          "IL"
         ],
         "yaxis": "y"
        },
        {
         "alignmentgroup": "True",
         "hovertemplate": "state=%{y}<br>name=%{x}<extra></extra>",
         "legendgroup": "LA",
         "marker": {
          "color": "#B6E880"
         },
         "name": "LA",
         "offsetgroup": "LA",
         "orientation": "h",
         "showlegend": true,
         "textposition": "auto",
         "type": "bar",
         "x": [
          102
         ],
         "xaxis": "x",
         "y": [
          "LA"
         ],
         "yaxis": "y"
        },
        {
         "alignmentgroup": "True",
         "hovertemplate": "state=%{y}<br>name=%{x}<extra></extra>",
         "legendgroup": "MO",
         "marker": {
          "color": "#FF97FF"
         },
         "name": "MO",
         "offsetgroup": "MO",
         "orientation": "h",
         "showlegend": true,
         "textposition": "auto",
         "type": "bar",
         "x": [
          124
         ],
         "xaxis": "x",
         "y": [
          "MO"
         ],
         "yaxis": "y"
        },
        {
         "alignmentgroup": "True",
         "hovertemplate": "state=%{y}<br>name=%{x}<extra></extra>",
         "legendgroup": "TN",
         "marker": {
          "color": "#FECB52"
         },
         "name": "TN",
         "offsetgroup": "TN",
         "orientation": "h",
         "showlegend": true,
         "textposition": "auto",
         "type": "bar",
         "x": [
          125
         ],
         "xaxis": "x",
         "y": [
          "TN"
         ],
         "yaxis": "y"
        },
        {
         "alignmentgroup": "True",
         "hovertemplate": "state=%{y}<br>name=%{x}<extra></extra>",
         "legendgroup": "WA",
         "marker": {
          "color": "#636efa"
         },
         "name": "WA",
         "offsetgroup": "WA",
         "orientation": "h",
         "showlegend": true,
         "textposition": "auto",
         "type": "bar",
         "x": [
          126
         ],
         "xaxis": "x",
         "y": [
          "WA"
         ],
         "yaxis": "y"
        },
        {
         "alignmentgroup": "True",
         "hovertemplate": "state=%{y}<br>name=%{x}<extra></extra>",
         "legendgroup": "OH",
         "marker": {
          "color": "#EF553B"
         },
         "name": "OH",
         "offsetgroup": "OH",
         "orientation": "h",
         "showlegend": true,
         "textposition": "auto",
         "type": "bar",
         "x": [
          146
         ],
         "xaxis": "x",
         "y": [
          "OH"
         ],
         "yaxis": "y"
        },
        {
         "alignmentgroup": "True",
         "hovertemplate": "state=%{y}<br>name=%{x}<extra></extra>",
         "legendgroup": "NC",
         "marker": {
          "color": "#00cc96"
         },
         "name": "NC",
         "offsetgroup": "NC",
         "orientation": "h",
         "showlegend": true,
         "textposition": "auto",
         "type": "bar",
         "x": [
          148
         ],
         "xaxis": "x",
         "y": [
          "NC"
         ],
         "yaxis": "y"
        },
        {
         "alignmentgroup": "True",
         "hovertemplate": "state=%{y}<br>name=%{x}<extra></extra>",
         "legendgroup": "OK",
         "marker": {
          "color": "#ab63fa"
         },
         "name": "OK",
         "offsetgroup": "OK",
         "orientation": "h",
         "showlegend": true,
         "textposition": "auto",
         "type": "bar",
         "x": [
          151
         ],
         "xaxis": "x",
         "y": [
          "OK"
         ],
         "yaxis": "y"
        },
        {
         "alignmentgroup": "True",
         "hovertemplate": "state=%{y}<br>name=%{x}<extra></extra>",
         "legendgroup": "GA",
         "marker": {
          "color": "#FFA15A"
         },
         "name": "GA",
         "offsetgroup": "GA",
         "orientation": "h",
         "showlegend": true,
         "textposition": "auto",
         "type": "bar",
         "x": [
          161
         ],
         "xaxis": "x",
         "y": [
          "GA"
         ],
         "yaxis": "y"
        },
        {
         "alignmentgroup": "True",
         "hovertemplate": "state=%{y}<br>name=%{x}<extra></extra>",
         "legendgroup": "CO",
         "marker": {
          "color": "#19d3f3"
         },
         "name": "CO",
         "offsetgroup": "CO",
         "orientation": "h",
         "showlegend": true,
         "textposition": "auto",
         "type": "bar",
         "x": [
          168
         ],
         "xaxis": "x",
         "y": [
          "CO"
         ],
         "yaxis": "y"
        },
        {
         "alignmentgroup": "True",
         "hovertemplate": "state=%{y}<br>name=%{x}<extra></extra>",
         "legendgroup": "AZ",
         "marker": {
          "color": "#FF6692"
         },
         "name": "AZ",
         "offsetgroup": "AZ",
         "orientation": "h",
         "showlegend": true,
         "textposition": "auto",
         "type": "bar",
         "x": [
          222
         ],
         "xaxis": "x",
         "y": [
          "AZ"
         ],
         "yaxis": "y"
        },
        {
         "alignmentgroup": "True",
         "hovertemplate": "state=%{y}<br>name=%{x}<extra></extra>",
         "legendgroup": "FL",
         "marker": {
          "color": "#B6E880"
         },
         "name": "FL",
         "offsetgroup": "FL",
         "orientation": "h",
         "showlegend": true,
         "textposition": "auto",
         "type": "bar",
         "x": [
          324
         ],
         "xaxis": "x",
         "y": [
          "FL"
         ],
         "yaxis": "y"
        },
        {
         "alignmentgroup": "True",
         "hovertemplate": "state=%{y}<br>name=%{x}<extra></extra>",
         "legendgroup": "TX",
         "marker": {
          "color": "#FF97FF"
         },
         "name": "TX",
         "offsetgroup": "TX",
         "orientation": "h",
         "showlegend": true,
         "textposition": "auto",
         "type": "bar",
         "x": [
          426
         ],
         "xaxis": "x",
         "y": [
          "TX"
         ],
         "yaxis": "y"
        },
        {
         "alignmentgroup": "True",
         "hovertemplate": "state=%{y}<br>name=%{x}<extra></extra>",
         "legendgroup": "CA",
         "marker": {
          "color": "#FECB52"
         },
         "name": "CA",
         "offsetgroup": "CA",
         "orientation": "h",
         "showlegend": true,
         "textposition": "auto",
         "type": "bar",
         "x": [
          701
         ],
         "xaxis": "x",
         "y": [
          "CA"
         ],
         "yaxis": "y"
        }
       ],
       "layout": {
        "barmode": "relative",
        "height": 700,
        "legend": {
         "title": {
          "text": "state"
         },
         "tracegroupgap": 0
        },
        "template": {
         "data": {
          "bar": [
           {
            "error_x": {
             "color": "#2a3f5f"
            },
            "error_y": {
             "color": "#2a3f5f"
            },
            "marker": {
             "line": {
              "color": "#E5ECF6",
              "width": 0.5
             }
            },
            "type": "bar"
           }
          ],
          "barpolar": [
           {
            "marker": {
             "line": {
              "color": "#E5ECF6",
              "width": 0.5
             }
            },
            "type": "barpolar"
           }
          ],
          "carpet": [
           {
            "aaxis": {
             "endlinecolor": "#2a3f5f",
             "gridcolor": "white",
             "linecolor": "white",
             "minorgridcolor": "white",
             "startlinecolor": "#2a3f5f"
            },
            "baxis": {
             "endlinecolor": "#2a3f5f",
             "gridcolor": "white",
             "linecolor": "white",
             "minorgridcolor": "white",
             "startlinecolor": "#2a3f5f"
            },
            "type": "carpet"
           }
          ],
          "choropleth": [
           {
            "colorbar": {
             "outlinewidth": 0,
             "ticks": ""
            },
            "type": "choropleth"
           }
          ],
          "contour": [
           {
            "colorbar": {
             "outlinewidth": 0,
             "ticks": ""
            },
            "colorscale": [
             [
              0,
              "#0d0887"
             ],
             [
              0.1111111111111111,
              "#46039f"
             ],
             [
              0.2222222222222222,
              "#7201a8"
             ],
             [
              0.3333333333333333,
              "#9c179e"
             ],
             [
              0.4444444444444444,
              "#bd3786"
             ],
             [
              0.5555555555555556,
              "#d8576b"
             ],
             [
              0.6666666666666666,
              "#ed7953"
             ],
             [
              0.7777777777777778,
              "#fb9f3a"
             ],
             [
              0.8888888888888888,
              "#fdca26"
             ],
             [
              1,
              "#f0f921"
             ]
            ],
            "type": "contour"
           }
          ],
          "contourcarpet": [
           {
            "colorbar": {
             "outlinewidth": 0,
             "ticks": ""
            },
            "type": "contourcarpet"
           }
          ],
          "heatmap": [
           {
            "colorbar": {
             "outlinewidth": 0,
             "ticks": ""
            },
            "colorscale": [
             [
              0,
              "#0d0887"
             ],
             [
              0.1111111111111111,
              "#46039f"
             ],
             [
              0.2222222222222222,
              "#7201a8"
             ],
             [
              0.3333333333333333,
              "#9c179e"
             ],
             [
              0.4444444444444444,
              "#bd3786"
             ],
             [
              0.5555555555555556,
              "#d8576b"
             ],
             [
              0.6666666666666666,
              "#ed7953"
             ],
             [
              0.7777777777777778,
              "#fb9f3a"
             ],
             [
              0.8888888888888888,
              "#fdca26"
             ],
             [
              1,
              "#f0f921"
             ]
            ],
            "type": "heatmap"
           }
          ],
          "heatmapgl": [
           {
            "colorbar": {
             "outlinewidth": 0,
             "ticks": ""
            },
            "colorscale": [
             [
              0,
              "#0d0887"
             ],
             [
              0.1111111111111111,
              "#46039f"
             ],
             [
              0.2222222222222222,
              "#7201a8"
             ],
             [
              0.3333333333333333,
              "#9c179e"
             ],
             [
              0.4444444444444444,
              "#bd3786"
             ],
             [
              0.5555555555555556,
              "#d8576b"
             ],
             [
              0.6666666666666666,
              "#ed7953"
             ],
             [
              0.7777777777777778,
              "#fb9f3a"
             ],
             [
              0.8888888888888888,
              "#fdca26"
             ],
             [
              1,
              "#f0f921"
             ]
            ],
            "type": "heatmapgl"
           }
          ],
          "histogram": [
           {
            "marker": {
             "colorbar": {
              "outlinewidth": 0,
              "ticks": ""
             }
            },
            "type": "histogram"
           }
          ],
          "histogram2d": [
           {
            "colorbar": {
             "outlinewidth": 0,
             "ticks": ""
            },
            "colorscale": [
             [
              0,
              "#0d0887"
             ],
             [
              0.1111111111111111,
              "#46039f"
             ],
             [
              0.2222222222222222,
              "#7201a8"
             ],
             [
              0.3333333333333333,
              "#9c179e"
             ],
             [
              0.4444444444444444,
              "#bd3786"
             ],
             [
              0.5555555555555556,
              "#d8576b"
             ],
             [
              0.6666666666666666,
              "#ed7953"
             ],
             [
              0.7777777777777778,
              "#fb9f3a"
             ],
             [
              0.8888888888888888,
              "#fdca26"
             ],
             [
              1,
              "#f0f921"
             ]
            ],
            "type": "histogram2d"
           }
          ],
          "histogram2dcontour": [
           {
            "colorbar": {
             "outlinewidth": 0,
             "ticks": ""
            },
            "colorscale": [
             [
              0,
              "#0d0887"
             ],
             [
              0.1111111111111111,
              "#46039f"
             ],
             [
              0.2222222222222222,
              "#7201a8"
             ],
             [
              0.3333333333333333,
              "#9c179e"
             ],
             [
              0.4444444444444444,
              "#bd3786"
             ],
             [
              0.5555555555555556,
              "#d8576b"
             ],
             [
              0.6666666666666666,
              "#ed7953"
             ],
             [
              0.7777777777777778,
              "#fb9f3a"
             ],
             [
              0.8888888888888888,
              "#fdca26"
             ],
             [
              1,
              "#f0f921"
             ]
            ],
            "type": "histogram2dcontour"
           }
          ],
          "mesh3d": [
           {
            "colorbar": {
             "outlinewidth": 0,
             "ticks": ""
            },
            "type": "mesh3d"
           }
          ],
          "parcoords": [
           {
            "line": {
             "colorbar": {
              "outlinewidth": 0,
              "ticks": ""
             }
            },
            "type": "parcoords"
           }
          ],
          "pie": [
           {
            "automargin": true,
            "type": "pie"
           }
          ],
          "scatter": [
           {
            "marker": {
             "colorbar": {
              "outlinewidth": 0,
              "ticks": ""
             }
            },
            "type": "scatter"
           }
          ],
          "scatter3d": [
           {
            "line": {
             "colorbar": {
              "outlinewidth": 0,
              "ticks": ""
             }
            },
            "marker": {
             "colorbar": {
              "outlinewidth": 0,
              "ticks": ""
             }
            },
            "type": "scatter3d"
           }
          ],
          "scattercarpet": [
           {
            "marker": {
             "colorbar": {
              "outlinewidth": 0,
              "ticks": ""
             }
            },
            "type": "scattercarpet"
           }
          ],
          "scattergeo": [
           {
            "marker": {
             "colorbar": {
              "outlinewidth": 0,
              "ticks": ""
             }
            },
            "type": "scattergeo"
           }
          ],
          "scattergl": [
           {
            "marker": {
             "colorbar": {
              "outlinewidth": 0,
              "ticks": ""
             }
            },
            "type": "scattergl"
           }
          ],
          "scattermapbox": [
           {
            "marker": {
             "colorbar": {
              "outlinewidth": 0,
              "ticks": ""
             }
            },
            "type": "scattermapbox"
           }
          ],
          "scatterpolar": [
           {
            "marker": {
             "colorbar": {
              "outlinewidth": 0,
              "ticks": ""
             }
            },
            "type": "scatterpolar"
           }
          ],
          "scatterpolargl": [
           {
            "marker": {
             "colorbar": {
              "outlinewidth": 0,
              "ticks": ""
             }
            },
            "type": "scatterpolargl"
           }
          ],
          "scatterternary": [
           {
            "marker": {
             "colorbar": {
              "outlinewidth": 0,
              "ticks": ""
             }
            },
            "type": "scatterternary"
           }
          ],
          "surface": [
           {
            "colorbar": {
             "outlinewidth": 0,
             "ticks": ""
            },
            "colorscale": [
             [
              0,
              "#0d0887"
             ],
             [
              0.1111111111111111,
              "#46039f"
             ],
             [
              0.2222222222222222,
              "#7201a8"
             ],
             [
              0.3333333333333333,
              "#9c179e"
             ],
             [
              0.4444444444444444,
              "#bd3786"
             ],
             [
              0.5555555555555556,
              "#d8576b"
             ],
             [
              0.6666666666666666,
              "#ed7953"
             ],
             [
              0.7777777777777778,
              "#fb9f3a"
             ],
             [
              0.8888888888888888,
              "#fdca26"
             ],
             [
              1,
              "#f0f921"
             ]
            ],
            "type": "surface"
           }
          ],
          "table": [
           {
            "cells": {
             "fill": {
              "color": "#EBF0F8"
             },
             "line": {
              "color": "white"
             }
            },
            "header": {
             "fill": {
              "color": "#C8D4E3"
             },
             "line": {
              "color": "white"
             }
            },
            "type": "table"
           }
          ]
         },
         "layout": {
          "annotationdefaults": {
           "arrowcolor": "#2a3f5f",
           "arrowhead": 0,
           "arrowwidth": 1
          },
          "coloraxis": {
           "colorbar": {
            "outlinewidth": 0,
            "ticks": ""
           }
          },
          "colorscale": {
           "diverging": [
            [
             0,
             "#8e0152"
            ],
            [
             0.1,
             "#c51b7d"
            ],
            [
             0.2,
             "#de77ae"
            ],
            [
             0.3,
             "#f1b6da"
            ],
            [
             0.4,
             "#fde0ef"
            ],
            [
             0.5,
             "#f7f7f7"
            ],
            [
             0.6,
             "#e6f5d0"
            ],
            [
             0.7,
             "#b8e186"
            ],
            [
             0.8,
             "#7fbc41"
            ],
            [
             0.9,
             "#4d9221"
            ],
            [
             1,
             "#276419"
            ]
           ],
           "sequential": [
            [
             0,
             "#0d0887"
            ],
            [
             0.1111111111111111,
             "#46039f"
            ],
            [
             0.2222222222222222,
             "#7201a8"
            ],
            [
             0.3333333333333333,
             "#9c179e"
            ],
            [
             0.4444444444444444,
             "#bd3786"
            ],
            [
             0.5555555555555556,
             "#d8576b"
            ],
            [
             0.6666666666666666,
             "#ed7953"
            ],
            [
             0.7777777777777778,
             "#fb9f3a"
            ],
            [
             0.8888888888888888,
             "#fdca26"
            ],
            [
             1,
             "#f0f921"
            ]
           ],
           "sequentialminus": [
            [
             0,
             "#0d0887"
            ],
            [
             0.1111111111111111,
             "#46039f"
            ],
            [
             0.2222222222222222,
             "#7201a8"
            ],
            [
             0.3333333333333333,
             "#9c179e"
            ],
            [
             0.4444444444444444,
             "#bd3786"
            ],
            [
             0.5555555555555556,
             "#d8576b"
            ],
            [
             0.6666666666666666,
             "#ed7953"
            ],
            [
             0.7777777777777778,
             "#fb9f3a"
            ],
            [
             0.8888888888888888,
             "#fdca26"
            ],
            [
             1,
             "#f0f921"
            ]
           ]
          },
          "colorway": [
           "#636efa",
           "#EF553B",
           "#00cc96",
           "#ab63fa",
           "#FFA15A",
           "#19d3f3",
           "#FF6692",
           "#B6E880",
           "#FF97FF",
           "#FECB52"
          ],
          "font": {
           "color": "#2a3f5f"
          },
          "geo": {
           "bgcolor": "white",
           "lakecolor": "white",
           "landcolor": "#E5ECF6",
           "showlakes": true,
           "showland": true,
           "subunitcolor": "white"
          },
          "hoverlabel": {
           "align": "left"
          },
          "hovermode": "closest",
          "mapbox": {
           "style": "light"
          },
          "paper_bgcolor": "white",
          "plot_bgcolor": "#E5ECF6",
          "polar": {
           "angularaxis": {
            "gridcolor": "white",
            "linecolor": "white",
            "ticks": ""
           },
           "bgcolor": "#E5ECF6",
           "radialaxis": {
            "gridcolor": "white",
            "linecolor": "white",
            "ticks": ""
           }
          },
          "scene": {
           "xaxis": {
            "backgroundcolor": "#E5ECF6",
            "gridcolor": "white",
            "gridwidth": 2,
            "linecolor": "white",
            "showbackground": true,
            "ticks": "",
            "zerolinecolor": "white"
           },
           "yaxis": {
            "backgroundcolor": "#E5ECF6",
            "gridcolor": "white",
            "gridwidth": 2,
            "linecolor": "white",
            "showbackground": true,
            "ticks": "",
            "zerolinecolor": "white"
           },
           "zaxis": {
            "backgroundcolor": "#E5ECF6",
            "gridcolor": "white",
            "gridwidth": 2,
            "linecolor": "white",
            "showbackground": true,
            "ticks": "",
            "zerolinecolor": "white"
           }
          },
          "shapedefaults": {
           "line": {
            "color": "#2a3f5f"
           }
          },
          "ternary": {
           "aaxis": {
            "gridcolor": "white",
            "linecolor": "white",
            "ticks": ""
           },
           "baxis": {
            "gridcolor": "white",
            "linecolor": "white",
            "ticks": ""
           },
           "bgcolor": "#E5ECF6",
           "caxis": {
            "gridcolor": "white",
            "linecolor": "white",
            "ticks": ""
           }
          },
          "title": {
           "x": 0.05
          },
          "xaxis": {
           "automargin": true,
           "gridcolor": "white",
           "linecolor": "white",
           "ticks": "",
           "title": {
            "standoff": 15
           },
           "zerolinecolor": "white",
           "zerolinewidth": 2
          },
          "yaxis": {
           "automargin": true,
           "gridcolor": "white",
           "linecolor": "white",
           "ticks": "",
           "title": {
            "standoff": 15
           },
           "zerolinecolor": "white",
           "zerolinewidth": 2
          }
         }
        },
        "title": {
         "text": "Shootings by State"
        },
        "width": 800,
        "xaxis": {
         "anchor": "y",
         "domain": [
          0,
          1
         ],
         "title": {
          "text": "name"
         }
        },
        "yaxis": {
         "anchor": "x",
         "categoryarray": [
          "CA",
          "TX",
          "FL",
          "AZ",
          "CO",
          "GA",
          "OK",
          "NC",
          "OH",
          "WA",
          "TN",
          "MO",
          "LA",
          "IL",
          "AL",
          "PA",
          "NM",
          "VA",
          "IN",
          "NY"
         ],
         "categoryorder": "array",
         "domain": [
          0,
          1
         ],
         "title": {
          "text": "state"
         }
        }
       }
      },
      "text/html": [
       "<div>\n",
       "        \n",
       "        \n",
       "            <div id=\"1db716ca-0050-40f6-88ac-bdde82b5b3a3\" class=\"plotly-graph-div\" style=\"height:700px; width:800px;\"></div>\n",
       "            <script type=\"text/javascript\">\n",
       "                require([\"plotly\"], function(Plotly) {\n",
       "                    window.PLOTLYENV=window.PLOTLYENV || {};\n",
       "                    \n",
       "                if (document.getElementById(\"1db716ca-0050-40f6-88ac-bdde82b5b3a3\")) {\n",
       "                    Plotly.newPlot(\n",
       "                        '1db716ca-0050-40f6-88ac-bdde82b5b3a3',\n",
       "                        [{\"alignmentgroup\": \"True\", \"hovertemplate\": \"state=%{y}<br>name=%{x}<extra></extra>\", \"legendgroup\": \"NY\", \"marker\": {\"color\": \"#636efa\"}, \"name\": \"NY\", \"offsetgroup\": \"NY\", \"orientation\": \"h\", \"showlegend\": true, \"textposition\": \"auto\", \"type\": \"bar\", \"x\": [90], \"xaxis\": \"x\", \"y\": [\"NY\"], \"yaxis\": \"y\"}, {\"alignmentgroup\": \"True\", \"hovertemplate\": \"state=%{y}<br>name=%{x}<extra></extra>\", \"legendgroup\": \"IN\", \"marker\": {\"color\": \"#EF553B\"}, \"name\": \"IN\", \"offsetgroup\": \"IN\", \"orientation\": \"h\", \"showlegend\": true, \"textposition\": \"auto\", \"type\": \"bar\", \"x\": [91], \"xaxis\": \"x\", \"y\": [\"IN\"], \"yaxis\": \"y\"}, {\"alignmentgroup\": \"True\", \"hovertemplate\": \"state=%{y}<br>name=%{x}<extra></extra>\", \"legendgroup\": \"VA\", \"marker\": {\"color\": \"#00cc96\"}, \"name\": \"VA\", \"offsetgroup\": \"VA\", \"orientation\": \"h\", \"showlegend\": true, \"textposition\": \"auto\", \"type\": \"bar\", \"x\": [92], \"xaxis\": \"x\", \"y\": [\"VA\"], \"yaxis\": \"y\"}, {\"alignmentgroup\": \"True\", \"hovertemplate\": \"state=%{y}<br>name=%{x}<extra></extra>\", \"legendgroup\": \"NM\", \"marker\": {\"color\": \"#ab63fa\"}, \"name\": \"NM\", \"offsetgroup\": \"NM\", \"orientation\": \"h\", \"showlegend\": true, \"textposition\": \"auto\", \"type\": \"bar\", \"x\": [93], \"xaxis\": \"x\", \"y\": [\"NM\"], \"yaxis\": \"y\"}, {\"alignmentgroup\": \"True\", \"hovertemplate\": \"state=%{y}<br>name=%{x}<extra></extra>\", \"legendgroup\": \"PA\", \"marker\": {\"color\": \"#FFA15A\"}, \"name\": \"PA\", \"offsetgroup\": \"PA\", \"orientation\": \"h\", \"showlegend\": true, \"textposition\": \"auto\", \"type\": \"bar\", \"x\": [95], \"xaxis\": \"x\", \"y\": [\"PA\"], \"yaxis\": \"y\"}, {\"alignmentgroup\": \"True\", \"hovertemplate\": \"state=%{y}<br>name=%{x}<extra></extra>\", \"legendgroup\": \"AL\", \"marker\": {\"color\": \"#19d3f3\"}, \"name\": \"AL\", \"offsetgroup\": \"AL\", \"orientation\": \"h\", \"showlegend\": true, \"textposition\": \"auto\", \"type\": \"bar\", \"x\": [95], \"xaxis\": \"x\", \"y\": [\"AL\"], \"yaxis\": \"y\"}, {\"alignmentgroup\": \"True\", \"hovertemplate\": \"state=%{y}<br>name=%{x}<extra></extra>\", \"legendgroup\": \"IL\", \"marker\": {\"color\": \"#FF6692\"}, \"name\": \"IL\", \"offsetgroup\": \"IL\", \"orientation\": \"h\", \"showlegend\": true, \"textposition\": \"auto\", \"type\": \"bar\", \"x\": [99], \"xaxis\": \"x\", \"y\": [\"IL\"], \"yaxis\": \"y\"}, {\"alignmentgroup\": \"True\", \"hovertemplate\": \"state=%{y}<br>name=%{x}<extra></extra>\", \"legendgroup\": \"LA\", \"marker\": {\"color\": \"#B6E880\"}, \"name\": \"LA\", \"offsetgroup\": \"LA\", \"orientation\": \"h\", \"showlegend\": true, \"textposition\": \"auto\", \"type\": \"bar\", \"x\": [102], \"xaxis\": \"x\", \"y\": [\"LA\"], \"yaxis\": \"y\"}, {\"alignmentgroup\": \"True\", \"hovertemplate\": \"state=%{y}<br>name=%{x}<extra></extra>\", \"legendgroup\": \"MO\", \"marker\": {\"color\": \"#FF97FF\"}, \"name\": \"MO\", \"offsetgroup\": \"MO\", \"orientation\": \"h\", \"showlegend\": true, \"textposition\": \"auto\", \"type\": \"bar\", \"x\": [124], \"xaxis\": \"x\", \"y\": [\"MO\"], \"yaxis\": \"y\"}, {\"alignmentgroup\": \"True\", \"hovertemplate\": \"state=%{y}<br>name=%{x}<extra></extra>\", \"legendgroup\": \"TN\", \"marker\": {\"color\": \"#FECB52\"}, \"name\": \"TN\", \"offsetgroup\": \"TN\", \"orientation\": \"h\", \"showlegend\": true, \"textposition\": \"auto\", \"type\": \"bar\", \"x\": [125], \"xaxis\": \"x\", \"y\": [\"TN\"], \"yaxis\": \"y\"}, {\"alignmentgroup\": \"True\", \"hovertemplate\": \"state=%{y}<br>name=%{x}<extra></extra>\", \"legendgroup\": \"WA\", \"marker\": {\"color\": \"#636efa\"}, \"name\": \"WA\", \"offsetgroup\": \"WA\", \"orientation\": \"h\", \"showlegend\": true, \"textposition\": \"auto\", \"type\": \"bar\", \"x\": [126], \"xaxis\": \"x\", \"y\": [\"WA\"], \"yaxis\": \"y\"}, {\"alignmentgroup\": \"True\", \"hovertemplate\": \"state=%{y}<br>name=%{x}<extra></extra>\", \"legendgroup\": \"OH\", \"marker\": {\"color\": \"#EF553B\"}, \"name\": \"OH\", \"offsetgroup\": \"OH\", \"orientation\": \"h\", \"showlegend\": true, \"textposition\": \"auto\", \"type\": \"bar\", \"x\": [146], \"xaxis\": \"x\", \"y\": [\"OH\"], \"yaxis\": \"y\"}, {\"alignmentgroup\": \"True\", \"hovertemplate\": \"state=%{y}<br>name=%{x}<extra></extra>\", \"legendgroup\": \"NC\", \"marker\": {\"color\": \"#00cc96\"}, \"name\": \"NC\", \"offsetgroup\": \"NC\", \"orientation\": \"h\", \"showlegend\": true, \"textposition\": \"auto\", \"type\": \"bar\", \"x\": [148], \"xaxis\": \"x\", \"y\": [\"NC\"], \"yaxis\": \"y\"}, {\"alignmentgroup\": \"True\", \"hovertemplate\": \"state=%{y}<br>name=%{x}<extra></extra>\", \"legendgroup\": \"OK\", \"marker\": {\"color\": \"#ab63fa\"}, \"name\": \"OK\", \"offsetgroup\": \"OK\", \"orientation\": \"h\", \"showlegend\": true, \"textposition\": \"auto\", \"type\": \"bar\", \"x\": [151], \"xaxis\": \"x\", \"y\": [\"OK\"], \"yaxis\": \"y\"}, {\"alignmentgroup\": \"True\", \"hovertemplate\": \"state=%{y}<br>name=%{x}<extra></extra>\", \"legendgroup\": \"GA\", \"marker\": {\"color\": \"#FFA15A\"}, \"name\": \"GA\", \"offsetgroup\": \"GA\", \"orientation\": \"h\", \"showlegend\": true, \"textposition\": \"auto\", \"type\": \"bar\", \"x\": [161], \"xaxis\": \"x\", \"y\": [\"GA\"], \"yaxis\": \"y\"}, {\"alignmentgroup\": \"True\", \"hovertemplate\": \"state=%{y}<br>name=%{x}<extra></extra>\", \"legendgroup\": \"CO\", \"marker\": {\"color\": \"#19d3f3\"}, \"name\": \"CO\", \"offsetgroup\": \"CO\", \"orientation\": \"h\", \"showlegend\": true, \"textposition\": \"auto\", \"type\": \"bar\", \"x\": [168], \"xaxis\": \"x\", \"y\": [\"CO\"], \"yaxis\": \"y\"}, {\"alignmentgroup\": \"True\", \"hovertemplate\": \"state=%{y}<br>name=%{x}<extra></extra>\", \"legendgroup\": \"AZ\", \"marker\": {\"color\": \"#FF6692\"}, \"name\": \"AZ\", \"offsetgroup\": \"AZ\", \"orientation\": \"h\", \"showlegend\": true, \"textposition\": \"auto\", \"type\": \"bar\", \"x\": [222], \"xaxis\": \"x\", \"y\": [\"AZ\"], \"yaxis\": \"y\"}, {\"alignmentgroup\": \"True\", \"hovertemplate\": \"state=%{y}<br>name=%{x}<extra></extra>\", \"legendgroup\": \"FL\", \"marker\": {\"color\": \"#B6E880\"}, \"name\": \"FL\", \"offsetgroup\": \"FL\", \"orientation\": \"h\", \"showlegend\": true, \"textposition\": \"auto\", \"type\": \"bar\", \"x\": [324], \"xaxis\": \"x\", \"y\": [\"FL\"], \"yaxis\": \"y\"}, {\"alignmentgroup\": \"True\", \"hovertemplate\": \"state=%{y}<br>name=%{x}<extra></extra>\", \"legendgroup\": \"TX\", \"marker\": {\"color\": \"#FF97FF\"}, \"name\": \"TX\", \"offsetgroup\": \"TX\", \"orientation\": \"h\", \"showlegend\": true, \"textposition\": \"auto\", \"type\": \"bar\", \"x\": [426], \"xaxis\": \"x\", \"y\": [\"TX\"], \"yaxis\": \"y\"}, {\"alignmentgroup\": \"True\", \"hovertemplate\": \"state=%{y}<br>name=%{x}<extra></extra>\", \"legendgroup\": \"CA\", \"marker\": {\"color\": \"#FECB52\"}, \"name\": \"CA\", \"offsetgroup\": \"CA\", \"orientation\": \"h\", \"showlegend\": true, \"textposition\": \"auto\", \"type\": \"bar\", \"x\": [701], \"xaxis\": \"x\", \"y\": [\"CA\"], \"yaxis\": \"y\"}],\n",
       "                        {\"barmode\": \"relative\", \"height\": 700, \"legend\": {\"title\": {\"text\": \"state\"}, \"tracegroupgap\": 0}, \"template\": {\"data\": {\"bar\": [{\"error_x\": {\"color\": \"#2a3f5f\"}, \"error_y\": {\"color\": \"#2a3f5f\"}, \"marker\": {\"line\": {\"color\": \"#E5ECF6\", \"width\": 0.5}}, \"type\": \"bar\"}], \"barpolar\": [{\"marker\": {\"line\": {\"color\": \"#E5ECF6\", \"width\": 0.5}}, \"type\": \"barpolar\"}], \"carpet\": [{\"aaxis\": {\"endlinecolor\": \"#2a3f5f\", \"gridcolor\": \"white\", \"linecolor\": \"white\", \"minorgridcolor\": \"white\", \"startlinecolor\": \"#2a3f5f\"}, \"baxis\": {\"endlinecolor\": \"#2a3f5f\", \"gridcolor\": \"white\", \"linecolor\": \"white\", \"minorgridcolor\": \"white\", \"startlinecolor\": \"#2a3f5f\"}, \"type\": \"carpet\"}], \"choropleth\": [{\"colorbar\": {\"outlinewidth\": 0, \"ticks\": \"\"}, \"type\": \"choropleth\"}], \"contour\": [{\"colorbar\": {\"outlinewidth\": 0, \"ticks\": \"\"}, \"colorscale\": [[0.0, \"#0d0887\"], [0.1111111111111111, \"#46039f\"], [0.2222222222222222, \"#7201a8\"], [0.3333333333333333, \"#9c179e\"], [0.4444444444444444, \"#bd3786\"], [0.5555555555555556, \"#d8576b\"], [0.6666666666666666, \"#ed7953\"], [0.7777777777777778, \"#fb9f3a\"], [0.8888888888888888, \"#fdca26\"], [1.0, \"#f0f921\"]], \"type\": \"contour\"}], \"contourcarpet\": [{\"colorbar\": {\"outlinewidth\": 0, \"ticks\": \"\"}, \"type\": \"contourcarpet\"}], \"heatmap\": [{\"colorbar\": {\"outlinewidth\": 0, \"ticks\": \"\"}, \"colorscale\": [[0.0, \"#0d0887\"], [0.1111111111111111, \"#46039f\"], [0.2222222222222222, \"#7201a8\"], [0.3333333333333333, \"#9c179e\"], [0.4444444444444444, \"#bd3786\"], [0.5555555555555556, \"#d8576b\"], [0.6666666666666666, \"#ed7953\"], [0.7777777777777778, \"#fb9f3a\"], [0.8888888888888888, \"#fdca26\"], [1.0, \"#f0f921\"]], \"type\": \"heatmap\"}], \"heatmapgl\": [{\"colorbar\": {\"outlinewidth\": 0, \"ticks\": \"\"}, \"colorscale\": [[0.0, \"#0d0887\"], [0.1111111111111111, \"#46039f\"], [0.2222222222222222, \"#7201a8\"], [0.3333333333333333, \"#9c179e\"], [0.4444444444444444, \"#bd3786\"], [0.5555555555555556, \"#d8576b\"], [0.6666666666666666, \"#ed7953\"], [0.7777777777777778, \"#fb9f3a\"], [0.8888888888888888, \"#fdca26\"], [1.0, \"#f0f921\"]], \"type\": \"heatmapgl\"}], \"histogram\": [{\"marker\": {\"colorbar\": {\"outlinewidth\": 0, \"ticks\": \"\"}}, \"type\": \"histogram\"}], \"histogram2d\": [{\"colorbar\": {\"outlinewidth\": 0, \"ticks\": \"\"}, \"colorscale\": [[0.0, \"#0d0887\"], [0.1111111111111111, \"#46039f\"], [0.2222222222222222, \"#7201a8\"], [0.3333333333333333, \"#9c179e\"], [0.4444444444444444, \"#bd3786\"], [0.5555555555555556, \"#d8576b\"], [0.6666666666666666, \"#ed7953\"], [0.7777777777777778, \"#fb9f3a\"], [0.8888888888888888, \"#fdca26\"], [1.0, \"#f0f921\"]], \"type\": \"histogram2d\"}], \"histogram2dcontour\": [{\"colorbar\": {\"outlinewidth\": 0, \"ticks\": \"\"}, \"colorscale\": [[0.0, \"#0d0887\"], [0.1111111111111111, \"#46039f\"], [0.2222222222222222, \"#7201a8\"], [0.3333333333333333, \"#9c179e\"], [0.4444444444444444, \"#bd3786\"], [0.5555555555555556, \"#d8576b\"], [0.6666666666666666, \"#ed7953\"], [0.7777777777777778, \"#fb9f3a\"], [0.8888888888888888, \"#fdca26\"], [1.0, \"#f0f921\"]], \"type\": \"histogram2dcontour\"}], \"mesh3d\": [{\"colorbar\": {\"outlinewidth\": 0, \"ticks\": \"\"}, \"type\": \"mesh3d\"}], \"parcoords\": [{\"line\": {\"colorbar\": {\"outlinewidth\": 0, \"ticks\": \"\"}}, \"type\": \"parcoords\"}], \"pie\": [{\"automargin\": true, \"type\": \"pie\"}], \"scatter\": [{\"marker\": {\"colorbar\": {\"outlinewidth\": 0, \"ticks\": \"\"}}, \"type\": \"scatter\"}], \"scatter3d\": [{\"line\": {\"colorbar\": {\"outlinewidth\": 0, \"ticks\": \"\"}}, \"marker\": {\"colorbar\": {\"outlinewidth\": 0, \"ticks\": \"\"}}, \"type\": \"scatter3d\"}], \"scattercarpet\": [{\"marker\": {\"colorbar\": {\"outlinewidth\": 0, \"ticks\": \"\"}}, \"type\": \"scattercarpet\"}], \"scattergeo\": [{\"marker\": {\"colorbar\": {\"outlinewidth\": 0, \"ticks\": \"\"}}, \"type\": \"scattergeo\"}], \"scattergl\": [{\"marker\": {\"colorbar\": {\"outlinewidth\": 0, \"ticks\": \"\"}}, \"type\": \"scattergl\"}], \"scattermapbox\": [{\"marker\": {\"colorbar\": {\"outlinewidth\": 0, \"ticks\": \"\"}}, \"type\": \"scattermapbox\"}], \"scatterpolar\": [{\"marker\": {\"colorbar\": {\"outlinewidth\": 0, \"ticks\": \"\"}}, \"type\": \"scatterpolar\"}], \"scatterpolargl\": [{\"marker\": {\"colorbar\": {\"outlinewidth\": 0, \"ticks\": \"\"}}, \"type\": \"scatterpolargl\"}], \"scatterternary\": [{\"marker\": {\"colorbar\": {\"outlinewidth\": 0, \"ticks\": \"\"}}, \"type\": \"scatterternary\"}], \"surface\": [{\"colorbar\": {\"outlinewidth\": 0, \"ticks\": \"\"}, \"colorscale\": [[0.0, \"#0d0887\"], [0.1111111111111111, \"#46039f\"], [0.2222222222222222, \"#7201a8\"], [0.3333333333333333, \"#9c179e\"], [0.4444444444444444, \"#bd3786\"], [0.5555555555555556, \"#d8576b\"], [0.6666666666666666, \"#ed7953\"], [0.7777777777777778, \"#fb9f3a\"], [0.8888888888888888, \"#fdca26\"], [1.0, \"#f0f921\"]], \"type\": \"surface\"}], \"table\": [{\"cells\": {\"fill\": {\"color\": \"#EBF0F8\"}, \"line\": {\"color\": \"white\"}}, \"header\": {\"fill\": {\"color\": \"#C8D4E3\"}, \"line\": {\"color\": \"white\"}}, \"type\": \"table\"}]}, \"layout\": {\"annotationdefaults\": {\"arrowcolor\": \"#2a3f5f\", \"arrowhead\": 0, \"arrowwidth\": 1}, \"coloraxis\": {\"colorbar\": {\"outlinewidth\": 0, \"ticks\": \"\"}}, \"colorscale\": {\"diverging\": [[0, \"#8e0152\"], [0.1, \"#c51b7d\"], [0.2, \"#de77ae\"], [0.3, \"#f1b6da\"], [0.4, \"#fde0ef\"], [0.5, \"#f7f7f7\"], [0.6, \"#e6f5d0\"], [0.7, \"#b8e186\"], [0.8, \"#7fbc41\"], [0.9, \"#4d9221\"], [1, \"#276419\"]], \"sequential\": [[0.0, \"#0d0887\"], [0.1111111111111111, \"#46039f\"], [0.2222222222222222, \"#7201a8\"], [0.3333333333333333, \"#9c179e\"], [0.4444444444444444, \"#bd3786\"], [0.5555555555555556, \"#d8576b\"], [0.6666666666666666, \"#ed7953\"], [0.7777777777777778, \"#fb9f3a\"], [0.8888888888888888, \"#fdca26\"], [1.0, \"#f0f921\"]], \"sequentialminus\": [[0.0, \"#0d0887\"], [0.1111111111111111, \"#46039f\"], [0.2222222222222222, \"#7201a8\"], [0.3333333333333333, \"#9c179e\"], [0.4444444444444444, \"#bd3786\"], [0.5555555555555556, \"#d8576b\"], [0.6666666666666666, \"#ed7953\"], [0.7777777777777778, \"#fb9f3a\"], [0.8888888888888888, \"#fdca26\"], [1.0, \"#f0f921\"]]}, \"colorway\": [\"#636efa\", \"#EF553B\", \"#00cc96\", \"#ab63fa\", \"#FFA15A\", \"#19d3f3\", \"#FF6692\", \"#B6E880\", \"#FF97FF\", \"#FECB52\"], \"font\": {\"color\": \"#2a3f5f\"}, \"geo\": {\"bgcolor\": \"white\", \"lakecolor\": \"white\", \"landcolor\": \"#E5ECF6\", \"showlakes\": true, \"showland\": true, \"subunitcolor\": \"white\"}, \"hoverlabel\": {\"align\": \"left\"}, \"hovermode\": \"closest\", \"mapbox\": {\"style\": \"light\"}, \"paper_bgcolor\": \"white\", \"plot_bgcolor\": \"#E5ECF6\", \"polar\": {\"angularaxis\": {\"gridcolor\": \"white\", \"linecolor\": \"white\", \"ticks\": \"\"}, \"bgcolor\": \"#E5ECF6\", \"radialaxis\": {\"gridcolor\": \"white\", \"linecolor\": \"white\", \"ticks\": \"\"}}, \"scene\": {\"xaxis\": {\"backgroundcolor\": \"#E5ECF6\", \"gridcolor\": \"white\", \"gridwidth\": 2, \"linecolor\": \"white\", \"showbackground\": true, \"ticks\": \"\", \"zerolinecolor\": \"white\"}, \"yaxis\": {\"backgroundcolor\": \"#E5ECF6\", \"gridcolor\": \"white\", \"gridwidth\": 2, \"linecolor\": \"white\", \"showbackground\": true, \"ticks\": \"\", \"zerolinecolor\": \"white\"}, \"zaxis\": {\"backgroundcolor\": \"#E5ECF6\", \"gridcolor\": \"white\", \"gridwidth\": 2, \"linecolor\": \"white\", \"showbackground\": true, \"ticks\": \"\", \"zerolinecolor\": \"white\"}}, \"shapedefaults\": {\"line\": {\"color\": \"#2a3f5f\"}}, \"ternary\": {\"aaxis\": {\"gridcolor\": \"white\", \"linecolor\": \"white\", \"ticks\": \"\"}, \"baxis\": {\"gridcolor\": \"white\", \"linecolor\": \"white\", \"ticks\": \"\"}, \"bgcolor\": \"#E5ECF6\", \"caxis\": {\"gridcolor\": \"white\", \"linecolor\": \"white\", \"ticks\": \"\"}}, \"title\": {\"x\": 0.05}, \"xaxis\": {\"automargin\": true, \"gridcolor\": \"white\", \"linecolor\": \"white\", \"ticks\": \"\", \"title\": {\"standoff\": 15}, \"zerolinecolor\": \"white\", \"zerolinewidth\": 2}, \"yaxis\": {\"automargin\": true, \"gridcolor\": \"white\", \"linecolor\": \"white\", \"ticks\": \"\", \"title\": {\"standoff\": 15}, \"zerolinecolor\": \"white\", \"zerolinewidth\": 2}}}, \"title\": {\"text\": \"Shootings by State\"}, \"width\": 800, \"xaxis\": {\"anchor\": \"y\", \"domain\": [0.0, 1.0], \"title\": {\"text\": \"name\"}}, \"yaxis\": {\"anchor\": \"x\", \"categoryarray\": [\"CA\", \"TX\", \"FL\", \"AZ\", \"CO\", \"GA\", \"OK\", \"NC\", \"OH\", \"WA\", \"TN\", \"MO\", \"LA\", \"IL\", \"AL\", \"PA\", \"NM\", \"VA\", \"IN\", \"NY\"], \"categoryorder\": \"array\", \"domain\": [0.0, 1.0], \"title\": {\"text\": \"state\"}}},\n",
       "                        {\"responsive\": true}\n",
       "                    ).then(function(){\n",
       "                            \n",
       "var gd = document.getElementById('1db716ca-0050-40f6-88ac-bdde82b5b3a3');\n",
       "var x = new MutationObserver(function (mutations, observer) {{\n",
       "        var display = window.getComputedStyle(gd).display;\n",
       "        if (!display || display === 'none') {{\n",
       "            console.log([gd, 'removed!']);\n",
       "            Plotly.purge(gd);\n",
       "            observer.disconnect();\n",
       "        }}\n",
       "}});\n",
       "\n",
       "// Listen for the removal of the full notebook cells\n",
       "var notebookContainer = gd.closest('#notebook-container');\n",
       "if (notebookContainer) {{\n",
       "    x.observe(notebookContainer, {childList: true});\n",
       "}}\n",
       "\n",
       "// Listen for the clearing of the current output cell\n",
       "var outputEl = gd.closest('.output');\n",
       "if (outputEl) {{\n",
       "    x.observe(outputEl, {childList: true});\n",
       "}}\n",
       "\n",
       "                        })\n",
       "                };\n",
       "                });\n",
       "            </script>\n",
       "        </div>"
      ]
     },
     "metadata": {},
     "output_type": "display_data"
    }
   ],
   "source": [
    "#Visualisation of Shootings by State\n",
    "city = df.groupby('state')['name'].count().reset_index().sort_values('name', ascending=True).tail(20)\n",
    "fig = px.bar(city, x=\"name\", y=\"state\", orientation='h',title=\"Shootings by State\", width=800, height=700,color = 'state')\n",
    "fig.show()"
   ]
  },
  {
   "cell_type": "code",
   "execution_count": 73,
   "metadata": {
    "scrolled": true
   },
   "outputs": [
    {
     "data": {
      "application/vnd.plotly.v1+json": {
       "config": {
        "plotlyServerURL": "https://plot.ly"
       },
       "data": [
        {
         "alignmentgroup": "True",
         "hovertemplate": "weekday=%{x}<br>count=%{y}<extra></extra>",
         "legendgroup": "",
         "marker": {
          "color": "#636efa"
         },
         "name": "",
         "offsetgroup": "",
         "orientation": "v",
         "showlegend": false,
         "textposition": "auto",
         "type": "bar",
         "x": [
          0,
          1,
          2,
          3,
          4,
          5,
          6
         ],
         "xaxis": "x",
         "y": [
          671,
          735,
          758,
          734,
          674,
          648,
          675
         ],
         "yaxis": "y"
        }
       ],
       "layout": {
        "barmode": "relative",
        "legend": {
         "tracegroupgap": 0
        },
        "template": {
         "data": {
          "bar": [
           {
            "error_x": {
             "color": "#2a3f5f"
            },
            "error_y": {
             "color": "#2a3f5f"
            },
            "marker": {
             "line": {
              "color": "#E5ECF6",
              "width": 0.5
             }
            },
            "type": "bar"
           }
          ],
          "barpolar": [
           {
            "marker": {
             "line": {
              "color": "#E5ECF6",
              "width": 0.5
             }
            },
            "type": "barpolar"
           }
          ],
          "carpet": [
           {
            "aaxis": {
             "endlinecolor": "#2a3f5f",
             "gridcolor": "white",
             "linecolor": "white",
             "minorgridcolor": "white",
             "startlinecolor": "#2a3f5f"
            },
            "baxis": {
             "endlinecolor": "#2a3f5f",
             "gridcolor": "white",
             "linecolor": "white",
             "minorgridcolor": "white",
             "startlinecolor": "#2a3f5f"
            },
            "type": "carpet"
           }
          ],
          "choropleth": [
           {
            "colorbar": {
             "outlinewidth": 0,
             "ticks": ""
            },
            "type": "choropleth"
           }
          ],
          "contour": [
           {
            "colorbar": {
             "outlinewidth": 0,
             "ticks": ""
            },
            "colorscale": [
             [
              0,
              "#0d0887"
             ],
             [
              0.1111111111111111,
              "#46039f"
             ],
             [
              0.2222222222222222,
              "#7201a8"
             ],
             [
              0.3333333333333333,
              "#9c179e"
             ],
             [
              0.4444444444444444,
              "#bd3786"
             ],
             [
              0.5555555555555556,
              "#d8576b"
             ],
             [
              0.6666666666666666,
              "#ed7953"
             ],
             [
              0.7777777777777778,
              "#fb9f3a"
             ],
             [
              0.8888888888888888,
              "#fdca26"
             ],
             [
              1,
              "#f0f921"
             ]
            ],
            "type": "contour"
           }
          ],
          "contourcarpet": [
           {
            "colorbar": {
             "outlinewidth": 0,
             "ticks": ""
            },
            "type": "contourcarpet"
           }
          ],
          "heatmap": [
           {
            "colorbar": {
             "outlinewidth": 0,
             "ticks": ""
            },
            "colorscale": [
             [
              0,
              "#0d0887"
             ],
             [
              0.1111111111111111,
              "#46039f"
             ],
             [
              0.2222222222222222,
              "#7201a8"
             ],
             [
              0.3333333333333333,
              "#9c179e"
             ],
             [
              0.4444444444444444,
              "#bd3786"
             ],
             [
              0.5555555555555556,
              "#d8576b"
             ],
             [
              0.6666666666666666,
              "#ed7953"
             ],
             [
              0.7777777777777778,
              "#fb9f3a"
             ],
             [
              0.8888888888888888,
              "#fdca26"
             ],
             [
              1,
              "#f0f921"
             ]
            ],
            "type": "heatmap"
           }
          ],
          "heatmapgl": [
           {
            "colorbar": {
             "outlinewidth": 0,
             "ticks": ""
            },
            "colorscale": [
             [
              0,
              "#0d0887"
             ],
             [
              0.1111111111111111,
              "#46039f"
             ],
             [
              0.2222222222222222,
              "#7201a8"
             ],
             [
              0.3333333333333333,
              "#9c179e"
             ],
             [
              0.4444444444444444,
              "#bd3786"
             ],
             [
              0.5555555555555556,
              "#d8576b"
             ],
             [
              0.6666666666666666,
              "#ed7953"
             ],
             [
              0.7777777777777778,
              "#fb9f3a"
             ],
             [
              0.8888888888888888,
              "#fdca26"
             ],
             [
              1,
              "#f0f921"
             ]
            ],
            "type": "heatmapgl"
           }
          ],
          "histogram": [
           {
            "marker": {
             "colorbar": {
              "outlinewidth": 0,
              "ticks": ""
             }
            },
            "type": "histogram"
           }
          ],
          "histogram2d": [
           {
            "colorbar": {
             "outlinewidth": 0,
             "ticks": ""
            },
            "colorscale": [
             [
              0,
              "#0d0887"
             ],
             [
              0.1111111111111111,
              "#46039f"
             ],
             [
              0.2222222222222222,
              "#7201a8"
             ],
             [
              0.3333333333333333,
              "#9c179e"
             ],
             [
              0.4444444444444444,
              "#bd3786"
             ],
             [
              0.5555555555555556,
              "#d8576b"
             ],
             [
              0.6666666666666666,
              "#ed7953"
             ],
             [
              0.7777777777777778,
              "#fb9f3a"
             ],
             [
              0.8888888888888888,
              "#fdca26"
             ],
             [
              1,
              "#f0f921"
             ]
            ],
            "type": "histogram2d"
           }
          ],
          "histogram2dcontour": [
           {
            "colorbar": {
             "outlinewidth": 0,
             "ticks": ""
            },
            "colorscale": [
             [
              0,
              "#0d0887"
             ],
             [
              0.1111111111111111,
              "#46039f"
             ],
             [
              0.2222222222222222,
              "#7201a8"
             ],
             [
              0.3333333333333333,
              "#9c179e"
             ],
             [
              0.4444444444444444,
              "#bd3786"
             ],
             [
              0.5555555555555556,
              "#d8576b"
             ],
             [
              0.6666666666666666,
              "#ed7953"
             ],
             [
              0.7777777777777778,
              "#fb9f3a"
             ],
             [
              0.8888888888888888,
              "#fdca26"
             ],
             [
              1,
              "#f0f921"
             ]
            ],
            "type": "histogram2dcontour"
           }
          ],
          "mesh3d": [
           {
            "colorbar": {
             "outlinewidth": 0,
             "ticks": ""
            },
            "type": "mesh3d"
           }
          ],
          "parcoords": [
           {
            "line": {
             "colorbar": {
              "outlinewidth": 0,
              "ticks": ""
             }
            },
            "type": "parcoords"
           }
          ],
          "pie": [
           {
            "automargin": true,
            "type": "pie"
           }
          ],
          "scatter": [
           {
            "marker": {
             "colorbar": {
              "outlinewidth": 0,
              "ticks": ""
             }
            },
            "type": "scatter"
           }
          ],
          "scatter3d": [
           {
            "line": {
             "colorbar": {
              "outlinewidth": 0,
              "ticks": ""
             }
            },
            "marker": {
             "colorbar": {
              "outlinewidth": 0,
              "ticks": ""
             }
            },
            "type": "scatter3d"
           }
          ],
          "scattercarpet": [
           {
            "marker": {
             "colorbar": {
              "outlinewidth": 0,
              "ticks": ""
             }
            },
            "type": "scattercarpet"
           }
          ],
          "scattergeo": [
           {
            "marker": {
             "colorbar": {
              "outlinewidth": 0,
              "ticks": ""
             }
            },
            "type": "scattergeo"
           }
          ],
          "scattergl": [
           {
            "marker": {
             "colorbar": {
              "outlinewidth": 0,
              "ticks": ""
             }
            },
            "type": "scattergl"
           }
          ],
          "scattermapbox": [
           {
            "marker": {
             "colorbar": {
              "outlinewidth": 0,
              "ticks": ""
             }
            },
            "type": "scattermapbox"
           }
          ],
          "scatterpolar": [
           {
            "marker": {
             "colorbar": {
              "outlinewidth": 0,
              "ticks": ""
             }
            },
            "type": "scatterpolar"
           }
          ],
          "scatterpolargl": [
           {
            "marker": {
             "colorbar": {
              "outlinewidth": 0,
              "ticks": ""
             }
            },
            "type": "scatterpolargl"
           }
          ],
          "scatterternary": [
           {
            "marker": {
             "colorbar": {
              "outlinewidth": 0,
              "ticks": ""
             }
            },
            "type": "scatterternary"
           }
          ],
          "surface": [
           {
            "colorbar": {
             "outlinewidth": 0,
             "ticks": ""
            },
            "colorscale": [
             [
              0,
              "#0d0887"
             ],
             [
              0.1111111111111111,
              "#46039f"
             ],
             [
              0.2222222222222222,
              "#7201a8"
             ],
             [
              0.3333333333333333,
              "#9c179e"
             ],
             [
              0.4444444444444444,
              "#bd3786"
             ],
             [
              0.5555555555555556,
              "#d8576b"
             ],
             [
              0.6666666666666666,
              "#ed7953"
             ],
             [
              0.7777777777777778,
              "#fb9f3a"
             ],
             [
              0.8888888888888888,
              "#fdca26"
             ],
             [
              1,
              "#f0f921"
             ]
            ],
            "type": "surface"
           }
          ],
          "table": [
           {
            "cells": {
             "fill": {
              "color": "#EBF0F8"
             },
             "line": {
              "color": "white"
             }
            },
            "header": {
             "fill": {
              "color": "#C8D4E3"
             },
             "line": {
              "color": "white"
             }
            },
            "type": "table"
           }
          ]
         },
         "layout": {
          "annotationdefaults": {
           "arrowcolor": "#2a3f5f",
           "arrowhead": 0,
           "arrowwidth": 1
          },
          "coloraxis": {
           "colorbar": {
            "outlinewidth": 0,
            "ticks": ""
           }
          },
          "colorscale": {
           "diverging": [
            [
             0,
             "#8e0152"
            ],
            [
             0.1,
             "#c51b7d"
            ],
            [
             0.2,
             "#de77ae"
            ],
            [
             0.3,
             "#f1b6da"
            ],
            [
             0.4,
             "#fde0ef"
            ],
            [
             0.5,
             "#f7f7f7"
            ],
            [
             0.6,
             "#e6f5d0"
            ],
            [
             0.7,
             "#b8e186"
            ],
            [
             0.8,
             "#7fbc41"
            ],
            [
             0.9,
             "#4d9221"
            ],
            [
             1,
             "#276419"
            ]
           ],
           "sequential": [
            [
             0,
             "#0d0887"
            ],
            [
             0.1111111111111111,
             "#46039f"
            ],
            [
             0.2222222222222222,
             "#7201a8"
            ],
            [
             0.3333333333333333,
             "#9c179e"
            ],
            [
             0.4444444444444444,
             "#bd3786"
            ],
            [
             0.5555555555555556,
             "#d8576b"
            ],
            [
             0.6666666666666666,
             "#ed7953"
            ],
            [
             0.7777777777777778,
             "#fb9f3a"
            ],
            [
             0.8888888888888888,
             "#fdca26"
            ],
            [
             1,
             "#f0f921"
            ]
           ],
           "sequentialminus": [
            [
             0,
             "#0d0887"
            ],
            [
             0.1111111111111111,
             "#46039f"
            ],
            [
             0.2222222222222222,
             "#7201a8"
            ],
            [
             0.3333333333333333,
             "#9c179e"
            ],
            [
             0.4444444444444444,
             "#bd3786"
            ],
            [
             0.5555555555555556,
             "#d8576b"
            ],
            [
             0.6666666666666666,
             "#ed7953"
            ],
            [
             0.7777777777777778,
             "#fb9f3a"
            ],
            [
             0.8888888888888888,
             "#fdca26"
            ],
            [
             1,
             "#f0f921"
            ]
           ]
          },
          "colorway": [
           "#636efa",
           "#EF553B",
           "#00cc96",
           "#ab63fa",
           "#FFA15A",
           "#19d3f3",
           "#FF6692",
           "#B6E880",
           "#FF97FF",
           "#FECB52"
          ],
          "font": {
           "color": "#2a3f5f"
          },
          "geo": {
           "bgcolor": "white",
           "lakecolor": "white",
           "landcolor": "#E5ECF6",
           "showlakes": true,
           "showland": true,
           "subunitcolor": "white"
          },
          "hoverlabel": {
           "align": "left"
          },
          "hovermode": "closest",
          "mapbox": {
           "style": "light"
          },
          "paper_bgcolor": "white",
          "plot_bgcolor": "#E5ECF6",
          "polar": {
           "angularaxis": {
            "gridcolor": "white",
            "linecolor": "white",
            "ticks": ""
           },
           "bgcolor": "#E5ECF6",
           "radialaxis": {
            "gridcolor": "white",
            "linecolor": "white",
            "ticks": ""
           }
          },
          "scene": {
           "xaxis": {
            "backgroundcolor": "#E5ECF6",
            "gridcolor": "white",
            "gridwidth": 2,
            "linecolor": "white",
            "showbackground": true,
            "ticks": "",
            "zerolinecolor": "white"
           },
           "yaxis": {
            "backgroundcolor": "#E5ECF6",
            "gridcolor": "white",
            "gridwidth": 2,
            "linecolor": "white",
            "showbackground": true,
            "ticks": "",
            "zerolinecolor": "white"
           },
           "zaxis": {
            "backgroundcolor": "#E5ECF6",
            "gridcolor": "white",
            "gridwidth": 2,
            "linecolor": "white",
            "showbackground": true,
            "ticks": "",
            "zerolinecolor": "white"
           }
          },
          "shapedefaults": {
           "line": {
            "color": "#2a3f5f"
           }
          },
          "ternary": {
           "aaxis": {
            "gridcolor": "white",
            "linecolor": "white",
            "ticks": ""
           },
           "baxis": {
            "gridcolor": "white",
            "linecolor": "white",
            "ticks": ""
           },
           "bgcolor": "#E5ECF6",
           "caxis": {
            "gridcolor": "white",
            "linecolor": "white",
            "ticks": ""
           }
          },
          "title": {
           "x": 0.05
          },
          "xaxis": {
           "automargin": true,
           "gridcolor": "white",
           "linecolor": "white",
           "ticks": "",
           "title": {
            "standoff": 15
           },
           "zerolinecolor": "white",
           "zerolinewidth": 2
          },
          "yaxis": {
           "automargin": true,
           "gridcolor": "white",
           "linecolor": "white",
           "ticks": "",
           "title": {
            "standoff": 15
           },
           "zerolinecolor": "white",
           "zerolinewidth": 2
          }
         }
        },
        "title": {
         "text": "Shooting by Day of week"
        },
        "width": 600,
        "xaxis": {
         "anchor": "y",
         "domain": [
          0,
          1
         ],
         "title": {
          "text": "weekday"
         }
        },
        "yaxis": {
         "anchor": "x",
         "domain": [
          0,
          1
         ],
         "title": {
          "text": "count"
         }
        }
       }
      },
      "text/html": [
       "<div>\n",
       "        \n",
       "        \n",
       "            <div id=\"3656e4a7-bf46-4175-9516-ffaf7dcd8b86\" class=\"plotly-graph-div\" style=\"height:525px; width:600px;\"></div>\n",
       "            <script type=\"text/javascript\">\n",
       "                require([\"plotly\"], function(Plotly) {\n",
       "                    window.PLOTLYENV=window.PLOTLYENV || {};\n",
       "                    \n",
       "                if (document.getElementById(\"3656e4a7-bf46-4175-9516-ffaf7dcd8b86\")) {\n",
       "                    Plotly.newPlot(\n",
       "                        '3656e4a7-bf46-4175-9516-ffaf7dcd8b86',\n",
       "                        [{\"alignmentgroup\": \"True\", \"hovertemplate\": \"weekday=%{x}<br>count=%{y}<extra></extra>\", \"legendgroup\": \"\", \"marker\": {\"color\": \"#636efa\"}, \"name\": \"\", \"offsetgroup\": \"\", \"orientation\": \"v\", \"showlegend\": false, \"textposition\": \"auto\", \"type\": \"bar\", \"x\": [0, 1, 2, 3, 4, 5, 6], \"xaxis\": \"x\", \"y\": [671, 735, 758, 734, 674, 648, 675], \"yaxis\": \"y\"}],\n",
       "                        {\"barmode\": \"relative\", \"legend\": {\"tracegroupgap\": 0}, \"template\": {\"data\": {\"bar\": [{\"error_x\": {\"color\": \"#2a3f5f\"}, \"error_y\": {\"color\": \"#2a3f5f\"}, \"marker\": {\"line\": {\"color\": \"#E5ECF6\", \"width\": 0.5}}, \"type\": \"bar\"}], \"barpolar\": [{\"marker\": {\"line\": {\"color\": \"#E5ECF6\", \"width\": 0.5}}, \"type\": \"barpolar\"}], \"carpet\": [{\"aaxis\": {\"endlinecolor\": \"#2a3f5f\", \"gridcolor\": \"white\", \"linecolor\": \"white\", \"minorgridcolor\": \"white\", \"startlinecolor\": \"#2a3f5f\"}, \"baxis\": {\"endlinecolor\": \"#2a3f5f\", \"gridcolor\": \"white\", \"linecolor\": \"white\", \"minorgridcolor\": \"white\", \"startlinecolor\": \"#2a3f5f\"}, \"type\": \"carpet\"}], \"choropleth\": [{\"colorbar\": {\"outlinewidth\": 0, \"ticks\": \"\"}, \"type\": \"choropleth\"}], \"contour\": [{\"colorbar\": {\"outlinewidth\": 0, \"ticks\": \"\"}, \"colorscale\": [[0.0, \"#0d0887\"], [0.1111111111111111, \"#46039f\"], [0.2222222222222222, \"#7201a8\"], [0.3333333333333333, \"#9c179e\"], [0.4444444444444444, \"#bd3786\"], [0.5555555555555556, \"#d8576b\"], [0.6666666666666666, \"#ed7953\"], [0.7777777777777778, \"#fb9f3a\"], [0.8888888888888888, \"#fdca26\"], [1.0, \"#f0f921\"]], \"type\": \"contour\"}], \"contourcarpet\": [{\"colorbar\": {\"outlinewidth\": 0, \"ticks\": \"\"}, \"type\": \"contourcarpet\"}], \"heatmap\": [{\"colorbar\": {\"outlinewidth\": 0, \"ticks\": \"\"}, \"colorscale\": [[0.0, \"#0d0887\"], [0.1111111111111111, \"#46039f\"], [0.2222222222222222, \"#7201a8\"], [0.3333333333333333, \"#9c179e\"], [0.4444444444444444, \"#bd3786\"], [0.5555555555555556, \"#d8576b\"], [0.6666666666666666, \"#ed7953\"], [0.7777777777777778, \"#fb9f3a\"], [0.8888888888888888, \"#fdca26\"], [1.0, \"#f0f921\"]], \"type\": \"heatmap\"}], \"heatmapgl\": [{\"colorbar\": {\"outlinewidth\": 0, \"ticks\": \"\"}, \"colorscale\": [[0.0, \"#0d0887\"], [0.1111111111111111, \"#46039f\"], [0.2222222222222222, \"#7201a8\"], [0.3333333333333333, \"#9c179e\"], [0.4444444444444444, \"#bd3786\"], [0.5555555555555556, \"#d8576b\"], [0.6666666666666666, \"#ed7953\"], [0.7777777777777778, \"#fb9f3a\"], [0.8888888888888888, \"#fdca26\"], [1.0, \"#f0f921\"]], \"type\": \"heatmapgl\"}], \"histogram\": [{\"marker\": {\"colorbar\": {\"outlinewidth\": 0, \"ticks\": \"\"}}, \"type\": \"histogram\"}], \"histogram2d\": [{\"colorbar\": {\"outlinewidth\": 0, \"ticks\": \"\"}, \"colorscale\": [[0.0, \"#0d0887\"], [0.1111111111111111, \"#46039f\"], [0.2222222222222222, \"#7201a8\"], [0.3333333333333333, \"#9c179e\"], [0.4444444444444444, \"#bd3786\"], [0.5555555555555556, \"#d8576b\"], [0.6666666666666666, \"#ed7953\"], [0.7777777777777778, \"#fb9f3a\"], [0.8888888888888888, \"#fdca26\"], [1.0, \"#f0f921\"]], \"type\": \"histogram2d\"}], \"histogram2dcontour\": [{\"colorbar\": {\"outlinewidth\": 0, \"ticks\": \"\"}, \"colorscale\": [[0.0, \"#0d0887\"], [0.1111111111111111, \"#46039f\"], [0.2222222222222222, \"#7201a8\"], [0.3333333333333333, \"#9c179e\"], [0.4444444444444444, \"#bd3786\"], [0.5555555555555556, \"#d8576b\"], [0.6666666666666666, \"#ed7953\"], [0.7777777777777778, \"#fb9f3a\"], [0.8888888888888888, \"#fdca26\"], [1.0, \"#f0f921\"]], \"type\": \"histogram2dcontour\"}], \"mesh3d\": [{\"colorbar\": {\"outlinewidth\": 0, \"ticks\": \"\"}, \"type\": \"mesh3d\"}], \"parcoords\": [{\"line\": {\"colorbar\": {\"outlinewidth\": 0, \"ticks\": \"\"}}, \"type\": \"parcoords\"}], \"pie\": [{\"automargin\": true, \"type\": \"pie\"}], \"scatter\": [{\"marker\": {\"colorbar\": {\"outlinewidth\": 0, \"ticks\": \"\"}}, \"type\": \"scatter\"}], \"scatter3d\": [{\"line\": {\"colorbar\": {\"outlinewidth\": 0, \"ticks\": \"\"}}, \"marker\": {\"colorbar\": {\"outlinewidth\": 0, \"ticks\": \"\"}}, \"type\": \"scatter3d\"}], \"scattercarpet\": [{\"marker\": {\"colorbar\": {\"outlinewidth\": 0, \"ticks\": \"\"}}, \"type\": \"scattercarpet\"}], \"scattergeo\": [{\"marker\": {\"colorbar\": {\"outlinewidth\": 0, \"ticks\": \"\"}}, \"type\": \"scattergeo\"}], \"scattergl\": [{\"marker\": {\"colorbar\": {\"outlinewidth\": 0, \"ticks\": \"\"}}, \"type\": \"scattergl\"}], \"scattermapbox\": [{\"marker\": {\"colorbar\": {\"outlinewidth\": 0, \"ticks\": \"\"}}, \"type\": \"scattermapbox\"}], \"scatterpolar\": [{\"marker\": {\"colorbar\": {\"outlinewidth\": 0, \"ticks\": \"\"}}, \"type\": \"scatterpolar\"}], \"scatterpolargl\": [{\"marker\": {\"colorbar\": {\"outlinewidth\": 0, \"ticks\": \"\"}}, \"type\": \"scatterpolargl\"}], \"scatterternary\": [{\"marker\": {\"colorbar\": {\"outlinewidth\": 0, \"ticks\": \"\"}}, \"type\": \"scatterternary\"}], \"surface\": [{\"colorbar\": {\"outlinewidth\": 0, \"ticks\": \"\"}, \"colorscale\": [[0.0, \"#0d0887\"], [0.1111111111111111, \"#46039f\"], [0.2222222222222222, \"#7201a8\"], [0.3333333333333333, \"#9c179e\"], [0.4444444444444444, \"#bd3786\"], [0.5555555555555556, \"#d8576b\"], [0.6666666666666666, \"#ed7953\"], [0.7777777777777778, \"#fb9f3a\"], [0.8888888888888888, \"#fdca26\"], [1.0, \"#f0f921\"]], \"type\": \"surface\"}], \"table\": [{\"cells\": {\"fill\": {\"color\": \"#EBF0F8\"}, \"line\": {\"color\": \"white\"}}, \"header\": {\"fill\": {\"color\": \"#C8D4E3\"}, \"line\": {\"color\": \"white\"}}, \"type\": \"table\"}]}, \"layout\": {\"annotationdefaults\": {\"arrowcolor\": \"#2a3f5f\", \"arrowhead\": 0, \"arrowwidth\": 1}, \"coloraxis\": {\"colorbar\": {\"outlinewidth\": 0, \"ticks\": \"\"}}, \"colorscale\": {\"diverging\": [[0, \"#8e0152\"], [0.1, \"#c51b7d\"], [0.2, \"#de77ae\"], [0.3, \"#f1b6da\"], [0.4, \"#fde0ef\"], [0.5, \"#f7f7f7\"], [0.6, \"#e6f5d0\"], [0.7, \"#b8e186\"], [0.8, \"#7fbc41\"], [0.9, \"#4d9221\"], [1, \"#276419\"]], \"sequential\": [[0.0, \"#0d0887\"], [0.1111111111111111, \"#46039f\"], [0.2222222222222222, \"#7201a8\"], [0.3333333333333333, \"#9c179e\"], [0.4444444444444444, \"#bd3786\"], [0.5555555555555556, \"#d8576b\"], [0.6666666666666666, \"#ed7953\"], [0.7777777777777778, \"#fb9f3a\"], [0.8888888888888888, \"#fdca26\"], [1.0, \"#f0f921\"]], \"sequentialminus\": [[0.0, \"#0d0887\"], [0.1111111111111111, \"#46039f\"], [0.2222222222222222, \"#7201a8\"], [0.3333333333333333, \"#9c179e\"], [0.4444444444444444, \"#bd3786\"], [0.5555555555555556, \"#d8576b\"], [0.6666666666666666, \"#ed7953\"], [0.7777777777777778, \"#fb9f3a\"], [0.8888888888888888, \"#fdca26\"], [1.0, \"#f0f921\"]]}, \"colorway\": [\"#636efa\", \"#EF553B\", \"#00cc96\", \"#ab63fa\", \"#FFA15A\", \"#19d3f3\", \"#FF6692\", \"#B6E880\", \"#FF97FF\", \"#FECB52\"], \"font\": {\"color\": \"#2a3f5f\"}, \"geo\": {\"bgcolor\": \"white\", \"lakecolor\": \"white\", \"landcolor\": \"#E5ECF6\", \"showlakes\": true, \"showland\": true, \"subunitcolor\": \"white\"}, \"hoverlabel\": {\"align\": \"left\"}, \"hovermode\": \"closest\", \"mapbox\": {\"style\": \"light\"}, \"paper_bgcolor\": \"white\", \"plot_bgcolor\": \"#E5ECF6\", \"polar\": {\"angularaxis\": {\"gridcolor\": \"white\", \"linecolor\": \"white\", \"ticks\": \"\"}, \"bgcolor\": \"#E5ECF6\", \"radialaxis\": {\"gridcolor\": \"white\", \"linecolor\": \"white\", \"ticks\": \"\"}}, \"scene\": {\"xaxis\": {\"backgroundcolor\": \"#E5ECF6\", \"gridcolor\": \"white\", \"gridwidth\": 2, \"linecolor\": \"white\", \"showbackground\": true, \"ticks\": \"\", \"zerolinecolor\": \"white\"}, \"yaxis\": {\"backgroundcolor\": \"#E5ECF6\", \"gridcolor\": \"white\", \"gridwidth\": 2, \"linecolor\": \"white\", \"showbackground\": true, \"ticks\": \"\", \"zerolinecolor\": \"white\"}, \"zaxis\": {\"backgroundcolor\": \"#E5ECF6\", \"gridcolor\": \"white\", \"gridwidth\": 2, \"linecolor\": \"white\", \"showbackground\": true, \"ticks\": \"\", \"zerolinecolor\": \"white\"}}, \"shapedefaults\": {\"line\": {\"color\": \"#2a3f5f\"}}, \"ternary\": {\"aaxis\": {\"gridcolor\": \"white\", \"linecolor\": \"white\", \"ticks\": \"\"}, \"baxis\": {\"gridcolor\": \"white\", \"linecolor\": \"white\", \"ticks\": \"\"}, \"bgcolor\": \"#E5ECF6\", \"caxis\": {\"gridcolor\": \"white\", \"linecolor\": \"white\", \"ticks\": \"\"}}, \"title\": {\"x\": 0.05}, \"xaxis\": {\"automargin\": true, \"gridcolor\": \"white\", \"linecolor\": \"white\", \"ticks\": \"\", \"title\": {\"standoff\": 15}, \"zerolinecolor\": \"white\", \"zerolinewidth\": 2}, \"yaxis\": {\"automargin\": true, \"gridcolor\": \"white\", \"linecolor\": \"white\", \"ticks\": \"\", \"title\": {\"standoff\": 15}, \"zerolinecolor\": \"white\", \"zerolinewidth\": 2}}}, \"title\": {\"text\": \"Shooting by Day of week\"}, \"width\": 600, \"xaxis\": {\"anchor\": \"y\", \"domain\": [0.0, 1.0], \"title\": {\"text\": \"weekday\"}}, \"yaxis\": {\"anchor\": \"x\", \"domain\": [0.0, 1.0], \"title\": {\"text\": \"count\"}}},\n",
       "                        {\"responsive\": true}\n",
       "                    ).then(function(){\n",
       "                            \n",
       "var gd = document.getElementById('3656e4a7-bf46-4175-9516-ffaf7dcd8b86');\n",
       "var x = new MutationObserver(function (mutations, observer) {{\n",
       "        var display = window.getComputedStyle(gd).display;\n",
       "        if (!display || display === 'none') {{\n",
       "            console.log([gd, 'removed!']);\n",
       "            Plotly.purge(gd);\n",
       "            observer.disconnect();\n",
       "        }}\n",
       "}});\n",
       "\n",
       "// Listen for the removal of the full notebook cells\n",
       "var notebookContainer = gd.closest('#notebook-container');\n",
       "if (notebookContainer) {{\n",
       "    x.observe(notebookContainer, {childList: true});\n",
       "}}\n",
       "\n",
       "// Listen for the clearing of the current output cell\n",
       "var outputEl = gd.closest('.output');\n",
       "if (outputEl) {{\n",
       "    x.observe(outputEl, {childList: true});\n",
       "}}\n",
       "\n",
       "                        })\n",
       "                };\n",
       "                });\n",
       "            </script>\n",
       "        </div>"
      ]
     },
     "metadata": {},
     "output_type": "display_data"
    }
   ],
   "source": [
    "#Deaths by Day of the Week\n",
    "data = df.groupby(['weekday'])['name'].count().reset_index()\n",
    "data.columns = ['weekday', 'count']\n",
    "fig = px.bar(data, x='weekday', y='count', orientation='v', title='Shooting by Day of week', width=600)\n",
    "fig.show()"
   ]
  },
  {
   "cell_type": "code",
   "execution_count": 77,
   "metadata": {},
   "outputs": [
    {
     "data": {
      "application/vnd.plotly.v1+json": {
       "config": {
        "plotlyServerURL": "https://plot.ly"
       },
       "data": [
        {
         "alignmentgroup": "True",
         "hovertemplate": "month=%{x}<br>count=%{marker.color}<extra></extra>",
         "legendgroup": "",
         "marker": {
          "color": [
           505,
           462,
           503,
           430,
           418,
           399,
           413,
           371,
           328,
           367,
           354,
           345
          ],
          "coloraxis": "coloraxis"
         },
         "name": "",
         "offsetgroup": "",
         "orientation": "v",
         "showlegend": false,
         "textposition": "auto",
         "type": "bar",
         "x": [
          1,
          2,
          3,
          4,
          5,
          6,
          7,
          8,
          9,
          10,
          11,
          12
         ],
         "xaxis": "x",
         "y": [
          505,
          462,
          503,
          430,
          418,
          399,
          413,
          371,
          328,
          367,
          354,
          345
         ],
         "yaxis": "y"
        }
       ],
       "layout": {
        "barmode": "relative",
        "coloraxis": {
         "colorbar": {
          "title": {
           "text": "count"
          }
         },
         "colorscale": [
          [
           0,
           "#0d0887"
          ],
          [
           0.1111111111111111,
           "#46039f"
          ],
          [
           0.2222222222222222,
           "#7201a8"
          ],
          [
           0.3333333333333333,
           "#9c179e"
          ],
          [
           0.4444444444444444,
           "#bd3786"
          ],
          [
           0.5555555555555556,
           "#d8576b"
          ],
          [
           0.6666666666666666,
           "#ed7953"
          ],
          [
           0.7777777777777778,
           "#fb9f3a"
          ],
          [
           0.8888888888888888,
           "#fdca26"
          ],
          [
           1,
           "#f0f921"
          ]
         ]
        },
        "legend": {
         "tracegroupgap": 0
        },
        "template": {
         "data": {
          "bar": [
           {
            "error_x": {
             "color": "#2a3f5f"
            },
            "error_y": {
             "color": "#2a3f5f"
            },
            "marker": {
             "line": {
              "color": "#E5ECF6",
              "width": 0.5
             }
            },
            "type": "bar"
           }
          ],
          "barpolar": [
           {
            "marker": {
             "line": {
              "color": "#E5ECF6",
              "width": 0.5
             }
            },
            "type": "barpolar"
           }
          ],
          "carpet": [
           {
            "aaxis": {
             "endlinecolor": "#2a3f5f",
             "gridcolor": "white",
             "linecolor": "white",
             "minorgridcolor": "white",
             "startlinecolor": "#2a3f5f"
            },
            "baxis": {
             "endlinecolor": "#2a3f5f",
             "gridcolor": "white",
             "linecolor": "white",
             "minorgridcolor": "white",
             "startlinecolor": "#2a3f5f"
            },
            "type": "carpet"
           }
          ],
          "choropleth": [
           {
            "colorbar": {
             "outlinewidth": 0,
             "ticks": ""
            },
            "type": "choropleth"
           }
          ],
          "contour": [
           {
            "colorbar": {
             "outlinewidth": 0,
             "ticks": ""
            },
            "colorscale": [
             [
              0,
              "#0d0887"
             ],
             [
              0.1111111111111111,
              "#46039f"
             ],
             [
              0.2222222222222222,
              "#7201a8"
             ],
             [
              0.3333333333333333,
              "#9c179e"
             ],
             [
              0.4444444444444444,
              "#bd3786"
             ],
             [
              0.5555555555555556,
              "#d8576b"
             ],
             [
              0.6666666666666666,
              "#ed7953"
             ],
             [
              0.7777777777777778,
              "#fb9f3a"
             ],
             [
              0.8888888888888888,
              "#fdca26"
             ],
             [
              1,
              "#f0f921"
             ]
            ],
            "type": "contour"
           }
          ],
          "contourcarpet": [
           {
            "colorbar": {
             "outlinewidth": 0,
             "ticks": ""
            },
            "type": "contourcarpet"
           }
          ],
          "heatmap": [
           {
            "colorbar": {
             "outlinewidth": 0,
             "ticks": ""
            },
            "colorscale": [
             [
              0,
              "#0d0887"
             ],
             [
              0.1111111111111111,
              "#46039f"
             ],
             [
              0.2222222222222222,
              "#7201a8"
             ],
             [
              0.3333333333333333,
              "#9c179e"
             ],
             [
              0.4444444444444444,
              "#bd3786"
             ],
             [
              0.5555555555555556,
              "#d8576b"
             ],
             [
              0.6666666666666666,
              "#ed7953"
             ],
             [
              0.7777777777777778,
              "#fb9f3a"
             ],
             [
              0.8888888888888888,
              "#fdca26"
             ],
             [
              1,
              "#f0f921"
             ]
            ],
            "type": "heatmap"
           }
          ],
          "heatmapgl": [
           {
            "colorbar": {
             "outlinewidth": 0,
             "ticks": ""
            },
            "colorscale": [
             [
              0,
              "#0d0887"
             ],
             [
              0.1111111111111111,
              "#46039f"
             ],
             [
              0.2222222222222222,
              "#7201a8"
             ],
             [
              0.3333333333333333,
              "#9c179e"
             ],
             [
              0.4444444444444444,
              "#bd3786"
             ],
             [
              0.5555555555555556,
              "#d8576b"
             ],
             [
              0.6666666666666666,
              "#ed7953"
             ],
             [
              0.7777777777777778,
              "#fb9f3a"
             ],
             [
              0.8888888888888888,
              "#fdca26"
             ],
             [
              1,
              "#f0f921"
             ]
            ],
            "type": "heatmapgl"
           }
          ],
          "histogram": [
           {
            "marker": {
             "colorbar": {
              "outlinewidth": 0,
              "ticks": ""
             }
            },
            "type": "histogram"
           }
          ],
          "histogram2d": [
           {
            "colorbar": {
             "outlinewidth": 0,
             "ticks": ""
            },
            "colorscale": [
             [
              0,
              "#0d0887"
             ],
             [
              0.1111111111111111,
              "#46039f"
             ],
             [
              0.2222222222222222,
              "#7201a8"
             ],
             [
              0.3333333333333333,
              "#9c179e"
             ],
             [
              0.4444444444444444,
              "#bd3786"
             ],
             [
              0.5555555555555556,
              "#d8576b"
             ],
             [
              0.6666666666666666,
              "#ed7953"
             ],
             [
              0.7777777777777778,
              "#fb9f3a"
             ],
             [
              0.8888888888888888,
              "#fdca26"
             ],
             [
              1,
              "#f0f921"
             ]
            ],
            "type": "histogram2d"
           }
          ],
          "histogram2dcontour": [
           {
            "colorbar": {
             "outlinewidth": 0,
             "ticks": ""
            },
            "colorscale": [
             [
              0,
              "#0d0887"
             ],
             [
              0.1111111111111111,
              "#46039f"
             ],
             [
              0.2222222222222222,
              "#7201a8"
             ],
             [
              0.3333333333333333,
              "#9c179e"
             ],
             [
              0.4444444444444444,
              "#bd3786"
             ],
             [
              0.5555555555555556,
              "#d8576b"
             ],
             [
              0.6666666666666666,
              "#ed7953"
             ],
             [
              0.7777777777777778,
              "#fb9f3a"
             ],
             [
              0.8888888888888888,
              "#fdca26"
             ],
             [
              1,
              "#f0f921"
             ]
            ],
            "type": "histogram2dcontour"
           }
          ],
          "mesh3d": [
           {
            "colorbar": {
             "outlinewidth": 0,
             "ticks": ""
            },
            "type": "mesh3d"
           }
          ],
          "parcoords": [
           {
            "line": {
             "colorbar": {
              "outlinewidth": 0,
              "ticks": ""
             }
            },
            "type": "parcoords"
           }
          ],
          "pie": [
           {
            "automargin": true,
            "type": "pie"
           }
          ],
          "scatter": [
           {
            "marker": {
             "colorbar": {
              "outlinewidth": 0,
              "ticks": ""
             }
            },
            "type": "scatter"
           }
          ],
          "scatter3d": [
           {
            "line": {
             "colorbar": {
              "outlinewidth": 0,
              "ticks": ""
             }
            },
            "marker": {
             "colorbar": {
              "outlinewidth": 0,
              "ticks": ""
             }
            },
            "type": "scatter3d"
           }
          ],
          "scattercarpet": [
           {
            "marker": {
             "colorbar": {
              "outlinewidth": 0,
              "ticks": ""
             }
            },
            "type": "scattercarpet"
           }
          ],
          "scattergeo": [
           {
            "marker": {
             "colorbar": {
              "outlinewidth": 0,
              "ticks": ""
             }
            },
            "type": "scattergeo"
           }
          ],
          "scattergl": [
           {
            "marker": {
             "colorbar": {
              "outlinewidth": 0,
              "ticks": ""
             }
            },
            "type": "scattergl"
           }
          ],
          "scattermapbox": [
           {
            "marker": {
             "colorbar": {
              "outlinewidth": 0,
              "ticks": ""
             }
            },
            "type": "scattermapbox"
           }
          ],
          "scatterpolar": [
           {
            "marker": {
             "colorbar": {
              "outlinewidth": 0,
              "ticks": ""
             }
            },
            "type": "scatterpolar"
           }
          ],
          "scatterpolargl": [
           {
            "marker": {
             "colorbar": {
              "outlinewidth": 0,
              "ticks": ""
             }
            },
            "type": "scatterpolargl"
           }
          ],
          "scatterternary": [
           {
            "marker": {
             "colorbar": {
              "outlinewidth": 0,
              "ticks": ""
             }
            },
            "type": "scatterternary"
           }
          ],
          "surface": [
           {
            "colorbar": {
             "outlinewidth": 0,
             "ticks": ""
            },
            "colorscale": [
             [
              0,
              "#0d0887"
             ],
             [
              0.1111111111111111,
              "#46039f"
             ],
             [
              0.2222222222222222,
              "#7201a8"
             ],
             [
              0.3333333333333333,
              "#9c179e"
             ],
             [
              0.4444444444444444,
              "#bd3786"
             ],
             [
              0.5555555555555556,
              "#d8576b"
             ],
             [
              0.6666666666666666,
              "#ed7953"
             ],
             [
              0.7777777777777778,
              "#fb9f3a"
             ],
             [
              0.8888888888888888,
              "#fdca26"
             ],
             [
              1,
              "#f0f921"
             ]
            ],
            "type": "surface"
           }
          ],
          "table": [
           {
            "cells": {
             "fill": {
              "color": "#EBF0F8"
             },
             "line": {
              "color": "white"
             }
            },
            "header": {
             "fill": {
              "color": "#C8D4E3"
             },
             "line": {
              "color": "white"
             }
            },
            "type": "table"
           }
          ]
         },
         "layout": {
          "annotationdefaults": {
           "arrowcolor": "#2a3f5f",
           "arrowhead": 0,
           "arrowwidth": 1
          },
          "coloraxis": {
           "colorbar": {
            "outlinewidth": 0,
            "ticks": ""
           }
          },
          "colorscale": {
           "diverging": [
            [
             0,
             "#8e0152"
            ],
            [
             0.1,
             "#c51b7d"
            ],
            [
             0.2,
             "#de77ae"
            ],
            [
             0.3,
             "#f1b6da"
            ],
            [
             0.4,
             "#fde0ef"
            ],
            [
             0.5,
             "#f7f7f7"
            ],
            [
             0.6,
             "#e6f5d0"
            ],
            [
             0.7,
             "#b8e186"
            ],
            [
             0.8,
             "#7fbc41"
            ],
            [
             0.9,
             "#4d9221"
            ],
            [
             1,
             "#276419"
            ]
           ],
           "sequential": [
            [
             0,
             "#0d0887"
            ],
            [
             0.1111111111111111,
             "#46039f"
            ],
            [
             0.2222222222222222,
             "#7201a8"
            ],
            [
             0.3333333333333333,
             "#9c179e"
            ],
            [
             0.4444444444444444,
             "#bd3786"
            ],
            [
             0.5555555555555556,
             "#d8576b"
            ],
            [
             0.6666666666666666,
             "#ed7953"
            ],
            [
             0.7777777777777778,
             "#fb9f3a"
            ],
            [
             0.8888888888888888,
             "#fdca26"
            ],
            [
             1,
             "#f0f921"
            ]
           ],
           "sequentialminus": [
            [
             0,
             "#0d0887"
            ],
            [
             0.1111111111111111,
             "#46039f"
            ],
            [
             0.2222222222222222,
             "#7201a8"
            ],
            [
             0.3333333333333333,
             "#9c179e"
            ],
            [
             0.4444444444444444,
             "#bd3786"
            ],
            [
             0.5555555555555556,
             "#d8576b"
            ],
            [
             0.6666666666666666,
             "#ed7953"
            ],
            [
             0.7777777777777778,
             "#fb9f3a"
            ],
            [
             0.8888888888888888,
             "#fdca26"
            ],
            [
             1,
             "#f0f921"
            ]
           ]
          },
          "colorway": [
           "#636efa",
           "#EF553B",
           "#00cc96",
           "#ab63fa",
           "#FFA15A",
           "#19d3f3",
           "#FF6692",
           "#B6E880",
           "#FF97FF",
           "#FECB52"
          ],
          "font": {
           "color": "#2a3f5f"
          },
          "geo": {
           "bgcolor": "white",
           "lakecolor": "white",
           "landcolor": "#E5ECF6",
           "showlakes": true,
           "showland": true,
           "subunitcolor": "white"
          },
          "hoverlabel": {
           "align": "left"
          },
          "hovermode": "closest",
          "mapbox": {
           "style": "light"
          },
          "paper_bgcolor": "white",
          "plot_bgcolor": "#E5ECF6",
          "polar": {
           "angularaxis": {
            "gridcolor": "white",
            "linecolor": "white",
            "ticks": ""
           },
           "bgcolor": "#E5ECF6",
           "radialaxis": {
            "gridcolor": "white",
            "linecolor": "white",
            "ticks": ""
           }
          },
          "scene": {
           "xaxis": {
            "backgroundcolor": "#E5ECF6",
            "gridcolor": "white",
            "gridwidth": 2,
            "linecolor": "white",
            "showbackground": true,
            "ticks": "",
            "zerolinecolor": "white"
           },
           "yaxis": {
            "backgroundcolor": "#E5ECF6",
            "gridcolor": "white",
            "gridwidth": 2,
            "linecolor": "white",
            "showbackground": true,
            "ticks": "",
            "zerolinecolor": "white"
           },
           "zaxis": {
            "backgroundcolor": "#E5ECF6",
            "gridcolor": "white",
            "gridwidth": 2,
            "linecolor": "white",
            "showbackground": true,
            "ticks": "",
            "zerolinecolor": "white"
           }
          },
          "shapedefaults": {
           "line": {
            "color": "#2a3f5f"
           }
          },
          "ternary": {
           "aaxis": {
            "gridcolor": "white",
            "linecolor": "white",
            "ticks": ""
           },
           "baxis": {
            "gridcolor": "white",
            "linecolor": "white",
            "ticks": ""
           },
           "bgcolor": "#E5ECF6",
           "caxis": {
            "gridcolor": "white",
            "linecolor": "white",
            "ticks": ""
           }
          },
          "title": {
           "x": 0.05
          },
          "xaxis": {
           "automargin": true,
           "gridcolor": "white",
           "linecolor": "white",
           "ticks": "",
           "title": {
            "standoff": 15
           },
           "zerolinecolor": "white",
           "zerolinewidth": 2
          },
          "yaxis": {
           "automargin": true,
           "gridcolor": "white",
           "linecolor": "white",
           "ticks": "",
           "title": {
            "standoff": 15
           },
           "zerolinecolor": "white",
           "zerolinewidth": 2
          }
         }
        },
        "title": {
         "text": "Month of year"
        },
        "width": 800,
        "xaxis": {
         "anchor": "y",
         "domain": [
          0,
          1
         ],
         "title": {
          "text": "month"
         }
        },
        "yaxis": {
         "anchor": "x",
         "domain": [
          0,
          1
         ],
         "title": {
          "text": "count"
         }
        }
       }
      },
      "text/html": [
       "<div>\n",
       "        \n",
       "        \n",
       "            <div id=\"c4248ea0-3d91-4bd5-832b-970d81fcb280\" class=\"plotly-graph-div\" style=\"height:525px; width:800px;\"></div>\n",
       "            <script type=\"text/javascript\">\n",
       "                require([\"plotly\"], function(Plotly) {\n",
       "                    window.PLOTLYENV=window.PLOTLYENV || {};\n",
       "                    \n",
       "                if (document.getElementById(\"c4248ea0-3d91-4bd5-832b-970d81fcb280\")) {\n",
       "                    Plotly.newPlot(\n",
       "                        'c4248ea0-3d91-4bd5-832b-970d81fcb280',\n",
       "                        [{\"alignmentgroup\": \"True\", \"hovertemplate\": \"month=%{x}<br>count=%{marker.color}<extra></extra>\", \"legendgroup\": \"\", \"marker\": {\"color\": [505, 462, 503, 430, 418, 399, 413, 371, 328, 367, 354, 345], \"coloraxis\": \"coloraxis\"}, \"name\": \"\", \"offsetgroup\": \"\", \"orientation\": \"v\", \"showlegend\": false, \"textposition\": \"auto\", \"type\": \"bar\", \"x\": [1, 2, 3, 4, 5, 6, 7, 8, 9, 10, 11, 12], \"xaxis\": \"x\", \"y\": [505, 462, 503, 430, 418, 399, 413, 371, 328, 367, 354, 345], \"yaxis\": \"y\"}],\n",
       "                        {\"barmode\": \"relative\", \"coloraxis\": {\"colorbar\": {\"title\": {\"text\": \"count\"}}, \"colorscale\": [[0.0, \"#0d0887\"], [0.1111111111111111, \"#46039f\"], [0.2222222222222222, \"#7201a8\"], [0.3333333333333333, \"#9c179e\"], [0.4444444444444444, \"#bd3786\"], [0.5555555555555556, \"#d8576b\"], [0.6666666666666666, \"#ed7953\"], [0.7777777777777778, \"#fb9f3a\"], [0.8888888888888888, \"#fdca26\"], [1.0, \"#f0f921\"]]}, \"legend\": {\"tracegroupgap\": 0}, \"template\": {\"data\": {\"bar\": [{\"error_x\": {\"color\": \"#2a3f5f\"}, \"error_y\": {\"color\": \"#2a3f5f\"}, \"marker\": {\"line\": {\"color\": \"#E5ECF6\", \"width\": 0.5}}, \"type\": \"bar\"}], \"barpolar\": [{\"marker\": {\"line\": {\"color\": \"#E5ECF6\", \"width\": 0.5}}, \"type\": \"barpolar\"}], \"carpet\": [{\"aaxis\": {\"endlinecolor\": \"#2a3f5f\", \"gridcolor\": \"white\", \"linecolor\": \"white\", \"minorgridcolor\": \"white\", \"startlinecolor\": \"#2a3f5f\"}, \"baxis\": {\"endlinecolor\": \"#2a3f5f\", \"gridcolor\": \"white\", \"linecolor\": \"white\", \"minorgridcolor\": \"white\", \"startlinecolor\": \"#2a3f5f\"}, \"type\": \"carpet\"}], \"choropleth\": [{\"colorbar\": {\"outlinewidth\": 0, \"ticks\": \"\"}, \"type\": \"choropleth\"}], \"contour\": [{\"colorbar\": {\"outlinewidth\": 0, \"ticks\": \"\"}, \"colorscale\": [[0.0, \"#0d0887\"], [0.1111111111111111, \"#46039f\"], [0.2222222222222222, \"#7201a8\"], [0.3333333333333333, \"#9c179e\"], [0.4444444444444444, \"#bd3786\"], [0.5555555555555556, \"#d8576b\"], [0.6666666666666666, \"#ed7953\"], [0.7777777777777778, \"#fb9f3a\"], [0.8888888888888888, \"#fdca26\"], [1.0, \"#f0f921\"]], \"type\": \"contour\"}], \"contourcarpet\": [{\"colorbar\": {\"outlinewidth\": 0, \"ticks\": \"\"}, \"type\": \"contourcarpet\"}], \"heatmap\": [{\"colorbar\": {\"outlinewidth\": 0, \"ticks\": \"\"}, \"colorscale\": [[0.0, \"#0d0887\"], [0.1111111111111111, \"#46039f\"], [0.2222222222222222, \"#7201a8\"], [0.3333333333333333, \"#9c179e\"], [0.4444444444444444, \"#bd3786\"], [0.5555555555555556, \"#d8576b\"], [0.6666666666666666, \"#ed7953\"], [0.7777777777777778, \"#fb9f3a\"], [0.8888888888888888, \"#fdca26\"], [1.0, \"#f0f921\"]], \"type\": \"heatmap\"}], \"heatmapgl\": [{\"colorbar\": {\"outlinewidth\": 0, \"ticks\": \"\"}, \"colorscale\": [[0.0, \"#0d0887\"], [0.1111111111111111, \"#46039f\"], [0.2222222222222222, \"#7201a8\"], [0.3333333333333333, \"#9c179e\"], [0.4444444444444444, \"#bd3786\"], [0.5555555555555556, \"#d8576b\"], [0.6666666666666666, \"#ed7953\"], [0.7777777777777778, \"#fb9f3a\"], [0.8888888888888888, \"#fdca26\"], [1.0, \"#f0f921\"]], \"type\": \"heatmapgl\"}], \"histogram\": [{\"marker\": {\"colorbar\": {\"outlinewidth\": 0, \"ticks\": \"\"}}, \"type\": \"histogram\"}], \"histogram2d\": [{\"colorbar\": {\"outlinewidth\": 0, \"ticks\": \"\"}, \"colorscale\": [[0.0, \"#0d0887\"], [0.1111111111111111, \"#46039f\"], [0.2222222222222222, \"#7201a8\"], [0.3333333333333333, \"#9c179e\"], [0.4444444444444444, \"#bd3786\"], [0.5555555555555556, \"#d8576b\"], [0.6666666666666666, \"#ed7953\"], [0.7777777777777778, \"#fb9f3a\"], [0.8888888888888888, \"#fdca26\"], [1.0, \"#f0f921\"]], \"type\": \"histogram2d\"}], \"histogram2dcontour\": [{\"colorbar\": {\"outlinewidth\": 0, \"ticks\": \"\"}, \"colorscale\": [[0.0, \"#0d0887\"], [0.1111111111111111, \"#46039f\"], [0.2222222222222222, \"#7201a8\"], [0.3333333333333333, \"#9c179e\"], [0.4444444444444444, \"#bd3786\"], [0.5555555555555556, \"#d8576b\"], [0.6666666666666666, \"#ed7953\"], [0.7777777777777778, \"#fb9f3a\"], [0.8888888888888888, \"#fdca26\"], [1.0, \"#f0f921\"]], \"type\": \"histogram2dcontour\"}], \"mesh3d\": [{\"colorbar\": {\"outlinewidth\": 0, \"ticks\": \"\"}, \"type\": \"mesh3d\"}], \"parcoords\": [{\"line\": {\"colorbar\": {\"outlinewidth\": 0, \"ticks\": \"\"}}, \"type\": \"parcoords\"}], \"pie\": [{\"automargin\": true, \"type\": \"pie\"}], \"scatter\": [{\"marker\": {\"colorbar\": {\"outlinewidth\": 0, \"ticks\": \"\"}}, \"type\": \"scatter\"}], \"scatter3d\": [{\"line\": {\"colorbar\": {\"outlinewidth\": 0, \"ticks\": \"\"}}, \"marker\": {\"colorbar\": {\"outlinewidth\": 0, \"ticks\": \"\"}}, \"type\": \"scatter3d\"}], \"scattercarpet\": [{\"marker\": {\"colorbar\": {\"outlinewidth\": 0, \"ticks\": \"\"}}, \"type\": \"scattercarpet\"}], \"scattergeo\": [{\"marker\": {\"colorbar\": {\"outlinewidth\": 0, \"ticks\": \"\"}}, \"type\": \"scattergeo\"}], \"scattergl\": [{\"marker\": {\"colorbar\": {\"outlinewidth\": 0, \"ticks\": \"\"}}, \"type\": \"scattergl\"}], \"scattermapbox\": [{\"marker\": {\"colorbar\": {\"outlinewidth\": 0, \"ticks\": \"\"}}, \"type\": \"scattermapbox\"}], \"scatterpolar\": [{\"marker\": {\"colorbar\": {\"outlinewidth\": 0, \"ticks\": \"\"}}, \"type\": \"scatterpolar\"}], \"scatterpolargl\": [{\"marker\": {\"colorbar\": {\"outlinewidth\": 0, \"ticks\": \"\"}}, \"type\": \"scatterpolargl\"}], \"scatterternary\": [{\"marker\": {\"colorbar\": {\"outlinewidth\": 0, \"ticks\": \"\"}}, \"type\": \"scatterternary\"}], \"surface\": [{\"colorbar\": {\"outlinewidth\": 0, \"ticks\": \"\"}, \"colorscale\": [[0.0, \"#0d0887\"], [0.1111111111111111, \"#46039f\"], [0.2222222222222222, \"#7201a8\"], [0.3333333333333333, \"#9c179e\"], [0.4444444444444444, \"#bd3786\"], [0.5555555555555556, \"#d8576b\"], [0.6666666666666666, \"#ed7953\"], [0.7777777777777778, \"#fb9f3a\"], [0.8888888888888888, \"#fdca26\"], [1.0, \"#f0f921\"]], \"type\": \"surface\"}], \"table\": [{\"cells\": {\"fill\": {\"color\": \"#EBF0F8\"}, \"line\": {\"color\": \"white\"}}, \"header\": {\"fill\": {\"color\": \"#C8D4E3\"}, \"line\": {\"color\": \"white\"}}, \"type\": \"table\"}]}, \"layout\": {\"annotationdefaults\": {\"arrowcolor\": \"#2a3f5f\", \"arrowhead\": 0, \"arrowwidth\": 1}, \"coloraxis\": {\"colorbar\": {\"outlinewidth\": 0, \"ticks\": \"\"}}, \"colorscale\": {\"diverging\": [[0, \"#8e0152\"], [0.1, \"#c51b7d\"], [0.2, \"#de77ae\"], [0.3, \"#f1b6da\"], [0.4, \"#fde0ef\"], [0.5, \"#f7f7f7\"], [0.6, \"#e6f5d0\"], [0.7, \"#b8e186\"], [0.8, \"#7fbc41\"], [0.9, \"#4d9221\"], [1, \"#276419\"]], \"sequential\": [[0.0, \"#0d0887\"], [0.1111111111111111, \"#46039f\"], [0.2222222222222222, \"#7201a8\"], [0.3333333333333333, \"#9c179e\"], [0.4444444444444444, \"#bd3786\"], [0.5555555555555556, \"#d8576b\"], [0.6666666666666666, \"#ed7953\"], [0.7777777777777778, \"#fb9f3a\"], [0.8888888888888888, \"#fdca26\"], [1.0, \"#f0f921\"]], \"sequentialminus\": [[0.0, \"#0d0887\"], [0.1111111111111111, \"#46039f\"], [0.2222222222222222, \"#7201a8\"], [0.3333333333333333, \"#9c179e\"], [0.4444444444444444, \"#bd3786\"], [0.5555555555555556, \"#d8576b\"], [0.6666666666666666, \"#ed7953\"], [0.7777777777777778, \"#fb9f3a\"], [0.8888888888888888, \"#fdca26\"], [1.0, \"#f0f921\"]]}, \"colorway\": [\"#636efa\", \"#EF553B\", \"#00cc96\", \"#ab63fa\", \"#FFA15A\", \"#19d3f3\", \"#FF6692\", \"#B6E880\", \"#FF97FF\", \"#FECB52\"], \"font\": {\"color\": \"#2a3f5f\"}, \"geo\": {\"bgcolor\": \"white\", \"lakecolor\": \"white\", \"landcolor\": \"#E5ECF6\", \"showlakes\": true, \"showland\": true, \"subunitcolor\": \"white\"}, \"hoverlabel\": {\"align\": \"left\"}, \"hovermode\": \"closest\", \"mapbox\": {\"style\": \"light\"}, \"paper_bgcolor\": \"white\", \"plot_bgcolor\": \"#E5ECF6\", \"polar\": {\"angularaxis\": {\"gridcolor\": \"white\", \"linecolor\": \"white\", \"ticks\": \"\"}, \"bgcolor\": \"#E5ECF6\", \"radialaxis\": {\"gridcolor\": \"white\", \"linecolor\": \"white\", \"ticks\": \"\"}}, \"scene\": {\"xaxis\": {\"backgroundcolor\": \"#E5ECF6\", \"gridcolor\": \"white\", \"gridwidth\": 2, \"linecolor\": \"white\", \"showbackground\": true, \"ticks\": \"\", \"zerolinecolor\": \"white\"}, \"yaxis\": {\"backgroundcolor\": \"#E5ECF6\", \"gridcolor\": \"white\", \"gridwidth\": 2, \"linecolor\": \"white\", \"showbackground\": true, \"ticks\": \"\", \"zerolinecolor\": \"white\"}, \"zaxis\": {\"backgroundcolor\": \"#E5ECF6\", \"gridcolor\": \"white\", \"gridwidth\": 2, \"linecolor\": \"white\", \"showbackground\": true, \"ticks\": \"\", \"zerolinecolor\": \"white\"}}, \"shapedefaults\": {\"line\": {\"color\": \"#2a3f5f\"}}, \"ternary\": {\"aaxis\": {\"gridcolor\": \"white\", \"linecolor\": \"white\", \"ticks\": \"\"}, \"baxis\": {\"gridcolor\": \"white\", \"linecolor\": \"white\", \"ticks\": \"\"}, \"bgcolor\": \"#E5ECF6\", \"caxis\": {\"gridcolor\": \"white\", \"linecolor\": \"white\", \"ticks\": \"\"}}, \"title\": {\"x\": 0.05}, \"xaxis\": {\"automargin\": true, \"gridcolor\": \"white\", \"linecolor\": \"white\", \"ticks\": \"\", \"title\": {\"standoff\": 15}, \"zerolinecolor\": \"white\", \"zerolinewidth\": 2}, \"yaxis\": {\"automargin\": true, \"gridcolor\": \"white\", \"linecolor\": \"white\", \"ticks\": \"\", \"title\": {\"standoff\": 15}, \"zerolinecolor\": \"white\", \"zerolinewidth\": 2}}}, \"title\": {\"text\": \"Month of year\"}, \"width\": 800, \"xaxis\": {\"anchor\": \"y\", \"domain\": [0.0, 1.0], \"title\": {\"text\": \"month\"}}, \"yaxis\": {\"anchor\": \"x\", \"domain\": [0.0, 1.0], \"title\": {\"text\": \"count\"}}},\n",
       "                        {\"responsive\": true}\n",
       "                    ).then(function(){\n",
       "                            \n",
       "var gd = document.getElementById('c4248ea0-3d91-4bd5-832b-970d81fcb280');\n",
       "var x = new MutationObserver(function (mutations, observer) {{\n",
       "        var display = window.getComputedStyle(gd).display;\n",
       "        if (!display || display === 'none') {{\n",
       "            console.log([gd, 'removed!']);\n",
       "            Plotly.purge(gd);\n",
       "            observer.disconnect();\n",
       "        }}\n",
       "}});\n",
       "\n",
       "// Listen for the removal of the full notebook cells\n",
       "var notebookContainer = gd.closest('#notebook-container');\n",
       "if (notebookContainer) {{\n",
       "    x.observe(notebookContainer, {childList: true});\n",
       "}}\n",
       "\n",
       "// Listen for the clearing of the current output cell\n",
       "var outputEl = gd.closest('.output');\n",
       "if (outputEl) {{\n",
       "    x.observe(outputEl, {childList: true});\n",
       "}}\n",
       "\n",
       "                        })\n",
       "                };\n",
       "                });\n",
       "            </script>\n",
       "        </div>"
      ]
     },
     "metadata": {},
     "output_type": "display_data"
    }
   ],
   "source": [
    "# Death by Months of the Year\n",
    "data = df.groupby(['month'])['name'].count().reset_index()\n",
    "data.columns = ['month', 'count']\n",
    "fig = px.bar(data, x='month', y='count', orientation='v', title='Month of year', width=800,color = 'count')\n",
    "fig.show()"
   ]
  },
  {
   "cell_type": "code",
   "execution_count": 78,
   "metadata": {},
   "outputs": [
    {
     "data": {
      "text/html": [
       "<div>\n",
       "<style scoped>\n",
       "    .dataframe tbody tr th:only-of-type {\n",
       "        vertical-align: middle;\n",
       "    }\n",
       "\n",
       "    .dataframe tbody tr th {\n",
       "        vertical-align: top;\n",
       "    }\n",
       "\n",
       "    .dataframe thead th {\n",
       "        text-align: right;\n",
       "    }\n",
       "</style>\n",
       "<table border=\"1\" class=\"dataframe\">\n",
       "  <thead>\n",
       "    <tr style=\"text-align: right;\">\n",
       "      <th></th>\n",
       "      <th>id</th>\n",
       "      <th>name</th>\n",
       "      <th>date</th>\n",
       "      <th>manner_of_death</th>\n",
       "      <th>armed</th>\n",
       "      <th>age</th>\n",
       "      <th>gender</th>\n",
       "      <th>race</th>\n",
       "      <th>city</th>\n",
       "      <th>state</th>\n",
       "      <th>signs_of_mental_illness</th>\n",
       "      <th>threat_level</th>\n",
       "      <th>flee</th>\n",
       "      <th>body_camera</th>\n",
       "      <th>arms_category</th>\n",
       "      <th>weekday</th>\n",
       "      <th>month</th>\n",
       "      <th>month_day</th>\n",
       "      <th>year</th>\n",
       "      <th>month_year</th>\n",
       "    </tr>\n",
       "  </thead>\n",
       "  <tbody>\n",
       "    <tr>\n",
       "      <th>0</th>\n",
       "      <td>3</td>\n",
       "      <td>Tim Elliot</td>\n",
       "      <td>2015-01-02</td>\n",
       "      <td>shot</td>\n",
       "      <td>gun</td>\n",
       "      <td>53.0</td>\n",
       "      <td>M</td>\n",
       "      <td>Asian</td>\n",
       "      <td>Shelton</td>\n",
       "      <td>WA</td>\n",
       "      <td>True</td>\n",
       "      <td>attack</td>\n",
       "      <td>Not fleeing</td>\n",
       "      <td>False</td>\n",
       "      <td>Guns</td>\n",
       "      <td>4</td>\n",
       "      <td>1</td>\n",
       "      <td>2</td>\n",
       "      <td>2015</td>\n",
       "      <td>2015-01</td>\n",
       "    </tr>\n",
       "    <tr>\n",
       "      <th>1</th>\n",
       "      <td>4</td>\n",
       "      <td>Lewis Lee Lembke</td>\n",
       "      <td>2015-01-02</td>\n",
       "      <td>shot</td>\n",
       "      <td>gun</td>\n",
       "      <td>47.0</td>\n",
       "      <td>M</td>\n",
       "      <td>White</td>\n",
       "      <td>Aloha</td>\n",
       "      <td>OR</td>\n",
       "      <td>False</td>\n",
       "      <td>attack</td>\n",
       "      <td>Not fleeing</td>\n",
       "      <td>False</td>\n",
       "      <td>Guns</td>\n",
       "      <td>4</td>\n",
       "      <td>1</td>\n",
       "      <td>2</td>\n",
       "      <td>2015</td>\n",
       "      <td>2015-01</td>\n",
       "    </tr>\n",
       "    <tr>\n",
       "      <th>2</th>\n",
       "      <td>5</td>\n",
       "      <td>John Paul Quintero</td>\n",
       "      <td>2015-01-03</td>\n",
       "      <td>shot and Tasered</td>\n",
       "      <td>unarmed</td>\n",
       "      <td>23.0</td>\n",
       "      <td>M</td>\n",
       "      <td>Hispanic</td>\n",
       "      <td>Wichita</td>\n",
       "      <td>KS</td>\n",
       "      <td>False</td>\n",
       "      <td>other</td>\n",
       "      <td>Not fleeing</td>\n",
       "      <td>False</td>\n",
       "      <td>Unarmed</td>\n",
       "      <td>5</td>\n",
       "      <td>1</td>\n",
       "      <td>3</td>\n",
       "      <td>2015</td>\n",
       "      <td>2015-01</td>\n",
       "    </tr>\n",
       "    <tr>\n",
       "      <th>3</th>\n",
       "      <td>8</td>\n",
       "      <td>Matthew Hoffman</td>\n",
       "      <td>2015-01-04</td>\n",
       "      <td>shot</td>\n",
       "      <td>toy weapon</td>\n",
       "      <td>32.0</td>\n",
       "      <td>M</td>\n",
       "      <td>White</td>\n",
       "      <td>San Francisco</td>\n",
       "      <td>CA</td>\n",
       "      <td>True</td>\n",
       "      <td>attack</td>\n",
       "      <td>Not fleeing</td>\n",
       "      <td>False</td>\n",
       "      <td>Other unusual objects</td>\n",
       "      <td>6</td>\n",
       "      <td>1</td>\n",
       "      <td>4</td>\n",
       "      <td>2015</td>\n",
       "      <td>2015-01</td>\n",
       "    </tr>\n",
       "    <tr>\n",
       "      <th>4</th>\n",
       "      <td>9</td>\n",
       "      <td>Michael Rodriguez</td>\n",
       "      <td>2015-01-04</td>\n",
       "      <td>shot</td>\n",
       "      <td>nail gun</td>\n",
       "      <td>39.0</td>\n",
       "      <td>M</td>\n",
       "      <td>Hispanic</td>\n",
       "      <td>Evans</td>\n",
       "      <td>CO</td>\n",
       "      <td>False</td>\n",
       "      <td>attack</td>\n",
       "      <td>Not fleeing</td>\n",
       "      <td>False</td>\n",
       "      <td>Piercing objects</td>\n",
       "      <td>6</td>\n",
       "      <td>1</td>\n",
       "      <td>4</td>\n",
       "      <td>2015</td>\n",
       "      <td>2015-01</td>\n",
       "    </tr>\n",
       "  </tbody>\n",
       "</table>\n",
       "</div>"
      ],
      "text/plain": [
       "   id                name       date   manner_of_death       armed   age  \\\n",
       "0   3          Tim Elliot 2015-01-02              shot         gun  53.0   \n",
       "1   4    Lewis Lee Lembke 2015-01-02              shot         gun  47.0   \n",
       "2   5  John Paul Quintero 2015-01-03  shot and Tasered     unarmed  23.0   \n",
       "3   8     Matthew Hoffman 2015-01-04              shot  toy weapon  32.0   \n",
       "4   9   Michael Rodriguez 2015-01-04              shot    nail gun  39.0   \n",
       "\n",
       "  gender      race           city state  signs_of_mental_illness threat_level  \\\n",
       "0      M     Asian        Shelton    WA                     True       attack   \n",
       "1      M     White          Aloha    OR                    False       attack   \n",
       "2      M  Hispanic        Wichita    KS                    False        other   \n",
       "3      M     White  San Francisco    CA                     True       attack   \n",
       "4      M  Hispanic          Evans    CO                    False       attack   \n",
       "\n",
       "          flee  body_camera          arms_category  weekday  month  month_day  \\\n",
       "0  Not fleeing        False                   Guns        4      1          2   \n",
       "1  Not fleeing        False                   Guns        4      1          2   \n",
       "2  Not fleeing        False                Unarmed        5      1          3   \n",
       "3  Not fleeing        False  Other unusual objects        6      1          4   \n",
       "4  Not fleeing        False       Piercing objects        6      1          4   \n",
       "\n",
       "   year month_year  \n",
       "0  2015    2015-01  \n",
       "1  2015    2015-01  \n",
       "2  2015    2015-01  \n",
       "3  2015    2015-01  \n",
       "4  2015    2015-01  "
      ]
     },
     "execution_count": 78,
     "metadata": {},
     "output_type": "execute_result"
    }
   ],
   "source": [
    "#Coversion of date to month\n",
    "df['month_year'] = pd.to_datetime(df['date']).dt.to_period('M')\n",
    "df.head()"
   ]
  },
  {
   "cell_type": "code",
   "execution_count": 127,
   "metadata": {},
   "outputs": [
    {
     "data": {
      "application/vnd.plotly.v1+json": {
       "config": {
        "plotlyServerURL": "https://plot.ly"
       },
       "data": [
        {
         "alignmentgroup": "True",
         "hovertemplate": "month_year=%{x}<br>count=%{y}<extra></extra>",
         "legendgroup": "2015-01",
         "marker": {
          "color": "#636efa"
         },
         "name": "2015-01",
         "offsetgroup": "2015-01",
         "orientation": "v",
         "showlegend": true,
         "textposition": "auto",
         "type": "bar",
         "x": [
          "2015-01"
         ],
         "xaxis": "x",
         "y": [
          75
         ],
         "yaxis": "y"
        },
        {
         "alignmentgroup": "True",
         "hovertemplate": "month_year=%{x}<br>count=%{y}<extra></extra>",
         "legendgroup": "2015-02",
         "marker": {
          "color": "#EF553B"
         },
         "name": "2015-02",
         "offsetgroup": "2015-02",
         "orientation": "v",
         "showlegend": true,
         "textposition": "auto",
         "type": "bar",
         "x": [
          "2015-02"
         ],
         "xaxis": "x",
         "y": [
          77
         ],
         "yaxis": "y"
        },
        {
         "alignmentgroup": "True",
         "hovertemplate": "month_year=%{x}<br>count=%{y}<extra></extra>",
         "legendgroup": "2015-03",
         "marker": {
          "color": "#00cc96"
         },
         "name": "2015-03",
         "offsetgroup": "2015-03",
         "orientation": "v",
         "showlegend": true,
         "textposition": "auto",
         "type": "bar",
         "x": [
          "2015-03"
         ],
         "xaxis": "x",
         "y": [
          91
         ],
         "yaxis": "y"
        },
        {
         "alignmentgroup": "True",
         "hovertemplate": "month_year=%{x}<br>count=%{y}<extra></extra>",
         "legendgroup": "2015-04",
         "marker": {
          "color": "#ab63fa"
         },
         "name": "2015-04",
         "offsetgroup": "2015-04",
         "orientation": "v",
         "showlegend": true,
         "textposition": "auto",
         "type": "bar",
         "x": [
          "2015-04"
         ],
         "xaxis": "x",
         "y": [
          83
         ],
         "yaxis": "y"
        },
        {
         "alignmentgroup": "True",
         "hovertemplate": "month_year=%{x}<br>count=%{y}<extra></extra>",
         "legendgroup": "2015-05",
         "marker": {
          "color": "#FFA15A"
         },
         "name": "2015-05",
         "offsetgroup": "2015-05",
         "orientation": "v",
         "showlegend": true,
         "textposition": "auto",
         "type": "bar",
         "x": [
          "2015-05"
         ],
         "xaxis": "x",
         "y": [
          69
         ],
         "yaxis": "y"
        },
        {
         "alignmentgroup": "True",
         "hovertemplate": "month_year=%{x}<br>count=%{y}<extra></extra>",
         "legendgroup": "2015-06",
         "marker": {
          "color": "#19d3f3"
         },
         "name": "2015-06",
         "offsetgroup": "2015-06",
         "orientation": "v",
         "showlegend": true,
         "textposition": "auto",
         "type": "bar",
         "x": [
          "2015-06"
         ],
         "xaxis": "x",
         "y": [
          63
         ],
         "yaxis": "y"
        },
        {
         "alignmentgroup": "True",
         "hovertemplate": "month_year=%{x}<br>count=%{y}<extra></extra>",
         "legendgroup": "2015-07",
         "marker": {
          "color": "#FF6692"
         },
         "name": "2015-07",
         "offsetgroup": "2015-07",
         "orientation": "v",
         "showlegend": true,
         "textposition": "auto",
         "type": "bar",
         "x": [
          "2015-07"
         ],
         "xaxis": "x",
         "y": [
          100
         ],
         "yaxis": "y"
        },
        {
         "alignmentgroup": "True",
         "hovertemplate": "month_year=%{x}<br>count=%{y}<extra></extra>",
         "legendgroup": "2015-08",
         "marker": {
          "color": "#B6E880"
         },
         "name": "2015-08",
         "offsetgroup": "2015-08",
         "orientation": "v",
         "showlegend": true,
         "textposition": "auto",
         "type": "bar",
         "x": [
          "2015-08"
         ],
         "xaxis": "x",
         "y": [
          91
         ],
         "yaxis": "y"
        },
        {
         "alignmentgroup": "True",
         "hovertemplate": "month_year=%{x}<br>count=%{y}<extra></extra>",
         "legendgroup": "2015-09",
         "marker": {
          "color": "#FF97FF"
         },
         "name": "2015-09",
         "offsetgroup": "2015-09",
         "orientation": "v",
         "showlegend": true,
         "textposition": "auto",
         "type": "bar",
         "x": [
          "2015-09"
         ],
         "xaxis": "x",
         "y": [
          80
         ],
         "yaxis": "y"
        },
        {
         "alignmentgroup": "True",
         "hovertemplate": "month_year=%{x}<br>count=%{y}<extra></extra>",
         "legendgroup": "2015-10",
         "marker": {
          "color": "#FECB52"
         },
         "name": "2015-10",
         "offsetgroup": "2015-10",
         "orientation": "v",
         "showlegend": true,
         "textposition": "auto",
         "type": "bar",
         "x": [
          "2015-10"
         ],
         "xaxis": "x",
         "y": [
          78
         ],
         "yaxis": "y"
        },
        {
         "alignmentgroup": "True",
         "hovertemplate": "month_year=%{x}<br>count=%{y}<extra></extra>",
         "legendgroup": "2015-11",
         "marker": {
          "color": "#636efa"
         },
         "name": "2015-11",
         "offsetgroup": "2015-11",
         "orientation": "v",
         "showlegend": true,
         "textposition": "auto",
         "type": "bar",
         "x": [
          "2015-11"
         ],
         "xaxis": "x",
         "y": [
          76
         ],
         "yaxis": "y"
        },
        {
         "alignmentgroup": "True",
         "hovertemplate": "month_year=%{x}<br>count=%{y}<extra></extra>",
         "legendgroup": "2015-12",
         "marker": {
          "color": "#EF553B"
         },
         "name": "2015-12",
         "offsetgroup": "2015-12",
         "orientation": "v",
         "showlegend": true,
         "textposition": "auto",
         "type": "bar",
         "x": [
          "2015-12"
         ],
         "xaxis": "x",
         "y": [
          82
         ],
         "yaxis": "y"
        },
        {
         "alignmentgroup": "True",
         "hovertemplate": "month_year=%{x}<br>count=%{y}<extra></extra>",
         "legendgroup": "2016-01",
         "marker": {
          "color": "#00cc96"
         },
         "name": "2016-01",
         "offsetgroup": "2016-01",
         "orientation": "v",
         "showlegend": true,
         "textposition": "auto",
         "type": "bar",
         "x": [
          "2016-01"
         ],
         "xaxis": "x",
         "y": [
          80
         ],
         "yaxis": "y"
        },
        {
         "alignmentgroup": "True",
         "hovertemplate": "month_year=%{x}<br>count=%{y}<extra></extra>",
         "legendgroup": "2016-02",
         "marker": {
          "color": "#ab63fa"
         },
         "name": "2016-02",
         "offsetgroup": "2016-02",
         "orientation": "v",
         "showlegend": true,
         "textposition": "auto",
         "type": "bar",
         "x": [
          "2016-02"
         ],
         "xaxis": "x",
         "y": [
          85
         ],
         "yaxis": "y"
        },
        {
         "alignmentgroup": "True",
         "hovertemplate": "month_year=%{x}<br>count=%{y}<extra></extra>",
         "legendgroup": "2016-03",
         "marker": {
          "color": "#FFA15A"
         },
         "name": "2016-03",
         "offsetgroup": "2016-03",
         "orientation": "v",
         "showlegend": true,
         "textposition": "auto",
         "type": "bar",
         "x": [
          "2016-03"
         ],
         "xaxis": "x",
         "y": [
          90
         ],
         "yaxis": "y"
        },
        {
         "alignmentgroup": "True",
         "hovertemplate": "month_year=%{x}<br>count=%{y}<extra></extra>",
         "legendgroup": "2016-04",
         "marker": {
          "color": "#19d3f3"
         },
         "name": "2016-04",
         "offsetgroup": "2016-04",
         "orientation": "v",
         "showlegend": true,
         "textposition": "auto",
         "type": "bar",
         "x": [
          "2016-04"
         ],
         "xaxis": "x",
         "y": [
          73
         ],
         "yaxis": "y"
        },
        {
         "alignmentgroup": "True",
         "hovertemplate": "month_year=%{x}<br>count=%{y}<extra></extra>",
         "legendgroup": "2016-05",
         "marker": {
          "color": "#FF6692"
         },
         "name": "2016-05",
         "offsetgroup": "2016-05",
         "orientation": "v",
         "showlegend": true,
         "textposition": "auto",
         "type": "bar",
         "x": [
          "2016-05"
         ],
         "xaxis": "x",
         "y": [
          69
         ],
         "yaxis": "y"
        },
        {
         "alignmentgroup": "True",
         "hovertemplate": "month_year=%{x}<br>count=%{y}<extra></extra>",
         "legendgroup": "2016-06",
         "marker": {
          "color": "#B6E880"
         },
         "name": "2016-06",
         "offsetgroup": "2016-06",
         "orientation": "v",
         "showlegend": true,
         "textposition": "auto",
         "type": "bar",
         "x": [
          "2016-06"
         ],
         "xaxis": "x",
         "y": [
          87
         ],
         "yaxis": "y"
        },
        {
         "alignmentgroup": "True",
         "hovertemplate": "month_year=%{x}<br>count=%{y}<extra></extra>",
         "legendgroup": "2016-07",
         "marker": {
          "color": "#FF97FF"
         },
         "name": "2016-07",
         "offsetgroup": "2016-07",
         "orientation": "v",
         "showlegend": true,
         "textposition": "auto",
         "type": "bar",
         "x": [
          "2016-07"
         ],
         "xaxis": "x",
         "y": [
          71
         ],
         "yaxis": "y"
        },
        {
         "alignmentgroup": "True",
         "hovertemplate": "month_year=%{x}<br>count=%{y}<extra></extra>",
         "legendgroup": "2016-08",
         "marker": {
          "color": "#FECB52"
         },
         "name": "2016-08",
         "offsetgroup": "2016-08",
         "orientation": "v",
         "showlegend": true,
         "textposition": "auto",
         "type": "bar",
         "x": [
          "2016-08"
         ],
         "xaxis": "x",
         "y": [
          77
         ],
         "yaxis": "y"
        },
        {
         "alignmentgroup": "True",
         "hovertemplate": "month_year=%{x}<br>count=%{y}<extra></extra>",
         "legendgroup": "2016-09",
         "marker": {
          "color": "#636efa"
         },
         "name": "2016-09",
         "offsetgroup": "2016-09",
         "orientation": "v",
         "showlegend": true,
         "textposition": "auto",
         "type": "bar",
         "x": [
          "2016-09"
         ],
         "xaxis": "x",
         "y": [
          73
         ],
         "yaxis": "y"
        },
        {
         "alignmentgroup": "True",
         "hovertemplate": "month_year=%{x}<br>count=%{y}<extra></extra>",
         "legendgroup": "2016-10",
         "marker": {
          "color": "#EF553B"
         },
         "name": "2016-10",
         "offsetgroup": "2016-10",
         "orientation": "v",
         "showlegend": true,
         "textposition": "auto",
         "type": "bar",
         "x": [
          "2016-10"
         ],
         "xaxis": "x",
         "y": [
          71
         ],
         "yaxis": "y"
        },
        {
         "alignmentgroup": "True",
         "hovertemplate": "month_year=%{x}<br>count=%{y}<extra></extra>",
         "legendgroup": "2016-11",
         "marker": {
          "color": "#00cc96"
         },
         "name": "2016-11",
         "offsetgroup": "2016-11",
         "orientation": "v",
         "showlegend": true,
         "textposition": "auto",
         "type": "bar",
         "x": [
          "2016-11"
         ],
         "xaxis": "x",
         "y": [
          68
         ],
         "yaxis": "y"
        },
        {
         "alignmentgroup": "True",
         "hovertemplate": "month_year=%{x}<br>count=%{y}<extra></extra>",
         "legendgroup": "2016-12",
         "marker": {
          "color": "#ab63fa"
         },
         "name": "2016-12",
         "offsetgroup": "2016-12",
         "orientation": "v",
         "showlegend": true,
         "textposition": "auto",
         "type": "bar",
         "x": [
          "2016-12"
         ],
         "xaxis": "x",
         "y": [
          60
         ],
         "yaxis": "y"
        },
        {
         "alignmentgroup": "True",
         "hovertemplate": "month_year=%{x}<br>count=%{y}<extra></extra>",
         "legendgroup": "2017-01",
         "marker": {
          "color": "#FFA15A"
         },
         "name": "2017-01",
         "offsetgroup": "2017-01",
         "orientation": "v",
         "showlegend": true,
         "textposition": "auto",
         "type": "bar",
         "x": [
          "2017-01"
         ],
         "xaxis": "x",
         "y": [
          91
         ],
         "yaxis": "y"
        },
        {
         "alignmentgroup": "True",
         "hovertemplate": "month_year=%{x}<br>count=%{y}<extra></extra>",
         "legendgroup": "2017-02",
         "marker": {
          "color": "#19d3f3"
         },
         "name": "2017-02",
         "offsetgroup": "2017-02",
         "orientation": "v",
         "showlegend": true,
         "textposition": "auto",
         "type": "bar",
         "x": [
          "2017-02"
         ],
         "xaxis": "x",
         "y": [
          97
         ],
         "yaxis": "y"
        },
        {
         "alignmentgroup": "True",
         "hovertemplate": "month_year=%{x}<br>count=%{y}<extra></extra>",
         "legendgroup": "2017-03",
         "marker": {
          "color": "#FF6692"
         },
         "name": "2017-03",
         "offsetgroup": "2017-03",
         "orientation": "v",
         "showlegend": true,
         "textposition": "auto",
         "type": "bar",
         "x": [
          "2017-03"
         ],
         "xaxis": "x",
         "y": [
          74
         ],
         "yaxis": "y"
        },
        {
         "alignmentgroup": "True",
         "hovertemplate": "month_year=%{x}<br>count=%{y}<extra></extra>",
         "legendgroup": "2017-04",
         "marker": {
          "color": "#B6E880"
         },
         "name": "2017-04",
         "offsetgroup": "2017-04",
         "orientation": "v",
         "showlegend": true,
         "textposition": "auto",
         "type": "bar",
         "x": [
          "2017-04"
         ],
         "xaxis": "x",
         "y": [
          65
         ],
         "yaxis": "y"
        },
        {
         "alignmentgroup": "True",
         "hovertemplate": "month_year=%{x}<br>count=%{y}<extra></extra>",
         "legendgroup": "2017-05",
         "marker": {
          "color": "#FF97FF"
         },
         "name": "2017-05",
         "offsetgroup": "2017-05",
         "orientation": "v",
         "showlegend": true,
         "textposition": "auto",
         "type": "bar",
         "x": [
          "2017-05"
         ],
         "xaxis": "x",
         "y": [
          68
         ],
         "yaxis": "y"
        },
        {
         "alignmentgroup": "True",
         "hovertemplate": "month_year=%{x}<br>count=%{y}<extra></extra>",
         "legendgroup": "2017-06",
         "marker": {
          "color": "#FECB52"
         },
         "name": "2017-06",
         "offsetgroup": "2017-06",
         "orientation": "v",
         "showlegend": true,
         "textposition": "auto",
         "type": "bar",
         "x": [
          "2017-06"
         ],
         "xaxis": "x",
         "y": [
          80
         ],
         "yaxis": "y"
        },
        {
         "alignmentgroup": "True",
         "hovertemplate": "month_year=%{x}<br>count=%{y}<extra></extra>",
         "legendgroup": "2017-07",
         "marker": {
          "color": "#636efa"
         },
         "name": "2017-07",
         "offsetgroup": "2017-07",
         "orientation": "v",
         "showlegend": true,
         "textposition": "auto",
         "type": "bar",
         "x": [
          "2017-07"
         ],
         "xaxis": "x",
         "y": [
          91
         ],
         "yaxis": "y"
        },
        {
         "alignmentgroup": "True",
         "hovertemplate": "month_year=%{x}<br>count=%{y}<extra></extra>",
         "legendgroup": "2017-08",
         "marker": {
          "color": "#EF553B"
         },
         "name": "2017-08",
         "offsetgroup": "2017-08",
         "orientation": "v",
         "showlegend": true,
         "textposition": "auto",
         "type": "bar",
         "x": [
          "2017-08"
         ],
         "xaxis": "x",
         "y": [
          78
         ],
         "yaxis": "y"
        },
        {
         "alignmentgroup": "True",
         "hovertemplate": "month_year=%{x}<br>count=%{y}<extra></extra>",
         "legendgroup": "2017-09",
         "marker": {
          "color": "#00cc96"
         },
         "name": "2017-09",
         "offsetgroup": "2017-09",
         "orientation": "v",
         "showlegend": true,
         "textposition": "auto",
         "type": "bar",
         "x": [
          "2017-09"
         ],
         "xaxis": "x",
         "y": [
          66
         ],
         "yaxis": "y"
        },
        {
         "alignmentgroup": "True",
         "hovertemplate": "month_year=%{x}<br>count=%{y}<extra></extra>",
         "legendgroup": "2017-10",
         "marker": {
          "color": "#ab63fa"
         },
         "name": "2017-10",
         "offsetgroup": "2017-10",
         "orientation": "v",
         "showlegend": true,
         "textposition": "auto",
         "type": "bar",
         "x": [
          "2017-10"
         ],
         "xaxis": "x",
         "y": [
          81
         ],
         "yaxis": "y"
        },
        {
         "alignmentgroup": "True",
         "hovertemplate": "month_year=%{x}<br>count=%{y}<extra></extra>",
         "legendgroup": "2017-11",
         "marker": {
          "color": "#FFA15A"
         },
         "name": "2017-11",
         "offsetgroup": "2017-11",
         "orientation": "v",
         "showlegend": true,
         "textposition": "auto",
         "type": "bar",
         "x": [
          "2017-11"
         ],
         "xaxis": "x",
         "y": [
          76
         ],
         "yaxis": "y"
        },
        {
         "alignmentgroup": "True",
         "hovertemplate": "month_year=%{x}<br>count=%{y}<extra></extra>",
         "legendgroup": "2017-12",
         "marker": {
          "color": "#19d3f3"
         },
         "name": "2017-12",
         "offsetgroup": "2017-12",
         "orientation": "v",
         "showlegend": true,
         "textposition": "auto",
         "type": "bar",
         "x": [
          "2017-12"
         ],
         "xaxis": "x",
         "y": [
          39
         ],
         "yaxis": "y"
        },
        {
         "alignmentgroup": "True",
         "hovertemplate": "month_year=%{x}<br>count=%{y}<extra></extra>",
         "legendgroup": "2018-01",
         "marker": {
          "color": "#FF6692"
         },
         "name": "2018-01",
         "offsetgroup": "2018-01",
         "orientation": "v",
         "showlegend": true,
         "textposition": "auto",
         "type": "bar",
         "x": [
          "2018-01"
         ],
         "xaxis": "x",
         "y": [
          96
         ],
         "yaxis": "y"
        },
        {
         "alignmentgroup": "True",
         "hovertemplate": "month_year=%{x}<br>count=%{y}<extra></extra>",
         "legendgroup": "2018-02",
         "marker": {
          "color": "#B6E880"
         },
         "name": "2018-02",
         "offsetgroup": "2018-02",
         "orientation": "v",
         "showlegend": true,
         "textposition": "auto",
         "type": "bar",
         "x": [
          "2018-02"
         ],
         "xaxis": "x",
         "y": [
          74
         ],
         "yaxis": "y"
        },
        {
         "alignmentgroup": "True",
         "hovertemplate": "month_year=%{x}<br>count=%{y}<extra></extra>",
         "legendgroup": "2018-03",
         "marker": {
          "color": "#FF97FF"
         },
         "name": "2018-03",
         "offsetgroup": "2018-03",
         "orientation": "v",
         "showlegend": true,
         "textposition": "auto",
         "type": "bar",
         "x": [
          "2018-03"
         ],
         "xaxis": "x",
         "y": [
          99
         ],
         "yaxis": "y"
        },
        {
         "alignmentgroup": "True",
         "hovertemplate": "month_year=%{x}<br>count=%{y}<extra></extra>",
         "legendgroup": "2018-04",
         "marker": {
          "color": "#FECB52"
         },
         "name": "2018-04",
         "offsetgroup": "2018-04",
         "orientation": "v",
         "showlegend": true,
         "textposition": "auto",
         "type": "bar",
         "x": [
          "2018-04"
         ],
         "xaxis": "x",
         "y": [
          88
         ],
         "yaxis": "y"
        },
        {
         "alignmentgroup": "True",
         "hovertemplate": "month_year=%{x}<br>count=%{y}<extra></extra>",
         "legendgroup": "2018-05",
         "marker": {
          "color": "#636efa"
         },
         "name": "2018-05",
         "offsetgroup": "2018-05",
         "orientation": "v",
         "showlegend": true,
         "textposition": "auto",
         "type": "bar",
         "x": [
          "2018-05"
         ],
         "xaxis": "x",
         "y": [
          70
         ],
         "yaxis": "y"
        },
        {
         "alignmentgroup": "True",
         "hovertemplate": "month_year=%{x}<br>count=%{y}<extra></extra>",
         "legendgroup": "2018-06",
         "marker": {
          "color": "#EF553B"
         },
         "name": "2018-06",
         "offsetgroup": "2018-06",
         "orientation": "v",
         "showlegend": true,
         "textposition": "auto",
         "type": "bar",
         "x": [
          "2018-06"
         ],
         "xaxis": "x",
         "y": [
          70
         ],
         "yaxis": "y"
        },
        {
         "alignmentgroup": "True",
         "hovertemplate": "month_year=%{x}<br>count=%{y}<extra></extra>",
         "legendgroup": "2018-07",
         "marker": {
          "color": "#00cc96"
         },
         "name": "2018-07",
         "offsetgroup": "2018-07",
         "orientation": "v",
         "showlegend": true,
         "textposition": "auto",
         "type": "bar",
         "x": [
          "2018-07"
         ],
         "xaxis": "x",
         "y": [
          82
         ],
         "yaxis": "y"
        },
        {
         "alignmentgroup": "True",
         "hovertemplate": "month_year=%{x}<br>count=%{y}<extra></extra>",
         "legendgroup": "2018-08",
         "marker": {
          "color": "#ab63fa"
         },
         "name": "2018-08",
         "offsetgroup": "2018-08",
         "orientation": "v",
         "showlegend": true,
         "textposition": "auto",
         "type": "bar",
         "x": [
          "2018-08"
         ],
         "xaxis": "x",
         "y": [
          68
         ],
         "yaxis": "y"
        },
        {
         "alignmentgroup": "True",
         "hovertemplate": "month_year=%{x}<br>count=%{y}<extra></extra>",
         "legendgroup": "2018-09",
         "marker": {
          "color": "#FFA15A"
         },
         "name": "2018-09",
         "offsetgroup": "2018-09",
         "orientation": "v",
         "showlegend": true,
         "textposition": "auto",
         "type": "bar",
         "x": [
          "2018-09"
         ],
         "xaxis": "x",
         "y": [
          50
         ],
         "yaxis": "y"
        },
        {
         "alignmentgroup": "True",
         "hovertemplate": "month_year=%{x}<br>count=%{y}<extra></extra>",
         "legendgroup": "2018-10",
         "marker": {
          "color": "#19d3f3"
         },
         "name": "2018-10",
         "offsetgroup": "2018-10",
         "orientation": "v",
         "showlegend": true,
         "textposition": "auto",
         "type": "bar",
         "x": [
          "2018-10"
         ],
         "xaxis": "x",
         "y": [
          64
         ],
         "yaxis": "y"
        },
        {
         "alignmentgroup": "True",
         "hovertemplate": "month_year=%{x}<br>count=%{y}<extra></extra>",
         "legendgroup": "2018-11",
         "marker": {
          "color": "#FF6692"
         },
         "name": "2018-11",
         "offsetgroup": "2018-11",
         "orientation": "v",
         "showlegend": true,
         "textposition": "auto",
         "type": "bar",
         "x": [
          "2018-11"
         ],
         "xaxis": "x",
         "y": [
          63
         ],
         "yaxis": "y"
        },
        {
         "alignmentgroup": "True",
         "hovertemplate": "month_year=%{x}<br>count=%{y}<extra></extra>",
         "legendgroup": "2018-12",
         "marker": {
          "color": "#B6E880"
         },
         "name": "2018-12",
         "offsetgroup": "2018-12",
         "orientation": "v",
         "showlegend": true,
         "textposition": "auto",
         "type": "bar",
         "x": [
          "2018-12"
         ],
         "xaxis": "x",
         "y": [
          64
         ],
         "yaxis": "y"
        },
        {
         "alignmentgroup": "True",
         "hovertemplate": "month_year=%{x}<br>count=%{y}<extra></extra>",
         "legendgroup": "2019-01",
         "marker": {
          "color": "#FF97FF"
         },
         "name": "2019-01",
         "offsetgroup": "2019-01",
         "orientation": "v",
         "showlegend": true,
         "textposition": "auto",
         "type": "bar",
         "x": [
          "2019-01"
         ],
         "xaxis": "x",
         "y": [
          81
         ],
         "yaxis": "y"
        },
        {
         "alignmentgroup": "True",
         "hovertemplate": "month_year=%{x}<br>count=%{y}<extra></extra>",
         "legendgroup": "2019-02",
         "marker": {
          "color": "#FECB52"
         },
         "name": "2019-02",
         "offsetgroup": "2019-02",
         "orientation": "v",
         "showlegend": true,
         "textposition": "auto",
         "type": "bar",
         "x": [
          "2019-02"
         ],
         "xaxis": "x",
         "y": [
          68
         ],
         "yaxis": "y"
        },
        {
         "alignmentgroup": "True",
         "hovertemplate": "month_year=%{x}<br>count=%{y}<extra></extra>",
         "legendgroup": "2019-03",
         "marker": {
          "color": "#636efa"
         },
         "name": "2019-03",
         "offsetgroup": "2019-03",
         "orientation": "v",
         "showlegend": true,
         "textposition": "auto",
         "type": "bar",
         "x": [
          "2019-03"
         ],
         "xaxis": "x",
         "y": [
          76
         ],
         "yaxis": "y"
        },
        {
         "alignmentgroup": "True",
         "hovertemplate": "month_year=%{x}<br>count=%{y}<extra></extra>",
         "legendgroup": "2019-04",
         "marker": {
          "color": "#EF553B"
         },
         "name": "2019-04",
         "offsetgroup": "2019-04",
         "orientation": "v",
         "showlegend": true,
         "textposition": "auto",
         "type": "bar",
         "x": [
          "2019-04"
         ],
         "xaxis": "x",
         "y": [
          63
         ],
         "yaxis": "y"
        },
        {
         "alignmentgroup": "True",
         "hovertemplate": "month_year=%{x}<br>count=%{y}<extra></extra>",
         "legendgroup": "2019-05",
         "marker": {
          "color": "#00cc96"
         },
         "name": "2019-05",
         "offsetgroup": "2019-05",
         "orientation": "v",
         "showlegend": true,
         "textposition": "auto",
         "type": "bar",
         "x": [
          "2019-05"
         ],
         "xaxis": "x",
         "y": [
          64
         ],
         "yaxis": "y"
        },
        {
         "alignmentgroup": "True",
         "hovertemplate": "month_year=%{x}<br>count=%{y}<extra></extra>",
         "legendgroup": "2019-06",
         "marker": {
          "color": "#ab63fa"
         },
         "name": "2019-06",
         "offsetgroup": "2019-06",
         "orientation": "v",
         "showlegend": true,
         "textposition": "auto",
         "type": "bar",
         "x": [
          "2019-06"
         ],
         "xaxis": "x",
         "y": [
          77
         ],
         "yaxis": "y"
        },
        {
         "alignmentgroup": "True",
         "hovertemplate": "month_year=%{x}<br>count=%{y}<extra></extra>",
         "legendgroup": "2019-07",
         "marker": {
          "color": "#FFA15A"
         },
         "name": "2019-07",
         "offsetgroup": "2019-07",
         "orientation": "v",
         "showlegend": true,
         "textposition": "auto",
         "type": "bar",
         "x": [
          "2019-07"
         ],
         "xaxis": "x",
         "y": [
          69
         ],
         "yaxis": "y"
        },
        {
         "alignmentgroup": "True",
         "hovertemplate": "month_year=%{x}<br>count=%{y}<extra></extra>",
         "legendgroup": "2019-08",
         "marker": {
          "color": "#19d3f3"
         },
         "name": "2019-08",
         "offsetgroup": "2019-08",
         "orientation": "v",
         "showlegend": true,
         "textposition": "auto",
         "type": "bar",
         "x": [
          "2019-08"
         ],
         "xaxis": "x",
         "y": [
          57
         ],
         "yaxis": "y"
        },
        {
         "alignmentgroup": "True",
         "hovertemplate": "month_year=%{x}<br>count=%{y}<extra></extra>",
         "legendgroup": "2019-09",
         "marker": {
          "color": "#FF6692"
         },
         "name": "2019-09",
         "offsetgroup": "2019-09",
         "orientation": "v",
         "showlegend": true,
         "textposition": "auto",
         "type": "bar",
         "x": [
          "2019-09"
         ],
         "xaxis": "x",
         "y": [
          59
         ],
         "yaxis": "y"
        },
        {
         "alignmentgroup": "True",
         "hovertemplate": "month_year=%{x}<br>count=%{y}<extra></extra>",
         "legendgroup": "2019-10",
         "marker": {
          "color": "#B6E880"
         },
         "name": "2019-10",
         "offsetgroup": "2019-10",
         "orientation": "v",
         "showlegend": true,
         "textposition": "auto",
         "type": "bar",
         "x": [
          "2019-10"
         ],
         "xaxis": "x",
         "y": [
          73
         ],
         "yaxis": "y"
        },
        {
         "alignmentgroup": "True",
         "hovertemplate": "month_year=%{x}<br>count=%{y}<extra></extra>",
         "legendgroup": "2019-11",
         "marker": {
          "color": "#FF97FF"
         },
         "name": "2019-11",
         "offsetgroup": "2019-11",
         "orientation": "v",
         "showlegend": true,
         "textposition": "auto",
         "type": "bar",
         "x": [
          "2019-11"
         ],
         "xaxis": "x",
         "y": [
          71
         ],
         "yaxis": "y"
        },
        {
         "alignmentgroup": "True",
         "hovertemplate": "month_year=%{x}<br>count=%{y}<extra></extra>",
         "legendgroup": "2019-12",
         "marker": {
          "color": "#FECB52"
         },
         "name": "2019-12",
         "offsetgroup": "2019-12",
         "orientation": "v",
         "showlegend": true,
         "textposition": "auto",
         "type": "bar",
         "x": [
          "2019-12"
         ],
         "xaxis": "x",
         "y": [
          100
         ],
         "yaxis": "y"
        },
        {
         "alignmentgroup": "True",
         "hovertemplate": "month_year=%{x}<br>count=%{y}<extra></extra>",
         "legendgroup": "2020-01",
         "marker": {
          "color": "#636efa"
         },
         "name": "2020-01",
         "offsetgroup": "2020-01",
         "orientation": "v",
         "showlegend": true,
         "textposition": "auto",
         "type": "bar",
         "x": [
          "2020-01"
         ],
         "xaxis": "x",
         "y": [
          82
         ],
         "yaxis": "y"
        },
        {
         "alignmentgroup": "True",
         "hovertemplate": "month_year=%{x}<br>count=%{y}<extra></extra>",
         "legendgroup": "2020-02",
         "marker": {
          "color": "#EF553B"
         },
         "name": "2020-02",
         "offsetgroup": "2020-02",
         "orientation": "v",
         "showlegend": true,
         "textposition": "auto",
         "type": "bar",
         "x": [
          "2020-02"
         ],
         "xaxis": "x",
         "y": [
          61
         ],
         "yaxis": "y"
        },
        {
         "alignmentgroup": "True",
         "hovertemplate": "month_year=%{x}<br>count=%{y}<extra></extra>",
         "legendgroup": "2020-03",
         "marker": {
          "color": "#00cc96"
         },
         "name": "2020-03",
         "offsetgroup": "2020-03",
         "orientation": "v",
         "showlegend": true,
         "textposition": "auto",
         "type": "bar",
         "x": [
          "2020-03"
         ],
         "xaxis": "x",
         "y": [
          73
         ],
         "yaxis": "y"
        },
        {
         "alignmentgroup": "True",
         "hovertemplate": "month_year=%{x}<br>count=%{y}<extra></extra>",
         "legendgroup": "2020-04",
         "marker": {
          "color": "#ab63fa"
         },
         "name": "2020-04",
         "offsetgroup": "2020-04",
         "orientation": "v",
         "showlegend": true,
         "textposition": "auto",
         "type": "bar",
         "x": [
          "2020-04"
         ],
         "xaxis": "x",
         "y": [
          58
         ],
         "yaxis": "y"
        },
        {
         "alignmentgroup": "True",
         "hovertemplate": "month_year=%{x}<br>count=%{y}<extra></extra>",
         "legendgroup": "2020-05",
         "marker": {
          "color": "#FFA15A"
         },
         "name": "2020-05",
         "offsetgroup": "2020-05",
         "orientation": "v",
         "showlegend": true,
         "textposition": "auto",
         "type": "bar",
         "x": [
          "2020-05"
         ],
         "xaxis": "x",
         "y": [
          78
         ],
         "yaxis": "y"
        },
        {
         "alignmentgroup": "True",
         "hovertemplate": "month_year=%{x}<br>count=%{y}<extra></extra>",
         "legendgroup": "2020-06",
         "marker": {
          "color": "#19d3f3"
         },
         "name": "2020-06",
         "offsetgroup": "2020-06",
         "orientation": "v",
         "showlegend": true,
         "textposition": "auto",
         "type": "bar",
         "x": [
          "2020-06"
         ],
         "xaxis": "x",
         "y": [
          22
         ],
         "yaxis": "y"
        }
       ],
       "layout": {
        "barmode": "relative",
        "legend": {
         "title": {
          "text": "month_year"
         },
         "tracegroupgap": 0
        },
        "template": {
         "data": {
          "bar": [
           {
            "error_x": {
             "color": "#2a3f5f"
            },
            "error_y": {
             "color": "#2a3f5f"
            },
            "marker": {
             "line": {
              "color": "#E5ECF6",
              "width": 0.5
             }
            },
            "type": "bar"
           }
          ],
          "barpolar": [
           {
            "marker": {
             "line": {
              "color": "#E5ECF6",
              "width": 0.5
             }
            },
            "type": "barpolar"
           }
          ],
          "carpet": [
           {
            "aaxis": {
             "endlinecolor": "#2a3f5f",
             "gridcolor": "white",
             "linecolor": "white",
             "minorgridcolor": "white",
             "startlinecolor": "#2a3f5f"
            },
            "baxis": {
             "endlinecolor": "#2a3f5f",
             "gridcolor": "white",
             "linecolor": "white",
             "minorgridcolor": "white",
             "startlinecolor": "#2a3f5f"
            },
            "type": "carpet"
           }
          ],
          "choropleth": [
           {
            "colorbar": {
             "outlinewidth": 0,
             "ticks": ""
            },
            "type": "choropleth"
           }
          ],
          "contour": [
           {
            "colorbar": {
             "outlinewidth": 0,
             "ticks": ""
            },
            "colorscale": [
             [
              0,
              "#0d0887"
             ],
             [
              0.1111111111111111,
              "#46039f"
             ],
             [
              0.2222222222222222,
              "#7201a8"
             ],
             [
              0.3333333333333333,
              "#9c179e"
             ],
             [
              0.4444444444444444,
              "#bd3786"
             ],
             [
              0.5555555555555556,
              "#d8576b"
             ],
             [
              0.6666666666666666,
              "#ed7953"
             ],
             [
              0.7777777777777778,
              "#fb9f3a"
             ],
             [
              0.8888888888888888,
              "#fdca26"
             ],
             [
              1,
              "#f0f921"
             ]
            ],
            "type": "contour"
           }
          ],
          "contourcarpet": [
           {
            "colorbar": {
             "outlinewidth": 0,
             "ticks": ""
            },
            "type": "contourcarpet"
           }
          ],
          "heatmap": [
           {
            "colorbar": {
             "outlinewidth": 0,
             "ticks": ""
            },
            "colorscale": [
             [
              0,
              "#0d0887"
             ],
             [
              0.1111111111111111,
              "#46039f"
             ],
             [
              0.2222222222222222,
              "#7201a8"
             ],
             [
              0.3333333333333333,
              "#9c179e"
             ],
             [
              0.4444444444444444,
              "#bd3786"
             ],
             [
              0.5555555555555556,
              "#d8576b"
             ],
             [
              0.6666666666666666,
              "#ed7953"
             ],
             [
              0.7777777777777778,
              "#fb9f3a"
             ],
             [
              0.8888888888888888,
              "#fdca26"
             ],
             [
              1,
              "#f0f921"
             ]
            ],
            "type": "heatmap"
           }
          ],
          "heatmapgl": [
           {
            "colorbar": {
             "outlinewidth": 0,
             "ticks": ""
            },
            "colorscale": [
             [
              0,
              "#0d0887"
             ],
             [
              0.1111111111111111,
              "#46039f"
             ],
             [
              0.2222222222222222,
              "#7201a8"
             ],
             [
              0.3333333333333333,
              "#9c179e"
             ],
             [
              0.4444444444444444,
              "#bd3786"
             ],
             [
              0.5555555555555556,
              "#d8576b"
             ],
             [
              0.6666666666666666,
              "#ed7953"
             ],
             [
              0.7777777777777778,
              "#fb9f3a"
             ],
             [
              0.8888888888888888,
              "#fdca26"
             ],
             [
              1,
              "#f0f921"
             ]
            ],
            "type": "heatmapgl"
           }
          ],
          "histogram": [
           {
            "marker": {
             "colorbar": {
              "outlinewidth": 0,
              "ticks": ""
             }
            },
            "type": "histogram"
           }
          ],
          "histogram2d": [
           {
            "colorbar": {
             "outlinewidth": 0,
             "ticks": ""
            },
            "colorscale": [
             [
              0,
              "#0d0887"
             ],
             [
              0.1111111111111111,
              "#46039f"
             ],
             [
              0.2222222222222222,
              "#7201a8"
             ],
             [
              0.3333333333333333,
              "#9c179e"
             ],
             [
              0.4444444444444444,
              "#bd3786"
             ],
             [
              0.5555555555555556,
              "#d8576b"
             ],
             [
              0.6666666666666666,
              "#ed7953"
             ],
             [
              0.7777777777777778,
              "#fb9f3a"
             ],
             [
              0.8888888888888888,
              "#fdca26"
             ],
             [
              1,
              "#f0f921"
             ]
            ],
            "type": "histogram2d"
           }
          ],
          "histogram2dcontour": [
           {
            "colorbar": {
             "outlinewidth": 0,
             "ticks": ""
            },
            "colorscale": [
             [
              0,
              "#0d0887"
             ],
             [
              0.1111111111111111,
              "#46039f"
             ],
             [
              0.2222222222222222,
              "#7201a8"
             ],
             [
              0.3333333333333333,
              "#9c179e"
             ],
             [
              0.4444444444444444,
              "#bd3786"
             ],
             [
              0.5555555555555556,
              "#d8576b"
             ],
             [
              0.6666666666666666,
              "#ed7953"
             ],
             [
              0.7777777777777778,
              "#fb9f3a"
             ],
             [
              0.8888888888888888,
              "#fdca26"
             ],
             [
              1,
              "#f0f921"
             ]
            ],
            "type": "histogram2dcontour"
           }
          ],
          "mesh3d": [
           {
            "colorbar": {
             "outlinewidth": 0,
             "ticks": ""
            },
            "type": "mesh3d"
           }
          ],
          "parcoords": [
           {
            "line": {
             "colorbar": {
              "outlinewidth": 0,
              "ticks": ""
             }
            },
            "type": "parcoords"
           }
          ],
          "pie": [
           {
            "automargin": true,
            "type": "pie"
           }
          ],
          "scatter": [
           {
            "marker": {
             "colorbar": {
              "outlinewidth": 0,
              "ticks": ""
             }
            },
            "type": "scatter"
           }
          ],
          "scatter3d": [
           {
            "line": {
             "colorbar": {
              "outlinewidth": 0,
              "ticks": ""
             }
            },
            "marker": {
             "colorbar": {
              "outlinewidth": 0,
              "ticks": ""
             }
            },
            "type": "scatter3d"
           }
          ],
          "scattercarpet": [
           {
            "marker": {
             "colorbar": {
              "outlinewidth": 0,
              "ticks": ""
             }
            },
            "type": "scattercarpet"
           }
          ],
          "scattergeo": [
           {
            "marker": {
             "colorbar": {
              "outlinewidth": 0,
              "ticks": ""
             }
            },
            "type": "scattergeo"
           }
          ],
          "scattergl": [
           {
            "marker": {
             "colorbar": {
              "outlinewidth": 0,
              "ticks": ""
             }
            },
            "type": "scattergl"
           }
          ],
          "scattermapbox": [
           {
            "marker": {
             "colorbar": {
              "outlinewidth": 0,
              "ticks": ""
             }
            },
            "type": "scattermapbox"
           }
          ],
          "scatterpolar": [
           {
            "marker": {
             "colorbar": {
              "outlinewidth": 0,
              "ticks": ""
             }
            },
            "type": "scatterpolar"
           }
          ],
          "scatterpolargl": [
           {
            "marker": {
             "colorbar": {
              "outlinewidth": 0,
              "ticks": ""
             }
            },
            "type": "scatterpolargl"
           }
          ],
          "scatterternary": [
           {
            "marker": {
             "colorbar": {
              "outlinewidth": 0,
              "ticks": ""
             }
            },
            "type": "scatterternary"
           }
          ],
          "surface": [
           {
            "colorbar": {
             "outlinewidth": 0,
             "ticks": ""
            },
            "colorscale": [
             [
              0,
              "#0d0887"
             ],
             [
              0.1111111111111111,
              "#46039f"
             ],
             [
              0.2222222222222222,
              "#7201a8"
             ],
             [
              0.3333333333333333,
              "#9c179e"
             ],
             [
              0.4444444444444444,
              "#bd3786"
             ],
             [
              0.5555555555555556,
              "#d8576b"
             ],
             [
              0.6666666666666666,
              "#ed7953"
             ],
             [
              0.7777777777777778,
              "#fb9f3a"
             ],
             [
              0.8888888888888888,
              "#fdca26"
             ],
             [
              1,
              "#f0f921"
             ]
            ],
            "type": "surface"
           }
          ],
          "table": [
           {
            "cells": {
             "fill": {
              "color": "#EBF0F8"
             },
             "line": {
              "color": "white"
             }
            },
            "header": {
             "fill": {
              "color": "#C8D4E3"
             },
             "line": {
              "color": "white"
             }
            },
            "type": "table"
           }
          ]
         },
         "layout": {
          "annotationdefaults": {
           "arrowcolor": "#2a3f5f",
           "arrowhead": 0,
           "arrowwidth": 1
          },
          "coloraxis": {
           "colorbar": {
            "outlinewidth": 0,
            "ticks": ""
           }
          },
          "colorscale": {
           "diverging": [
            [
             0,
             "#8e0152"
            ],
            [
             0.1,
             "#c51b7d"
            ],
            [
             0.2,
             "#de77ae"
            ],
            [
             0.3,
             "#f1b6da"
            ],
            [
             0.4,
             "#fde0ef"
            ],
            [
             0.5,
             "#f7f7f7"
            ],
            [
             0.6,
             "#e6f5d0"
            ],
            [
             0.7,
             "#b8e186"
            ],
            [
             0.8,
             "#7fbc41"
            ],
            [
             0.9,
             "#4d9221"
            ],
            [
             1,
             "#276419"
            ]
           ],
           "sequential": [
            [
             0,
             "#0d0887"
            ],
            [
             0.1111111111111111,
             "#46039f"
            ],
            [
             0.2222222222222222,
             "#7201a8"
            ],
            [
             0.3333333333333333,
             "#9c179e"
            ],
            [
             0.4444444444444444,
             "#bd3786"
            ],
            [
             0.5555555555555556,
             "#d8576b"
            ],
            [
             0.6666666666666666,
             "#ed7953"
            ],
            [
             0.7777777777777778,
             "#fb9f3a"
            ],
            [
             0.8888888888888888,
             "#fdca26"
            ],
            [
             1,
             "#f0f921"
            ]
           ],
           "sequentialminus": [
            [
             0,
             "#0d0887"
            ],
            [
             0.1111111111111111,
             "#46039f"
            ],
            [
             0.2222222222222222,
             "#7201a8"
            ],
            [
             0.3333333333333333,
             "#9c179e"
            ],
            [
             0.4444444444444444,
             "#bd3786"
            ],
            [
             0.5555555555555556,
             "#d8576b"
            ],
            [
             0.6666666666666666,
             "#ed7953"
            ],
            [
             0.7777777777777778,
             "#fb9f3a"
            ],
            [
             0.8888888888888888,
             "#fdca26"
            ],
            [
             1,
             "#f0f921"
            ]
           ]
          },
          "colorway": [
           "#636efa",
           "#EF553B",
           "#00cc96",
           "#ab63fa",
           "#FFA15A",
           "#19d3f3",
           "#FF6692",
           "#B6E880",
           "#FF97FF",
           "#FECB52"
          ],
          "font": {
           "color": "#2a3f5f"
          },
          "geo": {
           "bgcolor": "white",
           "lakecolor": "white",
           "landcolor": "#E5ECF6",
           "showlakes": true,
           "showland": true,
           "subunitcolor": "white"
          },
          "hoverlabel": {
           "align": "left"
          },
          "hovermode": "closest",
          "mapbox": {
           "style": "light"
          },
          "paper_bgcolor": "white",
          "plot_bgcolor": "#E5ECF6",
          "polar": {
           "angularaxis": {
            "gridcolor": "white",
            "linecolor": "white",
            "ticks": ""
           },
           "bgcolor": "#E5ECF6",
           "radialaxis": {
            "gridcolor": "white",
            "linecolor": "white",
            "ticks": ""
           }
          },
          "scene": {
           "xaxis": {
            "backgroundcolor": "#E5ECF6",
            "gridcolor": "white",
            "gridwidth": 2,
            "linecolor": "white",
            "showbackground": true,
            "ticks": "",
            "zerolinecolor": "white"
           },
           "yaxis": {
            "backgroundcolor": "#E5ECF6",
            "gridcolor": "white",
            "gridwidth": 2,
            "linecolor": "white",
            "showbackground": true,
            "ticks": "",
            "zerolinecolor": "white"
           },
           "zaxis": {
            "backgroundcolor": "#E5ECF6",
            "gridcolor": "white",
            "gridwidth": 2,
            "linecolor": "white",
            "showbackground": true,
            "ticks": "",
            "zerolinecolor": "white"
           }
          },
          "shapedefaults": {
           "line": {
            "color": "#2a3f5f"
           }
          },
          "ternary": {
           "aaxis": {
            "gridcolor": "white",
            "linecolor": "white",
            "ticks": ""
           },
           "baxis": {
            "gridcolor": "white",
            "linecolor": "white",
            "ticks": ""
           },
           "bgcolor": "#E5ECF6",
           "caxis": {
            "gridcolor": "white",
            "linecolor": "white",
            "ticks": ""
           }
          },
          "title": {
           "x": 0.05
          },
          "xaxis": {
           "automargin": true,
           "gridcolor": "white",
           "linecolor": "white",
           "ticks": "",
           "title": {
            "standoff": 15
           },
           "zerolinecolor": "white",
           "zerolinewidth": 2
          },
          "yaxis": {
           "automargin": true,
           "gridcolor": "white",
           "linecolor": "white",
           "ticks": "",
           "title": {
            "standoff": 15
           },
           "zerolinecolor": "white",
           "zerolinewidth": 2
          }
         }
        },
        "title": {
         "text": "Deaths by months"
        },
        "width": 800,
        "xaxis": {
         "anchor": "y",
         "categoryarray": [
          "2015-01",
          "2015-02",
          "2015-03",
          "2015-04",
          "2015-05",
          "2015-06",
          "2015-07",
          "2015-08",
          "2015-09",
          "2015-10",
          "2015-11",
          "2015-12",
          "2016-01",
          "2016-02",
          "2016-03",
          "2016-04",
          "2016-05",
          "2016-06",
          "2016-07",
          "2016-08",
          "2016-09",
          "2016-10",
          "2016-11",
          "2016-12",
          "2017-01",
          "2017-02",
          "2017-03",
          "2017-04",
          "2017-05",
          "2017-06",
          "2017-07",
          "2017-08",
          "2017-09",
          "2017-10",
          "2017-11",
          "2017-12",
          "2018-01",
          "2018-02",
          "2018-03",
          "2018-04",
          "2018-05",
          "2018-06",
          "2018-07",
          "2018-08",
          "2018-09",
          "2018-10",
          "2018-11",
          "2018-12",
          "2019-01",
          "2019-02",
          "2019-03",
          "2019-04",
          "2019-05",
          "2019-06",
          "2019-07",
          "2019-08",
          "2019-09",
          "2019-10",
          "2019-11",
          "2019-12",
          "2020-01",
          "2020-02",
          "2020-03",
          "2020-04",
          "2020-05",
          "2020-06"
         ],
         "categoryorder": "array",
         "domain": [
          0,
          1
         ],
         "title": {
          "text": "month_year"
         }
        },
        "yaxis": {
         "anchor": "x",
         "domain": [
          0,
          1
         ],
         "title": {
          "text": "count"
         }
        }
       }
      },
      "text/html": [
       "<div>\n",
       "        \n",
       "        \n",
       "            <div id=\"302f7956-370d-4a4c-b118-7dae74dfcbff\" class=\"plotly-graph-div\" style=\"height:525px; width:800px;\"></div>\n",
       "            <script type=\"text/javascript\">\n",
       "                require([\"plotly\"], function(Plotly) {\n",
       "                    window.PLOTLYENV=window.PLOTLYENV || {};\n",
       "                    \n",
       "                if (document.getElementById(\"302f7956-370d-4a4c-b118-7dae74dfcbff\")) {\n",
       "                    Plotly.newPlot(\n",
       "                        '302f7956-370d-4a4c-b118-7dae74dfcbff',\n",
       "                        [{\"alignmentgroup\": \"True\", \"hovertemplate\": \"month_year=%{x}<br>count=%{y}<extra></extra>\", \"legendgroup\": \"2015-01\", \"marker\": {\"color\": \"#636efa\"}, \"name\": \"2015-01\", \"offsetgroup\": \"2015-01\", \"orientation\": \"v\", \"showlegend\": true, \"textposition\": \"auto\", \"type\": \"bar\", \"x\": [\"2015-01\"], \"xaxis\": \"x\", \"y\": [75], \"yaxis\": \"y\"}, {\"alignmentgroup\": \"True\", \"hovertemplate\": \"month_year=%{x}<br>count=%{y}<extra></extra>\", \"legendgroup\": \"2015-02\", \"marker\": {\"color\": \"#EF553B\"}, \"name\": \"2015-02\", \"offsetgroup\": \"2015-02\", \"orientation\": \"v\", \"showlegend\": true, \"textposition\": \"auto\", \"type\": \"bar\", \"x\": [\"2015-02\"], \"xaxis\": \"x\", \"y\": [77], \"yaxis\": \"y\"}, {\"alignmentgroup\": \"True\", \"hovertemplate\": \"month_year=%{x}<br>count=%{y}<extra></extra>\", \"legendgroup\": \"2015-03\", \"marker\": {\"color\": \"#00cc96\"}, \"name\": \"2015-03\", \"offsetgroup\": \"2015-03\", \"orientation\": \"v\", \"showlegend\": true, \"textposition\": \"auto\", \"type\": \"bar\", \"x\": [\"2015-03\"], \"xaxis\": \"x\", \"y\": [91], \"yaxis\": \"y\"}, {\"alignmentgroup\": \"True\", \"hovertemplate\": \"month_year=%{x}<br>count=%{y}<extra></extra>\", \"legendgroup\": \"2015-04\", \"marker\": {\"color\": \"#ab63fa\"}, \"name\": \"2015-04\", \"offsetgroup\": \"2015-04\", \"orientation\": \"v\", \"showlegend\": true, \"textposition\": \"auto\", \"type\": \"bar\", \"x\": [\"2015-04\"], \"xaxis\": \"x\", \"y\": [83], \"yaxis\": \"y\"}, {\"alignmentgroup\": \"True\", \"hovertemplate\": \"month_year=%{x}<br>count=%{y}<extra></extra>\", \"legendgroup\": \"2015-05\", \"marker\": {\"color\": \"#FFA15A\"}, \"name\": \"2015-05\", \"offsetgroup\": \"2015-05\", \"orientation\": \"v\", \"showlegend\": true, \"textposition\": \"auto\", \"type\": \"bar\", \"x\": [\"2015-05\"], \"xaxis\": \"x\", \"y\": [69], \"yaxis\": \"y\"}, {\"alignmentgroup\": \"True\", \"hovertemplate\": \"month_year=%{x}<br>count=%{y}<extra></extra>\", \"legendgroup\": \"2015-06\", \"marker\": {\"color\": \"#19d3f3\"}, \"name\": \"2015-06\", \"offsetgroup\": \"2015-06\", \"orientation\": \"v\", \"showlegend\": true, \"textposition\": \"auto\", \"type\": \"bar\", \"x\": [\"2015-06\"], \"xaxis\": \"x\", \"y\": [63], \"yaxis\": \"y\"}, {\"alignmentgroup\": \"True\", \"hovertemplate\": \"month_year=%{x}<br>count=%{y}<extra></extra>\", \"legendgroup\": \"2015-07\", \"marker\": {\"color\": \"#FF6692\"}, \"name\": \"2015-07\", \"offsetgroup\": \"2015-07\", \"orientation\": \"v\", \"showlegend\": true, \"textposition\": \"auto\", \"type\": \"bar\", \"x\": [\"2015-07\"], \"xaxis\": \"x\", \"y\": [100], \"yaxis\": \"y\"}, {\"alignmentgroup\": \"True\", \"hovertemplate\": \"month_year=%{x}<br>count=%{y}<extra></extra>\", \"legendgroup\": \"2015-08\", \"marker\": {\"color\": \"#B6E880\"}, \"name\": \"2015-08\", \"offsetgroup\": \"2015-08\", \"orientation\": \"v\", \"showlegend\": true, \"textposition\": \"auto\", \"type\": \"bar\", \"x\": [\"2015-08\"], \"xaxis\": \"x\", \"y\": [91], \"yaxis\": \"y\"}, {\"alignmentgroup\": \"True\", \"hovertemplate\": \"month_year=%{x}<br>count=%{y}<extra></extra>\", \"legendgroup\": \"2015-09\", \"marker\": {\"color\": \"#FF97FF\"}, \"name\": \"2015-09\", \"offsetgroup\": \"2015-09\", \"orientation\": \"v\", \"showlegend\": true, \"textposition\": \"auto\", \"type\": \"bar\", \"x\": [\"2015-09\"], \"xaxis\": \"x\", \"y\": [80], \"yaxis\": \"y\"}, {\"alignmentgroup\": \"True\", \"hovertemplate\": \"month_year=%{x}<br>count=%{y}<extra></extra>\", \"legendgroup\": \"2015-10\", \"marker\": {\"color\": \"#FECB52\"}, \"name\": \"2015-10\", \"offsetgroup\": \"2015-10\", \"orientation\": \"v\", \"showlegend\": true, \"textposition\": \"auto\", \"type\": \"bar\", \"x\": [\"2015-10\"], \"xaxis\": \"x\", \"y\": [78], \"yaxis\": \"y\"}, {\"alignmentgroup\": \"True\", \"hovertemplate\": \"month_year=%{x}<br>count=%{y}<extra></extra>\", \"legendgroup\": \"2015-11\", \"marker\": {\"color\": \"#636efa\"}, \"name\": \"2015-11\", \"offsetgroup\": \"2015-11\", \"orientation\": \"v\", \"showlegend\": true, \"textposition\": \"auto\", \"type\": \"bar\", \"x\": [\"2015-11\"], \"xaxis\": \"x\", \"y\": [76], \"yaxis\": \"y\"}, {\"alignmentgroup\": \"True\", \"hovertemplate\": \"month_year=%{x}<br>count=%{y}<extra></extra>\", \"legendgroup\": \"2015-12\", \"marker\": {\"color\": \"#EF553B\"}, \"name\": \"2015-12\", \"offsetgroup\": \"2015-12\", \"orientation\": \"v\", \"showlegend\": true, \"textposition\": \"auto\", \"type\": \"bar\", \"x\": [\"2015-12\"], \"xaxis\": \"x\", \"y\": [82], \"yaxis\": \"y\"}, {\"alignmentgroup\": \"True\", \"hovertemplate\": \"month_year=%{x}<br>count=%{y}<extra></extra>\", \"legendgroup\": \"2016-01\", \"marker\": {\"color\": \"#00cc96\"}, \"name\": \"2016-01\", \"offsetgroup\": \"2016-01\", \"orientation\": \"v\", \"showlegend\": true, \"textposition\": \"auto\", \"type\": \"bar\", \"x\": [\"2016-01\"], \"xaxis\": \"x\", \"y\": [80], \"yaxis\": \"y\"}, {\"alignmentgroup\": \"True\", \"hovertemplate\": \"month_year=%{x}<br>count=%{y}<extra></extra>\", \"legendgroup\": \"2016-02\", \"marker\": {\"color\": \"#ab63fa\"}, \"name\": \"2016-02\", \"offsetgroup\": \"2016-02\", \"orientation\": \"v\", \"showlegend\": true, \"textposition\": \"auto\", \"type\": \"bar\", \"x\": [\"2016-02\"], \"xaxis\": \"x\", \"y\": [85], \"yaxis\": \"y\"}, {\"alignmentgroup\": \"True\", \"hovertemplate\": \"month_year=%{x}<br>count=%{y}<extra></extra>\", \"legendgroup\": \"2016-03\", \"marker\": {\"color\": \"#FFA15A\"}, \"name\": \"2016-03\", \"offsetgroup\": \"2016-03\", \"orientation\": \"v\", \"showlegend\": true, \"textposition\": \"auto\", \"type\": \"bar\", \"x\": [\"2016-03\"], \"xaxis\": \"x\", \"y\": [90], \"yaxis\": \"y\"}, {\"alignmentgroup\": \"True\", \"hovertemplate\": \"month_year=%{x}<br>count=%{y}<extra></extra>\", \"legendgroup\": \"2016-04\", \"marker\": {\"color\": \"#19d3f3\"}, \"name\": \"2016-04\", \"offsetgroup\": \"2016-04\", \"orientation\": \"v\", \"showlegend\": true, \"textposition\": \"auto\", \"type\": \"bar\", \"x\": [\"2016-04\"], \"xaxis\": \"x\", \"y\": [73], \"yaxis\": \"y\"}, {\"alignmentgroup\": \"True\", \"hovertemplate\": \"month_year=%{x}<br>count=%{y}<extra></extra>\", \"legendgroup\": \"2016-05\", \"marker\": {\"color\": \"#FF6692\"}, \"name\": \"2016-05\", \"offsetgroup\": \"2016-05\", \"orientation\": \"v\", \"showlegend\": true, \"textposition\": \"auto\", \"type\": \"bar\", \"x\": [\"2016-05\"], \"xaxis\": \"x\", \"y\": [69], \"yaxis\": \"y\"}, {\"alignmentgroup\": \"True\", \"hovertemplate\": \"month_year=%{x}<br>count=%{y}<extra></extra>\", \"legendgroup\": \"2016-06\", \"marker\": {\"color\": \"#B6E880\"}, \"name\": \"2016-06\", \"offsetgroup\": \"2016-06\", \"orientation\": \"v\", \"showlegend\": true, \"textposition\": \"auto\", \"type\": \"bar\", \"x\": [\"2016-06\"], \"xaxis\": \"x\", \"y\": [87], \"yaxis\": \"y\"}, {\"alignmentgroup\": \"True\", \"hovertemplate\": \"month_year=%{x}<br>count=%{y}<extra></extra>\", \"legendgroup\": \"2016-07\", \"marker\": {\"color\": \"#FF97FF\"}, \"name\": \"2016-07\", \"offsetgroup\": \"2016-07\", \"orientation\": \"v\", \"showlegend\": true, \"textposition\": \"auto\", \"type\": \"bar\", \"x\": [\"2016-07\"], \"xaxis\": \"x\", \"y\": [71], \"yaxis\": \"y\"}, {\"alignmentgroup\": \"True\", \"hovertemplate\": \"month_year=%{x}<br>count=%{y}<extra></extra>\", \"legendgroup\": \"2016-08\", \"marker\": {\"color\": \"#FECB52\"}, \"name\": \"2016-08\", \"offsetgroup\": \"2016-08\", \"orientation\": \"v\", \"showlegend\": true, \"textposition\": \"auto\", \"type\": \"bar\", \"x\": [\"2016-08\"], \"xaxis\": \"x\", \"y\": [77], \"yaxis\": \"y\"}, {\"alignmentgroup\": \"True\", \"hovertemplate\": \"month_year=%{x}<br>count=%{y}<extra></extra>\", \"legendgroup\": \"2016-09\", \"marker\": {\"color\": \"#636efa\"}, \"name\": \"2016-09\", \"offsetgroup\": \"2016-09\", \"orientation\": \"v\", \"showlegend\": true, \"textposition\": \"auto\", \"type\": \"bar\", \"x\": [\"2016-09\"], \"xaxis\": \"x\", \"y\": [73], \"yaxis\": \"y\"}, {\"alignmentgroup\": \"True\", \"hovertemplate\": \"month_year=%{x}<br>count=%{y}<extra></extra>\", \"legendgroup\": \"2016-10\", \"marker\": {\"color\": \"#EF553B\"}, \"name\": \"2016-10\", \"offsetgroup\": \"2016-10\", \"orientation\": \"v\", \"showlegend\": true, \"textposition\": \"auto\", \"type\": \"bar\", \"x\": [\"2016-10\"], \"xaxis\": \"x\", \"y\": [71], \"yaxis\": \"y\"}, {\"alignmentgroup\": \"True\", \"hovertemplate\": \"month_year=%{x}<br>count=%{y}<extra></extra>\", \"legendgroup\": \"2016-11\", \"marker\": {\"color\": \"#00cc96\"}, \"name\": \"2016-11\", \"offsetgroup\": \"2016-11\", \"orientation\": \"v\", \"showlegend\": true, \"textposition\": \"auto\", \"type\": \"bar\", \"x\": [\"2016-11\"], \"xaxis\": \"x\", \"y\": [68], \"yaxis\": \"y\"}, {\"alignmentgroup\": \"True\", \"hovertemplate\": \"month_year=%{x}<br>count=%{y}<extra></extra>\", \"legendgroup\": \"2016-12\", \"marker\": {\"color\": \"#ab63fa\"}, \"name\": \"2016-12\", \"offsetgroup\": \"2016-12\", \"orientation\": \"v\", \"showlegend\": true, \"textposition\": \"auto\", \"type\": \"bar\", \"x\": [\"2016-12\"], \"xaxis\": \"x\", \"y\": [60], \"yaxis\": \"y\"}, {\"alignmentgroup\": \"True\", \"hovertemplate\": \"month_year=%{x}<br>count=%{y}<extra></extra>\", \"legendgroup\": \"2017-01\", \"marker\": {\"color\": \"#FFA15A\"}, \"name\": \"2017-01\", \"offsetgroup\": \"2017-01\", \"orientation\": \"v\", \"showlegend\": true, \"textposition\": \"auto\", \"type\": \"bar\", \"x\": [\"2017-01\"], \"xaxis\": \"x\", \"y\": [91], \"yaxis\": \"y\"}, {\"alignmentgroup\": \"True\", \"hovertemplate\": \"month_year=%{x}<br>count=%{y}<extra></extra>\", \"legendgroup\": \"2017-02\", \"marker\": {\"color\": \"#19d3f3\"}, \"name\": \"2017-02\", \"offsetgroup\": \"2017-02\", \"orientation\": \"v\", \"showlegend\": true, \"textposition\": \"auto\", \"type\": \"bar\", \"x\": [\"2017-02\"], \"xaxis\": \"x\", \"y\": [97], \"yaxis\": \"y\"}, {\"alignmentgroup\": \"True\", \"hovertemplate\": \"month_year=%{x}<br>count=%{y}<extra></extra>\", \"legendgroup\": \"2017-03\", \"marker\": {\"color\": \"#FF6692\"}, \"name\": \"2017-03\", \"offsetgroup\": \"2017-03\", \"orientation\": \"v\", \"showlegend\": true, \"textposition\": \"auto\", \"type\": \"bar\", \"x\": [\"2017-03\"], \"xaxis\": \"x\", \"y\": [74], \"yaxis\": \"y\"}, {\"alignmentgroup\": \"True\", \"hovertemplate\": \"month_year=%{x}<br>count=%{y}<extra></extra>\", \"legendgroup\": \"2017-04\", \"marker\": {\"color\": \"#B6E880\"}, \"name\": \"2017-04\", \"offsetgroup\": \"2017-04\", \"orientation\": \"v\", \"showlegend\": true, \"textposition\": \"auto\", \"type\": \"bar\", \"x\": [\"2017-04\"], \"xaxis\": \"x\", \"y\": [65], \"yaxis\": \"y\"}, {\"alignmentgroup\": \"True\", \"hovertemplate\": \"month_year=%{x}<br>count=%{y}<extra></extra>\", \"legendgroup\": \"2017-05\", \"marker\": {\"color\": \"#FF97FF\"}, \"name\": \"2017-05\", \"offsetgroup\": \"2017-05\", \"orientation\": \"v\", \"showlegend\": true, \"textposition\": \"auto\", \"type\": \"bar\", \"x\": [\"2017-05\"], \"xaxis\": \"x\", \"y\": [68], \"yaxis\": \"y\"}, {\"alignmentgroup\": \"True\", \"hovertemplate\": \"month_year=%{x}<br>count=%{y}<extra></extra>\", \"legendgroup\": \"2017-06\", \"marker\": {\"color\": \"#FECB52\"}, \"name\": \"2017-06\", \"offsetgroup\": \"2017-06\", \"orientation\": \"v\", \"showlegend\": true, \"textposition\": \"auto\", \"type\": \"bar\", \"x\": [\"2017-06\"], \"xaxis\": \"x\", \"y\": [80], \"yaxis\": \"y\"}, {\"alignmentgroup\": \"True\", \"hovertemplate\": \"month_year=%{x}<br>count=%{y}<extra></extra>\", \"legendgroup\": \"2017-07\", \"marker\": {\"color\": \"#636efa\"}, \"name\": \"2017-07\", \"offsetgroup\": \"2017-07\", \"orientation\": \"v\", \"showlegend\": true, \"textposition\": \"auto\", \"type\": \"bar\", \"x\": [\"2017-07\"], \"xaxis\": \"x\", \"y\": [91], \"yaxis\": \"y\"}, {\"alignmentgroup\": \"True\", \"hovertemplate\": \"month_year=%{x}<br>count=%{y}<extra></extra>\", \"legendgroup\": \"2017-08\", \"marker\": {\"color\": \"#EF553B\"}, \"name\": \"2017-08\", \"offsetgroup\": \"2017-08\", \"orientation\": \"v\", \"showlegend\": true, \"textposition\": \"auto\", \"type\": \"bar\", \"x\": [\"2017-08\"], \"xaxis\": \"x\", \"y\": [78], \"yaxis\": \"y\"}, {\"alignmentgroup\": \"True\", \"hovertemplate\": \"month_year=%{x}<br>count=%{y}<extra></extra>\", \"legendgroup\": \"2017-09\", \"marker\": {\"color\": \"#00cc96\"}, \"name\": \"2017-09\", \"offsetgroup\": \"2017-09\", \"orientation\": \"v\", \"showlegend\": true, \"textposition\": \"auto\", \"type\": \"bar\", \"x\": [\"2017-09\"], \"xaxis\": \"x\", \"y\": [66], \"yaxis\": \"y\"}, {\"alignmentgroup\": \"True\", \"hovertemplate\": \"month_year=%{x}<br>count=%{y}<extra></extra>\", \"legendgroup\": \"2017-10\", \"marker\": {\"color\": \"#ab63fa\"}, \"name\": \"2017-10\", \"offsetgroup\": \"2017-10\", \"orientation\": \"v\", \"showlegend\": true, \"textposition\": \"auto\", \"type\": \"bar\", \"x\": [\"2017-10\"], \"xaxis\": \"x\", \"y\": [81], \"yaxis\": \"y\"}, {\"alignmentgroup\": \"True\", \"hovertemplate\": \"month_year=%{x}<br>count=%{y}<extra></extra>\", \"legendgroup\": \"2017-11\", \"marker\": {\"color\": \"#FFA15A\"}, \"name\": \"2017-11\", \"offsetgroup\": \"2017-11\", \"orientation\": \"v\", \"showlegend\": true, \"textposition\": \"auto\", \"type\": \"bar\", \"x\": [\"2017-11\"], \"xaxis\": \"x\", \"y\": [76], \"yaxis\": \"y\"}, {\"alignmentgroup\": \"True\", \"hovertemplate\": \"month_year=%{x}<br>count=%{y}<extra></extra>\", \"legendgroup\": \"2017-12\", \"marker\": {\"color\": \"#19d3f3\"}, \"name\": \"2017-12\", \"offsetgroup\": \"2017-12\", \"orientation\": \"v\", \"showlegend\": true, \"textposition\": \"auto\", \"type\": \"bar\", \"x\": [\"2017-12\"], \"xaxis\": \"x\", \"y\": [39], \"yaxis\": \"y\"}, {\"alignmentgroup\": \"True\", \"hovertemplate\": \"month_year=%{x}<br>count=%{y}<extra></extra>\", \"legendgroup\": \"2018-01\", \"marker\": {\"color\": \"#FF6692\"}, \"name\": \"2018-01\", \"offsetgroup\": \"2018-01\", \"orientation\": \"v\", \"showlegend\": true, \"textposition\": \"auto\", \"type\": \"bar\", \"x\": [\"2018-01\"], \"xaxis\": \"x\", \"y\": [96], \"yaxis\": \"y\"}, {\"alignmentgroup\": \"True\", \"hovertemplate\": \"month_year=%{x}<br>count=%{y}<extra></extra>\", \"legendgroup\": \"2018-02\", \"marker\": {\"color\": \"#B6E880\"}, \"name\": \"2018-02\", \"offsetgroup\": \"2018-02\", \"orientation\": \"v\", \"showlegend\": true, \"textposition\": \"auto\", \"type\": \"bar\", \"x\": [\"2018-02\"], \"xaxis\": \"x\", \"y\": [74], \"yaxis\": \"y\"}, {\"alignmentgroup\": \"True\", \"hovertemplate\": \"month_year=%{x}<br>count=%{y}<extra></extra>\", \"legendgroup\": \"2018-03\", \"marker\": {\"color\": \"#FF97FF\"}, \"name\": \"2018-03\", \"offsetgroup\": \"2018-03\", \"orientation\": \"v\", \"showlegend\": true, \"textposition\": \"auto\", \"type\": \"bar\", \"x\": [\"2018-03\"], \"xaxis\": \"x\", \"y\": [99], \"yaxis\": \"y\"}, {\"alignmentgroup\": \"True\", \"hovertemplate\": \"month_year=%{x}<br>count=%{y}<extra></extra>\", \"legendgroup\": \"2018-04\", \"marker\": {\"color\": \"#FECB52\"}, \"name\": \"2018-04\", \"offsetgroup\": \"2018-04\", \"orientation\": \"v\", \"showlegend\": true, \"textposition\": \"auto\", \"type\": \"bar\", \"x\": [\"2018-04\"], \"xaxis\": \"x\", \"y\": [88], \"yaxis\": \"y\"}, {\"alignmentgroup\": \"True\", \"hovertemplate\": \"month_year=%{x}<br>count=%{y}<extra></extra>\", \"legendgroup\": \"2018-05\", \"marker\": {\"color\": \"#636efa\"}, \"name\": \"2018-05\", \"offsetgroup\": \"2018-05\", \"orientation\": \"v\", \"showlegend\": true, \"textposition\": \"auto\", \"type\": \"bar\", \"x\": [\"2018-05\"], \"xaxis\": \"x\", \"y\": [70], \"yaxis\": \"y\"}, {\"alignmentgroup\": \"True\", \"hovertemplate\": \"month_year=%{x}<br>count=%{y}<extra></extra>\", \"legendgroup\": \"2018-06\", \"marker\": {\"color\": \"#EF553B\"}, \"name\": \"2018-06\", \"offsetgroup\": \"2018-06\", \"orientation\": \"v\", \"showlegend\": true, \"textposition\": \"auto\", \"type\": \"bar\", \"x\": [\"2018-06\"], \"xaxis\": \"x\", \"y\": [70], \"yaxis\": \"y\"}, {\"alignmentgroup\": \"True\", \"hovertemplate\": \"month_year=%{x}<br>count=%{y}<extra></extra>\", \"legendgroup\": \"2018-07\", \"marker\": {\"color\": \"#00cc96\"}, \"name\": \"2018-07\", \"offsetgroup\": \"2018-07\", \"orientation\": \"v\", \"showlegend\": true, \"textposition\": \"auto\", \"type\": \"bar\", \"x\": [\"2018-07\"], \"xaxis\": \"x\", \"y\": [82], \"yaxis\": \"y\"}, {\"alignmentgroup\": \"True\", \"hovertemplate\": \"month_year=%{x}<br>count=%{y}<extra></extra>\", \"legendgroup\": \"2018-08\", \"marker\": {\"color\": \"#ab63fa\"}, \"name\": \"2018-08\", \"offsetgroup\": \"2018-08\", \"orientation\": \"v\", \"showlegend\": true, \"textposition\": \"auto\", \"type\": \"bar\", \"x\": [\"2018-08\"], \"xaxis\": \"x\", \"y\": [68], \"yaxis\": \"y\"}, {\"alignmentgroup\": \"True\", \"hovertemplate\": \"month_year=%{x}<br>count=%{y}<extra></extra>\", \"legendgroup\": \"2018-09\", \"marker\": {\"color\": \"#FFA15A\"}, \"name\": \"2018-09\", \"offsetgroup\": \"2018-09\", \"orientation\": \"v\", \"showlegend\": true, \"textposition\": \"auto\", \"type\": \"bar\", \"x\": [\"2018-09\"], \"xaxis\": \"x\", \"y\": [50], \"yaxis\": \"y\"}, {\"alignmentgroup\": \"True\", \"hovertemplate\": \"month_year=%{x}<br>count=%{y}<extra></extra>\", \"legendgroup\": \"2018-10\", \"marker\": {\"color\": \"#19d3f3\"}, \"name\": \"2018-10\", \"offsetgroup\": \"2018-10\", \"orientation\": \"v\", \"showlegend\": true, \"textposition\": \"auto\", \"type\": \"bar\", \"x\": [\"2018-10\"], \"xaxis\": \"x\", \"y\": [64], \"yaxis\": \"y\"}, {\"alignmentgroup\": \"True\", \"hovertemplate\": \"month_year=%{x}<br>count=%{y}<extra></extra>\", \"legendgroup\": \"2018-11\", \"marker\": {\"color\": \"#FF6692\"}, \"name\": \"2018-11\", \"offsetgroup\": \"2018-11\", \"orientation\": \"v\", \"showlegend\": true, \"textposition\": \"auto\", \"type\": \"bar\", \"x\": [\"2018-11\"], \"xaxis\": \"x\", \"y\": [63], \"yaxis\": \"y\"}, {\"alignmentgroup\": \"True\", \"hovertemplate\": \"month_year=%{x}<br>count=%{y}<extra></extra>\", \"legendgroup\": \"2018-12\", \"marker\": {\"color\": \"#B6E880\"}, \"name\": \"2018-12\", \"offsetgroup\": \"2018-12\", \"orientation\": \"v\", \"showlegend\": true, \"textposition\": \"auto\", \"type\": \"bar\", \"x\": [\"2018-12\"], \"xaxis\": \"x\", \"y\": [64], \"yaxis\": \"y\"}, {\"alignmentgroup\": \"True\", \"hovertemplate\": \"month_year=%{x}<br>count=%{y}<extra></extra>\", \"legendgroup\": \"2019-01\", \"marker\": {\"color\": \"#FF97FF\"}, \"name\": \"2019-01\", \"offsetgroup\": \"2019-01\", \"orientation\": \"v\", \"showlegend\": true, \"textposition\": \"auto\", \"type\": \"bar\", \"x\": [\"2019-01\"], \"xaxis\": \"x\", \"y\": [81], \"yaxis\": \"y\"}, {\"alignmentgroup\": \"True\", \"hovertemplate\": \"month_year=%{x}<br>count=%{y}<extra></extra>\", \"legendgroup\": \"2019-02\", \"marker\": {\"color\": \"#FECB52\"}, \"name\": \"2019-02\", \"offsetgroup\": \"2019-02\", \"orientation\": \"v\", \"showlegend\": true, \"textposition\": \"auto\", \"type\": \"bar\", \"x\": [\"2019-02\"], \"xaxis\": \"x\", \"y\": [68], \"yaxis\": \"y\"}, {\"alignmentgroup\": \"True\", \"hovertemplate\": \"month_year=%{x}<br>count=%{y}<extra></extra>\", \"legendgroup\": \"2019-03\", \"marker\": {\"color\": \"#636efa\"}, \"name\": \"2019-03\", \"offsetgroup\": \"2019-03\", \"orientation\": \"v\", \"showlegend\": true, \"textposition\": \"auto\", \"type\": \"bar\", \"x\": [\"2019-03\"], \"xaxis\": \"x\", \"y\": [76], \"yaxis\": \"y\"}, {\"alignmentgroup\": \"True\", \"hovertemplate\": \"month_year=%{x}<br>count=%{y}<extra></extra>\", \"legendgroup\": \"2019-04\", \"marker\": {\"color\": \"#EF553B\"}, \"name\": \"2019-04\", \"offsetgroup\": \"2019-04\", \"orientation\": \"v\", \"showlegend\": true, \"textposition\": \"auto\", \"type\": \"bar\", \"x\": [\"2019-04\"], \"xaxis\": \"x\", \"y\": [63], \"yaxis\": \"y\"}, {\"alignmentgroup\": \"True\", \"hovertemplate\": \"month_year=%{x}<br>count=%{y}<extra></extra>\", \"legendgroup\": \"2019-05\", \"marker\": {\"color\": \"#00cc96\"}, \"name\": \"2019-05\", \"offsetgroup\": \"2019-05\", \"orientation\": \"v\", \"showlegend\": true, \"textposition\": \"auto\", \"type\": \"bar\", \"x\": [\"2019-05\"], \"xaxis\": \"x\", \"y\": [64], \"yaxis\": \"y\"}, {\"alignmentgroup\": \"True\", \"hovertemplate\": \"month_year=%{x}<br>count=%{y}<extra></extra>\", \"legendgroup\": \"2019-06\", \"marker\": {\"color\": \"#ab63fa\"}, \"name\": \"2019-06\", \"offsetgroup\": \"2019-06\", \"orientation\": \"v\", \"showlegend\": true, \"textposition\": \"auto\", \"type\": \"bar\", \"x\": [\"2019-06\"], \"xaxis\": \"x\", \"y\": [77], \"yaxis\": \"y\"}, {\"alignmentgroup\": \"True\", \"hovertemplate\": \"month_year=%{x}<br>count=%{y}<extra></extra>\", \"legendgroup\": \"2019-07\", \"marker\": {\"color\": \"#FFA15A\"}, \"name\": \"2019-07\", \"offsetgroup\": \"2019-07\", \"orientation\": \"v\", \"showlegend\": true, \"textposition\": \"auto\", \"type\": \"bar\", \"x\": [\"2019-07\"], \"xaxis\": \"x\", \"y\": [69], \"yaxis\": \"y\"}, {\"alignmentgroup\": \"True\", \"hovertemplate\": \"month_year=%{x}<br>count=%{y}<extra></extra>\", \"legendgroup\": \"2019-08\", \"marker\": {\"color\": \"#19d3f3\"}, \"name\": \"2019-08\", \"offsetgroup\": \"2019-08\", \"orientation\": \"v\", \"showlegend\": true, \"textposition\": \"auto\", \"type\": \"bar\", \"x\": [\"2019-08\"], \"xaxis\": \"x\", \"y\": [57], \"yaxis\": \"y\"}, {\"alignmentgroup\": \"True\", \"hovertemplate\": \"month_year=%{x}<br>count=%{y}<extra></extra>\", \"legendgroup\": \"2019-09\", \"marker\": {\"color\": \"#FF6692\"}, \"name\": \"2019-09\", \"offsetgroup\": \"2019-09\", \"orientation\": \"v\", \"showlegend\": true, \"textposition\": \"auto\", \"type\": \"bar\", \"x\": [\"2019-09\"], \"xaxis\": \"x\", \"y\": [59], \"yaxis\": \"y\"}, {\"alignmentgroup\": \"True\", \"hovertemplate\": \"month_year=%{x}<br>count=%{y}<extra></extra>\", \"legendgroup\": \"2019-10\", \"marker\": {\"color\": \"#B6E880\"}, \"name\": \"2019-10\", \"offsetgroup\": \"2019-10\", \"orientation\": \"v\", \"showlegend\": true, \"textposition\": \"auto\", \"type\": \"bar\", \"x\": [\"2019-10\"], \"xaxis\": \"x\", \"y\": [73], \"yaxis\": \"y\"}, {\"alignmentgroup\": \"True\", \"hovertemplate\": \"month_year=%{x}<br>count=%{y}<extra></extra>\", \"legendgroup\": \"2019-11\", \"marker\": {\"color\": \"#FF97FF\"}, \"name\": \"2019-11\", \"offsetgroup\": \"2019-11\", \"orientation\": \"v\", \"showlegend\": true, \"textposition\": \"auto\", \"type\": \"bar\", \"x\": [\"2019-11\"], \"xaxis\": \"x\", \"y\": [71], \"yaxis\": \"y\"}, {\"alignmentgroup\": \"True\", \"hovertemplate\": \"month_year=%{x}<br>count=%{y}<extra></extra>\", \"legendgroup\": \"2019-12\", \"marker\": {\"color\": \"#FECB52\"}, \"name\": \"2019-12\", \"offsetgroup\": \"2019-12\", \"orientation\": \"v\", \"showlegend\": true, \"textposition\": \"auto\", \"type\": \"bar\", \"x\": [\"2019-12\"], \"xaxis\": \"x\", \"y\": [100], \"yaxis\": \"y\"}, {\"alignmentgroup\": \"True\", \"hovertemplate\": \"month_year=%{x}<br>count=%{y}<extra></extra>\", \"legendgroup\": \"2020-01\", \"marker\": {\"color\": \"#636efa\"}, \"name\": \"2020-01\", \"offsetgroup\": \"2020-01\", \"orientation\": \"v\", \"showlegend\": true, \"textposition\": \"auto\", \"type\": \"bar\", \"x\": [\"2020-01\"], \"xaxis\": \"x\", \"y\": [82], \"yaxis\": \"y\"}, {\"alignmentgroup\": \"True\", \"hovertemplate\": \"month_year=%{x}<br>count=%{y}<extra></extra>\", \"legendgroup\": \"2020-02\", \"marker\": {\"color\": \"#EF553B\"}, \"name\": \"2020-02\", \"offsetgroup\": \"2020-02\", \"orientation\": \"v\", \"showlegend\": true, \"textposition\": \"auto\", \"type\": \"bar\", \"x\": [\"2020-02\"], \"xaxis\": \"x\", \"y\": [61], \"yaxis\": \"y\"}, {\"alignmentgroup\": \"True\", \"hovertemplate\": \"month_year=%{x}<br>count=%{y}<extra></extra>\", \"legendgroup\": \"2020-03\", \"marker\": {\"color\": \"#00cc96\"}, \"name\": \"2020-03\", \"offsetgroup\": \"2020-03\", \"orientation\": \"v\", \"showlegend\": true, \"textposition\": \"auto\", \"type\": \"bar\", \"x\": [\"2020-03\"], \"xaxis\": \"x\", \"y\": [73], \"yaxis\": \"y\"}, {\"alignmentgroup\": \"True\", \"hovertemplate\": \"month_year=%{x}<br>count=%{y}<extra></extra>\", \"legendgroup\": \"2020-04\", \"marker\": {\"color\": \"#ab63fa\"}, \"name\": \"2020-04\", \"offsetgroup\": \"2020-04\", \"orientation\": \"v\", \"showlegend\": true, \"textposition\": \"auto\", \"type\": \"bar\", \"x\": [\"2020-04\"], \"xaxis\": \"x\", \"y\": [58], \"yaxis\": \"y\"}, {\"alignmentgroup\": \"True\", \"hovertemplate\": \"month_year=%{x}<br>count=%{y}<extra></extra>\", \"legendgroup\": \"2020-05\", \"marker\": {\"color\": \"#FFA15A\"}, \"name\": \"2020-05\", \"offsetgroup\": \"2020-05\", \"orientation\": \"v\", \"showlegend\": true, \"textposition\": \"auto\", \"type\": \"bar\", \"x\": [\"2020-05\"], \"xaxis\": \"x\", \"y\": [78], \"yaxis\": \"y\"}, {\"alignmentgroup\": \"True\", \"hovertemplate\": \"month_year=%{x}<br>count=%{y}<extra></extra>\", \"legendgroup\": \"2020-06\", \"marker\": {\"color\": \"#19d3f3\"}, \"name\": \"2020-06\", \"offsetgroup\": \"2020-06\", \"orientation\": \"v\", \"showlegend\": true, \"textposition\": \"auto\", \"type\": \"bar\", \"x\": [\"2020-06\"], \"xaxis\": \"x\", \"y\": [22], \"yaxis\": \"y\"}],\n",
       "                        {\"barmode\": \"relative\", \"legend\": {\"title\": {\"text\": \"month_year\"}, \"tracegroupgap\": 0}, \"template\": {\"data\": {\"bar\": [{\"error_x\": {\"color\": \"#2a3f5f\"}, \"error_y\": {\"color\": \"#2a3f5f\"}, \"marker\": {\"line\": {\"color\": \"#E5ECF6\", \"width\": 0.5}}, \"type\": \"bar\"}], \"barpolar\": [{\"marker\": {\"line\": {\"color\": \"#E5ECF6\", \"width\": 0.5}}, \"type\": \"barpolar\"}], \"carpet\": [{\"aaxis\": {\"endlinecolor\": \"#2a3f5f\", \"gridcolor\": \"white\", \"linecolor\": \"white\", \"minorgridcolor\": \"white\", \"startlinecolor\": \"#2a3f5f\"}, \"baxis\": {\"endlinecolor\": \"#2a3f5f\", \"gridcolor\": \"white\", \"linecolor\": \"white\", \"minorgridcolor\": \"white\", \"startlinecolor\": \"#2a3f5f\"}, \"type\": \"carpet\"}], \"choropleth\": [{\"colorbar\": {\"outlinewidth\": 0, \"ticks\": \"\"}, \"type\": \"choropleth\"}], \"contour\": [{\"colorbar\": {\"outlinewidth\": 0, \"ticks\": \"\"}, \"colorscale\": [[0.0, \"#0d0887\"], [0.1111111111111111, \"#46039f\"], [0.2222222222222222, \"#7201a8\"], [0.3333333333333333, \"#9c179e\"], [0.4444444444444444, \"#bd3786\"], [0.5555555555555556, \"#d8576b\"], [0.6666666666666666, \"#ed7953\"], [0.7777777777777778, \"#fb9f3a\"], [0.8888888888888888, \"#fdca26\"], [1.0, \"#f0f921\"]], \"type\": \"contour\"}], \"contourcarpet\": [{\"colorbar\": {\"outlinewidth\": 0, \"ticks\": \"\"}, \"type\": \"contourcarpet\"}], \"heatmap\": [{\"colorbar\": {\"outlinewidth\": 0, \"ticks\": \"\"}, \"colorscale\": [[0.0, \"#0d0887\"], [0.1111111111111111, \"#46039f\"], [0.2222222222222222, \"#7201a8\"], [0.3333333333333333, \"#9c179e\"], [0.4444444444444444, \"#bd3786\"], [0.5555555555555556, \"#d8576b\"], [0.6666666666666666, \"#ed7953\"], [0.7777777777777778, \"#fb9f3a\"], [0.8888888888888888, \"#fdca26\"], [1.0, \"#f0f921\"]], \"type\": \"heatmap\"}], \"heatmapgl\": [{\"colorbar\": {\"outlinewidth\": 0, \"ticks\": \"\"}, \"colorscale\": [[0.0, \"#0d0887\"], [0.1111111111111111, \"#46039f\"], [0.2222222222222222, \"#7201a8\"], [0.3333333333333333, \"#9c179e\"], [0.4444444444444444, \"#bd3786\"], [0.5555555555555556, \"#d8576b\"], [0.6666666666666666, \"#ed7953\"], [0.7777777777777778, \"#fb9f3a\"], [0.8888888888888888, \"#fdca26\"], [1.0, \"#f0f921\"]], \"type\": \"heatmapgl\"}], \"histogram\": [{\"marker\": {\"colorbar\": {\"outlinewidth\": 0, \"ticks\": \"\"}}, \"type\": \"histogram\"}], \"histogram2d\": [{\"colorbar\": {\"outlinewidth\": 0, \"ticks\": \"\"}, \"colorscale\": [[0.0, \"#0d0887\"], [0.1111111111111111, \"#46039f\"], [0.2222222222222222, \"#7201a8\"], [0.3333333333333333, \"#9c179e\"], [0.4444444444444444, \"#bd3786\"], [0.5555555555555556, \"#d8576b\"], [0.6666666666666666, \"#ed7953\"], [0.7777777777777778, \"#fb9f3a\"], [0.8888888888888888, \"#fdca26\"], [1.0, \"#f0f921\"]], \"type\": \"histogram2d\"}], \"histogram2dcontour\": [{\"colorbar\": {\"outlinewidth\": 0, \"ticks\": \"\"}, \"colorscale\": [[0.0, \"#0d0887\"], [0.1111111111111111, \"#46039f\"], [0.2222222222222222, \"#7201a8\"], [0.3333333333333333, \"#9c179e\"], [0.4444444444444444, \"#bd3786\"], [0.5555555555555556, \"#d8576b\"], [0.6666666666666666, \"#ed7953\"], [0.7777777777777778, \"#fb9f3a\"], [0.8888888888888888, \"#fdca26\"], [1.0, \"#f0f921\"]], \"type\": \"histogram2dcontour\"}], \"mesh3d\": [{\"colorbar\": {\"outlinewidth\": 0, \"ticks\": \"\"}, \"type\": \"mesh3d\"}], \"parcoords\": [{\"line\": {\"colorbar\": {\"outlinewidth\": 0, \"ticks\": \"\"}}, \"type\": \"parcoords\"}], \"pie\": [{\"automargin\": true, \"type\": \"pie\"}], \"scatter\": [{\"marker\": {\"colorbar\": {\"outlinewidth\": 0, \"ticks\": \"\"}}, \"type\": \"scatter\"}], \"scatter3d\": [{\"line\": {\"colorbar\": {\"outlinewidth\": 0, \"ticks\": \"\"}}, \"marker\": {\"colorbar\": {\"outlinewidth\": 0, \"ticks\": \"\"}}, \"type\": \"scatter3d\"}], \"scattercarpet\": [{\"marker\": {\"colorbar\": {\"outlinewidth\": 0, \"ticks\": \"\"}}, \"type\": \"scattercarpet\"}], \"scattergeo\": [{\"marker\": {\"colorbar\": {\"outlinewidth\": 0, \"ticks\": \"\"}}, \"type\": \"scattergeo\"}], \"scattergl\": [{\"marker\": {\"colorbar\": {\"outlinewidth\": 0, \"ticks\": \"\"}}, \"type\": \"scattergl\"}], \"scattermapbox\": [{\"marker\": {\"colorbar\": {\"outlinewidth\": 0, \"ticks\": \"\"}}, \"type\": \"scattermapbox\"}], \"scatterpolar\": [{\"marker\": {\"colorbar\": {\"outlinewidth\": 0, \"ticks\": \"\"}}, \"type\": \"scatterpolar\"}], \"scatterpolargl\": [{\"marker\": {\"colorbar\": {\"outlinewidth\": 0, \"ticks\": \"\"}}, \"type\": \"scatterpolargl\"}], \"scatterternary\": [{\"marker\": {\"colorbar\": {\"outlinewidth\": 0, \"ticks\": \"\"}}, \"type\": \"scatterternary\"}], \"surface\": [{\"colorbar\": {\"outlinewidth\": 0, \"ticks\": \"\"}, \"colorscale\": [[0.0, \"#0d0887\"], [0.1111111111111111, \"#46039f\"], [0.2222222222222222, \"#7201a8\"], [0.3333333333333333, \"#9c179e\"], [0.4444444444444444, \"#bd3786\"], [0.5555555555555556, \"#d8576b\"], [0.6666666666666666, \"#ed7953\"], [0.7777777777777778, \"#fb9f3a\"], [0.8888888888888888, \"#fdca26\"], [1.0, \"#f0f921\"]], \"type\": \"surface\"}], \"table\": [{\"cells\": {\"fill\": {\"color\": \"#EBF0F8\"}, \"line\": {\"color\": \"white\"}}, \"header\": {\"fill\": {\"color\": \"#C8D4E3\"}, \"line\": {\"color\": \"white\"}}, \"type\": \"table\"}]}, \"layout\": {\"annotationdefaults\": {\"arrowcolor\": \"#2a3f5f\", \"arrowhead\": 0, \"arrowwidth\": 1}, \"coloraxis\": {\"colorbar\": {\"outlinewidth\": 0, \"ticks\": \"\"}}, \"colorscale\": {\"diverging\": [[0, \"#8e0152\"], [0.1, \"#c51b7d\"], [0.2, \"#de77ae\"], [0.3, \"#f1b6da\"], [0.4, \"#fde0ef\"], [0.5, \"#f7f7f7\"], [0.6, \"#e6f5d0\"], [0.7, \"#b8e186\"], [0.8, \"#7fbc41\"], [0.9, \"#4d9221\"], [1, \"#276419\"]], \"sequential\": [[0.0, \"#0d0887\"], [0.1111111111111111, \"#46039f\"], [0.2222222222222222, \"#7201a8\"], [0.3333333333333333, \"#9c179e\"], [0.4444444444444444, \"#bd3786\"], [0.5555555555555556, \"#d8576b\"], [0.6666666666666666, \"#ed7953\"], [0.7777777777777778, \"#fb9f3a\"], [0.8888888888888888, \"#fdca26\"], [1.0, \"#f0f921\"]], \"sequentialminus\": [[0.0, \"#0d0887\"], [0.1111111111111111, \"#46039f\"], [0.2222222222222222, \"#7201a8\"], [0.3333333333333333, \"#9c179e\"], [0.4444444444444444, \"#bd3786\"], [0.5555555555555556, \"#d8576b\"], [0.6666666666666666, \"#ed7953\"], [0.7777777777777778, \"#fb9f3a\"], [0.8888888888888888, \"#fdca26\"], [1.0, \"#f0f921\"]]}, \"colorway\": [\"#636efa\", \"#EF553B\", \"#00cc96\", \"#ab63fa\", \"#FFA15A\", \"#19d3f3\", \"#FF6692\", \"#B6E880\", \"#FF97FF\", \"#FECB52\"], \"font\": {\"color\": \"#2a3f5f\"}, \"geo\": {\"bgcolor\": \"white\", \"lakecolor\": \"white\", \"landcolor\": \"#E5ECF6\", \"showlakes\": true, \"showland\": true, \"subunitcolor\": \"white\"}, \"hoverlabel\": {\"align\": \"left\"}, \"hovermode\": \"closest\", \"mapbox\": {\"style\": \"light\"}, \"paper_bgcolor\": \"white\", \"plot_bgcolor\": \"#E5ECF6\", \"polar\": {\"angularaxis\": {\"gridcolor\": \"white\", \"linecolor\": \"white\", \"ticks\": \"\"}, \"bgcolor\": \"#E5ECF6\", \"radialaxis\": {\"gridcolor\": \"white\", \"linecolor\": \"white\", \"ticks\": \"\"}}, \"scene\": {\"xaxis\": {\"backgroundcolor\": \"#E5ECF6\", \"gridcolor\": \"white\", \"gridwidth\": 2, \"linecolor\": \"white\", \"showbackground\": true, \"ticks\": \"\", \"zerolinecolor\": \"white\"}, \"yaxis\": {\"backgroundcolor\": \"#E5ECF6\", \"gridcolor\": \"white\", \"gridwidth\": 2, \"linecolor\": \"white\", \"showbackground\": true, \"ticks\": \"\", \"zerolinecolor\": \"white\"}, \"zaxis\": {\"backgroundcolor\": \"#E5ECF6\", \"gridcolor\": \"white\", \"gridwidth\": 2, \"linecolor\": \"white\", \"showbackground\": true, \"ticks\": \"\", \"zerolinecolor\": \"white\"}}, \"shapedefaults\": {\"line\": {\"color\": \"#2a3f5f\"}}, \"ternary\": {\"aaxis\": {\"gridcolor\": \"white\", \"linecolor\": \"white\", \"ticks\": \"\"}, \"baxis\": {\"gridcolor\": \"white\", \"linecolor\": \"white\", \"ticks\": \"\"}, \"bgcolor\": \"#E5ECF6\", \"caxis\": {\"gridcolor\": \"white\", \"linecolor\": \"white\", \"ticks\": \"\"}}, \"title\": {\"x\": 0.05}, \"xaxis\": {\"automargin\": true, \"gridcolor\": \"white\", \"linecolor\": \"white\", \"ticks\": \"\", \"title\": {\"standoff\": 15}, \"zerolinecolor\": \"white\", \"zerolinewidth\": 2}, \"yaxis\": {\"automargin\": true, \"gridcolor\": \"white\", \"linecolor\": \"white\", \"ticks\": \"\", \"title\": {\"standoff\": 15}, \"zerolinecolor\": \"white\", \"zerolinewidth\": 2}}}, \"title\": {\"text\": \"Deaths by months\"}, \"width\": 800, \"xaxis\": {\"anchor\": \"y\", \"categoryarray\": [\"2015-01\", \"2015-02\", \"2015-03\", \"2015-04\", \"2015-05\", \"2015-06\", \"2015-07\", \"2015-08\", \"2015-09\", \"2015-10\", \"2015-11\", \"2015-12\", \"2016-01\", \"2016-02\", \"2016-03\", \"2016-04\", \"2016-05\", \"2016-06\", \"2016-07\", \"2016-08\", \"2016-09\", \"2016-10\", \"2016-11\", \"2016-12\", \"2017-01\", \"2017-02\", \"2017-03\", \"2017-04\", \"2017-05\", \"2017-06\", \"2017-07\", \"2017-08\", \"2017-09\", \"2017-10\", \"2017-11\", \"2017-12\", \"2018-01\", \"2018-02\", \"2018-03\", \"2018-04\", \"2018-05\", \"2018-06\", \"2018-07\", \"2018-08\", \"2018-09\", \"2018-10\", \"2018-11\", \"2018-12\", \"2019-01\", \"2019-02\", \"2019-03\", \"2019-04\", \"2019-05\", \"2019-06\", \"2019-07\", \"2019-08\", \"2019-09\", \"2019-10\", \"2019-11\", \"2019-12\", \"2020-01\", \"2020-02\", \"2020-03\", \"2020-04\", \"2020-05\", \"2020-06\"], \"categoryorder\": \"array\", \"domain\": [0.0, 1.0], \"title\": {\"text\": \"month_year\"}}, \"yaxis\": {\"anchor\": \"x\", \"domain\": [0.0, 1.0], \"title\": {\"text\": \"count\"}}},\n",
       "                        {\"responsive\": true}\n",
       "                    ).then(function(){\n",
       "                            \n",
       "var gd = document.getElementById('302f7956-370d-4a4c-b118-7dae74dfcbff');\n",
       "var x = new MutationObserver(function (mutations, observer) {{\n",
       "        var display = window.getComputedStyle(gd).display;\n",
       "        if (!display || display === 'none') {{\n",
       "            console.log([gd, 'removed!']);\n",
       "            Plotly.purge(gd);\n",
       "            observer.disconnect();\n",
       "        }}\n",
       "}});\n",
       "\n",
       "// Listen for the removal of the full notebook cells\n",
       "var notebookContainer = gd.closest('#notebook-container');\n",
       "if (notebookContainer) {{\n",
       "    x.observe(notebookContainer, {childList: true});\n",
       "}}\n",
       "\n",
       "// Listen for the clearing of the current output cell\n",
       "var outputEl = gd.closest('.output');\n",
       "if (outputEl) {{\n",
       "    x.observe(outputEl, {childList: true});\n",
       "}}\n",
       "\n",
       "                        })\n",
       "                };\n",
       "                });\n",
       "            </script>\n",
       "        </div>"
      ]
     },
     "metadata": {},
     "output_type": "display_data"
    }
   ],
   "source": [
    "#Death by month_year\n",
    "data = df.groupby(['month_year'])['name'].count().reset_index()\n",
    "data.columns = ['month_year', 'count']\n",
    "data['month_year'] = data['month_year'].astype(str)\n",
    "fig = px.bar(data, x='month_year', y='count', orientation='v', title='Deaths by months', width=800,color = 'month_year')\n",
    "fig.show()"
   ]
  },
  {
   "cell_type": "code",
   "execution_count": 82,
   "metadata": {},
   "outputs": [
    {
     "data": {
      "application/vnd.plotly.v1+json": {
       "config": {
        "plotlyServerURL": "https://plot.ly"
       },
       "data": [
        {
         "customdata": [
          [
           "Car"
          ],
          [
           "Foot"
          ],
          [
           "Not fleeing"
          ],
          [
           "Other"
          ]
         ],
         "domain": {
          "x": [
           0,
           1
          ],
          "y": [
           0,
           1
          ]
         },
         "hovertemplate": "flee=%{customdata[0]}<br>count=%{value}<extra></extra>",
         "labels": [
          "Car",
          "Foot",
          "Not fleeing",
          "Other"
         ],
         "legendgroup": "",
         "marker": {
          "colors": [
           "#636efa",
           "#EF553B",
           "#00cc96",
           "#ab63fa"
          ]
         },
         "name": "",
         "showlegend": true,
         "type": "pie",
         "values": [
          820,
          642,
          3073,
          360
         ]
        }
       ],
       "layout": {
        "legend": {
         "tracegroupgap": 0
        },
        "template": {
         "data": {
          "bar": [
           {
            "error_x": {
             "color": "#2a3f5f"
            },
            "error_y": {
             "color": "#2a3f5f"
            },
            "marker": {
             "line": {
              "color": "#E5ECF6",
              "width": 0.5
             }
            },
            "type": "bar"
           }
          ],
          "barpolar": [
           {
            "marker": {
             "line": {
              "color": "#E5ECF6",
              "width": 0.5
             }
            },
            "type": "barpolar"
           }
          ],
          "carpet": [
           {
            "aaxis": {
             "endlinecolor": "#2a3f5f",
             "gridcolor": "white",
             "linecolor": "white",
             "minorgridcolor": "white",
             "startlinecolor": "#2a3f5f"
            },
            "baxis": {
             "endlinecolor": "#2a3f5f",
             "gridcolor": "white",
             "linecolor": "white",
             "minorgridcolor": "white",
             "startlinecolor": "#2a3f5f"
            },
            "type": "carpet"
           }
          ],
          "choropleth": [
           {
            "colorbar": {
             "outlinewidth": 0,
             "ticks": ""
            },
            "type": "choropleth"
           }
          ],
          "contour": [
           {
            "colorbar": {
             "outlinewidth": 0,
             "ticks": ""
            },
            "colorscale": [
             [
              0,
              "#0d0887"
             ],
             [
              0.1111111111111111,
              "#46039f"
             ],
             [
              0.2222222222222222,
              "#7201a8"
             ],
             [
              0.3333333333333333,
              "#9c179e"
             ],
             [
              0.4444444444444444,
              "#bd3786"
             ],
             [
              0.5555555555555556,
              "#d8576b"
             ],
             [
              0.6666666666666666,
              "#ed7953"
             ],
             [
              0.7777777777777778,
              "#fb9f3a"
             ],
             [
              0.8888888888888888,
              "#fdca26"
             ],
             [
              1,
              "#f0f921"
             ]
            ],
            "type": "contour"
           }
          ],
          "contourcarpet": [
           {
            "colorbar": {
             "outlinewidth": 0,
             "ticks": ""
            },
            "type": "contourcarpet"
           }
          ],
          "heatmap": [
           {
            "colorbar": {
             "outlinewidth": 0,
             "ticks": ""
            },
            "colorscale": [
             [
              0,
              "#0d0887"
             ],
             [
              0.1111111111111111,
              "#46039f"
             ],
             [
              0.2222222222222222,
              "#7201a8"
             ],
             [
              0.3333333333333333,
              "#9c179e"
             ],
             [
              0.4444444444444444,
              "#bd3786"
             ],
             [
              0.5555555555555556,
              "#d8576b"
             ],
             [
              0.6666666666666666,
              "#ed7953"
             ],
             [
              0.7777777777777778,
              "#fb9f3a"
             ],
             [
              0.8888888888888888,
              "#fdca26"
             ],
             [
              1,
              "#f0f921"
             ]
            ],
            "type": "heatmap"
           }
          ],
          "heatmapgl": [
           {
            "colorbar": {
             "outlinewidth": 0,
             "ticks": ""
            },
            "colorscale": [
             [
              0,
              "#0d0887"
             ],
             [
              0.1111111111111111,
              "#46039f"
             ],
             [
              0.2222222222222222,
              "#7201a8"
             ],
             [
              0.3333333333333333,
              "#9c179e"
             ],
             [
              0.4444444444444444,
              "#bd3786"
             ],
             [
              0.5555555555555556,
              "#d8576b"
             ],
             [
              0.6666666666666666,
              "#ed7953"
             ],
             [
              0.7777777777777778,
              "#fb9f3a"
             ],
             [
              0.8888888888888888,
              "#fdca26"
             ],
             [
              1,
              "#f0f921"
             ]
            ],
            "type": "heatmapgl"
           }
          ],
          "histogram": [
           {
            "marker": {
             "colorbar": {
              "outlinewidth": 0,
              "ticks": ""
             }
            },
            "type": "histogram"
           }
          ],
          "histogram2d": [
           {
            "colorbar": {
             "outlinewidth": 0,
             "ticks": ""
            },
            "colorscale": [
             [
              0,
              "#0d0887"
             ],
             [
              0.1111111111111111,
              "#46039f"
             ],
             [
              0.2222222222222222,
              "#7201a8"
             ],
             [
              0.3333333333333333,
              "#9c179e"
             ],
             [
              0.4444444444444444,
              "#bd3786"
             ],
             [
              0.5555555555555556,
              "#d8576b"
             ],
             [
              0.6666666666666666,
              "#ed7953"
             ],
             [
              0.7777777777777778,
              "#fb9f3a"
             ],
             [
              0.8888888888888888,
              "#fdca26"
             ],
             [
              1,
              "#f0f921"
             ]
            ],
            "type": "histogram2d"
           }
          ],
          "histogram2dcontour": [
           {
            "colorbar": {
             "outlinewidth": 0,
             "ticks": ""
            },
            "colorscale": [
             [
              0,
              "#0d0887"
             ],
             [
              0.1111111111111111,
              "#46039f"
             ],
             [
              0.2222222222222222,
              "#7201a8"
             ],
             [
              0.3333333333333333,
              "#9c179e"
             ],
             [
              0.4444444444444444,
              "#bd3786"
             ],
             [
              0.5555555555555556,
              "#d8576b"
             ],
             [
              0.6666666666666666,
              "#ed7953"
             ],
             [
              0.7777777777777778,
              "#fb9f3a"
             ],
             [
              0.8888888888888888,
              "#fdca26"
             ],
             [
              1,
              "#f0f921"
             ]
            ],
            "type": "histogram2dcontour"
           }
          ],
          "mesh3d": [
           {
            "colorbar": {
             "outlinewidth": 0,
             "ticks": ""
            },
            "type": "mesh3d"
           }
          ],
          "parcoords": [
           {
            "line": {
             "colorbar": {
              "outlinewidth": 0,
              "ticks": ""
             }
            },
            "type": "parcoords"
           }
          ],
          "pie": [
           {
            "automargin": true,
            "type": "pie"
           }
          ],
          "scatter": [
           {
            "marker": {
             "colorbar": {
              "outlinewidth": 0,
              "ticks": ""
             }
            },
            "type": "scatter"
           }
          ],
          "scatter3d": [
           {
            "line": {
             "colorbar": {
              "outlinewidth": 0,
              "ticks": ""
             }
            },
            "marker": {
             "colorbar": {
              "outlinewidth": 0,
              "ticks": ""
             }
            },
            "type": "scatter3d"
           }
          ],
          "scattercarpet": [
           {
            "marker": {
             "colorbar": {
              "outlinewidth": 0,
              "ticks": ""
             }
            },
            "type": "scattercarpet"
           }
          ],
          "scattergeo": [
           {
            "marker": {
             "colorbar": {
              "outlinewidth": 0,
              "ticks": ""
             }
            },
            "type": "scattergeo"
           }
          ],
          "scattergl": [
           {
            "marker": {
             "colorbar": {
              "outlinewidth": 0,
              "ticks": ""
             }
            },
            "type": "scattergl"
           }
          ],
          "scattermapbox": [
           {
            "marker": {
             "colorbar": {
              "outlinewidth": 0,
              "ticks": ""
             }
            },
            "type": "scattermapbox"
           }
          ],
          "scatterpolar": [
           {
            "marker": {
             "colorbar": {
              "outlinewidth": 0,
              "ticks": ""
             }
            },
            "type": "scatterpolar"
           }
          ],
          "scatterpolargl": [
           {
            "marker": {
             "colorbar": {
              "outlinewidth": 0,
              "ticks": ""
             }
            },
            "type": "scatterpolargl"
           }
          ],
          "scatterternary": [
           {
            "marker": {
             "colorbar": {
              "outlinewidth": 0,
              "ticks": ""
             }
            },
            "type": "scatterternary"
           }
          ],
          "surface": [
           {
            "colorbar": {
             "outlinewidth": 0,
             "ticks": ""
            },
            "colorscale": [
             [
              0,
              "#0d0887"
             ],
             [
              0.1111111111111111,
              "#46039f"
             ],
             [
              0.2222222222222222,
              "#7201a8"
             ],
             [
              0.3333333333333333,
              "#9c179e"
             ],
             [
              0.4444444444444444,
              "#bd3786"
             ],
             [
              0.5555555555555556,
              "#d8576b"
             ],
             [
              0.6666666666666666,
              "#ed7953"
             ],
             [
              0.7777777777777778,
              "#fb9f3a"
             ],
             [
              0.8888888888888888,
              "#fdca26"
             ],
             [
              1,
              "#f0f921"
             ]
            ],
            "type": "surface"
           }
          ],
          "table": [
           {
            "cells": {
             "fill": {
              "color": "#EBF0F8"
             },
             "line": {
              "color": "white"
             }
            },
            "header": {
             "fill": {
              "color": "#C8D4E3"
             },
             "line": {
              "color": "white"
             }
            },
            "type": "table"
           }
          ]
         },
         "layout": {
          "annotationdefaults": {
           "arrowcolor": "#2a3f5f",
           "arrowhead": 0,
           "arrowwidth": 1
          },
          "coloraxis": {
           "colorbar": {
            "outlinewidth": 0,
            "ticks": ""
           }
          },
          "colorscale": {
           "diverging": [
            [
             0,
             "#8e0152"
            ],
            [
             0.1,
             "#c51b7d"
            ],
            [
             0.2,
             "#de77ae"
            ],
            [
             0.3,
             "#f1b6da"
            ],
            [
             0.4,
             "#fde0ef"
            ],
            [
             0.5,
             "#f7f7f7"
            ],
            [
             0.6,
             "#e6f5d0"
            ],
            [
             0.7,
             "#b8e186"
            ],
            [
             0.8,
             "#7fbc41"
            ],
            [
             0.9,
             "#4d9221"
            ],
            [
             1,
             "#276419"
            ]
           ],
           "sequential": [
            [
             0,
             "#0d0887"
            ],
            [
             0.1111111111111111,
             "#46039f"
            ],
            [
             0.2222222222222222,
             "#7201a8"
            ],
            [
             0.3333333333333333,
             "#9c179e"
            ],
            [
             0.4444444444444444,
             "#bd3786"
            ],
            [
             0.5555555555555556,
             "#d8576b"
            ],
            [
             0.6666666666666666,
             "#ed7953"
            ],
            [
             0.7777777777777778,
             "#fb9f3a"
            ],
            [
             0.8888888888888888,
             "#fdca26"
            ],
            [
             1,
             "#f0f921"
            ]
           ],
           "sequentialminus": [
            [
             0,
             "#0d0887"
            ],
            [
             0.1111111111111111,
             "#46039f"
            ],
            [
             0.2222222222222222,
             "#7201a8"
            ],
            [
             0.3333333333333333,
             "#9c179e"
            ],
            [
             0.4444444444444444,
             "#bd3786"
            ],
            [
             0.5555555555555556,
             "#d8576b"
            ],
            [
             0.6666666666666666,
             "#ed7953"
            ],
            [
             0.7777777777777778,
             "#fb9f3a"
            ],
            [
             0.8888888888888888,
             "#fdca26"
            ],
            [
             1,
             "#f0f921"
            ]
           ]
          },
          "colorway": [
           "#636efa",
           "#EF553B",
           "#00cc96",
           "#ab63fa",
           "#FFA15A",
           "#19d3f3",
           "#FF6692",
           "#B6E880",
           "#FF97FF",
           "#FECB52"
          ],
          "font": {
           "color": "#2a3f5f"
          },
          "geo": {
           "bgcolor": "white",
           "lakecolor": "white",
           "landcolor": "#E5ECF6",
           "showlakes": true,
           "showland": true,
           "subunitcolor": "white"
          },
          "hoverlabel": {
           "align": "left"
          },
          "hovermode": "closest",
          "mapbox": {
           "style": "light"
          },
          "paper_bgcolor": "white",
          "plot_bgcolor": "#E5ECF6",
          "polar": {
           "angularaxis": {
            "gridcolor": "white",
            "linecolor": "white",
            "ticks": ""
           },
           "bgcolor": "#E5ECF6",
           "radialaxis": {
            "gridcolor": "white",
            "linecolor": "white",
            "ticks": ""
           }
          },
          "scene": {
           "xaxis": {
            "backgroundcolor": "#E5ECF6",
            "gridcolor": "white",
            "gridwidth": 2,
            "linecolor": "white",
            "showbackground": true,
            "ticks": "",
            "zerolinecolor": "white"
           },
           "yaxis": {
            "backgroundcolor": "#E5ECF6",
            "gridcolor": "white",
            "gridwidth": 2,
            "linecolor": "white",
            "showbackground": true,
            "ticks": "",
            "zerolinecolor": "white"
           },
           "zaxis": {
            "backgroundcolor": "#E5ECF6",
            "gridcolor": "white",
            "gridwidth": 2,
            "linecolor": "white",
            "showbackground": true,
            "ticks": "",
            "zerolinecolor": "white"
           }
          },
          "shapedefaults": {
           "line": {
            "color": "#2a3f5f"
           }
          },
          "ternary": {
           "aaxis": {
            "gridcolor": "white",
            "linecolor": "white",
            "ticks": ""
           },
           "baxis": {
            "gridcolor": "white",
            "linecolor": "white",
            "ticks": ""
           },
           "bgcolor": "#E5ECF6",
           "caxis": {
            "gridcolor": "white",
            "linecolor": "white",
            "ticks": ""
           }
          },
          "title": {
           "x": 0.05
          },
          "xaxis": {
           "automargin": true,
           "gridcolor": "white",
           "linecolor": "white",
           "ticks": "",
           "title": {
            "standoff": 15
           },
           "zerolinecolor": "white",
           "zerolinewidth": 2
          },
          "yaxis": {
           "automargin": true,
           "gridcolor": "white",
           "linecolor": "white",
           "ticks": "",
           "title": {
            "standoff": 15
           },
           "zerolinecolor": "white",
           "zerolinewidth": 2
          }
         }
        },
        "title": {
         "text": "Flee distribution"
        },
        "width": 600
       }
      },
      "text/html": [
       "<div>\n",
       "        \n",
       "        \n",
       "            <div id=\"af5424dc-2adc-415b-9b26-7533ed55bf85\" class=\"plotly-graph-div\" style=\"height:525px; width:600px;\"></div>\n",
       "            <script type=\"text/javascript\">\n",
       "                require([\"plotly\"], function(Plotly) {\n",
       "                    window.PLOTLYENV=window.PLOTLYENV || {};\n",
       "                    \n",
       "                if (document.getElementById(\"af5424dc-2adc-415b-9b26-7533ed55bf85\")) {\n",
       "                    Plotly.newPlot(\n",
       "                        'af5424dc-2adc-415b-9b26-7533ed55bf85',\n",
       "                        [{\"customdata\": [[\"Car\"], [\"Foot\"], [\"Not fleeing\"], [\"Other\"]], \"domain\": {\"x\": [0.0, 1.0], \"y\": [0.0, 1.0]}, \"hovertemplate\": \"flee=%{customdata[0]}<br>count=%{value}<extra></extra>\", \"labels\": [\"Car\", \"Foot\", \"Not fleeing\", \"Other\"], \"legendgroup\": \"\", \"marker\": {\"colors\": [\"#636efa\", \"#EF553B\", \"#00cc96\", \"#ab63fa\"]}, \"name\": \"\", \"showlegend\": true, \"type\": \"pie\", \"values\": [820, 642, 3073, 360]}],\n",
       "                        {\"legend\": {\"tracegroupgap\": 0}, \"template\": {\"data\": {\"bar\": [{\"error_x\": {\"color\": \"#2a3f5f\"}, \"error_y\": {\"color\": \"#2a3f5f\"}, \"marker\": {\"line\": {\"color\": \"#E5ECF6\", \"width\": 0.5}}, \"type\": \"bar\"}], \"barpolar\": [{\"marker\": {\"line\": {\"color\": \"#E5ECF6\", \"width\": 0.5}}, \"type\": \"barpolar\"}], \"carpet\": [{\"aaxis\": {\"endlinecolor\": \"#2a3f5f\", \"gridcolor\": \"white\", \"linecolor\": \"white\", \"minorgridcolor\": \"white\", \"startlinecolor\": \"#2a3f5f\"}, \"baxis\": {\"endlinecolor\": \"#2a3f5f\", \"gridcolor\": \"white\", \"linecolor\": \"white\", \"minorgridcolor\": \"white\", \"startlinecolor\": \"#2a3f5f\"}, \"type\": \"carpet\"}], \"choropleth\": [{\"colorbar\": {\"outlinewidth\": 0, \"ticks\": \"\"}, \"type\": \"choropleth\"}], \"contour\": [{\"colorbar\": {\"outlinewidth\": 0, \"ticks\": \"\"}, \"colorscale\": [[0.0, \"#0d0887\"], [0.1111111111111111, \"#46039f\"], [0.2222222222222222, \"#7201a8\"], [0.3333333333333333, \"#9c179e\"], [0.4444444444444444, \"#bd3786\"], [0.5555555555555556, \"#d8576b\"], [0.6666666666666666, \"#ed7953\"], [0.7777777777777778, \"#fb9f3a\"], [0.8888888888888888, \"#fdca26\"], [1.0, \"#f0f921\"]], \"type\": \"contour\"}], \"contourcarpet\": [{\"colorbar\": {\"outlinewidth\": 0, \"ticks\": \"\"}, \"type\": \"contourcarpet\"}], \"heatmap\": [{\"colorbar\": {\"outlinewidth\": 0, \"ticks\": \"\"}, \"colorscale\": [[0.0, \"#0d0887\"], [0.1111111111111111, \"#46039f\"], [0.2222222222222222, \"#7201a8\"], [0.3333333333333333, \"#9c179e\"], [0.4444444444444444, \"#bd3786\"], [0.5555555555555556, \"#d8576b\"], [0.6666666666666666, \"#ed7953\"], [0.7777777777777778, \"#fb9f3a\"], [0.8888888888888888, \"#fdca26\"], [1.0, \"#f0f921\"]], \"type\": \"heatmap\"}], \"heatmapgl\": [{\"colorbar\": {\"outlinewidth\": 0, \"ticks\": \"\"}, \"colorscale\": [[0.0, \"#0d0887\"], [0.1111111111111111, \"#46039f\"], [0.2222222222222222, \"#7201a8\"], [0.3333333333333333, \"#9c179e\"], [0.4444444444444444, \"#bd3786\"], [0.5555555555555556, \"#d8576b\"], [0.6666666666666666, \"#ed7953\"], [0.7777777777777778, \"#fb9f3a\"], [0.8888888888888888, \"#fdca26\"], [1.0, \"#f0f921\"]], \"type\": \"heatmapgl\"}], \"histogram\": [{\"marker\": {\"colorbar\": {\"outlinewidth\": 0, \"ticks\": \"\"}}, \"type\": \"histogram\"}], \"histogram2d\": [{\"colorbar\": {\"outlinewidth\": 0, \"ticks\": \"\"}, \"colorscale\": [[0.0, \"#0d0887\"], [0.1111111111111111, \"#46039f\"], [0.2222222222222222, \"#7201a8\"], [0.3333333333333333, \"#9c179e\"], [0.4444444444444444, \"#bd3786\"], [0.5555555555555556, \"#d8576b\"], [0.6666666666666666, \"#ed7953\"], [0.7777777777777778, \"#fb9f3a\"], [0.8888888888888888, \"#fdca26\"], [1.0, \"#f0f921\"]], \"type\": \"histogram2d\"}], \"histogram2dcontour\": [{\"colorbar\": {\"outlinewidth\": 0, \"ticks\": \"\"}, \"colorscale\": [[0.0, \"#0d0887\"], [0.1111111111111111, \"#46039f\"], [0.2222222222222222, \"#7201a8\"], [0.3333333333333333, \"#9c179e\"], [0.4444444444444444, \"#bd3786\"], [0.5555555555555556, \"#d8576b\"], [0.6666666666666666, \"#ed7953\"], [0.7777777777777778, \"#fb9f3a\"], [0.8888888888888888, \"#fdca26\"], [1.0, \"#f0f921\"]], \"type\": \"histogram2dcontour\"}], \"mesh3d\": [{\"colorbar\": {\"outlinewidth\": 0, \"ticks\": \"\"}, \"type\": \"mesh3d\"}], \"parcoords\": [{\"line\": {\"colorbar\": {\"outlinewidth\": 0, \"ticks\": \"\"}}, \"type\": \"parcoords\"}], \"pie\": [{\"automargin\": true, \"type\": \"pie\"}], \"scatter\": [{\"marker\": {\"colorbar\": {\"outlinewidth\": 0, \"ticks\": \"\"}}, \"type\": \"scatter\"}], \"scatter3d\": [{\"line\": {\"colorbar\": {\"outlinewidth\": 0, \"ticks\": \"\"}}, \"marker\": {\"colorbar\": {\"outlinewidth\": 0, \"ticks\": \"\"}}, \"type\": \"scatter3d\"}], \"scattercarpet\": [{\"marker\": {\"colorbar\": {\"outlinewidth\": 0, \"ticks\": \"\"}}, \"type\": \"scattercarpet\"}], \"scattergeo\": [{\"marker\": {\"colorbar\": {\"outlinewidth\": 0, \"ticks\": \"\"}}, \"type\": \"scattergeo\"}], \"scattergl\": [{\"marker\": {\"colorbar\": {\"outlinewidth\": 0, \"ticks\": \"\"}}, \"type\": \"scattergl\"}], \"scattermapbox\": [{\"marker\": {\"colorbar\": {\"outlinewidth\": 0, \"ticks\": \"\"}}, \"type\": \"scattermapbox\"}], \"scatterpolar\": [{\"marker\": {\"colorbar\": {\"outlinewidth\": 0, \"ticks\": \"\"}}, \"type\": \"scatterpolar\"}], \"scatterpolargl\": [{\"marker\": {\"colorbar\": {\"outlinewidth\": 0, \"ticks\": \"\"}}, \"type\": \"scatterpolargl\"}], \"scatterternary\": [{\"marker\": {\"colorbar\": {\"outlinewidth\": 0, \"ticks\": \"\"}}, \"type\": \"scatterternary\"}], \"surface\": [{\"colorbar\": {\"outlinewidth\": 0, \"ticks\": \"\"}, \"colorscale\": [[0.0, \"#0d0887\"], [0.1111111111111111, \"#46039f\"], [0.2222222222222222, \"#7201a8\"], [0.3333333333333333, \"#9c179e\"], [0.4444444444444444, \"#bd3786\"], [0.5555555555555556, \"#d8576b\"], [0.6666666666666666, \"#ed7953\"], [0.7777777777777778, \"#fb9f3a\"], [0.8888888888888888, \"#fdca26\"], [1.0, \"#f0f921\"]], \"type\": \"surface\"}], \"table\": [{\"cells\": {\"fill\": {\"color\": \"#EBF0F8\"}, \"line\": {\"color\": \"white\"}}, \"header\": {\"fill\": {\"color\": \"#C8D4E3\"}, \"line\": {\"color\": \"white\"}}, \"type\": \"table\"}]}, \"layout\": {\"annotationdefaults\": {\"arrowcolor\": \"#2a3f5f\", \"arrowhead\": 0, \"arrowwidth\": 1}, \"coloraxis\": {\"colorbar\": {\"outlinewidth\": 0, \"ticks\": \"\"}}, \"colorscale\": {\"diverging\": [[0, \"#8e0152\"], [0.1, \"#c51b7d\"], [0.2, \"#de77ae\"], [0.3, \"#f1b6da\"], [0.4, \"#fde0ef\"], [0.5, \"#f7f7f7\"], [0.6, \"#e6f5d0\"], [0.7, \"#b8e186\"], [0.8, \"#7fbc41\"], [0.9, \"#4d9221\"], [1, \"#276419\"]], \"sequential\": [[0.0, \"#0d0887\"], [0.1111111111111111, \"#46039f\"], [0.2222222222222222, \"#7201a8\"], [0.3333333333333333, \"#9c179e\"], [0.4444444444444444, \"#bd3786\"], [0.5555555555555556, \"#d8576b\"], [0.6666666666666666, \"#ed7953\"], [0.7777777777777778, \"#fb9f3a\"], [0.8888888888888888, \"#fdca26\"], [1.0, \"#f0f921\"]], \"sequentialminus\": [[0.0, \"#0d0887\"], [0.1111111111111111, \"#46039f\"], [0.2222222222222222, \"#7201a8\"], [0.3333333333333333, \"#9c179e\"], [0.4444444444444444, \"#bd3786\"], [0.5555555555555556, \"#d8576b\"], [0.6666666666666666, \"#ed7953\"], [0.7777777777777778, \"#fb9f3a\"], [0.8888888888888888, \"#fdca26\"], [1.0, \"#f0f921\"]]}, \"colorway\": [\"#636efa\", \"#EF553B\", \"#00cc96\", \"#ab63fa\", \"#FFA15A\", \"#19d3f3\", \"#FF6692\", \"#B6E880\", \"#FF97FF\", \"#FECB52\"], \"font\": {\"color\": \"#2a3f5f\"}, \"geo\": {\"bgcolor\": \"white\", \"lakecolor\": \"white\", \"landcolor\": \"#E5ECF6\", \"showlakes\": true, \"showland\": true, \"subunitcolor\": \"white\"}, \"hoverlabel\": {\"align\": \"left\"}, \"hovermode\": \"closest\", \"mapbox\": {\"style\": \"light\"}, \"paper_bgcolor\": \"white\", \"plot_bgcolor\": \"#E5ECF6\", \"polar\": {\"angularaxis\": {\"gridcolor\": \"white\", \"linecolor\": \"white\", \"ticks\": \"\"}, \"bgcolor\": \"#E5ECF6\", \"radialaxis\": {\"gridcolor\": \"white\", \"linecolor\": \"white\", \"ticks\": \"\"}}, \"scene\": {\"xaxis\": {\"backgroundcolor\": \"#E5ECF6\", \"gridcolor\": \"white\", \"gridwidth\": 2, \"linecolor\": \"white\", \"showbackground\": true, \"ticks\": \"\", \"zerolinecolor\": \"white\"}, \"yaxis\": {\"backgroundcolor\": \"#E5ECF6\", \"gridcolor\": \"white\", \"gridwidth\": 2, \"linecolor\": \"white\", \"showbackground\": true, \"ticks\": \"\", \"zerolinecolor\": \"white\"}, \"zaxis\": {\"backgroundcolor\": \"#E5ECF6\", \"gridcolor\": \"white\", \"gridwidth\": 2, \"linecolor\": \"white\", \"showbackground\": true, \"ticks\": \"\", \"zerolinecolor\": \"white\"}}, \"shapedefaults\": {\"line\": {\"color\": \"#2a3f5f\"}}, \"ternary\": {\"aaxis\": {\"gridcolor\": \"white\", \"linecolor\": \"white\", \"ticks\": \"\"}, \"baxis\": {\"gridcolor\": \"white\", \"linecolor\": \"white\", \"ticks\": \"\"}, \"bgcolor\": \"#E5ECF6\", \"caxis\": {\"gridcolor\": \"white\", \"linecolor\": \"white\", \"ticks\": \"\"}}, \"title\": {\"x\": 0.05}, \"xaxis\": {\"automargin\": true, \"gridcolor\": \"white\", \"linecolor\": \"white\", \"ticks\": \"\", \"title\": {\"standoff\": 15}, \"zerolinecolor\": \"white\", \"zerolinewidth\": 2}, \"yaxis\": {\"automargin\": true, \"gridcolor\": \"white\", \"linecolor\": \"white\", \"ticks\": \"\", \"title\": {\"standoff\": 15}, \"zerolinecolor\": \"white\", \"zerolinewidth\": 2}}}, \"title\": {\"text\": \"Flee distribution\"}, \"width\": 600},\n",
       "                        {\"responsive\": true}\n",
       "                    ).then(function(){\n",
       "                            \n",
       "var gd = document.getElementById('af5424dc-2adc-415b-9b26-7533ed55bf85');\n",
       "var x = new MutationObserver(function (mutations, observer) {{\n",
       "        var display = window.getComputedStyle(gd).display;\n",
       "        if (!display || display === 'none') {{\n",
       "            console.log([gd, 'removed!']);\n",
       "            Plotly.purge(gd);\n",
       "            observer.disconnect();\n",
       "        }}\n",
       "}});\n",
       "\n",
       "// Listen for the removal of the full notebook cells\n",
       "var notebookContainer = gd.closest('#notebook-container');\n",
       "if (notebookContainer) {{\n",
       "    x.observe(notebookContainer, {childList: true});\n",
       "}}\n",
       "\n",
       "// Listen for the clearing of the current output cell\n",
       "var outputEl = gd.closest('.output');\n",
       "if (outputEl) {{\n",
       "    x.observe(outputEl, {childList: true});\n",
       "}}\n",
       "\n",
       "                        })\n",
       "                };\n",
       "                });\n",
       "            </script>\n",
       "        </div>"
      ]
     },
     "metadata": {},
     "output_type": "display_data"
    }
   ],
   "source": [
    "#Escape Distribution\n",
    "data = df.groupby(['flee'])['name'].count().reset_index()\n",
    "data.columns = ['flee', 'count']\n",
    "fig = px.pie(data, values='count', names='flee', title='Flee distribution', width=600,color = 'flee')\n",
    "fig.show()"
   ]
  },
  {
   "cell_type": "code",
   "execution_count": 90,
   "metadata": {},
   "outputs": [],
   "source": [
    "Innocent = df['flee'] =='Not fleeing'"
   ]
  },
  {
   "cell_type": "code",
   "execution_count": 91,
   "metadata": {},
   "outputs": [],
   "source": [
    "Innocent_data = df[Innocent]"
   ]
  },
  {
   "cell_type": "code",
   "execution_count": 92,
   "metadata": {},
   "outputs": [
    {
     "data": {
      "text/html": [
       "<div>\n",
       "<style scoped>\n",
       "    .dataframe tbody tr th:only-of-type {\n",
       "        vertical-align: middle;\n",
       "    }\n",
       "\n",
       "    .dataframe tbody tr th {\n",
       "        vertical-align: top;\n",
       "    }\n",
       "\n",
       "    .dataframe thead th {\n",
       "        text-align: right;\n",
       "    }\n",
       "</style>\n",
       "<table border=\"1\" class=\"dataframe\">\n",
       "  <thead>\n",
       "    <tr style=\"text-align: right;\">\n",
       "      <th></th>\n",
       "      <th>id</th>\n",
       "      <th>name</th>\n",
       "      <th>date</th>\n",
       "      <th>manner_of_death</th>\n",
       "      <th>armed</th>\n",
       "      <th>age</th>\n",
       "      <th>gender</th>\n",
       "      <th>race</th>\n",
       "      <th>city</th>\n",
       "      <th>state</th>\n",
       "      <th>signs_of_mental_illness</th>\n",
       "      <th>threat_level</th>\n",
       "      <th>flee</th>\n",
       "      <th>body_camera</th>\n",
       "      <th>arms_category</th>\n",
       "      <th>weekday</th>\n",
       "      <th>month</th>\n",
       "      <th>month_day</th>\n",
       "      <th>year</th>\n",
       "      <th>month_year</th>\n",
       "    </tr>\n",
       "  </thead>\n",
       "  <tbody>\n",
       "    <tr>\n",
       "      <th>0</th>\n",
       "      <td>3</td>\n",
       "      <td>Tim Elliot</td>\n",
       "      <td>2015-01-02</td>\n",
       "      <td>shot</td>\n",
       "      <td>gun</td>\n",
       "      <td>53.0</td>\n",
       "      <td>M</td>\n",
       "      <td>Asian</td>\n",
       "      <td>Shelton</td>\n",
       "      <td>WA</td>\n",
       "      <td>True</td>\n",
       "      <td>attack</td>\n",
       "      <td>Not fleeing</td>\n",
       "      <td>False</td>\n",
       "      <td>Guns</td>\n",
       "      <td>4</td>\n",
       "      <td>1</td>\n",
       "      <td>2</td>\n",
       "      <td>2015</td>\n",
       "      <td>2015-01</td>\n",
       "    </tr>\n",
       "    <tr>\n",
       "      <th>1</th>\n",
       "      <td>4</td>\n",
       "      <td>Lewis Lee Lembke</td>\n",
       "      <td>2015-01-02</td>\n",
       "      <td>shot</td>\n",
       "      <td>gun</td>\n",
       "      <td>47.0</td>\n",
       "      <td>M</td>\n",
       "      <td>White</td>\n",
       "      <td>Aloha</td>\n",
       "      <td>OR</td>\n",
       "      <td>False</td>\n",
       "      <td>attack</td>\n",
       "      <td>Not fleeing</td>\n",
       "      <td>False</td>\n",
       "      <td>Guns</td>\n",
       "      <td>4</td>\n",
       "      <td>1</td>\n",
       "      <td>2</td>\n",
       "      <td>2015</td>\n",
       "      <td>2015-01</td>\n",
       "    </tr>\n",
       "    <tr>\n",
       "      <th>2</th>\n",
       "      <td>5</td>\n",
       "      <td>John Paul Quintero</td>\n",
       "      <td>2015-01-03</td>\n",
       "      <td>shot and Tasered</td>\n",
       "      <td>unarmed</td>\n",
       "      <td>23.0</td>\n",
       "      <td>M</td>\n",
       "      <td>Hispanic</td>\n",
       "      <td>Wichita</td>\n",
       "      <td>KS</td>\n",
       "      <td>False</td>\n",
       "      <td>other</td>\n",
       "      <td>Not fleeing</td>\n",
       "      <td>False</td>\n",
       "      <td>Unarmed</td>\n",
       "      <td>5</td>\n",
       "      <td>1</td>\n",
       "      <td>3</td>\n",
       "      <td>2015</td>\n",
       "      <td>2015-01</td>\n",
       "    </tr>\n",
       "    <tr>\n",
       "      <th>3</th>\n",
       "      <td>8</td>\n",
       "      <td>Matthew Hoffman</td>\n",
       "      <td>2015-01-04</td>\n",
       "      <td>shot</td>\n",
       "      <td>toy weapon</td>\n",
       "      <td>32.0</td>\n",
       "      <td>M</td>\n",
       "      <td>White</td>\n",
       "      <td>San Francisco</td>\n",
       "      <td>CA</td>\n",
       "      <td>True</td>\n",
       "      <td>attack</td>\n",
       "      <td>Not fleeing</td>\n",
       "      <td>False</td>\n",
       "      <td>Other unusual objects</td>\n",
       "      <td>6</td>\n",
       "      <td>1</td>\n",
       "      <td>4</td>\n",
       "      <td>2015</td>\n",
       "      <td>2015-01</td>\n",
       "    </tr>\n",
       "    <tr>\n",
       "      <th>4</th>\n",
       "      <td>9</td>\n",
       "      <td>Michael Rodriguez</td>\n",
       "      <td>2015-01-04</td>\n",
       "      <td>shot</td>\n",
       "      <td>nail gun</td>\n",
       "      <td>39.0</td>\n",
       "      <td>M</td>\n",
       "      <td>Hispanic</td>\n",
       "      <td>Evans</td>\n",
       "      <td>CO</td>\n",
       "      <td>False</td>\n",
       "      <td>attack</td>\n",
       "      <td>Not fleeing</td>\n",
       "      <td>False</td>\n",
       "      <td>Piercing objects</td>\n",
       "      <td>6</td>\n",
       "      <td>1</td>\n",
       "      <td>4</td>\n",
       "      <td>2015</td>\n",
       "      <td>2015-01</td>\n",
       "    </tr>\n",
       "  </tbody>\n",
       "</table>\n",
       "</div>"
      ],
      "text/plain": [
       "   id                name       date   manner_of_death       armed   age  \\\n",
       "0   3          Tim Elliot 2015-01-02              shot         gun  53.0   \n",
       "1   4    Lewis Lee Lembke 2015-01-02              shot         gun  47.0   \n",
       "2   5  John Paul Quintero 2015-01-03  shot and Tasered     unarmed  23.0   \n",
       "3   8     Matthew Hoffman 2015-01-04              shot  toy weapon  32.0   \n",
       "4   9   Michael Rodriguez 2015-01-04              shot    nail gun  39.0   \n",
       "\n",
       "  gender      race           city state  signs_of_mental_illness threat_level  \\\n",
       "0      M     Asian        Shelton    WA                     True       attack   \n",
       "1      M     White          Aloha    OR                    False       attack   \n",
       "2      M  Hispanic        Wichita    KS                    False        other   \n",
       "3      M     White  San Francisco    CA                     True       attack   \n",
       "4      M  Hispanic          Evans    CO                    False       attack   \n",
       "\n",
       "          flee  body_camera          arms_category  weekday  month  month_day  \\\n",
       "0  Not fleeing        False                   Guns        4      1          2   \n",
       "1  Not fleeing        False                   Guns        4      1          2   \n",
       "2  Not fleeing        False                Unarmed        5      1          3   \n",
       "3  Not fleeing        False  Other unusual objects        6      1          4   \n",
       "4  Not fleeing        False       Piercing objects        6      1          4   \n",
       "\n",
       "   year month_year  \n",
       "0  2015    2015-01  \n",
       "1  2015    2015-01  \n",
       "2  2015    2015-01  \n",
       "3  2015    2015-01  \n",
       "4  2015    2015-01  "
      ]
     },
     "execution_count": 92,
     "metadata": {},
     "output_type": "execute_result"
    }
   ],
   "source": [
    "Innocent_data.head()"
   ]
  },
  {
   "cell_type": "code",
   "execution_count": 113,
   "metadata": {},
   "outputs": [
    {
     "data": {
      "application/vnd.plotly.v1+json": {
       "config": {
        "plotlyServerURL": "https://plot.ly"
       },
       "data": [
        {
         "domain": {
          "x": [
           0,
           1
          ],
          "y": [
           0,
           1
          ]
         },
         "hovertemplate": "race=%{label}<br>counts=%{value}<extra></extra>",
         "labels": [
          "Asian",
          "Black",
          "Hispanic",
          "Native",
          "Other",
          "White"
         ],
         "legendgroup": "",
         "name": "",
         "showlegend": true,
         "type": "pie",
         "values": [
          71,
          734,
          534,
          47,
          30,
          1657
         ]
        }
       ],
       "layout": {
        "legend": {
         "tracegroupgap": 0
        },
        "template": {
         "data": {
          "bar": [
           {
            "error_x": {
             "color": "#2a3f5f"
            },
            "error_y": {
             "color": "#2a3f5f"
            },
            "marker": {
             "line": {
              "color": "#E5ECF6",
              "width": 0.5
             }
            },
            "type": "bar"
           }
          ],
          "barpolar": [
           {
            "marker": {
             "line": {
              "color": "#E5ECF6",
              "width": 0.5
             }
            },
            "type": "barpolar"
           }
          ],
          "carpet": [
           {
            "aaxis": {
             "endlinecolor": "#2a3f5f",
             "gridcolor": "white",
             "linecolor": "white",
             "minorgridcolor": "white",
             "startlinecolor": "#2a3f5f"
            },
            "baxis": {
             "endlinecolor": "#2a3f5f",
             "gridcolor": "white",
             "linecolor": "white",
             "minorgridcolor": "white",
             "startlinecolor": "#2a3f5f"
            },
            "type": "carpet"
           }
          ],
          "choropleth": [
           {
            "colorbar": {
             "outlinewidth": 0,
             "ticks": ""
            },
            "type": "choropleth"
           }
          ],
          "contour": [
           {
            "colorbar": {
             "outlinewidth": 0,
             "ticks": ""
            },
            "colorscale": [
             [
              0,
              "#0d0887"
             ],
             [
              0.1111111111111111,
              "#46039f"
             ],
             [
              0.2222222222222222,
              "#7201a8"
             ],
             [
              0.3333333333333333,
              "#9c179e"
             ],
             [
              0.4444444444444444,
              "#bd3786"
             ],
             [
              0.5555555555555556,
              "#d8576b"
             ],
             [
              0.6666666666666666,
              "#ed7953"
             ],
             [
              0.7777777777777778,
              "#fb9f3a"
             ],
             [
              0.8888888888888888,
              "#fdca26"
             ],
             [
              1,
              "#f0f921"
             ]
            ],
            "type": "contour"
           }
          ],
          "contourcarpet": [
           {
            "colorbar": {
             "outlinewidth": 0,
             "ticks": ""
            },
            "type": "contourcarpet"
           }
          ],
          "heatmap": [
           {
            "colorbar": {
             "outlinewidth": 0,
             "ticks": ""
            },
            "colorscale": [
             [
              0,
              "#0d0887"
             ],
             [
              0.1111111111111111,
              "#46039f"
             ],
             [
              0.2222222222222222,
              "#7201a8"
             ],
             [
              0.3333333333333333,
              "#9c179e"
             ],
             [
              0.4444444444444444,
              "#bd3786"
             ],
             [
              0.5555555555555556,
              "#d8576b"
             ],
             [
              0.6666666666666666,
              "#ed7953"
             ],
             [
              0.7777777777777778,
              "#fb9f3a"
             ],
             [
              0.8888888888888888,
              "#fdca26"
             ],
             [
              1,
              "#f0f921"
             ]
            ],
            "type": "heatmap"
           }
          ],
          "heatmapgl": [
           {
            "colorbar": {
             "outlinewidth": 0,
             "ticks": ""
            },
            "colorscale": [
             [
              0,
              "#0d0887"
             ],
             [
              0.1111111111111111,
              "#46039f"
             ],
             [
              0.2222222222222222,
              "#7201a8"
             ],
             [
              0.3333333333333333,
              "#9c179e"
             ],
             [
              0.4444444444444444,
              "#bd3786"
             ],
             [
              0.5555555555555556,
              "#d8576b"
             ],
             [
              0.6666666666666666,
              "#ed7953"
             ],
             [
              0.7777777777777778,
              "#fb9f3a"
             ],
             [
              0.8888888888888888,
              "#fdca26"
             ],
             [
              1,
              "#f0f921"
             ]
            ],
            "type": "heatmapgl"
           }
          ],
          "histogram": [
           {
            "marker": {
             "colorbar": {
              "outlinewidth": 0,
              "ticks": ""
             }
            },
            "type": "histogram"
           }
          ],
          "histogram2d": [
           {
            "colorbar": {
             "outlinewidth": 0,
             "ticks": ""
            },
            "colorscale": [
             [
              0,
              "#0d0887"
             ],
             [
              0.1111111111111111,
              "#46039f"
             ],
             [
              0.2222222222222222,
              "#7201a8"
             ],
             [
              0.3333333333333333,
              "#9c179e"
             ],
             [
              0.4444444444444444,
              "#bd3786"
             ],
             [
              0.5555555555555556,
              "#d8576b"
             ],
             [
              0.6666666666666666,
              "#ed7953"
             ],
             [
              0.7777777777777778,
              "#fb9f3a"
             ],
             [
              0.8888888888888888,
              "#fdca26"
             ],
             [
              1,
              "#f0f921"
             ]
            ],
            "type": "histogram2d"
           }
          ],
          "histogram2dcontour": [
           {
            "colorbar": {
             "outlinewidth": 0,
             "ticks": ""
            },
            "colorscale": [
             [
              0,
              "#0d0887"
             ],
             [
              0.1111111111111111,
              "#46039f"
             ],
             [
              0.2222222222222222,
              "#7201a8"
             ],
             [
              0.3333333333333333,
              "#9c179e"
             ],
             [
              0.4444444444444444,
              "#bd3786"
             ],
             [
              0.5555555555555556,
              "#d8576b"
             ],
             [
              0.6666666666666666,
              "#ed7953"
             ],
             [
              0.7777777777777778,
              "#fb9f3a"
             ],
             [
              0.8888888888888888,
              "#fdca26"
             ],
             [
              1,
              "#f0f921"
             ]
            ],
            "type": "histogram2dcontour"
           }
          ],
          "mesh3d": [
           {
            "colorbar": {
             "outlinewidth": 0,
             "ticks": ""
            },
            "type": "mesh3d"
           }
          ],
          "parcoords": [
           {
            "line": {
             "colorbar": {
              "outlinewidth": 0,
              "ticks": ""
             }
            },
            "type": "parcoords"
           }
          ],
          "pie": [
           {
            "automargin": true,
            "type": "pie"
           }
          ],
          "scatter": [
           {
            "marker": {
             "colorbar": {
              "outlinewidth": 0,
              "ticks": ""
             }
            },
            "type": "scatter"
           }
          ],
          "scatter3d": [
           {
            "line": {
             "colorbar": {
              "outlinewidth": 0,
              "ticks": ""
             }
            },
            "marker": {
             "colorbar": {
              "outlinewidth": 0,
              "ticks": ""
             }
            },
            "type": "scatter3d"
           }
          ],
          "scattercarpet": [
           {
            "marker": {
             "colorbar": {
              "outlinewidth": 0,
              "ticks": ""
             }
            },
            "type": "scattercarpet"
           }
          ],
          "scattergeo": [
           {
            "marker": {
             "colorbar": {
              "outlinewidth": 0,
              "ticks": ""
             }
            },
            "type": "scattergeo"
           }
          ],
          "scattergl": [
           {
            "marker": {
             "colorbar": {
              "outlinewidth": 0,
              "ticks": ""
             }
            },
            "type": "scattergl"
           }
          ],
          "scattermapbox": [
           {
            "marker": {
             "colorbar": {
              "outlinewidth": 0,
              "ticks": ""
             }
            },
            "type": "scattermapbox"
           }
          ],
          "scatterpolar": [
           {
            "marker": {
             "colorbar": {
              "outlinewidth": 0,
              "ticks": ""
             }
            },
            "type": "scatterpolar"
           }
          ],
          "scatterpolargl": [
           {
            "marker": {
             "colorbar": {
              "outlinewidth": 0,
              "ticks": ""
             }
            },
            "type": "scatterpolargl"
           }
          ],
          "scatterternary": [
           {
            "marker": {
             "colorbar": {
              "outlinewidth": 0,
              "ticks": ""
             }
            },
            "type": "scatterternary"
           }
          ],
          "surface": [
           {
            "colorbar": {
             "outlinewidth": 0,
             "ticks": ""
            },
            "colorscale": [
             [
              0,
              "#0d0887"
             ],
             [
              0.1111111111111111,
              "#46039f"
             ],
             [
              0.2222222222222222,
              "#7201a8"
             ],
             [
              0.3333333333333333,
              "#9c179e"
             ],
             [
              0.4444444444444444,
              "#bd3786"
             ],
             [
              0.5555555555555556,
              "#d8576b"
             ],
             [
              0.6666666666666666,
              "#ed7953"
             ],
             [
              0.7777777777777778,
              "#fb9f3a"
             ],
             [
              0.8888888888888888,
              "#fdca26"
             ],
             [
              1,
              "#f0f921"
             ]
            ],
            "type": "surface"
           }
          ],
          "table": [
           {
            "cells": {
             "fill": {
              "color": "#EBF0F8"
             },
             "line": {
              "color": "white"
             }
            },
            "header": {
             "fill": {
              "color": "#C8D4E3"
             },
             "line": {
              "color": "white"
             }
            },
            "type": "table"
           }
          ]
         },
         "layout": {
          "annotationdefaults": {
           "arrowcolor": "#2a3f5f",
           "arrowhead": 0,
           "arrowwidth": 1
          },
          "coloraxis": {
           "colorbar": {
            "outlinewidth": 0,
            "ticks": ""
           }
          },
          "colorscale": {
           "diverging": [
            [
             0,
             "#8e0152"
            ],
            [
             0.1,
             "#c51b7d"
            ],
            [
             0.2,
             "#de77ae"
            ],
            [
             0.3,
             "#f1b6da"
            ],
            [
             0.4,
             "#fde0ef"
            ],
            [
             0.5,
             "#f7f7f7"
            ],
            [
             0.6,
             "#e6f5d0"
            ],
            [
             0.7,
             "#b8e186"
            ],
            [
             0.8,
             "#7fbc41"
            ],
            [
             0.9,
             "#4d9221"
            ],
            [
             1,
             "#276419"
            ]
           ],
           "sequential": [
            [
             0,
             "#0d0887"
            ],
            [
             0.1111111111111111,
             "#46039f"
            ],
            [
             0.2222222222222222,
             "#7201a8"
            ],
            [
             0.3333333333333333,
             "#9c179e"
            ],
            [
             0.4444444444444444,
             "#bd3786"
            ],
            [
             0.5555555555555556,
             "#d8576b"
            ],
            [
             0.6666666666666666,
             "#ed7953"
            ],
            [
             0.7777777777777778,
             "#fb9f3a"
            ],
            [
             0.8888888888888888,
             "#fdca26"
            ],
            [
             1,
             "#f0f921"
            ]
           ],
           "sequentialminus": [
            [
             0,
             "#0d0887"
            ],
            [
             0.1111111111111111,
             "#46039f"
            ],
            [
             0.2222222222222222,
             "#7201a8"
            ],
            [
             0.3333333333333333,
             "#9c179e"
            ],
            [
             0.4444444444444444,
             "#bd3786"
            ],
            [
             0.5555555555555556,
             "#d8576b"
            ],
            [
             0.6666666666666666,
             "#ed7953"
            ],
            [
             0.7777777777777778,
             "#fb9f3a"
            ],
            [
             0.8888888888888888,
             "#fdca26"
            ],
            [
             1,
             "#f0f921"
            ]
           ]
          },
          "colorway": [
           "#636efa",
           "#EF553B",
           "#00cc96",
           "#ab63fa",
           "#FFA15A",
           "#19d3f3",
           "#FF6692",
           "#B6E880",
           "#FF97FF",
           "#FECB52"
          ],
          "font": {
           "color": "#2a3f5f"
          },
          "geo": {
           "bgcolor": "white",
           "lakecolor": "white",
           "landcolor": "#E5ECF6",
           "showlakes": true,
           "showland": true,
           "subunitcolor": "white"
          },
          "hoverlabel": {
           "align": "left"
          },
          "hovermode": "closest",
          "mapbox": {
           "style": "light"
          },
          "paper_bgcolor": "white",
          "plot_bgcolor": "#E5ECF6",
          "polar": {
           "angularaxis": {
            "gridcolor": "white",
            "linecolor": "white",
            "ticks": ""
           },
           "bgcolor": "#E5ECF6",
           "radialaxis": {
            "gridcolor": "white",
            "linecolor": "white",
            "ticks": ""
           }
          },
          "scene": {
           "xaxis": {
            "backgroundcolor": "#E5ECF6",
            "gridcolor": "white",
            "gridwidth": 2,
            "linecolor": "white",
            "showbackground": true,
            "ticks": "",
            "zerolinecolor": "white"
           },
           "yaxis": {
            "backgroundcolor": "#E5ECF6",
            "gridcolor": "white",
            "gridwidth": 2,
            "linecolor": "white",
            "showbackground": true,
            "ticks": "",
            "zerolinecolor": "white"
           },
           "zaxis": {
            "backgroundcolor": "#E5ECF6",
            "gridcolor": "white",
            "gridwidth": 2,
            "linecolor": "white",
            "showbackground": true,
            "ticks": "",
            "zerolinecolor": "white"
           }
          },
          "shapedefaults": {
           "line": {
            "color": "#2a3f5f"
           }
          },
          "ternary": {
           "aaxis": {
            "gridcolor": "white",
            "linecolor": "white",
            "ticks": ""
           },
           "baxis": {
            "gridcolor": "white",
            "linecolor": "white",
            "ticks": ""
           },
           "bgcolor": "#E5ECF6",
           "caxis": {
            "gridcolor": "white",
            "linecolor": "white",
            "ticks": ""
           }
          },
          "title": {
           "x": 0.05
          },
          "xaxis": {
           "automargin": true,
           "gridcolor": "white",
           "linecolor": "white",
           "ticks": "",
           "title": {
            "standoff": 15
           },
           "zerolinecolor": "white",
           "zerolinewidth": 2
          },
          "yaxis": {
           "automargin": true,
           "gridcolor": "white",
           "linecolor": "white",
           "ticks": "",
           "title": {
            "standoff": 15
           },
           "zerolinecolor": "white",
           "zerolinewidth": 2
          }
         }
        },
        "title": {
         "text": "Race of Innocent Shot Victims"
        }
       }
      },
      "text/html": [
       "<div>\n",
       "        \n",
       "        \n",
       "            <div id=\"33ecd957-e6b7-43a0-94e6-ea56a5b99629\" class=\"plotly-graph-div\" style=\"height:525px; width:100%;\"></div>\n",
       "            <script type=\"text/javascript\">\n",
       "                require([\"plotly\"], function(Plotly) {\n",
       "                    window.PLOTLYENV=window.PLOTLYENV || {};\n",
       "                    \n",
       "                if (document.getElementById(\"33ecd957-e6b7-43a0-94e6-ea56a5b99629\")) {\n",
       "                    Plotly.newPlot(\n",
       "                        '33ecd957-e6b7-43a0-94e6-ea56a5b99629',\n",
       "                        [{\"domain\": {\"x\": [0.0, 1.0], \"y\": [0.0, 1.0]}, \"hovertemplate\": \"race=%{label}<br>counts=%{value}<extra></extra>\", \"labels\": [\"Asian\", \"Black\", \"Hispanic\", \"Native\", \"Other\", \"White\"], \"legendgroup\": \"\", \"name\": \"\", \"showlegend\": true, \"type\": \"pie\", \"values\": [71, 734, 534, 47, 30, 1657]}],\n",
       "                        {\"legend\": {\"tracegroupgap\": 0}, \"template\": {\"data\": {\"bar\": [{\"error_x\": {\"color\": \"#2a3f5f\"}, \"error_y\": {\"color\": \"#2a3f5f\"}, \"marker\": {\"line\": {\"color\": \"#E5ECF6\", \"width\": 0.5}}, \"type\": \"bar\"}], \"barpolar\": [{\"marker\": {\"line\": {\"color\": \"#E5ECF6\", \"width\": 0.5}}, \"type\": \"barpolar\"}], \"carpet\": [{\"aaxis\": {\"endlinecolor\": \"#2a3f5f\", \"gridcolor\": \"white\", \"linecolor\": \"white\", \"minorgridcolor\": \"white\", \"startlinecolor\": \"#2a3f5f\"}, \"baxis\": {\"endlinecolor\": \"#2a3f5f\", \"gridcolor\": \"white\", \"linecolor\": \"white\", \"minorgridcolor\": \"white\", \"startlinecolor\": \"#2a3f5f\"}, \"type\": \"carpet\"}], \"choropleth\": [{\"colorbar\": {\"outlinewidth\": 0, \"ticks\": \"\"}, \"type\": \"choropleth\"}], \"contour\": [{\"colorbar\": {\"outlinewidth\": 0, \"ticks\": \"\"}, \"colorscale\": [[0.0, \"#0d0887\"], [0.1111111111111111, \"#46039f\"], [0.2222222222222222, \"#7201a8\"], [0.3333333333333333, \"#9c179e\"], [0.4444444444444444, \"#bd3786\"], [0.5555555555555556, \"#d8576b\"], [0.6666666666666666, \"#ed7953\"], [0.7777777777777778, \"#fb9f3a\"], [0.8888888888888888, \"#fdca26\"], [1.0, \"#f0f921\"]], \"type\": \"contour\"}], \"contourcarpet\": [{\"colorbar\": {\"outlinewidth\": 0, \"ticks\": \"\"}, \"type\": \"contourcarpet\"}], \"heatmap\": [{\"colorbar\": {\"outlinewidth\": 0, \"ticks\": \"\"}, \"colorscale\": [[0.0, \"#0d0887\"], [0.1111111111111111, \"#46039f\"], [0.2222222222222222, \"#7201a8\"], [0.3333333333333333, \"#9c179e\"], [0.4444444444444444, \"#bd3786\"], [0.5555555555555556, \"#d8576b\"], [0.6666666666666666, \"#ed7953\"], [0.7777777777777778, \"#fb9f3a\"], [0.8888888888888888, \"#fdca26\"], [1.0, \"#f0f921\"]], \"type\": \"heatmap\"}], \"heatmapgl\": [{\"colorbar\": {\"outlinewidth\": 0, \"ticks\": \"\"}, \"colorscale\": [[0.0, \"#0d0887\"], [0.1111111111111111, \"#46039f\"], [0.2222222222222222, \"#7201a8\"], [0.3333333333333333, \"#9c179e\"], [0.4444444444444444, \"#bd3786\"], [0.5555555555555556, \"#d8576b\"], [0.6666666666666666, \"#ed7953\"], [0.7777777777777778, \"#fb9f3a\"], [0.8888888888888888, \"#fdca26\"], [1.0, \"#f0f921\"]], \"type\": \"heatmapgl\"}], \"histogram\": [{\"marker\": {\"colorbar\": {\"outlinewidth\": 0, \"ticks\": \"\"}}, \"type\": \"histogram\"}], \"histogram2d\": [{\"colorbar\": {\"outlinewidth\": 0, \"ticks\": \"\"}, \"colorscale\": [[0.0, \"#0d0887\"], [0.1111111111111111, \"#46039f\"], [0.2222222222222222, \"#7201a8\"], [0.3333333333333333, \"#9c179e\"], [0.4444444444444444, \"#bd3786\"], [0.5555555555555556, \"#d8576b\"], [0.6666666666666666, \"#ed7953\"], [0.7777777777777778, \"#fb9f3a\"], [0.8888888888888888, \"#fdca26\"], [1.0, \"#f0f921\"]], \"type\": \"histogram2d\"}], \"histogram2dcontour\": [{\"colorbar\": {\"outlinewidth\": 0, \"ticks\": \"\"}, \"colorscale\": [[0.0, \"#0d0887\"], [0.1111111111111111, \"#46039f\"], [0.2222222222222222, \"#7201a8\"], [0.3333333333333333, \"#9c179e\"], [0.4444444444444444, \"#bd3786\"], [0.5555555555555556, \"#d8576b\"], [0.6666666666666666, \"#ed7953\"], [0.7777777777777778, \"#fb9f3a\"], [0.8888888888888888, \"#fdca26\"], [1.0, \"#f0f921\"]], \"type\": \"histogram2dcontour\"}], \"mesh3d\": [{\"colorbar\": {\"outlinewidth\": 0, \"ticks\": \"\"}, \"type\": \"mesh3d\"}], \"parcoords\": [{\"line\": {\"colorbar\": {\"outlinewidth\": 0, \"ticks\": \"\"}}, \"type\": \"parcoords\"}], \"pie\": [{\"automargin\": true, \"type\": \"pie\"}], \"scatter\": [{\"marker\": {\"colorbar\": {\"outlinewidth\": 0, \"ticks\": \"\"}}, \"type\": \"scatter\"}], \"scatter3d\": [{\"line\": {\"colorbar\": {\"outlinewidth\": 0, \"ticks\": \"\"}}, \"marker\": {\"colorbar\": {\"outlinewidth\": 0, \"ticks\": \"\"}}, \"type\": \"scatter3d\"}], \"scattercarpet\": [{\"marker\": {\"colorbar\": {\"outlinewidth\": 0, \"ticks\": \"\"}}, \"type\": \"scattercarpet\"}], \"scattergeo\": [{\"marker\": {\"colorbar\": {\"outlinewidth\": 0, \"ticks\": \"\"}}, \"type\": \"scattergeo\"}], \"scattergl\": [{\"marker\": {\"colorbar\": {\"outlinewidth\": 0, \"ticks\": \"\"}}, \"type\": \"scattergl\"}], \"scattermapbox\": [{\"marker\": {\"colorbar\": {\"outlinewidth\": 0, \"ticks\": \"\"}}, \"type\": \"scattermapbox\"}], \"scatterpolar\": [{\"marker\": {\"colorbar\": {\"outlinewidth\": 0, \"ticks\": \"\"}}, \"type\": \"scatterpolar\"}], \"scatterpolargl\": [{\"marker\": {\"colorbar\": {\"outlinewidth\": 0, \"ticks\": \"\"}}, \"type\": \"scatterpolargl\"}], \"scatterternary\": [{\"marker\": {\"colorbar\": {\"outlinewidth\": 0, \"ticks\": \"\"}}, \"type\": \"scatterternary\"}], \"surface\": [{\"colorbar\": {\"outlinewidth\": 0, \"ticks\": \"\"}, \"colorscale\": [[0.0, \"#0d0887\"], [0.1111111111111111, \"#46039f\"], [0.2222222222222222, \"#7201a8\"], [0.3333333333333333, \"#9c179e\"], [0.4444444444444444, \"#bd3786\"], [0.5555555555555556, \"#d8576b\"], [0.6666666666666666, \"#ed7953\"], [0.7777777777777778, \"#fb9f3a\"], [0.8888888888888888, \"#fdca26\"], [1.0, \"#f0f921\"]], \"type\": \"surface\"}], \"table\": [{\"cells\": {\"fill\": {\"color\": \"#EBF0F8\"}, \"line\": {\"color\": \"white\"}}, \"header\": {\"fill\": {\"color\": \"#C8D4E3\"}, \"line\": {\"color\": \"white\"}}, \"type\": \"table\"}]}, \"layout\": {\"annotationdefaults\": {\"arrowcolor\": \"#2a3f5f\", \"arrowhead\": 0, \"arrowwidth\": 1}, \"coloraxis\": {\"colorbar\": {\"outlinewidth\": 0, \"ticks\": \"\"}}, \"colorscale\": {\"diverging\": [[0, \"#8e0152\"], [0.1, \"#c51b7d\"], [0.2, \"#de77ae\"], [0.3, \"#f1b6da\"], [0.4, \"#fde0ef\"], [0.5, \"#f7f7f7\"], [0.6, \"#e6f5d0\"], [0.7, \"#b8e186\"], [0.8, \"#7fbc41\"], [0.9, \"#4d9221\"], [1, \"#276419\"]], \"sequential\": [[0.0, \"#0d0887\"], [0.1111111111111111, \"#46039f\"], [0.2222222222222222, \"#7201a8\"], [0.3333333333333333, \"#9c179e\"], [0.4444444444444444, \"#bd3786\"], [0.5555555555555556, \"#d8576b\"], [0.6666666666666666, \"#ed7953\"], [0.7777777777777778, \"#fb9f3a\"], [0.8888888888888888, \"#fdca26\"], [1.0, \"#f0f921\"]], \"sequentialminus\": [[0.0, \"#0d0887\"], [0.1111111111111111, \"#46039f\"], [0.2222222222222222, \"#7201a8\"], [0.3333333333333333, \"#9c179e\"], [0.4444444444444444, \"#bd3786\"], [0.5555555555555556, \"#d8576b\"], [0.6666666666666666, \"#ed7953\"], [0.7777777777777778, \"#fb9f3a\"], [0.8888888888888888, \"#fdca26\"], [1.0, \"#f0f921\"]]}, \"colorway\": [\"#636efa\", \"#EF553B\", \"#00cc96\", \"#ab63fa\", \"#FFA15A\", \"#19d3f3\", \"#FF6692\", \"#B6E880\", \"#FF97FF\", \"#FECB52\"], \"font\": {\"color\": \"#2a3f5f\"}, \"geo\": {\"bgcolor\": \"white\", \"lakecolor\": \"white\", \"landcolor\": \"#E5ECF6\", \"showlakes\": true, \"showland\": true, \"subunitcolor\": \"white\"}, \"hoverlabel\": {\"align\": \"left\"}, \"hovermode\": \"closest\", \"mapbox\": {\"style\": \"light\"}, \"paper_bgcolor\": \"white\", \"plot_bgcolor\": \"#E5ECF6\", \"polar\": {\"angularaxis\": {\"gridcolor\": \"white\", \"linecolor\": \"white\", \"ticks\": \"\"}, \"bgcolor\": \"#E5ECF6\", \"radialaxis\": {\"gridcolor\": \"white\", \"linecolor\": \"white\", \"ticks\": \"\"}}, \"scene\": {\"xaxis\": {\"backgroundcolor\": \"#E5ECF6\", \"gridcolor\": \"white\", \"gridwidth\": 2, \"linecolor\": \"white\", \"showbackground\": true, \"ticks\": \"\", \"zerolinecolor\": \"white\"}, \"yaxis\": {\"backgroundcolor\": \"#E5ECF6\", \"gridcolor\": \"white\", \"gridwidth\": 2, \"linecolor\": \"white\", \"showbackground\": true, \"ticks\": \"\", \"zerolinecolor\": \"white\"}, \"zaxis\": {\"backgroundcolor\": \"#E5ECF6\", \"gridcolor\": \"white\", \"gridwidth\": 2, \"linecolor\": \"white\", \"showbackground\": true, \"ticks\": \"\", \"zerolinecolor\": \"white\"}}, \"shapedefaults\": {\"line\": {\"color\": \"#2a3f5f\"}}, \"ternary\": {\"aaxis\": {\"gridcolor\": \"white\", \"linecolor\": \"white\", \"ticks\": \"\"}, \"baxis\": {\"gridcolor\": \"white\", \"linecolor\": \"white\", \"ticks\": \"\"}, \"bgcolor\": \"#E5ECF6\", \"caxis\": {\"gridcolor\": \"white\", \"linecolor\": \"white\", \"ticks\": \"\"}}, \"title\": {\"x\": 0.05}, \"xaxis\": {\"automargin\": true, \"gridcolor\": \"white\", \"linecolor\": \"white\", \"ticks\": \"\", \"title\": {\"standoff\": 15}, \"zerolinecolor\": \"white\", \"zerolinewidth\": 2}, \"yaxis\": {\"automargin\": true, \"gridcolor\": \"white\", \"linecolor\": \"white\", \"ticks\": \"\", \"title\": {\"standoff\": 15}, \"zerolinecolor\": \"white\", \"zerolinewidth\": 2}}}, \"title\": {\"text\": \"Race of Innocent Shot Victims\"}},\n",
       "                        {\"responsive\": true}\n",
       "                    ).then(function(){\n",
       "                            \n",
       "var gd = document.getElementById('33ecd957-e6b7-43a0-94e6-ea56a5b99629');\n",
       "var x = new MutationObserver(function (mutations, observer) {{\n",
       "        var display = window.getComputedStyle(gd).display;\n",
       "        if (!display || display === 'none') {{\n",
       "            console.log([gd, 'removed!']);\n",
       "            Plotly.purge(gd);\n",
       "            observer.disconnect();\n",
       "        }}\n",
       "}});\n",
       "\n",
       "// Listen for the removal of the full notebook cells\n",
       "var notebookContainer = gd.closest('#notebook-container');\n",
       "if (notebookContainer) {{\n",
       "    x.observe(notebookContainer, {childList: true});\n",
       "}}\n",
       "\n",
       "// Listen for the clearing of the current output cell\n",
       "var outputEl = gd.closest('.output');\n",
       "if (outputEl) {{\n",
       "    x.observe(outputEl, {childList: true});\n",
       "}}\n",
       "\n",
       "                        })\n",
       "                };\n",
       "                });\n",
       "            </script>\n",
       "        </div>"
      ]
     },
     "metadata": {},
     "output_type": "display_data"
    }
   ],
   "source": [
    "Analysis = Innocent_data.groupby('race')['name'].count().reset_index()\n",
    "Analysis.columns = ['race','counts']\n",
    "Fig = px.pie(Analysis,values = 'counts',names = 'race',title = 'Race of Innocent Shot Victims')\n",
    "Fig.show()"
   ]
  },
  {
   "cell_type": "code",
   "execution_count": 114,
   "metadata": {},
   "outputs": [
    {
     "data": {
      "text/html": [
       "<div>\n",
       "<style scoped>\n",
       "    .dataframe tbody tr th:only-of-type {\n",
       "        vertical-align: middle;\n",
       "    }\n",
       "\n",
       "    .dataframe tbody tr th {\n",
       "        vertical-align: top;\n",
       "    }\n",
       "\n",
       "    .dataframe thead th {\n",
       "        text-align: right;\n",
       "    }\n",
       "</style>\n",
       "<table border=\"1\" class=\"dataframe\">\n",
       "  <thead>\n",
       "    <tr style=\"text-align: right;\">\n",
       "      <th></th>\n",
       "      <th>state</th>\n",
       "      <th>counts</th>\n",
       "    </tr>\n",
       "  </thead>\n",
       "  <tbody>\n",
       "    <tr>\n",
       "      <th>0</th>\n",
       "      <td>AK</td>\n",
       "      <td>18</td>\n",
       "    </tr>\n",
       "    <tr>\n",
       "      <th>1</th>\n",
       "      <td>AL</td>\n",
       "      <td>58</td>\n",
       "    </tr>\n",
       "    <tr>\n",
       "      <th>2</th>\n",
       "      <td>AR</td>\n",
       "      <td>51</td>\n",
       "    </tr>\n",
       "    <tr>\n",
       "      <th>3</th>\n",
       "      <td>AZ</td>\n",
       "      <td>144</td>\n",
       "    </tr>\n",
       "    <tr>\n",
       "      <th>4</th>\n",
       "      <td>CA</td>\n",
       "      <td>445</td>\n",
       "    </tr>\n",
       "  </tbody>\n",
       "</table>\n",
       "</div>"
      ],
      "text/plain": [
       "  state  counts\n",
       "0    AK      18\n",
       "1    AL      58\n",
       "2    AR      51\n",
       "3    AZ     144\n",
       "4    CA     445"
      ]
     },
     "execution_count": 114,
     "metadata": {},
     "output_type": "execute_result"
    }
   ],
   "source": [
    "data = Innocent_data.groupby('state')['name'].count().reset_index()\n",
    "data.columns = ['state','counts']\n",
    "#data.head()"
   ]
  },
  {
   "cell_type": "code",
   "execution_count": 119,
   "metadata": {},
   "outputs": [
    {
     "data": {
      "application/vnd.plotly.v1+json": {
       "config": {
        "plotlyServerURL": "https://plot.ly"
       },
       "data": [
        {
         "alignmentgroup": "True",
         "hovertemplate": "state=%{x}<br>counts=%{y}<extra></extra>",
         "legendgroup": "AK",
         "marker": {
          "color": "#636efa"
         },
         "name": "AK",
         "offsetgroup": "AK",
         "orientation": "v",
         "showlegend": true,
         "textposition": "auto",
         "type": "bar",
         "x": [
          "AK"
         ],
         "xaxis": "x",
         "y": [
          18
         ],
         "yaxis": "y"
        },
        {
         "alignmentgroup": "True",
         "hovertemplate": "state=%{x}<br>counts=%{y}<extra></extra>",
         "legendgroup": "AL",
         "marker": {
          "color": "#EF553B"
         },
         "name": "AL",
         "offsetgroup": "AL",
         "orientation": "v",
         "showlegend": true,
         "textposition": "auto",
         "type": "bar",
         "x": [
          "AL"
         ],
         "xaxis": "x",
         "y": [
          58
         ],
         "yaxis": "y"
        },
        {
         "alignmentgroup": "True",
         "hovertemplate": "state=%{x}<br>counts=%{y}<extra></extra>",
         "legendgroup": "AR",
         "marker": {
          "color": "#00cc96"
         },
         "name": "AR",
         "offsetgroup": "AR",
         "orientation": "v",
         "showlegend": true,
         "textposition": "auto",
         "type": "bar",
         "x": [
          "AR"
         ],
         "xaxis": "x",
         "y": [
          51
         ],
         "yaxis": "y"
        },
        {
         "alignmentgroup": "True",
         "hovertemplate": "state=%{x}<br>counts=%{y}<extra></extra>",
         "legendgroup": "AZ",
         "marker": {
          "color": "#ab63fa"
         },
         "name": "AZ",
         "offsetgroup": "AZ",
         "orientation": "v",
         "showlegend": true,
         "textposition": "auto",
         "type": "bar",
         "x": [
          "AZ"
         ],
         "xaxis": "x",
         "y": [
          144
         ],
         "yaxis": "y"
        },
        {
         "alignmentgroup": "True",
         "hovertemplate": "state=%{x}<br>counts=%{y}<extra></extra>",
         "legendgroup": "CA",
         "marker": {
          "color": "#FFA15A"
         },
         "name": "CA",
         "offsetgroup": "CA",
         "orientation": "v",
         "showlegend": true,
         "textposition": "auto",
         "type": "bar",
         "x": [
          "CA"
         ],
         "xaxis": "x",
         "y": [
          445
         ],
         "yaxis": "y"
        },
        {
         "alignmentgroup": "True",
         "hovertemplate": "state=%{x}<br>counts=%{y}<extra></extra>",
         "legendgroup": "CO",
         "marker": {
          "color": "#19d3f3"
         },
         "name": "CO",
         "offsetgroup": "CO",
         "orientation": "v",
         "showlegend": true,
         "textposition": "auto",
         "type": "bar",
         "x": [
          "CO"
         ],
         "xaxis": "x",
         "y": [
          85
         ],
         "yaxis": "y"
        },
        {
         "alignmentgroup": "True",
         "hovertemplate": "state=%{x}<br>counts=%{y}<extra></extra>",
         "legendgroup": "CT",
         "marker": {
          "color": "#FF6692"
         },
         "name": "CT",
         "offsetgroup": "CT",
         "orientation": "v",
         "showlegend": true,
         "textposition": "auto",
         "type": "bar",
         "x": [
          "CT"
         ],
         "xaxis": "x",
         "y": [
          10
         ],
         "yaxis": "y"
        },
        {
         "alignmentgroup": "True",
         "hovertemplate": "state=%{x}<br>counts=%{y}<extra></extra>",
         "legendgroup": "DC",
         "marker": {
          "color": "#B6E880"
         },
         "name": "DC",
         "offsetgroup": "DC",
         "orientation": "v",
         "showlegend": true,
         "textposition": "auto",
         "type": "bar",
         "x": [
          "DC"
         ],
         "xaxis": "x",
         "y": [
          9
         ],
         "yaxis": "y"
        },
        {
         "alignmentgroup": "True",
         "hovertemplate": "state=%{x}<br>counts=%{y}<extra></extra>",
         "legendgroup": "DE",
         "marker": {
          "color": "#FF97FF"
         },
         "name": "DE",
         "offsetgroup": "DE",
         "orientation": "v",
         "showlegend": true,
         "textposition": "auto",
         "type": "bar",
         "x": [
          "DE"
         ],
         "xaxis": "x",
         "y": [
          6
         ],
         "yaxis": "y"
        },
        {
         "alignmentgroup": "True",
         "hovertemplate": "state=%{x}<br>counts=%{y}<extra></extra>",
         "legendgroup": "FL",
         "marker": {
          "color": "#FECB52"
         },
         "name": "FL",
         "offsetgroup": "FL",
         "orientation": "v",
         "showlegend": true,
         "textposition": "auto",
         "type": "bar",
         "x": [
          "FL"
         ],
         "xaxis": "x",
         "y": [
          214
         ],
         "yaxis": "y"
        },
        {
         "alignmentgroup": "True",
         "hovertemplate": "state=%{x}<br>counts=%{y}<extra></extra>",
         "legendgroup": "GA",
         "marker": {
          "color": "#636efa"
         },
         "name": "GA",
         "offsetgroup": "GA",
         "orientation": "v",
         "showlegend": true,
         "textposition": "auto",
         "type": "bar",
         "x": [
          "GA"
         ],
         "xaxis": "x",
         "y": [
          102
         ],
         "yaxis": "y"
        },
        {
         "alignmentgroup": "True",
         "hovertemplate": "state=%{x}<br>counts=%{y}<extra></extra>",
         "legendgroup": "HI",
         "marker": {
          "color": "#EF553B"
         },
         "name": "HI",
         "offsetgroup": "HI",
         "orientation": "v",
         "showlegend": true,
         "textposition": "auto",
         "type": "bar",
         "x": [
          "HI"
         ],
         "xaxis": "x",
         "y": [
          19
         ],
         "yaxis": "y"
        },
        {
         "alignmentgroup": "True",
         "hovertemplate": "state=%{x}<br>counts=%{y}<extra></extra>",
         "legendgroup": "IA",
         "marker": {
          "color": "#00cc96"
         },
         "name": "IA",
         "offsetgroup": "IA",
         "orientation": "v",
         "showlegend": true,
         "textposition": "auto",
         "type": "bar",
         "x": [
          "IA"
         ],
         "xaxis": "x",
         "y": [
          14
         ],
         "yaxis": "y"
        },
        {
         "alignmentgroup": "True",
         "hovertemplate": "state=%{x}<br>counts=%{y}<extra></extra>",
         "legendgroup": "ID",
         "marker": {
          "color": "#ab63fa"
         },
         "name": "ID",
         "offsetgroup": "ID",
         "orientation": "v",
         "showlegend": true,
         "textposition": "auto",
         "type": "bar",
         "x": [
          "ID"
         ],
         "xaxis": "x",
         "y": [
          24
         ],
         "yaxis": "y"
        },
        {
         "alignmentgroup": "True",
         "hovertemplate": "state=%{x}<br>counts=%{y}<extra></extra>",
         "legendgroup": "IL",
         "marker": {
          "color": "#FFA15A"
         },
         "name": "IL",
         "offsetgroup": "IL",
         "orientation": "v",
         "showlegend": true,
         "textposition": "auto",
         "type": "bar",
         "x": [
          "IL"
         ],
         "xaxis": "x",
         "y": [
          46
         ],
         "yaxis": "y"
        },
        {
         "alignmentgroup": "True",
         "hovertemplate": "state=%{x}<br>counts=%{y}<extra></extra>",
         "legendgroup": "IN",
         "marker": {
          "color": "#19d3f3"
         },
         "name": "IN",
         "offsetgroup": "IN",
         "orientation": "v",
         "showlegend": true,
         "textposition": "auto",
         "type": "bar",
         "x": [
          "IN"
         ],
         "xaxis": "x",
         "y": [
          63
         ],
         "yaxis": "y"
        },
        {
         "alignmentgroup": "True",
         "hovertemplate": "state=%{x}<br>counts=%{y}<extra></extra>",
         "legendgroup": "KS",
         "marker": {
          "color": "#FF6692"
         },
         "name": "KS",
         "offsetgroup": "KS",
         "orientation": "v",
         "showlegend": true,
         "textposition": "auto",
         "type": "bar",
         "x": [
          "KS"
         ],
         "xaxis": "x",
         "y": [
          30
         ],
         "yaxis": "y"
        },
        {
         "alignmentgroup": "True",
         "hovertemplate": "state=%{x}<br>counts=%{y}<extra></extra>",
         "legendgroup": "KY",
         "marker": {
          "color": "#B6E880"
         },
         "name": "KY",
         "offsetgroup": "KY",
         "orientation": "v",
         "showlegend": true,
         "textposition": "auto",
         "type": "bar",
         "x": [
          "KY"
         ],
         "xaxis": "x",
         "y": [
          54
         ],
         "yaxis": "y"
        },
        {
         "alignmentgroup": "True",
         "hovertemplate": "state=%{x}<br>counts=%{y}<extra></extra>",
         "legendgroup": "LA",
         "marker": {
          "color": "#FF97FF"
         },
         "name": "LA",
         "offsetgroup": "LA",
         "orientation": "v",
         "showlegend": true,
         "textposition": "auto",
         "type": "bar",
         "x": [
          "LA"
         ],
         "xaxis": "x",
         "y": [
          63
         ],
         "yaxis": "y"
        },
        {
         "alignmentgroup": "True",
         "hovertemplate": "state=%{x}<br>counts=%{y}<extra></extra>",
         "legendgroup": "MA",
         "marker": {
          "color": "#FECB52"
         },
         "name": "MA",
         "offsetgroup": "MA",
         "orientation": "v",
         "showlegend": true,
         "textposition": "auto",
         "type": "bar",
         "x": [
          "MA"
         ],
         "xaxis": "x",
         "y": [
          19
         ],
         "yaxis": "y"
        },
        {
         "alignmentgroup": "True",
         "hovertemplate": "state=%{x}<br>counts=%{y}<extra></extra>",
         "legendgroup": "MD",
         "marker": {
          "color": "#636efa"
         },
         "name": "MD",
         "offsetgroup": "MD",
         "orientation": "v",
         "showlegend": true,
         "textposition": "auto",
         "type": "bar",
         "x": [
          "MD"
         ],
         "xaxis": "x",
         "y": [
          54
         ],
         "yaxis": "y"
        },
        {
         "alignmentgroup": "True",
         "hovertemplate": "state=%{x}<br>counts=%{y}<extra></extra>",
         "legendgroup": "ME",
         "marker": {
          "color": "#EF553B"
         },
         "name": "ME",
         "offsetgroup": "ME",
         "orientation": "v",
         "showlegend": true,
         "textposition": "auto",
         "type": "bar",
         "x": [
          "ME"
         ],
         "xaxis": "x",
         "y": [
          14
         ],
         "yaxis": "y"
        },
        {
         "alignmentgroup": "True",
         "hovertemplate": "state=%{x}<br>counts=%{y}<extra></extra>",
         "legendgroup": "MI",
         "marker": {
          "color": "#00cc96"
         },
         "name": "MI",
         "offsetgroup": "MI",
         "orientation": "v",
         "showlegend": true,
         "textposition": "auto",
         "type": "bar",
         "x": [
          "MI"
         ],
         "xaxis": "x",
         "y": [
          55
         ],
         "yaxis": "y"
        },
        {
         "alignmentgroup": "True",
         "hovertemplate": "state=%{x}<br>counts=%{y}<extra></extra>",
         "legendgroup": "MN",
         "marker": {
          "color": "#ab63fa"
         },
         "name": "MN",
         "offsetgroup": "MN",
         "orientation": "v",
         "showlegend": true,
         "textposition": "auto",
         "type": "bar",
         "x": [
          "MN"
         ],
         "xaxis": "x",
         "y": [
          46
         ],
         "yaxis": "y"
        },
        {
         "alignmentgroup": "True",
         "hovertemplate": "state=%{x}<br>counts=%{y}<extra></extra>",
         "legendgroup": "MO",
         "marker": {
          "color": "#FFA15A"
         },
         "name": "MO",
         "offsetgroup": "MO",
         "orientation": "v",
         "showlegend": true,
         "textposition": "auto",
         "type": "bar",
         "x": [
          "MO"
         ],
         "xaxis": "x",
         "y": [
          64
         ],
         "yaxis": "y"
        },
        {
         "alignmentgroup": "True",
         "hovertemplate": "state=%{x}<br>counts=%{y}<extra></extra>",
         "legendgroup": "MS",
         "marker": {
          "color": "#19d3f3"
         },
         "name": "MS",
         "offsetgroup": "MS",
         "orientation": "v",
         "showlegend": true,
         "textposition": "auto",
         "type": "bar",
         "x": [
          "MS"
         ],
         "xaxis": "x",
         "y": [
          31
         ],
         "yaxis": "y"
        },
        {
         "alignmentgroup": "True",
         "hovertemplate": "state=%{x}<br>counts=%{y}<extra></extra>",
         "legendgroup": "MT",
         "marker": {
          "color": "#FF6692"
         },
         "name": "MT",
         "offsetgroup": "MT",
         "orientation": "v",
         "showlegend": true,
         "textposition": "auto",
         "type": "bar",
         "x": [
          "MT"
         ],
         "xaxis": "x",
         "y": [
          18
         ],
         "yaxis": "y"
        },
        {
         "alignmentgroup": "True",
         "hovertemplate": "state=%{x}<br>counts=%{y}<extra></extra>",
         "legendgroup": "NC",
         "marker": {
          "color": "#B6E880"
         },
         "name": "NC",
         "offsetgroup": "NC",
         "orientation": "v",
         "showlegend": true,
         "textposition": "auto",
         "type": "bar",
         "x": [
          "NC"
         ],
         "xaxis": "x",
         "y": [
          99
         ],
         "yaxis": "y"
        },
        {
         "alignmentgroup": "True",
         "hovertemplate": "state=%{x}<br>counts=%{y}<extra></extra>",
         "legendgroup": "ND",
         "marker": {
          "color": "#FF97FF"
         },
         "name": "ND",
         "offsetgroup": "ND",
         "orientation": "v",
         "showlegend": true,
         "textposition": "auto",
         "type": "bar",
         "x": [
          "ND"
         ],
         "xaxis": "x",
         "y": [
          6
         ],
         "yaxis": "y"
        },
        {
         "alignmentgroup": "True",
         "hovertemplate": "state=%{x}<br>counts=%{y}<extra></extra>",
         "legendgroup": "NE",
         "marker": {
          "color": "#FECB52"
         },
         "name": "NE",
         "offsetgroup": "NE",
         "orientation": "v",
         "showlegend": true,
         "textposition": "auto",
         "type": "bar",
         "x": [
          "NE"
         ],
         "xaxis": "x",
         "y": [
          18
         ],
         "yaxis": "y"
        },
        {
         "alignmentgroup": "True",
         "hovertemplate": "state=%{x}<br>counts=%{y}<extra></extra>",
         "legendgroup": "NH",
         "marker": {
          "color": "#636efa"
         },
         "name": "NH",
         "offsetgroup": "NH",
         "orientation": "v",
         "showlegend": true,
         "textposition": "auto",
         "type": "bar",
         "x": [
          "NH"
         ],
         "xaxis": "x",
         "y": [
          10
         ],
         "yaxis": "y"
        },
        {
         "alignmentgroup": "True",
         "hovertemplate": "state=%{x}<br>counts=%{y}<extra></extra>",
         "legendgroup": "NJ",
         "marker": {
          "color": "#EF553B"
         },
         "name": "NJ",
         "offsetgroup": "NJ",
         "orientation": "v",
         "showlegend": true,
         "textposition": "auto",
         "type": "bar",
         "x": [
          "NJ"
         ],
         "xaxis": "x",
         "y": [
          38
         ],
         "yaxis": "y"
        },
        {
         "alignmentgroup": "True",
         "hovertemplate": "state=%{x}<br>counts=%{y}<extra></extra>",
         "legendgroup": "NM",
         "marker": {
          "color": "#00cc96"
         },
         "name": "NM",
         "offsetgroup": "NM",
         "orientation": "v",
         "showlegend": true,
         "textposition": "auto",
         "type": "bar",
         "x": [
          "NM"
         ],
         "xaxis": "x",
         "y": [
          57
         ],
         "yaxis": "y"
        },
        {
         "alignmentgroup": "True",
         "hovertemplate": "state=%{x}<br>counts=%{y}<extra></extra>",
         "legendgroup": "NV",
         "marker": {
          "color": "#ab63fa"
         },
         "name": "NV",
         "offsetgroup": "NV",
         "orientation": "v",
         "showlegend": true,
         "textposition": "auto",
         "type": "bar",
         "x": [
          "NV"
         ],
         "xaxis": "x",
         "y": [
          53
         ],
         "yaxis": "y"
        },
        {
         "alignmentgroup": "True",
         "hovertemplate": "state=%{x}<br>counts=%{y}<extra></extra>",
         "legendgroup": "NY",
         "marker": {
          "color": "#FFA15A"
         },
         "name": "NY",
         "offsetgroup": "NY",
         "orientation": "v",
         "showlegend": true,
         "textposition": "auto",
         "type": "bar",
         "x": [
          "NY"
         ],
         "xaxis": "x",
         "y": [
          56
         ],
         "yaxis": "y"
        },
        {
         "alignmentgroup": "True",
         "hovertemplate": "state=%{x}<br>counts=%{y}<extra></extra>",
         "legendgroup": "OH",
         "marker": {
          "color": "#19d3f3"
         },
         "name": "OH",
         "offsetgroup": "OH",
         "orientation": "v",
         "showlegend": true,
         "textposition": "auto",
         "type": "bar",
         "x": [
          "OH"
         ],
         "xaxis": "x",
         "y": [
          98
         ],
         "yaxis": "y"
        },
        {
         "alignmentgroup": "True",
         "hovertemplate": "state=%{x}<br>counts=%{y}<extra></extra>",
         "legendgroup": "OK",
         "marker": {
          "color": "#FF6692"
         },
         "name": "OK",
         "offsetgroup": "OK",
         "orientation": "v",
         "showlegend": true,
         "textposition": "auto",
         "type": "bar",
         "x": [
          "OK"
         ],
         "xaxis": "x",
         "y": [
          91
         ],
         "yaxis": "y"
        },
        {
         "alignmentgroup": "True",
         "hovertemplate": "state=%{x}<br>counts=%{y}<extra></extra>",
         "legendgroup": "OR",
         "marker": {
          "color": "#B6E880"
         },
         "name": "OR",
         "offsetgroup": "OR",
         "orientation": "v",
         "showlegend": true,
         "textposition": "auto",
         "type": "bar",
         "x": [
          "OR"
         ],
         "xaxis": "x",
         "y": [
          49
         ],
         "yaxis": "y"
        },
        {
         "alignmentgroup": "True",
         "hovertemplate": "state=%{x}<br>counts=%{y}<extra></extra>",
         "legendgroup": "PA",
         "marker": {
          "color": "#FF97FF"
         },
         "name": "PA",
         "offsetgroup": "PA",
         "orientation": "v",
         "showlegend": true,
         "textposition": "auto",
         "type": "bar",
         "x": [
          "PA"
         ],
         "xaxis": "x",
         "y": [
          63
         ],
         "yaxis": "y"
        },
        {
         "alignmentgroup": "True",
         "hovertemplate": "state=%{x}<br>counts=%{y}<extra></extra>",
         "legendgroup": "SC",
         "marker": {
          "color": "#FECB52"
         },
         "name": "SC",
         "offsetgroup": "SC",
         "orientation": "v",
         "showlegend": true,
         "textposition": "auto",
         "type": "bar",
         "x": [
          "SC"
         ],
         "xaxis": "x",
         "y": [
          52
         ],
         "yaxis": "y"
        },
        {
         "alignmentgroup": "True",
         "hovertemplate": "state=%{x}<br>counts=%{y}<extra></extra>",
         "legendgroup": "SD",
         "marker": {
          "color": "#636efa"
         },
         "name": "SD",
         "offsetgroup": "SD",
         "orientation": "v",
         "showlegend": true,
         "textposition": "auto",
         "type": "bar",
         "x": [
          "SD"
         ],
         "xaxis": "x",
         "y": [
          10
         ],
         "yaxis": "y"
        },
        {
         "alignmentgroup": "True",
         "hovertemplate": "state=%{x}<br>counts=%{y}<extra></extra>",
         "legendgroup": "TN",
         "marker": {
          "color": "#EF553B"
         },
         "name": "TN",
         "offsetgroup": "TN",
         "orientation": "v",
         "showlegend": true,
         "textposition": "auto",
         "type": "bar",
         "x": [
          "TN"
         ],
         "xaxis": "x",
         "y": [
          81
         ],
         "yaxis": "y"
        },
        {
         "alignmentgroup": "True",
         "hovertemplate": "state=%{x}<br>counts=%{y}<extra></extra>",
         "legendgroup": "TX",
         "marker": {
          "color": "#00cc96"
         },
         "name": "TX",
         "offsetgroup": "TX",
         "orientation": "v",
         "showlegend": true,
         "textposition": "auto",
         "type": "bar",
         "x": [
          "TX"
         ],
         "xaxis": "x",
         "y": [
          258
         ],
         "yaxis": "y"
        },
        {
         "alignmentgroup": "True",
         "hovertemplate": "state=%{x}<br>counts=%{y}<extra></extra>",
         "legendgroup": "UT",
         "marker": {
          "color": "#ab63fa"
         },
         "name": "UT",
         "offsetgroup": "UT",
         "orientation": "v",
         "showlegend": true,
         "textposition": "auto",
         "type": "bar",
         "x": [
          "UT"
         ],
         "xaxis": "x",
         "y": [
          32
         ],
         "yaxis": "y"
        },
        {
         "alignmentgroup": "True",
         "hovertemplate": "state=%{x}<br>counts=%{y}<extra></extra>",
         "legendgroup": "VA",
         "marker": {
          "color": "#FFA15A"
         },
         "name": "VA",
         "offsetgroup": "VA",
         "orientation": "v",
         "showlegend": true,
         "textposition": "auto",
         "type": "bar",
         "x": [
          "VA"
         ],
         "xaxis": "x",
         "y": [
          63
         ],
         "yaxis": "y"
        },
        {
         "alignmentgroup": "True",
         "hovertemplate": "state=%{x}<br>counts=%{y}<extra></extra>",
         "legendgroup": "VT",
         "marker": {
          "color": "#19d3f3"
         },
         "name": "VT",
         "offsetgroup": "VT",
         "orientation": "v",
         "showlegend": true,
         "textposition": "auto",
         "type": "bar",
         "x": [
          "VT"
         ],
         "xaxis": "x",
         "y": [
          5
         ],
         "yaxis": "y"
        },
        {
         "alignmentgroup": "True",
         "hovertemplate": "state=%{x}<br>counts=%{y}<extra></extra>",
         "legendgroup": "WA",
         "marker": {
          "color": "#FF6692"
         },
         "name": "WA",
         "offsetgroup": "WA",
         "orientation": "v",
         "showlegend": true,
         "textposition": "auto",
         "type": "bar",
         "x": [
          "WA"
         ],
         "xaxis": "x",
         "y": [
          85
         ],
         "yaxis": "y"
        },
        {
         "alignmentgroup": "True",
         "hovertemplate": "state=%{x}<br>counts=%{y}<extra></extra>",
         "legendgroup": "WI",
         "marker": {
          "color": "#B6E880"
         },
         "name": "WI",
         "offsetgroup": "WI",
         "orientation": "v",
         "showlegend": true,
         "textposition": "auto",
         "type": "bar",
         "x": [
          "WI"
         ],
         "xaxis": "x",
         "y": [
          59
         ],
         "yaxis": "y"
        },
        {
         "alignmentgroup": "True",
         "hovertemplate": "state=%{x}<br>counts=%{y}<extra></extra>",
         "legendgroup": "WV",
         "marker": {
          "color": "#FF97FF"
         },
         "name": "WV",
         "offsetgroup": "WV",
         "orientation": "v",
         "showlegend": true,
         "textposition": "auto",
         "type": "bar",
         "x": [
          "WV"
         ],
         "xaxis": "x",
         "y": [
          25
         ],
         "yaxis": "y"
        },
        {
         "alignmentgroup": "True",
         "hovertemplate": "state=%{x}<br>counts=%{y}<extra></extra>",
         "legendgroup": "WY",
         "marker": {
          "color": "#FECB52"
         },
         "name": "WY",
         "offsetgroup": "WY",
         "orientation": "v",
         "showlegend": true,
         "textposition": "auto",
         "type": "bar",
         "x": [
          "WY"
         ],
         "xaxis": "x",
         "y": [
          9
         ],
         "yaxis": "y"
        }
       ],
       "layout": {
        "barmode": "relative",
        "legend": {
         "title": {
          "text": "state"
         },
         "tracegroupgap": 0
        },
        "template": {
         "data": {
          "bar": [
           {
            "error_x": {
             "color": "#2a3f5f"
            },
            "error_y": {
             "color": "#2a3f5f"
            },
            "marker": {
             "line": {
              "color": "#E5ECF6",
              "width": 0.5
             }
            },
            "type": "bar"
           }
          ],
          "barpolar": [
           {
            "marker": {
             "line": {
              "color": "#E5ECF6",
              "width": 0.5
             }
            },
            "type": "barpolar"
           }
          ],
          "carpet": [
           {
            "aaxis": {
             "endlinecolor": "#2a3f5f",
             "gridcolor": "white",
             "linecolor": "white",
             "minorgridcolor": "white",
             "startlinecolor": "#2a3f5f"
            },
            "baxis": {
             "endlinecolor": "#2a3f5f",
             "gridcolor": "white",
             "linecolor": "white",
             "minorgridcolor": "white",
             "startlinecolor": "#2a3f5f"
            },
            "type": "carpet"
           }
          ],
          "choropleth": [
           {
            "colorbar": {
             "outlinewidth": 0,
             "ticks": ""
            },
            "type": "choropleth"
           }
          ],
          "contour": [
           {
            "colorbar": {
             "outlinewidth": 0,
             "ticks": ""
            },
            "colorscale": [
             [
              0,
              "#0d0887"
             ],
             [
              0.1111111111111111,
              "#46039f"
             ],
             [
              0.2222222222222222,
              "#7201a8"
             ],
             [
              0.3333333333333333,
              "#9c179e"
             ],
             [
              0.4444444444444444,
              "#bd3786"
             ],
             [
              0.5555555555555556,
              "#d8576b"
             ],
             [
              0.6666666666666666,
              "#ed7953"
             ],
             [
              0.7777777777777778,
              "#fb9f3a"
             ],
             [
              0.8888888888888888,
              "#fdca26"
             ],
             [
              1,
              "#f0f921"
             ]
            ],
            "type": "contour"
           }
          ],
          "contourcarpet": [
           {
            "colorbar": {
             "outlinewidth": 0,
             "ticks": ""
            },
            "type": "contourcarpet"
           }
          ],
          "heatmap": [
           {
            "colorbar": {
             "outlinewidth": 0,
             "ticks": ""
            },
            "colorscale": [
             [
              0,
              "#0d0887"
             ],
             [
              0.1111111111111111,
              "#46039f"
             ],
             [
              0.2222222222222222,
              "#7201a8"
             ],
             [
              0.3333333333333333,
              "#9c179e"
             ],
             [
              0.4444444444444444,
              "#bd3786"
             ],
             [
              0.5555555555555556,
              "#d8576b"
             ],
             [
              0.6666666666666666,
              "#ed7953"
             ],
             [
              0.7777777777777778,
              "#fb9f3a"
             ],
             [
              0.8888888888888888,
              "#fdca26"
             ],
             [
              1,
              "#f0f921"
             ]
            ],
            "type": "heatmap"
           }
          ],
          "heatmapgl": [
           {
            "colorbar": {
             "outlinewidth": 0,
             "ticks": ""
            },
            "colorscale": [
             [
              0,
              "#0d0887"
             ],
             [
              0.1111111111111111,
              "#46039f"
             ],
             [
              0.2222222222222222,
              "#7201a8"
             ],
             [
              0.3333333333333333,
              "#9c179e"
             ],
             [
              0.4444444444444444,
              "#bd3786"
             ],
             [
              0.5555555555555556,
              "#d8576b"
             ],
             [
              0.6666666666666666,
              "#ed7953"
             ],
             [
              0.7777777777777778,
              "#fb9f3a"
             ],
             [
              0.8888888888888888,
              "#fdca26"
             ],
             [
              1,
              "#f0f921"
             ]
            ],
            "type": "heatmapgl"
           }
          ],
          "histogram": [
           {
            "marker": {
             "colorbar": {
              "outlinewidth": 0,
              "ticks": ""
             }
            },
            "type": "histogram"
           }
          ],
          "histogram2d": [
           {
            "colorbar": {
             "outlinewidth": 0,
             "ticks": ""
            },
            "colorscale": [
             [
              0,
              "#0d0887"
             ],
             [
              0.1111111111111111,
              "#46039f"
             ],
             [
              0.2222222222222222,
              "#7201a8"
             ],
             [
              0.3333333333333333,
              "#9c179e"
             ],
             [
              0.4444444444444444,
              "#bd3786"
             ],
             [
              0.5555555555555556,
              "#d8576b"
             ],
             [
              0.6666666666666666,
              "#ed7953"
             ],
             [
              0.7777777777777778,
              "#fb9f3a"
             ],
             [
              0.8888888888888888,
              "#fdca26"
             ],
             [
              1,
              "#f0f921"
             ]
            ],
            "type": "histogram2d"
           }
          ],
          "histogram2dcontour": [
           {
            "colorbar": {
             "outlinewidth": 0,
             "ticks": ""
            },
            "colorscale": [
             [
              0,
              "#0d0887"
             ],
             [
              0.1111111111111111,
              "#46039f"
             ],
             [
              0.2222222222222222,
              "#7201a8"
             ],
             [
              0.3333333333333333,
              "#9c179e"
             ],
             [
              0.4444444444444444,
              "#bd3786"
             ],
             [
              0.5555555555555556,
              "#d8576b"
             ],
             [
              0.6666666666666666,
              "#ed7953"
             ],
             [
              0.7777777777777778,
              "#fb9f3a"
             ],
             [
              0.8888888888888888,
              "#fdca26"
             ],
             [
              1,
              "#f0f921"
             ]
            ],
            "type": "histogram2dcontour"
           }
          ],
          "mesh3d": [
           {
            "colorbar": {
             "outlinewidth": 0,
             "ticks": ""
            },
            "type": "mesh3d"
           }
          ],
          "parcoords": [
           {
            "line": {
             "colorbar": {
              "outlinewidth": 0,
              "ticks": ""
             }
            },
            "type": "parcoords"
           }
          ],
          "pie": [
           {
            "automargin": true,
            "type": "pie"
           }
          ],
          "scatter": [
           {
            "marker": {
             "colorbar": {
              "outlinewidth": 0,
              "ticks": ""
             }
            },
            "type": "scatter"
           }
          ],
          "scatter3d": [
           {
            "line": {
             "colorbar": {
              "outlinewidth": 0,
              "ticks": ""
             }
            },
            "marker": {
             "colorbar": {
              "outlinewidth": 0,
              "ticks": ""
             }
            },
            "type": "scatter3d"
           }
          ],
          "scattercarpet": [
           {
            "marker": {
             "colorbar": {
              "outlinewidth": 0,
              "ticks": ""
             }
            },
            "type": "scattercarpet"
           }
          ],
          "scattergeo": [
           {
            "marker": {
             "colorbar": {
              "outlinewidth": 0,
              "ticks": ""
             }
            },
            "type": "scattergeo"
           }
          ],
          "scattergl": [
           {
            "marker": {
             "colorbar": {
              "outlinewidth": 0,
              "ticks": ""
             }
            },
            "type": "scattergl"
           }
          ],
          "scattermapbox": [
           {
            "marker": {
             "colorbar": {
              "outlinewidth": 0,
              "ticks": ""
             }
            },
            "type": "scattermapbox"
           }
          ],
          "scatterpolar": [
           {
            "marker": {
             "colorbar": {
              "outlinewidth": 0,
              "ticks": ""
             }
            },
            "type": "scatterpolar"
           }
          ],
          "scatterpolargl": [
           {
            "marker": {
             "colorbar": {
              "outlinewidth": 0,
              "ticks": ""
             }
            },
            "type": "scatterpolargl"
           }
          ],
          "scatterternary": [
           {
            "marker": {
             "colorbar": {
              "outlinewidth": 0,
              "ticks": ""
             }
            },
            "type": "scatterternary"
           }
          ],
          "surface": [
           {
            "colorbar": {
             "outlinewidth": 0,
             "ticks": ""
            },
            "colorscale": [
             [
              0,
              "#0d0887"
             ],
             [
              0.1111111111111111,
              "#46039f"
             ],
             [
              0.2222222222222222,
              "#7201a8"
             ],
             [
              0.3333333333333333,
              "#9c179e"
             ],
             [
              0.4444444444444444,
              "#bd3786"
             ],
             [
              0.5555555555555556,
              "#d8576b"
             ],
             [
              0.6666666666666666,
              "#ed7953"
             ],
             [
              0.7777777777777778,
              "#fb9f3a"
             ],
             [
              0.8888888888888888,
              "#fdca26"
             ],
             [
              1,
              "#f0f921"
             ]
            ],
            "type": "surface"
           }
          ],
          "table": [
           {
            "cells": {
             "fill": {
              "color": "#EBF0F8"
             },
             "line": {
              "color": "white"
             }
            },
            "header": {
             "fill": {
              "color": "#C8D4E3"
             },
             "line": {
              "color": "white"
             }
            },
            "type": "table"
           }
          ]
         },
         "layout": {
          "annotationdefaults": {
           "arrowcolor": "#2a3f5f",
           "arrowhead": 0,
           "arrowwidth": 1
          },
          "coloraxis": {
           "colorbar": {
            "outlinewidth": 0,
            "ticks": ""
           }
          },
          "colorscale": {
           "diverging": [
            [
             0,
             "#8e0152"
            ],
            [
             0.1,
             "#c51b7d"
            ],
            [
             0.2,
             "#de77ae"
            ],
            [
             0.3,
             "#f1b6da"
            ],
            [
             0.4,
             "#fde0ef"
            ],
            [
             0.5,
             "#f7f7f7"
            ],
            [
             0.6,
             "#e6f5d0"
            ],
            [
             0.7,
             "#b8e186"
            ],
            [
             0.8,
             "#7fbc41"
            ],
            [
             0.9,
             "#4d9221"
            ],
            [
             1,
             "#276419"
            ]
           ],
           "sequential": [
            [
             0,
             "#0d0887"
            ],
            [
             0.1111111111111111,
             "#46039f"
            ],
            [
             0.2222222222222222,
             "#7201a8"
            ],
            [
             0.3333333333333333,
             "#9c179e"
            ],
            [
             0.4444444444444444,
             "#bd3786"
            ],
            [
             0.5555555555555556,
             "#d8576b"
            ],
            [
             0.6666666666666666,
             "#ed7953"
            ],
            [
             0.7777777777777778,
             "#fb9f3a"
            ],
            [
             0.8888888888888888,
             "#fdca26"
            ],
            [
             1,
             "#f0f921"
            ]
           ],
           "sequentialminus": [
            [
             0,
             "#0d0887"
            ],
            [
             0.1111111111111111,
             "#46039f"
            ],
            [
             0.2222222222222222,
             "#7201a8"
            ],
            [
             0.3333333333333333,
             "#9c179e"
            ],
            [
             0.4444444444444444,
             "#bd3786"
            ],
            [
             0.5555555555555556,
             "#d8576b"
            ],
            [
             0.6666666666666666,
             "#ed7953"
            ],
            [
             0.7777777777777778,
             "#fb9f3a"
            ],
            [
             0.8888888888888888,
             "#fdca26"
            ],
            [
             1,
             "#f0f921"
            ]
           ]
          },
          "colorway": [
           "#636efa",
           "#EF553B",
           "#00cc96",
           "#ab63fa",
           "#FFA15A",
           "#19d3f3",
           "#FF6692",
           "#B6E880",
           "#FF97FF",
           "#FECB52"
          ],
          "font": {
           "color": "#2a3f5f"
          },
          "geo": {
           "bgcolor": "white",
           "lakecolor": "white",
           "landcolor": "#E5ECF6",
           "showlakes": true,
           "showland": true,
           "subunitcolor": "white"
          },
          "hoverlabel": {
           "align": "left"
          },
          "hovermode": "closest",
          "mapbox": {
           "style": "light"
          },
          "paper_bgcolor": "white",
          "plot_bgcolor": "#E5ECF6",
          "polar": {
           "angularaxis": {
            "gridcolor": "white",
            "linecolor": "white",
            "ticks": ""
           },
           "bgcolor": "#E5ECF6",
           "radialaxis": {
            "gridcolor": "white",
            "linecolor": "white",
            "ticks": ""
           }
          },
          "scene": {
           "xaxis": {
            "backgroundcolor": "#E5ECF6",
            "gridcolor": "white",
            "gridwidth": 2,
            "linecolor": "white",
            "showbackground": true,
            "ticks": "",
            "zerolinecolor": "white"
           },
           "yaxis": {
            "backgroundcolor": "#E5ECF6",
            "gridcolor": "white",
            "gridwidth": 2,
            "linecolor": "white",
            "showbackground": true,
            "ticks": "",
            "zerolinecolor": "white"
           },
           "zaxis": {
            "backgroundcolor": "#E5ECF6",
            "gridcolor": "white",
            "gridwidth": 2,
            "linecolor": "white",
            "showbackground": true,
            "ticks": "",
            "zerolinecolor": "white"
           }
          },
          "shapedefaults": {
           "line": {
            "color": "#2a3f5f"
           }
          },
          "ternary": {
           "aaxis": {
            "gridcolor": "white",
            "linecolor": "white",
            "ticks": ""
           },
           "baxis": {
            "gridcolor": "white",
            "linecolor": "white",
            "ticks": ""
           },
           "bgcolor": "#E5ECF6",
           "caxis": {
            "gridcolor": "white",
            "linecolor": "white",
            "ticks": ""
           }
          },
          "title": {
           "x": 0.05
          },
          "xaxis": {
           "automargin": true,
           "gridcolor": "white",
           "linecolor": "white",
           "ticks": "",
           "title": {
            "standoff": 15
           },
           "zerolinecolor": "white",
           "zerolinewidth": 2
          },
          "yaxis": {
           "automargin": true,
           "gridcolor": "white",
           "linecolor": "white",
           "ticks": "",
           "title": {
            "standoff": 15
           },
           "zerolinecolor": "white",
           "zerolinewidth": 2
          }
         }
        },
        "title": {
         "text": "Shootings by State (People who did not attempt to flee)"
        },
        "xaxis": {
         "anchor": "y",
         "categoryarray": [
          "AK",
          "AL",
          "AR",
          "AZ",
          "CA",
          "CO",
          "CT",
          "DC",
          "DE",
          "FL",
          "GA",
          "HI",
          "IA",
          "ID",
          "IL",
          "IN",
          "KS",
          "KY",
          "LA",
          "MA",
          "MD",
          "ME",
          "MI",
          "MN",
          "MO",
          "MS",
          "MT",
          "NC",
          "ND",
          "NE",
          "NH",
          "NJ",
          "NM",
          "NV",
          "NY",
          "OH",
          "OK",
          "OR",
          "PA",
          "SC",
          "SD",
          "TN",
          "TX",
          "UT",
          "VA",
          "VT",
          "WA",
          "WI",
          "WV",
          "WY"
         ],
         "categoryorder": "array",
         "domain": [
          0,
          1
         ],
         "title": {
          "text": "state"
         }
        },
        "yaxis": {
         "anchor": "x",
         "domain": [
          0,
          1
         ],
         "title": {
          "text": "counts"
         }
        }
       }
      },
      "text/html": [
       "<div>\n",
       "        \n",
       "        \n",
       "            <div id=\"b1360517-aecc-449c-8af6-afa52ae1e455\" class=\"plotly-graph-div\" style=\"height:525px; width:100%;\"></div>\n",
       "            <script type=\"text/javascript\">\n",
       "                require([\"plotly\"], function(Plotly) {\n",
       "                    window.PLOTLYENV=window.PLOTLYENV || {};\n",
       "                    \n",
       "                if (document.getElementById(\"b1360517-aecc-449c-8af6-afa52ae1e455\")) {\n",
       "                    Plotly.newPlot(\n",
       "                        'b1360517-aecc-449c-8af6-afa52ae1e455',\n",
       "                        [{\"alignmentgroup\": \"True\", \"hovertemplate\": \"state=%{x}<br>counts=%{y}<extra></extra>\", \"legendgroup\": \"AK\", \"marker\": {\"color\": \"#636efa\"}, \"name\": \"AK\", \"offsetgroup\": \"AK\", \"orientation\": \"v\", \"showlegend\": true, \"textposition\": \"auto\", \"type\": \"bar\", \"x\": [\"AK\"], \"xaxis\": \"x\", \"y\": [18], \"yaxis\": \"y\"}, {\"alignmentgroup\": \"True\", \"hovertemplate\": \"state=%{x}<br>counts=%{y}<extra></extra>\", \"legendgroup\": \"AL\", \"marker\": {\"color\": \"#EF553B\"}, \"name\": \"AL\", \"offsetgroup\": \"AL\", \"orientation\": \"v\", \"showlegend\": true, \"textposition\": \"auto\", \"type\": \"bar\", \"x\": [\"AL\"], \"xaxis\": \"x\", \"y\": [58], \"yaxis\": \"y\"}, {\"alignmentgroup\": \"True\", \"hovertemplate\": \"state=%{x}<br>counts=%{y}<extra></extra>\", \"legendgroup\": \"AR\", \"marker\": {\"color\": \"#00cc96\"}, \"name\": \"AR\", \"offsetgroup\": \"AR\", \"orientation\": \"v\", \"showlegend\": true, \"textposition\": \"auto\", \"type\": \"bar\", \"x\": [\"AR\"], \"xaxis\": \"x\", \"y\": [51], \"yaxis\": \"y\"}, {\"alignmentgroup\": \"True\", \"hovertemplate\": \"state=%{x}<br>counts=%{y}<extra></extra>\", \"legendgroup\": \"AZ\", \"marker\": {\"color\": \"#ab63fa\"}, \"name\": \"AZ\", \"offsetgroup\": \"AZ\", \"orientation\": \"v\", \"showlegend\": true, \"textposition\": \"auto\", \"type\": \"bar\", \"x\": [\"AZ\"], \"xaxis\": \"x\", \"y\": [144], \"yaxis\": \"y\"}, {\"alignmentgroup\": \"True\", \"hovertemplate\": \"state=%{x}<br>counts=%{y}<extra></extra>\", \"legendgroup\": \"CA\", \"marker\": {\"color\": \"#FFA15A\"}, \"name\": \"CA\", \"offsetgroup\": \"CA\", \"orientation\": \"v\", \"showlegend\": true, \"textposition\": \"auto\", \"type\": \"bar\", \"x\": [\"CA\"], \"xaxis\": \"x\", \"y\": [445], \"yaxis\": \"y\"}, {\"alignmentgroup\": \"True\", \"hovertemplate\": \"state=%{x}<br>counts=%{y}<extra></extra>\", \"legendgroup\": \"CO\", \"marker\": {\"color\": \"#19d3f3\"}, \"name\": \"CO\", \"offsetgroup\": \"CO\", \"orientation\": \"v\", \"showlegend\": true, \"textposition\": \"auto\", \"type\": \"bar\", \"x\": [\"CO\"], \"xaxis\": \"x\", \"y\": [85], \"yaxis\": \"y\"}, {\"alignmentgroup\": \"True\", \"hovertemplate\": \"state=%{x}<br>counts=%{y}<extra></extra>\", \"legendgroup\": \"CT\", \"marker\": {\"color\": \"#FF6692\"}, \"name\": \"CT\", \"offsetgroup\": \"CT\", \"orientation\": \"v\", \"showlegend\": true, \"textposition\": \"auto\", \"type\": \"bar\", \"x\": [\"CT\"], \"xaxis\": \"x\", \"y\": [10], \"yaxis\": \"y\"}, {\"alignmentgroup\": \"True\", \"hovertemplate\": \"state=%{x}<br>counts=%{y}<extra></extra>\", \"legendgroup\": \"DC\", \"marker\": {\"color\": \"#B6E880\"}, \"name\": \"DC\", \"offsetgroup\": \"DC\", \"orientation\": \"v\", \"showlegend\": true, \"textposition\": \"auto\", \"type\": \"bar\", \"x\": [\"DC\"], \"xaxis\": \"x\", \"y\": [9], \"yaxis\": \"y\"}, {\"alignmentgroup\": \"True\", \"hovertemplate\": \"state=%{x}<br>counts=%{y}<extra></extra>\", \"legendgroup\": \"DE\", \"marker\": {\"color\": \"#FF97FF\"}, \"name\": \"DE\", \"offsetgroup\": \"DE\", \"orientation\": \"v\", \"showlegend\": true, \"textposition\": \"auto\", \"type\": \"bar\", \"x\": [\"DE\"], \"xaxis\": \"x\", \"y\": [6], \"yaxis\": \"y\"}, {\"alignmentgroup\": \"True\", \"hovertemplate\": \"state=%{x}<br>counts=%{y}<extra></extra>\", \"legendgroup\": \"FL\", \"marker\": {\"color\": \"#FECB52\"}, \"name\": \"FL\", \"offsetgroup\": \"FL\", \"orientation\": \"v\", \"showlegend\": true, \"textposition\": \"auto\", \"type\": \"bar\", \"x\": [\"FL\"], \"xaxis\": \"x\", \"y\": [214], \"yaxis\": \"y\"}, {\"alignmentgroup\": \"True\", \"hovertemplate\": \"state=%{x}<br>counts=%{y}<extra></extra>\", \"legendgroup\": \"GA\", \"marker\": {\"color\": \"#636efa\"}, \"name\": \"GA\", \"offsetgroup\": \"GA\", \"orientation\": \"v\", \"showlegend\": true, \"textposition\": \"auto\", \"type\": \"bar\", \"x\": [\"GA\"], \"xaxis\": \"x\", \"y\": [102], \"yaxis\": \"y\"}, {\"alignmentgroup\": \"True\", \"hovertemplate\": \"state=%{x}<br>counts=%{y}<extra></extra>\", \"legendgroup\": \"HI\", \"marker\": {\"color\": \"#EF553B\"}, \"name\": \"HI\", \"offsetgroup\": \"HI\", \"orientation\": \"v\", \"showlegend\": true, \"textposition\": \"auto\", \"type\": \"bar\", \"x\": [\"HI\"], \"xaxis\": \"x\", \"y\": [19], \"yaxis\": \"y\"}, {\"alignmentgroup\": \"True\", \"hovertemplate\": \"state=%{x}<br>counts=%{y}<extra></extra>\", \"legendgroup\": \"IA\", \"marker\": {\"color\": \"#00cc96\"}, \"name\": \"IA\", \"offsetgroup\": \"IA\", \"orientation\": \"v\", \"showlegend\": true, \"textposition\": \"auto\", \"type\": \"bar\", \"x\": [\"IA\"], \"xaxis\": \"x\", \"y\": [14], \"yaxis\": \"y\"}, {\"alignmentgroup\": \"True\", \"hovertemplate\": \"state=%{x}<br>counts=%{y}<extra></extra>\", \"legendgroup\": \"ID\", \"marker\": {\"color\": \"#ab63fa\"}, \"name\": \"ID\", \"offsetgroup\": \"ID\", \"orientation\": \"v\", \"showlegend\": true, \"textposition\": \"auto\", \"type\": \"bar\", \"x\": [\"ID\"], \"xaxis\": \"x\", \"y\": [24], \"yaxis\": \"y\"}, {\"alignmentgroup\": \"True\", \"hovertemplate\": \"state=%{x}<br>counts=%{y}<extra></extra>\", \"legendgroup\": \"IL\", \"marker\": {\"color\": \"#FFA15A\"}, \"name\": \"IL\", \"offsetgroup\": \"IL\", \"orientation\": \"v\", \"showlegend\": true, \"textposition\": \"auto\", \"type\": \"bar\", \"x\": [\"IL\"], \"xaxis\": \"x\", \"y\": [46], \"yaxis\": \"y\"}, {\"alignmentgroup\": \"True\", \"hovertemplate\": \"state=%{x}<br>counts=%{y}<extra></extra>\", \"legendgroup\": \"IN\", \"marker\": {\"color\": \"#19d3f3\"}, \"name\": \"IN\", \"offsetgroup\": \"IN\", \"orientation\": \"v\", \"showlegend\": true, \"textposition\": \"auto\", \"type\": \"bar\", \"x\": [\"IN\"], \"xaxis\": \"x\", \"y\": [63], \"yaxis\": \"y\"}, {\"alignmentgroup\": \"True\", \"hovertemplate\": \"state=%{x}<br>counts=%{y}<extra></extra>\", \"legendgroup\": \"KS\", \"marker\": {\"color\": \"#FF6692\"}, \"name\": \"KS\", \"offsetgroup\": \"KS\", \"orientation\": \"v\", \"showlegend\": true, \"textposition\": \"auto\", \"type\": \"bar\", \"x\": [\"KS\"], \"xaxis\": \"x\", \"y\": [30], \"yaxis\": \"y\"}, {\"alignmentgroup\": \"True\", \"hovertemplate\": \"state=%{x}<br>counts=%{y}<extra></extra>\", \"legendgroup\": \"KY\", \"marker\": {\"color\": \"#B6E880\"}, \"name\": \"KY\", \"offsetgroup\": \"KY\", \"orientation\": \"v\", \"showlegend\": true, \"textposition\": \"auto\", \"type\": \"bar\", \"x\": [\"KY\"], \"xaxis\": \"x\", \"y\": [54], \"yaxis\": \"y\"}, {\"alignmentgroup\": \"True\", \"hovertemplate\": \"state=%{x}<br>counts=%{y}<extra></extra>\", \"legendgroup\": \"LA\", \"marker\": {\"color\": \"#FF97FF\"}, \"name\": \"LA\", \"offsetgroup\": \"LA\", \"orientation\": \"v\", \"showlegend\": true, \"textposition\": \"auto\", \"type\": \"bar\", \"x\": [\"LA\"], \"xaxis\": \"x\", \"y\": [63], \"yaxis\": \"y\"}, {\"alignmentgroup\": \"True\", \"hovertemplate\": \"state=%{x}<br>counts=%{y}<extra></extra>\", \"legendgroup\": \"MA\", \"marker\": {\"color\": \"#FECB52\"}, \"name\": \"MA\", \"offsetgroup\": \"MA\", \"orientation\": \"v\", \"showlegend\": true, \"textposition\": \"auto\", \"type\": \"bar\", \"x\": [\"MA\"], \"xaxis\": \"x\", \"y\": [19], \"yaxis\": \"y\"}, {\"alignmentgroup\": \"True\", \"hovertemplate\": \"state=%{x}<br>counts=%{y}<extra></extra>\", \"legendgroup\": \"MD\", \"marker\": {\"color\": \"#636efa\"}, \"name\": \"MD\", \"offsetgroup\": \"MD\", \"orientation\": \"v\", \"showlegend\": true, \"textposition\": \"auto\", \"type\": \"bar\", \"x\": [\"MD\"], \"xaxis\": \"x\", \"y\": [54], \"yaxis\": \"y\"}, {\"alignmentgroup\": \"True\", \"hovertemplate\": \"state=%{x}<br>counts=%{y}<extra></extra>\", \"legendgroup\": \"ME\", \"marker\": {\"color\": \"#EF553B\"}, \"name\": \"ME\", \"offsetgroup\": \"ME\", \"orientation\": \"v\", \"showlegend\": true, \"textposition\": \"auto\", \"type\": \"bar\", \"x\": [\"ME\"], \"xaxis\": \"x\", \"y\": [14], \"yaxis\": \"y\"}, {\"alignmentgroup\": \"True\", \"hovertemplate\": \"state=%{x}<br>counts=%{y}<extra></extra>\", \"legendgroup\": \"MI\", \"marker\": {\"color\": \"#00cc96\"}, \"name\": \"MI\", \"offsetgroup\": \"MI\", \"orientation\": \"v\", \"showlegend\": true, \"textposition\": \"auto\", \"type\": \"bar\", \"x\": [\"MI\"], \"xaxis\": \"x\", \"y\": [55], \"yaxis\": \"y\"}, {\"alignmentgroup\": \"True\", \"hovertemplate\": \"state=%{x}<br>counts=%{y}<extra></extra>\", \"legendgroup\": \"MN\", \"marker\": {\"color\": \"#ab63fa\"}, \"name\": \"MN\", \"offsetgroup\": \"MN\", \"orientation\": \"v\", \"showlegend\": true, \"textposition\": \"auto\", \"type\": \"bar\", \"x\": [\"MN\"], \"xaxis\": \"x\", \"y\": [46], \"yaxis\": \"y\"}, {\"alignmentgroup\": \"True\", \"hovertemplate\": \"state=%{x}<br>counts=%{y}<extra></extra>\", \"legendgroup\": \"MO\", \"marker\": {\"color\": \"#FFA15A\"}, \"name\": \"MO\", \"offsetgroup\": \"MO\", \"orientation\": \"v\", \"showlegend\": true, \"textposition\": \"auto\", \"type\": \"bar\", \"x\": [\"MO\"], \"xaxis\": \"x\", \"y\": [64], \"yaxis\": \"y\"}, {\"alignmentgroup\": \"True\", \"hovertemplate\": \"state=%{x}<br>counts=%{y}<extra></extra>\", \"legendgroup\": \"MS\", \"marker\": {\"color\": \"#19d3f3\"}, \"name\": \"MS\", \"offsetgroup\": \"MS\", \"orientation\": \"v\", \"showlegend\": true, \"textposition\": \"auto\", \"type\": \"bar\", \"x\": [\"MS\"], \"xaxis\": \"x\", \"y\": [31], \"yaxis\": \"y\"}, {\"alignmentgroup\": \"True\", \"hovertemplate\": \"state=%{x}<br>counts=%{y}<extra></extra>\", \"legendgroup\": \"MT\", \"marker\": {\"color\": \"#FF6692\"}, \"name\": \"MT\", \"offsetgroup\": \"MT\", \"orientation\": \"v\", \"showlegend\": true, \"textposition\": \"auto\", \"type\": \"bar\", \"x\": [\"MT\"], \"xaxis\": \"x\", \"y\": [18], \"yaxis\": \"y\"}, {\"alignmentgroup\": \"True\", \"hovertemplate\": \"state=%{x}<br>counts=%{y}<extra></extra>\", \"legendgroup\": \"NC\", \"marker\": {\"color\": \"#B6E880\"}, \"name\": \"NC\", \"offsetgroup\": \"NC\", \"orientation\": \"v\", \"showlegend\": true, \"textposition\": \"auto\", \"type\": \"bar\", \"x\": [\"NC\"], \"xaxis\": \"x\", \"y\": [99], \"yaxis\": \"y\"}, {\"alignmentgroup\": \"True\", \"hovertemplate\": \"state=%{x}<br>counts=%{y}<extra></extra>\", \"legendgroup\": \"ND\", \"marker\": {\"color\": \"#FF97FF\"}, \"name\": \"ND\", \"offsetgroup\": \"ND\", \"orientation\": \"v\", \"showlegend\": true, \"textposition\": \"auto\", \"type\": \"bar\", \"x\": [\"ND\"], \"xaxis\": \"x\", \"y\": [6], \"yaxis\": \"y\"}, {\"alignmentgroup\": \"True\", \"hovertemplate\": \"state=%{x}<br>counts=%{y}<extra></extra>\", \"legendgroup\": \"NE\", \"marker\": {\"color\": \"#FECB52\"}, \"name\": \"NE\", \"offsetgroup\": \"NE\", \"orientation\": \"v\", \"showlegend\": true, \"textposition\": \"auto\", \"type\": \"bar\", \"x\": [\"NE\"], \"xaxis\": \"x\", \"y\": [18], \"yaxis\": \"y\"}, {\"alignmentgroup\": \"True\", \"hovertemplate\": \"state=%{x}<br>counts=%{y}<extra></extra>\", \"legendgroup\": \"NH\", \"marker\": {\"color\": \"#636efa\"}, \"name\": \"NH\", \"offsetgroup\": \"NH\", \"orientation\": \"v\", \"showlegend\": true, \"textposition\": \"auto\", \"type\": \"bar\", \"x\": [\"NH\"], \"xaxis\": \"x\", \"y\": [10], \"yaxis\": \"y\"}, {\"alignmentgroup\": \"True\", \"hovertemplate\": \"state=%{x}<br>counts=%{y}<extra></extra>\", \"legendgroup\": \"NJ\", \"marker\": {\"color\": \"#EF553B\"}, \"name\": \"NJ\", \"offsetgroup\": \"NJ\", \"orientation\": \"v\", \"showlegend\": true, \"textposition\": \"auto\", \"type\": \"bar\", \"x\": [\"NJ\"], \"xaxis\": \"x\", \"y\": [38], \"yaxis\": \"y\"}, {\"alignmentgroup\": \"True\", \"hovertemplate\": \"state=%{x}<br>counts=%{y}<extra></extra>\", \"legendgroup\": \"NM\", \"marker\": {\"color\": \"#00cc96\"}, \"name\": \"NM\", \"offsetgroup\": \"NM\", \"orientation\": \"v\", \"showlegend\": true, \"textposition\": \"auto\", \"type\": \"bar\", \"x\": [\"NM\"], \"xaxis\": \"x\", \"y\": [57], \"yaxis\": \"y\"}, {\"alignmentgroup\": \"True\", \"hovertemplate\": \"state=%{x}<br>counts=%{y}<extra></extra>\", \"legendgroup\": \"NV\", \"marker\": {\"color\": \"#ab63fa\"}, \"name\": \"NV\", \"offsetgroup\": \"NV\", \"orientation\": \"v\", \"showlegend\": true, \"textposition\": \"auto\", \"type\": \"bar\", \"x\": [\"NV\"], \"xaxis\": \"x\", \"y\": [53], \"yaxis\": \"y\"}, {\"alignmentgroup\": \"True\", \"hovertemplate\": \"state=%{x}<br>counts=%{y}<extra></extra>\", \"legendgroup\": \"NY\", \"marker\": {\"color\": \"#FFA15A\"}, \"name\": \"NY\", \"offsetgroup\": \"NY\", \"orientation\": \"v\", \"showlegend\": true, \"textposition\": \"auto\", \"type\": \"bar\", \"x\": [\"NY\"], \"xaxis\": \"x\", \"y\": [56], \"yaxis\": \"y\"}, {\"alignmentgroup\": \"True\", \"hovertemplate\": \"state=%{x}<br>counts=%{y}<extra></extra>\", \"legendgroup\": \"OH\", \"marker\": {\"color\": \"#19d3f3\"}, \"name\": \"OH\", \"offsetgroup\": \"OH\", \"orientation\": \"v\", \"showlegend\": true, \"textposition\": \"auto\", \"type\": \"bar\", \"x\": [\"OH\"], \"xaxis\": \"x\", \"y\": [98], \"yaxis\": \"y\"}, {\"alignmentgroup\": \"True\", \"hovertemplate\": \"state=%{x}<br>counts=%{y}<extra></extra>\", \"legendgroup\": \"OK\", \"marker\": {\"color\": \"#FF6692\"}, \"name\": \"OK\", \"offsetgroup\": \"OK\", \"orientation\": \"v\", \"showlegend\": true, \"textposition\": \"auto\", \"type\": \"bar\", \"x\": [\"OK\"], \"xaxis\": \"x\", \"y\": [91], \"yaxis\": \"y\"}, {\"alignmentgroup\": \"True\", \"hovertemplate\": \"state=%{x}<br>counts=%{y}<extra></extra>\", \"legendgroup\": \"OR\", \"marker\": {\"color\": \"#B6E880\"}, \"name\": \"OR\", \"offsetgroup\": \"OR\", \"orientation\": \"v\", \"showlegend\": true, \"textposition\": \"auto\", \"type\": \"bar\", \"x\": [\"OR\"], \"xaxis\": \"x\", \"y\": [49], \"yaxis\": \"y\"}, {\"alignmentgroup\": \"True\", \"hovertemplate\": \"state=%{x}<br>counts=%{y}<extra></extra>\", \"legendgroup\": \"PA\", \"marker\": {\"color\": \"#FF97FF\"}, \"name\": \"PA\", \"offsetgroup\": \"PA\", \"orientation\": \"v\", \"showlegend\": true, \"textposition\": \"auto\", \"type\": \"bar\", \"x\": [\"PA\"], \"xaxis\": \"x\", \"y\": [63], \"yaxis\": \"y\"}, {\"alignmentgroup\": \"True\", \"hovertemplate\": \"state=%{x}<br>counts=%{y}<extra></extra>\", \"legendgroup\": \"SC\", \"marker\": {\"color\": \"#FECB52\"}, \"name\": \"SC\", \"offsetgroup\": \"SC\", \"orientation\": \"v\", \"showlegend\": true, \"textposition\": \"auto\", \"type\": \"bar\", \"x\": [\"SC\"], \"xaxis\": \"x\", \"y\": [52], \"yaxis\": \"y\"}, {\"alignmentgroup\": \"True\", \"hovertemplate\": \"state=%{x}<br>counts=%{y}<extra></extra>\", \"legendgroup\": \"SD\", \"marker\": {\"color\": \"#636efa\"}, \"name\": \"SD\", \"offsetgroup\": \"SD\", \"orientation\": \"v\", \"showlegend\": true, \"textposition\": \"auto\", \"type\": \"bar\", \"x\": [\"SD\"], \"xaxis\": \"x\", \"y\": [10], \"yaxis\": \"y\"}, {\"alignmentgroup\": \"True\", \"hovertemplate\": \"state=%{x}<br>counts=%{y}<extra></extra>\", \"legendgroup\": \"TN\", \"marker\": {\"color\": \"#EF553B\"}, \"name\": \"TN\", \"offsetgroup\": \"TN\", \"orientation\": \"v\", \"showlegend\": true, \"textposition\": \"auto\", \"type\": \"bar\", \"x\": [\"TN\"], \"xaxis\": \"x\", \"y\": [81], \"yaxis\": \"y\"}, {\"alignmentgroup\": \"True\", \"hovertemplate\": \"state=%{x}<br>counts=%{y}<extra></extra>\", \"legendgroup\": \"TX\", \"marker\": {\"color\": \"#00cc96\"}, \"name\": \"TX\", \"offsetgroup\": \"TX\", \"orientation\": \"v\", \"showlegend\": true, \"textposition\": \"auto\", \"type\": \"bar\", \"x\": [\"TX\"], \"xaxis\": \"x\", \"y\": [258], \"yaxis\": \"y\"}, {\"alignmentgroup\": \"True\", \"hovertemplate\": \"state=%{x}<br>counts=%{y}<extra></extra>\", \"legendgroup\": \"UT\", \"marker\": {\"color\": \"#ab63fa\"}, \"name\": \"UT\", \"offsetgroup\": \"UT\", \"orientation\": \"v\", \"showlegend\": true, \"textposition\": \"auto\", \"type\": \"bar\", \"x\": [\"UT\"], \"xaxis\": \"x\", \"y\": [32], \"yaxis\": \"y\"}, {\"alignmentgroup\": \"True\", \"hovertemplate\": \"state=%{x}<br>counts=%{y}<extra></extra>\", \"legendgroup\": \"VA\", \"marker\": {\"color\": \"#FFA15A\"}, \"name\": \"VA\", \"offsetgroup\": \"VA\", \"orientation\": \"v\", \"showlegend\": true, \"textposition\": \"auto\", \"type\": \"bar\", \"x\": [\"VA\"], \"xaxis\": \"x\", \"y\": [63], \"yaxis\": \"y\"}, {\"alignmentgroup\": \"True\", \"hovertemplate\": \"state=%{x}<br>counts=%{y}<extra></extra>\", \"legendgroup\": \"VT\", \"marker\": {\"color\": \"#19d3f3\"}, \"name\": \"VT\", \"offsetgroup\": \"VT\", \"orientation\": \"v\", \"showlegend\": true, \"textposition\": \"auto\", \"type\": \"bar\", \"x\": [\"VT\"], \"xaxis\": \"x\", \"y\": [5], \"yaxis\": \"y\"}, {\"alignmentgroup\": \"True\", \"hovertemplate\": \"state=%{x}<br>counts=%{y}<extra></extra>\", \"legendgroup\": \"WA\", \"marker\": {\"color\": \"#FF6692\"}, \"name\": \"WA\", \"offsetgroup\": \"WA\", \"orientation\": \"v\", \"showlegend\": true, \"textposition\": \"auto\", \"type\": \"bar\", \"x\": [\"WA\"], \"xaxis\": \"x\", \"y\": [85], \"yaxis\": \"y\"}, {\"alignmentgroup\": \"True\", \"hovertemplate\": \"state=%{x}<br>counts=%{y}<extra></extra>\", \"legendgroup\": \"WI\", \"marker\": {\"color\": \"#B6E880\"}, \"name\": \"WI\", \"offsetgroup\": \"WI\", \"orientation\": \"v\", \"showlegend\": true, \"textposition\": \"auto\", \"type\": \"bar\", \"x\": [\"WI\"], \"xaxis\": \"x\", \"y\": [59], \"yaxis\": \"y\"}, {\"alignmentgroup\": \"True\", \"hovertemplate\": \"state=%{x}<br>counts=%{y}<extra></extra>\", \"legendgroup\": \"WV\", \"marker\": {\"color\": \"#FF97FF\"}, \"name\": \"WV\", \"offsetgroup\": \"WV\", \"orientation\": \"v\", \"showlegend\": true, \"textposition\": \"auto\", \"type\": \"bar\", \"x\": [\"WV\"], \"xaxis\": \"x\", \"y\": [25], \"yaxis\": \"y\"}, {\"alignmentgroup\": \"True\", \"hovertemplate\": \"state=%{x}<br>counts=%{y}<extra></extra>\", \"legendgroup\": \"WY\", \"marker\": {\"color\": \"#FECB52\"}, \"name\": \"WY\", \"offsetgroup\": \"WY\", \"orientation\": \"v\", \"showlegend\": true, \"textposition\": \"auto\", \"type\": \"bar\", \"x\": [\"WY\"], \"xaxis\": \"x\", \"y\": [9], \"yaxis\": \"y\"}],\n",
       "                        {\"barmode\": \"relative\", \"legend\": {\"title\": {\"text\": \"state\"}, \"tracegroupgap\": 0}, \"template\": {\"data\": {\"bar\": [{\"error_x\": {\"color\": \"#2a3f5f\"}, \"error_y\": {\"color\": \"#2a3f5f\"}, \"marker\": {\"line\": {\"color\": \"#E5ECF6\", \"width\": 0.5}}, \"type\": \"bar\"}], \"barpolar\": [{\"marker\": {\"line\": {\"color\": \"#E5ECF6\", \"width\": 0.5}}, \"type\": \"barpolar\"}], \"carpet\": [{\"aaxis\": {\"endlinecolor\": \"#2a3f5f\", \"gridcolor\": \"white\", \"linecolor\": \"white\", \"minorgridcolor\": \"white\", \"startlinecolor\": \"#2a3f5f\"}, \"baxis\": {\"endlinecolor\": \"#2a3f5f\", \"gridcolor\": \"white\", \"linecolor\": \"white\", \"minorgridcolor\": \"white\", \"startlinecolor\": \"#2a3f5f\"}, \"type\": \"carpet\"}], \"choropleth\": [{\"colorbar\": {\"outlinewidth\": 0, \"ticks\": \"\"}, \"type\": \"choropleth\"}], \"contour\": [{\"colorbar\": {\"outlinewidth\": 0, \"ticks\": \"\"}, \"colorscale\": [[0.0, \"#0d0887\"], [0.1111111111111111, \"#46039f\"], [0.2222222222222222, \"#7201a8\"], [0.3333333333333333, \"#9c179e\"], [0.4444444444444444, \"#bd3786\"], [0.5555555555555556, \"#d8576b\"], [0.6666666666666666, \"#ed7953\"], [0.7777777777777778, \"#fb9f3a\"], [0.8888888888888888, \"#fdca26\"], [1.0, \"#f0f921\"]], \"type\": \"contour\"}], \"contourcarpet\": [{\"colorbar\": {\"outlinewidth\": 0, \"ticks\": \"\"}, \"type\": \"contourcarpet\"}], \"heatmap\": [{\"colorbar\": {\"outlinewidth\": 0, \"ticks\": \"\"}, \"colorscale\": [[0.0, \"#0d0887\"], [0.1111111111111111, \"#46039f\"], [0.2222222222222222, \"#7201a8\"], [0.3333333333333333, \"#9c179e\"], [0.4444444444444444, \"#bd3786\"], [0.5555555555555556, \"#d8576b\"], [0.6666666666666666, \"#ed7953\"], [0.7777777777777778, \"#fb9f3a\"], [0.8888888888888888, \"#fdca26\"], [1.0, \"#f0f921\"]], \"type\": \"heatmap\"}], \"heatmapgl\": [{\"colorbar\": {\"outlinewidth\": 0, \"ticks\": \"\"}, \"colorscale\": [[0.0, \"#0d0887\"], [0.1111111111111111, \"#46039f\"], [0.2222222222222222, \"#7201a8\"], [0.3333333333333333, \"#9c179e\"], [0.4444444444444444, \"#bd3786\"], [0.5555555555555556, \"#d8576b\"], [0.6666666666666666, \"#ed7953\"], [0.7777777777777778, \"#fb9f3a\"], [0.8888888888888888, \"#fdca26\"], [1.0, \"#f0f921\"]], \"type\": \"heatmapgl\"}], \"histogram\": [{\"marker\": {\"colorbar\": {\"outlinewidth\": 0, \"ticks\": \"\"}}, \"type\": \"histogram\"}], \"histogram2d\": [{\"colorbar\": {\"outlinewidth\": 0, \"ticks\": \"\"}, \"colorscale\": [[0.0, \"#0d0887\"], [0.1111111111111111, \"#46039f\"], [0.2222222222222222, \"#7201a8\"], [0.3333333333333333, \"#9c179e\"], [0.4444444444444444, \"#bd3786\"], [0.5555555555555556, \"#d8576b\"], [0.6666666666666666, \"#ed7953\"], [0.7777777777777778, \"#fb9f3a\"], [0.8888888888888888, \"#fdca26\"], [1.0, \"#f0f921\"]], \"type\": \"histogram2d\"}], \"histogram2dcontour\": [{\"colorbar\": {\"outlinewidth\": 0, \"ticks\": \"\"}, \"colorscale\": [[0.0, \"#0d0887\"], [0.1111111111111111, \"#46039f\"], [0.2222222222222222, \"#7201a8\"], [0.3333333333333333, \"#9c179e\"], [0.4444444444444444, \"#bd3786\"], [0.5555555555555556, \"#d8576b\"], [0.6666666666666666, \"#ed7953\"], [0.7777777777777778, \"#fb9f3a\"], [0.8888888888888888, \"#fdca26\"], [1.0, \"#f0f921\"]], \"type\": \"histogram2dcontour\"}], \"mesh3d\": [{\"colorbar\": {\"outlinewidth\": 0, \"ticks\": \"\"}, \"type\": \"mesh3d\"}], \"parcoords\": [{\"line\": {\"colorbar\": {\"outlinewidth\": 0, \"ticks\": \"\"}}, \"type\": \"parcoords\"}], \"pie\": [{\"automargin\": true, \"type\": \"pie\"}], \"scatter\": [{\"marker\": {\"colorbar\": {\"outlinewidth\": 0, \"ticks\": \"\"}}, \"type\": \"scatter\"}], \"scatter3d\": [{\"line\": {\"colorbar\": {\"outlinewidth\": 0, \"ticks\": \"\"}}, \"marker\": {\"colorbar\": {\"outlinewidth\": 0, \"ticks\": \"\"}}, \"type\": \"scatter3d\"}], \"scattercarpet\": [{\"marker\": {\"colorbar\": {\"outlinewidth\": 0, \"ticks\": \"\"}}, \"type\": \"scattercarpet\"}], \"scattergeo\": [{\"marker\": {\"colorbar\": {\"outlinewidth\": 0, \"ticks\": \"\"}}, \"type\": \"scattergeo\"}], \"scattergl\": [{\"marker\": {\"colorbar\": {\"outlinewidth\": 0, \"ticks\": \"\"}}, \"type\": \"scattergl\"}], \"scattermapbox\": [{\"marker\": {\"colorbar\": {\"outlinewidth\": 0, \"ticks\": \"\"}}, \"type\": \"scattermapbox\"}], \"scatterpolar\": [{\"marker\": {\"colorbar\": {\"outlinewidth\": 0, \"ticks\": \"\"}}, \"type\": \"scatterpolar\"}], \"scatterpolargl\": [{\"marker\": {\"colorbar\": {\"outlinewidth\": 0, \"ticks\": \"\"}}, \"type\": \"scatterpolargl\"}], \"scatterternary\": [{\"marker\": {\"colorbar\": {\"outlinewidth\": 0, \"ticks\": \"\"}}, \"type\": \"scatterternary\"}], \"surface\": [{\"colorbar\": {\"outlinewidth\": 0, \"ticks\": \"\"}, \"colorscale\": [[0.0, \"#0d0887\"], [0.1111111111111111, \"#46039f\"], [0.2222222222222222, \"#7201a8\"], [0.3333333333333333, \"#9c179e\"], [0.4444444444444444, \"#bd3786\"], [0.5555555555555556, \"#d8576b\"], [0.6666666666666666, \"#ed7953\"], [0.7777777777777778, \"#fb9f3a\"], [0.8888888888888888, \"#fdca26\"], [1.0, \"#f0f921\"]], \"type\": \"surface\"}], \"table\": [{\"cells\": {\"fill\": {\"color\": \"#EBF0F8\"}, \"line\": {\"color\": \"white\"}}, \"header\": {\"fill\": {\"color\": \"#C8D4E3\"}, \"line\": {\"color\": \"white\"}}, \"type\": \"table\"}]}, \"layout\": {\"annotationdefaults\": {\"arrowcolor\": \"#2a3f5f\", \"arrowhead\": 0, \"arrowwidth\": 1}, \"coloraxis\": {\"colorbar\": {\"outlinewidth\": 0, \"ticks\": \"\"}}, \"colorscale\": {\"diverging\": [[0, \"#8e0152\"], [0.1, \"#c51b7d\"], [0.2, \"#de77ae\"], [0.3, \"#f1b6da\"], [0.4, \"#fde0ef\"], [0.5, \"#f7f7f7\"], [0.6, \"#e6f5d0\"], [0.7, \"#b8e186\"], [0.8, \"#7fbc41\"], [0.9, \"#4d9221\"], [1, \"#276419\"]], \"sequential\": [[0.0, \"#0d0887\"], [0.1111111111111111, \"#46039f\"], [0.2222222222222222, \"#7201a8\"], [0.3333333333333333, \"#9c179e\"], [0.4444444444444444, \"#bd3786\"], [0.5555555555555556, \"#d8576b\"], [0.6666666666666666, \"#ed7953\"], [0.7777777777777778, \"#fb9f3a\"], [0.8888888888888888, \"#fdca26\"], [1.0, \"#f0f921\"]], \"sequentialminus\": [[0.0, \"#0d0887\"], [0.1111111111111111, \"#46039f\"], [0.2222222222222222, \"#7201a8\"], [0.3333333333333333, \"#9c179e\"], [0.4444444444444444, \"#bd3786\"], [0.5555555555555556, \"#d8576b\"], [0.6666666666666666, \"#ed7953\"], [0.7777777777777778, \"#fb9f3a\"], [0.8888888888888888, \"#fdca26\"], [1.0, \"#f0f921\"]]}, \"colorway\": [\"#636efa\", \"#EF553B\", \"#00cc96\", \"#ab63fa\", \"#FFA15A\", \"#19d3f3\", \"#FF6692\", \"#B6E880\", \"#FF97FF\", \"#FECB52\"], \"font\": {\"color\": \"#2a3f5f\"}, \"geo\": {\"bgcolor\": \"white\", \"lakecolor\": \"white\", \"landcolor\": \"#E5ECF6\", \"showlakes\": true, \"showland\": true, \"subunitcolor\": \"white\"}, \"hoverlabel\": {\"align\": \"left\"}, \"hovermode\": \"closest\", \"mapbox\": {\"style\": \"light\"}, \"paper_bgcolor\": \"white\", \"plot_bgcolor\": \"#E5ECF6\", \"polar\": {\"angularaxis\": {\"gridcolor\": \"white\", \"linecolor\": \"white\", \"ticks\": \"\"}, \"bgcolor\": \"#E5ECF6\", \"radialaxis\": {\"gridcolor\": \"white\", \"linecolor\": \"white\", \"ticks\": \"\"}}, \"scene\": {\"xaxis\": {\"backgroundcolor\": \"#E5ECF6\", \"gridcolor\": \"white\", \"gridwidth\": 2, \"linecolor\": \"white\", \"showbackground\": true, \"ticks\": \"\", \"zerolinecolor\": \"white\"}, \"yaxis\": {\"backgroundcolor\": \"#E5ECF6\", \"gridcolor\": \"white\", \"gridwidth\": 2, \"linecolor\": \"white\", \"showbackground\": true, \"ticks\": \"\", \"zerolinecolor\": \"white\"}, \"zaxis\": {\"backgroundcolor\": \"#E5ECF6\", \"gridcolor\": \"white\", \"gridwidth\": 2, \"linecolor\": \"white\", \"showbackground\": true, \"ticks\": \"\", \"zerolinecolor\": \"white\"}}, \"shapedefaults\": {\"line\": {\"color\": \"#2a3f5f\"}}, \"ternary\": {\"aaxis\": {\"gridcolor\": \"white\", \"linecolor\": \"white\", \"ticks\": \"\"}, \"baxis\": {\"gridcolor\": \"white\", \"linecolor\": \"white\", \"ticks\": \"\"}, \"bgcolor\": \"#E5ECF6\", \"caxis\": {\"gridcolor\": \"white\", \"linecolor\": \"white\", \"ticks\": \"\"}}, \"title\": {\"x\": 0.05}, \"xaxis\": {\"automargin\": true, \"gridcolor\": \"white\", \"linecolor\": \"white\", \"ticks\": \"\", \"title\": {\"standoff\": 15}, \"zerolinecolor\": \"white\", \"zerolinewidth\": 2}, \"yaxis\": {\"automargin\": true, \"gridcolor\": \"white\", \"linecolor\": \"white\", \"ticks\": \"\", \"title\": {\"standoff\": 15}, \"zerolinecolor\": \"white\", \"zerolinewidth\": 2}}}, \"title\": {\"text\": \"Shootings by State (People who did not attempt to flee)\"}, \"xaxis\": {\"anchor\": \"y\", \"categoryarray\": [\"AK\", \"AL\", \"AR\", \"AZ\", \"CA\", \"CO\", \"CT\", \"DC\", \"DE\", \"FL\", \"GA\", \"HI\", \"IA\", \"ID\", \"IL\", \"IN\", \"KS\", \"KY\", \"LA\", \"MA\", \"MD\", \"ME\", \"MI\", \"MN\", \"MO\", \"MS\", \"MT\", \"NC\", \"ND\", \"NE\", \"NH\", \"NJ\", \"NM\", \"NV\", \"NY\", \"OH\", \"OK\", \"OR\", \"PA\", \"SC\", \"SD\", \"TN\", \"TX\", \"UT\", \"VA\", \"VT\", \"WA\", \"WI\", \"WV\", \"WY\"], \"categoryorder\": \"array\", \"domain\": [0.0, 1.0], \"title\": {\"text\": \"state\"}}, \"yaxis\": {\"anchor\": \"x\", \"domain\": [0.0, 1.0], \"title\": {\"text\": \"counts\"}}},\n",
       "                        {\"responsive\": true}\n",
       "                    ).then(function(){\n",
       "                            \n",
       "var gd = document.getElementById('b1360517-aecc-449c-8af6-afa52ae1e455');\n",
       "var x = new MutationObserver(function (mutations, observer) {{\n",
       "        var display = window.getComputedStyle(gd).display;\n",
       "        if (!display || display === 'none') {{\n",
       "            console.log([gd, 'removed!']);\n",
       "            Plotly.purge(gd);\n",
       "            observer.disconnect();\n",
       "        }}\n",
       "}});\n",
       "\n",
       "// Listen for the removal of the full notebook cells\n",
       "var notebookContainer = gd.closest('#notebook-container');\n",
       "if (notebookContainer) {{\n",
       "    x.observe(notebookContainer, {childList: true});\n",
       "}}\n",
       "\n",
       "// Listen for the clearing of the current output cell\n",
       "var outputEl = gd.closest('.output');\n",
       "if (outputEl) {{\n",
       "    x.observe(outputEl, {childList: true});\n",
       "}}\n",
       "\n",
       "                        })\n",
       "                };\n",
       "                });\n",
       "            </script>\n",
       "        </div>"
      ]
     },
     "metadata": {},
     "output_type": "display_data"
    }
   ],
   "source": [
    "Fig = px.bar(data,x = 'state',y='counts',title = 'Shootings by State (People who did not attempt to flee)',color = 'state')\n",
    "Fig.show()"
   ]
  },
  {
   "cell_type": "code",
   "execution_count": 125,
   "metadata": {},
   "outputs": [
    {
     "data": {
      "application/vnd.plotly.v1+json": {
       "config": {
        "plotlyServerURL": "https://plot.ly"
       },
       "data": [
        {
         "alignmentgroup": "True",
         "hovertemplate": "gender=%{x}<br>counts=%{y}<extra></extra>",
         "legendgroup": "",
         "marker": {
          "color": "#636efa"
         },
         "name": "",
         "offsetgroup": "",
         "orientation": "v",
         "showlegend": false,
         "textposition": "auto",
         "type": "bar",
         "x": [
          "F",
          "M"
         ],
         "xaxis": "x",
         "y": [
          156,
          2917
         ],
         "yaxis": "y"
        }
       ],
       "layout": {
        "barmode": "relative",
        "legend": {
         "tracegroupgap": 0
        },
        "template": {
         "data": {
          "bar": [
           {
            "error_x": {
             "color": "#2a3f5f"
            },
            "error_y": {
             "color": "#2a3f5f"
            },
            "marker": {
             "line": {
              "color": "#E5ECF6",
              "width": 0.5
             }
            },
            "type": "bar"
           }
          ],
          "barpolar": [
           {
            "marker": {
             "line": {
              "color": "#E5ECF6",
              "width": 0.5
             }
            },
            "type": "barpolar"
           }
          ],
          "carpet": [
           {
            "aaxis": {
             "endlinecolor": "#2a3f5f",
             "gridcolor": "white",
             "linecolor": "white",
             "minorgridcolor": "white",
             "startlinecolor": "#2a3f5f"
            },
            "baxis": {
             "endlinecolor": "#2a3f5f",
             "gridcolor": "white",
             "linecolor": "white",
             "minorgridcolor": "white",
             "startlinecolor": "#2a3f5f"
            },
            "type": "carpet"
           }
          ],
          "choropleth": [
           {
            "colorbar": {
             "outlinewidth": 0,
             "ticks": ""
            },
            "type": "choropleth"
           }
          ],
          "contour": [
           {
            "colorbar": {
             "outlinewidth": 0,
             "ticks": ""
            },
            "colorscale": [
             [
              0,
              "#0d0887"
             ],
             [
              0.1111111111111111,
              "#46039f"
             ],
             [
              0.2222222222222222,
              "#7201a8"
             ],
             [
              0.3333333333333333,
              "#9c179e"
             ],
             [
              0.4444444444444444,
              "#bd3786"
             ],
             [
              0.5555555555555556,
              "#d8576b"
             ],
             [
              0.6666666666666666,
              "#ed7953"
             ],
             [
              0.7777777777777778,
              "#fb9f3a"
             ],
             [
              0.8888888888888888,
              "#fdca26"
             ],
             [
              1,
              "#f0f921"
             ]
            ],
            "type": "contour"
           }
          ],
          "contourcarpet": [
           {
            "colorbar": {
             "outlinewidth": 0,
             "ticks": ""
            },
            "type": "contourcarpet"
           }
          ],
          "heatmap": [
           {
            "colorbar": {
             "outlinewidth": 0,
             "ticks": ""
            },
            "colorscale": [
             [
              0,
              "#0d0887"
             ],
             [
              0.1111111111111111,
              "#46039f"
             ],
             [
              0.2222222222222222,
              "#7201a8"
             ],
             [
              0.3333333333333333,
              "#9c179e"
             ],
             [
              0.4444444444444444,
              "#bd3786"
             ],
             [
              0.5555555555555556,
              "#d8576b"
             ],
             [
              0.6666666666666666,
              "#ed7953"
             ],
             [
              0.7777777777777778,
              "#fb9f3a"
             ],
             [
              0.8888888888888888,
              "#fdca26"
             ],
             [
              1,
              "#f0f921"
             ]
            ],
            "type": "heatmap"
           }
          ],
          "heatmapgl": [
           {
            "colorbar": {
             "outlinewidth": 0,
             "ticks": ""
            },
            "colorscale": [
             [
              0,
              "#0d0887"
             ],
             [
              0.1111111111111111,
              "#46039f"
             ],
             [
              0.2222222222222222,
              "#7201a8"
             ],
             [
              0.3333333333333333,
              "#9c179e"
             ],
             [
              0.4444444444444444,
              "#bd3786"
             ],
             [
              0.5555555555555556,
              "#d8576b"
             ],
             [
              0.6666666666666666,
              "#ed7953"
             ],
             [
              0.7777777777777778,
              "#fb9f3a"
             ],
             [
              0.8888888888888888,
              "#fdca26"
             ],
             [
              1,
              "#f0f921"
             ]
            ],
            "type": "heatmapgl"
           }
          ],
          "histogram": [
           {
            "marker": {
             "colorbar": {
              "outlinewidth": 0,
              "ticks": ""
             }
            },
            "type": "histogram"
           }
          ],
          "histogram2d": [
           {
            "colorbar": {
             "outlinewidth": 0,
             "ticks": ""
            },
            "colorscale": [
             [
              0,
              "#0d0887"
             ],
             [
              0.1111111111111111,
              "#46039f"
             ],
             [
              0.2222222222222222,
              "#7201a8"
             ],
             [
              0.3333333333333333,
              "#9c179e"
             ],
             [
              0.4444444444444444,
              "#bd3786"
             ],
             [
              0.5555555555555556,
              "#d8576b"
             ],
             [
              0.6666666666666666,
              "#ed7953"
             ],
             [
              0.7777777777777778,
              "#fb9f3a"
             ],
             [
              0.8888888888888888,
              "#fdca26"
             ],
             [
              1,
              "#f0f921"
             ]
            ],
            "type": "histogram2d"
           }
          ],
          "histogram2dcontour": [
           {
            "colorbar": {
             "outlinewidth": 0,
             "ticks": ""
            },
            "colorscale": [
             [
              0,
              "#0d0887"
             ],
             [
              0.1111111111111111,
              "#46039f"
             ],
             [
              0.2222222222222222,
              "#7201a8"
             ],
             [
              0.3333333333333333,
              "#9c179e"
             ],
             [
              0.4444444444444444,
              "#bd3786"
             ],
             [
              0.5555555555555556,
              "#d8576b"
             ],
             [
              0.6666666666666666,
              "#ed7953"
             ],
             [
              0.7777777777777778,
              "#fb9f3a"
             ],
             [
              0.8888888888888888,
              "#fdca26"
             ],
             [
              1,
              "#f0f921"
             ]
            ],
            "type": "histogram2dcontour"
           }
          ],
          "mesh3d": [
           {
            "colorbar": {
             "outlinewidth": 0,
             "ticks": ""
            },
            "type": "mesh3d"
           }
          ],
          "parcoords": [
           {
            "line": {
             "colorbar": {
              "outlinewidth": 0,
              "ticks": ""
             }
            },
            "type": "parcoords"
           }
          ],
          "pie": [
           {
            "automargin": true,
            "type": "pie"
           }
          ],
          "scatter": [
           {
            "marker": {
             "colorbar": {
              "outlinewidth": 0,
              "ticks": ""
             }
            },
            "type": "scatter"
           }
          ],
          "scatter3d": [
           {
            "line": {
             "colorbar": {
              "outlinewidth": 0,
              "ticks": ""
             }
            },
            "marker": {
             "colorbar": {
              "outlinewidth": 0,
              "ticks": ""
             }
            },
            "type": "scatter3d"
           }
          ],
          "scattercarpet": [
           {
            "marker": {
             "colorbar": {
              "outlinewidth": 0,
              "ticks": ""
             }
            },
            "type": "scattercarpet"
           }
          ],
          "scattergeo": [
           {
            "marker": {
             "colorbar": {
              "outlinewidth": 0,
              "ticks": ""
             }
            },
            "type": "scattergeo"
           }
          ],
          "scattergl": [
           {
            "marker": {
             "colorbar": {
              "outlinewidth": 0,
              "ticks": ""
             }
            },
            "type": "scattergl"
           }
          ],
          "scattermapbox": [
           {
            "marker": {
             "colorbar": {
              "outlinewidth": 0,
              "ticks": ""
             }
            },
            "type": "scattermapbox"
           }
          ],
          "scatterpolar": [
           {
            "marker": {
             "colorbar": {
              "outlinewidth": 0,
              "ticks": ""
             }
            },
            "type": "scatterpolar"
           }
          ],
          "scatterpolargl": [
           {
            "marker": {
             "colorbar": {
              "outlinewidth": 0,
              "ticks": ""
             }
            },
            "type": "scatterpolargl"
           }
          ],
          "scatterternary": [
           {
            "marker": {
             "colorbar": {
              "outlinewidth": 0,
              "ticks": ""
             }
            },
            "type": "scatterternary"
           }
          ],
          "surface": [
           {
            "colorbar": {
             "outlinewidth": 0,
             "ticks": ""
            },
            "colorscale": [
             [
              0,
              "#0d0887"
             ],
             [
              0.1111111111111111,
              "#46039f"
             ],
             [
              0.2222222222222222,
              "#7201a8"
             ],
             [
              0.3333333333333333,
              "#9c179e"
             ],
             [
              0.4444444444444444,
              "#bd3786"
             ],
             [
              0.5555555555555556,
              "#d8576b"
             ],
             [
              0.6666666666666666,
              "#ed7953"
             ],
             [
              0.7777777777777778,
              "#fb9f3a"
             ],
             [
              0.8888888888888888,
              "#fdca26"
             ],
             [
              1,
              "#f0f921"
             ]
            ],
            "type": "surface"
           }
          ],
          "table": [
           {
            "cells": {
             "fill": {
              "color": "#EBF0F8"
             },
             "line": {
              "color": "white"
             }
            },
            "header": {
             "fill": {
              "color": "#C8D4E3"
             },
             "line": {
              "color": "white"
             }
            },
            "type": "table"
           }
          ]
         },
         "layout": {
          "annotationdefaults": {
           "arrowcolor": "#2a3f5f",
           "arrowhead": 0,
           "arrowwidth": 1
          },
          "coloraxis": {
           "colorbar": {
            "outlinewidth": 0,
            "ticks": ""
           }
          },
          "colorscale": {
           "diverging": [
            [
             0,
             "#8e0152"
            ],
            [
             0.1,
             "#c51b7d"
            ],
            [
             0.2,
             "#de77ae"
            ],
            [
             0.3,
             "#f1b6da"
            ],
            [
             0.4,
             "#fde0ef"
            ],
            [
             0.5,
             "#f7f7f7"
            ],
            [
             0.6,
             "#e6f5d0"
            ],
            [
             0.7,
             "#b8e186"
            ],
            [
             0.8,
             "#7fbc41"
            ],
            [
             0.9,
             "#4d9221"
            ],
            [
             1,
             "#276419"
            ]
           ],
           "sequential": [
            [
             0,
             "#0d0887"
            ],
            [
             0.1111111111111111,
             "#46039f"
            ],
            [
             0.2222222222222222,
             "#7201a8"
            ],
            [
             0.3333333333333333,
             "#9c179e"
            ],
            [
             0.4444444444444444,
             "#bd3786"
            ],
            [
             0.5555555555555556,
             "#d8576b"
            ],
            [
             0.6666666666666666,
             "#ed7953"
            ],
            [
             0.7777777777777778,
             "#fb9f3a"
            ],
            [
             0.8888888888888888,
             "#fdca26"
            ],
            [
             1,
             "#f0f921"
            ]
           ],
           "sequentialminus": [
            [
             0,
             "#0d0887"
            ],
            [
             0.1111111111111111,
             "#46039f"
            ],
            [
             0.2222222222222222,
             "#7201a8"
            ],
            [
             0.3333333333333333,
             "#9c179e"
            ],
            [
             0.4444444444444444,
             "#bd3786"
            ],
            [
             0.5555555555555556,
             "#d8576b"
            ],
            [
             0.6666666666666666,
             "#ed7953"
            ],
            [
             0.7777777777777778,
             "#fb9f3a"
            ],
            [
             0.8888888888888888,
             "#fdca26"
            ],
            [
             1,
             "#f0f921"
            ]
           ]
          },
          "colorway": [
           "#636efa",
           "#EF553B",
           "#00cc96",
           "#ab63fa",
           "#FFA15A",
           "#19d3f3",
           "#FF6692",
           "#B6E880",
           "#FF97FF",
           "#FECB52"
          ],
          "font": {
           "color": "#2a3f5f"
          },
          "geo": {
           "bgcolor": "white",
           "lakecolor": "white",
           "landcolor": "#E5ECF6",
           "showlakes": true,
           "showland": true,
           "subunitcolor": "white"
          },
          "hoverlabel": {
           "align": "left"
          },
          "hovermode": "closest",
          "mapbox": {
           "style": "light"
          },
          "paper_bgcolor": "white",
          "plot_bgcolor": "#E5ECF6",
          "polar": {
           "angularaxis": {
            "gridcolor": "white",
            "linecolor": "white",
            "ticks": ""
           },
           "bgcolor": "#E5ECF6",
           "radialaxis": {
            "gridcolor": "white",
            "linecolor": "white",
            "ticks": ""
           }
          },
          "scene": {
           "xaxis": {
            "backgroundcolor": "#E5ECF6",
            "gridcolor": "white",
            "gridwidth": 2,
            "linecolor": "white",
            "showbackground": true,
            "ticks": "",
            "zerolinecolor": "white"
           },
           "yaxis": {
            "backgroundcolor": "#E5ECF6",
            "gridcolor": "white",
            "gridwidth": 2,
            "linecolor": "white",
            "showbackground": true,
            "ticks": "",
            "zerolinecolor": "white"
           },
           "zaxis": {
            "backgroundcolor": "#E5ECF6",
            "gridcolor": "white",
            "gridwidth": 2,
            "linecolor": "white",
            "showbackground": true,
            "ticks": "",
            "zerolinecolor": "white"
           }
          },
          "shapedefaults": {
           "line": {
            "color": "#2a3f5f"
           }
          },
          "ternary": {
           "aaxis": {
            "gridcolor": "white",
            "linecolor": "white",
            "ticks": ""
           },
           "baxis": {
            "gridcolor": "white",
            "linecolor": "white",
            "ticks": ""
           },
           "bgcolor": "#E5ECF6",
           "caxis": {
            "gridcolor": "white",
            "linecolor": "white",
            "ticks": ""
           }
          },
          "title": {
           "x": 0.05
          },
          "xaxis": {
           "automargin": true,
           "gridcolor": "white",
           "linecolor": "white",
           "ticks": "",
           "title": {
            "standoff": 15
           },
           "zerolinecolor": "white",
           "zerolinewidth": 2
          },
          "yaxis": {
           "automargin": true,
           "gridcolor": "white",
           "linecolor": "white",
           "ticks": "",
           "title": {
            "standoff": 15
           },
           "zerolinecolor": "white",
           "zerolinewidth": 2
          }
         }
        },
        "title": {
         "text": "By Gender"
        },
        "xaxis": {
         "anchor": "y",
         "domain": [
          0,
          1
         ],
         "title": {
          "text": "gender"
         }
        },
        "yaxis": {
         "anchor": "x",
         "domain": [
          0,
          1
         ],
         "title": {
          "text": "counts"
         }
        }
       }
      },
      "text/html": [
       "<div>\n",
       "        \n",
       "        \n",
       "            <div id=\"1275692a-13c2-4881-bd85-1376da5f5498\" class=\"plotly-graph-div\" style=\"height:525px; width:100%;\"></div>\n",
       "            <script type=\"text/javascript\">\n",
       "                require([\"plotly\"], function(Plotly) {\n",
       "                    window.PLOTLYENV=window.PLOTLYENV || {};\n",
       "                    \n",
       "                if (document.getElementById(\"1275692a-13c2-4881-bd85-1376da5f5498\")) {\n",
       "                    Plotly.newPlot(\n",
       "                        '1275692a-13c2-4881-bd85-1376da5f5498',\n",
       "                        [{\"alignmentgroup\": \"True\", \"hovertemplate\": \"gender=%{x}<br>counts=%{y}<extra></extra>\", \"legendgroup\": \"\", \"marker\": {\"color\": \"#636efa\"}, \"name\": \"\", \"offsetgroup\": \"\", \"orientation\": \"v\", \"showlegend\": false, \"textposition\": \"auto\", \"type\": \"bar\", \"x\": [\"F\", \"M\"], \"xaxis\": \"x\", \"y\": [156, 2917], \"yaxis\": \"y\"}],\n",
       "                        {\"barmode\": \"relative\", \"legend\": {\"tracegroupgap\": 0}, \"template\": {\"data\": {\"bar\": [{\"error_x\": {\"color\": \"#2a3f5f\"}, \"error_y\": {\"color\": \"#2a3f5f\"}, \"marker\": {\"line\": {\"color\": \"#E5ECF6\", \"width\": 0.5}}, \"type\": \"bar\"}], \"barpolar\": [{\"marker\": {\"line\": {\"color\": \"#E5ECF6\", \"width\": 0.5}}, \"type\": \"barpolar\"}], \"carpet\": [{\"aaxis\": {\"endlinecolor\": \"#2a3f5f\", \"gridcolor\": \"white\", \"linecolor\": \"white\", \"minorgridcolor\": \"white\", \"startlinecolor\": \"#2a3f5f\"}, \"baxis\": {\"endlinecolor\": \"#2a3f5f\", \"gridcolor\": \"white\", \"linecolor\": \"white\", \"minorgridcolor\": \"white\", \"startlinecolor\": \"#2a3f5f\"}, \"type\": \"carpet\"}], \"choropleth\": [{\"colorbar\": {\"outlinewidth\": 0, \"ticks\": \"\"}, \"type\": \"choropleth\"}], \"contour\": [{\"colorbar\": {\"outlinewidth\": 0, \"ticks\": \"\"}, \"colorscale\": [[0.0, \"#0d0887\"], [0.1111111111111111, \"#46039f\"], [0.2222222222222222, \"#7201a8\"], [0.3333333333333333, \"#9c179e\"], [0.4444444444444444, \"#bd3786\"], [0.5555555555555556, \"#d8576b\"], [0.6666666666666666, \"#ed7953\"], [0.7777777777777778, \"#fb9f3a\"], [0.8888888888888888, \"#fdca26\"], [1.0, \"#f0f921\"]], \"type\": \"contour\"}], \"contourcarpet\": [{\"colorbar\": {\"outlinewidth\": 0, \"ticks\": \"\"}, \"type\": \"contourcarpet\"}], \"heatmap\": [{\"colorbar\": {\"outlinewidth\": 0, \"ticks\": \"\"}, \"colorscale\": [[0.0, \"#0d0887\"], [0.1111111111111111, \"#46039f\"], [0.2222222222222222, \"#7201a8\"], [0.3333333333333333, \"#9c179e\"], [0.4444444444444444, \"#bd3786\"], [0.5555555555555556, \"#d8576b\"], [0.6666666666666666, \"#ed7953\"], [0.7777777777777778, \"#fb9f3a\"], [0.8888888888888888, \"#fdca26\"], [1.0, \"#f0f921\"]], \"type\": \"heatmap\"}], \"heatmapgl\": [{\"colorbar\": {\"outlinewidth\": 0, \"ticks\": \"\"}, \"colorscale\": [[0.0, \"#0d0887\"], [0.1111111111111111, \"#46039f\"], [0.2222222222222222, \"#7201a8\"], [0.3333333333333333, \"#9c179e\"], [0.4444444444444444, \"#bd3786\"], [0.5555555555555556, \"#d8576b\"], [0.6666666666666666, \"#ed7953\"], [0.7777777777777778, \"#fb9f3a\"], [0.8888888888888888, \"#fdca26\"], [1.0, \"#f0f921\"]], \"type\": \"heatmapgl\"}], \"histogram\": [{\"marker\": {\"colorbar\": {\"outlinewidth\": 0, \"ticks\": \"\"}}, \"type\": \"histogram\"}], \"histogram2d\": [{\"colorbar\": {\"outlinewidth\": 0, \"ticks\": \"\"}, \"colorscale\": [[0.0, \"#0d0887\"], [0.1111111111111111, \"#46039f\"], [0.2222222222222222, \"#7201a8\"], [0.3333333333333333, \"#9c179e\"], [0.4444444444444444, \"#bd3786\"], [0.5555555555555556, \"#d8576b\"], [0.6666666666666666, \"#ed7953\"], [0.7777777777777778, \"#fb9f3a\"], [0.8888888888888888, \"#fdca26\"], [1.0, \"#f0f921\"]], \"type\": \"histogram2d\"}], \"histogram2dcontour\": [{\"colorbar\": {\"outlinewidth\": 0, \"ticks\": \"\"}, \"colorscale\": [[0.0, \"#0d0887\"], [0.1111111111111111, \"#46039f\"], [0.2222222222222222, \"#7201a8\"], [0.3333333333333333, \"#9c179e\"], [0.4444444444444444, \"#bd3786\"], [0.5555555555555556, \"#d8576b\"], [0.6666666666666666, \"#ed7953\"], [0.7777777777777778, \"#fb9f3a\"], [0.8888888888888888, \"#fdca26\"], [1.0, \"#f0f921\"]], \"type\": \"histogram2dcontour\"}], \"mesh3d\": [{\"colorbar\": {\"outlinewidth\": 0, \"ticks\": \"\"}, \"type\": \"mesh3d\"}], \"parcoords\": [{\"line\": {\"colorbar\": {\"outlinewidth\": 0, \"ticks\": \"\"}}, \"type\": \"parcoords\"}], \"pie\": [{\"automargin\": true, \"type\": \"pie\"}], \"scatter\": [{\"marker\": {\"colorbar\": {\"outlinewidth\": 0, \"ticks\": \"\"}}, \"type\": \"scatter\"}], \"scatter3d\": [{\"line\": {\"colorbar\": {\"outlinewidth\": 0, \"ticks\": \"\"}}, \"marker\": {\"colorbar\": {\"outlinewidth\": 0, \"ticks\": \"\"}}, \"type\": \"scatter3d\"}], \"scattercarpet\": [{\"marker\": {\"colorbar\": {\"outlinewidth\": 0, \"ticks\": \"\"}}, \"type\": \"scattercarpet\"}], \"scattergeo\": [{\"marker\": {\"colorbar\": {\"outlinewidth\": 0, \"ticks\": \"\"}}, \"type\": \"scattergeo\"}], \"scattergl\": [{\"marker\": {\"colorbar\": {\"outlinewidth\": 0, \"ticks\": \"\"}}, \"type\": \"scattergl\"}], \"scattermapbox\": [{\"marker\": {\"colorbar\": {\"outlinewidth\": 0, \"ticks\": \"\"}}, \"type\": \"scattermapbox\"}], \"scatterpolar\": [{\"marker\": {\"colorbar\": {\"outlinewidth\": 0, \"ticks\": \"\"}}, \"type\": \"scatterpolar\"}], \"scatterpolargl\": [{\"marker\": {\"colorbar\": {\"outlinewidth\": 0, \"ticks\": \"\"}}, \"type\": \"scatterpolargl\"}], \"scatterternary\": [{\"marker\": {\"colorbar\": {\"outlinewidth\": 0, \"ticks\": \"\"}}, \"type\": \"scatterternary\"}], \"surface\": [{\"colorbar\": {\"outlinewidth\": 0, \"ticks\": \"\"}, \"colorscale\": [[0.0, \"#0d0887\"], [0.1111111111111111, \"#46039f\"], [0.2222222222222222, \"#7201a8\"], [0.3333333333333333, \"#9c179e\"], [0.4444444444444444, \"#bd3786\"], [0.5555555555555556, \"#d8576b\"], [0.6666666666666666, \"#ed7953\"], [0.7777777777777778, \"#fb9f3a\"], [0.8888888888888888, \"#fdca26\"], [1.0, \"#f0f921\"]], \"type\": \"surface\"}], \"table\": [{\"cells\": {\"fill\": {\"color\": \"#EBF0F8\"}, \"line\": {\"color\": \"white\"}}, \"header\": {\"fill\": {\"color\": \"#C8D4E3\"}, \"line\": {\"color\": \"white\"}}, \"type\": \"table\"}]}, \"layout\": {\"annotationdefaults\": {\"arrowcolor\": \"#2a3f5f\", \"arrowhead\": 0, \"arrowwidth\": 1}, \"coloraxis\": {\"colorbar\": {\"outlinewidth\": 0, \"ticks\": \"\"}}, \"colorscale\": {\"diverging\": [[0, \"#8e0152\"], [0.1, \"#c51b7d\"], [0.2, \"#de77ae\"], [0.3, \"#f1b6da\"], [0.4, \"#fde0ef\"], [0.5, \"#f7f7f7\"], [0.6, \"#e6f5d0\"], [0.7, \"#b8e186\"], [0.8, \"#7fbc41\"], [0.9, \"#4d9221\"], [1, \"#276419\"]], \"sequential\": [[0.0, \"#0d0887\"], [0.1111111111111111, \"#46039f\"], [0.2222222222222222, \"#7201a8\"], [0.3333333333333333, \"#9c179e\"], [0.4444444444444444, \"#bd3786\"], [0.5555555555555556, \"#d8576b\"], [0.6666666666666666, \"#ed7953\"], [0.7777777777777778, \"#fb9f3a\"], [0.8888888888888888, \"#fdca26\"], [1.0, \"#f0f921\"]], \"sequentialminus\": [[0.0, \"#0d0887\"], [0.1111111111111111, \"#46039f\"], [0.2222222222222222, \"#7201a8\"], [0.3333333333333333, \"#9c179e\"], [0.4444444444444444, \"#bd3786\"], [0.5555555555555556, \"#d8576b\"], [0.6666666666666666, \"#ed7953\"], [0.7777777777777778, \"#fb9f3a\"], [0.8888888888888888, \"#fdca26\"], [1.0, \"#f0f921\"]]}, \"colorway\": [\"#636efa\", \"#EF553B\", \"#00cc96\", \"#ab63fa\", \"#FFA15A\", \"#19d3f3\", \"#FF6692\", \"#B6E880\", \"#FF97FF\", \"#FECB52\"], \"font\": {\"color\": \"#2a3f5f\"}, \"geo\": {\"bgcolor\": \"white\", \"lakecolor\": \"white\", \"landcolor\": \"#E5ECF6\", \"showlakes\": true, \"showland\": true, \"subunitcolor\": \"white\"}, \"hoverlabel\": {\"align\": \"left\"}, \"hovermode\": \"closest\", \"mapbox\": {\"style\": \"light\"}, \"paper_bgcolor\": \"white\", \"plot_bgcolor\": \"#E5ECF6\", \"polar\": {\"angularaxis\": {\"gridcolor\": \"white\", \"linecolor\": \"white\", \"ticks\": \"\"}, \"bgcolor\": \"#E5ECF6\", \"radialaxis\": {\"gridcolor\": \"white\", \"linecolor\": \"white\", \"ticks\": \"\"}}, \"scene\": {\"xaxis\": {\"backgroundcolor\": \"#E5ECF6\", \"gridcolor\": \"white\", \"gridwidth\": 2, \"linecolor\": \"white\", \"showbackground\": true, \"ticks\": \"\", \"zerolinecolor\": \"white\"}, \"yaxis\": {\"backgroundcolor\": \"#E5ECF6\", \"gridcolor\": \"white\", \"gridwidth\": 2, \"linecolor\": \"white\", \"showbackground\": true, \"ticks\": \"\", \"zerolinecolor\": \"white\"}, \"zaxis\": {\"backgroundcolor\": \"#E5ECF6\", \"gridcolor\": \"white\", \"gridwidth\": 2, \"linecolor\": \"white\", \"showbackground\": true, \"ticks\": \"\", \"zerolinecolor\": \"white\"}}, \"shapedefaults\": {\"line\": {\"color\": \"#2a3f5f\"}}, \"ternary\": {\"aaxis\": {\"gridcolor\": \"white\", \"linecolor\": \"white\", \"ticks\": \"\"}, \"baxis\": {\"gridcolor\": \"white\", \"linecolor\": \"white\", \"ticks\": \"\"}, \"bgcolor\": \"#E5ECF6\", \"caxis\": {\"gridcolor\": \"white\", \"linecolor\": \"white\", \"ticks\": \"\"}}, \"title\": {\"x\": 0.05}, \"xaxis\": {\"automargin\": true, \"gridcolor\": \"white\", \"linecolor\": \"white\", \"ticks\": \"\", \"title\": {\"standoff\": 15}, \"zerolinecolor\": \"white\", \"zerolinewidth\": 2}, \"yaxis\": {\"automargin\": true, \"gridcolor\": \"white\", \"linecolor\": \"white\", \"ticks\": \"\", \"title\": {\"standoff\": 15}, \"zerolinecolor\": \"white\", \"zerolinewidth\": 2}}}, \"title\": {\"text\": \"By Gender\"}, \"xaxis\": {\"anchor\": \"y\", \"domain\": [0.0, 1.0], \"title\": {\"text\": \"gender\"}}, \"yaxis\": {\"anchor\": \"x\", \"domain\": [0.0, 1.0], \"title\": {\"text\": \"counts\"}}},\n",
       "                        {\"responsive\": true}\n",
       "                    ).then(function(){\n",
       "                            \n",
       "var gd = document.getElementById('1275692a-13c2-4881-bd85-1376da5f5498');\n",
       "var x = new MutationObserver(function (mutations, observer) {{\n",
       "        var display = window.getComputedStyle(gd).display;\n",
       "        if (!display || display === 'none') {{\n",
       "            console.log([gd, 'removed!']);\n",
       "            Plotly.purge(gd);\n",
       "            observer.disconnect();\n",
       "        }}\n",
       "}});\n",
       "\n",
       "// Listen for the removal of the full notebook cells\n",
       "var notebookContainer = gd.closest('#notebook-container');\n",
       "if (notebookContainer) {{\n",
       "    x.observe(notebookContainer, {childList: true});\n",
       "}}\n",
       "\n",
       "// Listen for the clearing of the current output cell\n",
       "var outputEl = gd.closest('.output');\n",
       "if (outputEl) {{\n",
       "    x.observe(outputEl, {childList: true});\n",
       "}}\n",
       "\n",
       "                        })\n",
       "                };\n",
       "                });\n",
       "            </script>\n",
       "        </div>"
      ]
     },
     "metadata": {},
     "output_type": "display_data"
    }
   ],
   "source": [
    "gender = Innocent_data.groupby('gender')['name'].count().reset_index()\n",
    "gender.columns = ['gender','counts']\n",
    "plot = px.bar(gender, x='gender',y = 'counts',title = 'By Gender')\n",
    "plot.show()"
   ]
  },
  {
   "cell_type": "code",
   "execution_count": 132,
   "metadata": {},
   "outputs": [
    {
     "data": {
      "application/vnd.plotly.v1+json": {
       "config": {
        "plotlyServerURL": "https://plot.ly"
       },
       "data": [
        {
         "hovertemplate": "month_year=%{x}<br>count=%{y}<extra></extra>",
         "legendgroup": "",
         "line": {
          "color": "#636efa",
          "dash": "solid"
         },
         "mode": "lines",
         "name": "",
         "orientation": "v",
         "showlegend": false,
         "type": "scatter",
         "x": [
          "2015-01",
          "2015-02",
          "2015-03",
          "2015-04",
          "2015-05",
          "2015-06",
          "2015-07",
          "2015-08",
          "2015-09",
          "2015-10",
          "2015-11",
          "2015-12",
          "2016-01",
          "2016-02",
          "2016-03",
          "2016-04",
          "2016-05",
          "2016-06",
          "2016-07",
          "2016-08",
          "2016-09",
          "2016-10",
          "2016-11",
          "2016-12",
          "2017-01",
          "2017-02",
          "2017-03",
          "2017-04",
          "2017-05",
          "2017-06",
          "2017-07",
          "2017-08",
          "2017-09",
          "2017-10",
          "2017-11",
          "2017-12",
          "2018-01",
          "2018-02",
          "2018-03",
          "2018-04",
          "2018-05",
          "2018-06",
          "2018-07",
          "2018-08",
          "2018-09",
          "2018-10",
          "2018-11",
          "2018-12",
          "2019-01",
          "2019-02",
          "2019-03",
          "2019-04",
          "2019-05",
          "2019-06",
          "2019-07",
          "2019-08",
          "2019-09",
          "2019-10",
          "2019-11",
          "2019-12",
          "2020-01",
          "2020-02",
          "2020-03",
          "2020-04",
          "2020-05"
         ],
         "xaxis": "x",
         "y": [
          75,
          77,
          91,
          83,
          69,
          63,
          100,
          91,
          80,
          78,
          76,
          82,
          80,
          85,
          90,
          73,
          69,
          87,
          71,
          77,
          73,
          71,
          68,
          60,
          91,
          97,
          74,
          65,
          68,
          80,
          91,
          78,
          66,
          81,
          76,
          39,
          96,
          74,
          99,
          88,
          70,
          70,
          82,
          68,
          50,
          64,
          63,
          64,
          81,
          68,
          76,
          63,
          64,
          77,
          69,
          57,
          59,
          73,
          71,
          100,
          82,
          61,
          73,
          58,
          78
         ],
         "yaxis": "y"
        }
       ],
       "layout": {
        "legend": {
         "tracegroupgap": 0
        },
        "template": {
         "data": {
          "bar": [
           {
            "error_x": {
             "color": "#2a3f5f"
            },
            "error_y": {
             "color": "#2a3f5f"
            },
            "marker": {
             "line": {
              "color": "#E5ECF6",
              "width": 0.5
             }
            },
            "type": "bar"
           }
          ],
          "barpolar": [
           {
            "marker": {
             "line": {
              "color": "#E5ECF6",
              "width": 0.5
             }
            },
            "type": "barpolar"
           }
          ],
          "carpet": [
           {
            "aaxis": {
             "endlinecolor": "#2a3f5f",
             "gridcolor": "white",
             "linecolor": "white",
             "minorgridcolor": "white",
             "startlinecolor": "#2a3f5f"
            },
            "baxis": {
             "endlinecolor": "#2a3f5f",
             "gridcolor": "white",
             "linecolor": "white",
             "minorgridcolor": "white",
             "startlinecolor": "#2a3f5f"
            },
            "type": "carpet"
           }
          ],
          "choropleth": [
           {
            "colorbar": {
             "outlinewidth": 0,
             "ticks": ""
            },
            "type": "choropleth"
           }
          ],
          "contour": [
           {
            "colorbar": {
             "outlinewidth": 0,
             "ticks": ""
            },
            "colorscale": [
             [
              0,
              "#0d0887"
             ],
             [
              0.1111111111111111,
              "#46039f"
             ],
             [
              0.2222222222222222,
              "#7201a8"
             ],
             [
              0.3333333333333333,
              "#9c179e"
             ],
             [
              0.4444444444444444,
              "#bd3786"
             ],
             [
              0.5555555555555556,
              "#d8576b"
             ],
             [
              0.6666666666666666,
              "#ed7953"
             ],
             [
              0.7777777777777778,
              "#fb9f3a"
             ],
             [
              0.8888888888888888,
              "#fdca26"
             ],
             [
              1,
              "#f0f921"
             ]
            ],
            "type": "contour"
           }
          ],
          "contourcarpet": [
           {
            "colorbar": {
             "outlinewidth": 0,
             "ticks": ""
            },
            "type": "contourcarpet"
           }
          ],
          "heatmap": [
           {
            "colorbar": {
             "outlinewidth": 0,
             "ticks": ""
            },
            "colorscale": [
             [
              0,
              "#0d0887"
             ],
             [
              0.1111111111111111,
              "#46039f"
             ],
             [
              0.2222222222222222,
              "#7201a8"
             ],
             [
              0.3333333333333333,
              "#9c179e"
             ],
             [
              0.4444444444444444,
              "#bd3786"
             ],
             [
              0.5555555555555556,
              "#d8576b"
             ],
             [
              0.6666666666666666,
              "#ed7953"
             ],
             [
              0.7777777777777778,
              "#fb9f3a"
             ],
             [
              0.8888888888888888,
              "#fdca26"
             ],
             [
              1,
              "#f0f921"
             ]
            ],
            "type": "heatmap"
           }
          ],
          "heatmapgl": [
           {
            "colorbar": {
             "outlinewidth": 0,
             "ticks": ""
            },
            "colorscale": [
             [
              0,
              "#0d0887"
             ],
             [
              0.1111111111111111,
              "#46039f"
             ],
             [
              0.2222222222222222,
              "#7201a8"
             ],
             [
              0.3333333333333333,
              "#9c179e"
             ],
             [
              0.4444444444444444,
              "#bd3786"
             ],
             [
              0.5555555555555556,
              "#d8576b"
             ],
             [
              0.6666666666666666,
              "#ed7953"
             ],
             [
              0.7777777777777778,
              "#fb9f3a"
             ],
             [
              0.8888888888888888,
              "#fdca26"
             ],
             [
              1,
              "#f0f921"
             ]
            ],
            "type": "heatmapgl"
           }
          ],
          "histogram": [
           {
            "marker": {
             "colorbar": {
              "outlinewidth": 0,
              "ticks": ""
             }
            },
            "type": "histogram"
           }
          ],
          "histogram2d": [
           {
            "colorbar": {
             "outlinewidth": 0,
             "ticks": ""
            },
            "colorscale": [
             [
              0,
              "#0d0887"
             ],
             [
              0.1111111111111111,
              "#46039f"
             ],
             [
              0.2222222222222222,
              "#7201a8"
             ],
             [
              0.3333333333333333,
              "#9c179e"
             ],
             [
              0.4444444444444444,
              "#bd3786"
             ],
             [
              0.5555555555555556,
              "#d8576b"
             ],
             [
              0.6666666666666666,
              "#ed7953"
             ],
             [
              0.7777777777777778,
              "#fb9f3a"
             ],
             [
              0.8888888888888888,
              "#fdca26"
             ],
             [
              1,
              "#f0f921"
             ]
            ],
            "type": "histogram2d"
           }
          ],
          "histogram2dcontour": [
           {
            "colorbar": {
             "outlinewidth": 0,
             "ticks": ""
            },
            "colorscale": [
             [
              0,
              "#0d0887"
             ],
             [
              0.1111111111111111,
              "#46039f"
             ],
             [
              0.2222222222222222,
              "#7201a8"
             ],
             [
              0.3333333333333333,
              "#9c179e"
             ],
             [
              0.4444444444444444,
              "#bd3786"
             ],
             [
              0.5555555555555556,
              "#d8576b"
             ],
             [
              0.6666666666666666,
              "#ed7953"
             ],
             [
              0.7777777777777778,
              "#fb9f3a"
             ],
             [
              0.8888888888888888,
              "#fdca26"
             ],
             [
              1,
              "#f0f921"
             ]
            ],
            "type": "histogram2dcontour"
           }
          ],
          "mesh3d": [
           {
            "colorbar": {
             "outlinewidth": 0,
             "ticks": ""
            },
            "type": "mesh3d"
           }
          ],
          "parcoords": [
           {
            "line": {
             "colorbar": {
              "outlinewidth": 0,
              "ticks": ""
             }
            },
            "type": "parcoords"
           }
          ],
          "pie": [
           {
            "automargin": true,
            "type": "pie"
           }
          ],
          "scatter": [
           {
            "marker": {
             "colorbar": {
              "outlinewidth": 0,
              "ticks": ""
             }
            },
            "type": "scatter"
           }
          ],
          "scatter3d": [
           {
            "line": {
             "colorbar": {
              "outlinewidth": 0,
              "ticks": ""
             }
            },
            "marker": {
             "colorbar": {
              "outlinewidth": 0,
              "ticks": ""
             }
            },
            "type": "scatter3d"
           }
          ],
          "scattercarpet": [
           {
            "marker": {
             "colorbar": {
              "outlinewidth": 0,
              "ticks": ""
             }
            },
            "type": "scattercarpet"
           }
          ],
          "scattergeo": [
           {
            "marker": {
             "colorbar": {
              "outlinewidth": 0,
              "ticks": ""
             }
            },
            "type": "scattergeo"
           }
          ],
          "scattergl": [
           {
            "marker": {
             "colorbar": {
              "outlinewidth": 0,
              "ticks": ""
             }
            },
            "type": "scattergl"
           }
          ],
          "scattermapbox": [
           {
            "marker": {
             "colorbar": {
              "outlinewidth": 0,
              "ticks": ""
             }
            },
            "type": "scattermapbox"
           }
          ],
          "scatterpolar": [
           {
            "marker": {
             "colorbar": {
              "outlinewidth": 0,
              "ticks": ""
             }
            },
            "type": "scatterpolar"
           }
          ],
          "scatterpolargl": [
           {
            "marker": {
             "colorbar": {
              "outlinewidth": 0,
              "ticks": ""
             }
            },
            "type": "scatterpolargl"
           }
          ],
          "scatterternary": [
           {
            "marker": {
             "colorbar": {
              "outlinewidth": 0,
              "ticks": ""
             }
            },
            "type": "scatterternary"
           }
          ],
          "surface": [
           {
            "colorbar": {
             "outlinewidth": 0,
             "ticks": ""
            },
            "colorscale": [
             [
              0,
              "#0d0887"
             ],
             [
              0.1111111111111111,
              "#46039f"
             ],
             [
              0.2222222222222222,
              "#7201a8"
             ],
             [
              0.3333333333333333,
              "#9c179e"
             ],
             [
              0.4444444444444444,
              "#bd3786"
             ],
             [
              0.5555555555555556,
              "#d8576b"
             ],
             [
              0.6666666666666666,
              "#ed7953"
             ],
             [
              0.7777777777777778,
              "#fb9f3a"
             ],
             [
              0.8888888888888888,
              "#fdca26"
             ],
             [
              1,
              "#f0f921"
             ]
            ],
            "type": "surface"
           }
          ],
          "table": [
           {
            "cells": {
             "fill": {
              "color": "#EBF0F8"
             },
             "line": {
              "color": "white"
             }
            },
            "header": {
             "fill": {
              "color": "#C8D4E3"
             },
             "line": {
              "color": "white"
             }
            },
            "type": "table"
           }
          ]
         },
         "layout": {
          "annotationdefaults": {
           "arrowcolor": "#2a3f5f",
           "arrowhead": 0,
           "arrowwidth": 1
          },
          "coloraxis": {
           "colorbar": {
            "outlinewidth": 0,
            "ticks": ""
           }
          },
          "colorscale": {
           "diverging": [
            [
             0,
             "#8e0152"
            ],
            [
             0.1,
             "#c51b7d"
            ],
            [
             0.2,
             "#de77ae"
            ],
            [
             0.3,
             "#f1b6da"
            ],
            [
             0.4,
             "#fde0ef"
            ],
            [
             0.5,
             "#f7f7f7"
            ],
            [
             0.6,
             "#e6f5d0"
            ],
            [
             0.7,
             "#b8e186"
            ],
            [
             0.8,
             "#7fbc41"
            ],
            [
             0.9,
             "#4d9221"
            ],
            [
             1,
             "#276419"
            ]
           ],
           "sequential": [
            [
             0,
             "#0d0887"
            ],
            [
             0.1111111111111111,
             "#46039f"
            ],
            [
             0.2222222222222222,
             "#7201a8"
            ],
            [
             0.3333333333333333,
             "#9c179e"
            ],
            [
             0.4444444444444444,
             "#bd3786"
            ],
            [
             0.5555555555555556,
             "#d8576b"
            ],
            [
             0.6666666666666666,
             "#ed7953"
            ],
            [
             0.7777777777777778,
             "#fb9f3a"
            ],
            [
             0.8888888888888888,
             "#fdca26"
            ],
            [
             1,
             "#f0f921"
            ]
           ],
           "sequentialminus": [
            [
             0,
             "#0d0887"
            ],
            [
             0.1111111111111111,
             "#46039f"
            ],
            [
             0.2222222222222222,
             "#7201a8"
            ],
            [
             0.3333333333333333,
             "#9c179e"
            ],
            [
             0.4444444444444444,
             "#bd3786"
            ],
            [
             0.5555555555555556,
             "#d8576b"
            ],
            [
             0.6666666666666666,
             "#ed7953"
            ],
            [
             0.7777777777777778,
             "#fb9f3a"
            ],
            [
             0.8888888888888888,
             "#fdca26"
            ],
            [
             1,
             "#f0f921"
            ]
           ]
          },
          "colorway": [
           "#636efa",
           "#EF553B",
           "#00cc96",
           "#ab63fa",
           "#FFA15A",
           "#19d3f3",
           "#FF6692",
           "#B6E880",
           "#FF97FF",
           "#FECB52"
          ],
          "font": {
           "color": "#2a3f5f"
          },
          "geo": {
           "bgcolor": "white",
           "lakecolor": "white",
           "landcolor": "#E5ECF6",
           "showlakes": true,
           "showland": true,
           "subunitcolor": "white"
          },
          "hoverlabel": {
           "align": "left"
          },
          "hovermode": "closest",
          "mapbox": {
           "style": "light"
          },
          "paper_bgcolor": "white",
          "plot_bgcolor": "#E5ECF6",
          "polar": {
           "angularaxis": {
            "gridcolor": "white",
            "linecolor": "white",
            "ticks": ""
           },
           "bgcolor": "#E5ECF6",
           "radialaxis": {
            "gridcolor": "white",
            "linecolor": "white",
            "ticks": ""
           }
          },
          "scene": {
           "xaxis": {
            "backgroundcolor": "#E5ECF6",
            "gridcolor": "white",
            "gridwidth": 2,
            "linecolor": "white",
            "showbackground": true,
            "ticks": "",
            "zerolinecolor": "white"
           },
           "yaxis": {
            "backgroundcolor": "#E5ECF6",
            "gridcolor": "white",
            "gridwidth": 2,
            "linecolor": "white",
            "showbackground": true,
            "ticks": "",
            "zerolinecolor": "white"
           },
           "zaxis": {
            "backgroundcolor": "#E5ECF6",
            "gridcolor": "white",
            "gridwidth": 2,
            "linecolor": "white",
            "showbackground": true,
            "ticks": "",
            "zerolinecolor": "white"
           }
          },
          "shapedefaults": {
           "line": {
            "color": "#2a3f5f"
           }
          },
          "ternary": {
           "aaxis": {
            "gridcolor": "white",
            "linecolor": "white",
            "ticks": ""
           },
           "baxis": {
            "gridcolor": "white",
            "linecolor": "white",
            "ticks": ""
           },
           "bgcolor": "#E5ECF6",
           "caxis": {
            "gridcolor": "white",
            "linecolor": "white",
            "ticks": ""
           }
          },
          "title": {
           "x": 0.05
          },
          "xaxis": {
           "automargin": true,
           "gridcolor": "white",
           "linecolor": "white",
           "ticks": "",
           "title": {
            "standoff": 15
           },
           "zerolinecolor": "white",
           "zerolinewidth": 2
          },
          "yaxis": {
           "automargin": true,
           "gridcolor": "white",
           "linecolor": "white",
           "ticks": "",
           "title": {
            "standoff": 15
           },
           "zerolinecolor": "white",
           "zerolinewidth": 2
          }
         }
        },
        "title": {
         "text": "Deaths month by month"
        },
        "xaxis": {
         "anchor": "y",
         "domain": [
          0,
          1
         ],
         "title": {
          "text": "month_year"
         }
        },
        "yaxis": {
         "anchor": "x",
         "domain": [
          0,
          1
         ],
         "title": {
          "text": "count"
         }
        }
       }
      },
      "text/html": [
       "<div>\n",
       "        \n",
       "        \n",
       "            <div id=\"2b0e6399-bedf-4ea3-a234-c57bb7a8a364\" class=\"plotly-graph-div\" style=\"height:525px; width:100%;\"></div>\n",
       "            <script type=\"text/javascript\">\n",
       "                require([\"plotly\"], function(Plotly) {\n",
       "                    window.PLOTLYENV=window.PLOTLYENV || {};\n",
       "                    \n",
       "                if (document.getElementById(\"2b0e6399-bedf-4ea3-a234-c57bb7a8a364\")) {\n",
       "                    Plotly.newPlot(\n",
       "                        '2b0e6399-bedf-4ea3-a234-c57bb7a8a364',\n",
       "                        [{\"hovertemplate\": \"month_year=%{x}<br>count=%{y}<extra></extra>\", \"legendgroup\": \"\", \"line\": {\"color\": \"#636efa\", \"dash\": \"solid\"}, \"mode\": \"lines\", \"name\": \"\", \"orientation\": \"v\", \"showlegend\": false, \"type\": \"scatter\", \"x\": [\"2015-01\", \"2015-02\", \"2015-03\", \"2015-04\", \"2015-05\", \"2015-06\", \"2015-07\", \"2015-08\", \"2015-09\", \"2015-10\", \"2015-11\", \"2015-12\", \"2016-01\", \"2016-02\", \"2016-03\", \"2016-04\", \"2016-05\", \"2016-06\", \"2016-07\", \"2016-08\", \"2016-09\", \"2016-10\", \"2016-11\", \"2016-12\", \"2017-01\", \"2017-02\", \"2017-03\", \"2017-04\", \"2017-05\", \"2017-06\", \"2017-07\", \"2017-08\", \"2017-09\", \"2017-10\", \"2017-11\", \"2017-12\", \"2018-01\", \"2018-02\", \"2018-03\", \"2018-04\", \"2018-05\", \"2018-06\", \"2018-07\", \"2018-08\", \"2018-09\", \"2018-10\", \"2018-11\", \"2018-12\", \"2019-01\", \"2019-02\", \"2019-03\", \"2019-04\", \"2019-05\", \"2019-06\", \"2019-07\", \"2019-08\", \"2019-09\", \"2019-10\", \"2019-11\", \"2019-12\", \"2020-01\", \"2020-02\", \"2020-03\", \"2020-04\", \"2020-05\"], \"xaxis\": \"x\", \"y\": [75, 77, 91, 83, 69, 63, 100, 91, 80, 78, 76, 82, 80, 85, 90, 73, 69, 87, 71, 77, 73, 71, 68, 60, 91, 97, 74, 65, 68, 80, 91, 78, 66, 81, 76, 39, 96, 74, 99, 88, 70, 70, 82, 68, 50, 64, 63, 64, 81, 68, 76, 63, 64, 77, 69, 57, 59, 73, 71, 100, 82, 61, 73, 58, 78], \"yaxis\": \"y\"}],\n",
       "                        {\"legend\": {\"tracegroupgap\": 0}, \"template\": {\"data\": {\"bar\": [{\"error_x\": {\"color\": \"#2a3f5f\"}, \"error_y\": {\"color\": \"#2a3f5f\"}, \"marker\": {\"line\": {\"color\": \"#E5ECF6\", \"width\": 0.5}}, \"type\": \"bar\"}], \"barpolar\": [{\"marker\": {\"line\": {\"color\": \"#E5ECF6\", \"width\": 0.5}}, \"type\": \"barpolar\"}], \"carpet\": [{\"aaxis\": {\"endlinecolor\": \"#2a3f5f\", \"gridcolor\": \"white\", \"linecolor\": \"white\", \"minorgridcolor\": \"white\", \"startlinecolor\": \"#2a3f5f\"}, \"baxis\": {\"endlinecolor\": \"#2a3f5f\", \"gridcolor\": \"white\", \"linecolor\": \"white\", \"minorgridcolor\": \"white\", \"startlinecolor\": \"#2a3f5f\"}, \"type\": \"carpet\"}], \"choropleth\": [{\"colorbar\": {\"outlinewidth\": 0, \"ticks\": \"\"}, \"type\": \"choropleth\"}], \"contour\": [{\"colorbar\": {\"outlinewidth\": 0, \"ticks\": \"\"}, \"colorscale\": [[0.0, \"#0d0887\"], [0.1111111111111111, \"#46039f\"], [0.2222222222222222, \"#7201a8\"], [0.3333333333333333, \"#9c179e\"], [0.4444444444444444, \"#bd3786\"], [0.5555555555555556, \"#d8576b\"], [0.6666666666666666, \"#ed7953\"], [0.7777777777777778, \"#fb9f3a\"], [0.8888888888888888, \"#fdca26\"], [1.0, \"#f0f921\"]], \"type\": \"contour\"}], \"contourcarpet\": [{\"colorbar\": {\"outlinewidth\": 0, \"ticks\": \"\"}, \"type\": \"contourcarpet\"}], \"heatmap\": [{\"colorbar\": {\"outlinewidth\": 0, \"ticks\": \"\"}, \"colorscale\": [[0.0, \"#0d0887\"], [0.1111111111111111, \"#46039f\"], [0.2222222222222222, \"#7201a8\"], [0.3333333333333333, \"#9c179e\"], [0.4444444444444444, \"#bd3786\"], [0.5555555555555556, \"#d8576b\"], [0.6666666666666666, \"#ed7953\"], [0.7777777777777778, \"#fb9f3a\"], [0.8888888888888888, \"#fdca26\"], [1.0, \"#f0f921\"]], \"type\": \"heatmap\"}], \"heatmapgl\": [{\"colorbar\": {\"outlinewidth\": 0, \"ticks\": \"\"}, \"colorscale\": [[0.0, \"#0d0887\"], [0.1111111111111111, \"#46039f\"], [0.2222222222222222, \"#7201a8\"], [0.3333333333333333, \"#9c179e\"], [0.4444444444444444, \"#bd3786\"], [0.5555555555555556, \"#d8576b\"], [0.6666666666666666, \"#ed7953\"], [0.7777777777777778, \"#fb9f3a\"], [0.8888888888888888, \"#fdca26\"], [1.0, \"#f0f921\"]], \"type\": \"heatmapgl\"}], \"histogram\": [{\"marker\": {\"colorbar\": {\"outlinewidth\": 0, \"ticks\": \"\"}}, \"type\": \"histogram\"}], \"histogram2d\": [{\"colorbar\": {\"outlinewidth\": 0, \"ticks\": \"\"}, \"colorscale\": [[0.0, \"#0d0887\"], [0.1111111111111111, \"#46039f\"], [0.2222222222222222, \"#7201a8\"], [0.3333333333333333, \"#9c179e\"], [0.4444444444444444, \"#bd3786\"], [0.5555555555555556, \"#d8576b\"], [0.6666666666666666, \"#ed7953\"], [0.7777777777777778, \"#fb9f3a\"], [0.8888888888888888, \"#fdca26\"], [1.0, \"#f0f921\"]], \"type\": \"histogram2d\"}], \"histogram2dcontour\": [{\"colorbar\": {\"outlinewidth\": 0, \"ticks\": \"\"}, \"colorscale\": [[0.0, \"#0d0887\"], [0.1111111111111111, \"#46039f\"], [0.2222222222222222, \"#7201a8\"], [0.3333333333333333, \"#9c179e\"], [0.4444444444444444, \"#bd3786\"], [0.5555555555555556, \"#d8576b\"], [0.6666666666666666, \"#ed7953\"], [0.7777777777777778, \"#fb9f3a\"], [0.8888888888888888, \"#fdca26\"], [1.0, \"#f0f921\"]], \"type\": \"histogram2dcontour\"}], \"mesh3d\": [{\"colorbar\": {\"outlinewidth\": 0, \"ticks\": \"\"}, \"type\": \"mesh3d\"}], \"parcoords\": [{\"line\": {\"colorbar\": {\"outlinewidth\": 0, \"ticks\": \"\"}}, \"type\": \"parcoords\"}], \"pie\": [{\"automargin\": true, \"type\": \"pie\"}], \"scatter\": [{\"marker\": {\"colorbar\": {\"outlinewidth\": 0, \"ticks\": \"\"}}, \"type\": \"scatter\"}], \"scatter3d\": [{\"line\": {\"colorbar\": {\"outlinewidth\": 0, \"ticks\": \"\"}}, \"marker\": {\"colorbar\": {\"outlinewidth\": 0, \"ticks\": \"\"}}, \"type\": \"scatter3d\"}], \"scattercarpet\": [{\"marker\": {\"colorbar\": {\"outlinewidth\": 0, \"ticks\": \"\"}}, \"type\": \"scattercarpet\"}], \"scattergeo\": [{\"marker\": {\"colorbar\": {\"outlinewidth\": 0, \"ticks\": \"\"}}, \"type\": \"scattergeo\"}], \"scattergl\": [{\"marker\": {\"colorbar\": {\"outlinewidth\": 0, \"ticks\": \"\"}}, \"type\": \"scattergl\"}], \"scattermapbox\": [{\"marker\": {\"colorbar\": {\"outlinewidth\": 0, \"ticks\": \"\"}}, \"type\": \"scattermapbox\"}], \"scatterpolar\": [{\"marker\": {\"colorbar\": {\"outlinewidth\": 0, \"ticks\": \"\"}}, \"type\": \"scatterpolar\"}], \"scatterpolargl\": [{\"marker\": {\"colorbar\": {\"outlinewidth\": 0, \"ticks\": \"\"}}, \"type\": \"scatterpolargl\"}], \"scatterternary\": [{\"marker\": {\"colorbar\": {\"outlinewidth\": 0, \"ticks\": \"\"}}, \"type\": \"scatterternary\"}], \"surface\": [{\"colorbar\": {\"outlinewidth\": 0, \"ticks\": \"\"}, \"colorscale\": [[0.0, \"#0d0887\"], [0.1111111111111111, \"#46039f\"], [0.2222222222222222, \"#7201a8\"], [0.3333333333333333, \"#9c179e\"], [0.4444444444444444, \"#bd3786\"], [0.5555555555555556, \"#d8576b\"], [0.6666666666666666, \"#ed7953\"], [0.7777777777777778, \"#fb9f3a\"], [0.8888888888888888, \"#fdca26\"], [1.0, \"#f0f921\"]], \"type\": \"surface\"}], \"table\": [{\"cells\": {\"fill\": {\"color\": \"#EBF0F8\"}, \"line\": {\"color\": \"white\"}}, \"header\": {\"fill\": {\"color\": \"#C8D4E3\"}, \"line\": {\"color\": \"white\"}}, \"type\": \"table\"}]}, \"layout\": {\"annotationdefaults\": {\"arrowcolor\": \"#2a3f5f\", \"arrowhead\": 0, \"arrowwidth\": 1}, \"coloraxis\": {\"colorbar\": {\"outlinewidth\": 0, \"ticks\": \"\"}}, \"colorscale\": {\"diverging\": [[0, \"#8e0152\"], [0.1, \"#c51b7d\"], [0.2, \"#de77ae\"], [0.3, \"#f1b6da\"], [0.4, \"#fde0ef\"], [0.5, \"#f7f7f7\"], [0.6, \"#e6f5d0\"], [0.7, \"#b8e186\"], [0.8, \"#7fbc41\"], [0.9, \"#4d9221\"], [1, \"#276419\"]], \"sequential\": [[0.0, \"#0d0887\"], [0.1111111111111111, \"#46039f\"], [0.2222222222222222, \"#7201a8\"], [0.3333333333333333, \"#9c179e\"], [0.4444444444444444, \"#bd3786\"], [0.5555555555555556, \"#d8576b\"], [0.6666666666666666, \"#ed7953\"], [0.7777777777777778, \"#fb9f3a\"], [0.8888888888888888, \"#fdca26\"], [1.0, \"#f0f921\"]], \"sequentialminus\": [[0.0, \"#0d0887\"], [0.1111111111111111, \"#46039f\"], [0.2222222222222222, \"#7201a8\"], [0.3333333333333333, \"#9c179e\"], [0.4444444444444444, \"#bd3786\"], [0.5555555555555556, \"#d8576b\"], [0.6666666666666666, \"#ed7953\"], [0.7777777777777778, \"#fb9f3a\"], [0.8888888888888888, \"#fdca26\"], [1.0, \"#f0f921\"]]}, \"colorway\": [\"#636efa\", \"#EF553B\", \"#00cc96\", \"#ab63fa\", \"#FFA15A\", \"#19d3f3\", \"#FF6692\", \"#B6E880\", \"#FF97FF\", \"#FECB52\"], \"font\": {\"color\": \"#2a3f5f\"}, \"geo\": {\"bgcolor\": \"white\", \"lakecolor\": \"white\", \"landcolor\": \"#E5ECF6\", \"showlakes\": true, \"showland\": true, \"subunitcolor\": \"white\"}, \"hoverlabel\": {\"align\": \"left\"}, \"hovermode\": \"closest\", \"mapbox\": {\"style\": \"light\"}, \"paper_bgcolor\": \"white\", \"plot_bgcolor\": \"#E5ECF6\", \"polar\": {\"angularaxis\": {\"gridcolor\": \"white\", \"linecolor\": \"white\", \"ticks\": \"\"}, \"bgcolor\": \"#E5ECF6\", \"radialaxis\": {\"gridcolor\": \"white\", \"linecolor\": \"white\", \"ticks\": \"\"}}, \"scene\": {\"xaxis\": {\"backgroundcolor\": \"#E5ECF6\", \"gridcolor\": \"white\", \"gridwidth\": 2, \"linecolor\": \"white\", \"showbackground\": true, \"ticks\": \"\", \"zerolinecolor\": \"white\"}, \"yaxis\": {\"backgroundcolor\": \"#E5ECF6\", \"gridcolor\": \"white\", \"gridwidth\": 2, \"linecolor\": \"white\", \"showbackground\": true, \"ticks\": \"\", \"zerolinecolor\": \"white\"}, \"zaxis\": {\"backgroundcolor\": \"#E5ECF6\", \"gridcolor\": \"white\", \"gridwidth\": 2, \"linecolor\": \"white\", \"showbackground\": true, \"ticks\": \"\", \"zerolinecolor\": \"white\"}}, \"shapedefaults\": {\"line\": {\"color\": \"#2a3f5f\"}}, \"ternary\": {\"aaxis\": {\"gridcolor\": \"white\", \"linecolor\": \"white\", \"ticks\": \"\"}, \"baxis\": {\"gridcolor\": \"white\", \"linecolor\": \"white\", \"ticks\": \"\"}, \"bgcolor\": \"#E5ECF6\", \"caxis\": {\"gridcolor\": \"white\", \"linecolor\": \"white\", \"ticks\": \"\"}}, \"title\": {\"x\": 0.05}, \"xaxis\": {\"automargin\": true, \"gridcolor\": \"white\", \"linecolor\": \"white\", \"ticks\": \"\", \"title\": {\"standoff\": 15}, \"zerolinecolor\": \"white\", \"zerolinewidth\": 2}, \"yaxis\": {\"automargin\": true, \"gridcolor\": \"white\", \"linecolor\": \"white\", \"ticks\": \"\", \"title\": {\"standoff\": 15}, \"zerolinecolor\": \"white\", \"zerolinewidth\": 2}}}, \"title\": {\"text\": \"Deaths month by month\"}, \"xaxis\": {\"anchor\": \"y\", \"domain\": [0.0, 1.0], \"title\": {\"text\": \"month_year\"}}, \"yaxis\": {\"anchor\": \"x\", \"domain\": [0.0, 1.0], \"title\": {\"text\": \"count\"}}},\n",
       "                        {\"responsive\": true}\n",
       "                    ).then(function(){\n",
       "                            \n",
       "var gd = document.getElementById('2b0e6399-bedf-4ea3-a234-c57bb7a8a364');\n",
       "var x = new MutationObserver(function (mutations, observer) {{\n",
       "        var display = window.getComputedStyle(gd).display;\n",
       "        if (!display || display === 'none') {{\n",
       "            console.log([gd, 'removed!']);\n",
       "            Plotly.purge(gd);\n",
       "            observer.disconnect();\n",
       "        }}\n",
       "}});\n",
       "\n",
       "// Listen for the removal of the full notebook cells\n",
       "var notebookContainer = gd.closest('#notebook-container');\n",
       "if (notebookContainer) {{\n",
       "    x.observe(notebookContainer, {childList: true});\n",
       "}}\n",
       "\n",
       "// Listen for the clearing of the current output cell\n",
       "var outputEl = gd.closest('.output');\n",
       "if (outputEl) {{\n",
       "    x.observe(outputEl, {childList: true});\n",
       "}}\n",
       "\n",
       "                        })\n",
       "                };\n",
       "                });\n",
       "            </script>\n",
       "        </div>"
      ]
     },
     "metadata": {},
     "output_type": "display_data"
    }
   ],
   "source": [
    "#Using ARIMA Model to predic deaths by Month\n",
    "data = df.groupby(['month_year'])['name'].count().reset_index()\n",
    "data.columns = ['month_year', 'count']\n",
    "data['month_year'] = data['month_year'].astype(str)\n",
    "data = data.head(65)\n",
    "fig = px.line(data, x=\"month_year\", y=\"count\", title='Deaths month by month')\n",
    "fig.show()\n"
   ]
  },
  {
   "cell_type": "code",
   "execution_count": 129,
   "metadata": {},
   "outputs": [
    {
     "name": "stdout",
     "output_type": "stream",
     "text": [
      "                             ARIMA Model Results                              \n",
      "==============================================================================\n",
      "Dep. Variable:                D.count   No. Observations:                   64\n",
      "Model:                 ARIMA(3, 1, 1)   Log Likelihood                -248.364\n",
      "Method:                       css-mle   S.D. of innovations             11.309\n",
      "Date:                Tue, 01 Sep 2020   AIC                            508.728\n",
      "Time:                        13:39:59   BIC                            521.681\n",
      "Sample:                             1   HQIC                           513.830\n",
      "                                                                              \n",
      "=================================================================================\n",
      "                    coef    std err          z      P>|z|      [0.025      0.975]\n",
      "---------------------------------------------------------------------------------\n",
      "const            -0.1943      0.063     -3.080      0.002      -0.318      -0.071\n",
      "ar.L1.D.count     0.0427      0.125      0.341      0.733      -0.203       0.288\n",
      "ar.L2.D.count    -0.1492      0.123     -1.213      0.225      -0.390       0.092\n",
      "ar.L3.D.count    -0.1059      0.125     -0.848      0.396      -0.351       0.139\n",
      "ma.L1.D.count    -1.0000      0.044    -22.623      0.000      -1.087      -0.913\n",
      "                                    Roots                                    \n",
      "=============================================================================\n",
      "                  Real          Imaginary           Modulus         Frequency\n",
      "-----------------------------------------------------------------------------\n",
      "AR.1            0.6845           -1.7120j            1.8438           -0.1895\n",
      "AR.2            0.6845           +1.7120j            1.8438            0.1895\n",
      "AR.3           -2.7781           -0.0000j            2.7781           -0.5000\n",
      "MA.1            1.0000           +0.0000j            1.0000            0.0000\n",
      "-----------------------------------------------------------------------------\n"
     ]
    }
   ],
   "source": [
    "model = ARIMA(data['count'], order=(3,1,1))\n",
    "model_fit = model.fit(disp=0)\n",
    "print(model_fit.summary())"
   ]
  },
  {
   "cell_type": "code",
   "execution_count": 133,
   "metadata": {},
   "outputs": [
    {
     "data": {
      "image/png": "[encoded data removed]",
      "text/plain": [
       "<Figure size 432x288 with 1 Axes>"
      ]
     },
     "metadata": {
      "needs_background": "light"
     },
     "output_type": "display_data"
    }
   ],
   "source": [
    "model_fit.plot_predict(dynamic=False)\n",
    "plt.show()\n"
   ]
  },
  {
   "cell_type": "code",
   "execution_count": 141,
   "metadata": {},
   "outputs": [],
   "source": [
    "#Deaths MoM with predictions\n",
    "preds, _, _ = model_fit.forecast(19, alpha=0.05)\n",
    "preds = preds.tolist()\n",
    "preds = [int(item) for item in preds]\n",
    "months = ['2020-06', '2020-07', '2020-08', '2020-09', '2020-10', '2020-11', '2020-12', '2021-01', \n",
    "          '2021-02', '2021-03', '2021-04', '2021-05', '2021-06', '2021-07', '2021-08', '2021-09', \n",
    "          '2021-10', '2021-11', '2021-12']"
   ]
  },
  {
   "cell_type": "code",
   "execution_count": 142,
   "metadata": {},
   "outputs": [
    {
     "data": {
      "application/vnd.plotly.v1+json": {
       "config": {
        "plotlyServerURL": "https://plot.ly"
       },
       "data": [
        {
         "hovertemplate": "month_year=%{x}<br>count=%{y}<extra></extra>",
         "legendgroup": "",
         "line": {
          "color": "#636efa",
          "dash": "solid"
         },
         "mode": "lines",
         "name": "",
         "orientation": "v",
         "showlegend": false,
         "type": "scatter",
         "x": [
          "2015-01",
          "2015-02",
          "2015-03",
          "2015-04",
          "2015-05",
          "2015-06",
          "2015-07",
          "2015-08",
          "2015-09",
          "2015-10",
          "2015-11",
          "2015-12",
          "2016-01",
          "2016-02",
          "2016-03",
          "2016-04",
          "2016-05",
          "2016-06",
          "2016-07",
          "2016-08",
          "2016-09",
          "2016-10",
          "2016-11",
          "2016-12",
          "2017-01",
          "2017-02",
          "2017-03",
          "2017-04",
          "2017-05",
          "2017-06",
          "2017-07",
          "2017-08",
          "2017-09",
          "2017-10",
          "2017-11",
          "2017-12",
          "2018-01",
          "2018-02",
          "2018-03",
          "2018-04",
          "2018-05",
          "2018-06",
          "2018-07",
          "2018-08",
          "2018-09",
          "2018-10",
          "2018-11",
          "2018-12",
          "2019-01",
          "2019-02",
          "2019-03",
          "2019-04",
          "2019-05",
          "2019-06",
          "2019-07",
          "2019-08",
          "2019-09",
          "2019-10",
          "2019-11",
          "2019-12",
          "2020-01",
          "2020-02",
          "2020-03",
          "2020-04",
          "2020-05",
          "2020-06",
          "2020-07",
          "2020-08",
          "2020-09",
          "2020-10",
          "2020-11",
          "2020-12",
          "2021-01",
          "2021-02",
          "2021-03",
          "2021-04",
          "2021-05",
          "2021-06",
          "2021-07",
          "2021-08",
          "2021-09",
          "2021-10",
          "2021-11",
          "2021-12",
          "2020-06",
          "2020-07",
          "2020-08",
          "2020-09",
          "2020-10",
          "2020-11",
          "2020-12",
          "2021-01",
          "2021-02",
          "2021-03",
          "2021-04",
          "2021-05",
          "2021-06",
          "2021-07",
          "2021-08",
          "2021-09",
          "2021-10",
          "2021-11",
          "2021-12",
          "2020-06",
          "2020-07",
          "2020-08",
          "2020-09",
          "2020-10",
          "2020-11",
          "2020-12",
          "2021-01",
          "2021-02",
          "2021-03",
          "2021-04",
          "2021-05",
          "2021-06",
          "2021-07",
          "2021-08",
          "2021-09",
          "2021-10",
          "2021-11",
          "2021-12",
          "2020-06",
          "2020-07",
          "2020-08",
          "2020-09",
          "2020-10",
          "2020-11",
          "2020-12",
          "2021-01",
          "2021-02",
          "2021-03",
          "2021-04",
          "2021-05",
          "2021-06",
          "2021-07",
          "2021-08",
          "2021-09",
          "2021-10",
          "2021-11",
          "2021-12"
         ],
         "xaxis": "x",
         "y": [
          75,
          77,
          91,
          83,
          69,
          63,
          100,
          91,
          80,
          78,
          76,
          82,
          80,
          85,
          90,
          73,
          69,
          87,
          71,
          77,
          73,
          71,
          68,
          60,
          91,
          97,
          74,
          65,
          68,
          80,
          91,
          78,
          66,
          81,
          76,
          39,
          96,
          74,
          99,
          88,
          70,
          70,
          82,
          68,
          50,
          64,
          63,
          64,
          81,
          68,
          76,
          63,
          64,
          77,
          69,
          57,
          59,
          73,
          71,
          100,
          82,
          61,
          73,
          58,
          78,
          70,
          68,
          66,
          67,
          67,
          67,
          67,
          67,
          66,
          66,
          66,
          66,
          66,
          65,
          65,
          65,
          65,
          65,
          64,
          70,
          68,
          66,
          67,
          67,
          67,
          67,
          67,
          66,
          66,
          66,
          66,
          66,
          65,
          65,
          65,
          65,
          65,
          64,
          70,
          68,
          66,
          67,
          67,
          67,
          67,
          67,
          66,
          66,
          66,
          66,
          66,
          65,
          65,
          65,
          65,
          65,
          64,
          70,
          68,
          66,
          67,
          67,
          67,
          67,
          67,
          66,
          66,
          66,
          66,
          66,
          65,
          65,
          65,
          65,
          65,
          64
         ],
         "yaxis": "y"
        }
       ],
       "layout": {
        "legend": {
         "tracegroupgap": 0
        },
        "template": {
         "data": {
          "bar": [
           {
            "error_x": {
             "color": "#2a3f5f"
            },
            "error_y": {
             "color": "#2a3f5f"
            },
            "marker": {
             "line": {
              "color": "#E5ECF6",
              "width": 0.5
             }
            },
            "type": "bar"
           }
          ],
          "barpolar": [
           {
            "marker": {
             "line": {
              "color": "#E5ECF6",
              "width": 0.5
             }
            },
            "type": "barpolar"
           }
          ],
          "carpet": [
           {
            "aaxis": {
             "endlinecolor": "#2a3f5f",
             "gridcolor": "white",
             "linecolor": "white",
             "minorgridcolor": "white",
             "startlinecolor": "#2a3f5f"
            },
            "baxis": {
             "endlinecolor": "#2a3f5f",
             "gridcolor": "white",
             "linecolor": "white",
             "minorgridcolor": "white",
             "startlinecolor": "#2a3f5f"
            },
            "type": "carpet"
           }
          ],
          "choropleth": [
           {
            "colorbar": {
             "outlinewidth": 0,
             "ticks": ""
            },
            "type": "choropleth"
           }
          ],
          "contour": [
           {
            "colorbar": {
             "outlinewidth": 0,
             "ticks": ""
            },
            "colorscale": [
             [
              0,
              "#0d0887"
             ],
             [
              0.1111111111111111,
              "#46039f"
             ],
             [
              0.2222222222222222,
              "#7201a8"
             ],
             [
              0.3333333333333333,
              "#9c179e"
             ],
             [
              0.4444444444444444,
              "#bd3786"
             ],
             [
              0.5555555555555556,
              "#d8576b"
             ],
             [
              0.6666666666666666,
              "#ed7953"
             ],
             [
              0.7777777777777778,
              "#fb9f3a"
             ],
             [
              0.8888888888888888,
              "#fdca26"
             ],
             [
              1,
              "#f0f921"
             ]
            ],
            "type": "contour"
           }
          ],
          "contourcarpet": [
           {
            "colorbar": {
             "outlinewidth": 0,
             "ticks": ""
            },
            "type": "contourcarpet"
           }
          ],
          "heatmap": [
           {
            "colorbar": {
             "outlinewidth": 0,
             "ticks": ""
            },
            "colorscale": [
             [
              0,
              "#0d0887"
             ],
             [
              0.1111111111111111,
              "#46039f"
             ],
             [
              0.2222222222222222,
              "#7201a8"
             ],
             [
              0.3333333333333333,
              "#9c179e"
             ],
             [
              0.4444444444444444,
              "#bd3786"
             ],
             [
              0.5555555555555556,
              "#d8576b"
             ],
             [
              0.6666666666666666,
              "#ed7953"
             ],
             [
              0.7777777777777778,
              "#fb9f3a"
             ],
             [
              0.8888888888888888,
              "#fdca26"
             ],
             [
              1,
              "#f0f921"
             ]
            ],
            "type": "heatmap"
           }
          ],
          "heatmapgl": [
           {
            "colorbar": {
             "outlinewidth": 0,
             "ticks": ""
            },
            "colorscale": [
             [
              0,
              "#0d0887"
             ],
             [
              0.1111111111111111,
              "#46039f"
             ],
             [
              0.2222222222222222,
              "#7201a8"
             ],
             [
              0.3333333333333333,
              "#9c179e"
             ],
             [
              0.4444444444444444,
              "#bd3786"
             ],
             [
              0.5555555555555556,
              "#d8576b"
             ],
             [
              0.6666666666666666,
              "#ed7953"
             ],
             [
              0.7777777777777778,
              "#fb9f3a"
             ],
             [
              0.8888888888888888,
              "#fdca26"
             ],
             [
              1,
              "#f0f921"
             ]
            ],
            "type": "heatmapgl"
           }
          ],
          "histogram": [
           {
            "marker": {
             "colorbar": {
              "outlinewidth": 0,
              "ticks": ""
             }
            },
            "type": "histogram"
           }
          ],
          "histogram2d": [
           {
            "colorbar": {
             "outlinewidth": 0,
             "ticks": ""
            },
            "colorscale": [
             [
              0,
              "#0d0887"
             ],
             [
              0.1111111111111111,
              "#46039f"
             ],
             [
              0.2222222222222222,
              "#7201a8"
             ],
             [
              0.3333333333333333,
              "#9c179e"
             ],
             [
              0.4444444444444444,
              "#bd3786"
             ],
             [
              0.5555555555555556,
              "#d8576b"
             ],
             [
              0.6666666666666666,
              "#ed7953"
             ],
             [
              0.7777777777777778,
              "#fb9f3a"
             ],
             [
              0.8888888888888888,
              "#fdca26"
             ],
             [
              1,
              "#f0f921"
             ]
            ],
            "type": "histogram2d"
           }
          ],
          "histogram2dcontour": [
           {
            "colorbar": {
             "outlinewidth": 0,
             "ticks": ""
            },
            "colorscale": [
             [
              0,
              "#0d0887"
             ],
             [
              0.1111111111111111,
              "#46039f"
             ],
             [
              0.2222222222222222,
              "#7201a8"
             ],
             [
              0.3333333333333333,
              "#9c179e"
             ],
             [
              0.4444444444444444,
              "#bd3786"
             ],
             [
              0.5555555555555556,
              "#d8576b"
             ],
             [
              0.6666666666666666,
              "#ed7953"
             ],
             [
              0.7777777777777778,
              "#fb9f3a"
             ],
             [
              0.8888888888888888,
              "#fdca26"
             ],
             [
              1,
              "#f0f921"
             ]
            ],
            "type": "histogram2dcontour"
           }
          ],
          "mesh3d": [
           {
            "colorbar": {
             "outlinewidth": 0,
             "ticks": ""
            },
            "type": "mesh3d"
           }
          ],
          "parcoords": [
           {
            "line": {
             "colorbar": {
              "outlinewidth": 0,
              "ticks": ""
             }
            },
            "type": "parcoords"
           }
          ],
          "pie": [
           {
            "automargin": true,
            "type": "pie"
           }
          ],
          "scatter": [
           {
            "marker": {
             "colorbar": {
              "outlinewidth": 0,
              "ticks": ""
             }
            },
            "type": "scatter"
           }
          ],
          "scatter3d": [
           {
            "line": {
             "colorbar": {
              "outlinewidth": 0,
              "ticks": ""
             }
            },
            "marker": {
             "colorbar": {
              "outlinewidth": 0,
              "ticks": ""
             }
            },
            "type": "scatter3d"
           }
          ],
          "scattercarpet": [
           {
            "marker": {
             "colorbar": {
              "outlinewidth": 0,
              "ticks": ""
             }
            },
            "type": "scattercarpet"
           }
          ],
          "scattergeo": [
           {
            "marker": {
             "colorbar": {
              "outlinewidth": 0,
              "ticks": ""
             }
            },
            "type": "scattergeo"
           }
          ],
          "scattergl": [
           {
            "marker": {
             "colorbar": {
              "outlinewidth": 0,
              "ticks": ""
             }
            },
            "type": "scattergl"
           }
          ],
          "scattermapbox": [
           {
            "marker": {
             "colorbar": {
              "outlinewidth": 0,
              "ticks": ""
             }
            },
            "type": "scattermapbox"
           }
          ],
          "scatterpolar": [
           {
            "marker": {
             "colorbar": {
              "outlinewidth": 0,
              "ticks": ""
             }
            },
            "type": "scatterpolar"
           }
          ],
          "scatterpolargl": [
           {
            "marker": {
             "colorbar": {
              "outlinewidth": 0,
              "ticks": ""
             }
            },
            "type": "scatterpolargl"
           }
          ],
          "scatterternary": [
           {
            "marker": {
             "colorbar": {
              "outlinewidth": 0,
              "ticks": ""
             }
            },
            "type": "scatterternary"
           }
          ],
          "surface": [
           {
            "colorbar": {
             "outlinewidth": 0,
             "ticks": ""
            },
            "colorscale": [
             [
              0,
              "#0d0887"
             ],
             [
              0.1111111111111111,
              "#46039f"
             ],
             [
              0.2222222222222222,
              "#7201a8"
             ],
             [
              0.3333333333333333,
              "#9c179e"
             ],
             [
              0.4444444444444444,
              "#bd3786"
             ],
             [
              0.5555555555555556,
              "#d8576b"
             ],
             [
              0.6666666666666666,
              "#ed7953"
             ],
             [
              0.7777777777777778,
              "#fb9f3a"
             ],
             [
              0.8888888888888888,
              "#fdca26"
             ],
             [
              1,
              "#f0f921"
             ]
            ],
            "type": "surface"
           }
          ],
          "table": [
           {
            "cells": {
             "fill": {
              "color": "#EBF0F8"
             },
             "line": {
              "color": "white"
             }
            },
            "header": {
             "fill": {
              "color": "#C8D4E3"
             },
             "line": {
              "color": "white"
             }
            },
            "type": "table"
           }
          ]
         },
         "layout": {
          "annotationdefaults": {
           "arrowcolor": "#2a3f5f",
           "arrowhead": 0,
           "arrowwidth": 1
          },
          "coloraxis": {
           "colorbar": {
            "outlinewidth": 0,
            "ticks": ""
           }
          },
          "colorscale": {
           "diverging": [
            [
             0,
             "#8e0152"
            ],
            [
             0.1,
             "#c51b7d"
            ],
            [
             0.2,
             "#de77ae"
            ],
            [
             0.3,
             "#f1b6da"
            ],
            [
             0.4,
             "#fde0ef"
            ],
            [
             0.5,
             "#f7f7f7"
            ],
            [
             0.6,
             "#e6f5d0"
            ],
            [
             0.7,
             "#b8e186"
            ],
            [
             0.8,
             "#7fbc41"
            ],
            [
             0.9,
             "#4d9221"
            ],
            [
             1,
             "#276419"
            ]
           ],
           "sequential": [
            [
             0,
             "#0d0887"
            ],
            [
             0.1111111111111111,
             "#46039f"
            ],
            [
             0.2222222222222222,
             "#7201a8"
            ],
            [
             0.3333333333333333,
             "#9c179e"
            ],
            [
             0.4444444444444444,
             "#bd3786"
            ],
            [
             0.5555555555555556,
             "#d8576b"
            ],
            [
             0.6666666666666666,
             "#ed7953"
            ],
            [
             0.7777777777777778,
             "#fb9f3a"
            ],
            [
             0.8888888888888888,
             "#fdca26"
            ],
            [
             1,
             "#f0f921"
            ]
           ],
           "sequentialminus": [
            [
             0,
             "#0d0887"
            ],
            [
             0.1111111111111111,
             "#46039f"
            ],
            [
             0.2222222222222222,
             "#7201a8"
            ],
            [
             0.3333333333333333,
             "#9c179e"
            ],
            [
             0.4444444444444444,
             "#bd3786"
            ],
            [
             0.5555555555555556,
             "#d8576b"
            ],
            [
             0.6666666666666666,
             "#ed7953"
            ],
            [
             0.7777777777777778,
             "#fb9f3a"
            ],
            [
             0.8888888888888888,
             "#fdca26"
            ],
            [
             1,
             "#f0f921"
            ]
           ]
          },
          "colorway": [
           "#636efa",
           "#EF553B",
           "#00cc96",
           "#ab63fa",
           "#FFA15A",
           "#19d3f3",
           "#FF6692",
           "#B6E880",
           "#FF97FF",
           "#FECB52"
          ],
          "font": {
           "color": "#2a3f5f"
          },
          "geo": {
           "bgcolor": "white",
           "lakecolor": "white",
           "landcolor": "#E5ECF6",
           "showlakes": true,
           "showland": true,
           "subunitcolor": "white"
          },
          "hoverlabel": {
           "align": "left"
          },
          "hovermode": "closest",
          "mapbox": {
           "style": "light"
          },
          "paper_bgcolor": "white",
          "plot_bgcolor": "#E5ECF6",
          "polar": {
           "angularaxis": {
            "gridcolor": "white",
            "linecolor": "white",
            "ticks": ""
           },
           "bgcolor": "#E5ECF6",
           "radialaxis": {
            "gridcolor": "white",
            "linecolor": "white",
            "ticks": ""
           }
          },
          "scene": {
           "xaxis": {
            "backgroundcolor": "#E5ECF6",
            "gridcolor": "white",
            "gridwidth": 2,
            "linecolor": "white",
            "showbackground": true,
            "ticks": "",
            "zerolinecolor": "white"
           },
           "yaxis": {
            "backgroundcolor": "#E5ECF6",
            "gridcolor": "white",
            "gridwidth": 2,
            "linecolor": "white",
            "showbackground": true,
            "ticks": "",
            "zerolinecolor": "white"
           },
           "zaxis": {
            "backgroundcolor": "#E5ECF6",
            "gridcolor": "white",
            "gridwidth": 2,
            "linecolor": "white",
            "showbackground": true,
            "ticks": "",
            "zerolinecolor": "white"
           }
          },
          "shapedefaults": {
           "line": {
            "color": "#2a3f5f"
           }
          },
          "ternary": {
           "aaxis": {
            "gridcolor": "white",
            "linecolor": "white",
            "ticks": ""
           },
           "baxis": {
            "gridcolor": "white",
            "linecolor": "white",
            "ticks": ""
           },
           "bgcolor": "#E5ECF6",
           "caxis": {
            "gridcolor": "white",
            "linecolor": "white",
            "ticks": ""
           }
          },
          "title": {
           "x": 0.05
          },
          "xaxis": {
           "automargin": true,
           "gridcolor": "white",
           "linecolor": "white",
           "ticks": "",
           "title": {
            "standoff": 15
           },
           "zerolinecolor": "white",
           "zerolinewidth": 2
          },
          "yaxis": {
           "automargin": true,
           "gridcolor": "white",
           "linecolor": "white",
           "ticks": "",
           "title": {
            "standoff": 15
           },
           "zerolinecolor": "white",
           "zerolinewidth": 2
          }
         }
        },
        "title": {
         "text": "Deaths month by month with predictions"
        },
        "xaxis": {
         "anchor": "y",
         "domain": [
          0,
          1
         ],
         "title": {
          "text": "month_year"
         }
        },
        "yaxis": {
         "anchor": "x",
         "domain": [
          0,
          1
         ],
         "title": {
          "text": "count"
         }
        }
       }
      },
      "text/html": [
       "<div>\n",
       "        \n",
       "        \n",
       "            <div id=\"17cf2292-2118-42be-bd78-452d746c93c5\" class=\"plotly-graph-div\" style=\"height:525px; width:100%;\"></div>\n",
       "            <script type=\"text/javascript\">\n",
       "                require([\"plotly\"], function(Plotly) {\n",
       "                    window.PLOTLYENV=window.PLOTLYENV || {};\n",
       "                    \n",
       "                if (document.getElementById(\"17cf2292-2118-42be-bd78-452d746c93c5\")) {\n",
       "                    Plotly.newPlot(\n",
       "                        '17cf2292-2118-42be-bd78-452d746c93c5',\n",
       "                        [{\"hovertemplate\": \"month_year=%{x}<br>count=%{y}<extra></extra>\", \"legendgroup\": \"\", \"line\": {\"color\": \"#636efa\", \"dash\": \"solid\"}, \"mode\": \"lines\", \"name\": \"\", \"orientation\": \"v\", \"showlegend\": false, \"type\": \"scatter\", \"x\": [\"2015-01\", \"2015-02\", \"2015-03\", \"2015-04\", \"2015-05\", \"2015-06\", \"2015-07\", \"2015-08\", \"2015-09\", \"2015-10\", \"2015-11\", \"2015-12\", \"2016-01\", \"2016-02\", \"2016-03\", \"2016-04\", \"2016-05\", \"2016-06\", \"2016-07\", \"2016-08\", \"2016-09\", \"2016-10\", \"2016-11\", \"2016-12\", \"2017-01\", \"2017-02\", \"2017-03\", \"2017-04\", \"2017-05\", \"2017-06\", \"2017-07\", \"2017-08\", \"2017-09\", \"2017-10\", \"2017-11\", \"2017-12\", \"2018-01\", \"2018-02\", \"2018-03\", \"2018-04\", \"2018-05\", \"2018-06\", \"2018-07\", \"2018-08\", \"2018-09\", \"2018-10\", \"2018-11\", \"2018-12\", \"2019-01\", \"2019-02\", \"2019-03\", \"2019-04\", \"2019-05\", \"2019-06\", \"2019-07\", \"2019-08\", \"2019-09\", \"2019-10\", \"2019-11\", \"2019-12\", \"2020-01\", \"2020-02\", \"2020-03\", \"2020-04\", \"2020-05\", \"2020-06\", \"2020-07\", \"2020-08\", \"2020-09\", \"2020-10\", \"2020-11\", \"2020-12\", \"2021-01\", \"2021-02\", \"2021-03\", \"2021-04\", \"2021-05\", \"2021-06\", \"2021-07\", \"2021-08\", \"2021-09\", \"2021-10\", \"2021-11\", \"2021-12\", \"2020-06\", \"2020-07\", \"2020-08\", \"2020-09\", \"2020-10\", \"2020-11\", \"2020-12\", \"2021-01\", \"2021-02\", \"2021-03\", \"2021-04\", \"2021-05\", \"2021-06\", \"2021-07\", \"2021-08\", \"2021-09\", \"2021-10\", \"2021-11\", \"2021-12\", \"2020-06\", \"2020-07\", \"2020-08\", \"2020-09\", \"2020-10\", \"2020-11\", \"2020-12\", \"2021-01\", \"2021-02\", \"2021-03\", \"2021-04\", \"2021-05\", \"2021-06\", \"2021-07\", \"2021-08\", \"2021-09\", \"2021-10\", \"2021-11\", \"2021-12\", \"2020-06\", \"2020-07\", \"2020-08\", \"2020-09\", \"2020-10\", \"2020-11\", \"2020-12\", \"2021-01\", \"2021-02\", \"2021-03\", \"2021-04\", \"2021-05\", \"2021-06\", \"2021-07\", \"2021-08\", \"2021-09\", \"2021-10\", \"2021-11\", \"2021-12\"], \"xaxis\": \"x\", \"y\": [75, 77, 91, 83, 69, 63, 100, 91, 80, 78, 76, 82, 80, 85, 90, 73, 69, 87, 71, 77, 73, 71, 68, 60, 91, 97, 74, 65, 68, 80, 91, 78, 66, 81, 76, 39, 96, 74, 99, 88, 70, 70, 82, 68, 50, 64, 63, 64, 81, 68, 76, 63, 64, 77, 69, 57, 59, 73, 71, 100, 82, 61, 73, 58, 78, 70, 68, 66, 67, 67, 67, 67, 67, 66, 66, 66, 66, 66, 65, 65, 65, 65, 65, 64, 70, 68, 66, 67, 67, 67, 67, 67, 66, 66, 66, 66, 66, 65, 65, 65, 65, 65, 64, 70, 68, 66, 67, 67, 67, 67, 67, 66, 66, 66, 66, 66, 65, 65, 65, 65, 65, 64, 70, 68, 66, 67, 67, 67, 67, 67, 66, 66, 66, 66, 66, 65, 65, 65, 65, 65, 64], \"yaxis\": \"y\"}],\n",
       "                        {\"legend\": {\"tracegroupgap\": 0}, \"template\": {\"data\": {\"bar\": [{\"error_x\": {\"color\": \"#2a3f5f\"}, \"error_y\": {\"color\": \"#2a3f5f\"}, \"marker\": {\"line\": {\"color\": \"#E5ECF6\", \"width\": 0.5}}, \"type\": \"bar\"}], \"barpolar\": [{\"marker\": {\"line\": {\"color\": \"#E5ECF6\", \"width\": 0.5}}, \"type\": \"barpolar\"}], \"carpet\": [{\"aaxis\": {\"endlinecolor\": \"#2a3f5f\", \"gridcolor\": \"white\", \"linecolor\": \"white\", \"minorgridcolor\": \"white\", \"startlinecolor\": \"#2a3f5f\"}, \"baxis\": {\"endlinecolor\": \"#2a3f5f\", \"gridcolor\": \"white\", \"linecolor\": \"white\", \"minorgridcolor\": \"white\", \"startlinecolor\": \"#2a3f5f\"}, \"type\": \"carpet\"}], \"choropleth\": [{\"colorbar\": {\"outlinewidth\": 0, \"ticks\": \"\"}, \"type\": \"choropleth\"}], \"contour\": [{\"colorbar\": {\"outlinewidth\": 0, \"ticks\": \"\"}, \"colorscale\": [[0.0, \"#0d0887\"], [0.1111111111111111, \"#46039f\"], [0.2222222222222222, \"#7201a8\"], [0.3333333333333333, \"#9c179e\"], [0.4444444444444444, \"#bd3786\"], [0.5555555555555556, \"#d8576b\"], [0.6666666666666666, \"#ed7953\"], [0.7777777777777778, \"#fb9f3a\"], [0.8888888888888888, \"#fdca26\"], [1.0, \"#f0f921\"]], \"type\": \"contour\"}], \"contourcarpet\": [{\"colorbar\": {\"outlinewidth\": 0, \"ticks\": \"\"}, \"type\": \"contourcarpet\"}], \"heatmap\": [{\"colorbar\": {\"outlinewidth\": 0, \"ticks\": \"\"}, \"colorscale\": [[0.0, \"#0d0887\"], [0.1111111111111111, \"#46039f\"], [0.2222222222222222, \"#7201a8\"], [0.3333333333333333, \"#9c179e\"], [0.4444444444444444, \"#bd3786\"], [0.5555555555555556, \"#d8576b\"], [0.6666666666666666, \"#ed7953\"], [0.7777777777777778, \"#fb9f3a\"], [0.8888888888888888, \"#fdca26\"], [1.0, \"#f0f921\"]], \"type\": \"heatmap\"}], \"heatmapgl\": [{\"colorbar\": {\"outlinewidth\": 0, \"ticks\": \"\"}, \"colorscale\": [[0.0, \"#0d0887\"], [0.1111111111111111, \"#46039f\"], [0.2222222222222222, \"#7201a8\"], [0.3333333333333333, \"#9c179e\"], [0.4444444444444444, \"#bd3786\"], [0.5555555555555556, \"#d8576b\"], [0.6666666666666666, \"#ed7953\"], [0.7777777777777778, \"#fb9f3a\"], [0.8888888888888888, \"#fdca26\"], [1.0, \"#f0f921\"]], \"type\": \"heatmapgl\"}], \"histogram\": [{\"marker\": {\"colorbar\": {\"outlinewidth\": 0, \"ticks\": \"\"}}, \"type\": \"histogram\"}], \"histogram2d\": [{\"colorbar\": {\"outlinewidth\": 0, \"ticks\": \"\"}, \"colorscale\": [[0.0, \"#0d0887\"], [0.1111111111111111, \"#46039f\"], [0.2222222222222222, \"#7201a8\"], [0.3333333333333333, \"#9c179e\"], [0.4444444444444444, \"#bd3786\"], [0.5555555555555556, \"#d8576b\"], [0.6666666666666666, \"#ed7953\"], [0.7777777777777778, \"#fb9f3a\"], [0.8888888888888888, \"#fdca26\"], [1.0, \"#f0f921\"]], \"type\": \"histogram2d\"}], \"histogram2dcontour\": [{\"colorbar\": {\"outlinewidth\": 0, \"ticks\": \"\"}, \"colorscale\": [[0.0, \"#0d0887\"], [0.1111111111111111, \"#46039f\"], [0.2222222222222222, \"#7201a8\"], [0.3333333333333333, \"#9c179e\"], [0.4444444444444444, \"#bd3786\"], [0.5555555555555556, \"#d8576b\"], [0.6666666666666666, \"#ed7953\"], [0.7777777777777778, \"#fb9f3a\"], [0.8888888888888888, \"#fdca26\"], [1.0, \"#f0f921\"]], \"type\": \"histogram2dcontour\"}], \"mesh3d\": [{\"colorbar\": {\"outlinewidth\": 0, \"ticks\": \"\"}, \"type\": \"mesh3d\"}], \"parcoords\": [{\"line\": {\"colorbar\": {\"outlinewidth\": 0, \"ticks\": \"\"}}, \"type\": \"parcoords\"}], \"pie\": [{\"automargin\": true, \"type\": \"pie\"}], \"scatter\": [{\"marker\": {\"colorbar\": {\"outlinewidth\": 0, \"ticks\": \"\"}}, \"type\": \"scatter\"}], \"scatter3d\": [{\"line\": {\"colorbar\": {\"outlinewidth\": 0, \"ticks\": \"\"}}, \"marker\": {\"colorbar\": {\"outlinewidth\": 0, \"ticks\": \"\"}}, \"type\": \"scatter3d\"}], \"scattercarpet\": [{\"marker\": {\"colorbar\": {\"outlinewidth\": 0, \"ticks\": \"\"}}, \"type\": \"scattercarpet\"}], \"scattergeo\": [{\"marker\": {\"colorbar\": {\"outlinewidth\": 0, \"ticks\": \"\"}}, \"type\": \"scattergeo\"}], \"scattergl\": [{\"marker\": {\"colorbar\": {\"outlinewidth\": 0, \"ticks\": \"\"}}, \"type\": \"scattergl\"}], \"scattermapbox\": [{\"marker\": {\"colorbar\": {\"outlinewidth\": 0, \"ticks\": \"\"}}, \"type\": \"scattermapbox\"}], \"scatterpolar\": [{\"marker\": {\"colorbar\": {\"outlinewidth\": 0, \"ticks\": \"\"}}, \"type\": \"scatterpolar\"}], \"scatterpolargl\": [{\"marker\": {\"colorbar\": {\"outlinewidth\": 0, \"ticks\": \"\"}}, \"type\": \"scatterpolargl\"}], \"scatterternary\": [{\"marker\": {\"colorbar\": {\"outlinewidth\": 0, \"ticks\": \"\"}}, \"type\": \"scatterternary\"}], \"surface\": [{\"colorbar\": {\"outlinewidth\": 0, \"ticks\": \"\"}, \"colorscale\": [[0.0, \"#0d0887\"], [0.1111111111111111, \"#46039f\"], [0.2222222222222222, \"#7201a8\"], [0.3333333333333333, \"#9c179e\"], [0.4444444444444444, \"#bd3786\"], [0.5555555555555556, \"#d8576b\"], [0.6666666666666666, \"#ed7953\"], [0.7777777777777778, \"#fb9f3a\"], [0.8888888888888888, \"#fdca26\"], [1.0, \"#f0f921\"]], \"type\": \"surface\"}], \"table\": [{\"cells\": {\"fill\": {\"color\": \"#EBF0F8\"}, \"line\": {\"color\": \"white\"}}, \"header\": {\"fill\": {\"color\": \"#C8D4E3\"}, \"line\": {\"color\": \"white\"}}, \"type\": \"table\"}]}, \"layout\": {\"annotationdefaults\": {\"arrowcolor\": \"#2a3f5f\", \"arrowhead\": 0, \"arrowwidth\": 1}, \"coloraxis\": {\"colorbar\": {\"outlinewidth\": 0, \"ticks\": \"\"}}, \"colorscale\": {\"diverging\": [[0, \"#8e0152\"], [0.1, \"#c51b7d\"], [0.2, \"#de77ae\"], [0.3, \"#f1b6da\"], [0.4, \"#fde0ef\"], [0.5, \"#f7f7f7\"], [0.6, \"#e6f5d0\"], [0.7, \"#b8e186\"], [0.8, \"#7fbc41\"], [0.9, \"#4d9221\"], [1, \"#276419\"]], \"sequential\": [[0.0, \"#0d0887\"], [0.1111111111111111, \"#46039f\"], [0.2222222222222222, \"#7201a8\"], [0.3333333333333333, \"#9c179e\"], [0.4444444444444444, \"#bd3786\"], [0.5555555555555556, \"#d8576b\"], [0.6666666666666666, \"#ed7953\"], [0.7777777777777778, \"#fb9f3a\"], [0.8888888888888888, \"#fdca26\"], [1.0, \"#f0f921\"]], \"sequentialminus\": [[0.0, \"#0d0887\"], [0.1111111111111111, \"#46039f\"], [0.2222222222222222, \"#7201a8\"], [0.3333333333333333, \"#9c179e\"], [0.4444444444444444, \"#bd3786\"], [0.5555555555555556, \"#d8576b\"], [0.6666666666666666, \"#ed7953\"], [0.7777777777777778, \"#fb9f3a\"], [0.8888888888888888, \"#fdca26\"], [1.0, \"#f0f921\"]]}, \"colorway\": [\"#636efa\", \"#EF553B\", \"#00cc96\", \"#ab63fa\", \"#FFA15A\", \"#19d3f3\", \"#FF6692\", \"#B6E880\", \"#FF97FF\", \"#FECB52\"], \"font\": {\"color\": \"#2a3f5f\"}, \"geo\": {\"bgcolor\": \"white\", \"lakecolor\": \"white\", \"landcolor\": \"#E5ECF6\", \"showlakes\": true, \"showland\": true, \"subunitcolor\": \"white\"}, \"hoverlabel\": {\"align\": \"left\"}, \"hovermode\": \"closest\", \"mapbox\": {\"style\": \"light\"}, \"paper_bgcolor\": \"white\", \"plot_bgcolor\": \"#E5ECF6\", \"polar\": {\"angularaxis\": {\"gridcolor\": \"white\", \"linecolor\": \"white\", \"ticks\": \"\"}, \"bgcolor\": \"#E5ECF6\", \"radialaxis\": {\"gridcolor\": \"white\", \"linecolor\": \"white\", \"ticks\": \"\"}}, \"scene\": {\"xaxis\": {\"backgroundcolor\": \"#E5ECF6\", \"gridcolor\": \"white\", \"gridwidth\": 2, \"linecolor\": \"white\", \"showbackground\": true, \"ticks\": \"\", \"zerolinecolor\": \"white\"}, \"yaxis\": {\"backgroundcolor\": \"#E5ECF6\", \"gridcolor\": \"white\", \"gridwidth\": 2, \"linecolor\": \"white\", \"showbackground\": true, \"ticks\": \"\", \"zerolinecolor\": \"white\"}, \"zaxis\": {\"backgroundcolor\": \"#E5ECF6\", \"gridcolor\": \"white\", \"gridwidth\": 2, \"linecolor\": \"white\", \"showbackground\": true, \"ticks\": \"\", \"zerolinecolor\": \"white\"}}, \"shapedefaults\": {\"line\": {\"color\": \"#2a3f5f\"}}, \"ternary\": {\"aaxis\": {\"gridcolor\": \"white\", \"linecolor\": \"white\", \"ticks\": \"\"}, \"baxis\": {\"gridcolor\": \"white\", \"linecolor\": \"white\", \"ticks\": \"\"}, \"bgcolor\": \"#E5ECF6\", \"caxis\": {\"gridcolor\": \"white\", \"linecolor\": \"white\", \"ticks\": \"\"}}, \"title\": {\"x\": 0.05}, \"xaxis\": {\"automargin\": true, \"gridcolor\": \"white\", \"linecolor\": \"white\", \"ticks\": \"\", \"title\": {\"standoff\": 15}, \"zerolinecolor\": \"white\", \"zerolinewidth\": 2}, \"yaxis\": {\"automargin\": true, \"gridcolor\": \"white\", \"linecolor\": \"white\", \"ticks\": \"\", \"title\": {\"standoff\": 15}, \"zerolinecolor\": \"white\", \"zerolinewidth\": 2}}}, \"title\": {\"text\": \"Deaths month by month with predictions\"}, \"xaxis\": {\"anchor\": \"y\", \"domain\": [0.0, 1.0], \"title\": {\"text\": \"month_year\"}}, \"yaxis\": {\"anchor\": \"x\", \"domain\": [0.0, 1.0], \"title\": {\"text\": \"count\"}}},\n",
       "                        {\"responsive\": true}\n",
       "                    ).then(function(){\n",
       "                            \n",
       "var gd = document.getElementById('17cf2292-2118-42be-bd78-452d746c93c5');\n",
       "var x = new MutationObserver(function (mutations, observer) {{\n",
       "        var display = window.getComputedStyle(gd).display;\n",
       "        if (!display || display === 'none') {{\n",
       "            console.log([gd, 'removed!']);\n",
       "            Plotly.purge(gd);\n",
       "            observer.disconnect();\n",
       "        }}\n",
       "}});\n",
       "\n",
       "// Listen for the removal of the full notebook cells\n",
       "var notebookContainer = gd.closest('#notebook-container');\n",
       "if (notebookContainer) {{\n",
       "    x.observe(notebookContainer, {childList: true});\n",
       "}}\n",
       "\n",
       "// Listen for the clearing of the current output cell\n",
       "var outputEl = gd.closest('.output');\n",
       "if (outputEl) {{\n",
       "    x.observe(outputEl, {childList: true});\n",
       "}}\n",
       "\n",
       "                        })\n",
       "                };\n",
       "                });\n",
       "            </script>\n",
       "        </div>"
      ]
     },
     "metadata": {},
     "output_type": "display_data"
    }
   ],
   "source": [
    "new_df = pd.DataFrame()\n",
    "new_df['month_year'] = months\n",
    "new_df['count'] = preds\n",
    "data = pd.concat([data, new_df])\n",
    "\n",
    "fig = px.line(data, x=\"month_year\", y=\"count\", title='Deaths month by month with predictions')\n",
    "fig.show()"
   ]
  },
  {
   "cell_type": "code",
   "execution_count": 145,
   "metadata": {},
   "outputs": [
    {
     "name": "stdout",
     "output_type": "stream",
     "text": [
      "Thanks for your time \n",
      " \n",
      " Wendel Amoo\n"
     ]
    }
   ],
   "source": [
    "print('Thanks for your time \\n \\n Wendel Amoo')"
   ]
  },
  {
   "cell_type": "code",
   "execution_count": null,
   "metadata": {},
   "outputs": [],
   "source": []
  }
 ],
 "metadata": {
  "kernelspec": {
   "display_name": "Python 3",
   "language": "python",
   "name": "python3"
  },
  "language_info": {
   "codemirror_mode": {
    "name": "ipython",
    "version": 3
   },
   "file_extension": ".py",
   "mimetype": "text/x-python",
   "name": "python",
   "nbconvert_exporter": "python",
   "pygments_lexer": "ipython3",
   "version": "3.8.3"
  }
 },
 "nbformat": 4,
 "nbformat_minor": 4
}
