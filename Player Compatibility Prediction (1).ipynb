{
 "cells": [
  {
   "cell_type": "code",
   "execution_count": 1,
   "metadata": {},
   "outputs": [],
   "source": [
    "import pandas as pd\n",
    "import numpy as np\n",
    "import matplotlib.pyplot as plt\n",
    "import seaborn as sns\n",
    "import datetime as dt\n",
    "import plotly.graph_objects as go\n",
    "import plotly.figure_factory as ff\n",
    "import plotly.express as px\n",
    "from plotly.subplots import make_subplots"
   ]
  },
  {
   "cell_type": "code",
   "execution_count": 2,
   "metadata": {},
   "outputs": [
    {
     "name": "stderr",
     "output_type": "stream",
     "text": [
      "C:\\Users\\SOLOMON\\anaconda3\\lib\\site-packages\\IPython\\core\\interactiveshell.py:3071: DtypeWarning: Columns (0) have mixed types.Specify dtype option on import or set low_memory=False.\n",
      "  has_raised = await self.run_ast_nodes(code_ast.body, cell_name,\n"
     ]
    }
   ],
   "source": [
    "fifa20 = pd.read_csv(r'C:\\Users\\SOLOMON\\Desktop\\wendel\\Kaggle\\Fifa Players Datasets\\players_20.csv',delimiter = '|')\n",
    "fifa19 = pd.read_csv(r'C:\\Users\\SOLOMON\\Desktop\\wendel\\Kaggle\\Fifa Players Datasets\\players_19.csv')\n",
    "fifa18 = pd.read_csv(r'C:\\Users\\SOLOMON\\Desktop\\wendel\\Kaggle\\Fifa Players Datasets\\players_18.csv')\n",
    "fifa17 = pd.read_csv(r'C:\\Users\\SOLOMON\\Desktop\\wendel\\Kaggle\\Fifa Players Datasets\\players_17.csv')\n",
    "fifa16 = pd.read_csv(r'C:\\Users\\SOLOMON\\Desktop\\wendel\\Kaggle\\Fifa Players Datasets\\players_16.csv')"
   ]
  },
  {
   "cell_type": "code",
   "execution_count": 3,
   "metadata": {},
   "outputs": [],
   "source": [
    "df20 = fifa20.drop(['sofifa_id','player_url'],axis =1)\n",
    "df19 = fifa19.drop(['sofifa_id','player_url'],axis =1)\n",
    "df18 = fifa18.drop(['sofifa_id','player_url'],axis =1)\n",
    "df17 = fifa17.drop(['sofifa_id','player_url'],axis =1)\n",
    "df16 = fifa16.drop(['sofifa_id','player_url'],axis =1)"
   ]
  },
  {
   "cell_type": "code",
   "execution_count": 4,
   "metadata": {},
   "outputs": [],
   "source": [
    "# Drop Unnecessary columns\n",
    "df20 = df20.drop(['long_name', 'body_type', 'real_face', 'loaned_from', 'nation_position', 'nation_jersey_number'], axis=1)\n",
    "df19 = df19.drop(['long_name', 'body_type', 'real_face', 'loaned_from', 'nation_position', 'nation_jersey_number'], axis=1)\n",
    "df18 = df18.drop(['long_name', 'body_type', 'real_face', 'loaned_from', 'nation_position', 'nation_jersey_number'], axis=1)\n",
    "df17 = df17.drop(['long_name', 'body_type', 'real_face', 'loaned_from', 'nation_position', 'nation_jersey_number'], axis=1)\n",
    "df16 = df16.drop(['long_name', 'body_type', 'real_face', 'loaned_from', 'nation_position', 'nation_jersey_number'], axis=1)"
   ]
  },
  {
   "cell_type": "code",
   "execution_count": 5,
   "metadata": {},
   "outputs": [
    {
     "data": {
      "text/plain": [
       "(18280, 104)"
      ]
     },
     "execution_count": 5,
     "metadata": {},
     "output_type": "execute_result"
    }
   ],
   "source": [
    "# Create dummy variables and append to dataframe\n",
    "df20 = pd.concat([df20, pd.get_dummies(df20['work_rate'])], axis=1)\n",
    "# Drop original work_rate column\n",
    "df20 = df20.drop(['work_rate'], axis=1)\n",
    "df20.shape"
   ]
  },
  {
   "cell_type": "code",
   "execution_count": 6,
   "metadata": {},
   "outputs": [],
   "source": [
    "#adding BMI to the datset for the recommendation system\n",
    "df20['bmi'] = df20['height_cm']/(df20['weight_kg']**2)"
   ]
  },
  {
   "cell_type": "code",
   "execution_count": 7,
   "metadata": {},
   "outputs": [],
   "source": [
    "#converting dob to datetime\n",
    "df20['dob']=pd.to_datetime(df20['dob'])\n",
    "df19['dob']=pd.to_datetime(df19['dob'])\n",
    "df18['dob']=pd.to_datetime(df18['dob'])\n",
    "df17['dob']=pd.to_datetime(df17['dob'])\n",
    "df16['dob']=pd.to_datetime(df16['dob'])"
   ]
  },
  {
   "cell_type": "code",
   "execution_count": 9,
   "metadata": {},
   "outputs": [
    {
     "data": {
      "text/html": [
       "<div>\n",
       "<style scoped>\n",
       "    .dataframe tbody tr th:only-of-type {\n",
       "        vertical-align: middle;\n",
       "    }\n",
       "\n",
       "    .dataframe tbody tr th {\n",
       "        vertical-align: top;\n",
       "    }\n",
       "\n",
       "    .dataframe thead th {\n",
       "        text-align: right;\n",
       "    }\n",
       "</style>\n",
       "<table border=\"1\" class=\"dataframe\">\n",
       "  <thead>\n",
       "    <tr style=\"text-align: right;\">\n",
       "      <th></th>\n",
       "      <th>short_name</th>\n",
       "      <th>age</th>\n",
       "      <th>dob</th>\n",
       "      <th>height_cm</th>\n",
       "      <th>weight_kg</th>\n",
       "      <th>nationality</th>\n",
       "      <th>club</th>\n",
       "      <th>overall</th>\n",
       "      <th>potential</th>\n",
       "      <th>value_eur</th>\n",
       "      <th>...</th>\n",
       "      <th>High/High</th>\n",
       "      <th>High/Low</th>\n",
       "      <th>High/Medium</th>\n",
       "      <th>Low/High</th>\n",
       "      <th>Low/Low</th>\n",
       "      <th>Low/Medium</th>\n",
       "      <th>Medium/High</th>\n",
       "      <th>Medium/Low</th>\n",
       "      <th>Medium/Medium</th>\n",
       "      <th>bmi</th>\n",
       "    </tr>\n",
       "  </thead>\n",
       "  <tbody>\n",
       "    <tr>\n",
       "      <th>240</th>\n",
       "      <td>A. Gomes</td>\n",
       "      <td>18.0</td>\n",
       "      <td>2000-08-31</td>\n",
       "      <td>169.0</td>\n",
       "      <td>61.0</td>\n",
       "      <td>England</td>\n",
       "      <td>Manchester United</td>\n",
       "      <td>68.0</td>\n",
       "      <td>86.0</td>\n",
       "      <td>1800000.0</td>\n",
       "      <td>...</td>\n",
       "      <td>0</td>\n",
       "      <td>0</td>\n",
       "      <td>0</td>\n",
       "      <td>0</td>\n",
       "      <td>0</td>\n",
       "      <td>0</td>\n",
       "      <td>0</td>\n",
       "      <td>0</td>\n",
       "      <td>1</td>\n",
       "      <td>0.045418</td>\n",
       "    </tr>\n",
       "    <tr>\n",
       "      <th>241</th>\n",
       "      <td>A. Gouiri</td>\n",
       "      <td>19.0</td>\n",
       "      <td>2000-02-16</td>\n",
       "      <td>180.0</td>\n",
       "      <td>72.0</td>\n",
       "      <td>France</td>\n",
       "      <td>Olympique Lyonnais</td>\n",
       "      <td>68.0</td>\n",
       "      <td>86.0</td>\n",
       "      <td>1900000.0</td>\n",
       "      <td>...</td>\n",
       "      <td>0</td>\n",
       "      <td>0</td>\n",
       "      <td>0</td>\n",
       "      <td>0</td>\n",
       "      <td>0</td>\n",
       "      <td>0</td>\n",
       "      <td>0</td>\n",
       "      <td>0</td>\n",
       "      <td>1</td>\n",
       "      <td>0.034722</td>\n",
       "    </tr>\n",
       "    <tr>\n",
       "      <th>242</th>\n",
       "      <td>M. Ihattaren</td>\n",
       "      <td>17.0</td>\n",
       "      <td>2002-02-12</td>\n",
       "      <td>183.0</td>\n",
       "      <td>75.0</td>\n",
       "      <td>Netherlands</td>\n",
       "      <td>PSV</td>\n",
       "      <td>68.0</td>\n",
       "      <td>86.0</td>\n",
       "      <td>1800000.0</td>\n",
       "      <td>...</td>\n",
       "      <td>0</td>\n",
       "      <td>0</td>\n",
       "      <td>0</td>\n",
       "      <td>0</td>\n",
       "      <td>0</td>\n",
       "      <td>0</td>\n",
       "      <td>0</td>\n",
       "      <td>0</td>\n",
       "      <td>1</td>\n",
       "      <td>0.032533</td>\n",
       "    </tr>\n",
       "    <tr>\n",
       "      <th>243</th>\n",
       "      <td>Sergio Gómez</td>\n",
       "      <td>18.0</td>\n",
       "      <td>2000-09-04</td>\n",
       "      <td>171.0</td>\n",
       "      <td>68.0</td>\n",
       "      <td>Spain</td>\n",
       "      <td>SD Huesca</td>\n",
       "      <td>68.0</td>\n",
       "      <td>85.0</td>\n",
       "      <td>1800000.0</td>\n",
       "      <td>...</td>\n",
       "      <td>0</td>\n",
       "      <td>0</td>\n",
       "      <td>0</td>\n",
       "      <td>0</td>\n",
       "      <td>0</td>\n",
       "      <td>0</td>\n",
       "      <td>0</td>\n",
       "      <td>0</td>\n",
       "      <td>1</td>\n",
       "      <td>0.036981</td>\n",
       "    </tr>\n",
       "    <tr>\n",
       "      <th>244</th>\n",
       "      <td>B. Badiashile</td>\n",
       "      <td>18.0</td>\n",
       "      <td>2001-03-26</td>\n",
       "      <td>192.0</td>\n",
       "      <td>77.0</td>\n",
       "      <td>France</td>\n",
       "      <td>AS Monaco</td>\n",
       "      <td>68.0</td>\n",
       "      <td>85.0</td>\n",
       "      <td>1700000.0</td>\n",
       "      <td>...</td>\n",
       "      <td>0</td>\n",
       "      <td>0</td>\n",
       "      <td>0</td>\n",
       "      <td>1</td>\n",
       "      <td>0</td>\n",
       "      <td>0</td>\n",
       "      <td>0</td>\n",
       "      <td>0</td>\n",
       "      <td>0</td>\n",
       "      <td>0.032383</td>\n",
       "    </tr>\n",
       "    <tr>\n",
       "      <th>245</th>\n",
       "      <td>M. Pellegrini</td>\n",
       "      <td>19.0</td>\n",
       "      <td>2000-03-11</td>\n",
       "      <td>176.0</td>\n",
       "      <td>71.0</td>\n",
       "      <td>Argentina</td>\n",
       "      <td>Estudiantes de La Plata</td>\n",
       "      <td>68.0</td>\n",
       "      <td>85.0</td>\n",
       "      <td>1900000.0</td>\n",
       "      <td>...</td>\n",
       "      <td>0</td>\n",
       "      <td>0</td>\n",
       "      <td>0</td>\n",
       "      <td>0</td>\n",
       "      <td>0</td>\n",
       "      <td>0</td>\n",
       "      <td>1</td>\n",
       "      <td>0</td>\n",
       "      <td>0</td>\n",
       "      <td>0.034914</td>\n",
       "    </tr>\n",
       "    <tr>\n",
       "      <th>246</th>\n",
       "      <td>Montero</td>\n",
       "      <td>20.0</td>\n",
       "      <td>1999-01-14</td>\n",
       "      <td>185.0</td>\n",
       "      <td>76.0</td>\n",
       "      <td>Spain</td>\n",
       "      <td>Atlético Madrid</td>\n",
       "      <td>68.0</td>\n",
       "      <td>85.0</td>\n",
       "      <td>1800000.0</td>\n",
       "      <td>...</td>\n",
       "      <td>0</td>\n",
       "      <td>0</td>\n",
       "      <td>0</td>\n",
       "      <td>0</td>\n",
       "      <td>0</td>\n",
       "      <td>0</td>\n",
       "      <td>0</td>\n",
       "      <td>0</td>\n",
       "      <td>1</td>\n",
       "      <td>0.032029</td>\n",
       "    </tr>\n",
       "    <tr>\n",
       "      <th>247</th>\n",
       "      <td>A. Kutucu</td>\n",
       "      <td>19.0</td>\n",
       "      <td>2000-03-01</td>\n",
       "      <td>181.0</td>\n",
       "      <td>76.0</td>\n",
       "      <td>Turkey</td>\n",
       "      <td>FC Schalke 04</td>\n",
       "      <td>68.0</td>\n",
       "      <td>85.0</td>\n",
       "      <td>1900000.0</td>\n",
       "      <td>...</td>\n",
       "      <td>0</td>\n",
       "      <td>0</td>\n",
       "      <td>0</td>\n",
       "      <td>0</td>\n",
       "      <td>0</td>\n",
       "      <td>0</td>\n",
       "      <td>0</td>\n",
       "      <td>1</td>\n",
       "      <td>0</td>\n",
       "      <td>0.031337</td>\n",
       "    </tr>\n",
       "    <tr>\n",
       "      <th>248</th>\n",
       "      <td>Fábio Silva</td>\n",
       "      <td>16.0</td>\n",
       "      <td>2002-07-19</td>\n",
       "      <td>185.0</td>\n",
       "      <td>75.0</td>\n",
       "      <td>Portugal</td>\n",
       "      <td>FC Porto</td>\n",
       "      <td>68.0</td>\n",
       "      <td>85.0</td>\n",
       "      <td>1800000.0</td>\n",
       "      <td>...</td>\n",
       "      <td>1</td>\n",
       "      <td>0</td>\n",
       "      <td>0</td>\n",
       "      <td>0</td>\n",
       "      <td>0</td>\n",
       "      <td>0</td>\n",
       "      <td>0</td>\n",
       "      <td>0</td>\n",
       "      <td>0</td>\n",
       "      <td>0.032889</td>\n",
       "    </tr>\n",
       "    <tr>\n",
       "      <th>249</th>\n",
       "      <td>L. Kelly</td>\n",
       "      <td>20.0</td>\n",
       "      <td>1998-10-01</td>\n",
       "      <td>191.0</td>\n",
       "      <td>70.0</td>\n",
       "      <td>England</td>\n",
       "      <td>Bournemouth</td>\n",
       "      <td>68.0</td>\n",
       "      <td>84.0</td>\n",
       "      <td>1800000.0</td>\n",
       "      <td>...</td>\n",
       "      <td>0</td>\n",
       "      <td>0</td>\n",
       "      <td>0</td>\n",
       "      <td>0</td>\n",
       "      <td>0</td>\n",
       "      <td>0</td>\n",
       "      <td>0</td>\n",
       "      <td>0</td>\n",
       "      <td>1</td>\n",
       "      <td>0.038980</td>\n",
       "    </tr>\n",
       "    <tr>\n",
       "      <th>250</th>\n",
       "      <td>Diogo Queirós</td>\n",
       "      <td>20.0</td>\n",
       "      <td>1999-01-05</td>\n",
       "      <td>185.0</td>\n",
       "      <td>80.0</td>\n",
       "      <td>Portugal</td>\n",
       "      <td>FC Porto</td>\n",
       "      <td>68.0</td>\n",
       "      <td>84.0</td>\n",
       "      <td>1800000.0</td>\n",
       "      <td>...</td>\n",
       "      <td>0</td>\n",
       "      <td>0</td>\n",
       "      <td>0</td>\n",
       "      <td>0</td>\n",
       "      <td>0</td>\n",
       "      <td>0</td>\n",
       "      <td>1</td>\n",
       "      <td>0</td>\n",
       "      <td>0</td>\n",
       "      <td>0.028906</td>\n",
       "    </tr>\n",
       "    <tr>\n",
       "      <th>251</th>\n",
       "      <td>E. Nketiah</td>\n",
       "      <td>20.0</td>\n",
       "      <td>1999-05-30</td>\n",
       "      <td>175.0</td>\n",
       "      <td>70.0</td>\n",
       "      <td>England</td>\n",
       "      <td>Leeds United</td>\n",
       "      <td>68.0</td>\n",
       "      <td>84.0</td>\n",
       "      <td>2000000.0</td>\n",
       "      <td>...</td>\n",
       "      <td>0</td>\n",
       "      <td>0</td>\n",
       "      <td>1</td>\n",
       "      <td>0</td>\n",
       "      <td>0</td>\n",
       "      <td>0</td>\n",
       "      <td>0</td>\n",
       "      <td>0</td>\n",
       "      <td>0</td>\n",
       "      <td>0.035714</td>\n",
       "    </tr>\n",
       "    <tr>\n",
       "      <th>252</th>\n",
       "      <td>Abel Ruiz</td>\n",
       "      <td>19.0</td>\n",
       "      <td>2000-01-28</td>\n",
       "      <td>182.0</td>\n",
       "      <td>73.0</td>\n",
       "      <td>Spain</td>\n",
       "      <td>FC Barcelona</td>\n",
       "      <td>68.0</td>\n",
       "      <td>84.0</td>\n",
       "      <td>1900000.0</td>\n",
       "      <td>...</td>\n",
       "      <td>0</td>\n",
       "      <td>0</td>\n",
       "      <td>0</td>\n",
       "      <td>0</td>\n",
       "      <td>0</td>\n",
       "      <td>0</td>\n",
       "      <td>0</td>\n",
       "      <td>0</td>\n",
       "      <td>1</td>\n",
       "      <td>0.034153</td>\n",
       "    </tr>\n",
       "    <tr>\n",
       "      <th>253</th>\n",
       "      <td>N. Okafor</td>\n",
       "      <td>19.0</td>\n",
       "      <td>2000-05-24</td>\n",
       "      <td>185.0</td>\n",
       "      <td>85.0</td>\n",
       "      <td>Switzerland</td>\n",
       "      <td>FC Basel 1893</td>\n",
       "      <td>68.0</td>\n",
       "      <td>84.0</td>\n",
       "      <td>1900000.0</td>\n",
       "      <td>...</td>\n",
       "      <td>0</td>\n",
       "      <td>0</td>\n",
       "      <td>0</td>\n",
       "      <td>0</td>\n",
       "      <td>0</td>\n",
       "      <td>0</td>\n",
       "      <td>0</td>\n",
       "      <td>0</td>\n",
       "      <td>1</td>\n",
       "      <td>0.025606</td>\n",
       "    </tr>\n",
       "    <tr>\n",
       "      <th>254</th>\n",
       "      <td>C. Willock</td>\n",
       "      <td>21.0</td>\n",
       "      <td>1998-01-31</td>\n",
       "      <td>178.0</td>\n",
       "      <td>67.0</td>\n",
       "      <td>England</td>\n",
       "      <td>West Bromwich Albion</td>\n",
       "      <td>68.0</td>\n",
       "      <td>83.0</td>\n",
       "      <td>2000000.0</td>\n",
       "      <td>...</td>\n",
       "      <td>0</td>\n",
       "      <td>0</td>\n",
       "      <td>0</td>\n",
       "      <td>0</td>\n",
       "      <td>0</td>\n",
       "      <td>0</td>\n",
       "      <td>0</td>\n",
       "      <td>0</td>\n",
       "      <td>1</td>\n",
       "      <td>0.039652</td>\n",
       "    </tr>\n",
       "    <tr>\n",
       "      <th>255</th>\n",
       "      <td>R. McCrorie</td>\n",
       "      <td>21.0</td>\n",
       "      <td>1998-03-18</td>\n",
       "      <td>191.0</td>\n",
       "      <td>80.0</td>\n",
       "      <td>Scotland</td>\n",
       "      <td>Portsmouth</td>\n",
       "      <td>68.0</td>\n",
       "      <td>83.0</td>\n",
       "      <td>1900000.0</td>\n",
       "      <td>...</td>\n",
       "      <td>0</td>\n",
       "      <td>0</td>\n",
       "      <td>0</td>\n",
       "      <td>0</td>\n",
       "      <td>0</td>\n",
       "      <td>0</td>\n",
       "      <td>1</td>\n",
       "      <td>0</td>\n",
       "      <td>0</td>\n",
       "      <td>0.029844</td>\n",
       "    </tr>\n",
       "    <tr>\n",
       "      <th>256</th>\n",
       "      <td>B. Woodburn</td>\n",
       "      <td>19.0</td>\n",
       "      <td>1999-10-15</td>\n",
       "      <td>174.0</td>\n",
       "      <td>72.0</td>\n",
       "      <td>Wales</td>\n",
       "      <td>Oxford United</td>\n",
       "      <td>68.0</td>\n",
       "      <td>83.0</td>\n",
       "      <td>1900000.0</td>\n",
       "      <td>...</td>\n",
       "      <td>0</td>\n",
       "      <td>0</td>\n",
       "      <td>1</td>\n",
       "      <td>0</td>\n",
       "      <td>0</td>\n",
       "      <td>0</td>\n",
       "      <td>0</td>\n",
       "      <td>0</td>\n",
       "      <td>0</td>\n",
       "      <td>0.033565</td>\n",
       "    </tr>\n",
       "    <tr>\n",
       "      <th>257</th>\n",
       "      <td>H. Evjen</td>\n",
       "      <td>19.0</td>\n",
       "      <td>2000-02-14</td>\n",
       "      <td>180.0</td>\n",
       "      <td>70.0</td>\n",
       "      <td>Norway</td>\n",
       "      <td>FK Bodø/Glimt</td>\n",
       "      <td>68.0</td>\n",
       "      <td>83.0</td>\n",
       "      <td>1900000.0</td>\n",
       "      <td>...</td>\n",
       "      <td>1</td>\n",
       "      <td>0</td>\n",
       "      <td>0</td>\n",
       "      <td>0</td>\n",
       "      <td>0</td>\n",
       "      <td>0</td>\n",
       "      <td>0</td>\n",
       "      <td>0</td>\n",
       "      <td>0</td>\n",
       "      <td>0.036735</td>\n",
       "    </tr>\n",
       "    <tr>\n",
       "      <th>258</th>\n",
       "      <td>M. Salisu</td>\n",
       "      <td>20.0</td>\n",
       "      <td>1999-04-17</td>\n",
       "      <td>191.0</td>\n",
       "      <td>85.0</td>\n",
       "      <td>Ghana</td>\n",
       "      <td>Real Valladolid CF</td>\n",
       "      <td>68.0</td>\n",
       "      <td>83.0</td>\n",
       "      <td>1800000.0</td>\n",
       "      <td>...</td>\n",
       "      <td>0</td>\n",
       "      <td>0</td>\n",
       "      <td>0</td>\n",
       "      <td>0</td>\n",
       "      <td>0</td>\n",
       "      <td>0</td>\n",
       "      <td>1</td>\n",
       "      <td>0</td>\n",
       "      <td>0</td>\n",
       "      <td>0.026436</td>\n",
       "    </tr>\n",
       "    <tr>\n",
       "      <th>259</th>\n",
       "      <td>A. Barreal</td>\n",
       "      <td>18.0</td>\n",
       "      <td>2000-07-16</td>\n",
       "      <td>172.0</td>\n",
       "      <td>66.0</td>\n",
       "      <td>Argentina</td>\n",
       "      <td>Vélez Sarsfield</td>\n",
       "      <td>68.0</td>\n",
       "      <td>83.0</td>\n",
       "      <td>1800000.0</td>\n",
       "      <td>...</td>\n",
       "      <td>0</td>\n",
       "      <td>0</td>\n",
       "      <td>0</td>\n",
       "      <td>0</td>\n",
       "      <td>0</td>\n",
       "      <td>0</td>\n",
       "      <td>0</td>\n",
       "      <td>1</td>\n",
       "      <td>0</td>\n",
       "      <td>0.039486</td>\n",
       "    </tr>\n",
       "    <tr>\n",
       "      <th>260</th>\n",
       "      <td>Gabriel Martinelli</td>\n",
       "      <td>18.0</td>\n",
       "      <td>2001-06-18</td>\n",
       "      <td>180.0</td>\n",
       "      <td>75.0</td>\n",
       "      <td>Brazil</td>\n",
       "      <td>Arsenal</td>\n",
       "      <td>68.0</td>\n",
       "      <td>83.0</td>\n",
       "      <td>1800000.0</td>\n",
       "      <td>...</td>\n",
       "      <td>0</td>\n",
       "      <td>0</td>\n",
       "      <td>0</td>\n",
       "      <td>0</td>\n",
       "      <td>0</td>\n",
       "      <td>0</td>\n",
       "      <td>0</td>\n",
       "      <td>0</td>\n",
       "      <td>1</td>\n",
       "      <td>0.032000</td>\n",
       "    </tr>\n",
       "    <tr>\n",
       "      <th>261</th>\n",
       "      <td>G. Diangana</td>\n",
       "      <td>21.0</td>\n",
       "      <td>1998-04-19</td>\n",
       "      <td>180.0</td>\n",
       "      <td>73.0</td>\n",
       "      <td>England</td>\n",
       "      <td>West Bromwich Albion</td>\n",
       "      <td>68.0</td>\n",
       "      <td>82.0</td>\n",
       "      <td>2000000.0</td>\n",
       "      <td>...</td>\n",
       "      <td>0</td>\n",
       "      <td>0</td>\n",
       "      <td>1</td>\n",
       "      <td>0</td>\n",
       "      <td>0</td>\n",
       "      <td>0</td>\n",
       "      <td>0</td>\n",
       "      <td>0</td>\n",
       "      <td>0</td>\n",
       "      <td>0.033777</td>\n",
       "    </tr>\n",
       "    <tr>\n",
       "      <th>262</th>\n",
       "      <td>S. Birindelli</td>\n",
       "      <td>19.0</td>\n",
       "      <td>1999-07-19</td>\n",
       "      <td>175.0</td>\n",
       "      <td>70.0</td>\n",
       "      <td>Italy</td>\n",
       "      <td>Pisa</td>\n",
       "      <td>68.0</td>\n",
       "      <td>82.0</td>\n",
       "      <td>1800000.0</td>\n",
       "      <td>...</td>\n",
       "      <td>0</td>\n",
       "      <td>0</td>\n",
       "      <td>1</td>\n",
       "      <td>0</td>\n",
       "      <td>0</td>\n",
       "      <td>0</td>\n",
       "      <td>0</td>\n",
       "      <td>0</td>\n",
       "      <td>0</td>\n",
       "      <td>0.035714</td>\n",
       "    </tr>\n",
       "    <tr>\n",
       "      <th>263</th>\n",
       "      <td>S. Nsoki</td>\n",
       "      <td>20.0</td>\n",
       "      <td>1999-04-09</td>\n",
       "      <td>185.0</td>\n",
       "      <td>78.0</td>\n",
       "      <td>France</td>\n",
       "      <td>Paris Saint-Germain</td>\n",
       "      <td>68.0</td>\n",
       "      <td>82.0</td>\n",
       "      <td>1800000.0</td>\n",
       "      <td>...</td>\n",
       "      <td>0</td>\n",
       "      <td>0</td>\n",
       "      <td>0</td>\n",
       "      <td>0</td>\n",
       "      <td>0</td>\n",
       "      <td>1</td>\n",
       "      <td>0</td>\n",
       "      <td>0</td>\n",
       "      <td>0</td>\n",
       "      <td>0.030408</td>\n",
       "    </tr>\n",
       "    <tr>\n",
       "      <th>264</th>\n",
       "      <td>C. Kouan</td>\n",
       "      <td>19.0</td>\n",
       "      <td>1999-12-20</td>\n",
       "      <td>178.0</td>\n",
       "      <td>74.0</td>\n",
       "      <td>Ivory Coast</td>\n",
       "      <td>Perugia</td>\n",
       "      <td>68.0</td>\n",
       "      <td>82.0</td>\n",
       "      <td>1900000.0</td>\n",
       "      <td>...</td>\n",
       "      <td>0</td>\n",
       "      <td>0</td>\n",
       "      <td>1</td>\n",
       "      <td>0</td>\n",
       "      <td>0</td>\n",
       "      <td>0</td>\n",
       "      <td>0</td>\n",
       "      <td>0</td>\n",
       "      <td>0</td>\n",
       "      <td>0.032505</td>\n",
       "    </tr>\n",
       "    <tr>\n",
       "      <th>265</th>\n",
       "      <td>F. Ortega</td>\n",
       "      <td>20.0</td>\n",
       "      <td>1999-03-19</td>\n",
       "      <td>177.0</td>\n",
       "      <td>75.0</td>\n",
       "      <td>Argentina</td>\n",
       "      <td>Vélez Sarsfield</td>\n",
       "      <td>68.0</td>\n",
       "      <td>82.0</td>\n",
       "      <td>1800000.0</td>\n",
       "      <td>...</td>\n",
       "      <td>0</td>\n",
       "      <td>0</td>\n",
       "      <td>1</td>\n",
       "      <td>0</td>\n",
       "      <td>0</td>\n",
       "      <td>0</td>\n",
       "      <td>0</td>\n",
       "      <td>0</td>\n",
       "      <td>0</td>\n",
       "      <td>0.031467</td>\n",
       "    </tr>\n",
       "    <tr>\n",
       "      <th>266</th>\n",
       "      <td>Alberto Soro</td>\n",
       "      <td>20.0</td>\n",
       "      <td>1999-03-09</td>\n",
       "      <td>173.0</td>\n",
       "      <td>63.0</td>\n",
       "      <td>Spain</td>\n",
       "      <td>Real Zaragoza</td>\n",
       "      <td>68.0</td>\n",
       "      <td>82.0</td>\n",
       "      <td>2000000.0</td>\n",
       "      <td>...</td>\n",
       "      <td>0</td>\n",
       "      <td>0</td>\n",
       "      <td>0</td>\n",
       "      <td>0</td>\n",
       "      <td>0</td>\n",
       "      <td>0</td>\n",
       "      <td>0</td>\n",
       "      <td>0</td>\n",
       "      <td>1</td>\n",
       "      <td>0.043588</td>\n",
       "    </tr>\n",
       "    <tr>\n",
       "      <th>267</th>\n",
       "      <td>S. Walukiewicz</td>\n",
       "      <td>19.0</td>\n",
       "      <td>2000-04-05</td>\n",
       "      <td>188.0</td>\n",
       "      <td>80.0</td>\n",
       "      <td>Poland</td>\n",
       "      <td>Cagliari</td>\n",
       "      <td>68.0</td>\n",
       "      <td>82.0</td>\n",
       "      <td>1800000.0</td>\n",
       "      <td>...</td>\n",
       "      <td>0</td>\n",
       "      <td>0</td>\n",
       "      <td>1</td>\n",
       "      <td>0</td>\n",
       "      <td>0</td>\n",
       "      <td>0</td>\n",
       "      <td>0</td>\n",
       "      <td>0</td>\n",
       "      <td>0</td>\n",
       "      <td>0.029375</td>\n",
       "    </tr>\n",
       "    <tr>\n",
       "      <th>268</th>\n",
       "      <td>N. Opoku</td>\n",
       "      <td>21.0</td>\n",
       "      <td>1997-11-08</td>\n",
       "      <td>190.0</td>\n",
       "      <td>78.0</td>\n",
       "      <td>Ghana</td>\n",
       "      <td>Udinese</td>\n",
       "      <td>68.0</td>\n",
       "      <td>82.0</td>\n",
       "      <td>1800000.0</td>\n",
       "      <td>...</td>\n",
       "      <td>0</td>\n",
       "      <td>0</td>\n",
       "      <td>0</td>\n",
       "      <td>0</td>\n",
       "      <td>0</td>\n",
       "      <td>0</td>\n",
       "      <td>0</td>\n",
       "      <td>0</td>\n",
       "      <td>1</td>\n",
       "      <td>0.031229</td>\n",
       "    </tr>\n",
       "    <tr>\n",
       "      <th>269</th>\n",
       "      <td>K. Michael</td>\n",
       "      <td>19.0</td>\n",
       "      <td>1999-08-26</td>\n",
       "      <td>176.0</td>\n",
       "      <td>70.0</td>\n",
       "      <td>Nigeria</td>\n",
       "      <td>Bologna</td>\n",
       "      <td>68.0</td>\n",
       "      <td>82.0</td>\n",
       "      <td>1900000.0</td>\n",
       "      <td>...</td>\n",
       "      <td>0</td>\n",
       "      <td>0</td>\n",
       "      <td>1</td>\n",
       "      <td>0</td>\n",
       "      <td>0</td>\n",
       "      <td>0</td>\n",
       "      <td>0</td>\n",
       "      <td>0</td>\n",
       "      <td>0</td>\n",
       "      <td>0.035918</td>\n",
       "    </tr>\n",
       "  </tbody>\n",
       "</table>\n",
       "<p>30 rows × 105 columns</p>\n",
       "</div>"
      ],
      "text/plain": [
       "             short_name   age        dob  height_cm  weight_kg  nationality  \\\n",
       "240            A. Gomes  18.0 2000-08-31      169.0       61.0      England   \n",
       "241           A. Gouiri  19.0 2000-02-16      180.0       72.0       France   \n",
       "242        M. Ihattaren  17.0 2002-02-12      183.0       75.0  Netherlands   \n",
       "243        Sergio Gómez  18.0 2000-09-04      171.0       68.0        Spain   \n",
       "244       B. Badiashile  18.0 2001-03-26      192.0       77.0       France   \n",
       "245       M. Pellegrini  19.0 2000-03-11      176.0       71.0    Argentina   \n",
       "246             Montero  20.0 1999-01-14      185.0       76.0        Spain   \n",
       "247           A. Kutucu  19.0 2000-03-01      181.0       76.0       Turkey   \n",
       "248         Fábio Silva  16.0 2002-07-19      185.0       75.0     Portugal   \n",
       "249            L. Kelly  20.0 1998-10-01      191.0       70.0      England   \n",
       "250       Diogo Queirós  20.0 1999-01-05      185.0       80.0     Portugal   \n",
       "251          E. Nketiah  20.0 1999-05-30      175.0       70.0      England   \n",
       "252           Abel Ruiz  19.0 2000-01-28      182.0       73.0        Spain   \n",
       "253           N. Okafor  19.0 2000-05-24      185.0       85.0  Switzerland   \n",
       "254          C. Willock  21.0 1998-01-31      178.0       67.0      England   \n",
       "255         R. McCrorie  21.0 1998-03-18      191.0       80.0     Scotland   \n",
       "256         B. Woodburn  19.0 1999-10-15      174.0       72.0        Wales   \n",
       "257            H. Evjen  19.0 2000-02-14      180.0       70.0       Norway   \n",
       "258           M. Salisu  20.0 1999-04-17      191.0       85.0        Ghana   \n",
       "259          A. Barreal  18.0 2000-07-16      172.0       66.0    Argentina   \n",
       "260  Gabriel Martinelli  18.0 2001-06-18      180.0       75.0       Brazil   \n",
       "261         G. Diangana  21.0 1998-04-19      180.0       73.0      England   \n",
       "262       S. Birindelli  19.0 1999-07-19      175.0       70.0        Italy   \n",
       "263            S. Nsoki  20.0 1999-04-09      185.0       78.0       France   \n",
       "264            C. Kouan  19.0 1999-12-20      178.0       74.0  Ivory Coast   \n",
       "265           F. Ortega  20.0 1999-03-19      177.0       75.0    Argentina   \n",
       "266        Alberto Soro  20.0 1999-03-09      173.0       63.0        Spain   \n",
       "267      S. Walukiewicz  19.0 2000-04-05      188.0       80.0       Poland   \n",
       "268            N. Opoku  21.0 1997-11-08      190.0       78.0        Ghana   \n",
       "269          K. Michael  19.0 1999-08-26      176.0       70.0      Nigeria   \n",
       "\n",
       "                        club  overall  potential  value_eur  ...  High/High  \\\n",
       "240        Manchester United     68.0       86.0  1800000.0  ...          0   \n",
       "241       Olympique Lyonnais     68.0       86.0  1900000.0  ...          0   \n",
       "242                      PSV     68.0       86.0  1800000.0  ...          0   \n",
       "243                SD Huesca     68.0       85.0  1800000.0  ...          0   \n",
       "244                AS Monaco     68.0       85.0  1700000.0  ...          0   \n",
       "245  Estudiantes de La Plata     68.0       85.0  1900000.0  ...          0   \n",
       "246          Atlético Madrid     68.0       85.0  1800000.0  ...          0   \n",
       "247            FC Schalke 04     68.0       85.0  1900000.0  ...          0   \n",
       "248                 FC Porto     68.0       85.0  1800000.0  ...          1   \n",
       "249              Bournemouth     68.0       84.0  1800000.0  ...          0   \n",
       "250                 FC Porto     68.0       84.0  1800000.0  ...          0   \n",
       "251             Leeds United     68.0       84.0  2000000.0  ...          0   \n",
       "252             FC Barcelona     68.0       84.0  1900000.0  ...          0   \n",
       "253            FC Basel 1893     68.0       84.0  1900000.0  ...          0   \n",
       "254     West Bromwich Albion     68.0       83.0  2000000.0  ...          0   \n",
       "255               Portsmouth     68.0       83.0  1900000.0  ...          0   \n",
       "256            Oxford United     68.0       83.0  1900000.0  ...          0   \n",
       "257            FK Bodø/Glimt     68.0       83.0  1900000.0  ...          1   \n",
       "258       Real Valladolid CF     68.0       83.0  1800000.0  ...          0   \n",
       "259          Vélez Sarsfield     68.0       83.0  1800000.0  ...          0   \n",
       "260                  Arsenal     68.0       83.0  1800000.0  ...          0   \n",
       "261     West Bromwich Albion     68.0       82.0  2000000.0  ...          0   \n",
       "262                     Pisa     68.0       82.0  1800000.0  ...          0   \n",
       "263      Paris Saint-Germain     68.0       82.0  1800000.0  ...          0   \n",
       "264                  Perugia     68.0       82.0  1900000.0  ...          0   \n",
       "265          Vélez Sarsfield     68.0       82.0  1800000.0  ...          0   \n",
       "266            Real Zaragoza     68.0       82.0  2000000.0  ...          0   \n",
       "267                 Cagliari     68.0       82.0  1800000.0  ...          0   \n",
       "268                  Udinese     68.0       82.0  1800000.0  ...          0   \n",
       "269                  Bologna     68.0       82.0  1900000.0  ...          0   \n",
       "\n",
       "    High/Low High/Medium  Low/High  Low/Low  Low/Medium  Medium/High  \\\n",
       "240        0           0         0        0           0            0   \n",
       "241        0           0         0        0           0            0   \n",
       "242        0           0         0        0           0            0   \n",
       "243        0           0         0        0           0            0   \n",
       "244        0           0         1        0           0            0   \n",
       "245        0           0         0        0           0            1   \n",
       "246        0           0         0        0           0            0   \n",
       "247        0           0         0        0           0            0   \n",
       "248        0           0         0        0           0            0   \n",
       "249        0           0         0        0           0            0   \n",
       "250        0           0         0        0           0            1   \n",
       "251        0           1         0        0           0            0   \n",
       "252        0           0         0        0           0            0   \n",
       "253        0           0         0        0           0            0   \n",
       "254        0           0         0        0           0            0   \n",
       "255        0           0         0        0           0            1   \n",
       "256        0           1         0        0           0            0   \n",
       "257        0           0         0        0           0            0   \n",
       "258        0           0         0        0           0            1   \n",
       "259        0           0         0        0           0            0   \n",
       "260        0           0         0        0           0            0   \n",
       "261        0           1         0        0           0            0   \n",
       "262        0           1         0        0           0            0   \n",
       "263        0           0         0        0           1            0   \n",
       "264        0           1         0        0           0            0   \n",
       "265        0           1         0        0           0            0   \n",
       "266        0           0         0        0           0            0   \n",
       "267        0           1         0        0           0            0   \n",
       "268        0           0         0        0           0            0   \n",
       "269        0           1         0        0           0            0   \n",
       "\n",
       "    Medium/Low Medium/Medium       bmi  \n",
       "240          0             1  0.045418  \n",
       "241          0             1  0.034722  \n",
       "242          0             1  0.032533  \n",
       "243          0             1  0.036981  \n",
       "244          0             0  0.032383  \n",
       "245          0             0  0.034914  \n",
       "246          0             1  0.032029  \n",
       "247          1             0  0.031337  \n",
       "248          0             0  0.032889  \n",
       "249          0             1  0.038980  \n",
       "250          0             0  0.028906  \n",
       "251          0             0  0.035714  \n",
       "252          0             1  0.034153  \n",
       "253          0             1  0.025606  \n",
       "254          0             1  0.039652  \n",
       "255          0             0  0.029844  \n",
       "256          0             0  0.033565  \n",
       "257          0             0  0.036735  \n",
       "258          0             0  0.026436  \n",
       "259          1             0  0.039486  \n",
       "260          0             1  0.032000  \n",
       "261          0             0  0.033777  \n",
       "262          0             0  0.035714  \n",
       "263          0             0  0.030408  \n",
       "264          0             0  0.032505  \n",
       "265          0             0  0.031467  \n",
       "266          0             1  0.043588  \n",
       "267          0             0  0.029375  \n",
       "268          0             1  0.031229  \n",
       "269          0             0  0.035918  \n",
       "\n",
       "[30 rows x 105 columns]"
      ]
     },
     "execution_count": 9,
     "metadata": {},
     "output_type": "execute_result"
    }
   ],
   "source": [
    "#Finding potential players\n",
    "potential_players = df20[(df20['potential'] > 70) & (df20['overall'] < 75) & (df20['age'] <24)]\n",
    "potential_players_ready=potential_players[(potential_players['overall'] < 80) & (potential_players['overall'] > 70)]\n",
    "potential_players.head(n=30)"
   ]
  },
  {
   "cell_type": "code",
   "execution_count": 26,
   "metadata": {},
   "outputs": [
    {
     "data": {
      "application/vnd.plotly.v1+json": {
       "config": {
        "plotlyServerURL": "https://plot.ly"
       },
       "data": [
        {
         "line": {
          "color": "blue"
         },
         "name": "2020",
         "r": [
          77,
          82,
          80,
          87,
          61,
          78,
          86
         ],
         "theta": [
          "Pace",
          "Shooting",
          "Passing",
          "Dribbling",
          "Defending",
          "Physic",
          "Overall"
         ],
         "type": "scatterpolar"
        },
        {
         "line": {
          "color": "green"
         },
         "name": "2019",
         "r": [
          77,
          83,
          80,
          86,
          61,
          78,
          86
         ],
         "theta": [
          "Pace",
          "Shooting",
          "Passing",
          "Dribbling",
          "Defending",
          "Physic",
          "Overall"
         ],
         "type": "scatterpolar"
        },
        {
         "line": {
          "color": "red"
         },
         "name": "2018",
         "r": [
          77,
          81,
          79,
          85,
          46,
          77,
          83
         ],
         "theta": [
          "Pace",
          "Shooting",
          "Passing",
          "Dribbling",
          "Defending",
          "Physic",
          "Overall"
         ],
         "type": "scatterpolar"
        },
        {
         "line": {
          "color": "violet"
         },
         "name": "2017",
         "r": [
          79,
          80,
          78,
          85,
          40,
          72,
          82
         ],
         "theta": [
          "Pace",
          "Shooting",
          "Passing",
          "Dribbling",
          "Defending",
          "Physic",
          "Overall"
         ],
         "type": "scatterpolar"
        },
        {
         "line": {
          "color": "yellow"
         },
         "name": "2016",
         "r": [
          76,
          76,
          78,
          85,
          40,
          69,
          82
         ],
         "theta": [
          "Pace",
          "Shooting",
          "Passing",
          "Dribbling",
          "Defending",
          "Physic",
          "Overall"
         ],
         "type": "scatterpolar"
        }
       ],
       "layout": {
        "font": {
         "color": "#000000",
         "family": "Cambria, monospace",
         "size": 12
        },
        "polar": {
         "radialaxis": {
          "range": [
           0,
           100
          ],
          "visible": true
         }
        },
        "showlegend": true,
        "template": {
         "data": {
          "bar": [
           {
            "error_x": {
             "color": "#2a3f5f"
            },
            "error_y": {
             "color": "#2a3f5f"
            },
            "marker": {
             "line": {
              "color": "white",
              "width": 0.5
             }
            },
            "type": "bar"
           }
          ],
          "barpolar": [
           {
            "marker": {
             "line": {
              "color": "white",
              "width": 0.5
             }
            },
            "type": "barpolar"
           }
          ],
          "carpet": [
           {
            "aaxis": {
             "endlinecolor": "#2a3f5f",
             "gridcolor": "#C8D4E3",
             "linecolor": "#C8D4E3",
             "minorgridcolor": "#C8D4E3",
             "startlinecolor": "#2a3f5f"
            },
            "baxis": {
             "endlinecolor": "#2a3f5f",
             "gridcolor": "#C8D4E3",
             "linecolor": "#C8D4E3",
             "minorgridcolor": "#C8D4E3",
             "startlinecolor": "#2a3f5f"
            },
            "type": "carpet"
           }
          ],
          "choropleth": [
           {
            "colorbar": {
             "outlinewidth": 0,
             "ticks": ""
            },
            "type": "choropleth"
           }
          ],
          "contour": [
           {
            "colorbar": {
             "outlinewidth": 0,
             "ticks": ""
            },
            "colorscale": [
             [
              0,
              "#0d0887"
             ],
             [
              0.1111111111111111,
              "#46039f"
             ],
             [
              0.2222222222222222,
              "#7201a8"
             ],
             [
              0.3333333333333333,
              "#9c179e"
             ],
             [
              0.4444444444444444,
              "#bd3786"
             ],
             [
              0.5555555555555556,
              "#d8576b"
             ],
             [
              0.6666666666666666,
              "#ed7953"
             ],
             [
              0.7777777777777778,
              "#fb9f3a"
             ],
             [
              0.8888888888888888,
              "#fdca26"
             ],
             [
              1,
              "#f0f921"
             ]
            ],
            "type": "contour"
           }
          ],
          "contourcarpet": [
           {
            "colorbar": {
             "outlinewidth": 0,
             "ticks": ""
            },
            "type": "contourcarpet"
           }
          ],
          "heatmap": [
           {
            "colorbar": {
             "outlinewidth": 0,
             "ticks": ""
            },
            "colorscale": [
             [
              0,
              "#0d0887"
             ],
             [
              0.1111111111111111,
              "#46039f"
             ],
             [
              0.2222222222222222,
              "#7201a8"
             ],
             [
              0.3333333333333333,
              "#9c179e"
             ],
             [
              0.4444444444444444,
              "#bd3786"
             ],
             [
              0.5555555555555556,
              "#d8576b"
             ],
             [
              0.6666666666666666,
              "#ed7953"
             ],
             [
              0.7777777777777778,
              "#fb9f3a"
             ],
             [
              0.8888888888888888,
              "#fdca26"
             ],
             [
              1,
              "#f0f921"
             ]
            ],
            "type": "heatmap"
           }
          ],
          "heatmapgl": [
           {
            "colorbar": {
             "outlinewidth": 0,
             "ticks": ""
            },
            "colorscale": [
             [
              0,
              "#0d0887"
             ],
             [
              0.1111111111111111,
              "#46039f"
             ],
             [
              0.2222222222222222,
              "#7201a8"
             ],
             [
              0.3333333333333333,
              "#9c179e"
             ],
             [
              0.4444444444444444,
              "#bd3786"
             ],
             [
              0.5555555555555556,
              "#d8576b"
             ],
             [
              0.6666666666666666,
              "#ed7953"
             ],
             [
              0.7777777777777778,
              "#fb9f3a"
             ],
             [
              0.8888888888888888,
              "#fdca26"
             ],
             [
              1,
              "#f0f921"
             ]
            ],
            "type": "heatmapgl"
           }
          ],
          "histogram": [
           {
            "marker": {
             "colorbar": {
              "outlinewidth": 0,
              "ticks": ""
             }
            },
            "type": "histogram"
           }
          ],
          "histogram2d": [
           {
            "colorbar": {
             "outlinewidth": 0,
             "ticks": ""
            },
            "colorscale": [
             [
              0,
              "#0d0887"
             ],
             [
              0.1111111111111111,
              "#46039f"
             ],
             [
              0.2222222222222222,
              "#7201a8"
             ],
             [
              0.3333333333333333,
              "#9c179e"
             ],
             [
              0.4444444444444444,
              "#bd3786"
             ],
             [
              0.5555555555555556,
              "#d8576b"
             ],
             [
              0.6666666666666666,
              "#ed7953"
             ],
             [
              0.7777777777777778,
              "#fb9f3a"
             ],
             [
              0.8888888888888888,
              "#fdca26"
             ],
             [
              1,
              "#f0f921"
             ]
            ],
            "type": "histogram2d"
           }
          ],
          "histogram2dcontour": [
           {
            "colorbar": {
             "outlinewidth": 0,
             "ticks": ""
            },
            "colorscale": [
             [
              0,
              "#0d0887"
             ],
             [
              0.1111111111111111,
              "#46039f"
             ],
             [
              0.2222222222222222,
              "#7201a8"
             ],
             [
              0.3333333333333333,
              "#9c179e"
             ],
             [
              0.4444444444444444,
              "#bd3786"
             ],
             [
              0.5555555555555556,
              "#d8576b"
             ],
             [
              0.6666666666666666,
              "#ed7953"
             ],
             [
              0.7777777777777778,
              "#fb9f3a"
             ],
             [
              0.8888888888888888,
              "#fdca26"
             ],
             [
              1,
              "#f0f921"
             ]
            ],
            "type": "histogram2dcontour"
           }
          ],
          "mesh3d": [
           {
            "colorbar": {
             "outlinewidth": 0,
             "ticks": ""
            },
            "type": "mesh3d"
           }
          ],
          "parcoords": [
           {
            "line": {
             "colorbar": {
              "outlinewidth": 0,
              "ticks": ""
             }
            },
            "type": "parcoords"
           }
          ],
          "pie": [
           {
            "automargin": true,
            "type": "pie"
           }
          ],
          "scatter": [
           {
            "marker": {
             "colorbar": {
              "outlinewidth": 0,
              "ticks": ""
             }
            },
            "type": "scatter"
           }
          ],
          "scatter3d": [
           {
            "line": {
             "colorbar": {
              "outlinewidth": 0,
              "ticks": ""
             }
            },
            "marker": {
             "colorbar": {
              "outlinewidth": 0,
              "ticks": ""
             }
            },
            "type": "scatter3d"
           }
          ],
          "scattercarpet": [
           {
            "marker": {
             "colorbar": {
              "outlinewidth": 0,
              "ticks": ""
             }
            },
            "type": "scattercarpet"
           }
          ],
          "scattergeo": [
           {
            "marker": {
             "colorbar": {
              "outlinewidth": 0,
              "ticks": ""
             }
            },
            "type": "scattergeo"
           }
          ],
          "scattergl": [
           {
            "marker": {
             "colorbar": {
              "outlinewidth": 0,
              "ticks": ""
             }
            },
            "type": "scattergl"
           }
          ],
          "scattermapbox": [
           {
            "marker": {
             "colorbar": {
              "outlinewidth": 0,
              "ticks": ""
             }
            },
            "type": "scattermapbox"
           }
          ],
          "scatterpolar": [
           {
            "marker": {
             "colorbar": {
              "outlinewidth": 0,
              "ticks": ""
             }
            },
            "type": "scatterpolar"
           }
          ],
          "scatterpolargl": [
           {
            "marker": {
             "colorbar": {
              "outlinewidth": 0,
              "ticks": ""
             }
            },
            "type": "scatterpolargl"
           }
          ],
          "scatterternary": [
           {
            "marker": {
             "colorbar": {
              "outlinewidth": 0,
              "ticks": ""
             }
            },
            "type": "scatterternary"
           }
          ],
          "surface": [
           {
            "colorbar": {
             "outlinewidth": 0,
             "ticks": ""
            },
            "colorscale": [
             [
              0,
              "#0d0887"
             ],
             [
              0.1111111111111111,
              "#46039f"
             ],
             [
              0.2222222222222222,
              "#7201a8"
             ],
             [
              0.3333333333333333,
              "#9c179e"
             ],
             [
              0.4444444444444444,
              "#bd3786"
             ],
             [
              0.5555555555555556,
              "#d8576b"
             ],
             [
              0.6666666666666666,
              "#ed7953"
             ],
             [
              0.7777777777777778,
              "#fb9f3a"
             ],
             [
              0.8888888888888888,
              "#fdca26"
             ],
             [
              1,
              "#f0f921"
             ]
            ],
            "type": "surface"
           }
          ],
          "table": [
           {
            "cells": {
             "fill": {
              "color": "#EBF0F8"
             },
             "line": {
              "color": "white"
             }
            },
            "header": {
             "fill": {
              "color": "#C8D4E3"
             },
             "line": {
              "color": "white"
             }
            },
            "type": "table"
           }
          ]
         },
         "layout": {
          "annotationdefaults": {
           "arrowcolor": "#2a3f5f",
           "arrowhead": 0,
           "arrowwidth": 1
          },
          "coloraxis": {
           "colorbar": {
            "outlinewidth": 0,
            "ticks": ""
           }
          },
          "colorscale": {
           "diverging": [
            [
             0,
             "#8e0152"
            ],
            [
             0.1,
             "#c51b7d"
            ],
            [
             0.2,
             "#de77ae"
            ],
            [
             0.3,
             "#f1b6da"
            ],
            [
             0.4,
             "#fde0ef"
            ],
            [
             0.5,
             "#f7f7f7"
            ],
            [
             0.6,
             "#e6f5d0"
            ],
            [
             0.7,
             "#b8e186"
            ],
            [
             0.8,
             "#7fbc41"
            ],
            [
             0.9,
             "#4d9221"
            ],
            [
             1,
             "#276419"
            ]
           ],
           "sequential": [
            [
             0,
             "#0d0887"
            ],
            [
             0.1111111111111111,
             "#46039f"
            ],
            [
             0.2222222222222222,
             "#7201a8"
            ],
            [
             0.3333333333333333,
             "#9c179e"
            ],
            [
             0.4444444444444444,
             "#bd3786"
            ],
            [
             0.5555555555555556,
             "#d8576b"
            ],
            [
             0.6666666666666666,
             "#ed7953"
            ],
            [
             0.7777777777777778,
             "#fb9f3a"
            ],
            [
             0.8888888888888888,
             "#fdca26"
            ],
            [
             1,
             "#f0f921"
            ]
           ],
           "sequentialminus": [
            [
             0,
             "#0d0887"
            ],
            [
             0.1111111111111111,
             "#46039f"
            ],
            [
             0.2222222222222222,
             "#7201a8"
            ],
            [
             0.3333333333333333,
             "#9c179e"
            ],
            [
             0.4444444444444444,
             "#bd3786"
            ],
            [
             0.5555555555555556,
             "#d8576b"
            ],
            [
             0.6666666666666666,
             "#ed7953"
            ],
            [
             0.7777777777777778,
             "#fb9f3a"
            ],
            [
             0.8888888888888888,
             "#fdca26"
            ],
            [
             1,
             "#f0f921"
            ]
           ]
          },
          "colorway": [
           "#636efa",
           "#EF553B",
           "#00cc96",
           "#ab63fa",
           "#FFA15A",
           "#19d3f3",
           "#FF6692",
           "#B6E880",
           "#FF97FF",
           "#FECB52"
          ],
          "font": {
           "color": "#2a3f5f"
          },
          "geo": {
           "bgcolor": "white",
           "lakecolor": "white",
           "landcolor": "white",
           "showlakes": true,
           "showland": true,
           "subunitcolor": "#C8D4E3"
          },
          "hoverlabel": {
           "align": "left"
          },
          "hovermode": "closest",
          "mapbox": {
           "style": "light"
          },
          "paper_bgcolor": "white",
          "plot_bgcolor": "white",
          "polar": {
           "angularaxis": {
            "gridcolor": "#EBF0F8",
            "linecolor": "#EBF0F8",
            "ticks": ""
           },
           "bgcolor": "white",
           "radialaxis": {
            "gridcolor": "#EBF0F8",
            "linecolor": "#EBF0F8",
            "ticks": ""
           }
          },
          "scene": {
           "xaxis": {
            "backgroundcolor": "white",
            "gridcolor": "#DFE8F3",
            "gridwidth": 2,
            "linecolor": "#EBF0F8",
            "showbackground": true,
            "ticks": "",
            "zerolinecolor": "#EBF0F8"
           },
           "yaxis": {
            "backgroundcolor": "white",
            "gridcolor": "#DFE8F3",
            "gridwidth": 2,
            "linecolor": "#EBF0F8",
            "showbackground": true,
            "ticks": "",
            "zerolinecolor": "#EBF0F8"
           },
           "zaxis": {
            "backgroundcolor": "white",
            "gridcolor": "#DFE8F3",
            "gridwidth": 2,
            "linecolor": "#EBF0F8",
            "showbackground": true,
            "ticks": "",
            "zerolinecolor": "#EBF0F8"
           }
          },
          "shapedefaults": {
           "line": {
            "color": "#2a3f5f"
           }
          },
          "ternary": {
           "aaxis": {
            "gridcolor": "#DFE8F3",
            "linecolor": "#A2B1C6",
            "ticks": ""
           },
           "baxis": {
            "gridcolor": "#DFE8F3",
            "linecolor": "#A2B1C6",
            "ticks": ""
           },
           "bgcolor": "white",
           "caxis": {
            "gridcolor": "#DFE8F3",
            "linecolor": "#A2B1C6",
            "ticks": ""
           }
          },
          "title": {
           "x": 0.05
          },
          "xaxis": {
           "automargin": true,
           "gridcolor": "#EBF0F8",
           "linecolor": "#EBF0F8",
           "ticks": "",
           "title": {
            "standoff": 15
           },
           "zerolinecolor": "#EBF0F8",
           "zerolinewidth": 2
          },
          "yaxis": {
           "automargin": true,
           "gridcolor": "#EBF0F8",
           "linecolor": "#EBF0F8",
           "ticks": "",
           "title": {
            "standoff": 15
           },
           "zerolinecolor": "#EBF0F8",
           "zerolinewidth": 2
          }
         }
        },
        "title": {
         "text": "Stats: Roberto Firmino Past 5 Years"
        }
       }
      },
      "text/html": [
       "<div>\n",
       "        \n",
       "        \n",
       "            <div id=\"7bd2b65a-d390-44a8-84bf-e4b806301b34\" class=\"plotly-graph-div\" style=\"height:525px; width:100%;\"></div>\n",
       "            <script type=\"text/javascript\">\n",
       "                require([\"plotly\"], function(Plotly) {\n",
       "                    window.PLOTLYENV=window.PLOTLYENV || {};\n",
       "                    \n",
       "                if (document.getElementById(\"7bd2b65a-d390-44a8-84bf-e4b806301b34\")) {\n",
       "                    Plotly.newPlot(\n",
       "                        '7bd2b65a-d390-44a8-84bf-e4b806301b34',\n",
       "                        [{\"line\": {\"color\": \"blue\"}, \"name\": \"2020\", \"r\": [77.0, 82.0, 80.0, 87.0, 61.0, 78.0, 86.0], \"theta\": [\"Pace\", \"Shooting\", \"Passing\", \"Dribbling\", \"Defending\", \"Physic\", \"Overall\"], \"type\": \"scatterpolar\"}, {\"line\": {\"color\": \"green\"}, \"name\": \"2019\", \"r\": [77.0, 83.0, 80.0, 86.0, 61.0, 78.0, 86], \"theta\": [\"Pace\", \"Shooting\", \"Passing\", \"Dribbling\", \"Defending\", \"Physic\", \"Overall\"], \"type\": \"scatterpolar\"}, {\"line\": {\"color\": \"red\"}, \"name\": \"2018\", \"r\": [77.0, 81.0, 79.0, 85.0, 46.0, 77.0, 83], \"theta\": [\"Pace\", \"Shooting\", \"Passing\", \"Dribbling\", \"Defending\", \"Physic\", \"Overall\"], \"type\": \"scatterpolar\"}, {\"line\": {\"color\": \"violet\"}, \"name\": \"2017\", \"r\": [79.0, 80.0, 78.0, 85.0, 40.0, 72.0, 82], \"theta\": [\"Pace\", \"Shooting\", \"Passing\", \"Dribbling\", \"Defending\", \"Physic\", \"Overall\"], \"type\": \"scatterpolar\"}, {\"line\": {\"color\": \"yellow\"}, \"name\": \"2016\", \"r\": [76.0, 76.0, 78.0, 85.0, 40.0, 69.0, 82], \"theta\": [\"Pace\", \"Shooting\", \"Passing\", \"Dribbling\", \"Defending\", \"Physic\", \"Overall\"], \"type\": \"scatterpolar\"}],\n",
       "                        {\"font\": {\"color\": \"#000000\", \"family\": \"Cambria, monospace\", \"size\": 12}, \"polar\": {\"radialaxis\": {\"range\": [0, 100], \"visible\": true}}, \"showlegend\": true, \"template\": {\"data\": {\"bar\": [{\"error_x\": {\"color\": \"#2a3f5f\"}, \"error_y\": {\"color\": \"#2a3f5f\"}, \"marker\": {\"line\": {\"color\": \"white\", \"width\": 0.5}}, \"type\": \"bar\"}], \"barpolar\": [{\"marker\": {\"line\": {\"color\": \"white\", \"width\": 0.5}}, \"type\": \"barpolar\"}], \"carpet\": [{\"aaxis\": {\"endlinecolor\": \"#2a3f5f\", \"gridcolor\": \"#C8D4E3\", \"linecolor\": \"#C8D4E3\", \"minorgridcolor\": \"#C8D4E3\", \"startlinecolor\": \"#2a3f5f\"}, \"baxis\": {\"endlinecolor\": \"#2a3f5f\", \"gridcolor\": \"#C8D4E3\", \"linecolor\": \"#C8D4E3\", \"minorgridcolor\": \"#C8D4E3\", \"startlinecolor\": \"#2a3f5f\"}, \"type\": \"carpet\"}], \"choropleth\": [{\"colorbar\": {\"outlinewidth\": 0, \"ticks\": \"\"}, \"type\": \"choropleth\"}], \"contour\": [{\"colorbar\": {\"outlinewidth\": 0, \"ticks\": \"\"}, \"colorscale\": [[0.0, \"#0d0887\"], [0.1111111111111111, \"#46039f\"], [0.2222222222222222, \"#7201a8\"], [0.3333333333333333, \"#9c179e\"], [0.4444444444444444, \"#bd3786\"], [0.5555555555555556, \"#d8576b\"], [0.6666666666666666, \"#ed7953\"], [0.7777777777777778, \"#fb9f3a\"], [0.8888888888888888, \"#fdca26\"], [1.0, \"#f0f921\"]], \"type\": \"contour\"}], \"contourcarpet\": [{\"colorbar\": {\"outlinewidth\": 0, \"ticks\": \"\"}, \"type\": \"contourcarpet\"}], \"heatmap\": [{\"colorbar\": {\"outlinewidth\": 0, \"ticks\": \"\"}, \"colorscale\": [[0.0, \"#0d0887\"], [0.1111111111111111, \"#46039f\"], [0.2222222222222222, \"#7201a8\"], [0.3333333333333333, \"#9c179e\"], [0.4444444444444444, \"#bd3786\"], [0.5555555555555556, \"#d8576b\"], [0.6666666666666666, \"#ed7953\"], [0.7777777777777778, \"#fb9f3a\"], [0.8888888888888888, \"#fdca26\"], [1.0, \"#f0f921\"]], \"type\": \"heatmap\"}], \"heatmapgl\": [{\"colorbar\": {\"outlinewidth\": 0, \"ticks\": \"\"}, \"colorscale\": [[0.0, \"#0d0887\"], [0.1111111111111111, \"#46039f\"], [0.2222222222222222, \"#7201a8\"], [0.3333333333333333, \"#9c179e\"], [0.4444444444444444, \"#bd3786\"], [0.5555555555555556, \"#d8576b\"], [0.6666666666666666, \"#ed7953\"], [0.7777777777777778, \"#fb9f3a\"], [0.8888888888888888, \"#fdca26\"], [1.0, \"#f0f921\"]], \"type\": \"heatmapgl\"}], \"histogram\": [{\"marker\": {\"colorbar\": {\"outlinewidth\": 0, \"ticks\": \"\"}}, \"type\": \"histogram\"}], \"histogram2d\": [{\"colorbar\": {\"outlinewidth\": 0, \"ticks\": \"\"}, \"colorscale\": [[0.0, \"#0d0887\"], [0.1111111111111111, \"#46039f\"], [0.2222222222222222, \"#7201a8\"], [0.3333333333333333, \"#9c179e\"], [0.4444444444444444, \"#bd3786\"], [0.5555555555555556, \"#d8576b\"], [0.6666666666666666, \"#ed7953\"], [0.7777777777777778, \"#fb9f3a\"], [0.8888888888888888, \"#fdca26\"], [1.0, \"#f0f921\"]], \"type\": \"histogram2d\"}], \"histogram2dcontour\": [{\"colorbar\": {\"outlinewidth\": 0, \"ticks\": \"\"}, \"colorscale\": [[0.0, \"#0d0887\"], [0.1111111111111111, \"#46039f\"], [0.2222222222222222, \"#7201a8\"], [0.3333333333333333, \"#9c179e\"], [0.4444444444444444, \"#bd3786\"], [0.5555555555555556, \"#d8576b\"], [0.6666666666666666, \"#ed7953\"], [0.7777777777777778, \"#fb9f3a\"], [0.8888888888888888, \"#fdca26\"], [1.0, \"#f0f921\"]], \"type\": \"histogram2dcontour\"}], \"mesh3d\": [{\"colorbar\": {\"outlinewidth\": 0, \"ticks\": \"\"}, \"type\": \"mesh3d\"}], \"parcoords\": [{\"line\": {\"colorbar\": {\"outlinewidth\": 0, \"ticks\": \"\"}}, \"type\": \"parcoords\"}], \"pie\": [{\"automargin\": true, \"type\": \"pie\"}], \"scatter\": [{\"marker\": {\"colorbar\": {\"outlinewidth\": 0, \"ticks\": \"\"}}, \"type\": \"scatter\"}], \"scatter3d\": [{\"line\": {\"colorbar\": {\"outlinewidth\": 0, \"ticks\": \"\"}}, \"marker\": {\"colorbar\": {\"outlinewidth\": 0, \"ticks\": \"\"}}, \"type\": \"scatter3d\"}], \"scattercarpet\": [{\"marker\": {\"colorbar\": {\"outlinewidth\": 0, \"ticks\": \"\"}}, \"type\": \"scattercarpet\"}], \"scattergeo\": [{\"marker\": {\"colorbar\": {\"outlinewidth\": 0, \"ticks\": \"\"}}, \"type\": \"scattergeo\"}], \"scattergl\": [{\"marker\": {\"colorbar\": {\"outlinewidth\": 0, \"ticks\": \"\"}}, \"type\": \"scattergl\"}], \"scattermapbox\": [{\"marker\": {\"colorbar\": {\"outlinewidth\": 0, \"ticks\": \"\"}}, \"type\": \"scattermapbox\"}], \"scatterpolar\": [{\"marker\": {\"colorbar\": {\"outlinewidth\": 0, \"ticks\": \"\"}}, \"type\": \"scatterpolar\"}], \"scatterpolargl\": [{\"marker\": {\"colorbar\": {\"outlinewidth\": 0, \"ticks\": \"\"}}, \"type\": \"scatterpolargl\"}], \"scatterternary\": [{\"marker\": {\"colorbar\": {\"outlinewidth\": 0, \"ticks\": \"\"}}, \"type\": \"scatterternary\"}], \"surface\": [{\"colorbar\": {\"outlinewidth\": 0, \"ticks\": \"\"}, \"colorscale\": [[0.0, \"#0d0887\"], [0.1111111111111111, \"#46039f\"], [0.2222222222222222, \"#7201a8\"], [0.3333333333333333, \"#9c179e\"], [0.4444444444444444, \"#bd3786\"], [0.5555555555555556, \"#d8576b\"], [0.6666666666666666, \"#ed7953\"], [0.7777777777777778, \"#fb9f3a\"], [0.8888888888888888, \"#fdca26\"], [1.0, \"#f0f921\"]], \"type\": \"surface\"}], \"table\": [{\"cells\": {\"fill\": {\"color\": \"#EBF0F8\"}, \"line\": {\"color\": \"white\"}}, \"header\": {\"fill\": {\"color\": \"#C8D4E3\"}, \"line\": {\"color\": \"white\"}}, \"type\": \"table\"}]}, \"layout\": {\"annotationdefaults\": {\"arrowcolor\": \"#2a3f5f\", \"arrowhead\": 0, \"arrowwidth\": 1}, \"coloraxis\": {\"colorbar\": {\"outlinewidth\": 0, \"ticks\": \"\"}}, \"colorscale\": {\"diverging\": [[0, \"#8e0152\"], [0.1, \"#c51b7d\"], [0.2, \"#de77ae\"], [0.3, \"#f1b6da\"], [0.4, \"#fde0ef\"], [0.5, \"#f7f7f7\"], [0.6, \"#e6f5d0\"], [0.7, \"#b8e186\"], [0.8, \"#7fbc41\"], [0.9, \"#4d9221\"], [1, \"#276419\"]], \"sequential\": [[0.0, \"#0d0887\"], [0.1111111111111111, \"#46039f\"], [0.2222222222222222, \"#7201a8\"], [0.3333333333333333, \"#9c179e\"], [0.4444444444444444, \"#bd3786\"], [0.5555555555555556, \"#d8576b\"], [0.6666666666666666, \"#ed7953\"], [0.7777777777777778, \"#fb9f3a\"], [0.8888888888888888, \"#fdca26\"], [1.0, \"#f0f921\"]], \"sequentialminus\": [[0.0, \"#0d0887\"], [0.1111111111111111, \"#46039f\"], [0.2222222222222222, \"#7201a8\"], [0.3333333333333333, \"#9c179e\"], [0.4444444444444444, \"#bd3786\"], [0.5555555555555556, \"#d8576b\"], [0.6666666666666666, \"#ed7953\"], [0.7777777777777778, \"#fb9f3a\"], [0.8888888888888888, \"#fdca26\"], [1.0, \"#f0f921\"]]}, \"colorway\": [\"#636efa\", \"#EF553B\", \"#00cc96\", \"#ab63fa\", \"#FFA15A\", \"#19d3f3\", \"#FF6692\", \"#B6E880\", \"#FF97FF\", \"#FECB52\"], \"font\": {\"color\": \"#2a3f5f\"}, \"geo\": {\"bgcolor\": \"white\", \"lakecolor\": \"white\", \"landcolor\": \"white\", \"showlakes\": true, \"showland\": true, \"subunitcolor\": \"#C8D4E3\"}, \"hoverlabel\": {\"align\": \"left\"}, \"hovermode\": \"closest\", \"mapbox\": {\"style\": \"light\"}, \"paper_bgcolor\": \"white\", \"plot_bgcolor\": \"white\", \"polar\": {\"angularaxis\": {\"gridcolor\": \"#EBF0F8\", \"linecolor\": \"#EBF0F8\", \"ticks\": \"\"}, \"bgcolor\": \"white\", \"radialaxis\": {\"gridcolor\": \"#EBF0F8\", \"linecolor\": \"#EBF0F8\", \"ticks\": \"\"}}, \"scene\": {\"xaxis\": {\"backgroundcolor\": \"white\", \"gridcolor\": \"#DFE8F3\", \"gridwidth\": 2, \"linecolor\": \"#EBF0F8\", \"showbackground\": true, \"ticks\": \"\", \"zerolinecolor\": \"#EBF0F8\"}, \"yaxis\": {\"backgroundcolor\": \"white\", \"gridcolor\": \"#DFE8F3\", \"gridwidth\": 2, \"linecolor\": \"#EBF0F8\", \"showbackground\": true, \"ticks\": \"\", \"zerolinecolor\": \"#EBF0F8\"}, \"zaxis\": {\"backgroundcolor\": \"white\", \"gridcolor\": \"#DFE8F3\", \"gridwidth\": 2, \"linecolor\": \"#EBF0F8\", \"showbackground\": true, \"ticks\": \"\", \"zerolinecolor\": \"#EBF0F8\"}}, \"shapedefaults\": {\"line\": {\"color\": \"#2a3f5f\"}}, \"ternary\": {\"aaxis\": {\"gridcolor\": \"#DFE8F3\", \"linecolor\": \"#A2B1C6\", \"ticks\": \"\"}, \"baxis\": {\"gridcolor\": \"#DFE8F3\", \"linecolor\": \"#A2B1C6\", \"ticks\": \"\"}, \"bgcolor\": \"white\", \"caxis\": {\"gridcolor\": \"#DFE8F3\", \"linecolor\": \"#A2B1C6\", \"ticks\": \"\"}}, \"title\": {\"x\": 0.05}, \"xaxis\": {\"automargin\": true, \"gridcolor\": \"#EBF0F8\", \"linecolor\": \"#EBF0F8\", \"ticks\": \"\", \"title\": {\"standoff\": 15}, \"zerolinecolor\": \"#EBF0F8\", \"zerolinewidth\": 2}, \"yaxis\": {\"automargin\": true, \"gridcolor\": \"#EBF0F8\", \"linecolor\": \"#EBF0F8\", \"ticks\": \"\", \"title\": {\"standoff\": 15}, \"zerolinecolor\": \"#EBF0F8\", \"zerolinewidth\": 2}}}, \"title\": {\"text\": \"Stats: Roberto Firmino Past 5 Years\"}},\n",
       "                        {\"responsive\": true}\n",
       "                    ).then(function(){\n",
       "                            \n",
       "var gd = document.getElementById('7bd2b65a-d390-44a8-84bf-e4b806301b34');\n",
       "var x = new MutationObserver(function (mutations, observer) {{\n",
       "        var display = window.getComputedStyle(gd).display;\n",
       "        if (!display || display === 'none') {{\n",
       "            console.log([gd, 'removed!']);\n",
       "            Plotly.purge(gd);\n",
       "            observer.disconnect();\n",
       "        }}\n",
       "}});\n",
       "\n",
       "// Listen for the removal of the full notebook cells\n",
       "var notebookContainer = gd.closest('#notebook-container');\n",
       "if (notebookContainer) {{\n",
       "    x.observe(notebookContainer, {childList: true});\n",
       "}}\n",
       "\n",
       "// Listen for the clearing of the current output cell\n",
       "var outputEl = gd.closest('.output');\n",
       "if (outputEl) {{\n",
       "    x.observe(outputEl, {childList: true});\n",
       "}}\n",
       "\n",
       "                        })\n",
       "                };\n",
       "                });\n",
       "            </script>\n",
       "        </div>"
      ]
     },
     "metadata": {},
     "output_type": "display_data"
    }
   ],
   "source": [
    "#function for player growth\n",
    "def playergrowth(player):\n",
    "    a = df20[df20.short_name.str.startswith(player,na = False)]\n",
    "    b = df19[df19.short_name.str.startswith(player)]\n",
    "    c = df18[df18.short_name.str.startswith(player)]\n",
    "    d = df17[df17.short_name.str.startswith(player)]\n",
    "    e = df16[df16.short_name.str.startswith(player)]\n",
    "    \n",
    "    trace_2020 = go.Scatterpolar(\n",
    "    r= [a['pace'].values[0],a['shooting'].values[0],a['passing'].values[0],a['dribbling'].values[0],\n",
    "        a['defending'].values[0],a['physic'].values[0],a['overall'].values[0]],\n",
    "    theta = ['Pace','Shooting','Passing','Dribbling','Defending','Physic','Overall'],line_color ='blue'\n",
    "        ,name = '2020')\n",
    "    \n",
    "    trace_2019 = go.Scatterpolar(\n",
    "    r= [b['pace'].values[0],b['shooting'].values[0],b['passing'].values[0],b['dribbling'].values[0],\n",
    "        b['defending'].values[0],b['physic'].values[0],b['overall'].values[0]],\n",
    "    theta = ['Pace','Shooting','Passing','Dribbling','Defending','Physic','Overall'],line_color ='green'\n",
    "        ,name = '2019')\n",
    "    \n",
    "    trace_2018 = go.Scatterpolar(\n",
    "    r= [c['pace'].values[0],c['shooting'].values[0],c['passing'].values[0],c['dribbling'].values[0],\n",
    "        c['defending'].values[0],c['physic'].values[0],c['overall'].values[0]],\n",
    "    theta = ['Pace','Shooting','Passing','Dribbling','Defending','Physic','Overall'],line_color ='red'\n",
    "        ,name = '2018')\n",
    "    \n",
    "    trace_2017 = go.Scatterpolar(\n",
    "    r= [d['pace'].values[0],d['shooting'].values[0],d['passing'].values[0],d['dribbling'].values[0],\n",
    "        d['defending'].values[0],d['physic'].values[0],d['overall'].values[0]],\n",
    "    theta = ['Pace','Shooting','Passing','Dribbling','Defending','Physic','Overall'],line_color ='violet'\n",
    "        ,name = '2017')\n",
    "    \n",
    "    trace_2016 = go.Scatterpolar(\n",
    "    r= [e['pace'].values[0],e['shooting'].values[0],e['passing'].values[0],e['dribbling'].values[0],\n",
    "        e['defending'].values[0],e['physic'].values[0],e['overall'].values[0]],\n",
    "    theta = ['Pace','Shooting','Passing','Dribbling','Defending','Physic','Overall'],line_color ='yellow'\n",
    "        ,name = '2016')\n",
    "    \n",
    "    data = [trace_2020,trace_2019,trace_2018,trace_2017,trace_2016]\n",
    "    color = ['red','blue']\n",
    "    \n",
    "    interface = go.Layout(\n",
    "      polar = dict(\n",
    "        radialaxis = dict(\n",
    "          visible = True,\n",
    "          range = [0, 100]\n",
    "        )\n",
    "      ),\n",
    "     template=\"plotly_white\",  \n",
    "      showlegend = True,\n",
    "      font=dict(family='Cambria, monospace', size=12, color='#000000'),\n",
    "      title = \"Stats: {} Past 5 Years\".format(a.short_name.values[0])\n",
    "        \n",
    "    )\n",
    "    fig = go.Figure(data = data, layout = interface)\n",
    "    fig.show()\n",
    "\n",
    "playergrowth(\"Roberto\")"
   ]
  },
  {
   "cell_type": "code",
   "execution_count": 27,
   "metadata": {},
   "outputs": [],
   "source": [
    "#Player Comparison\n",
    "def player_comparison(name,column,value):\n",
    "    x = df20['short_name'] == name[0]\n",
    "    y = df20['short_name'] == name[1]\n",
    "    z = df20['short_name'] == name[2]\n",
    "    ax = df20['short_name'] == name[3]\n",
    "    ay = df20['short_name'] == name[4]\n",
    "    \n",
    "    trace_0 = go.Scatterpolar(\n",
    "    r= [x['pace'].values[0],x['shooting'].values[0],x['passing'].values[0],x['dribbling'].values[0],\n",
    "        x['defending'].values[0],x['physic'].values[0],x['overall'].values[0]],\n",
    "    theta = ['Pace','Shooting','Passing','Dribbling','Defending','Physic','Overall'],line_color ='blue'\n",
    "        ,name = x.short_name.values[0])\n",
    "    \n",
    "    trace_1 = go.Scatterpolar(\n",
    "    r= [y['pace'].values[0],y['shooting'].values[0],y['passing'].values[0],y['dribbling'].values[0],\n",
    "        y['defending'].values[0],y['physic'].values[0],y['overall'].values[0]],\n",
    "    theta = ['Pace','Shooting','Passing','Dribbling','Defending','Physic','Overall'],line_color ='red'\n",
    "        ,name = y.short_name.values[0])\n",
    "    \n",
    "    trace_2 = go.Scatterpolar(\n",
    "    r= [z['pace'].values[0],z['shooting'].values[0],z['passing'].values[0],z['dribbling'].values[0],\n",
    "        z['defending'].values[0],z['physic'].values[0],z['overall'].values[0]],\n",
    "    theta = ['Pace','Shooting','Passing','Dribbling','Defending','Physic','Overall'],line_color ='yellow'\n",
    "        ,name = z.short_name.values[0])\n",
    "    \n",
    "    trace_3 = go.Scatterpolar(\n",
    "    r= [ax['pace'].values[0],ax['shooting'].values[0],ax['passing'].values[0],ax['dribbling'].values[0],\n",
    "        ax['defending'].values[0],ax['physic'].values[0],ax['overall'].values[0]],\n",
    "    theta = ['Pace','Shooting','Passing','Dribbling','Defending','Physic','Overall'],line_color ='green'\n",
    "        ,name = ax.short_name.values[0])\n",
    "    \n",
    "    trace_4 = go.Scatterpolar(\n",
    "    r= [ay['pace'].values[0],ay['shooting'].values[0],ay['passing'].values[0],ay['dribbling'].values[0],\n",
    "        ay['defending'].values[0],ay['physic'].values[0],ay['overall'].values[0]],\n",
    "    theta = ['Pace','Shooting','Passing','Dribbling','Defending','Physic','Overall'],line_color ='dark violet'\n",
    "        ,name = ay.short_name.values[0])\n",
    "    \n",
    "    data = [trace_0,trace_1,trace_2,trace_3,trace_4]\n",
    "    \n",
    "    interface = go.Layout(polar = dict(\n",
    "        radialaxis = dict(\n",
    "          visible = True,\n",
    "          range = [0, 100]\n",
    "        )\n",
    "      ),\n",
    "      template=\"plotly_white\",  \n",
    "      showlegend = True,\n",
    "      font=dict(family='Cambria, monospace', size=12, color='#000000'),\n",
    "      title = \"{} stats comparison for top 5 under €{} -: {} vs {} vs {} vs {} vs {}\".format(value, x.short_name.values[0], y.short_name.values[0], z.short_name.values[0], az.short_name.values[0], bz.short_name.values[0] )\n",
    "        \n",
    "    )\n",
    "    return none\n",
    "    fig = go.Figure(data = data, layout = interface)\n",
    "    fig.show()\n"
   ]
  },
  {
   "cell_type": "code",
   "execution_count": 12,
   "metadata": {},
   "outputs": [
    {
     "name": "stdout",
     "output_type": "stream",
     "text": [
      "You've Entered Position:  ST\n",
      "You've Entered Value €:  500000\n",
      "6848              Yuri\n",
      "6883    C. Wondolowski\n",
      "7229      Jung Jo Gook\n",
      "7667      Enzio Julião\n",
      "8351      I. Henderson\n",
      "8364      David Barral\n",
      "8377         F. Evacuo\n",
      "8396     F. Piovaccari\n",
      "8414          C. Canío\n",
      "9539      R. O'Donovan\n",
      "Name: short_name, dtype: object\n"
     ]
    }
   ],
   "source": [
    "#Easy Recommender system of players based on position and player values\n",
    "\n",
    "def position(pos,value):\n",
    "    column = df20['team_position']\n",
    "    print(\"You've Entered Position: \",pos)\n",
    "    print(\"You've Entered Value €: \", value)\n",
    "    ls_name = df20[(df20['team_position']==pos) & (df20['value_eur']<=value)]['short_name'].head(10)\n",
    "    print(ls_name)\n",
    "    #top5(ls_name, column, value)\n",
    "    return None\n",
    "\n",
    "#postions : LW,RW,ST,CAM,CM,CDM,LB,RB,LCB,RCB,GK\n",
    "\n",
    "position('ST',500000)"
   ]
  },
  {
   "cell_type": "code",
   "execution_count": 29,
   "metadata": {},
   "outputs": [
    {
     "name": "stdout",
     "output_type": "stream",
     "text": [
      "Alternate Playing Positions for M. Salah \n",
      "Position: LW, Rating: 91.0\n",
      "Position: RF, Rating: 91.0\n",
      "Position: LF, Rating: 91.0\n",
      "Position: RW, Rating: 91.0\n",
      "Position: CF, Rating: 91.0\n"
     ]
    }
   ],
   "source": [
    "#recommender system for alternate player positions\n",
    "def alternate_position(player,df20):\n",
    "    # Get player's index\n",
    "    idx = df20[df20['short_name']==player].index[0]\n",
    "    sample_1 = df20.iloc[:,68:94]\n",
    "    # Find 5 highest scores per position of player\n",
    "    ls = sample_1.loc[idx].nlargest(5).index[0:].values\n",
    "    ls = ls.tolist()\n",
    "    sample_2 = df20.iloc[idx,104:119]\n",
    "    # Identify positions which are not current playing positions\n",
    "    ls2 = sample_2[sample_2==1].index[:].values\n",
    "    # Make index values lower case\n",
    "    ls2 = list(map(lambda x: x.lower(), ls2.tolist()))\n",
    "    ls2 = [re.sub(r'position_', '', i) for i in ls2]\n",
    "    # Find Positions with highest rating and are not currently playing positions\n",
    "    alt_pos = set(ls)-(set(ls2))\n",
    "    print(\"Alternate Playing Positions for {} \".format(player))\n",
    "    for i in alt_pos:\n",
    "        print(\"Position: {}, Rating: {}\".format(str.upper(i), df20[i].values[idx]))\n",
    "    return None\n",
    "\n",
    "alternate_position('M. Salah',df20)"
   ]
  },
  {
   "cell_type": "code",
   "execution_count": 33,
   "metadata": {},
   "outputs": [],
   "source": [
    "#since preferred foot has some null values, passing it through the label encoder will cause errors so we fill it with right.\n",
    "df20['preferred_foot'].fillna(\"Right\",inplace = True)\n",
    "#df20['body_type'].fillna(\"Normal\",inplace = True)\n",
    "\n",
    "\n",
    "#we convert international_reputation to an int type since it is in a string format\n",
    "df20['international_reputation'] = df20['international_reputation'].astype(str).astype(float)\n",
    "df20['weak_foot'] = df20['weak_foot'].astype(str).astype(float)\n",
    "df20['skill_moves'] = df20['skill_moves'].astype(str).astype(float)"
   ]
  },
  {
   "cell_type": "code",
   "execution_count": 34,
   "metadata": {},
   "outputs": [],
   "source": [
    "#filling the the 79th to 104th columns with 0 to replace the null values\n",
    "df20['ls'].fillna(0,inplace = True)\n",
    "df20['st'].fillna(0,inplace = True)\n",
    "df20['rs'].fillna(0,inplace = True)\n",
    "df20['lw'].fillna(0,inplace = True)\n",
    "df20['lf'].fillna(0,inplace = True)\n",
    "df20['cf'].fillna(0,inplace = True)\n",
    "df20['rf'].fillna(0,inplace = True)\n",
    "df20['rw'].fillna(0,inplace = True)\n",
    "df20['lam'].fillna(0,inplace = True)\n",
    "df20['cam'].fillna(0,inplace = True)\n",
    "df20['ram'].fillna(0,inplace = True)\n",
    "df20['lm'].fillna(0,inplace = True)\n",
    "df20['lwb'].fillna(0,inplace = True)\n",
    "df20['lcm'].fillna(0,inplace = True)\n",
    "df20['cm'].fillna(0,inplace = True)\n",
    "df20['rcm'].fillna(0,inplace = True)\n",
    "df20['rm'].fillna(0,inplace = True)\n",
    "df20['ldm'].fillna(0,inplace = True)\n",
    "df20['cdm'].fillna(0,inplace = True)\n",
    "df20['rdm'].fillna(0,inplace = True)\n",
    "df20['rwb'].fillna(0,inplace = True)\n",
    "df20['lb'].fillna(0,inplace = True)\n",
    "df20['lcb'].fillna(0,inplace = True)\n",
    "df20['cb'].fillna(0,inplace = True)\n",
    "df20['rcb'].fillna(0,inplace = True)\n",
    "df20['rb'].fillna(0,inplace = True)"
   ]
  },
  {
   "cell_type": "code",
   "execution_count": 36,
   "metadata": {},
   "outputs": [],
   "source": [
    "#Encoding a few important columns containing categorical columns\n",
    "\n",
    "from sklearn.preprocessing import LabelEncoder\n",
    "encoder = LabelEncoder()\n",
    "encoder.fit(df20['preferred_foot'])\n",
    "df20['preferred_foot'] = encoder.transform(df20['preferred_foot'])\n",
    "#encoder.fit(df20['body_type'])\n",
    "#df20['body_type'] = encoder.transform(df20['body_type'])\n"
   ]
  },
  {
   "cell_type": "code",
   "execution_count": 37,
   "metadata": {},
   "outputs": [
    {
     "name": "stdout",
     "output_type": "stream",
     "text": [
      "age              float64\n",
      "height_cm        float64\n",
      "weight_kg        float64\n",
      "overall          float64\n",
      "potential        float64\n",
      "                  ...   \n",
      "Low/Medium         uint8\n",
      "Medium/High        uint8\n",
      "Medium/Low         uint8\n",
      "Medium/Medium      uint8\n",
      "bmi              float64\n",
      "Length: 96, dtype: object\n"
     ]
    }
   ],
   "source": [
    "#selecting numeric columns for the recommender system\n",
    "\n",
    "sample = df20.select_dtypes(include = 'number')\n",
    "sample.fillna(0,inplace= True)\n",
    "print(sample.dtypes)"
   ]
  },
  {
   "cell_type": "code",
   "execution_count": 38,
   "metadata": {},
   "outputs": [],
   "source": [
    "#Creating the recommender system using Nearest Neighbors\n",
    "\n",
    "from sklearn.preprocessing import StandardScaler\n",
    "from sklearn.neighbors import NearestNeighbors\n",
    "from sklearn.decomposition import PCA\n",
    "from sklearn.pipeline import make_pipeline"
   ]
  },
  {
   "cell_type": "code",
   "execution_count": 39,
   "metadata": {},
   "outputs": [],
   "source": [
    "scaled = StandardScaler()\n",
    "X = scaled.fit_transform(sample)\n",
    "recommendations = NearestNeighbors(n_neighbors=6,algorithm='kd_tree')\n",
    "recommendations.fit(X)\n",
    "player_index = recommendations.kneighbors(X)[1]"
   ]
  },
  {
   "cell_type": "code",
   "execution_count": 42,
   "metadata": {},
   "outputs": [],
   "source": [
    "def get_index(x):\n",
    "    return df20[df20['short_name']==x].index.tolist()[0]\n",
    "\n",
    "# Fetch 5 indexes of similar players\n",
    "def recommend_similar(player):\n",
    "    print(\"These are 5 players similar to {} : \".format(player))\n",
    "    index=  get_index(player)\n",
    "    for i in player_index[index][1:]:\n",
    "        print(\"Name: {}\\nOverall: {} Age: {} BMI: {:.2f}\\n\".format(df20.iloc[i]['short_name'],df20.iloc[i]['overall'], df20.iloc[i]['age'], df20.iloc[i]['bmi']))"
   ]
  },
  {
   "cell_type": "code",
   "execution_count": 43,
   "metadata": {},
   "outputs": [
    {
     "name": "stdout",
     "output_type": "stream",
     "text": [
      "These are 5 players similar to J. Gomez : \n",
      "Name: L. Klostermann\n",
      "Overall: 79.0 Age: 23.0 BMI: 0.03\n",
      "\n",
      "Name: M. Holgate\n",
      "Overall: 75.0 Age: 22.0 BMI: 0.03\n",
      "\n",
      "Name: N. Elvedi\n",
      "Overall: 78.0 Age: 22.0 BMI: 0.03\n",
      "\n",
      "Name: N. Mukiele\n",
      "Overall: 77.0 Age: 21.0 BMI: 0.03\n",
      "\n",
      "Name: Josué Chiamulera\n",
      "Overall: 83.0 Age: 27.0 BMI: 0.03\n",
      "\n"
     ]
    }
   ],
   "source": [
    "recommend_similar('J. Gomez')"
   ]
  },
  {
   "cell_type": "code",
   "execution_count": 44,
   "metadata": {},
   "outputs": [
    {
     "data": {
      "text/html": [
       "<div>\n",
       "<style scoped>\n",
       "    .dataframe tbody tr th:only-of-type {\n",
       "        vertical-align: middle;\n",
       "    }\n",
       "\n",
       "    .dataframe tbody tr th {\n",
       "        vertical-align: top;\n",
       "    }\n",
       "\n",
       "    .dataframe thead th {\n",
       "        text-align: right;\n",
       "    }\n",
       "</style>\n",
       "<table border=\"1\" class=\"dataframe\">\n",
       "  <thead>\n",
       "    <tr style=\"text-align: right;\">\n",
       "      <th></th>\n",
       "      <th>short_name</th>\n",
       "      <th>age</th>\n",
       "      <th>dob</th>\n",
       "      <th>height_cm</th>\n",
       "      <th>weight_kg</th>\n",
       "      <th>nationality</th>\n",
       "      <th>club</th>\n",
       "      <th>overall</th>\n",
       "      <th>potential</th>\n",
       "      <th>value_eur</th>\n",
       "      <th>...</th>\n",
       "      <th>High/High</th>\n",
       "      <th>High/Low</th>\n",
       "      <th>High/Medium</th>\n",
       "      <th>Low/High</th>\n",
       "      <th>Low/Low</th>\n",
       "      <th>Low/Medium</th>\n",
       "      <th>Medium/High</th>\n",
       "      <th>Medium/Low</th>\n",
       "      <th>Medium/Medium</th>\n",
       "      <th>bmi</th>\n",
       "    </tr>\n",
       "  </thead>\n",
       "  <tbody>\n",
       "    <tr>\n",
       "      <th>617</th>\n",
       "      <td>L. Messi</td>\n",
       "      <td>32.0</td>\n",
       "      <td>1987-06-24</td>\n",
       "      <td>170.0</td>\n",
       "      <td>72.0</td>\n",
       "      <td>Argentina</td>\n",
       "      <td>FC Barcelona</td>\n",
       "      <td>94.0</td>\n",
       "      <td>94.0</td>\n",
       "      <td>95500000.0</td>\n",
       "      <td>...</td>\n",
       "      <td>0</td>\n",
       "      <td>0</td>\n",
       "      <td>0</td>\n",
       "      <td>0</td>\n",
       "      <td>0</td>\n",
       "      <td>0</td>\n",
       "      <td>0</td>\n",
       "      <td>1</td>\n",
       "      <td>0</td>\n",
       "      <td>0.032793</td>\n",
       "    </tr>\n",
       "    <tr>\n",
       "      <th>618</th>\n",
       "      <td>Cristiano Ronaldo</td>\n",
       "      <td>34.0</td>\n",
       "      <td>1985-02-05</td>\n",
       "      <td>187.0</td>\n",
       "      <td>83.0</td>\n",
       "      <td>Portugal</td>\n",
       "      <td>Juventus</td>\n",
       "      <td>93.0</td>\n",
       "      <td>93.0</td>\n",
       "      <td>58500000.0</td>\n",
       "      <td>...</td>\n",
       "      <td>0</td>\n",
       "      <td>1</td>\n",
       "      <td>0</td>\n",
       "      <td>0</td>\n",
       "      <td>0</td>\n",
       "      <td>0</td>\n",
       "      <td>0</td>\n",
       "      <td>0</td>\n",
       "      <td>0</td>\n",
       "      <td>0.027145</td>\n",
       "    </tr>\n",
       "    <tr>\n",
       "      <th>619</th>\n",
       "      <td>Neymar Jr</td>\n",
       "      <td>27.0</td>\n",
       "      <td>1992-02-05</td>\n",
       "      <td>175.0</td>\n",
       "      <td>68.0</td>\n",
       "      <td>Brazil</td>\n",
       "      <td>Paris Saint-Germain</td>\n",
       "      <td>92.0</td>\n",
       "      <td>92.0</td>\n",
       "      <td>105500000.0</td>\n",
       "      <td>...</td>\n",
       "      <td>0</td>\n",
       "      <td>0</td>\n",
       "      <td>1</td>\n",
       "      <td>0</td>\n",
       "      <td>0</td>\n",
       "      <td>0</td>\n",
       "      <td>0</td>\n",
       "      <td>0</td>\n",
       "      <td>0</td>\n",
       "      <td>0.037846</td>\n",
       "    </tr>\n",
       "    <tr>\n",
       "      <th>620</th>\n",
       "      <td>J. Oblak</td>\n",
       "      <td>26.0</td>\n",
       "      <td>1993-01-07</td>\n",
       "      <td>188.0</td>\n",
       "      <td>87.0</td>\n",
       "      <td>Slovenia</td>\n",
       "      <td>Atlético Madrid</td>\n",
       "      <td>91.0</td>\n",
       "      <td>93.0</td>\n",
       "      <td>77500000.0</td>\n",
       "      <td>...</td>\n",
       "      <td>0</td>\n",
       "      <td>0</td>\n",
       "      <td>0</td>\n",
       "      <td>0</td>\n",
       "      <td>0</td>\n",
       "      <td>0</td>\n",
       "      <td>0</td>\n",
       "      <td>0</td>\n",
       "      <td>1</td>\n",
       "      <td>0.024838</td>\n",
       "    </tr>\n",
       "    <tr>\n",
       "      <th>621</th>\n",
       "      <td>E. Hazard</td>\n",
       "      <td>28.0</td>\n",
       "      <td>1991-01-07</td>\n",
       "      <td>175.0</td>\n",
       "      <td>74.0</td>\n",
       "      <td>Belgium</td>\n",
       "      <td>Real Madrid</td>\n",
       "      <td>91.0</td>\n",
       "      <td>91.0</td>\n",
       "      <td>90000000.0</td>\n",
       "      <td>...</td>\n",
       "      <td>0</td>\n",
       "      <td>0</td>\n",
       "      <td>1</td>\n",
       "      <td>0</td>\n",
       "      <td>0</td>\n",
       "      <td>0</td>\n",
       "      <td>0</td>\n",
       "      <td>0</td>\n",
       "      <td>0</td>\n",
       "      <td>0.031958</td>\n",
       "    </tr>\n",
       "  </tbody>\n",
       "</table>\n",
       "<p>5 rows × 105 columns</p>\n",
       "</div>"
      ],
      "text/plain": [
       "            short_name   age        dob  height_cm  weight_kg nationality  \\\n",
       "617           L. Messi  32.0 1987-06-24      170.0       72.0   Argentina   \n",
       "618  Cristiano Ronaldo  34.0 1985-02-05      187.0       83.0    Portugal   \n",
       "619          Neymar Jr  27.0 1992-02-05      175.0       68.0      Brazil   \n",
       "620           J. Oblak  26.0 1993-01-07      188.0       87.0    Slovenia   \n",
       "621          E. Hazard  28.0 1991-01-07      175.0       74.0     Belgium   \n",
       "\n",
       "                    club  overall  potential    value_eur  ...  High/High  \\\n",
       "617         FC Barcelona     94.0       94.0   95500000.0  ...          0   \n",
       "618             Juventus     93.0       93.0   58500000.0  ...          0   \n",
       "619  Paris Saint-Germain     92.0       92.0  105500000.0  ...          0   \n",
       "620      Atlético Madrid     91.0       93.0   77500000.0  ...          0   \n",
       "621          Real Madrid     91.0       91.0   90000000.0  ...          0   \n",
       "\n",
       "    High/Low  High/Medium  Low/High  Low/Low  Low/Medium  Medium/High  \\\n",
       "617        0            0         0        0           0            0   \n",
       "618        1            0         0        0           0            0   \n",
       "619        0            1         0        0           0            0   \n",
       "620        0            0         0        0           0            0   \n",
       "621        0            1         0        0           0            0   \n",
       "\n",
       "    Medium/Low Medium/Medium       bmi  \n",
       "617          1             0  0.032793  \n",
       "618          0             0  0.027145  \n",
       "619          0             0  0.037846  \n",
       "620          0             1  0.024838  \n",
       "621          0             0  0.031958  \n",
       "\n",
       "[5 rows x 105 columns]"
      ]
     },
     "execution_count": 44,
     "metadata": {},
     "output_type": "execute_result"
    }
   ],
   "source": [
    "#Creating the recommender system for teams\n",
    "\n",
    "teams = df20.sort_values(by =['overall'],ascending = False)\n",
    "teams.head()"
   ]
  },
  {
   "cell_type": "code",
   "execution_count": 50,
   "metadata": {},
   "outputs": [],
   "source": [
    "teams_sample = pd.DataFrame(columns = [\"overall\", \"pace\", \"shooting\", \"passing\", \"dribbling\", \"defending\", \"physic\", \"team\"])"
   ]
  },
  {
   "cell_type": "code",
   "execution_count": 51,
   "metadata": {},
   "outputs": [],
   "source": [
    "\n",
    "sample = df20.sort_values(by=['overall'], ascending=False)\n",
    "new_sample = pd.DataFrame(columns = [\"overall\", \"pace\", \"shooting\", \"passing\", \"dribbling\", \"defending\", \"physic\", \"team\"])\n",
    "for club in sample['club'].unique():\n",
    "    overall = sample[sample['club']==club][0:24]['overall'].median()\n",
    "    pace = sample[sample['club']==club][0:24]['pace'].median()\n",
    "    shooting = sample[sample['club']==club][0:24]['shooting'].median()\n",
    "    passing = sample[sample['club']==club][0:24]['passing'].median()\n",
    "    dribbling = sample[sample['club']==club][0:24]['dribbling'].median()\n",
    "    defending = sample[sample['club']==club][0:24]['defending'].median()\n",
    "    physic = sample[sample['club']==club][0:24]['physic'].median()\n",
    "    team = club\n",
    "    data = [overall, pace, shooting, passing, dribbling, defending, physic, team]\n",
    "    df_length = len(new_sample)\n",
    "    new_sample.loc[df_length] = data"
   ]
  },
  {
   "cell_type": "code",
   "execution_count": 52,
   "metadata": {},
   "outputs": [],
   "source": [
    "new_sample.fillna(0,inplace = True)"
   ]
  },
  {
   "cell_type": "code",
   "execution_count": 53,
   "metadata": {},
   "outputs": [],
   "source": [
    "scaled = StandardScaler()\n",
    "X = scaled.fit_transform(new_sample.iloc[:,0:7])\n",
    "recommendations = NearestNeighbors(n_neighbors=5,algorithm='kd_tree')\n",
    "recommendations.fit(X)\n",
    "club_index = recommendations.kneighbors(X)[1]"
   ]
  },
  {
   "cell_type": "code",
   "execution_count": 54,
   "metadata": {},
   "outputs": [],
   "source": [
    "def get_index(x):\n",
    "    return new_sample[new_sample['team']==x].index.tolist()[0]\n",
    "\n",
    "# Fetch 5 indexes of similar players\n",
    "def recommend_similar(club):\n",
    "    print(\"These are 3 clubs similar to {} : \".format(club))\n",
    "    index=  get_index(club)\n",
    "    for i in club_index[index][1:]:\n",
    "        print(\"Name: {}\\nOverall: {}\\nPace: {}\\nShooting: {}\\nPassing: {}\\nDribbling: {}\\nDefending: {}\\n\".format(new_sample.iloc[i]['team'],new_sample.iloc[i]['overall'],new_sample.iloc[i]['pace'],new_sample.iloc[i]['shooting'],new_sample.iloc[i]['passing'],new_sample.iloc[i]['dribbling'],new_sample.iloc[i]['defending']))"
   ]
  },
  {
   "cell_type": "code",
   "execution_count": 61,
   "metadata": {},
   "outputs": [
    {
     "name": "stdout",
     "output_type": "stream",
     "text": [
      "These are 3 clubs similar to Liverpool : \n",
      "Name: Borussia Dortmund\n",
      "Overall: 81.5\n",
      "Pace: 77.0\n",
      "Shooting: 70.0\n",
      "Passing: 75.0\n",
      "Dribbling: 79.0\n",
      "Defending: 68.0\n",
      "\n",
      "Name: Paris Saint-Germain\n",
      "Overall: 82.0\n",
      "Pace: 75.0\n",
      "Shooting: 67.0\n",
      "Passing: 73.0\n",
      "Dribbling: 78.0\n",
      "Defending: 72.0\n",
      "\n",
      "Name: Manchester City\n",
      "Overall: 84.0\n",
      "Pace: 76.0\n",
      "Shooting: 68.0\n",
      "Passing: 78.0\n",
      "Dribbling: 81.0\n",
      "Defending: 72.0\n",
      "\n",
      "Name: Tottenham Hotspur\n",
      "Overall: 80.5\n",
      "Pace: 74.5\n",
      "Shooting: 65.0\n",
      "Passing: 74.5\n",
      "Dribbling: 78.5\n",
      "Defending: 71.5\n",
      "\n"
     ]
    }
   ],
   "source": [
    "recommend_similar('Liverpool')"
   ]
  },
  {
   "cell_type": "code",
   "execution_count": null,
   "metadata": {},
   "outputs": [],
   "source": []
  }
 ],
 "metadata": {
  "kernelspec": {
   "display_name": "Python 3",
   "language": "python",
   "name": "python3"
  },
  "language_info": {
   "codemirror_mode": {
    "name": "ipython",
    "version": 3
   },
   "file_extension": ".py",
   "mimetype": "text/x-python",
   "name": "python",
   "nbconvert_exporter": "python",
   "pygments_lexer": "ipython3",
   "version": "3.8.3"
  }
 },
 "nbformat": 4,
 "nbformat_minor": 4
}
